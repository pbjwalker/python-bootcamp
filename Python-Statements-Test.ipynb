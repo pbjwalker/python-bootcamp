{
 "cells": [
  {
   "cell_type": "code",
   "execution_count": 1,
   "id": "9a72e510",
   "metadata": {},
   "outputs": [],
   "source": [
    "# Python Statements Test"
   ]
  },
  {
   "cell_type": "code",
   "execution_count": 47,
   "id": "192d6f7e",
   "metadata": {},
   "outputs": [
    {
     "name": "stdout",
     "output_type": "stream",
     "text": [
      "Starting statement is: ['Print', 'only', 'the', 'words', 'that', 'start', 'with', 's', 'in', 'this', 'sentance']\n",
      "New statement with only words that begin with 's':  ['start', 's', 'sentance']\n",
      "\n",
      "\n",
      "This works, but the question didn't ask to create a list, only a statement.\n",
      "This is all the code that was needed to accomplish the goal...\n",
      "start\n",
      "s\n",
      "sentance\n"
     ]
    }
   ],
   "source": [
    "# Use for, .split(), and if to create a Statement that will print out words that start with 's':\n",
    "\n",
    "st = 'Print only the words that start with s in this sentance'\n",
    "statement = []\n",
    "\n",
    "working = st.split()\n",
    "print(\"Starting statement is:\",working)\n",
    "\n",
    "for word in working:\n",
    "    if word[0] =='s':\n",
    "        statement.append(word)\n",
    "\n",
    "print(\"New statement with only words that begin with 's': \",statement)\n",
    "\n",
    "\n",
    "print(\"\\n\\nThis works, but the question didn't ask to create a list, only a statement.\")\n",
    "print(\"This is all the code that was needed to accomplish the goal...\")\n",
    "# although .lower() was added in the comparison so if there was either 's' or 'S' it would work\n",
    "for word in st.split():\n",
    "    if word[0].lower() == 's':\n",
    "        print(word)"
   ]
  },
  {
   "cell_type": "code",
   "execution_count": 48,
   "id": "802f85c9",
   "metadata": {},
   "outputs": [
    {
     "name": "stdout",
     "output_type": "stream",
     "text": [
      "0\n",
      "2\n",
      "4\n",
      "6\n",
      "8\n",
      "10\n",
      "0\n",
      "2\n",
      "4\n",
      "6\n",
      "8\n",
      "10\n"
     ]
    }
   ],
   "source": [
    "# Use range() to print all the even numbers from 0 to 10\n",
    "\n",
    "for number in range(11):\n",
    "    if number%2 == 0:\n",
    "        print(number)\n",
    "        \n",
    "# Here's a better way to do it:\n",
    "\n",
    "for num in range(0,11,2):\n",
    "    print(num)"
   ]
  },
  {
   "cell_type": "code",
   "execution_count": 50,
   "id": "3a22d9ba",
   "metadata": {},
   "outputs": [
    {
     "name": "stdout",
     "output_type": "stream",
     "text": [
      "[3, 6, 9, 12, 15, 18, 21, 24, 27, 30, 33, 36, 39, 42, 45, 48]\n"
     ]
    },
    {
     "data": {
      "text/plain": [
       "[3, 6, 9, 12, 15, 18, 21, 24, 27, 30, 33, 36, 39, 42, 45, 48]"
      ]
     },
     "execution_count": 50,
     "metadata": {},
     "output_type": "execute_result"
    }
   ],
   "source": [
    "# Use a List Comprehension to create a list of all numbers between 1 and 50 that are divisible by 3\n",
    "\n",
    "mylist = [x for x in range(1,51) if x%3==0]\n",
    "print(mylist)\n",
    "\n",
    "# You could also just run the list comprehension part in the cell\n",
    "\n",
    "[x for x in range(1,51) if x%3==0]"
   ]
  },
  {
   "cell_type": "code",
   "execution_count": 51,
   "id": "9bf33731",
   "metadata": {},
   "outputs": [
    {
     "name": "stdout",
     "output_type": "stream",
     "text": [
      "['word', 'in', 'this', 'sentance', 'that', 'an', 'even', 'number', 'of']\n",
      "word\n",
      "in\n",
      "this\n",
      "sentance\n",
      "that\n",
      "an\n",
      "even\n",
      "number\n",
      "of\n"
     ]
    }
   ],
   "source": [
    "# Go through the string below and if the length of a word is even, print \"even!\"\n",
    "\n",
    "st = 'Print every word in this sentance that has an even number of letters'\n",
    "\n",
    "words = st.split()\n",
    "wordlist = [x for x in words if len(x)%2==0]\n",
    "print(wordlist)\n",
    "\n",
    "# Again, same as the first question, it didn't ask to create a list\n",
    "for word in st.split():\n",
    "    if len(word) % 2 == 0:\n",
    "        print(word)"
   ]
  },
  {
   "cell_type": "code",
   "execution_count": 34,
   "id": "8f3c61f9",
   "metadata": {},
   "outputs": [
    {
     "name": "stdout",
     "output_type": "stream",
     "text": [
      "[1, 2, 'Fizz', 4, 'Buzz', 'Fizz', 7, 8, 'Fizz', 'Buzz', 11, 'Fizz', 13, 14, 'FizzBuzz', 16, 17, 'Fizz', 19, 'Buzz', 'Fizz', 22, 23, 'Fizz', 'Buzz', 26, 'Fizz', 28, 29, 'FizzBuzz', 31, 32, 'Fizz', 34, 'Buzz', 'Fizz', 37, 38, 'Fizz', 'Buzz', 41, 'Fizz', 43, 44, 'FizzBuzz', 46, 47, 'Fizz', 49, 'Buzz', 'Fizz', 52, 53, 'Fizz', 'Buzz', 56, 'Fizz', 58, 59, 'FizzBuzz', 61, 62, 'Fizz', 64, 'Buzz', 'Fizz', 67, 68, 'Fizz', 'Buzz', 71, 'Fizz', 73, 74, 'FizzBuzz', 76, 77, 'Fizz', 79, 'Buzz', 'Fizz', 82, 83, 'Fizz', 'Buzz', 86, 'Fizz', 88, 89, 'FizzBuzz', 91, 92, 'Fizz', 94, 'Buzz', 'Fizz', 97, 98, 'Fizz', 'Buzz']\n"
     ]
    }
   ],
   "source": [
    "# Write a program that prints the integers from 1 to 100.\n",
    "# But for multiples of three print \"Fizz\" instead of that number.\n",
    "# And for multiples of five print \"Buzz\".\n",
    "# For numbers which are multiples of both three and five print \"FizzBuzz\"\n",
    "\n",
    "numbers = list(range(1,101))\n",
    "FizzBuzzNumbers = []\n",
    "for x in numbers:\n",
    "    if x%3==0 and x%5==0:\n",
    "        FizzBuzzNumbers.append('FizzBuzz')\n",
    "    elif x%3==0:\n",
    "        FizzBuzzNumbers.append('Fizz')\n",
    "    elif x%5==0:\n",
    "        FizzBuzzNumbers.append('Buzz')\n",
    "    else:\n",
    "        FizzBuzzNumbers.append(x)\n",
    "\n",
    "print(FizzBuzzNumbers)\n",
    "        \n",
    "    "
   ]
  },
  {
   "cell_type": "code",
   "execution_count": 55,
   "id": "ed15e9a2",
   "metadata": {},
   "outputs": [
    {
     "name": "stdout",
     "output_type": "stream",
     "text": [
      "['C', 'a', 'l', 'o', 't', 'f', 'l', 'o', 'e', 'w', 'i', 't', 's']\n"
     ]
    },
    {
     "data": {
      "text/plain": [
       "['C', 'a', 'l', 'o', 't', 'f', 'l', 'o', 'e', 'w', 'i', 't', 's']"
      ]
     },
     "execution_count": 55,
     "metadata": {},
     "output_type": "execute_result"
    }
   ],
   "source": [
    "# Use List Comprehension to create a list of the first letters of every word in the string below:\n",
    "\n",
    "st = 'Create a list of the first letters of every word in this string'\n",
    "newstring = st.split()\n",
    "\n",
    "newlist = [x[0] for x in newstring]\n",
    "print(newlist)\n",
    "\n",
    "# Could have done this with just one line\n",
    "[word[0] for word in st.split()]\n"
   ]
  },
  {
   "cell_type": "code",
   "execution_count": null,
   "id": "cd0b356e",
   "metadata": {},
   "outputs": [],
   "source": []
  }
 ],
 "metadata": {
  "kernelspec": {
   "display_name": "Python 3 (ipykernel)",
   "language": "python",
   "name": "python3"
  },
  "language_info": {
   "codemirror_mode": {
    "name": "ipython",
    "version": 3
   },
   "file_extension": ".py",
   "mimetype": "text/x-python",
   "name": "python",
   "nbconvert_exporter": "python",
   "pygments_lexer": "ipython3",
   "version": "3.9.13"
  }
 },
 "nbformat": 4,
 "nbformat_minor": 5
}
