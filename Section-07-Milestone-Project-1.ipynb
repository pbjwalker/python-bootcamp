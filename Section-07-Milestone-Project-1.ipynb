{
 "cells": [
  {
   "cell_type": "markdown",
   "id": "cc5a1e4f",
   "metadata": {},
   "source": [
    "<strong>59 - Milestone Project 1</strong>"
   ]
  },
  {
   "cell_type": "code",
   "execution_count": 2,
   "id": "7cc123d7",
   "metadata": {},
   "outputs": [],
   "source": [
    "# Warmup exercises to create a Tic-Tac-Toe game"
   ]
  },
  {
   "cell_type": "code",
   "execution_count": 3,
   "id": "19b4fece",
   "metadata": {},
   "outputs": [],
   "source": [
    "# Most interactive programs work on this logic:\n",
    "# - Display something visual to the user\n",
    "# - Let the user update through an interaction\n",
    "# - Update variables in the program\n",
    "# - Display updated visual"
   ]
  },
  {
   "cell_type": "markdown",
   "id": "641a2084",
   "metadata": {},
   "source": [
    "<strong>60 - Displaying Information</strong>"
   ]
  },
  {
   "cell_type": "code",
   "execution_count": 4,
   "id": "f03bc070",
   "metadata": {},
   "outputs": [
    {
     "name": "stdout",
     "output_type": "stream",
     "text": [
      "[1, 2, 3]\n",
      "[4, 5, 6]\n",
      "[7, 8, 9]\n"
     ]
    }
   ],
   "source": [
    "# printing lists example\n",
    "\n",
    "print([1,2,3])\n",
    "print([4,5,6])\n",
    "print([7,8,9])"
   ]
  },
  {
   "cell_type": "code",
   "execution_count": 12,
   "id": "d444299a",
   "metadata": {},
   "outputs": [],
   "source": [
    "# no need to write this code over and over.\n",
    "# make it a function\n",
    "\n",
    "def display(row1,row2,row3):\n",
    "    print(row1)\n",
    "    print(row2)\n",
    "    print(row3)"
   ]
  },
  {
   "cell_type": "code",
   "execution_count": 13,
   "id": "1c88eba3",
   "metadata": {},
   "outputs": [
    {
     "name": "stdout",
     "output_type": "stream",
     "text": [
      "[' ', ' ', ' ']\n",
      "[' ', ' ', ' ']\n",
      "[' ', ' ', ' ']\n"
     ]
    }
   ],
   "source": [
    "row1 = [' ',' ',' ']\n",
    "row2 = [' ',' ',' ']\n",
    "row3 = [' ',' ',' ']\n",
    "\n",
    "display(row1,row1,row1)"
   ]
  },
  {
   "cell_type": "code",
   "execution_count": 14,
   "id": "10b8fc6c",
   "metadata": {},
   "outputs": [],
   "source": [
    "row2[1] = 'X'"
   ]
  },
  {
   "cell_type": "code",
   "execution_count": 17,
   "id": "dbb8e132",
   "metadata": {},
   "outputs": [
    {
     "name": "stdout",
     "output_type": "stream",
     "text": [
      "[' ', ' ', ' ']\n",
      "[' ', 'X', ' ']\n",
      "[' ', ' ', ' ']\n"
     ]
    }
   ],
   "source": [
    "display(row1,row2,row3)"
   ]
  },
  {
   "cell_type": "code",
   "execution_count": 16,
   "id": "aa92f98d",
   "metadata": {},
   "outputs": [
    {
     "data": {
      "text/plain": [
       "[' ', 'X', ' ']"
      ]
     },
     "execution_count": 16,
     "metadata": {},
     "output_type": "execute_result"
    }
   ],
   "source": [
    "row2"
   ]
  },
  {
   "cell_type": "markdown",
   "id": "7879d19b",
   "metadata": {},
   "source": [
    "<strong>61 - Accepting User Input</strong>"
   ]
  },
  {
   "cell_type": "code",
   "execution_count": 24,
   "id": "936ec174",
   "metadata": {},
   "outputs": [
    {
     "name": "stdout",
     "output_type": "stream",
     "text": [
      "Choose an index position: 3\n"
     ]
    }
   ],
   "source": [
    "result = input(\"Choose an index position: \")\n",
    "\n",
    "# need to validate the result is a number before treating it as a number\n",
    "\n",
    "position_index = int(result)"
   ]
  },
  {
   "cell_type": "code",
   "execution_count": 25,
   "id": "cb84fac4",
   "metadata": {},
   "outputs": [
    {
     "data": {
      "text/plain": [
       "3"
      ]
     },
     "execution_count": 25,
     "metadata": {},
     "output_type": "execute_result"
    }
   ],
   "source": [
    "position_index"
   ]
  },
  {
   "cell_type": "code",
   "execution_count": 26,
   "id": "5b4635da",
   "metadata": {},
   "outputs": [
    {
     "data": {
      "text/plain": [
       "int"
      ]
     },
     "execution_count": 26,
     "metadata": {},
     "output_type": "execute_result"
    }
   ],
   "source": [
    "type(position_index)"
   ]
  },
  {
   "cell_type": "markdown",
   "id": "0fa2bac0",
   "metadata": {},
   "source": [
    "<strong>62 - Validating User Input</strong>"
   ]
  },
  {
   "cell_type": "code",
   "execution_count": 38,
   "id": "b8ef8cfd",
   "metadata": {},
   "outputs": [],
   "source": [
    "def user_choice():\n",
    "    choice = 0\n",
    "    while True:\n",
    "        # first time in a very long time I'm using 'try:except:else'\n",
    "        try:\n",
    "            choice = int(input(\"Please enter a number (0-10): \"))\n",
    "        except ValueError:\n",
    "            print('Not a number! Try again!')\n",
    "            continue\n",
    "        else:\n",
    "            break\n",
    "    \n",
    "    return int(choice)"
   ]
  },
  {
   "cell_type": "code",
   "execution_count": 47,
   "id": "f23be98c",
   "metadata": {},
   "outputs": [
    {
     "name": "stdout",
     "output_type": "stream",
     "text": [
      "Please enter a number (0-10): 3\n",
      "3 is a valid move!\n",
      "Moves available:  [0, 1, 2, 4, 5, 6, 7, 8, 9]\n",
      "Please enter a number (0-10): 2\n",
      "2 is a valid move!\n",
      "Moves available:  [0, 1, 4, 5, 6, 7, 8, 9]\n",
      "Please enter a number (0-10): 4\n",
      "4 is a valid move!\n",
      "Moves available:  [0, 1, 5, 6, 7, 8, 9]\n",
      "Please enter a number (0-10): 5\n",
      "5 is a valid move!\n",
      "Moves available:  [0, 1, 6, 7, 8, 9]\n",
      "Please enter a number (0-10): 8\n",
      "8 is a valid move!\n",
      "Moves available:  [0, 1, 6, 7, 9]\n",
      "Please enter a number (0-10): 9\n",
      "9 is a valid move!\n",
      "Moves available:  [0, 1, 6, 7]\n",
      "Please enter a number (0-10): 2\n",
      "That is not a valid move!\n",
      "Please enter a number (0-10): 1\n",
      "1 is a valid move!\n",
      "Moves available:  [0, 6, 7]\n",
      "Please enter a number (0-10): 0\n",
      "0 is a valid move!\n",
      "Moves available:  [6, 7]\n",
      "Please enter a number (0-10): 6\n",
      "6 is a valid move!\n",
      "Moves available:  [7]\n",
      "Please enter a number (0-10): 7\n",
      "7 is a valid move!\n",
      "Moves available:  []\n",
      "Game is over\n"
     ]
    }
   ],
   "source": [
    "def user_choice():\n",
    "    choice = 0\n",
    "    while True:\n",
    "        # first time in a very long time I'm using 'try:except:else'\n",
    "        try:\n",
    "            choice = int(input(\"Please enter a number (0-10): \"))\n",
    "        except ValueError:\n",
    "            print('Not a number! Try again!')\n",
    "            continue\n",
    "        else:\n",
    "            break\n",
    "    \n",
    "    return int(choice)\n",
    "\n",
    "\n",
    "# This is the main cell of the game\n",
    "# Each valid move is removed from the list of valid moves\n",
    "# Once there are no more moves, the game stops\n",
    "# It uses the user_choice() function to get an integer from the user\n",
    "\n",
    "move = 0\n",
    "valid_moves = [0,1,2,3,4,5,6,7,8,9]\n",
    "\n",
    "\n",
    "while len(valid_moves) > 0:\n",
    "    \n",
    "    while True:\n",
    "        move = user_choice()\n",
    "        if move in valid_moves:\n",
    "            print(f'{move} is a valid move!')\n",
    "            valid_moves.pop(valid_moves.index(move)) # Checks the index position of the move, then pops it out of the list\n",
    "            break\n",
    "        else:\n",
    "            print('That is not a valid move!')\n",
    "            \n",
    "    print(f'Moves available:  {valid_moves}')\n",
    "\n",
    "print('Game is over')\n",
    "\n"
   ]
  },
  {
   "cell_type": "code",
   "execution_count": 40,
   "id": "4aa7e8f4",
   "metadata": {},
   "outputs": [],
   "source": [
    "valid_moves = [0,1,2,3,4,5,6,7,8,9]"
   ]
  },
  {
   "cell_type": "code",
   "execution_count": 41,
   "id": "8a62370a",
   "metadata": {},
   "outputs": [
    {
     "data": {
      "text/plain": [
       "3"
      ]
     },
     "execution_count": 41,
     "metadata": {},
     "output_type": "execute_result"
    }
   ],
   "source": [
    "valid_moves.index(3)"
   ]
  },
  {
   "cell_type": "code",
   "execution_count": 43,
   "id": "34df8463",
   "metadata": {},
   "outputs": [
    {
     "data": {
      "text/plain": [
       "3"
      ]
     },
     "execution_count": 43,
     "metadata": {},
     "output_type": "execute_result"
    }
   ],
   "source": [
    "valid_moves.pop(3)"
   ]
  },
  {
   "cell_type": "code",
   "execution_count": 44,
   "id": "da4f3b0e",
   "metadata": {},
   "outputs": [
    {
     "data": {
      "text/plain": [
       "[0, 1, 2, 4, 5, 6, 7, 8, 9]"
      ]
     },
     "execution_count": 44,
     "metadata": {},
     "output_type": "execute_result"
    }
   ],
   "source": [
    "valid_moves"
   ]
  },
  {
   "cell_type": "code",
   "execution_count": 46,
   "id": "cce07e51",
   "metadata": {},
   "outputs": [
    {
     "data": {
      "text/plain": [
       "5"
      ]
     },
     "execution_count": 46,
     "metadata": {},
     "output_type": "execute_result"
    }
   ],
   "source": [
    "valid_moves.index(6)"
   ]
  },
  {
   "cell_type": "code",
   "execution_count": 76,
   "id": "98d4faca",
   "metadata": {},
   "outputs": [
    {
     "name": "stdout",
     "output_type": "stream",
     "text": [
      "Please enter a number (0-9): 1\n",
      "Thanks!\n"
     ]
    }
   ],
   "source": [
    "# Here's another way to do it\n",
    "\n",
    "def check_num(num):\n",
    "    return num.isdigit()\n",
    "\n",
    "def check_move(move,valid_moves):\n",
    "    return (move in valid_moves)\n",
    "\n",
    "\n",
    "\n",
    "# Main Body of the Code\n",
    "valid_moves = [0,1,2,3,4,5,6,7,8,9]\n",
    "\n",
    "while True:\n",
    "    user_num = input(\"Please enter a number (0-9): \")\n",
    "    if check_num(user_num):\n",
    "        num = int(user_num)\n",
    "        \n",
    "        if check_move(num,valid_moves):\n",
    "            valid_moves.pop(valid_moves.index(num))\n",
    "            print(\"Thanks!\")\n",
    "            break\n",
    "        else:\n",
    "            print('Invalid move')\n",
    "            continue\n"
   ]
  },
  {
   "cell_type": "code",
   "execution_count": 77,
   "id": "a160d380",
   "metadata": {},
   "outputs": [
    {
     "data": {
      "text/plain": [
       "[0, 2, 3, 4, 5, 6, 7, 8, 9]"
      ]
     },
     "execution_count": 77,
     "metadata": {},
     "output_type": "execute_result"
    }
   ],
   "source": [
    "valid_moves"
   ]
  },
  {
   "cell_type": "code",
   "execution_count": 81,
   "id": "ed222d1f",
   "metadata": {},
   "outputs": [],
   "source": [
    "# Another way to do it\n",
    "# Portions from the instructor video\n",
    "\n",
    "def user_choice():\n",
    "    \n",
    "    choice = 'WRONG'\n",
    "    \n",
    "    while choice.isdigit() == False:\n",
    "        \n",
    "        choice = input('Please enter a number (0-10): ')\n",
    "        \n",
    "        if choice.isdigit() == False:\n",
    "            print('Sorry that is not a digit!')\n",
    "            \n",
    "    return int(choice)\n",
    "\n"
   ]
  },
  {
   "cell_type": "code",
   "execution_count": 84,
   "id": "271999d1",
   "metadata": {},
   "outputs": [
    {
     "name": "stdout",
     "output_type": "stream",
     "text": [
      "Please enter a number (0-10): e\n",
      "Sorry that is not a digit!\n",
      "Please enter a number (0-10): 3\n"
     ]
    },
    {
     "data": {
      "text/plain": [
       "3"
      ]
     },
     "execution_count": 84,
     "metadata": {},
     "output_type": "execute_result"
    }
   ],
   "source": [
    "user_choice()"
   ]
  },
  {
   "cell_type": "code",
   "execution_count": 85,
   "id": "e924fce5",
   "metadata": {},
   "outputs": [],
   "source": [
    "result = 'WRONG VALUE'\n",
    "\n",
    "acceptable_values = [0,1,2]"
   ]
  },
  {
   "cell_type": "code",
   "execution_count": 86,
   "id": "fa094798",
   "metadata": {},
   "outputs": [
    {
     "data": {
      "text/plain": [
       "False"
      ]
     },
     "execution_count": 86,
     "metadata": {},
     "output_type": "execute_result"
    }
   ],
   "source": [
    "result in acceptable_values"
   ]
  },
  {
   "cell_type": "code",
   "execution_count": 87,
   "id": "4ddf44ad",
   "metadata": {},
   "outputs": [
    {
     "data": {
      "text/plain": [
       "True"
      ]
     },
     "execution_count": 87,
     "metadata": {},
     "output_type": "execute_result"
    }
   ],
   "source": [
    "result not in acceptable_values"
   ]
  },
  {
   "cell_type": "code",
   "execution_count": 88,
   "id": "6daf9b1e",
   "metadata": {},
   "outputs": [],
   "source": [
    "\n",
    "# Portions from the instructor video\n",
    "\n",
    "def user_choice():\n",
    "    \n",
    "    # INITIAL VALUES\n",
    "    choice = 'WRONG'\n",
    "    acceptable_range = range(0,10)\n",
    "    within_range = False\n",
    "    \n",
    "    # TWO CONDITIONS TO CHECK\n",
    "    # Keep asking is it a digit and is it within range == False\n",
    "    \n",
    "    \n",
    "    while choice.isdigit() == False or within_range == False:\n",
    "        \n",
    "        choice = input('Please enter a number (0-10): ')\n",
    "        \n",
    "        # DIGIT CHECK\n",
    "        if choice.isdigit() == False:\n",
    "            print('Sorry that is not a digit!')\n",
    "        \n",
    "        # RANGE CHECK\n",
    "        if choice.isdigit() == True: # same thing as saying, if choice.isdigit():\n",
    "            if int(choice) in acceptable_range:\n",
    "                within_range = True\n",
    "            else:\n",
    "                print('Sorry you are out of acceptable range (0-10)')\n",
    "                within_range = False\n",
    "            \n",
    "    return int(choice)"
   ]
  },
  {
   "cell_type": "code",
   "execution_count": 89,
   "id": "cdee9b28",
   "metadata": {},
   "outputs": [
    {
     "name": "stdout",
     "output_type": "stream",
     "text": [
      "Please enter a number (0-10): 11\n",
      "Sorry you are out of acceptable range (0-10)\n",
      "Please enter a number (0-10): r\n",
      "Sorry that is not a digit!\n",
      "Please enter a number (0-10): 4\n"
     ]
    },
    {
     "data": {
      "text/plain": [
       "4"
      ]
     },
     "execution_count": 89,
     "metadata": {},
     "output_type": "execute_result"
    }
   ],
   "source": [
    "user_choice()"
   ]
  },
  {
   "cell_type": "markdown",
   "id": "b484b2d7",
   "metadata": {},
   "source": [
    "<strong>63 - Simple User Interaction</strong>"
   ]
  },
  {
   "cell_type": "code",
   "execution_count": 91,
   "id": "631c8eac",
   "metadata": {},
   "outputs": [],
   "source": [
    "# This program will:\n",
    "# - Display a list\n",
    "# - Have user choose an index position and a value\n",
    "# - Replace value at index position with user's chosen value"
   ]
  },
  {
   "cell_type": "code",
   "execution_count": 100,
   "id": "3ec266c1",
   "metadata": {},
   "outputs": [],
   "source": [
    "def clear_output():\n",
    "    print('\\n' * 10)"
   ]
  },
  {
   "cell_type": "code",
   "execution_count": 101,
   "id": "af2828c9",
   "metadata": {},
   "outputs": [
    {
     "name": "stdout",
     "output_type": "stream",
     "text": [
      "\n",
      "\n",
      "\n",
      "\n",
      "\n",
      "\n",
      "\n",
      "\n",
      "\n",
      "\n",
      "\n"
     ]
    }
   ],
   "source": [
    "clear_output()"
   ]
  },
  {
   "cell_type": "code",
   "execution_count": 102,
   "id": "9fcbcaea",
   "metadata": {},
   "outputs": [],
   "source": [
    "# This is the code from the instructor...\n",
    "\n",
    "game_list = [0,1,2]\n"
   ]
  },
  {
   "cell_type": "code",
   "execution_count": 103,
   "id": "caf6e244",
   "metadata": {},
   "outputs": [],
   "source": [
    "def display_game(game_list):\n",
    "    print('Here is the current list')\n",
    "    print(game_list)"
   ]
  },
  {
   "cell_type": "code",
   "execution_count": 104,
   "id": "50dc3598",
   "metadata": {},
   "outputs": [
    {
     "name": "stdout",
     "output_type": "stream",
     "text": [
      "Here is the current list\n",
      "[0, 1, 2]\n"
     ]
    }
   ],
   "source": [
    "display_game(game_list)"
   ]
  },
  {
   "cell_type": "code",
   "execution_count": 109,
   "id": "d6d418fb",
   "metadata": {},
   "outputs": [],
   "source": [
    "def position_choice():\n",
    "    \n",
    "    # This original choice value can be anything that isn't an integer\n",
    "    choice = 'wrong'\n",
    "    \n",
    "    # While the choice is not a digit, keep asking for input.\n",
    "    while choice not in ['0','1','2']:\n",
    "        \n",
    "        # We shouldn't convert here, otherwise we get an error on a wrong input\n",
    "        choice = input(\"Pick a positoin to replace (0,1,2)\")\n",
    "        \n",
    "        if choice not in ['0','1','2']:\n",
    "            # THIS CLEARS THE CURRENT OUTPUT BELOW THE CELL\n",
    "            # clear_output()  # and I think this is specific to Jupyter Notebook, doesn't work for Python\n",
    "            # This actually doesn't work with my version of Jupyter Notebook\n",
    "            \n",
    "            print(\"Sorry, but you did not choose a valid position (0,1,2)\")\n",
    "            \n",
    "    # Optionally you can clear everything after running the function\n",
    "    # clear_output()\n",
    "    \n",
    "    # We can convert once the while loop above has confirmed we have  adigit.\n",
    "    return int(choice)"
   ]
  },
  {
   "cell_type": "code",
   "execution_count": 110,
   "id": "34c4fc16",
   "metadata": {},
   "outputs": [],
   "source": [
    "def replacement_choice(game_list,position):\n",
    "    \n",
    "    user_placement = input('Type a string to place at the position')\n",
    "    \n",
    "    game_list[position] = user_placement\n",
    "    \n",
    "    return game_list"
   ]
  },
  {
   "cell_type": "code",
   "execution_count": 111,
   "id": "e61470ee",
   "metadata": {},
   "outputs": [],
   "source": [
    "def gameon_choice():\n",
    "    \n",
    "    # This original choice value can be anything that isn't a Y or N\n",
    "    choice = 'wrong'\n",
    "    \n",
    "    # While the choice is not 'Y' or 'N', keep asking for input.\n",
    "    while choice not in ['Y','N','y','n']:\n",
    "        \n",
    "        # Ask for the choice\n",
    "        choice = input('Would you like to keep playing? Y or N ')\n",
    "        \n",
    "        if choice not in ['Y','N','y','n']:\n",
    "            # THIS CLEARS THE CURRENT OUTPUT BELOW THE CELL\n",
    "            # clear_output()\n",
    "            \n",
    "            print(\"Sorry, I didn't understand. Please choose Y or n.\")\n",
    "            \n",
    "    # Optionally you can clear everything after running the function\n",
    "    # clear_output()\n",
    "    \n",
    "    if choice == 'Y' or choice == 'y':\n",
    "        # Game is still on\n",
    "        return True\n",
    "    else:\n",
    "        # Game is over\n",
    "        return False"
   ]
  },
  {
   "cell_type": "code",
   "execution_count": 113,
   "id": "365435a2",
   "metadata": {},
   "outputs": [
    {
     "name": "stdout",
     "output_type": "stream",
     "text": [
      "Here is the current list\n",
      "[0, 1, 2]\n",
      "Pick a positoin to replace (0,1,2)1\n",
      "Type a string to place at the position1\n",
      "Here is the current list\n",
      "[0, '1', 2]\n",
      "Would you like to keep playing? Y or N n\n"
     ]
    }
   ],
   "source": [
    "# Variable to keep game playing\n",
    "game_on = True\n",
    "\n",
    "# First Game list\n",
    "game_list = [0,1,2]\n",
    "\n",
    "while game_on:\n",
    "    \n",
    "    # Clear any historical output and show the game list\n",
    "    # clear_output()\n",
    "    display_game(game_list)\n",
    "    \n",
    "    # Have player choose position\n",
    "    position = position_choice()\n",
    "    \n",
    "    # Rewrite that position and update game_list\n",
    "    game_list = replacement_choice(game_list,position)\n",
    "    \n",
    "    # Clear screen and show the updated game list\n",
    "    # clear_output()\n",
    "    display_game(game_list)\n",
    "    \n",
    "    # Ask if you want to keep playing\n",
    "    game_on = gameon_choice()\n",
    "    "
   ]
  },
  {
   "cell_type": "code",
   "execution_count": null,
   "id": "a918fc34",
   "metadata": {},
   "outputs": [],
   "source": []
  },
  {
   "cell_type": "code",
   "execution_count": null,
   "id": "3df96311",
   "metadata": {},
   "outputs": [],
   "source": []
  },
  {
   "cell_type": "code",
   "execution_count": null,
   "id": "b9472cf2",
   "metadata": {},
   "outputs": [],
   "source": []
  },
  {
   "cell_type": "code",
   "execution_count": null,
   "id": "a62ac2d8",
   "metadata": {},
   "outputs": [],
   "source": []
  },
  {
   "cell_type": "code",
   "execution_count": null,
   "id": "3185c14e",
   "metadata": {},
   "outputs": [],
   "source": []
  },
  {
   "cell_type": "code",
   "execution_count": null,
   "id": "53381624",
   "metadata": {},
   "outputs": [],
   "source": []
  },
  {
   "cell_type": "code",
   "execution_count": null,
   "id": "c3cb960d",
   "metadata": {},
   "outputs": [],
   "source": []
  },
  {
   "cell_type": "code",
   "execution_count": null,
   "id": "1c0082b9",
   "metadata": {},
   "outputs": [],
   "source": []
  },
  {
   "cell_type": "code",
   "execution_count": null,
   "id": "6fdcb6d4",
   "metadata": {},
   "outputs": [],
   "source": []
  },
  {
   "cell_type": "code",
   "execution_count": null,
   "id": "b7360fda",
   "metadata": {},
   "outputs": [],
   "source": []
  },
  {
   "cell_type": "code",
   "execution_count": null,
   "id": "837eed72",
   "metadata": {},
   "outputs": [],
   "source": []
  },
  {
   "cell_type": "code",
   "execution_count": 114,
   "id": "ab661356",
   "metadata": {},
   "outputs": [],
   "source": [
    "# More from the instructor\n",
    "# This is the game logic"
   ]
  },
  {
   "cell_type": "code",
   "execution_count": 115,
   "id": "27c9b0c8",
   "metadata": {},
   "outputs": [],
   "source": [
    "game_list = [0,1,2]"
   ]
  },
  {
   "cell_type": "code",
   "execution_count": 116,
   "id": "eae63450",
   "metadata": {},
   "outputs": [],
   "source": [
    "def display_game(game_list):\n",
    "    print('Here is the current list: ')\n",
    "    print(game_list)\n",
    "    "
   ]
  },
  {
   "cell_type": "code",
   "execution_count": 117,
   "id": "26441b16",
   "metadata": {},
   "outputs": [
    {
     "name": "stdout",
     "output_type": "stream",
     "text": [
      "Here is the current list: \n",
      "[0, 1, 2]\n"
     ]
    }
   ],
   "source": [
    "display_game(game_list)"
   ]
  },
  {
   "cell_type": "code",
   "execution_count": 118,
   "id": "8ac254d7",
   "metadata": {},
   "outputs": [],
   "source": [
    "def position_choice():\n",
    "    \n",
    "    # We'll say the initial choice is invalid\n",
    "    choice = 'wrong'\n",
    "    \n",
    "    # I think you could say:\n",
    "    # while choice not in game_list:\n",
    "    # as long as you take in the game_list.\n",
    "    # However, the version of the game_list you take in has to be a string inorder to compare the input.\n",
    "    # Before I get too far into the weeds at this stage, I want to follow along with the instructor...\n",
    "    \n",
    "    while choice not in ['0','1','2']:\n",
    "        \n",
    "        choice = input('Pick a position: (0,1,2): ')\n",
    "        \n",
    "        if choice not in ['0','1','2']:\n",
    "            print('Sorry, invalid choice!')\n",
    "            \n",
    "    return int(choice)"
   ]
  },
  {
   "cell_type": "code",
   "execution_count": 119,
   "id": "0d55747b",
   "metadata": {},
   "outputs": [
    {
     "name": "stdout",
     "output_type": "stream",
     "text": [
      "Pick a position: (0,1,2): e\n",
      "Sorry, invalid choice!\n",
      "Pick a position: (0,1,2): 44\n",
      "Sorry, invalid choice!\n",
      "Pick a position: (0,1,2): 2\n"
     ]
    },
    {
     "data": {
      "text/plain": [
       "2"
      ]
     },
     "execution_count": 119,
     "metadata": {},
     "output_type": "execute_result"
    }
   ],
   "source": [
    "position_choice()"
   ]
  },
  {
   "cell_type": "code",
   "execution_count": 120,
   "id": "5a683dd8",
   "metadata": {},
   "outputs": [],
   "source": [
    "# Should be only 3 things you can type to close out that while loop, so it works."
   ]
  },
  {
   "cell_type": "code",
   "execution_count": 121,
   "id": "b749ac6f",
   "metadata": {},
   "outputs": [],
   "source": [
    "# choose a replacement value\n",
    "\n",
    "def replacement_choice(game_list,position):\n",
    "    \n",
    "    user_placement = input('Type a string to place at position: ')\n",
    "    \n",
    "    game_list[position] = user_placement\n",
    "    \n",
    "    return game_list"
   ]
  },
  {
   "cell_type": "code",
   "execution_count": 122,
   "id": "4c74c108",
   "metadata": {},
   "outputs": [
    {
     "name": "stdout",
     "output_type": "stream",
     "text": [
      "Type a string to place at position: test\n"
     ]
    },
    {
     "data": {
      "text/plain": [
       "[0, 'test', 2]"
      ]
     },
     "execution_count": 122,
     "metadata": {},
     "output_type": "execute_result"
    }
   ],
   "source": [
    "replacement_choice(game_list,1)"
   ]
  },
  {
   "cell_type": "code",
   "execution_count": 123,
   "id": "3135d0ec",
   "metadata": {},
   "outputs": [],
   "source": [
    "# replacement_choice is working"
   ]
  },
  {
   "cell_type": "code",
   "execution_count": 130,
   "id": "376bf6ac",
   "metadata": {},
   "outputs": [],
   "source": [
    "def gameon_choice():\n",
    "    \n",
    "    # We'll say the initial choice is invalid\n",
    "    choice = 'wrong'\n",
    "    \n",
    "    while choice not in ['y','n','Y','N']:\n",
    "        \n",
    "        choice = input('Continue game? (Y/N): ')\n",
    "        \n",
    "        if choice not in ['y','n','Y','N']:\n",
    "            print('Sorry, invalid choice!')\n",
    "            \n",
    "        \n",
    "        if choice == 'y' or choice == 'Y':\n",
    "            return True\n",
    "        else:\n",
    "            return False"
   ]
  },
  {
   "cell_type": "code",
   "execution_count": 132,
   "id": "fd2bad8f",
   "metadata": {},
   "outputs": [
    {
     "name": "stdout",
     "output_type": "stream",
     "text": [
      "Continue game? (Y/N): n\n"
     ]
    },
    {
     "data": {
      "text/plain": [
       "False"
      ]
     },
     "execution_count": 132,
     "metadata": {},
     "output_type": "execute_result"
    }
   ],
   "source": [
    "gameon_choice()"
   ]
  },
  {
   "cell_type": "code",
   "execution_count": 133,
   "id": "5de2c56a",
   "metadata": {},
   "outputs": [],
   "source": [
    "# gameon_choice is working"
   ]
  },
  {
   "cell_type": "code",
   "execution_count": 135,
   "id": "4103b7af",
   "metadata": {},
   "outputs": [
    {
     "name": "stdout",
     "output_type": "stream",
     "text": [
      "Here is the current list: \n",
      "[0, 1, 2]\n",
      "Pick a position: (0,1,2): 1\n",
      "Type a string to place at position: done\n",
      "Continue game? (Y/N): n\n"
     ]
    }
   ],
   "source": [
    "game_on = True\n",
    "game_list = [0,1,2]\n",
    "\n",
    "while game_on:  # literally, while the game is on, or while game_on is True\n",
    "    \n",
    "    display_game(game_list)\n",
    "    \n",
    "    position = position_choice()\n",
    "    \n",
    "    # this updates the game_list\n",
    "    game_list = replacement_choice(game_list,position)\n",
    "    \n",
    "    # this updates the choice to keep playing\n",
    "    game_on = gameon_choice()"
   ]
  },
  {
   "cell_type": "markdown",
   "id": "90d781b0",
   "metadata": {},
   "source": [
    "<strong>64 - First Python Milestone Project Overview</strong>"
   ]
  },
  {
   "cell_type": "code",
   "execution_count": null,
   "id": "b3d6cfc4",
   "metadata": {},
   "outputs": [],
   "source": []
  }
 ],
 "metadata": {
  "kernelspec": {
   "display_name": "Python 3 (ipykernel)",
   "language": "python",
   "name": "python3"
  },
  "language_info": {
   "codemirror_mode": {
    "name": "ipython",
    "version": 3
   },
   "file_extension": ".py",
   "mimetype": "text/x-python",
   "name": "python",
   "nbconvert_exporter": "python",
   "pygments_lexer": "ipython3",
   "version": "3.9.13"
  }
 },
 "nbformat": 4,
 "nbformat_minor": 5
}
