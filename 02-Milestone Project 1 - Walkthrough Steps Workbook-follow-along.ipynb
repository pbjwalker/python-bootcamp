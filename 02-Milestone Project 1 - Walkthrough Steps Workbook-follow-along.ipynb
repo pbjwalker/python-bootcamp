{
 "cells": [
  {
   "cell_type": "markdown",
   "metadata": {},
   "source": [
    "___\n",
    "\n",
    "<a href='https://www.udemy.com/user/joseportilla/'><img src='../Pierian_Data_Logo.png'/></a>\n",
    "___\n",
    "<center><em>Content Copyright by Pierian Data</em></center>"
   ]
  },
  {
   "cell_type": "markdown",
   "metadata": {},
   "source": [
    "# Milestone Project 1: Walkthrough Steps Workbook\n",
    "\n",
    "Below is a set of steps for you to follow to try to create the Tic Tac Toe Milestone Project game!"
   ]
  },
  {
   "cell_type": "markdown",
   "metadata": {},
   "source": [
    "#### Some suggested tools before you get started:\n",
    "To take input from a user:\n",
    "\n",
    "    player1 = input(\"Please pick a marker 'X' or 'O'\")\n",
    "    \n",
    "Note that input() takes in a string. If you need an integer value, use\n",
    "\n",
    "    position = int(input('Please enter a number'))\n",
    "    \n",
    "<br>To clear the screen between moves:\n",
    "\n",
    "    from IPython.display import clear_output\n",
    "    clear_output()\n",
    "    \n",
    "Note that clear_output() will only work in jupyter. To clear the screen in other IDEs, consider:\n",
    "\n",
    "    print('\\n'*100)\n",
    "    \n",
    "This scrolls the previous board up out of view. Now on to the program!"
   ]
  },
  {
   "cell_type": "markdown",
   "metadata": {},
   "source": [
    "**Step 1: Write a function that can print out a board. Set up your board as a list, where each index 1-9 corresponds with a number on a number pad, so you get a 3 by 3 board representation.**"
   ]
  },
  {
   "cell_type": "code",
   "execution_count": 1,
   "metadata": {},
   "outputs": [],
   "source": [
    "from IPython.display import clear_output\n",
    "\n",
    "def display_board(board):\n",
    "    clear_output()\n",
    "    print(board[7]+'|'+board[8]+'|'+board[9])\n",
    "    print(board[4]+'|'+board[5]+'|'+board[6])\n",
    "    print(board[1]+'|'+board[2]+'|'+board[3])"
   ]
  },
  {
   "cell_type": "markdown",
   "metadata": {},
   "source": [
    "**TEST Step 1:** run your function on a test version of the board list, and make adjustments as necessary"
   ]
  },
  {
   "cell_type": "code",
   "execution_count": 12,
   "metadata": {},
   "outputs": [
    {
     "name": "stdout",
     "output_type": "stream",
     "text": [
      "7|8|9\n",
      "4|5|6\n",
      "X|X|X\n"
     ]
    }
   ],
   "source": [
    "board = ['#','X','X','X','4','5','6','7','8','9']\n",
    "display_board(board)"
   ]
  },
  {
   "cell_type": "markdown",
   "metadata": {},
   "source": [
    "**Step 2: Write a function that can take in a player input and assign their marker as 'X' or 'O'. Think about using *while* loops to continually ask until you get a correct answer.**"
   ]
  },
  {
   "cell_type": "code",
   "execution_count": 104,
   "metadata": {},
   "outputs": [],
   "source": [
    "# Player 1 chooses to be X or O\n",
    "\n",
    "def player_input():\n",
    "    \n",
    "    '''\n",
    "    OUTPUT = (Player 1 marker, Player 2 marker)\n",
    "    '''\n",
    "    \n",
    "    marker = ''\n",
    "    \n",
    "    # keep asking player 1 to choose X or O\n",
    "    \n",
    "    # Can also say:\n",
    "    # while not (marker == 'X' or marker == 'O'):\n",
    "    \n",
    "    while marker != 'X' and marker != 'O':\n",
    "        marker = input('Player 1, do you want to be (X or O)?  ').upper()  # make the input upper case\n",
    "    \n",
    "    # then assign player 2 the opposite marker\n",
    "    # player1 = marker\n",
    "    #\n",
    "    # if marker == 'X':\n",
    "    #     player2 = 'O'\n",
    "    # else:\n",
    "    #     player2 = 'X'\n",
    "    # return (player1,player2)  # use tuple unpacking on the result\n",
    "    \n",
    "    # Here's a cleaner way to do the same thing...from the instructor:\n",
    "    \n",
    "    if marker == 'X':\n",
    "        return ('X','O')\n",
    "    else:\n",
    "        return ('O','X')"
   ]
  },
  {
   "cell_type": "markdown",
   "metadata": {},
   "source": [
    "**TEST Step 2:** run the function to make sure it returns the desired output"
   ]
  },
  {
   "cell_type": "code",
   "execution_count": 106,
   "metadata": {},
   "outputs": [
    {
     "name": "stdout",
     "output_type": "stream",
     "text": [
      "Player 1, do you want to be (X or O)?  O\n"
     ]
    },
    {
     "data": {
      "text/plain": [
       "('O', 'X')"
      ]
     },
     "execution_count": 106,
     "metadata": {},
     "output_type": "execute_result"
    }
   ],
   "source": [
    "player_input()"
   ]
  },
  {
   "cell_type": "markdown",
   "metadata": {},
   "source": [
    "**Step 3: Write a function that takes in the board list object, a marker ('X' or 'O'), and a desired position (number 1-9) and assigns it to the board.**"
   ]
  },
  {
   "cell_type": "code",
   "execution_count": 108,
   "metadata": {},
   "outputs": [],
   "source": [
    "def place_marker(board, marker, position):\n",
    "    board[position] = marker\n",
    "    return board"
   ]
  },
  {
   "cell_type": "markdown",
   "metadata": {},
   "source": [
    "**TEST Step 3:** run the place marker function using test parameters and display the modified board"
   ]
  },
  {
   "cell_type": "code",
   "execution_count": 109,
   "metadata": {},
   "outputs": [
    {
     "name": "stdout",
     "output_type": "stream",
     "text": [
      "O|$|9\n",
      "4|O|6\n",
      "X|X|O\n"
     ]
    }
   ],
   "source": [
    "place_marker(board,'$',8)\n",
    "display_board(board)"
   ]
  },
  {
   "cell_type": "markdown",
   "metadata": {},
   "source": [
    "**Step 4: Write a function that takes in a board and a mark (X or O) and then checks to see if that mark has won. **"
   ]
  },
  {
   "cell_type": "code",
   "execution_count": 116,
   "metadata": {},
   "outputs": [],
   "source": [
    "def win_check(board, mark):\n",
    "    if (board[7] == board[8] == board[9] == mark) or (board[4] == board[5] == board[6] == mark) or (board[1] == board[2] == board[3] == mark):\n",
    "        print(f'{mark} wins with 3 in a row!')\n",
    "        return True\n",
    "    elif (board[7] == board[4] == board[1] == mark) or (board[8] == board[5] == board[2] == mark) or (board[9] == board[9] == board[3] == mark):\n",
    "        print(f'{mark} wins with 3 in a column!')\n",
    "        return True\n",
    "    elif (board[7] == board[5] == board[3] == mark) or (board[8] == board[5] == board[1] == mark):\n",
    "        print(f'{mark} wins with 3 diagonally!')\n",
    "        return True\n",
    "    else:\n",
    "        return False\n",
    "        "
   ]
  },
  {
   "cell_type": "markdown",
   "metadata": {},
   "source": [
    "**TEST Step 4:** run the win_check function against our test_board - it should return True"
   ]
  },
  {
   "cell_type": "code",
   "execution_count": 117,
   "metadata": {},
   "outputs": [
    {
     "data": {
      "text/plain": [
       "False"
      ]
     },
     "execution_count": 117,
     "metadata": {},
     "output_type": "execute_result"
    }
   ],
   "source": [
    "win_check(board,'X')"
   ]
  },
  {
   "cell_type": "markdown",
   "metadata": {},
   "source": [
    "**Step 5: Write a function that uses the random module to randomly decide which player goes first. You may want to lookup random.randint() Return a string of which player went first.**"
   ]
  },
  {
   "cell_type": "code",
   "execution_count": 123,
   "metadata": {},
   "outputs": [],
   "source": [
    "# Randomly decide who goes first\n",
    "\n",
    "from random import randint\n",
    "\n",
    "def choose_first():\n",
    "    num = randint(0,1)\n",
    "    if num == 0:\n",
    "        return 'Player 1'\n",
    "    else:\n",
    "        return 'Player 2'"
   ]
  },
  {
   "cell_type": "code",
   "execution_count": 125,
   "metadata": {},
   "outputs": [
    {
     "data": {
      "text/plain": [
       "'Player 2'"
      ]
     },
     "execution_count": 125,
     "metadata": {},
     "output_type": "execute_result"
    }
   ],
   "source": [
    "choose_first()"
   ]
  },
  {
   "cell_type": "markdown",
   "metadata": {},
   "source": [
    "**Step 6: Write a function that returns a boolean indicating whether a space on the board is freely available.**"
   ]
  },
  {
   "cell_type": "code",
   "execution_count": 92,
   "metadata": {},
   "outputs": [],
   "source": [
    "def space_check(board, position):\n",
    "    if board[position] != 'X' and board[position] != 'O':\n",
    "        return True\n",
    "    else:\n",
    "        return False"
   ]
  },
  {
   "cell_type": "code",
   "execution_count": 93,
   "metadata": {},
   "outputs": [],
   "source": [
    "board = ['#',' ',' ',' ',' ',' ',' ',' ',' ',' ']"
   ]
  },
  {
   "cell_type": "code",
   "execution_count": 94,
   "metadata": {},
   "outputs": [
    {
     "data": {
      "text/plain": [
       "True"
      ]
     },
     "execution_count": 94,
     "metadata": {},
     "output_type": "execute_result"
    }
   ],
   "source": [
    "space_check(board,3)"
   ]
  },
  {
   "cell_type": "markdown",
   "metadata": {},
   "source": [
    "**Step 7: Write a function that checks if the board is full and returns a boolean value. True if full, False otherwise.**"
   ]
  },
  {
   "cell_type": "code",
   "execution_count": 27,
   "metadata": {},
   "outputs": [],
   "source": [
    "def full_board_check(board):\n",
    "    for item in board:\n",
    "        # So if it's not an X, O or a #, then there's at least one available space\n",
    "        if item != 'X' and item != 'O' and item != '#':\n",
    "            return False\n",
    "    return True"
   ]
  },
  {
   "cell_type": "code",
   "execution_count": 36,
   "metadata": {},
   "outputs": [],
   "source": [
    "board = ['#','X','O','X','O','5','O','X','O','X']"
   ]
  },
  {
   "cell_type": "code",
   "execution_count": 37,
   "metadata": {},
   "outputs": [
    {
     "data": {
      "text/plain": [
       "False"
      ]
     },
     "execution_count": 37,
     "metadata": {},
     "output_type": "execute_result"
    }
   ],
   "source": [
    "full_board_check(board)"
   ]
  },
  {
   "cell_type": "markdown",
   "metadata": {},
   "source": [
    "**Step 8: Write a function that asks for a player's next position (as a number 1-9) and then uses the function from step 6 to check if it's a free position. If it is, then return the position for later use.**"
   ]
  },
  {
   "cell_type": "code",
   "execution_count": 83,
   "metadata": {},
   "outputs": [],
   "source": [
    "def player_choice(board):\n",
    "    # choice = 'wrong'\n",
    "    # while choice not in board:\n",
    "    #     choice = input(\"Enter the position for your next move (1-9): \")\n",
    "    # return int(choice)\n",
    "    \n",
    "    # Although this works, I will follow the instructions.\n",
    "    # This check if the choice is 1-9, makes it a number,\n",
    "    # then calls the space_check() function to see if the move is available.\n",
    "    # It stays in the loop until an available move is chosen.\n",
    "    \n",
    "    choice = 'wrong'\n",
    "    possible = ['1','2','3','4','5','6','7','8','9']\n",
    "    \n",
    "    while True:\n",
    "        \n",
    "        while choice not in possible:\n",
    "            choice = input('Enter your next move (1-9): ')\n",
    "\n",
    "        if space_check(board,int(choice)):\n",
    "            break\n",
    "        else:\n",
    "            print(\"That position is filled.\")\n",
    "            choice = 'wrong'\n",
    "    \n",
    "    return int(choice)\n",
    "    \n"
   ]
  },
  {
   "cell_type": "code",
   "execution_count": 130,
   "metadata": {},
   "outputs": [],
   "source": [
    "# The instructor's version of player_choice() is very efficient.\n",
    "# But his didn't include catching the error if the player enters a non-digit\n",
    "\n",
    "def player_choice(board):\n",
    "    \n",
    "    position = 0\n",
    "    \n",
    "    while position not in [1,2,3,4,5,6,7,8,9] or not space_check(board,position):\n",
    "        position = int(input('Choose a position: (1-9) '))\n",
    "    \n",
    "    return position"
   ]
  },
  {
   "cell_type": "code",
   "execution_count": 131,
   "metadata": {},
   "outputs": [
    {
     "data": {
      "text/plain": [
       "['#', 'X', 'X', 'O', '4', 'O', '6', 'O', '$', '9']"
      ]
     },
     "execution_count": 131,
     "metadata": {},
     "output_type": "execute_result"
    }
   ],
   "source": [
    "board"
   ]
  },
  {
   "cell_type": "code",
   "execution_count": 132,
   "metadata": {},
   "outputs": [
    {
     "name": "stdout",
     "output_type": "stream",
     "text": [
      "Choose a position: (1-9) 4\n"
     ]
    },
    {
     "data": {
      "text/plain": [
       "4"
      ]
     },
     "execution_count": 132,
     "metadata": {},
     "output_type": "execute_result"
    }
   ],
   "source": [
    "player_choice(board)"
   ]
  },
  {
   "cell_type": "markdown",
   "metadata": {},
   "source": [
    "**Step 9: Write a function that asks the player if they want to play again and returns a boolean True if they do want to play again.**"
   ]
  },
  {
   "cell_type": "code",
   "execution_count": 87,
   "metadata": {},
   "outputs": [],
   "source": [
    "def replay():\n",
    "    choice = 'wrong'\n",
    "    \n",
    "    while choice != 'y' and choice != 'n':\n",
    "        choice = input('Do you want to play again? (y/n): ')\n",
    "    if choice == 'y':\n",
    "        return True\n",
    "    else:\n",
    "        return False"
   ]
  },
  {
   "cell_type": "code",
   "execution_count": 133,
   "metadata": {},
   "outputs": [],
   "source": [
    "# Here's the instructor way\n",
    "\n",
    "def replay():\n",
    "    \n",
    "    choice = input(\"Play again? Enter Yes or No \")\n",
    "    \n",
    "    return choice == 'Yes'"
   ]
  },
  {
   "cell_type": "code",
   "execution_count": 135,
   "metadata": {},
   "outputs": [
    {
     "name": "stdout",
     "output_type": "stream",
     "text": [
      "Play again? Enter Yes or Non\n"
     ]
    },
    {
     "data": {
      "text/plain": [
       "False"
      ]
     },
     "execution_count": 135,
     "metadata": {},
     "output_type": "execute_result"
    }
   ],
   "source": [
    "replay()"
   ]
  },
  {
   "cell_type": "markdown",
   "metadata": {
    "collapsed": true
   },
   "source": [
    "**Step 10: Here comes the hard part! Use while loops and the functions you've made to run the game!**"
   ]
  },
  {
   "cell_type": "code",
   "execution_count": 103,
   "metadata": {},
   "outputs": [
    {
     "name": "stdout",
     "output_type": "stream",
     "text": [
      "O|8|9\n",
      "4|O|6\n",
      "X|X|O\n",
      "O wins with 3 diagonally!\n",
      "Do you want to play again? (y/n): n\n"
     ]
    }
   ],
   "source": [
    "from IPython.display import clear_output\n",
    "from random import randint\n",
    "\n",
    "\n",
    "# Player 1 chooses to be X or O\n",
    "def player_input():\n",
    "    marker = ''\n",
    "    \n",
    "    # keep asking player 1 to choose X or O\n",
    "    while marker != 'X' and marker != 'O':\n",
    "        marker = input('Player 1, do you want to be (X or O)?  ')\n",
    "    \n",
    "    # then assign player 2 the opposite marker\n",
    "    player1 = marker\n",
    "    \n",
    "    if marker == 'X':\n",
    "        player2 = 'O'\n",
    "    else:\n",
    "        player2 = 'X'\n",
    "    return (player1,player2)  # use tuple unpacking on the result\n",
    "\n",
    "\n",
    "\n",
    "# Randomly decide who goes first\n",
    "# I don't like the game like this, but it's what the course wanted.\n",
    "def choose_first():\n",
    "    num = randint(0,1)\n",
    "    if num == 0:\n",
    "        return 'Player 1'\n",
    "    else:\n",
    "        return 'Player 2'\n",
    "\n",
    "\n",
    "# Displays the board\n",
    "def display_board(board):\n",
    "    clear_output()\n",
    "    print(board[7]+'|'+board[8]+'|'+board[9])\n",
    "    print(board[4]+'|'+board[5]+'|'+board[6])\n",
    "    print(board[1]+'|'+board[2]+'|'+board[3])\n",
    "    \n",
    "\n",
    "# Checks if a position on the board has already been played\n",
    "def space_check(board, position):\n",
    "    if board[position] != 'X' and board[position] != 'O':\n",
    "        return True\n",
    "    else:\n",
    "        return False  \n",
    "\n",
    "\n",
    "# Takes the player's choice, checks that it's in the valid move range, and checks if it's already played\n",
    "def player_choice(board):    \n",
    "    choice = 'wrong'\n",
    "    possible = ['1','2','3','4','5','6','7','8','9']\n",
    "    \n",
    "    while True:\n",
    "        while choice not in possible:\n",
    "            choice = input('Enter your next move (1-9): ')\n",
    "\n",
    "        if space_check(board,int(choice)):\n",
    "            break\n",
    "        else:\n",
    "            print(\"That position is filled.\")\n",
    "            choice = 'wrong'\n",
    "    \n",
    "    return int(choice)\n",
    "\n",
    "\n",
    "# Places the player's marker on the board\n",
    "def place_marker(board, marker, position):\n",
    "    board[position] = marker\n",
    "    return board\n",
    "\n",
    "\n",
    "# Check if there's a win\n",
    "def win_check(board, mark):\n",
    "    if (board[7] == board[8] == board[9] == mark) or (board[4] == board[5] == board[6] == mark) or (board[1] == board[2] == board[3] == mark):\n",
    "        print(f'{mark} wins with 3 in a row!')\n",
    "        return True\n",
    "    elif (board[7] == board[4] == board[1] == mark) or (board[8] == board[5] == board[2] == mark) or (board[9] == board[6] == board[3] == mark):\n",
    "        print(f'{mark} wins with 3 in a column!')\n",
    "        return True\n",
    "    elif (board[7] == board[5] == board[3] == mark) or (board[8] == board[5] == board[1] == mark):\n",
    "        print(f'{mark} wins with 3 diagonally!')\n",
    "        return True\n",
    "    else:\n",
    "        return False\n",
    "    \n",
    "\n",
    "# Check if the board is full\n",
    "def full_board_check(board):\n",
    "    for item in board:\n",
    "        # So if it's not an X, O or a #, then there's at least one available space\n",
    "        if item != 'X' and item != 'O' and item != '#':\n",
    "            return False\n",
    "    return True\n",
    "\n",
    "\n",
    "# Do you want to play again?\n",
    "def replay():\n",
    "    choice = 'wrong'\n",
    "    \n",
    "    while choice != 'y' and choice != 'n':\n",
    "        choice = input('Do you want to play again? (y/n): ')\n",
    "    if choice == 'y':\n",
    "        return True\n",
    "    else:\n",
    "        return False\n",
    "    \n",
    "    \n",
    "##############################################\n",
    "\n",
    "\n",
    "print('Welcome to Tic Tac Toe!')\n",
    "\n",
    "while True:\n",
    "    \n",
    "    # A clean board\n",
    "    # board = ['#',' ',' ',' ',' ',' ',' ',' ',' ',' ']\n",
    "    # Another way to setup an empty board is...\n",
    "    # board = [' '] * 10\n",
    "    \n",
    "    board = ['#','1','2','3','4','5','6','7','8','9']\n",
    "    \n",
    "    # Player chooses to be X or O\n",
    "    player1,player2 = player_input()\n",
    "    \n",
    "    # Computer decided who goes first\n",
    "    goes_first = choose_first()\n",
    "    if goes_first == \"Player 1\":\n",
    "        toggle_player = True\n",
    "    else:\n",
    "        toggle_player = False\n",
    "    \n",
    "    # This starts the game\n",
    "    # game_on = True\n",
    "    # I just started the game, but the instructor asked them if they're ready...\n",
    "    \n",
    "    play_game = input('Ready to play? y or n? ')\n",
    "    \n",
    "    if play_game == 'y':\n",
    "        game_on = True\n",
    "    else:\n",
    "        game_on = False\n",
    "\n",
    "        \n",
    "    while game_on:\n",
    "        display_board(board)\n",
    "        \n",
    "        # Player 1's turn\n",
    "        if toggle_player:\n",
    "            print('Player 1, your turn')\n",
    "            mark = player1\n",
    "\n",
    "        # Player2's turn.\n",
    "        else:\n",
    "            print('Player 2, your turn')\n",
    "            mark = player2      \n",
    "        \n",
    "        # Player chooses a move, board is updated and displayed\n",
    "        choice = player_choice(board)\n",
    "        board = place_marker(board, mark, choice)\n",
    "        display_board(board)\n",
    "        \n",
    "        # Check for a win\n",
    "        if win_check(board, mark):\n",
    "            game_on = False\n",
    "        else:\n",
    "            # If the board is full, it's a tie\n",
    "            if full_board_check(board):\n",
    "                print(\"It's a tie!\")\n",
    "                game_on = False\n",
    "        \n",
    "        # Change player for next turn\n",
    "        toggle_player = not toggle_player\n",
    "    \n",
    "    \n",
    "    \n",
    "    \n",
    "    if not replay():\n",
    "        break"
   ]
  },
  {
   "cell_type": "markdown",
   "metadata": {
    "collapsed": true
   },
   "source": [
    "## Good Job!"
   ]
  }
 ],
 "metadata": {
  "kernelspec": {
   "display_name": "Python 3 (ipykernel)",
   "language": "python",
   "name": "python3"
  },
  "language_info": {
   "codemirror_mode": {
    "name": "ipython",
    "version": 3
   },
   "file_extension": ".py",
   "mimetype": "text/x-python",
   "name": "python",
   "nbconvert_exporter": "python",
   "pygments_lexer": "ipython3",
   "version": "3.9.13"
  }
 },
 "nbformat": 4,
 "nbformat_minor": 1
}
