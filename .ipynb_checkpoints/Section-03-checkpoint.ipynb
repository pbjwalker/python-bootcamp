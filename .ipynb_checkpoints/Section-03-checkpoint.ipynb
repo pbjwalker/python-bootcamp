{
 "cells": [
  {
   "cell_type": "markdown",
   "id": "7dc10e4f",
   "metadata": {},
   "source": [
    "Section 3: Python Object and Data Structure Basics"
   ]
  },
  {
   "cell_type": "markdown",
   "id": "55197a94",
   "metadata": {},
   "source": [
    "11 - Introduction to Python Data Types"
   ]
  },
  {
   "cell_type": "code",
   "execution_count": 18,
   "id": "6701bf53",
   "metadata": {},
   "outputs": [],
   "source": [
    "# int      Integers   whole numbers:   3  300  200\n",
    "# float    Floating Point   numbers with a decimal point:   2.3   4.6   100.0\n",
    "# str      Strings   ordered sequence of characters:   \"hello\"   'sammy'   \"2000\"   \"foreign letters\"\n",
    "# list     Lists   ordered sequence of objects:   [10,\"hello\",200.3]\n",
    "# dict     Dictionaries   unordered Key:Value pairs:   {\"mykey\":\"value\",\"name\":\"Frankie\"}\n",
    "# tup      Tuples   ordered immutable sequence of objects:   (10,\"hello\",2.3)\n",
    "# set      Sets   unordered collection of unique objects:   {\"a\",\"b\"}\n",
    "# bool     Booleans   logical value indicating True or False:   True   False"
   ]
  },
  {
   "cell_type": "markdown",
   "id": "82451ee3",
   "metadata": {},
   "source": [
    "12 - Python Numbers"
   ]
  },
  {
   "cell_type": "code",
   "execution_count": 19,
   "id": "252db87d",
   "metadata": {},
   "outputs": [],
   "source": [
    "# There are 2 main number types in Python\n",
    "# Integers - which are whole numbers\n",
    "# Floating Point numbers - which are numbers with a decimal point"
   ]
  },
  {
   "cell_type": "code",
   "execution_count": 20,
   "id": "8446b9a7",
   "metadata": {},
   "outputs": [
    {
     "data": {
      "text/plain": [
       "3"
      ]
     },
     "execution_count": 20,
     "metadata": {},
     "output_type": "execute_result"
    }
   ],
   "source": [
    "2+1"
   ]
  },
  {
   "cell_type": "code",
   "execution_count": 21,
   "id": "ade6c1c9",
   "metadata": {},
   "outputs": [
    {
     "data": {
      "text/plain": [
       "1"
      ]
     },
     "execution_count": 21,
     "metadata": {},
     "output_type": "execute_result"
    }
   ],
   "source": [
    "2-1"
   ]
  },
  {
   "cell_type": "code",
   "execution_count": 22,
   "id": "26e67d34",
   "metadata": {},
   "outputs": [
    {
     "data": {
      "text/plain": [
       "4"
      ]
     },
     "execution_count": 22,
     "metadata": {},
     "output_type": "execute_result"
    }
   ],
   "source": [
    "2*2"
   ]
  },
  {
   "cell_type": "code",
   "execution_count": 23,
   "id": "8303086a",
   "metadata": {},
   "outputs": [
    {
     "data": {
      "text/plain": [
       "1.5"
      ]
     },
     "execution_count": 23,
     "metadata": {},
     "output_type": "execute_result"
    }
   ],
   "source": [
    "3/2"
   ]
  },
  {
   "cell_type": "markdown",
   "id": "2bf95d9b",
   "metadata": {},
   "source": [
    "The Modulo or \"Mod\" operator"
   ]
  },
  {
   "cell_type": "code",
   "execution_count": 24,
   "id": "71956de2",
   "metadata": {},
   "outputs": [
    {
     "data": {
      "text/plain": [
       "1.75"
      ]
     },
     "execution_count": 24,
     "metadata": {},
     "output_type": "execute_result"
    }
   ],
   "source": [
    "7/4"
   ]
  },
  {
   "cell_type": "code",
   "execution_count": 25,
   "id": "390397f0",
   "metadata": {},
   "outputs": [
    {
     "data": {
      "text/plain": [
       "1.75"
      ]
     },
     "execution_count": 25,
     "metadata": {},
     "output_type": "execute_result"
    }
   ],
   "source": [
    "7 / 4"
   ]
  },
  {
   "cell_type": "code",
   "execution_count": 26,
   "id": "99c0edab",
   "metadata": {},
   "outputs": [],
   "source": [
    "# 7 goes into 4 with a remainder of 3"
   ]
  },
  {
   "cell_type": "code",
   "execution_count": 27,
   "id": "bc801756",
   "metadata": {},
   "outputs": [],
   "source": [
    "# What if you only wanted to know the remainder?"
   ]
  },
  {
   "cell_type": "code",
   "execution_count": 29,
   "id": "68b1284b",
   "metadata": {},
   "outputs": [
    {
     "data": {
      "text/plain": [
       "3"
      ]
     },
     "execution_count": 29,
     "metadata": {},
     "output_type": "execute_result"
    }
   ],
   "source": [
    "# 7 mod 4 returns a remainder of 3\n",
    "7 % 4"
   ]
  },
  {
   "cell_type": "code",
   "execution_count": 30,
   "id": "50d3125c",
   "metadata": {},
   "outputs": [
    {
     "data": {
      "text/plain": [
       "0"
      ]
     },
     "execution_count": 30,
     "metadata": {},
     "output_type": "execute_result"
    }
   ],
   "source": [
    "#50 mod 5 returns a remainder of 0\n",
    "50%5"
   ]
  },
  {
   "cell_type": "code",
   "execution_count": 31,
   "id": "b60e2ad5",
   "metadata": {},
   "outputs": [],
   "source": [
    "# when mod returns a remainder of 0 it means one number was evenly divisible by another number\n",
    "# helpful when checking if a number is odd or even"
   ]
  },
  {
   "cell_type": "code",
   "execution_count": 33,
   "id": "23a1f20f",
   "metadata": {},
   "outputs": [
    {
     "data": {
      "text/plain": [
       "1"
      ]
     },
     "execution_count": 33,
     "metadata": {},
     "output_type": "execute_result"
    }
   ],
   "source": [
    "# if 23 mod 2 results in anything other than zero, it's an odd number\n",
    "23 % 2"
   ]
  },
  {
   "cell_type": "markdown",
   "id": "667a1b91",
   "metadata": {},
   "source": [
    "Exponents or Powers"
   ]
  },
  {
   "cell_type": "code",
   "execution_count": 34,
   "id": "d2ec4cf4",
   "metadata": {},
   "outputs": [
    {
     "data": {
      "text/plain": [
       "8"
      ]
     },
     "execution_count": 34,
     "metadata": {},
     "output_type": "execute_result"
    }
   ],
   "source": [
    "# 2 to the power of 3\n",
    "2**3"
   ]
  },
  {
   "cell_type": "code",
   "execution_count": 35,
   "id": "b2dfccb0",
   "metadata": {},
   "outputs": [
    {
     "data": {
      "text/plain": [
       "8"
      ]
     },
     "execution_count": 35,
     "metadata": {},
     "output_type": "execute_result"
    }
   ],
   "source": [
    "2 ** 3"
   ]
  },
  {
   "cell_type": "code",
   "execution_count": 36,
   "id": "1fccc810",
   "metadata": {},
   "outputs": [
    {
     "data": {
      "text/plain": [
       "0"
      ]
     },
     "execution_count": 36,
     "metadata": {},
     "output_type": "execute_result"
    }
   ],
   "source": [
    "2 ** 3 % 2"
   ]
  },
  {
   "cell_type": "code",
   "execution_count": 37,
   "id": "a73cefaa",
   "metadata": {},
   "outputs": [],
   "source": [
    "# order of operations"
   ]
  },
  {
   "cell_type": "code",
   "execution_count": 38,
   "id": "61e4b088",
   "metadata": {},
   "outputs": [
    {
     "data": {
      "text/plain": [
       "105"
      ]
     },
     "execution_count": 38,
     "metadata": {},
     "output_type": "execute_result"
    }
   ],
   "source": [
    "2 + 10 * 10 + 3"
   ]
  },
  {
   "cell_type": "code",
   "execution_count": 39,
   "id": "04be5764",
   "metadata": {},
   "outputs": [
    {
     "data": {
      "text/plain": [
       "156"
      ]
     },
     "execution_count": 39,
     "metadata": {},
     "output_type": "execute_result"
    }
   ],
   "source": [
    "(2 + 10) * (10 + 3)"
   ]
  },
  {
   "cell_type": "code",
   "execution_count": 40,
   "id": "7c60d313",
   "metadata": {},
   "outputs": [],
   "source": [
    "# What's the difference between floating point and an integer?\n",
    "# An integer has no decimals in it, and a floating point number can display digits past the decimal point."
   ]
  },
  {
   "cell_type": "code",
   "execution_count": 41,
   "id": "4ac5b934",
   "metadata": {},
   "outputs": [
    {
     "data": {
      "text/plain": [
       "5.551115123125783e-17"
      ]
     },
     "execution_count": 41,
     "metadata": {},
     "output_type": "execute_result"
    }
   ],
   "source": [
    "0.1+0.2-0.3\n",
    "# Why doesn't 0.1 + 0.2 - 0.3 equal 0.0?\n",
    "# This has to do with floating point accuracy and the computer's abilities to represent numbers in memory.\n",
    "# For a full breakdown, check out:\n",
    "# https://docs.python.org/2/tutorial/floatingpoint.html"
   ]
  },
  {
   "cell_type": "code",
   "execution_count": 42,
   "id": "3c4f10e4",
   "metadata": {},
   "outputs": [
    {
     "data": {
      "text/plain": [
       "5.551115123125783e-17"
      ]
     },
     "execution_count": 42,
     "metadata": {},
     "output_type": "execute_result"
    }
   ],
   "source": [
    "0.1 + 0.2 - 0.3"
   ]
  },
  {
   "cell_type": "code",
   "execution_count": 43,
   "id": "616a0bb6",
   "metadata": {},
   "outputs": [
    {
     "data": {
      "text/plain": [
       "0.20000000000000004"
      ]
     },
     "execution_count": 43,
     "metadata": {},
     "output_type": "execute_result"
    }
   ],
   "source": [
    "0.1 + 0.2 - 0.1"
   ]
  },
  {
   "cell_type": "markdown",
   "id": "9c204fa3",
   "metadata": {},
   "source": [
    "14 - Variable Assignments"
   ]
  },
  {
   "cell_type": "code",
   "execution_count": 45,
   "id": "0d4561fe",
   "metadata": {},
   "outputs": [],
   "source": [
    "# Rules for variable names:\n",
    "# - cannot start with a number\n",
    "# - no spaces in the name, use _ instead\n",
    "# - Can't use any of these symbols:\n",
    "# : ' \" / ? | \\ ( ) ! @ # $ % ^ & * ~ - +"
   ]
  },
  {
   "cell_type": "code",
   "execution_count": 46,
   "id": "58e34a3a",
   "metadata": {},
   "outputs": [],
   "source": [
    "# More...\n",
    "# Generally it's considered best practice (PEP8) that names are lowercase.\n",
    "# Avoid words that have special meaning in Python, like \"list\" and \"str\""
   ]
  },
  {
   "cell_type": "code",
   "execution_count": 47,
   "id": "511828a9",
   "metadata": {},
   "outputs": [],
   "source": [
    "# Python uses \"dynamic typing.\"\n",
    "# Unlike other languages, you can reassign variable names to other variable types throughout the program."
   ]
  },
  {
   "cell_type": "code",
   "execution_count": 49,
   "id": "2e8e81f4",
   "metadata": {},
   "outputs": [],
   "source": [
    "# Be aware of type() function"
   ]
  },
  {
   "cell_type": "code",
   "execution_count": 50,
   "id": "8f4c487e",
   "metadata": {},
   "outputs": [],
   "source": [
    "a = 5"
   ]
  },
  {
   "cell_type": "code",
   "execution_count": 51,
   "id": "bacefd3e",
   "metadata": {},
   "outputs": [
    {
     "data": {
      "text/plain": [
       "5"
      ]
     },
     "execution_count": 51,
     "metadata": {},
     "output_type": "execute_result"
    }
   ],
   "source": [
    "a"
   ]
  },
  {
   "cell_type": "code",
   "execution_count": 52,
   "id": "55711229",
   "metadata": {},
   "outputs": [],
   "source": [
    "a = 10"
   ]
  },
  {
   "cell_type": "code",
   "execution_count": 53,
   "id": "1a944ee5",
   "metadata": {},
   "outputs": [
    {
     "data": {
      "text/plain": [
       "10"
      ]
     },
     "execution_count": 53,
     "metadata": {},
     "output_type": "execute_result"
    }
   ],
   "source": [
    "a"
   ]
  },
  {
   "cell_type": "code",
   "execution_count": 54,
   "id": "95fcfea0",
   "metadata": {},
   "outputs": [
    {
     "data": {
      "text/plain": [
       "20"
      ]
     },
     "execution_count": 54,
     "metadata": {},
     "output_type": "execute_result"
    }
   ],
   "source": [
    "a + a"
   ]
  },
  {
   "cell_type": "code",
   "execution_count": 55,
   "id": "d43e6992",
   "metadata": {},
   "outputs": [],
   "source": [
    "# Python allows reassignment with reference to the same object\n",
    "a = a + a"
   ]
  },
  {
   "cell_type": "code",
   "execution_count": 56,
   "id": "7d92aa96",
   "metadata": {},
   "outputs": [
    {
     "data": {
      "text/plain": [
       "20"
      ]
     },
     "execution_count": 56,
     "metadata": {},
     "output_type": "execute_result"
    }
   ],
   "source": [
    "a"
   ]
  },
  {
   "cell_type": "code",
   "execution_count": 57,
   "id": "313398c2",
   "metadata": {},
   "outputs": [],
   "source": [
    "a = a + a"
   ]
  },
  {
   "cell_type": "code",
   "execution_count": 58,
   "id": "cc51868f",
   "metadata": {},
   "outputs": [
    {
     "data": {
      "text/plain": [
       "40"
      ]
     },
     "execution_count": 58,
     "metadata": {},
     "output_type": "execute_result"
    }
   ],
   "source": [
    "a"
   ]
  },
  {
   "cell_type": "code",
   "execution_count": 59,
   "id": "8928d8e2",
   "metadata": {},
   "outputs": [
    {
     "data": {
      "text/plain": [
       "int"
      ]
     },
     "execution_count": 59,
     "metadata": {},
     "output_type": "execute_result"
    }
   ],
   "source": [
    "type(a)"
   ]
  },
  {
   "cell_type": "code",
   "execution_count": 60,
   "id": "9a9fa2b0",
   "metadata": {},
   "outputs": [],
   "source": [
    "a = 30.1"
   ]
  },
  {
   "cell_type": "code",
   "execution_count": 61,
   "id": "7ee07cdd",
   "metadata": {},
   "outputs": [
    {
     "data": {
      "text/plain": [
       "float"
      ]
     },
     "execution_count": 61,
     "metadata": {},
     "output_type": "execute_result"
    }
   ],
   "source": [
    "type(a)"
   ]
  },
  {
   "cell_type": "code",
   "execution_count": 62,
   "id": "e3cbb111",
   "metadata": {},
   "outputs": [],
   "source": [
    "my_income = 100\n",
    "\n",
    "tax_rate = 0.1\n",
    "\n",
    "my_taxes = my_income * tax_rate"
   ]
  },
  {
   "cell_type": "code",
   "execution_count": 63,
   "id": "e7a47569",
   "metadata": {},
   "outputs": [
    {
     "data": {
      "text/plain": [
       "10.0"
      ]
     },
     "execution_count": 63,
     "metadata": {},
     "output_type": "execute_result"
    }
   ],
   "source": [
    "my_taxes"
   ]
  },
  {
   "cell_type": "markdown",
   "id": "13346227",
   "metadata": {},
   "source": [
    "15 - Introduction to Strings"
   ]
  },
  {
   "cell_type": "code",
   "execution_count": 64,
   "id": "81f646b0",
   "metadata": {},
   "outputs": [],
   "source": [
    "# Strings are sequences of characters, using the syntax of either single or double quotes:\n",
    "# 'hello'\n",
    "# \"Hello\"\n",
    "# \"I don't do that\""
   ]
  },
  {
   "cell_type": "code",
   "execution_count": 65,
   "id": "b7406658",
   "metadata": {},
   "outputs": [
    {
     "data": {
      "text/plain": [
       "'hello'"
      ]
     },
     "execution_count": 65,
     "metadata": {},
     "output_type": "execute_result"
    }
   ],
   "source": [
    "\"hello\""
   ]
  },
  {
   "cell_type": "code",
   "execution_count": 66,
   "id": "c398e4f6",
   "metadata": {},
   "outputs": [
    {
     "data": {
      "text/plain": [
       "'hello'"
      ]
     },
     "execution_count": 66,
     "metadata": {},
     "output_type": "execute_result"
    }
   ],
   "source": [
    "'hello'"
   ]
  },
  {
   "cell_type": "code",
   "execution_count": 67,
   "id": "a691ebac",
   "metadata": {},
   "outputs": [
    {
     "data": {
      "text/plain": [
       "'\"hello\"'"
      ]
     },
     "execution_count": 67,
     "metadata": {},
     "output_type": "execute_result"
    }
   ],
   "source": [
    "'\"hello\"'"
   ]
  },
  {
   "cell_type": "code",
   "execution_count": 68,
   "id": "8c1f34b4",
   "metadata": {},
   "outputs": [
    {
     "data": {
      "text/plain": [
       "\"'hello'\""
      ]
     },
     "execution_count": 68,
     "metadata": {},
     "output_type": "execute_result"
    }
   ],
   "source": [
    "\"'hello'\""
   ]
  },
  {
   "cell_type": "code",
   "execution_count": 69,
   "id": "4dec5e4f",
   "metadata": {},
   "outputs": [],
   "source": [
    "# Remember that strings are ORDERED SEQUENCES.\n",
    "# This means that we can use indexing and slicing to grab sub-sections of the string.\n",
    "# Indexing uses [] notation after the string or variable assigned the string."
   ]
  },
  {
   "cell_type": "code",
   "execution_count": 70,
   "id": "9d96261e",
   "metadata": {},
   "outputs": [],
   "source": [
    "# Indexing\n",
    "# Use square brackets [] and a number index to indicate positions of what you want to grab.\n",
    "# The number index starts with zero 0"
   ]
  },
  {
   "cell_type": "code",
   "execution_count": 71,
   "id": "ae8fbe47",
   "metadata": {},
   "outputs": [],
   "source": [
    "# Reverse indexing\n",
    "# Uses negative numbers, with -1 being the character in the furthermost right position.\n",
    "# However the first character of the string is always zero 0."
   ]
  },
  {
   "cell_type": "code",
   "execution_count": 73,
   "id": "b8bdfec8",
   "metadata": {},
   "outputs": [],
   "source": [
    "# Slicing - allows you to grab a subsection of multiple characters, a slice of the string.\n",
    "# Slicing syntax\n",
    "# [start:stop:step]\n",
    "# start is a numerical index for the slice start\n",
    "# stop is the index you will go up to, but NOT include\n",
    "# step is the size of the jump you take\n"
   ]
  },
  {
   "cell_type": "code",
   "execution_count": 74,
   "id": "f46cb3c6",
   "metadata": {},
   "outputs": [
    {
     "data": {
      "text/plain": [
       "'hello'"
      ]
     },
     "execution_count": 74,
     "metadata": {},
     "output_type": "execute_result"
    }
   ],
   "source": [
    "'hello'"
   ]
  },
  {
   "cell_type": "code",
   "execution_count": 75,
   "id": "7ee03b44",
   "metadata": {},
   "outputs": [
    {
     "data": {
      "text/plain": [
       "'hello'"
      ]
     },
     "execution_count": 75,
     "metadata": {},
     "output_type": "execute_result"
    }
   ],
   "source": [
    "\"hello\""
   ]
  },
  {
   "cell_type": "code",
   "execution_count": 76,
   "id": "40ebaba1",
   "metadata": {},
   "outputs": [
    {
     "data": {
      "text/plain": [
       "'this is also a string'"
      ]
     },
     "execution_count": 76,
     "metadata": {},
     "output_type": "execute_result"
    }
   ],
   "source": [
    "\"this is also a string\""
   ]
  },
  {
   "cell_type": "code",
   "execution_count": 77,
   "id": "ab98621a",
   "metadata": {},
   "outputs": [],
   "source": [
    "# white or blank spaces count when indexing"
   ]
  },
  {
   "cell_type": "code",
   "execution_count": 78,
   "id": "06fc54ad",
   "metadata": {},
   "outputs": [
    {
     "data": {
      "text/plain": [
       "\"I'm going on a run\""
      ]
     },
     "execution_count": 78,
     "metadata": {},
     "output_type": "execute_result"
    }
   ],
   "source": [
    "\"I'm going on a run\""
   ]
  },
  {
   "cell_type": "code",
   "execution_count": 79,
   "id": "251f5fad",
   "metadata": {},
   "outputs": [
    {
     "data": {
      "text/plain": [
       "'I\"m going on a run'"
      ]
     },
     "execution_count": 79,
     "metadata": {},
     "output_type": "execute_result"
    }
   ],
   "source": [
    "'I\"m going on a run'"
   ]
  },
  {
   "cell_type": "code",
   "execution_count": 82,
   "id": "9bee4269",
   "metadata": {},
   "outputs": [],
   "source": [
    "# If you try to output more than one string in a Jupyter notebook cell, you only see the last one.\n",
    "# Use Python's print statement to do this instead"
   ]
  },
  {
   "cell_type": "code",
   "execution_count": 83,
   "id": "5f974570",
   "metadata": {},
   "outputs": [
    {
     "data": {
      "text/plain": [
       "'hello two'"
      ]
     },
     "execution_count": 83,
     "metadata": {},
     "output_type": "execute_result"
    }
   ],
   "source": [
    "'hello one'\n",
    "\"hello two\""
   ]
  },
  {
   "cell_type": "code",
   "execution_count": 84,
   "id": "36d1aec4",
   "metadata": {},
   "outputs": [
    {
     "name": "stdout",
     "output_type": "stream",
     "text": [
      "hello one\n",
      "hello two\n"
     ]
    }
   ],
   "source": [
    "print('hello one')\n",
    "print('hello two')"
   ]
  },
  {
   "cell_type": "code",
   "execution_count": 85,
   "id": "9caf729e",
   "metadata": {},
   "outputs": [
    {
     "name": "stdout",
     "output_type": "stream",
     "text": [
      "'hello one'\n",
      "'hello two'\n"
     ]
    }
   ],
   "source": [
    "print(\"'hello one'\")\n",
    "print(\"'hello two'\")"
   ]
  },
  {
   "cell_type": "code",
   "execution_count": 90,
   "id": "2341b9af",
   "metadata": {},
   "outputs": [
    {
     "name": "stdout",
     "output_type": "stream",
     "text": [
      "hello world\n",
      "hello \n",
      "world\n"
     ]
    }
   ],
   "source": [
    "# Printing on multiple lines with \\n\n",
    "print('hello world')\n",
    "print('hello \\nworld')"
   ]
  },
  {
   "cell_type": "code",
   "execution_count": 91,
   "id": "7533dd59",
   "metadata": {},
   "outputs": [
    {
     "name": "stdout",
     "output_type": "stream",
     "text": [
      "hello \tworld\n"
     ]
    }
   ],
   "source": [
    "# Printing with tab with \\t\n",
    "print('hello \\tworld')"
   ]
  },
  {
   "cell_type": "code",
   "execution_count": 92,
   "id": "a1aa91f9",
   "metadata": {},
   "outputs": [
    {
     "data": {
      "text/plain": [
       "5"
      ]
     },
     "execution_count": 92,
     "metadata": {},
     "output_type": "execute_result"
    }
   ],
   "source": [
    "# Use the len() function\n",
    "len('hello')"
   ]
  },
  {
   "cell_type": "code",
   "execution_count": 94,
   "id": "60c3936d",
   "metadata": {},
   "outputs": [
    {
     "data": {
      "text/plain": [
       "4"
      ]
     },
     "execution_count": 94,
     "metadata": {},
     "output_type": "execute_result"
    }
   ],
   "source": [
    "len('I am')"
   ]
  },
  {
   "cell_type": "markdown",
   "id": "9ad3163f",
   "metadata": {},
   "source": [
    "16 - Indexing and Slicing with Strings"
   ]
  },
  {
   "cell_type": "code",
   "execution_count": 1,
   "id": "ac6b8516",
   "metadata": {},
   "outputs": [],
   "source": [
    "mystring = \"Hello world\""
   ]
  },
  {
   "cell_type": "code",
   "execution_count": 2,
   "id": "424782b1",
   "metadata": {},
   "outputs": [
    {
     "data": {
      "text/plain": [
       "'Hello world'"
      ]
     },
     "execution_count": 2,
     "metadata": {},
     "output_type": "execute_result"
    }
   ],
   "source": [
    "mystring"
   ]
  },
  {
   "cell_type": "code",
   "execution_count": 3,
   "id": "70603094",
   "metadata": {},
   "outputs": [
    {
     "data": {
      "text/plain": [
       "'e'"
      ]
     },
     "execution_count": 3,
     "metadata": {},
     "output_type": "execute_result"
    }
   ],
   "source": [
    "mystring[1]"
   ]
  },
  {
   "cell_type": "code",
   "execution_count": 4,
   "id": "240f0ea3",
   "metadata": {},
   "outputs": [
    {
     "ename": "TypeError",
     "evalue": "'str' object is not callable",
     "output_type": "error",
     "traceback": [
      "\u001b[0;31m---------------------------------------------------------------------------\u001b[0m",
      "\u001b[0;31mTypeError\u001b[0m                                 Traceback (most recent call last)",
      "\u001b[0;32m/tmp/ipykernel_3290/3817887144.py\u001b[0m in \u001b[0;36m<module>\u001b[0;34m\u001b[0m\n\u001b[0;32m----> 1\u001b[0;31m \u001b[0mmystring\u001b[0m\u001b[0;34m(\u001b[0m\u001b[0;36m1\u001b[0m\u001b[0;34m)\u001b[0m\u001b[0;34m\u001b[0m\u001b[0;34m\u001b[0m\u001b[0m\n\u001b[0m",
      "\u001b[0;31mTypeError\u001b[0m: 'str' object is not callable"
     ]
    }
   ],
   "source": [
    "mystring(1)"
   ]
  },
  {
   "cell_type": "code",
   "execution_count": 5,
   "id": "e847368e",
   "metadata": {},
   "outputs": [
    {
     "data": {
      "text/plain": [
       "'e'"
      ]
     },
     "execution_count": 5,
     "metadata": {},
     "output_type": "execute_result"
    }
   ],
   "source": [
    "mystring[1:2:3]"
   ]
  },
  {
   "cell_type": "code",
   "execution_count": 6,
   "id": "5d7c8742",
   "metadata": {},
   "outputs": [
    {
     "data": {
      "text/plain": [
       "'d'"
      ]
     },
     "execution_count": 6,
     "metadata": {},
     "output_type": "execute_result"
    }
   ],
   "source": [
    "mystring[-1]"
   ]
  },
  {
   "cell_type": "code",
   "execution_count": 7,
   "id": "e546e1b9",
   "metadata": {},
   "outputs": [
    {
     "data": {
      "text/plain": [
       "'Hlowrd'"
      ]
     },
     "execution_count": 7,
     "metadata": {},
     "output_type": "execute_result"
    }
   ],
   "source": [
    "mystring[::2]"
   ]
  },
  {
   "cell_type": "code",
   "execution_count": 8,
   "id": "3ce92977",
   "metadata": {},
   "outputs": [
    {
     "data": {
      "text/plain": [
       "'r'"
      ]
     },
     "execution_count": 8,
     "metadata": {},
     "output_type": "execute_result"
    }
   ],
   "source": [
    "mystring[8]"
   ]
  },
  {
   "cell_type": "code",
   "execution_count": 9,
   "id": "3699d9a7",
   "metadata": {},
   "outputs": [
    {
     "data": {
      "text/plain": [
       "'l'"
      ]
     },
     "execution_count": 9,
     "metadata": {},
     "output_type": "execute_result"
    }
   ],
   "source": [
    "mystring[9]"
   ]
  },
  {
   "cell_type": "code",
   "execution_count": 10,
   "id": "c566eb5e",
   "metadata": {},
   "outputs": [
    {
     "data": {
      "text/plain": [
       "'l'"
      ]
     },
     "execution_count": 10,
     "metadata": {},
     "output_type": "execute_result"
    }
   ],
   "source": [
    "mystring[-2]"
   ]
  },
  {
   "cell_type": "code",
   "execution_count": 11,
   "id": "c7145357",
   "metadata": {},
   "outputs": [],
   "source": [
    "# index position [0] always grabs the first letter of a string\n",
    "# index position [-1] always grabs the last letter of a string"
   ]
  },
  {
   "cell_type": "code",
   "execution_count": 12,
   "id": "6a9f2de8",
   "metadata": {},
   "outputs": [],
   "source": [
    "# indexing grabs a character from a string\n",
    "# slicing grabs a subsection from a string"
   ]
  },
  {
   "cell_type": "code",
   "execution_count": 13,
   "id": "37ff965b",
   "metadata": {},
   "outputs": [
    {
     "data": {
      "text/plain": [
       "'Hello world'"
      ]
     },
     "execution_count": 13,
     "metadata": {},
     "output_type": "execute_result"
    }
   ],
   "source": [
    "mystring"
   ]
  },
  {
   "cell_type": "code",
   "execution_count": 14,
   "id": "7c01a08d",
   "metadata": {},
   "outputs": [],
   "source": [
    "mystring = \"abcdefghijk\""
   ]
  },
  {
   "cell_type": "code",
   "execution_count": 15,
   "id": "dcab9907",
   "metadata": {},
   "outputs": [
    {
     "data": {
      "text/plain": [
       "'cdefghijk'"
      ]
     },
     "execution_count": 15,
     "metadata": {},
     "output_type": "execute_result"
    }
   ],
   "source": [
    "# Grab a subset of the string that starts in one index position and continues to the end of the string\n",
    "mystring[2:]"
   ]
  },
  {
   "cell_type": "code",
   "execution_count": 16,
   "id": "3817b805",
   "metadata": {},
   "outputs": [
    {
     "data": {
      "text/plain": [
       "'cdefghijk'"
      ]
     },
     "execution_count": 16,
     "metadata": {},
     "output_type": "execute_result"
    }
   ],
   "source": [
    "mystring[2::]"
   ]
  },
  {
   "cell_type": "code",
   "execution_count": 17,
   "id": "251bf66d",
   "metadata": {},
   "outputs": [
    {
     "data": {
      "text/plain": [
       "'abc'"
      ]
     },
     "execution_count": 17,
     "metadata": {},
     "output_type": "execute_result"
    }
   ],
   "source": [
    "# Grab everything upto a specific index\n",
    "mystring[:3]"
   ]
  },
  {
   "cell_type": "code",
   "execution_count": 19,
   "id": "aa7d9693",
   "metadata": {},
   "outputs": [],
   "source": [
    "# REMEMBER: although 'd' is in index position 3, it is not included\n",
    "# When using a stop index [:3] it includes everything UP TO BUT NOT INCLUDING what's in that position"
   ]
  },
  {
   "cell_type": "code",
   "execution_count": 20,
   "id": "f9cf3e7d",
   "metadata": {},
   "outputs": [
    {
     "data": {
      "text/plain": [
       "'abcdefghijk'"
      ]
     },
     "execution_count": 20,
     "metadata": {},
     "output_type": "execute_result"
    }
   ],
   "source": [
    "mystring"
   ]
  },
  {
   "cell_type": "code",
   "execution_count": 21,
   "id": "72fcdd1e",
   "metadata": {},
   "outputs": [
    {
     "data": {
      "text/plain": [
       "'efg'"
      ]
     },
     "execution_count": 21,
     "metadata": {},
     "output_type": "execute_result"
    }
   ],
   "source": [
    "# Grab 'def' from the string\n",
    "mystring[4:7]"
   ]
  },
  {
   "cell_type": "code",
   "execution_count": 22,
   "id": "de1ee049",
   "metadata": {},
   "outputs": [
    {
     "data": {
      "text/plain": [
       "'def'"
      ]
     },
     "execution_count": 22,
     "metadata": {},
     "output_type": "execute_result"
    }
   ],
   "source": [
    "mystring[3:6]"
   ]
  },
  {
   "cell_type": "code",
   "execution_count": 23,
   "id": "822eb171",
   "metadata": {},
   "outputs": [
    {
     "data": {
      "text/plain": [
       "'bc'"
      ]
     },
     "execution_count": 23,
     "metadata": {},
     "output_type": "execute_result"
    }
   ],
   "source": [
    "# Grab 'bc' from the string\n",
    "mystring[1:3]"
   ]
  },
  {
   "cell_type": "code",
   "execution_count": 24,
   "id": "d044cb75",
   "metadata": {},
   "outputs": [
    {
     "ename": "NameError",
     "evalue": "name 'mystrign' is not defined",
     "output_type": "error",
     "traceback": [
      "\u001b[0;31m---------------------------------------------------------------------------\u001b[0m",
      "\u001b[0;31mNameError\u001b[0m                                 Traceback (most recent call last)",
      "\u001b[0;32m/tmp/ipykernel_3290/4207184230.py\u001b[0m in \u001b[0;36m<module>\u001b[0;34m\u001b[0m\n\u001b[0;32m----> 1\u001b[0;31m \u001b[0mmystrign\u001b[0m\u001b[0;34m\u001b[0m\u001b[0;34m\u001b[0m\u001b[0m\n\u001b[0m",
      "\u001b[0;31mNameError\u001b[0m: name 'mystrign' is not defined"
     ]
    }
   ],
   "source": [
    "mystrign"
   ]
  },
  {
   "cell_type": "code",
   "execution_count": 25,
   "id": "6390b3c2",
   "metadata": {},
   "outputs": [
    {
     "data": {
      "text/plain": [
       "'abcdefghijk'"
      ]
     },
     "execution_count": 25,
     "metadata": {},
     "output_type": "execute_result"
    }
   ],
   "source": [
    "mystring"
   ]
  },
  {
   "cell_type": "code",
   "execution_count": 26,
   "id": "602b103b",
   "metadata": {},
   "outputs": [
    {
     "data": {
      "text/plain": [
       "'abcdefghijk'"
      ]
     },
     "execution_count": 26,
     "metadata": {},
     "output_type": "execute_result"
    }
   ],
   "source": [
    "# Use string notation to grab everything in the string\n",
    "mystring[::]"
   ]
  },
  {
   "cell_type": "code",
   "execution_count": 27,
   "id": "d516c9e0",
   "metadata": {},
   "outputs": [],
   "source": [
    "# The third parameter is the step size"
   ]
  },
  {
   "cell_type": "code",
   "execution_count": 28,
   "id": "af4fba32",
   "metadata": {},
   "outputs": [
    {
     "data": {
      "text/plain": [
       "'acegik'"
      ]
     },
     "execution_count": 28,
     "metadata": {},
     "output_type": "execute_result"
    }
   ],
   "source": [
    "mystring[::2]"
   ]
  },
  {
   "cell_type": "code",
   "execution_count": 29,
   "id": "8aa0b24f",
   "metadata": {},
   "outputs": [],
   "source": [
    "binary_string = \"0101010101010101\""
   ]
  },
  {
   "cell_type": "code",
   "execution_count": 30,
   "id": "edff0105",
   "metadata": {},
   "outputs": [
    {
     "data": {
      "text/plain": [
       "'11111111'"
      ]
     },
     "execution_count": 30,
     "metadata": {},
     "output_type": "execute_result"
    }
   ],
   "source": [
    "binary_string[1::2]"
   ]
  },
  {
   "cell_type": "code",
   "execution_count": 31,
   "id": "77f84b0e",
   "metadata": {},
   "outputs": [
    {
     "data": {
      "text/plain": [
       "'00000000'"
      ]
     },
     "execution_count": 31,
     "metadata": {},
     "output_type": "execute_result"
    }
   ],
   "source": [
    "binary_string[::2]"
   ]
  },
  {
   "cell_type": "code",
   "execution_count": 32,
   "id": "7afc30fe",
   "metadata": {},
   "outputs": [
    {
     "data": {
      "text/plain": [
       "'kjihgfedcba'"
      ]
     },
     "execution_count": 32,
     "metadata": {},
     "output_type": "execute_result"
    }
   ],
   "source": [
    "mystring[::-1]"
   ]
  },
  {
   "cell_type": "markdown",
   "id": "0c107b66",
   "metadata": {},
   "source": [
    "17 - String Properties and Methods "
   ]
  },
  {
   "cell_type": "code",
   "execution_count": 33,
   "id": "cae4777b",
   "metadata": {},
   "outputs": [],
   "source": [
    "# Strings are immutable\n",
    "# This means the string can't change"
   ]
  },
  {
   "cell_type": "code",
   "execution_count": 34,
   "id": "95dc9d66",
   "metadata": {},
   "outputs": [],
   "source": [
    "name = \"Sam\""
   ]
  },
  {
   "cell_type": "code",
   "execution_count": 35,
   "id": "917f4854",
   "metadata": {},
   "outputs": [
    {
     "ename": "TypeError",
     "evalue": "'str' object does not support item assignment",
     "output_type": "error",
     "traceback": [
      "\u001b[0;31m---------------------------------------------------------------------------\u001b[0m",
      "\u001b[0;31mTypeError\u001b[0m                                 Traceback (most recent call last)",
      "\u001b[0;32m/tmp/ipykernel_3290/4091125550.py\u001b[0m in \u001b[0;36m<module>\u001b[0;34m\u001b[0m\n\u001b[0;32m----> 1\u001b[0;31m \u001b[0mname\u001b[0m\u001b[0;34m[\u001b[0m\u001b[0;36m0\u001b[0m\u001b[0;34m]\u001b[0m \u001b[0;34m=\u001b[0m \u001b[0;34m'P'\u001b[0m\u001b[0;34m\u001b[0m\u001b[0;34m\u001b[0m\u001b[0m\n\u001b[0m",
      "\u001b[0;31mTypeError\u001b[0m: 'str' object does not support item assignment"
     ]
    }
   ],
   "source": [
    "name[0] = 'P'"
   ]
  },
  {
   "cell_type": "code",
   "execution_count": 36,
   "id": "0e6d67c2",
   "metadata": {},
   "outputs": [],
   "source": [
    "# you have to create a new string or recreate it with concatenation"
   ]
  },
  {
   "cell_type": "code",
   "execution_count": 37,
   "id": "b84e2df9",
   "metadata": {},
   "outputs": [
    {
     "data": {
      "text/plain": [
       "'Sam'"
      ]
     },
     "execution_count": 37,
     "metadata": {},
     "output_type": "execute_result"
    }
   ],
   "source": [
    "name"
   ]
  },
  {
   "cell_type": "code",
   "execution_count": 38,
   "id": "9bf74d52",
   "metadata": {},
   "outputs": [
    {
     "data": {
      "text/plain": [
       "'am'"
      ]
     },
     "execution_count": 38,
     "metadata": {},
     "output_type": "execute_result"
    }
   ],
   "source": [
    "name[1:]"
   ]
  },
  {
   "cell_type": "code",
   "execution_count": 41,
   "id": "e3779a68",
   "metadata": {},
   "outputs": [],
   "source": [
    "last_letters = name[1::]"
   ]
  },
  {
   "cell_type": "code",
   "execution_count": 42,
   "id": "bf43766b",
   "metadata": {},
   "outputs": [
    {
     "data": {
      "text/plain": [
       "'Pam'"
      ]
     },
     "execution_count": 42,
     "metadata": {},
     "output_type": "execute_result"
    }
   ],
   "source": [
    "'P' + last_letters"
   ]
  },
  {
   "cell_type": "code",
   "execution_count": 43,
   "id": "1aed0e5c",
   "metadata": {},
   "outputs": [],
   "source": [
    "x = 'Hello World'"
   ]
  },
  {
   "cell_type": "code",
   "execution_count": 44,
   "id": "89f9c02e",
   "metadata": {},
   "outputs": [
    {
     "data": {
      "text/plain": [
       "'Hello World it is beautiful outside'"
      ]
     },
     "execution_count": 44,
     "metadata": {},
     "output_type": "execute_result"
    }
   ],
   "source": [
    "x + \" it is beautiful outside\""
   ]
  },
  {
   "cell_type": "code",
   "execution_count": 45,
   "id": "04eeadc2",
   "metadata": {},
   "outputs": [],
   "source": [
    "x = x + ' it is beautiful outside'"
   ]
  },
  {
   "cell_type": "code",
   "execution_count": 46,
   "id": "6673b5af",
   "metadata": {},
   "outputs": [
    {
     "data": {
      "text/plain": [
       "'Hello World it is beautiful outside'"
      ]
     },
     "execution_count": 46,
     "metadata": {},
     "output_type": "execute_result"
    }
   ],
   "source": [
    "x"
   ]
  },
  {
   "cell_type": "code",
   "execution_count": 47,
   "id": "91303303",
   "metadata": {},
   "outputs": [],
   "source": [
    "# That's string concatenation"
   ]
  },
  {
   "cell_type": "code",
   "execution_count": 48,
   "id": "76c81b59",
   "metadata": {},
   "outputs": [],
   "source": [
    "# you can use multiplication, too"
   ]
  },
  {
   "cell_type": "code",
   "execution_count": 49,
   "id": "f633275d",
   "metadata": {},
   "outputs": [],
   "source": [
    "letter = 'z'"
   ]
  },
  {
   "cell_type": "code",
   "execution_count": 50,
   "id": "07fb77b1",
   "metadata": {},
   "outputs": [
    {
     "data": {
      "text/plain": [
       "'z'"
      ]
     },
     "execution_count": 50,
     "metadata": {},
     "output_type": "execute_result"
    }
   ],
   "source": [
    "letter"
   ]
  },
  {
   "cell_type": "code",
   "execution_count": 51,
   "id": "f2a955ae",
   "metadata": {},
   "outputs": [
    {
     "data": {
      "text/plain": [
       "'zzzzzzzzzz'"
      ]
     },
     "execution_count": 51,
     "metadata": {},
     "output_type": "execute_result"
    }
   ],
   "source": [
    "letter * 10"
   ]
  },
  {
   "cell_type": "code",
   "execution_count": 52,
   "id": "392fbb48",
   "metadata": {},
   "outputs": [],
   "source": [
    "letter = letter * 10"
   ]
  },
  {
   "cell_type": "code",
   "execution_count": 53,
   "id": "05782046",
   "metadata": {},
   "outputs": [
    {
     "data": {
      "text/plain": [
       "'zzzzzzzzzz'"
      ]
     },
     "execution_count": 53,
     "metadata": {},
     "output_type": "execute_result"
    }
   ],
   "source": [
    "letter"
   ]
  },
  {
   "cell_type": "code",
   "execution_count": 54,
   "id": "30d7cf9c",
   "metadata": {},
   "outputs": [
    {
     "data": {
      "text/plain": [
       "5"
      ]
     },
     "execution_count": 54,
     "metadata": {},
     "output_type": "execute_result"
    }
   ],
   "source": [
    "2 + 3"
   ]
  },
  {
   "cell_type": "code",
   "execution_count": 55,
   "id": "79f6e73a",
   "metadata": {},
   "outputs": [
    {
     "data": {
      "text/plain": [
       "'23'"
      ]
     },
     "execution_count": 55,
     "metadata": {},
     "output_type": "execute_result"
    }
   ],
   "source": [
    "'2' + '3'"
   ]
  },
  {
   "cell_type": "code",
   "execution_count": 56,
   "id": "0dbe81a2",
   "metadata": {},
   "outputs": [],
   "source": [
    "# so watch the data types"
   ]
  },
  {
   "cell_type": "code",
   "execution_count": 57,
   "id": "e6b008c8",
   "metadata": {},
   "outputs": [],
   "source": [
    "# Python has built-in methods\n",
    "# These are functions that are inside the objects"
   ]
  },
  {
   "cell_type": "code",
   "execution_count": 58,
   "id": "d60a139b",
   "metadata": {},
   "outputs": [],
   "source": [
    "# Useful methods"
   ]
  },
  {
   "cell_type": "code",
   "execution_count": 59,
   "id": "aa183f53",
   "metadata": {},
   "outputs": [],
   "source": [
    "x = 'Hello World'"
   ]
  },
  {
   "cell_type": "code",
   "execution_count": 61,
   "id": "d830872e",
   "metadata": {},
   "outputs": [
    {
     "data": {
      "text/plain": [
       "'Hello world'"
      ]
     },
     "execution_count": 61,
     "metadata": {},
     "output_type": "execute_result"
    }
   ],
   "source": [
    "# now type 'x.' and hit the tab key\n",
    "x.capitalize()"
   ]
  },
  {
   "cell_type": "code",
   "execution_count": 62,
   "id": "a936993d",
   "metadata": {},
   "outputs": [
    {
     "data": {
      "text/plain": [
       "'HELLO WORLD'"
      ]
     },
     "execution_count": 62,
     "metadata": {},
     "output_type": "execute_result"
    }
   ],
   "source": [
    "x.upper()"
   ]
  },
  {
   "cell_type": "code",
   "execution_count": 63,
   "id": "68a4328f",
   "metadata": {},
   "outputs": [
    {
     "data": {
      "text/plain": [
       "'hello world'"
      ]
     },
     "execution_count": 63,
     "metadata": {},
     "output_type": "execute_result"
    }
   ],
   "source": [
    "x.casefold()"
   ]
  },
  {
   "cell_type": "code",
   "execution_count": 64,
   "id": "e9dbcb32",
   "metadata": {},
   "outputs": [
    {
     "data": {
      "text/plain": [
       "'hello world'"
      ]
     },
     "execution_count": 64,
     "metadata": {},
     "output_type": "execute_result"
    }
   ],
   "source": [
    "x.lower()"
   ]
  },
  {
   "cell_type": "code",
   "execution_count": 65,
   "id": "3d0d4998",
   "metadata": {},
   "outputs": [
    {
     "data": {
      "text/plain": [
       "['Hello', 'World']"
      ]
     },
     "execution_count": 65,
     "metadata": {},
     "output_type": "execute_result"
    }
   ],
   "source": [
    "x.split()"
   ]
  },
  {
   "cell_type": "code",
   "execution_count": 66,
   "id": "1ead6c80",
   "metadata": {},
   "outputs": [],
   "source": [
    "# If you use x.split() this splits the string on the white space and makes a list out of it."
   ]
  },
  {
   "cell_type": "code",
   "execution_count": 67,
   "id": "5c500411",
   "metadata": {},
   "outputs": [],
   "source": [
    "# Default is to split on the white space.  You can change that."
   ]
  },
  {
   "cell_type": "code",
   "execution_count": 68,
   "id": "ab62858f",
   "metadata": {},
   "outputs": [],
   "source": [
    "x = 'Hi this is a string'"
   ]
  },
  {
   "cell_type": "code",
   "execution_count": 69,
   "id": "114a68ab",
   "metadata": {},
   "outputs": [
    {
     "data": {
      "text/plain": [
       "'Hi this is a string'"
      ]
     },
     "execution_count": 69,
     "metadata": {},
     "output_type": "execute_result"
    }
   ],
   "source": [
    "x"
   ]
  },
  {
   "cell_type": "code",
   "execution_count": 70,
   "id": "eae1ff53",
   "metadata": {},
   "outputs": [
    {
     "data": {
      "text/plain": [
       "['H', ' th', 's ', 's a str', 'ng']"
      ]
     },
     "execution_count": 70,
     "metadata": {},
     "output_type": "execute_result"
    }
   ],
   "source": [
    "x.split('i')"
   ]
  },
  {
   "cell_type": "code",
   "execution_count": null,
   "id": "4883026b",
   "metadata": {},
   "outputs": [],
   "source": [
    "# that causes the split to happen on the 'i'"
   ]
  },
  {
   "cell_type": "raw",
   "id": "8d712048",
   "metadata": {},
   "source": [
    "21 - String Formatting for Printing"
   ]
  },
  {
   "cell_type": "code",
   "execution_count": 1,
   "id": "5f244cc2",
   "metadata": {},
   "outputs": [],
   "source": [
    "# The idea is to inject a variable into the string you want to print."
   ]
  },
  {
   "cell_type": "code",
   "execution_count": 3,
   "id": "01f0664a",
   "metadata": {},
   "outputs": [],
   "source": [
    "# There are multiple ways to format strings for printing variables in them.\n",
    "# This is called string interpolation.\n",
    "# Two main methods for this:\n",
    "#   .format()\n",
    "#   f-strings  (formatted string literals)"
   ]
  },
  {
   "cell_type": "markdown",
   "id": "4925266a",
   "metadata": {},
   "source": [
    "Formatting with the .format() method\n",
    "\n",
    "A good way to format oblects into your strings for print statements is with the string .format() method.\n",
    "The syntax is:\n",
    "\n",
    "'String here {} then also {}'.format('something1', 'something2')"
   ]
  },
  {
   "cell_type": "code",
   "execution_count": 4,
   "id": "ff3fa500",
   "metadata": {},
   "outputs": [
    {
     "name": "stdout",
     "output_type": "stream",
     "text": [
      "This is a string YEAH...NO KIDDING!\n"
     ]
    }
   ],
   "source": [
    "print('This is a string {}'.format('YEAH...NO KIDDING!'))"
   ]
  },
  {
   "cell_type": "code",
   "execution_count": 5,
   "id": "1cf58fd1",
   "metadata": {},
   "outputs": [
    {
     "name": "stdout",
     "output_type": "stream",
     "text": [
      "The fox brown quick\n"
     ]
    }
   ],
   "source": [
    "print('The {} {} {}'.format('fox','brown','quick'))"
   ]
  },
  {
   "cell_type": "code",
   "execution_count": 6,
   "id": "01e47d18",
   "metadata": {},
   "outputs": [],
   "source": [
    "# The default way .format() fills in the variables in the print() statement is in the order they are given.\n",
    "# You can specify the index position of what you want from the .format() method."
   ]
  },
  {
   "cell_type": "code",
   "execution_count": 8,
   "id": "56f1389f",
   "metadata": {},
   "outputs": [
    {
     "name": "stdout",
     "output_type": "stream",
     "text": [
      "The brown brown fox\n"
     ]
    }
   ],
   "source": [
    "print('The {1} {1} {0}'.format('fox','brown','quick'))"
   ]
  },
  {
   "cell_type": "code",
   "execution_count": 9,
   "id": "fde454a0",
   "metadata": {},
   "outputs": [],
   "source": [
    "# You can also assign the positions key words to make it easier to read the code"
   ]
  },
  {
   "cell_type": "code",
   "execution_count": 10,
   "id": "88c6dd8e",
   "metadata": {},
   "outputs": [
    {
     "name": "stdout",
     "output_type": "stream",
     "text": [
      "The brown brown fox\n"
     ]
    }
   ],
   "source": [
    "print('The {b} {b} {f}'.format(f='fox',b='brown',q='quick'))"
   ]
  },
  {
   "cell_type": "code",
   "execution_count": 11,
   "id": "a3a7dbef",
   "metadata": {},
   "outputs": [
    {
     "name": "stdout",
     "output_type": "stream",
     "text": [
      "The fox fox fox\n"
     ]
    }
   ],
   "source": [
    "print('The {f} {f} {f}'.format(f='fox',b='brown',q='quick'))"
   ]
  },
  {
   "cell_type": "code",
   "execution_count": 12,
   "id": "8cdb2a72",
   "metadata": {},
   "outputs": [],
   "source": [
    "# float formatting"
   ]
  },
  {
   "cell_type": "code",
   "execution_count": 13,
   "id": "0842e605",
   "metadata": {},
   "outputs": [],
   "source": [
    "result = 100/777"
   ]
  },
  {
   "cell_type": "code",
   "execution_count": 14,
   "id": "6155d9c0",
   "metadata": {},
   "outputs": [
    {
     "data": {
      "text/plain": [
       "0.1287001287001287"
      ]
     },
     "execution_count": 14,
     "metadata": {},
     "output_type": "execute_result"
    }
   ],
   "source": [
    "result"
   ]
  },
  {
   "cell_type": "code",
   "execution_count": 15,
   "id": "b5aca0c9",
   "metadata": {},
   "outputs": [],
   "source": [
    "# change the level of precision you want and change the width of the number itself"
   ]
  },
  {
   "cell_type": "code",
   "execution_count": 16,
   "id": "9d8e9e56",
   "metadata": {},
   "outputs": [
    {
     "name": "stdout",
     "output_type": "stream",
     "text": [
      "The result was 0.1287001287001287\n"
     ]
    }
   ],
   "source": [
    "print('The result was {}'.format(result))"
   ]
  },
  {
   "cell_type": "code",
   "execution_count": 17,
   "id": "ca9dd730",
   "metadata": {},
   "outputs": [
    {
     "name": "stdout",
     "output_type": "stream",
     "text": [
      "The result was 0.1287001287001287\n"
     ]
    }
   ],
   "source": [
    "print('The result was {r}'.format(r=result))"
   ]
  },
  {
   "cell_type": "code",
   "execution_count": 18,
   "id": "fc79a34b",
   "metadata": {},
   "outputs": [],
   "source": [
    "# Float formatting syntax\n",
    "# \"{value:width.precision f}\"\n",
    "# Mostly care about the precision. How many places past the decimal point.\n",
    "# Width mainly just adds whitespace"
   ]
  },
  {
   "cell_type": "code",
   "execution_count": 20,
   "id": "66b69ce6",
   "metadata": {},
   "outputs": [
    {
     "name": "stdout",
     "output_type": "stream",
     "text": [
      "The result was 0.129\n"
     ]
    }
   ],
   "source": [
    "print('The result was {r:1.3f}'.format(r=result))"
   ]
  },
  {
   "cell_type": "code",
   "execution_count": 21,
   "id": "720e6381",
   "metadata": {},
   "outputs": [],
   "source": [
    "result = 104.9998"
   ]
  },
  {
   "cell_type": "code",
   "execution_count": 22,
   "id": "c629eb04",
   "metadata": {},
   "outputs": [
    {
     "name": "stdout",
     "output_type": "stream",
     "text": [
      "The result was 105.00\n"
     ]
    }
   ],
   "source": [
    "print('The result was {r:1.2f}'.format(r=result))"
   ]
  },
  {
   "cell_type": "code",
   "execution_count": 23,
   "id": "28477af8",
   "metadata": {},
   "outputs": [
    {
     "name": "stdout",
     "output_type": "stream",
     "text": [
      "The result was 104.99980\n"
     ]
    }
   ],
   "source": [
    "print('The result was {r:1.5f}'.format(r=result))"
   ]
  },
  {
   "cell_type": "code",
   "execution_count": 25,
   "id": "4c0073c7",
   "metadata": {},
   "outputs": [
    {
     "name": "stdout",
     "output_type": "stream",
     "text": [
      "The result was     105.00\n"
     ]
    }
   ],
   "source": [
    "print('The result was {r:10.2f}'.format(r=result))"
   ]
  },
  {
   "cell_type": "code",
   "execution_count": 26,
   "id": "bd141a05",
   "metadata": {},
   "outputs": [
    {
     "name": "stdout",
     "output_type": "stream",
     "text": [
      "The result was  104.99980\n"
     ]
    }
   ],
   "source": [
    "print('The result was {r:10.5f}'.format(r=result))"
   ]
  },
  {
   "cell_type": "markdown",
   "id": "dfe0ddf0",
   "metadata": {},
   "source": [
    "Formatting with f-string\n",
    "Formatted string literals"
   ]
  },
  {
   "cell_type": "code",
   "execution_count": 27,
   "id": "516bbe38",
   "metadata": {},
   "outputs": [],
   "source": [
    "name = \"Jose\""
   ]
  },
  {
   "cell_type": "code",
   "execution_count": 28,
   "id": "76ae1e1e",
   "metadata": {},
   "outputs": [
    {
     "name": "stdout",
     "output_type": "stream",
     "text": [
      "Hello, his name is Jose\n"
     ]
    }
   ],
   "source": [
    "# .format() call, i.e. the old way of doing it\n",
    "print('Hello, his name is {}'.format(name))"
   ]
  },
  {
   "cell_type": "code",
   "execution_count": 30,
   "id": "65cf654a",
   "metadata": {},
   "outputs": [
    {
     "name": "stdout",
     "output_type": "stream",
     "text": [
      "Hello, his name is Jose\n"
     ]
    }
   ],
   "source": [
    "print(f'Hello, his name is {name}')"
   ]
  },
  {
   "cell_type": "code",
   "execution_count": 31,
   "id": "f4e3dfcf",
   "metadata": {},
   "outputs": [],
   "source": [
    "name = \"Sam\"\n",
    "age = 3"
   ]
  },
  {
   "cell_type": "code",
   "execution_count": 33,
   "id": "3cbf382a",
   "metadata": {},
   "outputs": [
    {
     "name": "stdout",
     "output_type": "stream",
     "text": [
      "Sam is now 3 years old\n"
     ]
    }
   ],
   "source": [
    "print(f'{name} is now {age} years old')"
   ]
  },
  {
   "cell_type": "markdown",
   "id": "2759f229",
   "metadata": {},
   "source": [
    "21 - Lists in Python"
   ]
  },
  {
   "cell_type": "code",
   "execution_count": 1,
   "id": "1c3ae25c",
   "metadata": {},
   "outputs": [],
   "source": [
    "# Lists are ordered sequences\n",
    "# They use brackets [] and commas to separate objects in the list\n",
    "# [1,2,3,4,5]\n",
    "# Lists support indexing and slicing. Lists can be nested."
   ]
  },
  {
   "cell_type": "code",
   "execution_count": 2,
   "id": "b2928a9b",
   "metadata": {},
   "outputs": [],
   "source": [
    "my_list = [1,2,3]"
   ]
  },
  {
   "cell_type": "code",
   "execution_count": 3,
   "id": "b9942881",
   "metadata": {},
   "outputs": [
    {
     "data": {
      "text/plain": [
       "[1, 2, 3]"
      ]
     },
     "execution_count": 3,
     "metadata": {},
     "output_type": "execute_result"
    }
   ],
   "source": [
    "my_list"
   ]
  },
  {
   "cell_type": "code",
   "execution_count": 4,
   "id": "0214152c",
   "metadata": {},
   "outputs": [],
   "source": [
    "# This was a list of integers\n",
    "# You can mix the data types"
   ]
  },
  {
   "cell_type": "code",
   "execution_count": 5,
   "id": "977e6fbd",
   "metadata": {},
   "outputs": [],
   "source": [
    "my_list = ['string',100,23.4]"
   ]
  },
  {
   "cell_type": "code",
   "execution_count": 6,
   "id": "402dd077",
   "metadata": {},
   "outputs": [
    {
     "data": {
      "text/plain": [
       "['string', 100, 23.4]"
      ]
     },
     "execution_count": 6,
     "metadata": {},
     "output_type": "execute_result"
    }
   ],
   "source": [
    "my_list"
   ]
  },
  {
   "cell_type": "code",
   "execution_count": 7,
   "id": "fb85d17d",
   "metadata": {},
   "outputs": [
    {
     "data": {
      "text/plain": [
       "3"
      ]
     },
     "execution_count": 7,
     "metadata": {},
     "output_type": "execute_result"
    }
   ],
   "source": [
    "len(my_list)"
   ]
  },
  {
   "cell_type": "code",
   "execution_count": 8,
   "id": "bd93730c",
   "metadata": {},
   "outputs": [],
   "source": [
    "# This means there are 3 elements or items in the list"
   ]
  },
  {
   "cell_type": "code",
   "execution_count": 9,
   "id": "72cfb645",
   "metadata": {},
   "outputs": [],
   "source": [
    "# a list, like a string, uses ordered sequences of elements"
   ]
  },
  {
   "cell_type": "code",
   "execution_count": 10,
   "id": "a7e6a517",
   "metadata": {},
   "outputs": [],
   "source": [
    "# You can do many of the same things with a list that you can do with a string"
   ]
  },
  {
   "cell_type": "code",
   "execution_count": 11,
   "id": "695a9c5b",
   "metadata": {},
   "outputs": [],
   "source": [
    "my_list = ['one','two','three']"
   ]
  },
  {
   "cell_type": "code",
   "execution_count": 12,
   "id": "409c9f09",
   "metadata": {},
   "outputs": [
    {
     "data": {
      "text/plain": [
       "'one'"
      ]
     },
     "execution_count": 12,
     "metadata": {},
     "output_type": "execute_result"
    }
   ],
   "source": [
    "my_list[0]"
   ]
  },
  {
   "cell_type": "code",
   "execution_count": 13,
   "id": "3f6f1b92",
   "metadata": {},
   "outputs": [],
   "source": [
    "# Remember to use the brackets [] when indexing or slicing"
   ]
  },
  {
   "cell_type": "code",
   "execution_count": 14,
   "id": "91ed3b96",
   "metadata": {},
   "outputs": [
    {
     "data": {
      "text/plain": [
       "['two', 'three']"
      ]
     },
     "execution_count": 14,
     "metadata": {},
     "output_type": "execute_result"
    }
   ],
   "source": [
    "my_list[1:]"
   ]
  },
  {
   "cell_type": "code",
   "execution_count": 15,
   "id": "72b6fc07",
   "metadata": {},
   "outputs": [],
   "source": [
    "# you can concatenate lists together"
   ]
  },
  {
   "cell_type": "code",
   "execution_count": 16,
   "id": "a19b8e92",
   "metadata": {},
   "outputs": [
    {
     "data": {
      "text/plain": [
       "['one', 'two', 'three']"
      ]
     },
     "execution_count": 16,
     "metadata": {},
     "output_type": "execute_result"
    }
   ],
   "source": [
    "my_list"
   ]
  },
  {
   "cell_type": "code",
   "execution_count": 17,
   "id": "785bc6f5",
   "metadata": {},
   "outputs": [],
   "source": [
    "another_list = ['four','five']"
   ]
  },
  {
   "cell_type": "code",
   "execution_count": 18,
   "id": "3ccc9a1c",
   "metadata": {},
   "outputs": [
    {
     "data": {
      "text/plain": [
       "['one', 'two', 'three', 'four', 'five']"
      ]
     },
     "execution_count": 18,
     "metadata": {},
     "output_type": "execute_result"
    }
   ],
   "source": [
    "my_list + another_list"
   ]
  },
  {
   "cell_type": "code",
   "execution_count": 19,
   "id": "69d78ccb",
   "metadata": {},
   "outputs": [],
   "source": [
    "new_list = my_list + another_list"
   ]
  },
  {
   "cell_type": "code",
   "execution_count": 20,
   "id": "aae3f438",
   "metadata": {},
   "outputs": [
    {
     "data": {
      "text/plain": [
       "['one', 'two', 'three', 'four', 'five']"
      ]
     },
     "execution_count": 20,
     "metadata": {},
     "output_type": "execute_result"
    }
   ],
   "source": [
    "new_list"
   ]
  },
  {
   "cell_type": "code",
   "execution_count": 21,
   "id": "2ac30799",
   "metadata": {},
   "outputs": [
    {
     "data": {
      "text/plain": [
       "['one', 'two', 'three', 'four', 'five']"
      ]
     },
     "execution_count": 21,
     "metadata": {},
     "output_type": "execute_result"
    }
   ],
   "source": [
    "new_list"
   ]
  },
  {
   "cell_type": "code",
   "execution_count": 22,
   "id": "2276901f",
   "metadata": {},
   "outputs": [],
   "source": [
    "# One big difference between a list and a string is that you can mutate the list.\n",
    "# You can change elements in a list by index position.\n",
    "# Can't do that with strings"
   ]
  },
  {
   "cell_type": "code",
   "execution_count": 23,
   "id": "d72ed4db",
   "metadata": {},
   "outputs": [
    {
     "data": {
      "text/plain": [
       "['four', 'five']"
      ]
     },
     "execution_count": 23,
     "metadata": {},
     "output_type": "execute_result"
    }
   ],
   "source": [
    "another_list"
   ]
  },
  {
   "cell_type": "code",
   "execution_count": 24,
   "id": "c1bb3400",
   "metadata": {},
   "outputs": [
    {
     "data": {
      "text/plain": [
       "['one', 'two', 'three', 'four', 'five']"
      ]
     },
     "execution_count": 24,
     "metadata": {},
     "output_type": "execute_result"
    }
   ],
   "source": [
    "new_list"
   ]
  },
  {
   "cell_type": "code",
   "execution_count": 25,
   "id": "89545948",
   "metadata": {},
   "outputs": [],
   "source": [
    "new_list[0] = 'ONE ALL CAPS'"
   ]
  },
  {
   "cell_type": "code",
   "execution_count": 26,
   "id": "32fe53b1",
   "metadata": {},
   "outputs": [
    {
     "data": {
      "text/plain": [
       "['ONE ALL CAPS', 'two', 'three', 'four', 'five']"
      ]
     },
     "execution_count": 26,
     "metadata": {},
     "output_type": "execute_result"
    }
   ],
   "source": [
    "new_list"
   ]
  },
  {
   "cell_type": "code",
   "execution_count": 27,
   "id": "c309e414",
   "metadata": {},
   "outputs": [],
   "source": [
    "# .append allows you to append an item to a list"
   ]
  },
  {
   "cell_type": "code",
   "execution_count": 28,
   "id": "9f258853",
   "metadata": {},
   "outputs": [],
   "source": [
    "new_list.append('sixx')"
   ]
  },
  {
   "cell_type": "code",
   "execution_count": 29,
   "id": "0a08d293",
   "metadata": {},
   "outputs": [
    {
     "data": {
      "text/plain": [
       "['ONE ALL CAPS', 'two', 'three', 'four', 'five', 'sixx']"
      ]
     },
     "execution_count": 29,
     "metadata": {},
     "output_type": "execute_result"
    }
   ],
   "source": [
    "new_list"
   ]
  },
  {
   "cell_type": "code",
   "execution_count": 30,
   "id": "913ce47e",
   "metadata": {},
   "outputs": [],
   "source": [
    "new_list.append(7)"
   ]
  },
  {
   "cell_type": "code",
   "execution_count": 31,
   "id": "c5ca09f5",
   "metadata": {},
   "outputs": [
    {
     "data": {
      "text/plain": [
       "['ONE ALL CAPS', 'two', 'three', 'four', 'five', 'sixx', 7]"
      ]
     },
     "execution_count": 31,
     "metadata": {},
     "output_type": "execute_result"
    }
   ],
   "source": [
    "new_list"
   ]
  },
  {
   "cell_type": "code",
   "execution_count": 32,
   "id": "eee00df9",
   "metadata": {},
   "outputs": [],
   "source": [
    "# note that it has both strings and an integer"
   ]
  },
  {
   "cell_type": "code",
   "execution_count": 33,
   "id": "3eebbef3",
   "metadata": {},
   "outputs": [],
   "source": [
    "# pop() function"
   ]
  },
  {
   "cell_type": "code",
   "execution_count": 34,
   "id": "2fe2fc01",
   "metadata": {},
   "outputs": [
    {
     "data": {
      "text/plain": [
       "7"
      ]
     },
     "execution_count": 34,
     "metadata": {},
     "output_type": "execute_result"
    }
   ],
   "source": [
    "new_list.pop()"
   ]
  },
  {
   "cell_type": "code",
   "execution_count": 35,
   "id": "f0d9023a",
   "metadata": {},
   "outputs": [
    {
     "data": {
      "text/plain": [
       "['ONE ALL CAPS', 'two', 'three', 'four', 'five', 'sixx']"
      ]
     },
     "execution_count": 35,
     "metadata": {},
     "output_type": "execute_result"
    }
   ],
   "source": [
    "new_list"
   ]
  },
  {
   "cell_type": "code",
   "execution_count": 36,
   "id": "90af6f75",
   "metadata": {},
   "outputs": [],
   "source": [
    "# pop pops off the last element of a list"
   ]
  },
  {
   "cell_type": "code",
   "execution_count": 37,
   "id": "3d420112",
   "metadata": {},
   "outputs": [],
   "source": [
    "# you can assign that value to a variable"
   ]
  },
  {
   "cell_type": "code",
   "execution_count": 38,
   "id": "fadc40cc",
   "metadata": {},
   "outputs": [],
   "source": [
    "offed = new_list.pop()"
   ]
  },
  {
   "cell_type": "code",
   "execution_count": 39,
   "id": "abb1e331",
   "metadata": {},
   "outputs": [
    {
     "data": {
      "text/plain": [
       "'sixx'"
      ]
     },
     "execution_count": 39,
     "metadata": {},
     "output_type": "execute_result"
    }
   ],
   "source": [
    "offed"
   ]
  },
  {
   "cell_type": "code",
   "execution_count": 42,
   "id": "4fd35e11",
   "metadata": {},
   "outputs": [],
   "source": [
    "# You can specify an index position with pop()\n",
    "# By default, the element popped off is index position -1"
   ]
  },
  {
   "cell_type": "code",
   "execution_count": 43,
   "id": "daf3c05f",
   "metadata": {},
   "outputs": [
    {
     "data": {
      "text/plain": [
       "['ONE ALL CAPS', 'two', 'three', 'four', 'five']"
      ]
     },
     "execution_count": 43,
     "metadata": {},
     "output_type": "execute_result"
    }
   ],
   "source": [
    "new_list"
   ]
  },
  {
   "cell_type": "code",
   "execution_count": 44,
   "id": "a1f6c064",
   "metadata": {},
   "outputs": [
    {
     "data": {
      "text/plain": [
       "'ONE ALL CAPS'"
      ]
     },
     "execution_count": 44,
     "metadata": {},
     "output_type": "execute_result"
    }
   ],
   "source": [
    "new_list.pop(0)"
   ]
  },
  {
   "cell_type": "code",
   "execution_count": 45,
   "id": "6bc08d68",
   "metadata": {},
   "outputs": [
    {
     "data": {
      "text/plain": [
       "['two', 'three', 'four', 'five']"
      ]
     },
     "execution_count": 45,
     "metadata": {},
     "output_type": "execute_result"
    }
   ],
   "source": [
    "new_list"
   ]
  },
  {
   "cell_type": "code",
   "execution_count": 46,
   "id": "1e8ee7ee",
   "metadata": {},
   "outputs": [],
   "source": [
    "# sort and reverse"
   ]
  },
  {
   "cell_type": "code",
   "execution_count": 47,
   "id": "c9baf20b",
   "metadata": {},
   "outputs": [],
   "source": [
    "new_list = ['a','e','x','b','c']"
   ]
  },
  {
   "cell_type": "code",
   "execution_count": 48,
   "id": "bde54c6b",
   "metadata": {},
   "outputs": [],
   "source": [
    "num_list = [4,3,1,5]"
   ]
  },
  {
   "cell_type": "code",
   "execution_count": 49,
   "id": "28a862f5",
   "metadata": {},
   "outputs": [],
   "source": [
    "new_list.sort()"
   ]
  },
  {
   "cell_type": "code",
   "execution_count": 50,
   "id": "a4054d2f",
   "metadata": {},
   "outputs": [
    {
     "data": {
      "text/plain": [
       "['a', 'b', 'c', 'e', 'x']"
      ]
     },
     "execution_count": 50,
     "metadata": {},
     "output_type": "execute_result"
    }
   ],
   "source": [
    "new_list"
   ]
  },
  {
   "cell_type": "code",
   "execution_count": 51,
   "id": "eab72ded",
   "metadata": {},
   "outputs": [],
   "source": [
    "# sort just sorts the list in-place, you can't assign that value to anything.  It sorts the list in place.\n",
    "# Try it and get a \"NoneType\" response.\n",
    "# The list itself is being changed."
   ]
  },
  {
   "cell_type": "code",
   "execution_count": 52,
   "id": "e5c18e6f",
   "metadata": {},
   "outputs": [],
   "source": [
    "# to assign the sorted list, you have to ...\n",
    "# new_list.sort()\n",
    "# my_sorted_list = new_list"
   ]
  },
  {
   "cell_type": "code",
   "execution_count": 53,
   "id": "42159e19",
   "metadata": {},
   "outputs": [
    {
     "data": {
      "text/plain": [
       "[4, 3, 1, 5]"
      ]
     },
     "execution_count": 53,
     "metadata": {},
     "output_type": "execute_result"
    }
   ],
   "source": [
    "num_list"
   ]
  },
  {
   "cell_type": "code",
   "execution_count": 54,
   "id": "e7217178",
   "metadata": {},
   "outputs": [],
   "source": [
    "num_list.sort()"
   ]
  },
  {
   "cell_type": "code",
   "execution_count": 55,
   "id": "5d08d934",
   "metadata": {},
   "outputs": [
    {
     "data": {
      "text/plain": [
       "[1, 3, 4, 5]"
      ]
     },
     "execution_count": 55,
     "metadata": {},
     "output_type": "execute_result"
    }
   ],
   "source": [
    "num_list"
   ]
  },
  {
   "cell_type": "code",
   "execution_count": 56,
   "id": "b726b50d",
   "metadata": {},
   "outputs": [],
   "source": [
    "# reverse"
   ]
  },
  {
   "cell_type": "code",
   "execution_count": 57,
   "id": "dfe20a2f",
   "metadata": {},
   "outputs": [],
   "source": [
    "num_list.reverse()"
   ]
  },
  {
   "cell_type": "code",
   "execution_count": 58,
   "id": "3be74849",
   "metadata": {},
   "outputs": [
    {
     "data": {
      "text/plain": [
       "[5, 4, 3, 1]"
      ]
     },
     "execution_count": 58,
     "metadata": {},
     "output_type": "execute_result"
    }
   ],
   "source": [
    "num_list"
   ]
  },
  {
   "cell_type": "code",
   "execution_count": 59,
   "id": "b2d644b6",
   "metadata": {},
   "outputs": [],
   "source": [
    "# reverse also sorts in-place, so you can't directly assign the value"
   ]
  },
  {
   "cell_type": "code",
   "execution_count": 1,
   "id": "583e25c2",
   "metadata": {},
   "outputs": [],
   "source": [
    "#\n",
    "#"
   ]
  },
  {
   "cell_type": "markdown",
   "id": "208681cb",
   "metadata": {},
   "source": [
    "23 - Dictionaries in Python"
   ]
  },
  {
   "cell_type": "code",
   "execution_count": 2,
   "id": "b9660f34",
   "metadata": {},
   "outputs": [],
   "source": [
    "# Dictionaries are unordered mappings for storing objects.\n",
    "# Lists store objects in an unordered sequence.\n",
    "# Dictionaries use a key-value pairing instead."
   ]
  },
  {
   "cell_type": "code",
   "execution_count": 3,
   "id": "b2c786f5",
   "metadata": {},
   "outputs": [],
   "source": [
    "# Dictionaries use curly braces and colons to signify the keys and their associated values.\n",
    "# Syntax:   {'key1':'value1','key2':'value2'}"
   ]
  },
  {
   "cell_type": "code",
   "execution_count": 4,
   "id": "3807abd9",
   "metadata": {},
   "outputs": [],
   "source": [
    "# When to choose a list or a dictionary?\n",
    "#\n",
    "# Dictionaries: Objects retrieved by key name. Unordered sequence. Can't be sorted.\n",
    "# Lists: Objects retrieved by location. Ordered sequence. Can be sorted, indexed or sliced."
   ]
  },
  {
   "cell_type": "code",
   "execution_count": 6,
   "id": "b850543f",
   "metadata": {},
   "outputs": [],
   "source": [
    "# Use a dictionary when you don't really need to know an object's exact location\n",
    "# Just remember that you can't sort a dictionary"
   ]
  },
  {
   "cell_type": "code",
   "execution_count": 7,
   "id": "c37aef14",
   "metadata": {},
   "outputs": [],
   "source": [
    "my_dict = {'key1':'value1','key2':'value2'}"
   ]
  },
  {
   "cell_type": "code",
   "execution_count": 8,
   "id": "df6a9761",
   "metadata": {},
   "outputs": [
    {
     "data": {
      "text/plain": [
       "{'key1': 'value1', 'key2': 'value2'}"
      ]
     },
     "execution_count": 8,
     "metadata": {},
     "output_type": "execute_result"
    }
   ],
   "source": [
    "my_dict"
   ]
  },
  {
   "cell_type": "code",
   "execution_count": 9,
   "id": "0d33c344",
   "metadata": {},
   "outputs": [],
   "source": [
    "# We want 'value1', so we use square brackets and the key to bring up the value"
   ]
  },
  {
   "cell_type": "code",
   "execution_count": 11,
   "id": "b50dfd91",
   "metadata": {},
   "outputs": [
    {
     "data": {
      "text/plain": [
       "'value1'"
      ]
     },
     "execution_count": 11,
     "metadata": {},
     "output_type": "execute_result"
    }
   ],
   "source": [
    "my_dict['key1']"
   ]
  },
  {
   "cell_type": "code",
   "execution_count": 12,
   "id": "183aa13c",
   "metadata": {},
   "outputs": [],
   "source": [
    "prices_lookup = {'apple':2.99,'oranges':1.99,'milk':5.80}"
   ]
  },
  {
   "cell_type": "code",
   "execution_count": 13,
   "id": "8b54b3e1",
   "metadata": {},
   "outputs": [
    {
     "data": {
      "text/plain": [
       "2.99"
      ]
     },
     "execution_count": 13,
     "metadata": {},
     "output_type": "execute_result"
    }
   ],
   "source": [
    "prices_lookup['apple']"
   ]
  },
  {
   "cell_type": "code",
   "execution_count": 14,
   "id": "7d8ffc17",
   "metadata": {},
   "outputs": [
    {
     "data": {
      "text/plain": [
       "2.99"
      ]
     },
     "execution_count": 14,
     "metadata": {},
     "output_type": "execute_result"
    }
   ],
   "source": [
    "# Does this work if you make the key a variable?\n",
    "fruit = 'apple'\n",
    "prices_lookup[fruit]"
   ]
  },
  {
   "cell_type": "code",
   "execution_count": 15,
   "id": "440820aa",
   "metadata": {},
   "outputs": [],
   "source": [
    "# why, yes it does!"
   ]
  },
  {
   "cell_type": "code",
   "execution_count": 16,
   "id": "6d3888ab",
   "metadata": {},
   "outputs": [],
   "source": [
    "# Dictionaries can hold lists and even other dictionaries"
   ]
  },
  {
   "cell_type": "code",
   "execution_count": 17,
   "id": "3cf0645e",
   "metadata": {},
   "outputs": [],
   "source": [
    "# Here's a crazy example...\n",
    "d = {'k1':123,'k2':[0,1,2],'k3':{'insideKey':100}}"
   ]
  },
  {
   "cell_type": "code",
   "execution_count": 18,
   "id": "388040d9",
   "metadata": {},
   "outputs": [
    {
     "data": {
      "text/plain": [
       "{'k1': 123, 'k2': [0, 1, 2], 'k3': {'insideKey': 100}}"
      ]
     },
     "execution_count": 18,
     "metadata": {},
     "output_type": "execute_result"
    }
   ],
   "source": [
    "d"
   ]
  },
  {
   "cell_type": "code",
   "execution_count": 19,
   "id": "763efc1f",
   "metadata": {},
   "outputs": [
    {
     "data": {
      "text/plain": [
       "123"
      ]
     },
     "execution_count": 19,
     "metadata": {},
     "output_type": "execute_result"
    }
   ],
   "source": [
    "d['k1']"
   ]
  },
  {
   "cell_type": "code",
   "execution_count": 22,
   "id": "9af7804e",
   "metadata": {},
   "outputs": [
    {
     "data": {
      "text/plain": [
       "2"
      ]
     },
     "execution_count": 22,
     "metadata": {},
     "output_type": "execute_result"
    }
   ],
   "source": [
    "d['k2'][2]"
   ]
  },
  {
   "cell_type": "code",
   "execution_count": 23,
   "id": "ac3ca4f5",
   "metadata": {},
   "outputs": [
    {
     "data": {
      "text/plain": [
       "100"
      ]
     },
     "execution_count": 23,
     "metadata": {},
     "output_type": "execute_result"
    }
   ],
   "source": [
    "d['k3']['insideKey']"
   ]
  },
  {
   "cell_type": "code",
   "execution_count": 25,
   "id": "51071db3",
   "metadata": {},
   "outputs": [
    {
     "data": {
      "text/plain": [
       "1"
      ]
     },
     "execution_count": 25,
     "metadata": {},
     "output_type": "execute_result"
    }
   ],
   "source": [
    "d['k2'][1]"
   ]
  },
  {
   "cell_type": "code",
   "execution_count": 26,
   "id": "b7374e4a",
   "metadata": {},
   "outputs": [],
   "source": [
    "d = {'key1':['a','b','c']}"
   ]
  },
  {
   "cell_type": "code",
   "execution_count": 27,
   "id": "1a50f5cd",
   "metadata": {},
   "outputs": [
    {
     "data": {
      "text/plain": [
       "'c'"
      ]
     },
     "execution_count": 27,
     "metadata": {},
     "output_type": "execute_result"
    }
   ],
   "source": [
    "d['key1'][2]"
   ]
  },
  {
   "cell_type": "code",
   "execution_count": 29,
   "id": "b5ec9bc6",
   "metadata": {},
   "outputs": [
    {
     "data": {
      "text/plain": [
       "['a', 'b', 'c']"
      ]
     },
     "execution_count": 29,
     "metadata": {},
     "output_type": "execute_result"
    }
   ],
   "source": [
    "# you could also assign the dictionary call to a list\n",
    "mylist = d['key1']\n",
    "mylist"
   ]
  },
  {
   "cell_type": "code",
   "execution_count": 30,
   "id": "8bdf238f",
   "metadata": {},
   "outputs": [
    {
     "data": {
      "text/plain": [
       "'c'"
      ]
     },
     "execution_count": 30,
     "metadata": {},
     "output_type": "execute_result"
    }
   ],
   "source": [
    "letter = mylist[2]\n",
    "letter"
   ]
  },
  {
   "cell_type": "code",
   "execution_count": 31,
   "id": "4d4026de",
   "metadata": {},
   "outputs": [
    {
     "data": {
      "text/plain": [
       "'C'"
      ]
     },
     "execution_count": 31,
     "metadata": {},
     "output_type": "execute_result"
    }
   ],
   "source": [
    "letter.upper()"
   ]
  },
  {
   "cell_type": "code",
   "execution_count": 32,
   "id": "be23b4c9",
   "metadata": {},
   "outputs": [],
   "source": [
    "# so first I grabbed the key, \n",
    "# then made it into a list, \n",
    "# then did the indexing off that list to grab the letter, \n",
    "# then I made the upper casing off that letter"
   ]
  },
  {
   "cell_type": "code",
   "execution_count": 34,
   "id": "eb614b21",
   "metadata": {},
   "outputs": [
    {
     "data": {
      "text/plain": [
       "'C'"
      ]
     },
     "execution_count": 34,
     "metadata": {},
     "output_type": "execute_result"
    }
   ],
   "source": [
    "# you can also do that all in one line\n",
    "d['key1'][2].upper()"
   ]
  },
  {
   "cell_type": "code",
   "execution_count": 35,
   "id": "9d2310a2",
   "metadata": {},
   "outputs": [],
   "source": [
    "# Say, that's WAY more efficient!!"
   ]
  },
  {
   "cell_type": "code",
   "execution_count": 36,
   "id": "89dad352",
   "metadata": {},
   "outputs": [],
   "source": [
    "# How to add key:value pairs to a dictionary"
   ]
  },
  {
   "cell_type": "code",
   "execution_count": 37,
   "id": "d156c5ec",
   "metadata": {},
   "outputs": [],
   "source": [
    " d= {'k1':100,'k2':200}"
   ]
  },
  {
   "cell_type": "code",
   "execution_count": 38,
   "id": "e395a805",
   "metadata": {},
   "outputs": [
    {
     "data": {
      "text/plain": [
       "{'k1': 100, 'k2': 200}"
      ]
     },
     "execution_count": 38,
     "metadata": {},
     "output_type": "execute_result"
    }
   ],
   "source": [
    "d"
   ]
  },
  {
   "cell_type": "code",
   "execution_count": 39,
   "id": "ed6108bc",
   "metadata": {},
   "outputs": [],
   "source": [
    "# To add a key:value pair to a dictionary, do this:\n",
    "d['k3']=300"
   ]
  },
  {
   "cell_type": "code",
   "execution_count": 40,
   "id": "00ac6f12",
   "metadata": {},
   "outputs": [
    {
     "data": {
      "text/plain": [
       "{'k1': 100, 'k2': 200, 'k3': 300}"
      ]
     },
     "execution_count": 40,
     "metadata": {},
     "output_type": "execute_result"
    }
   ],
   "source": [
    "d"
   ]
  },
  {
   "cell_type": "code",
   "execution_count": 41,
   "id": "b26f151a",
   "metadata": {},
   "outputs": [],
   "source": [
    "# Do the same thing to overwrite an existing key:value pair\n",
    "d['k1'] = 'new value'"
   ]
  },
  {
   "cell_type": "code",
   "execution_count": 42,
   "id": "26130a60",
   "metadata": {},
   "outputs": [
    {
     "data": {
      "text/plain": [
       "{'k1': 'new value', 'k2': 200, 'k3': 300}"
      ]
     },
     "execution_count": 42,
     "metadata": {},
     "output_type": "execute_result"
    }
   ],
   "source": [
    "d"
   ]
  },
  {
   "cell_type": "code",
   "execution_count": 44,
   "id": "936ac424",
   "metadata": {},
   "outputs": [],
   "source": [
    "d= {'k1':100,'k2':200}"
   ]
  },
  {
   "cell_type": "code",
   "execution_count": 45,
   "id": "a0a21a88",
   "metadata": {},
   "outputs": [
    {
     "data": {
      "text/plain": [
       "dict_keys(['k1', 'k2'])"
      ]
     },
     "execution_count": 45,
     "metadata": {},
     "output_type": "execute_result"
    }
   ],
   "source": [
    "# To show all the keys of a dictionary:\n",
    "d.keys()"
   ]
  },
  {
   "cell_type": "code",
   "execution_count": 47,
   "id": "60e808b2",
   "metadata": {},
   "outputs": [],
   "source": [
    "d['k3'] = 300"
   ]
  },
  {
   "cell_type": "code",
   "execution_count": 48,
   "id": "c7026e76",
   "metadata": {},
   "outputs": [
    {
     "data": {
      "text/plain": [
       "dict_keys(['k1', 'k2', 'k3'])"
      ]
     },
     "execution_count": 48,
     "metadata": {},
     "output_type": "execute_result"
    }
   ],
   "source": [
    "d.keys()"
   ]
  },
  {
   "cell_type": "code",
   "execution_count": 50,
   "id": "49f6abfe",
   "metadata": {},
   "outputs": [],
   "source": [
    "# To show all the values of a dictionary"
   ]
  },
  {
   "cell_type": "code",
   "execution_count": 51,
   "id": "9521aa74",
   "metadata": {},
   "outputs": [
    {
     "data": {
      "text/plain": [
       "dict_values([100, 200, 300])"
      ]
     },
     "execution_count": 51,
     "metadata": {},
     "output_type": "execute_result"
    }
   ],
   "source": [
    "d.values()"
   ]
  },
  {
   "cell_type": "code",
   "execution_count": 52,
   "id": "34775dcc",
   "metadata": {},
   "outputs": [
    {
     "data": {
      "text/plain": [
       "dict_items([('k1', 100), ('k2', 200), ('k3', 300)])"
      ]
     },
     "execution_count": 52,
     "metadata": {},
     "output_type": "execute_result"
    }
   ],
   "source": [
    "# To show all of the key:values in pairs\n",
    "d.items()"
   ]
  },
  {
   "cell_type": "code",
   "execution_count": 53,
   "id": "8ddb413b",
   "metadata": {},
   "outputs": [
    {
     "data": {
      "text/plain": [
       "dict_items"
      ]
     },
     "execution_count": 53,
     "metadata": {},
     "output_type": "execute_result"
    }
   ],
   "source": [
    "type(d.items())"
   ]
  },
  {
   "cell_type": "code",
   "execution_count": 55,
   "id": "957aca29",
   "metadata": {},
   "outputs": [],
   "source": [
    "# The d.items() function returns values as tuples"
   ]
  },
  {
   "cell_type": "code",
   "execution_count": 56,
   "id": "42b03e80",
   "metadata": {},
   "outputs": [],
   "source": [
    "# Dictionary keys should always be strings"
   ]
  },
  {
   "cell_type": "code",
   "execution_count": 57,
   "id": "361c6d76",
   "metadata": {},
   "outputs": [],
   "source": [
    "#\n",
    "#\n",
    "#"
   ]
  },
  {
   "cell_type": "markdown",
   "id": "6c9dfeae",
   "metadata": {},
   "source": [
    "25 - Tuples with Python"
   ]
  },
  {
   "cell_type": "code",
   "execution_count": 2,
   "id": "15727907",
   "metadata": {},
   "outputs": [],
   "source": [
    "# Tuples are very similar to lists\n",
    "# Tuples are IMMUTABLE - they cannot be changed\n",
    "# Once an element is inside a tuple, it cannot be reassigned\n",
    "# Tuples are constructed using parenthesis: (1,2,3)"
   ]
  },
  {
   "cell_type": "code",
   "execution_count": 3,
   "id": "7b926abb",
   "metadata": {},
   "outputs": [],
   "source": [
    "t = (1,2,3)"
   ]
  },
  {
   "cell_type": "code",
   "execution_count": 4,
   "id": "2d63d86b",
   "metadata": {},
   "outputs": [],
   "source": [
    "mylist = [1,2,3]"
   ]
  },
  {
   "cell_type": "code",
   "execution_count": 5,
   "id": "2d1249b0",
   "metadata": {},
   "outputs": [
    {
     "data": {
      "text/plain": [
       "tuple"
      ]
     },
     "execution_count": 5,
     "metadata": {},
     "output_type": "execute_result"
    }
   ],
   "source": [
    "type(t)"
   ]
  },
  {
   "cell_type": "code",
   "execution_count": 6,
   "id": "0c87f27e",
   "metadata": {},
   "outputs": [
    {
     "data": {
      "text/plain": [
       "list"
      ]
     },
     "execution_count": 6,
     "metadata": {},
     "output_type": "execute_result"
    }
   ],
   "source": [
    "type(mylist)"
   ]
  },
  {
   "cell_type": "code",
   "execution_count": 7,
   "id": "f2f53c28",
   "metadata": {},
   "outputs": [
    {
     "data": {
      "text/plain": [
       "1"
      ]
     },
     "execution_count": 7,
     "metadata": {},
     "output_type": "execute_result"
    }
   ],
   "source": [
    "t[0]"
   ]
  },
  {
   "cell_type": "code",
   "execution_count": 9,
   "id": "bd7149b4",
   "metadata": {},
   "outputs": [
    {
     "data": {
      "text/plain": [
       "1"
      ]
     },
     "execution_count": 9,
     "metadata": {},
     "output_type": "execute_result"
    }
   ],
   "source": [
    "mylist[0]"
   ]
  },
  {
   "cell_type": "code",
   "execution_count": 10,
   "id": "e1e5d26a",
   "metadata": {},
   "outputs": [],
   "source": [
    "# There are 2 basic built-in methods for tuples\n",
    "# index method\n",
    "# counts method"
   ]
  },
  {
   "cell_type": "code",
   "execution_count": 11,
   "id": "49af0a56",
   "metadata": {},
   "outputs": [],
   "source": [
    "t = ('a','b','c')"
   ]
  },
  {
   "cell_type": "code",
   "execution_count": 12,
   "id": "6acbe491",
   "metadata": {},
   "outputs": [],
   "source": [
    "# see what methods are available by typing t.  and then hitting the tab key"
   ]
  },
  {
   "cell_type": "code",
   "execution_count": 13,
   "id": "b5aec2c4",
   "metadata": {},
   "outputs": [
    {
     "data": {
      "text/plain": [
       "1"
      ]
     },
     "execution_count": 13,
     "metadata": {},
     "output_type": "execute_result"
    }
   ],
   "source": [
    "t.count('a')"
   ]
  },
  {
   "cell_type": "code",
   "execution_count": 14,
   "id": "d3a1b269",
   "metadata": {},
   "outputs": [],
   "source": [
    "# t.count('a') returns a count of how many times 'a' is in the tuple"
   ]
  },
  {
   "cell_type": "code",
   "execution_count": 15,
   "id": "8dc42e2f",
   "metadata": {},
   "outputs": [
    {
     "data": {
      "text/plain": [
       "0"
      ]
     },
     "execution_count": 15,
     "metadata": {},
     "output_type": "execute_result"
    }
   ],
   "source": [
    "t.index('a')"
   ]
  },
  {
   "cell_type": "code",
   "execution_count": 16,
   "id": "d25eec7a",
   "metadata": {},
   "outputs": [],
   "source": [
    "# t.index('a') returns the index position of the first instance of 'a'"
   ]
  },
  {
   "cell_type": "code",
   "execution_count": 17,
   "id": "96388a3e",
   "metadata": {},
   "outputs": [],
   "source": [
    "t = ('a','b','a','b','a')"
   ]
  },
  {
   "cell_type": "code",
   "execution_count": 18,
   "id": "46cc9576",
   "metadata": {},
   "outputs": [
    {
     "data": {
      "text/plain": [
       "0"
      ]
     },
     "execution_count": 18,
     "metadata": {},
     "output_type": "execute_result"
    }
   ],
   "source": [
    "t.index('a')"
   ]
  },
  {
   "cell_type": "code",
   "execution_count": 19,
   "id": "c7e655eb",
   "metadata": {},
   "outputs": [
    {
     "data": {
      "text/plain": [
       "3"
      ]
     },
     "execution_count": 19,
     "metadata": {},
     "output_type": "execute_result"
    }
   ],
   "source": [
    "t.count('a')"
   ]
  },
  {
   "cell_type": "code",
   "execution_count": 20,
   "id": "5ce369c6",
   "metadata": {},
   "outputs": [],
   "source": [
    "# tuple immutability"
   ]
  },
  {
   "cell_type": "code",
   "execution_count": 21,
   "id": "12c211e4",
   "metadata": {},
   "outputs": [
    {
     "data": {
      "text/plain": [
       "[1, 2, 3]"
      ]
     },
     "execution_count": 21,
     "metadata": {},
     "output_type": "execute_result"
    }
   ],
   "source": [
    "mylist"
   ]
  },
  {
   "cell_type": "code",
   "execution_count": 22,
   "id": "cf498381",
   "metadata": {},
   "outputs": [],
   "source": [
    "mylist[0] = 'new'"
   ]
  },
  {
   "cell_type": "code",
   "execution_count": 23,
   "id": "28670ae4",
   "metadata": {},
   "outputs": [
    {
     "data": {
      "text/plain": [
       "['new', 2, 3]"
      ]
     },
     "execution_count": 23,
     "metadata": {},
     "output_type": "execute_result"
    }
   ],
   "source": [
    "mylist"
   ]
  },
  {
   "cell_type": "code",
   "execution_count": 24,
   "id": "cf5d0acf",
   "metadata": {},
   "outputs": [
    {
     "data": {
      "text/plain": [
       "('a', 'b', 'a', 'b', 'a')"
      ]
     },
     "execution_count": 24,
     "metadata": {},
     "output_type": "execute_result"
    }
   ],
   "source": [
    "t"
   ]
  },
  {
   "cell_type": "code",
   "execution_count": 25,
   "id": "fcaaf539",
   "metadata": {},
   "outputs": [
    {
     "data": {
      "text/plain": [
       "'a'"
      ]
     },
     "execution_count": 25,
     "metadata": {},
     "output_type": "execute_result"
    }
   ],
   "source": [
    "t[0]"
   ]
  },
  {
   "cell_type": "code",
   "execution_count": 26,
   "id": "78d3c07f",
   "metadata": {},
   "outputs": [
    {
     "ename": "TypeError",
     "evalue": "'tuple' object does not support item assignment",
     "output_type": "error",
     "traceback": [
      "\u001b[0;31m---------------------------------------------------------------------------\u001b[0m",
      "\u001b[0;31mTypeError\u001b[0m                                 Traceback (most recent call last)",
      "\u001b[0;32m/tmp/ipykernel_36900/1055354548.py\u001b[0m in \u001b[0;36m<module>\u001b[0;34m\u001b[0m\n\u001b[0;32m----> 1\u001b[0;31m \u001b[0mt\u001b[0m\u001b[0;34m[\u001b[0m\u001b[0;36m0\u001b[0m\u001b[0;34m]\u001b[0m \u001b[0;34m=\u001b[0m \u001b[0;34m'new'\u001b[0m\u001b[0;34m\u001b[0m\u001b[0;34m\u001b[0m\u001b[0m\n\u001b[0m",
      "\u001b[0;31mTypeError\u001b[0m: 'tuple' object does not support item assignment"
     ]
    }
   ],
   "source": [
    "t[0] = 'new'"
   ]
  },
  {
   "cell_type": "markdown",
   "id": "ef176841",
   "metadata": {},
   "source": [
    "26 - Sets in Python"
   ]
  },
  {
   "cell_type": "code",
   "execution_count": 29,
   "id": "e1120b46",
   "metadata": {},
   "outputs": [],
   "source": [
    "# Sets are unordered collections of unique elements\n",
    "# There can only be one representative of the same object\n",
    "# No duplicates!"
   ]
  },
  {
   "cell_type": "code",
   "execution_count": 33,
   "id": "d8eeda35",
   "metadata": {},
   "outputs": [],
   "source": [
    "myset = set()"
   ]
  },
  {
   "cell_type": "code",
   "execution_count": 34,
   "id": "e6e32d59",
   "metadata": {},
   "outputs": [
    {
     "data": {
      "text/plain": [
       "set()"
      ]
     },
     "execution_count": 34,
     "metadata": {},
     "output_type": "execute_result"
    }
   ],
   "source": [
    "myset"
   ]
  },
  {
   "cell_type": "code",
   "execution_count": 35,
   "id": "64169360",
   "metadata": {},
   "outputs": [],
   "source": [
    "myset.add(1)"
   ]
  },
  {
   "cell_type": "code",
   "execution_count": 36,
   "id": "13c91dc6",
   "metadata": {},
   "outputs": [
    {
     "data": {
      "text/plain": [
       "{1}"
      ]
     },
     "execution_count": 36,
     "metadata": {},
     "output_type": "execute_result"
    }
   ],
   "source": [
    "myset"
   ]
  },
  {
   "cell_type": "code",
   "execution_count": 37,
   "id": "404a25f4",
   "metadata": {},
   "outputs": [],
   "source": [
    "# It looks like a dictionary because it has curly braces, but it's not\n",
    "# It doesn't have key:value pairs"
   ]
  },
  {
   "cell_type": "code",
   "execution_count": 38,
   "id": "c54190a2",
   "metadata": {},
   "outputs": [],
   "source": [
    "myset.add(2)"
   ]
  },
  {
   "cell_type": "code",
   "execution_count": 39,
   "id": "8ade7d6d",
   "metadata": {},
   "outputs": [
    {
     "data": {
      "text/plain": [
       "{1, 2}"
      ]
     },
     "execution_count": 39,
     "metadata": {},
     "output_type": "execute_result"
    }
   ],
   "source": [
    "myset"
   ]
  },
  {
   "cell_type": "code",
   "execution_count": 40,
   "id": "8c09df25",
   "metadata": {},
   "outputs": [],
   "source": [
    "myset.add(2)"
   ]
  },
  {
   "cell_type": "code",
   "execution_count": 41,
   "id": "1b43de5c",
   "metadata": {},
   "outputs": [
    {
     "data": {
      "text/plain": [
       "{1, 2}"
      ]
     },
     "execution_count": 41,
     "metadata": {},
     "output_type": "execute_result"
    }
   ],
   "source": [
    "myset"
   ]
  },
  {
   "cell_type": "code",
   "execution_count": 42,
   "id": "cd83600d",
   "metadata": {},
   "outputs": [],
   "source": [
    "# It won't repeat a value\n",
    "# It's handy to cast a list to a set because it leave only unique values"
   ]
  },
  {
   "cell_type": "code",
   "execution_count": 43,
   "id": "479e541c",
   "metadata": {},
   "outputs": [],
   "source": [
    "# sets don't have any particular order"
   ]
  },
  {
   "cell_type": "code",
   "execution_count": 44,
   "id": "98406154",
   "metadata": {},
   "outputs": [],
   "source": [
    "#\n",
    "#\n",
    "#\n"
   ]
  },
  {
   "cell_type": "markdown",
   "id": "486df105",
   "metadata": {},
   "source": [
    "27 - Booleans in Python"
   ]
  },
  {
   "cell_type": "code",
   "execution_count": 45,
   "id": "94af541f",
   "metadata": {},
   "outputs": [],
   "source": [
    "# Booleans are operators that allow you to convey True or False statements\n",
    "# They are very important when controlling flow and logic"
   ]
  },
  {
   "cell_type": "code",
   "execution_count": 46,
   "id": "723057bd",
   "metadata": {},
   "outputs": [
    {
     "data": {
      "text/plain": [
       "True"
      ]
     },
     "execution_count": 46,
     "metadata": {},
     "output_type": "execute_result"
    }
   ],
   "source": [
    "True"
   ]
  },
  {
   "cell_type": "code",
   "execution_count": 47,
   "id": "8824fdf3",
   "metadata": {},
   "outputs": [
    {
     "data": {
      "text/plain": [
       "bool"
      ]
     },
     "execution_count": 47,
     "metadata": {},
     "output_type": "execute_result"
    }
   ],
   "source": [
    "type(True)"
   ]
  },
  {
   "cell_type": "code",
   "execution_count": 48,
   "id": "64d7484e",
   "metadata": {},
   "outputs": [
    {
     "data": {
      "text/plain": [
       "False"
      ]
     },
     "execution_count": 48,
     "metadata": {},
     "output_type": "execute_result"
    }
   ],
   "source": [
    "False"
   ]
  },
  {
   "cell_type": "code",
   "execution_count": 49,
   "id": "59ebeb2e",
   "metadata": {},
   "outputs": [
    {
     "data": {
      "text/plain": [
       "bool"
      ]
     },
     "execution_count": 49,
     "metadata": {},
     "output_type": "execute_result"
    }
   ],
   "source": [
    "type(False)"
   ]
  },
  {
   "cell_type": "code",
   "execution_count": 52,
   "id": "1fefe9ff",
   "metadata": {},
   "outputs": [
    {
     "data": {
      "text/plain": [
       "False"
      ]
     },
     "execution_count": 52,
     "metadata": {},
     "output_type": "execute_result"
    }
   ],
   "source": [
    "# is 1 greater than 3\n",
    "1 > 3"
   ]
  },
  {
   "cell_type": "code",
   "execution_count": 53,
   "id": "551e0fc1",
   "metadata": {},
   "outputs": [
    {
     "data": {
      "text/plain": [
       "True"
      ]
     },
     "execution_count": 53,
     "metadata": {},
     "output_type": "execute_result"
    }
   ],
   "source": [
    "# is 1 == 1\n",
    "1 == 1"
   ]
  },
  {
   "cell_type": "code",
   "execution_count": 62,
   "id": "4b4715d2",
   "metadata": {},
   "outputs": [],
   "source": [
    "# Using the None keyword as a pplaceholder for an object you don't want to assign yet.\n",
    "# For example, if you're going to use c as a variable name for something later,\n",
    "# and you want to avoid a potential error if your code calls b before it has a value,\n",
    "# then you can do this..."
   ]
  },
  {
   "cell_type": "code",
   "execution_count": 63,
   "id": "0a94efd0",
   "metadata": {},
   "outputs": [
    {
     "ename": "NameError",
     "evalue": "name 'c' is not defined",
     "output_type": "error",
     "traceback": [
      "\u001b[0;31m---------------------------------------------------------------------------\u001b[0m",
      "\u001b[0;31mNameError\u001b[0m                                 Traceback (most recent call last)",
      "\u001b[0;32m/tmp/ipykernel_36900/2318067138.py\u001b[0m in \u001b[0;36m<module>\u001b[0;34m\u001b[0m\n\u001b[1;32m      1\u001b[0m \u001b[0;31m# before the assignment\u001b[0m\u001b[0;34m\u001b[0m\u001b[0;34m\u001b[0m\u001b[0m\n\u001b[0;32m----> 2\u001b[0;31m \u001b[0mc\u001b[0m\u001b[0;34m\u001b[0m\u001b[0;34m\u001b[0m\u001b[0m\n\u001b[0m",
      "\u001b[0;31mNameError\u001b[0m: name 'c' is not defined"
     ]
    }
   ],
   "source": [
    "# before the assignment\n",
    "c"
   ]
  },
  {
   "cell_type": "code",
   "execution_count": 64,
   "id": "7623c100",
   "metadata": {},
   "outputs": [],
   "source": [
    "# using the keyword\n",
    "c = None"
   ]
  },
  {
   "cell_type": "code",
   "execution_count": 65,
   "id": "9f973970",
   "metadata": {},
   "outputs": [],
   "source": [
    "# now when you call c you get...\n",
    "c"
   ]
  },
  {
   "cell_type": "code",
   "execution_count": 66,
   "id": "004dded3",
   "metadata": {},
   "outputs": [],
   "source": [
    "# Well it doesn't show anything but it doesn't give the error"
   ]
  },
  {
   "cell_type": "code",
   "execution_count": 67,
   "id": "ea9ced2c",
   "metadata": {},
   "outputs": [
    {
     "data": {
      "text/plain": [
       "list"
      ]
     },
     "execution_count": 67,
     "metadata": {},
     "output_type": "execute_result"
    }
   ],
   "source": [
    "type([1,2,3,4])"
   ]
  },
  {
   "cell_type": "code",
   "execution_count": 68,
   "id": "6c3fbf04",
   "metadata": {},
   "outputs": [
    {
     "data": {
      "text/plain": [
       "tuple"
      ]
     },
     "execution_count": 68,
     "metadata": {},
     "output_type": "execute_result"
    }
   ],
   "source": [
    "type((1,2,3,4))"
   ]
  },
  {
   "cell_type": "code",
   "execution_count": 69,
   "id": "8604391d",
   "metadata": {},
   "outputs": [
    {
     "data": {
      "text/plain": [
       "list"
      ]
     },
     "execution_count": 69,
     "metadata": {},
     "output_type": "execute_result"
    }
   ],
   "source": [
    "type([1,2,3,4])"
   ]
  },
  {
   "cell_type": "code",
   "execution_count": 70,
   "id": "498986f3",
   "metadata": {},
   "outputs": [
    {
     "data": {
      "text/plain": [
       "set"
      ]
     },
     "execution_count": 70,
     "metadata": {},
     "output_type": "execute_result"
    }
   ],
   "source": [
    "type({1,2,3,4})"
   ]
  },
  {
   "cell_type": "code",
   "execution_count": 71,
   "id": "ca5d53a5",
   "metadata": {},
   "outputs": [
    {
     "data": {
      "text/plain": [
       "{1, 2, 3}"
      ]
     },
     "execution_count": 71,
     "metadata": {},
     "output_type": "execute_result"
    }
   ],
   "source": [
    "set([1,1,2,3])"
   ]
  },
  {
   "cell_type": "code",
   "execution_count": 1,
   "id": "0f342fc4",
   "metadata": {},
   "outputs": [],
   "source": [
    "#\n",
    "#\n",
    "#\n",
    "#"
   ]
  },
  {
   "cell_type": "markdown",
   "id": "475e67dd",
   "metadata": {},
   "source": [
    "28 - I/O with Basic Files in Python"
   ]
  },
  {
   "cell_type": "code",
   "execution_count": 3,
   "id": "2b4a81d5",
   "metadata": {},
   "outputs": [
    {
     "ename": "SyntaxError",
     "evalue": "invalid syntax (490370941.py, line 3)",
     "output_type": "error",
     "traceback": [
      "\u001b[0;36m  File \u001b[0;32m\"/tmp/ipykernel_52216/490370941.py\"\u001b[0;36m, line \u001b[0;32m3\u001b[0m\n\u001b[0;31m    Hello this is a text file created using Jupyter Notebook\u001b[0m\n\u001b[0m          ^\u001b[0m\n\u001b[0;31mSyntaxError\u001b[0m\u001b[0;31m:\u001b[0m invalid syntax\n"
     ]
    }
   ],
   "source": [
    "# Here's a Jupyter-Notebook-specific way to create a text file\n",
    "%%writefile myfile.txt\n",
    "Hello this is a text file created using Jupyter Notebook\n",
    "This is line two\n",
    "This is the third line"
   ]
  },
  {
   "cell_type": "code",
   "execution_count": 4,
   "id": "34516677",
   "metadata": {},
   "outputs": [
    {
     "name": "stderr",
     "output_type": "stream",
     "text": [
      "UsageError: Line magic function `%%writefile` not found.\n"
     ]
    }
   ],
   "source": [
    "# Well that didn't work for me\n",
    "# Here's the error after the first line:\n",
    "%%writefile myfile.txt"
   ]
  },
  {
   "cell_type": "code",
   "execution_count": 5,
   "id": "005c690c",
   "metadata": {},
   "outputs": [],
   "source": [
    "# There's a Line magic function error.\n",
    "# Maybe that's not installed right now?\n",
    "# Instead, I'll create the file using the Linux command line"
   ]
  },
  {
   "cell_type": "code",
   "execution_count": 6,
   "id": "aa38e011",
   "metadata": {},
   "outputs": [],
   "source": [
    "# --- from the Linux command line, type:\n",
    "# touch myfile.txt\n",
    "# --- then:\n",
    "# pluma myfile.txt\n",
    "# --- and now enter the text from above"
   ]
  },
  {
   "cell_type": "code",
   "execution_count": 7,
   "id": "d4a0d985",
   "metadata": {},
   "outputs": [],
   "source": [
    "# Use the open() method to open a file in Python\n",
    "myfile = open('myfile.txt')"
   ]
  },
  {
   "cell_type": "code",
   "execution_count": 9,
   "id": "45d0832d",
   "metadata": {},
   "outputs": [
    {
     "ename": "FileNotFoundError",
     "evalue": "[Errno 2] No such file or directory: 'notafile.txt'",
     "output_type": "error",
     "traceback": [
      "\u001b[0;31m---------------------------------------------------------------------------\u001b[0m",
      "\u001b[0;31mFileNotFoundError\u001b[0m                         Traceback (most recent call last)",
      "\u001b[0;32m/tmp/ipykernel_52216/1085815162.py\u001b[0m in \u001b[0;36m<module>\u001b[0;34m\u001b[0m\n\u001b[1;32m      1\u001b[0m \u001b[0;31m# There was no error because the file exists\u001b[0m\u001b[0;34m\u001b[0m\u001b[0;34m\u001b[0m\u001b[0m\n\u001b[1;32m      2\u001b[0m \u001b[0;31m# If it doesn't exist, it looks like this:\u001b[0m\u001b[0;34m\u001b[0m\u001b[0;34m\u001b[0m\u001b[0m\n\u001b[0;32m----> 3\u001b[0;31m \u001b[0mmyfile\u001b[0m \u001b[0;34m=\u001b[0m \u001b[0mopen\u001b[0m\u001b[0;34m(\u001b[0m\u001b[0;34m'notafile.txt'\u001b[0m\u001b[0;34m)\u001b[0m\u001b[0;34m\u001b[0m\u001b[0;34m\u001b[0m\u001b[0m\n\u001b[0m",
      "\u001b[0;31mFileNotFoundError\u001b[0m: [Errno 2] No such file or directory: 'notafile.txt'"
     ]
    }
   ],
   "source": [
    "# There was no error because the file exists\n",
    "# If it doesn't exist, it looks like this:\n",
    "myfile = open('notafile.txt')"
   ]
  },
  {
   "cell_type": "code",
   "execution_count": 13,
   "id": "a6164b18",
   "metadata": {},
   "outputs": [],
   "source": [
    "# [Errno 2] means 'error number 2'\n",
    "# This is a very common error in Python\n",
    "# Only 2 possible ways to get this error\n",
    "# - Enter the wrong file name or the file doesn't exist\n",
    "# - Run the command in the wrong directory or using the wrong file path"
   ]
  },
  {
   "cell_type": "code",
   "execution_count": 15,
   "id": "050f483d",
   "metadata": {},
   "outputs": [
    {
     "ename": "NameError",
     "evalue": "name 'pwd' is not defined",
     "output_type": "error",
     "traceback": [
      "\u001b[0;31m---------------------------------------------------------------------------\u001b[0m",
      "\u001b[0;31mNameError\u001b[0m                                 Traceback (most recent call last)",
      "\u001b[0;32m/tmp/ipykernel_52216/3607112803.py\u001b[0m in \u001b[0;36m<module>\u001b[0;34m\u001b[0m\n\u001b[1;32m      1\u001b[0m \u001b[0;31m# See what directory you're in with this command\u001b[0m\u001b[0;34m\u001b[0m\u001b[0;34m\u001b[0m\u001b[0m\n\u001b[0;32m----> 2\u001b[0;31m \u001b[0mpwd\u001b[0m\u001b[0;34m\u001b[0m\u001b[0;34m\u001b[0m\u001b[0m\n\u001b[0m",
      "\u001b[0;31mNameError\u001b[0m: name 'pwd' is not defined"
     ]
    }
   ],
   "source": [
    "# See what directory you're in with this command\n",
    "pwd"
   ]
  },
  {
   "cell_type": "code",
   "execution_count": 16,
   "id": "3be9870b",
   "metadata": {},
   "outputs": [],
   "source": [
    "# I don't know why pwd isn't working on Jupyter Notebook\n",
    "# moving on..."
   ]
  },
  {
   "cell_type": "code",
   "execution_count": 17,
   "id": "1c588249",
   "metadata": {},
   "outputs": [],
   "source": [
    "myfile = open('myfile.txt')"
   ]
  },
  {
   "cell_type": "code",
   "execution_count": 18,
   "id": "48daaf9d",
   "metadata": {},
   "outputs": [
    {
     "data": {
      "text/plain": [
       "'Hello this is a text file\\nthis is the second line\\nthis is line three\\n'"
      ]
     },
     "execution_count": 18,
     "metadata": {},
     "output_type": "execute_result"
    }
   ],
   "source": [
    "myfile.read()"
   ]
  },
  {
   "cell_type": "code",
   "execution_count": 19,
   "id": "a9900798",
   "metadata": {},
   "outputs": [],
   "source": [
    "# myfile.read() asks for everything in the file in a single string\n",
    "# the \\n represents a new line"
   ]
  },
  {
   "cell_type": "code",
   "execution_count": 20,
   "id": "442f5651",
   "metadata": {},
   "outputs": [
    {
     "data": {
      "text/plain": [
       "''"
      ]
     },
     "execution_count": 20,
     "metadata": {},
     "output_type": "execute_result"
    }
   ],
   "source": [
    "# try to read the file again and you get back an empty string\n",
    "myfile.read()"
   ]
  },
  {
   "cell_type": "code",
   "execution_count": 21,
   "id": "41ccf69c",
   "metadata": {},
   "outputs": [],
   "source": [
    "# The reason for this is an imaginary cursor starts in the top left of the file.\n",
    "# It stops where you stop reading the file at and starts at the next position for the next read.\n",
    "# If if stops at the end, it stays there."
   ]
  },
  {
   "cell_type": "code",
   "execution_count": 23,
   "id": "f2ab6a9f",
   "metadata": {},
   "outputs": [
    {
     "data": {
      "text/plain": [
       "0"
      ]
     },
     "execution_count": 23,
     "metadata": {},
     "output_type": "execute_result"
    }
   ],
   "source": [
    "# to reset the cursor...\n",
    "myfile.seek(0)"
   ]
  },
  {
   "cell_type": "code",
   "execution_count": 24,
   "id": "f625c37f",
   "metadata": {},
   "outputs": [
    {
     "data": {
      "text/plain": [
       "'Hello this is a text file\\nthis is the second line\\nthis is line three\\n'"
      ]
     },
     "execution_count": 24,
     "metadata": {},
     "output_type": "execute_result"
    }
   ],
   "source": [
    "# Now try it again:\n",
    "myfile.read()"
   ]
  },
  {
   "cell_type": "code",
   "execution_count": 26,
   "id": "0fdfda81",
   "metadata": {},
   "outputs": [
    {
     "data": {
      "text/plain": [
       "0"
      ]
     },
     "execution_count": 26,
     "metadata": {},
     "output_type": "execute_result"
    }
   ],
   "source": [
    "# save the output\n",
    "myfile.seek(0)"
   ]
  },
  {
   "cell_type": "code",
   "execution_count": 27,
   "id": "cd6b5840",
   "metadata": {},
   "outputs": [],
   "source": [
    "contents = myfile.read()"
   ]
  },
  {
   "cell_type": "code",
   "execution_count": 28,
   "id": "f55705d9",
   "metadata": {},
   "outputs": [
    {
     "data": {
      "text/plain": [
       "'Hello this is a text file\\nthis is the second line\\nthis is line three\\n'"
      ]
     },
     "execution_count": 28,
     "metadata": {},
     "output_type": "execute_result"
    }
   ],
   "source": [
    "contents"
   ]
  },
  {
   "cell_type": "code",
   "execution_count": 30,
   "id": "a6089a48",
   "metadata": {},
   "outputs": [
    {
     "data": {
      "text/plain": [
       "0"
      ]
     },
     "execution_count": 30,
     "metadata": {},
     "output_type": "execute_result"
    }
   ],
   "source": [
    "# Make the output into a list of strings, each line a new string\n",
    "myfile.seek(0)"
   ]
  },
  {
   "cell_type": "code",
   "execution_count": 31,
   "id": "b28c608d",
   "metadata": {},
   "outputs": [
    {
     "data": {
      "text/plain": [
       "['Hello this is a text file\\n',\n",
       " 'this is the second line\\n',\n",
       " 'this is line three\\n']"
      ]
     },
     "execution_count": 31,
     "metadata": {},
     "output_type": "execute_result"
    }
   ],
   "source": [
    "myfile.readlines()"
   ]
  },
  {
   "cell_type": "code",
   "execution_count": 32,
   "id": "da7fdfd4",
   "metadata": {},
   "outputs": [
    {
     "data": {
      "text/plain": [
       "list"
      ]
     },
     "execution_count": 32,
     "metadata": {},
     "output_type": "execute_result"
    }
   ],
   "source": [
    "type(myfile.readlines())"
   ]
  },
  {
   "cell_type": "code",
   "execution_count": 35,
   "id": "a817d30b",
   "metadata": {},
   "outputs": [],
   "source": [
    "# File locations\n",
    "# If you want to open files in other locations, simply pass the entire file path.\n",
    "# Windows - use double \\ so Python doesn't treat the second \\ as an escape character:\n",
    "#   myfile = open('C:\\\\Users\\\\UserName\\\\Folder\\\\test.txt')\n",
    "# Linux and Mac - use forward slashes just like your directory\n",
    "#   myfile = open('/Users/YourUserName/Folder/myfile.txt')"
   ]
  },
  {
   "cell_type": "code",
   "execution_count": 1,
   "id": "9ed31e48",
   "metadata": {},
   "outputs": [],
   "source": [
    "myfile = open('myfile.txt')"
   ]
  },
  {
   "cell_type": "code",
   "execution_count": 2,
   "id": "2208bb0c",
   "metadata": {},
   "outputs": [
    {
     "data": {
      "text/plain": [
       "'/home/paul/git-repos/python-bootcamp'"
      ]
     },
     "execution_count": 2,
     "metadata": {},
     "output_type": "execute_result"
    }
   ],
   "source": [
    "pwd"
   ]
  },
  {
   "cell_type": "code",
   "execution_count": 3,
   "id": "3baf1417",
   "metadata": {},
   "outputs": [],
   "source": [
    "# I restarted the kernel and now pwd works"
   ]
  },
  {
   "cell_type": "code",
   "execution_count": 4,
   "id": "db33ddba",
   "metadata": {},
   "outputs": [],
   "source": [
    "# So file is open.\n",
    "# Now you need to close it"
   ]
  },
  {
   "cell_type": "code",
   "execution_count": 5,
   "id": "91535182",
   "metadata": {},
   "outputs": [],
   "source": [
    "myfile.close()"
   ]
  },
  {
   "cell_type": "code",
   "execution_count": 6,
   "id": "01ce37ba",
   "metadata": {},
   "outputs": [],
   "source": [
    "# Those two commands is the old way of handling files\n",
    "# myfile.open('myfile.txt')\n",
    "# myfile.close()"
   ]
  },
  {
   "cell_type": "code",
   "execution_count": 8,
   "id": "0819a308",
   "metadata": {},
   "outputs": [],
   "source": [
    "# New way of doing it:\n",
    "with open('myfile.txt') as my_new_file:\n",
    "    contents = my_new_file.read()"
   ]
  },
  {
   "cell_type": "code",
   "execution_count": 9,
   "id": "e7487dae",
   "metadata": {},
   "outputs": [],
   "source": [
    "# Do it like that and you no longer need to care about closing the file"
   ]
  },
  {
   "cell_type": "code",
   "execution_count": 10,
   "id": "3158bcf1",
   "metadata": {},
   "outputs": [
    {
     "data": {
      "text/plain": [
       "'Hello this is a text file\\nthis is the second line\\nthis is line three\\n'"
      ]
     },
     "execution_count": 10,
     "metadata": {},
     "output_type": "execute_result"
    }
   ],
   "source": [
    "contents"
   ]
  },
  {
   "cell_type": "code",
   "execution_count": 13,
   "id": "f0c87350",
   "metadata": {},
   "outputs": [],
   "source": [
    "# Write to files\n",
    "# FYI - type it out, then put the cursor right before 'myfile.txt' then hit shift-tab and you\n",
    "#       open up information for functions that have already been defined.\n",
    "# Notice in the \"Signature:\" there's something called mode='r'. 'r' stands for 'read'\n",
    "\n",
    "with open('myfile.txt',mode='r') as myfile:\n",
    "    contents = myfile.read()"
   ]
  },
  {
   "cell_type": "code",
   "execution_count": 14,
   "id": "30a9aee6",
   "metadata": {},
   "outputs": [
    {
     "data": {
      "text/plain": [
       "'Hello this is a text file\\nthis is the second line\\nthis is line three\\n'"
      ]
     },
     "execution_count": 14,
     "metadata": {},
     "output_type": "execute_result"
    }
   ],
   "source": [
    "contents"
   ]
  },
  {
   "cell_type": "code",
   "execution_count": 16,
   "id": "b1f1e6a6",
   "metadata": {},
   "outputs": [
    {
     "ename": "ValueError",
     "evalue": "invalid mode: 'W'",
     "output_type": "error",
     "traceback": [
      "\u001b[0;31m---------------------------------------------------------------------------\u001b[0m",
      "\u001b[0;31mValueError\u001b[0m                                Traceback (most recent call last)",
      "\u001b[0;32m/tmp/ipykernel_53355/275185551.py\u001b[0m in \u001b[0;36m<module>\u001b[0;34m\u001b[0m\n\u001b[1;32m      1\u001b[0m \u001b[0;31m# change the 'r' to 'w' and get an \"UnsupportedOperation: not readable\" error:\u001b[0m\u001b[0;34m\u001b[0m\u001b[0;34m\u001b[0m\u001b[0m\n\u001b[0;32m----> 2\u001b[0;31m \u001b[0;32mwith\u001b[0m \u001b[0mopen\u001b[0m\u001b[0;34m(\u001b[0m\u001b[0;34m'myfile.txt'\u001b[0m\u001b[0;34m,\u001b[0m\u001b[0mmode\u001b[0m\u001b[0;34m=\u001b[0m\u001b[0;34m'W'\u001b[0m\u001b[0;34m)\u001b[0m \u001b[0;32mas\u001b[0m \u001b[0mmyfile\u001b[0m\u001b[0;34m:\u001b[0m\u001b[0;34m\u001b[0m\u001b[0;34m\u001b[0m\u001b[0m\n\u001b[0m\u001b[1;32m      3\u001b[0m     \u001b[0mcontents\u001b[0m \u001b[0;34m=\u001b[0m \u001b[0mmyfile\u001b[0m\u001b[0;34m.\u001b[0m\u001b[0mread\u001b[0m\u001b[0;34m(\u001b[0m\u001b[0;34m)\u001b[0m\u001b[0;34m\u001b[0m\u001b[0;34m\u001b[0m\u001b[0m\n",
      "\u001b[0;31mValueError\u001b[0m: invalid mode: 'W'"
     ]
    }
   ],
   "source": [
    "# change the 'r' to 'w' and get an \"UnsupportedOperation: not readable\" error:\n",
    "with open('myfile.txt',mode='W') as myfile:\n",
    "    contents = myfile.read()"
   ]
  },
  {
   "cell_type": "code",
   "execution_count": 17,
   "id": "06d2d60d",
   "metadata": {},
   "outputs": [],
   "source": [
    "# The reason is that you don't have permission to read the file, but you want to write the file"
   ]
  },
  {
   "cell_type": "code",
   "execution_count": 18,
   "id": "dac9d8c2",
   "metadata": {},
   "outputs": [],
   "source": [
    "# 'a' = append to a file\n",
    "# 'r' = read only\n",
    "# 'w' = write only - overwrites existing files, or creates if it doesn't exist\n"
   ]
  },
  {
   "cell_type": "code",
   "execution_count": 31,
   "id": "f39dcd48",
   "metadata": {},
   "outputs": [
    {
     "name": "stdout",
     "output_type": "stream",
     "text": [
      "Overwriting my_new_file.txt\n"
     ]
    }
   ],
   "source": [
    "%%writefile my_new_file.txt\n",
    "ONE OF FIRST\n",
    "TWO ON SECOND\n",
    "THREE ON THIRD"
   ]
  },
  {
   "cell_type": "code",
   "execution_count": 32,
   "id": "fb354fd0",
   "metadata": {},
   "outputs": [],
   "source": [
    "# if the file already exist it will say \"Overwriting my_new_file.txt\""
   ]
  },
  {
   "cell_type": "code",
   "execution_count": 33,
   "id": "4905f6e1",
   "metadata": {},
   "outputs": [
    {
     "name": "stdout",
     "output_type": "stream",
     "text": [
      "ONE OF FIRST\n",
      "TWO ON SECOND\n",
      "THREE ON THIRD\n",
      "\n"
     ]
    }
   ],
   "source": [
    "with open('my_new_file.txt',mode='r') as f:\n",
    "    print(f.read())"
   ]
  },
  {
   "cell_type": "code",
   "execution_count": 34,
   "id": "5c617ade",
   "metadata": {},
   "outputs": [],
   "source": [
    "# now add a new line to it\n",
    "# Using append, remember the cursor will be at the end of the file\n",
    "# because we just read the file.\n",
    "# So anything appended will go at the end of the file"
   ]
  },
  {
   "cell_type": "code",
   "execution_count": 35,
   "id": "7e2fe748",
   "metadata": {},
   "outputs": [],
   "source": [
    "with open('my_new_file.txt',mode='a') as f:\n",
    "    f.write('\\nfour on fourth')"
   ]
  },
  {
   "cell_type": "code",
   "execution_count": 36,
   "id": "4b246021",
   "metadata": {},
   "outputs": [
    {
     "name": "stdout",
     "output_type": "stream",
     "text": [
      "ONE OF FIRST\n",
      "TWO ON SECOND\n",
      "THREE ON THIRD\n",
      "\n",
      "four on fourth\n"
     ]
    }
   ],
   "source": [
    "with open('my_new_file.txt',mode='r') as f:\n",
    "    print(f.read())"
   ]
  },
  {
   "cell_type": "code",
   "execution_count": 37,
   "id": "dfbd9834",
   "metadata": {},
   "outputs": [],
   "source": [
    "# writing"
   ]
  },
  {
   "cell_type": "code",
   "execution_count": 38,
   "id": "f0eb6de4",
   "metadata": {},
   "outputs": [],
   "source": [
    "with open('asdfsadf.txt',mode='w') as f:\n",
    "    f.write('I just created this file')"
   ]
  },
  {
   "cell_type": "code",
   "execution_count": 40,
   "id": "1ef762a8",
   "metadata": {},
   "outputs": [
    {
     "name": "stdout",
     "output_type": "stream",
     "text": [
      "I just created this file\n"
     ]
    }
   ],
   "source": [
    "with open('asdfsadf.txt',mode='r') as f:\n",
    "    print(f.read())"
   ]
  },
  {
   "cell_type": "code",
   "execution_count": 22,
   "id": "a8d379ed",
   "metadata": {},
   "outputs": [],
   "source": [
    "####################\n",
    "# End of Section 3 #\n",
    "####################"
   ]
  },
  {
   "cell_type": "markdown",
   "id": "47277c95",
   "metadata": {},
   "source": [
    "32 - Python Comparison Operators"
   ]
  },
  {
   "cell_type": "code",
   "execution_count": 4,
   "id": "7bbb70d8",
   "metadata": {},
   "outputs": [
    {
     "data": {
      "text/plain": [
       "True"
      ]
     },
     "execution_count": 4,
     "metadata": {},
     "output_type": "execute_result"
    }
   ],
   "source": [
    "# Check for equality\n",
    "# Is 2 equal to 2?\n",
    "2 == 2"
   ]
  },
  {
   "cell_type": "code",
   "execution_count": 5,
   "id": "624c8760",
   "metadata": {},
   "outputs": [
    {
     "data": {
      "text/plain": [
       "False"
      ]
     },
     "execution_count": 5,
     "metadata": {},
     "output_type": "execute_result"
    }
   ],
   "source": [
    "# Is 2 equal to 1?\n",
    "2 == 1"
   ]
  },
  {
   "cell_type": "code",
   "execution_count": 6,
   "id": "d6aa8650",
   "metadata": {},
   "outputs": [],
   "source": [
    "# Not just for numbers but for any objects"
   ]
  },
  {
   "cell_type": "code",
   "execution_count": 7,
   "id": "2f83f329",
   "metadata": {},
   "outputs": [
    {
     "data": {
      "text/plain": [
       "False"
      ]
     },
     "execution_count": 7,
     "metadata": {},
     "output_type": "execute_result"
    }
   ],
   "source": [
    "'hello' == 'bye'"
   ]
  },
  {
   "cell_type": "code",
   "execution_count": 8,
   "id": "be1eb94f",
   "metadata": {},
   "outputs": [
    {
     "data": {
      "text/plain": [
       "False"
      ]
     },
     "execution_count": 8,
     "metadata": {},
     "output_type": "execute_result"
    }
   ],
   "source": [
    "'Hello' == 'hello'"
   ]
  },
  {
   "cell_type": "code",
   "execution_count": 9,
   "id": "9d7d4256",
   "metadata": {},
   "outputs": [
    {
     "data": {
      "text/plain": [
       "False"
      ]
     },
     "execution_count": 9,
     "metadata": {},
     "output_type": "execute_result"
    }
   ],
   "source": [
    "'2' == 2"
   ]
  },
  {
   "cell_type": "code",
   "execution_count": 10,
   "id": "9367b1aa",
   "metadata": {},
   "outputs": [
    {
     "data": {
      "text/plain": [
       "True"
      ]
     },
     "execution_count": 10,
     "metadata": {},
     "output_type": "execute_result"
    }
   ],
   "source": [
    "2.0 == 2"
   ]
  },
  {
   "cell_type": "code",
   "execution_count": 11,
   "id": "b1defbef",
   "metadata": {},
   "outputs": [
    {
     "data": {
      "text/plain": [
       "False"
      ]
     },
     "execution_count": 11,
     "metadata": {},
     "output_type": "execute_result"
    }
   ],
   "source": [
    "# Check for inequality\n",
    "3 != 3"
   ]
  },
  {
   "cell_type": "code",
   "execution_count": 12,
   "id": "1ba10f9c",
   "metadata": {},
   "outputs": [
    {
     "data": {
      "text/plain": [
       "True"
      ]
     },
     "execution_count": 12,
     "metadata": {},
     "output_type": "execute_result"
    }
   ],
   "source": [
    "4 != 5"
   ]
  },
  {
   "cell_type": "code",
   "execution_count": 13,
   "id": "bc0ead93",
   "metadata": {},
   "outputs": [
    {
     "data": {
      "text/plain": [
       "True"
      ]
     },
     "execution_count": 13,
     "metadata": {},
     "output_type": "execute_result"
    }
   ],
   "source": [
    "2 > 1"
   ]
  },
  {
   "cell_type": "code",
   "execution_count": 14,
   "id": "f111fbc3",
   "metadata": {},
   "outputs": [
    {
     "data": {
      "text/plain": [
       "True"
      ]
     },
     "execution_count": 14,
     "metadata": {},
     "output_type": "execute_result"
    }
   ],
   "source": [
    "1 < 2"
   ]
  },
  {
   "cell_type": "code",
   "execution_count": 15,
   "id": "05be0f78",
   "metadata": {},
   "outputs": [
    {
     "data": {
      "text/plain": [
       "True"
      ]
     },
     "execution_count": 15,
     "metadata": {},
     "output_type": "execute_result"
    }
   ],
   "source": [
    "2 >= 2"
   ]
  },
  {
   "cell_type": "code",
   "execution_count": 16,
   "id": "775b9f5f",
   "metadata": {},
   "outputs": [
    {
     "data": {
      "text/plain": [
       "False"
      ]
     },
     "execution_count": 16,
     "metadata": {},
     "output_type": "execute_result"
    }
   ],
   "source": [
    "2 >= 4"
   ]
  },
  {
   "cell_type": "markdown",
   "id": "42282685",
   "metadata": {},
   "source": [
    "Table of Comparison Operators\n",
    " <br>  ==  If the values of two operands are equal, then the condition becomes true. Example: (a == b) is not true.\n",
    " <br>  !=  If values of two operands are not equal, then condition becomes true. Example: (a != b) is true.\n",
    " <br>  >   If the values of left operand is greater than right operand, condition becomes true. Example: (a > b) is not true.\n",
    " <br>  <   If value of left operand is less than right operand, condition becomes true. Example: (a < b) is true\n",
    " <br>  >=  If value of left operand is greater than or equal to right operand, condition becomes true. Example: (a >= b) is not true.\n",
    " <br>  <=  If value of left operand is less than or equal to right operand, condition becomes true. Example: (a <= b) is true."
   ]
  },
  {
   "cell_type": "code",
   "execution_count": 1,
   "id": "d5de80ac",
   "metadata": {},
   "outputs": [
    {
     "data": {
      "text/plain": [
       "True"
      ]
     },
     "execution_count": 1,
     "metadata": {},
     "output_type": "execute_result"
    }
   ],
   "source": [
    "2 >= 2"
   ]
  },
  {
   "cell_type": "markdown",
   "id": "1cd74062",
   "metadata": {},
   "source": [
    "33 - Chaining Comparison Operators in Python with Logical Operators"
   ]
  },
  {
   "cell_type": "code",
   "execution_count": 3,
   "id": "1282898a",
   "metadata": {},
   "outputs": [],
   "source": [
    "# Logical Operators (keywords)\n",
    "# and\n",
    "# or\n",
    "# not"
   ]
  },
  {
   "cell_type": "code",
   "execution_count": 4,
   "id": "5be16c3d",
   "metadata": {},
   "outputs": [
    {
     "data": {
      "text/plain": [
       "True"
      ]
     },
     "execution_count": 4,
     "metadata": {},
     "output_type": "execute_result"
    }
   ],
   "source": [
    "1 < 2"
   ]
  },
  {
   "cell_type": "code",
   "execution_count": 5,
   "id": "1c570689",
   "metadata": {},
   "outputs": [
    {
     "data": {
      "text/plain": [
       "False"
      ]
     },
     "execution_count": 5,
     "metadata": {},
     "output_type": "execute_result"
    }
   ],
   "source": [
    "2 > 4"
   ]
  },
  {
   "cell_type": "code",
   "execution_count": 7,
   "id": "8df21a3e",
   "metadata": {},
   "outputs": [
    {
     "data": {
      "text/plain": [
       "True"
      ]
     },
     "execution_count": 7,
     "metadata": {},
     "output_type": "execute_result"
    }
   ],
   "source": [
    "# one way to do a chain comparison\n",
    "1 < 2 < 3"
   ]
  },
  {
   "cell_type": "code",
   "execution_count": 8,
   "id": "adb82179",
   "metadata": {},
   "outputs": [
    {
     "data": {
      "text/plain": [
       "False"
      ]
     },
     "execution_count": 8,
     "metadata": {},
     "output_type": "execute_result"
    }
   ],
   "source": [
    "1 < 2 > 3"
   ]
  },
  {
   "cell_type": "code",
   "execution_count": 9,
   "id": "87aeed74",
   "metadata": {},
   "outputs": [
    {
     "data": {
      "text/plain": [
       "False"
      ]
     },
     "execution_count": 9,
     "metadata": {},
     "output_type": "execute_result"
    }
   ],
   "source": [
    "# chain it with a logical operator\n",
    "1 < 2 and 3 > 4"
   ]
  },
  {
   "cell_type": "code",
   "execution_count": 10,
   "id": "22d4a95c",
   "metadata": {},
   "outputs": [
    {
     "data": {
      "text/plain": [
       "True"
      ]
     },
     "execution_count": 10,
     "metadata": {},
     "output_type": "execute_result"
    }
   ],
   "source": [
    "1 < 2 and 3 < 4"
   ]
  },
  {
   "cell_type": "code",
   "execution_count": 11,
   "id": "624313bd",
   "metadata": {},
   "outputs": [
    {
     "data": {
      "text/plain": [
       "True"
      ]
     },
     "execution_count": 11,
     "metadata": {},
     "output_type": "execute_result"
    }
   ],
   "source": [
    "'h' == 'h' and 2 == 2"
   ]
  },
  {
   "cell_type": "code",
   "execution_count": 12,
   "id": "9ead2bd4",
   "metadata": {},
   "outputs": [
    {
     "data": {
      "text/plain": [
       "True"
      ]
     },
     "execution_count": 12,
     "metadata": {},
     "output_type": "execute_result"
    }
   ],
   "source": [
    "# add a little organization\n",
    "('h' == 'h') and (2 == 2)"
   ]
  },
  {
   "cell_type": "code",
   "execution_count": 13,
   "id": "b467d571",
   "metadata": {},
   "outputs": [
    {
     "data": {
      "text/plain": [
       "True"
      ]
     },
     "execution_count": 13,
     "metadata": {},
     "output_type": "execute_result"
    }
   ],
   "source": [
    "# or\n",
    "# only 1 condition has to be true\n",
    "1 == 1 or 2 == 3"
   ]
  },
  {
   "cell_type": "code",
   "execution_count": 14,
   "id": "31884c86",
   "metadata": {},
   "outputs": [
    {
     "data": {
      "text/plain": [
       "False"
      ]
     },
     "execution_count": 14,
     "metadata": {},
     "output_type": "execute_result"
    }
   ],
   "source": [
    "1 == 2 or 2 == 3"
   ]
  },
  {
   "cell_type": "code",
   "execution_count": 15,
   "id": "708b504d",
   "metadata": {},
   "outputs": [],
   "source": [
    "# use keywords instead of just chaining the operators because it's more readable later"
   ]
  },
  {
   "cell_type": "code",
   "execution_count": 16,
   "id": "9f77e5d7",
   "metadata": {},
   "outputs": [
    {
     "data": {
      "text/plain": [
       "False"
      ]
     },
     "execution_count": 16,
     "metadata": {},
     "output_type": "execute_result"
    }
   ],
   "source": [
    "# not\n",
    "# return the opposite boolean of what you just did\n",
    "not(1 == 1)"
   ]
  },
  {
   "cell_type": "code",
   "execution_count": 17,
   "id": "7b9442cd",
   "metadata": {},
   "outputs": [
    {
     "data": {
      "text/plain": [
       "False"
      ]
     },
     "execution_count": 17,
     "metadata": {},
     "output_type": "execute_result"
    }
   ],
   "source": [
    "not 1 == 1"
   ]
  },
  {
   "cell_type": "code",
   "execution_count": 18,
   "id": "ea0fac18",
   "metadata": {},
   "outputs": [
    {
     "data": {
      "text/plain": [
       "True"
      ]
     },
     "execution_count": 18,
     "metadata": {},
     "output_type": "execute_result"
    }
   ],
   "source": [
    "300 > 200"
   ]
  },
  {
   "cell_type": "code",
   "execution_count": 19,
   "id": "4a77bb49",
   "metadata": {},
   "outputs": [
    {
     "data": {
      "text/plain": [
       "False"
      ]
     },
     "execution_count": 19,
     "metadata": {},
     "output_type": "execute_result"
    }
   ],
   "source": [
    "not 300 > 200"
   ]
  },
  {
   "cell_type": "code",
   "execution_count": 20,
   "id": "3ea657a0",
   "metadata": {},
   "outputs": [
    {
     "data": {
      "text/plain": [
       "False"
      ]
     },
     "execution_count": 20,
     "metadata": {},
     "output_type": "execute_result"
    }
   ],
   "source": [
    "# using the not keyword can be more readable than the alternative\n",
    "1 != 1"
   ]
  },
  {
   "cell_type": "code",
   "execution_count": 21,
   "id": "33c3a34d",
   "metadata": {},
   "outputs": [
    {
     "data": {
      "text/plain": [
       "False"
      ]
     },
     "execution_count": 21,
     "metadata": {},
     "output_type": "execute_result"
    }
   ],
   "source": [
    "not 1 == 1"
   ]
  },
  {
   "cell_type": "code",
   "execution_count": null,
   "id": "b8cbf498",
   "metadata": {},
   "outputs": [],
   "source": [
    "# End of section 4"
   ]
  }
 ],
 "metadata": {
  "kernelspec": {
   "display_name": "Python 3 (ipykernel)",
   "language": "python",
   "name": "python3"
  },
  "language_info": {
   "codemirror_mode": {
    "name": "ipython",
    "version": 3
   },
   "file_extension": ".py",
   "mimetype": "text/x-python",
   "name": "python",
   "nbconvert_exporter": "python",
   "pygments_lexer": "ipython3",
   "version": "3.9.13"
  }
 },
 "nbformat": 4,
 "nbformat_minor": 5
}
