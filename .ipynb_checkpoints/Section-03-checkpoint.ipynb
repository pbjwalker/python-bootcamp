{
 "cells": [
  {
   "cell_type": "markdown",
   "id": "7dc10e4f",
   "metadata": {},
   "source": [
    "Section 3: Python Object and Data Structure Basics"
   ]
  },
  {
   "cell_type": "markdown",
   "id": "55197a94",
   "metadata": {},
   "source": [
    "11 - Introduction to Python Data Types"
   ]
  },
  {
   "cell_type": "code",
   "execution_count": 18,
   "id": "6701bf53",
   "metadata": {},
   "outputs": [],
   "source": [
    "# int      Integers   whole numbers:   3  300  200\n",
    "# float    Floating Point   numbers with a decimal point:   2.3   4.6   100.0\n",
    "# str      Strings   ordered sequence of characters:   \"hello\"   'sammy'   \"2000\"   \"foreign letters\"\n",
    "# list     Lists   ordered sequence of objects:   [10,\"hello\",200.3]\n",
    "# dict     Dictionaries   unordered Key:Value pairs:   {\"mykey\":\"value\",\"name\":\"Frankie\"}\n",
    "# tup      Tuples   ordered immutable sequence of objects:   (10,\"hello\",2.3)\n",
    "# set      Sets   unordered collection of unique objects:   {\"a\",\"b\"}\n",
    "# bool     Booleans   logical value indicating True or False:   True   False"
   ]
  },
  {
   "cell_type": "markdown",
   "id": "82451ee3",
   "metadata": {},
   "source": [
    "12 - Python Numbers"
   ]
  },
  {
   "cell_type": "code",
   "execution_count": 19,
   "id": "252db87d",
   "metadata": {},
   "outputs": [],
   "source": [
    "# There are 2 main number types in Python\n",
    "# Integers - which are whole numbers\n",
    "# Floating Point numbers - which are numbers with a decimal point"
   ]
  },
  {
   "cell_type": "code",
   "execution_count": 20,
   "id": "8446b9a7",
   "metadata": {},
   "outputs": [
    {
     "data": {
      "text/plain": [
       "3"
      ]
     },
     "execution_count": 20,
     "metadata": {},
     "output_type": "execute_result"
    }
   ],
   "source": [
    "2+1"
   ]
  },
  {
   "cell_type": "code",
   "execution_count": 21,
   "id": "ade6c1c9",
   "metadata": {},
   "outputs": [
    {
     "data": {
      "text/plain": [
       "1"
      ]
     },
     "execution_count": 21,
     "metadata": {},
     "output_type": "execute_result"
    }
   ],
   "source": [
    "2-1"
   ]
  },
  {
   "cell_type": "code",
   "execution_count": 22,
   "id": "26e67d34",
   "metadata": {},
   "outputs": [
    {
     "data": {
      "text/plain": [
       "4"
      ]
     },
     "execution_count": 22,
     "metadata": {},
     "output_type": "execute_result"
    }
   ],
   "source": [
    "2*2"
   ]
  },
  {
   "cell_type": "code",
   "execution_count": 23,
   "id": "8303086a",
   "metadata": {},
   "outputs": [
    {
     "data": {
      "text/plain": [
       "1.5"
      ]
     },
     "execution_count": 23,
     "metadata": {},
     "output_type": "execute_result"
    }
   ],
   "source": [
    "3/2"
   ]
  },
  {
   "cell_type": "markdown",
   "id": "2bf95d9b",
   "metadata": {},
   "source": [
    "The Modulo or \"Mod\" operator"
   ]
  },
  {
   "cell_type": "code",
   "execution_count": 24,
   "id": "71956de2",
   "metadata": {},
   "outputs": [
    {
     "data": {
      "text/plain": [
       "1.75"
      ]
     },
     "execution_count": 24,
     "metadata": {},
     "output_type": "execute_result"
    }
   ],
   "source": [
    "7/4"
   ]
  },
  {
   "cell_type": "code",
   "execution_count": 25,
   "id": "390397f0",
   "metadata": {},
   "outputs": [
    {
     "data": {
      "text/plain": [
       "1.75"
      ]
     },
     "execution_count": 25,
     "metadata": {},
     "output_type": "execute_result"
    }
   ],
   "source": [
    "7 / 4"
   ]
  },
  {
   "cell_type": "code",
   "execution_count": 26,
   "id": "99c0edab",
   "metadata": {},
   "outputs": [],
   "source": [
    "# 7 goes into 4 with a remainder of 3"
   ]
  },
  {
   "cell_type": "code",
   "execution_count": 27,
   "id": "bc801756",
   "metadata": {},
   "outputs": [],
   "source": [
    "# What if you only wanted to know the remainder?"
   ]
  },
  {
   "cell_type": "code",
   "execution_count": 29,
   "id": "68b1284b",
   "metadata": {},
   "outputs": [
    {
     "data": {
      "text/plain": [
       "3"
      ]
     },
     "execution_count": 29,
     "metadata": {},
     "output_type": "execute_result"
    }
   ],
   "source": [
    "# 7 mod 4 returns a remainder of 3\n",
    "7 % 4"
   ]
  },
  {
   "cell_type": "code",
   "execution_count": 30,
   "id": "50d3125c",
   "metadata": {},
   "outputs": [
    {
     "data": {
      "text/plain": [
       "0"
      ]
     },
     "execution_count": 30,
     "metadata": {},
     "output_type": "execute_result"
    }
   ],
   "source": [
    "#50 mod 5 returns a remainder of 0\n",
    "50%5"
   ]
  },
  {
   "cell_type": "code",
   "execution_count": 31,
   "id": "b60e2ad5",
   "metadata": {},
   "outputs": [],
   "source": [
    "# when mod returns a remainder of 0 it means one number was evenly divisible by another number\n",
    "# helpful when checking if a number is odd or even"
   ]
  },
  {
   "cell_type": "code",
   "execution_count": 33,
   "id": "23a1f20f",
   "metadata": {},
   "outputs": [
    {
     "data": {
      "text/plain": [
       "1"
      ]
     },
     "execution_count": 33,
     "metadata": {},
     "output_type": "execute_result"
    }
   ],
   "source": [
    "# if 23 mod 2 results in anything other than zero, it's an odd number\n",
    "23 % 2"
   ]
  },
  {
   "cell_type": "markdown",
   "id": "667a1b91",
   "metadata": {},
   "source": [
    "Exponents or Powers"
   ]
  },
  {
   "cell_type": "code",
   "execution_count": 34,
   "id": "d2ec4cf4",
   "metadata": {},
   "outputs": [
    {
     "data": {
      "text/plain": [
       "8"
      ]
     },
     "execution_count": 34,
     "metadata": {},
     "output_type": "execute_result"
    }
   ],
   "source": [
    "# 2 to the power of 3\n",
    "2**3"
   ]
  },
  {
   "cell_type": "code",
   "execution_count": 35,
   "id": "b2dfccb0",
   "metadata": {},
   "outputs": [
    {
     "data": {
      "text/plain": [
       "8"
      ]
     },
     "execution_count": 35,
     "metadata": {},
     "output_type": "execute_result"
    }
   ],
   "source": [
    "2 ** 3"
   ]
  },
  {
   "cell_type": "code",
   "execution_count": 36,
   "id": "1fccc810",
   "metadata": {},
   "outputs": [
    {
     "data": {
      "text/plain": [
       "0"
      ]
     },
     "execution_count": 36,
     "metadata": {},
     "output_type": "execute_result"
    }
   ],
   "source": [
    "2 ** 3 % 2"
   ]
  },
  {
   "cell_type": "code",
   "execution_count": 37,
   "id": "a73cefaa",
   "metadata": {},
   "outputs": [],
   "source": [
    "# order of operations"
   ]
  },
  {
   "cell_type": "code",
   "execution_count": 38,
   "id": "61e4b088",
   "metadata": {},
   "outputs": [
    {
     "data": {
      "text/plain": [
       "105"
      ]
     },
     "execution_count": 38,
     "metadata": {},
     "output_type": "execute_result"
    }
   ],
   "source": [
    "2 + 10 * 10 + 3"
   ]
  },
  {
   "cell_type": "code",
   "execution_count": 39,
   "id": "04be5764",
   "metadata": {},
   "outputs": [
    {
     "data": {
      "text/plain": [
       "156"
      ]
     },
     "execution_count": 39,
     "metadata": {},
     "output_type": "execute_result"
    }
   ],
   "source": [
    "(2 + 10) * (10 + 3)"
   ]
  },
  {
   "cell_type": "code",
   "execution_count": 40,
   "id": "7c60d313",
   "metadata": {},
   "outputs": [],
   "source": [
    "# What's the difference between floating point and an integer?\n",
    "# An integer has no decimals in it, and a floating point number can display digits past the decimal point."
   ]
  },
  {
   "cell_type": "code",
   "execution_count": 41,
   "id": "4ac5b934",
   "metadata": {},
   "outputs": [
    {
     "data": {
      "text/plain": [
       "5.551115123125783e-17"
      ]
     },
     "execution_count": 41,
     "metadata": {},
     "output_type": "execute_result"
    }
   ],
   "source": [
    "0.1+0.2-0.3\n",
    "# Why doesn't 0.1 + 0.2 - 0.3 equal 0.0?\n",
    "# This has to do with floating point accuracy and the computer's abilities to represent numbers in memory.\n",
    "# For a full breakdown, check out:\n",
    "# https://docs.python.org/2/tutorial/floatingpoint.html"
   ]
  },
  {
   "cell_type": "code",
   "execution_count": 42,
   "id": "3c4f10e4",
   "metadata": {},
   "outputs": [
    {
     "data": {
      "text/plain": [
       "5.551115123125783e-17"
      ]
     },
     "execution_count": 42,
     "metadata": {},
     "output_type": "execute_result"
    }
   ],
   "source": [
    "0.1 + 0.2 - 0.3"
   ]
  },
  {
   "cell_type": "code",
   "execution_count": 43,
   "id": "616a0bb6",
   "metadata": {},
   "outputs": [
    {
     "data": {
      "text/plain": [
       "0.20000000000000004"
      ]
     },
     "execution_count": 43,
     "metadata": {},
     "output_type": "execute_result"
    }
   ],
   "source": [
    "0.1 + 0.2 - 0.1"
   ]
  },
  {
   "cell_type": "markdown",
   "id": "9c204fa3",
   "metadata": {},
   "source": [
    "14 - Variable Assignments"
   ]
  },
  {
   "cell_type": "code",
   "execution_count": 45,
   "id": "0d4561fe",
   "metadata": {},
   "outputs": [],
   "source": [
    "# Rules for variable names:\n",
    "# - cannot start with a number\n",
    "# - no spaces in the name, use _ instead\n",
    "# - Can't use any of these symbols:\n",
    "# : ' \" / ? | \\ ( ) ! @ # $ % ^ & * ~ - +"
   ]
  },
  {
   "cell_type": "code",
   "execution_count": 46,
   "id": "58e34a3a",
   "metadata": {},
   "outputs": [],
   "source": [
    "# More...\n",
    "# Generally it's considered best practice (PEP8) that names are lowercase.\n",
    "# Avoid words that have special meaning in Python, like \"list\" and \"str\""
   ]
  },
  {
   "cell_type": "code",
   "execution_count": 47,
   "id": "511828a9",
   "metadata": {},
   "outputs": [],
   "source": [
    "# Python uses \"dynamic typing.\"\n",
    "# Unlike other languages, you can reassign variable names to other variable types throughout the program."
   ]
  },
  {
   "cell_type": "code",
   "execution_count": 49,
   "id": "2e8e81f4",
   "metadata": {},
   "outputs": [],
   "source": [
    "# Be aware of type() function"
   ]
  },
  {
   "cell_type": "code",
   "execution_count": 50,
   "id": "8f4c487e",
   "metadata": {},
   "outputs": [],
   "source": [
    "a = 5"
   ]
  },
  {
   "cell_type": "code",
   "execution_count": 51,
   "id": "bacefd3e",
   "metadata": {},
   "outputs": [
    {
     "data": {
      "text/plain": [
       "5"
      ]
     },
     "execution_count": 51,
     "metadata": {},
     "output_type": "execute_result"
    }
   ],
   "source": [
    "a"
   ]
  },
  {
   "cell_type": "code",
   "execution_count": 52,
   "id": "55711229",
   "metadata": {},
   "outputs": [],
   "source": [
    "a = 10"
   ]
  },
  {
   "cell_type": "code",
   "execution_count": 53,
   "id": "1a944ee5",
   "metadata": {},
   "outputs": [
    {
     "data": {
      "text/plain": [
       "10"
      ]
     },
     "execution_count": 53,
     "metadata": {},
     "output_type": "execute_result"
    }
   ],
   "source": [
    "a"
   ]
  },
  {
   "cell_type": "code",
   "execution_count": 54,
   "id": "95fcfea0",
   "metadata": {},
   "outputs": [
    {
     "data": {
      "text/plain": [
       "20"
      ]
     },
     "execution_count": 54,
     "metadata": {},
     "output_type": "execute_result"
    }
   ],
   "source": [
    "a + a"
   ]
  },
  {
   "cell_type": "code",
   "execution_count": 55,
   "id": "d43e6992",
   "metadata": {},
   "outputs": [],
   "source": [
    "# Python allows reassignment with reference to the same object\n",
    "a = a + a"
   ]
  },
  {
   "cell_type": "code",
   "execution_count": 56,
   "id": "7d92aa96",
   "metadata": {},
   "outputs": [
    {
     "data": {
      "text/plain": [
       "20"
      ]
     },
     "execution_count": 56,
     "metadata": {},
     "output_type": "execute_result"
    }
   ],
   "source": [
    "a"
   ]
  },
  {
   "cell_type": "code",
   "execution_count": 57,
   "id": "313398c2",
   "metadata": {},
   "outputs": [],
   "source": [
    "a = a + a"
   ]
  },
  {
   "cell_type": "code",
   "execution_count": 58,
   "id": "cc51868f",
   "metadata": {},
   "outputs": [
    {
     "data": {
      "text/plain": [
       "40"
      ]
     },
     "execution_count": 58,
     "metadata": {},
     "output_type": "execute_result"
    }
   ],
   "source": [
    "a"
   ]
  },
  {
   "cell_type": "code",
   "execution_count": 59,
   "id": "8928d8e2",
   "metadata": {},
   "outputs": [
    {
     "data": {
      "text/plain": [
       "int"
      ]
     },
     "execution_count": 59,
     "metadata": {},
     "output_type": "execute_result"
    }
   ],
   "source": [
    "type(a)"
   ]
  },
  {
   "cell_type": "code",
   "execution_count": 60,
   "id": "9a9fa2b0",
   "metadata": {},
   "outputs": [],
   "source": [
    "a = 30.1"
   ]
  },
  {
   "cell_type": "code",
   "execution_count": 61,
   "id": "7ee07cdd",
   "metadata": {},
   "outputs": [
    {
     "data": {
      "text/plain": [
       "float"
      ]
     },
     "execution_count": 61,
     "metadata": {},
     "output_type": "execute_result"
    }
   ],
   "source": [
    "type(a)"
   ]
  },
  {
   "cell_type": "code",
   "execution_count": 62,
   "id": "e3cbb111",
   "metadata": {},
   "outputs": [],
   "source": [
    "my_income = 100\n",
    "\n",
    "tax_rate = 0.1\n",
    "\n",
    "my_taxes = my_income * tax_rate"
   ]
  },
  {
   "cell_type": "code",
   "execution_count": 63,
   "id": "e7a47569",
   "metadata": {},
   "outputs": [
    {
     "data": {
      "text/plain": [
       "10.0"
      ]
     },
     "execution_count": 63,
     "metadata": {},
     "output_type": "execute_result"
    }
   ],
   "source": [
    "my_taxes"
   ]
  },
  {
   "cell_type": "markdown",
   "id": "13346227",
   "metadata": {},
   "source": [
    "15 - Introduction to Strings"
   ]
  },
  {
   "cell_type": "code",
   "execution_count": 64,
   "id": "81f646b0",
   "metadata": {},
   "outputs": [],
   "source": [
    "# Strings are sequences of characters, using the syntax of either single or double quotes:\n",
    "# 'hello'\n",
    "# \"Hello\"\n",
    "# \"I don't do that\""
   ]
  },
  {
   "cell_type": "code",
   "execution_count": 65,
   "id": "b7406658",
   "metadata": {},
   "outputs": [
    {
     "data": {
      "text/plain": [
       "'hello'"
      ]
     },
     "execution_count": 65,
     "metadata": {},
     "output_type": "execute_result"
    }
   ],
   "source": [
    "\"hello\""
   ]
  },
  {
   "cell_type": "code",
   "execution_count": 66,
   "id": "c398e4f6",
   "metadata": {},
   "outputs": [
    {
     "data": {
      "text/plain": [
       "'hello'"
      ]
     },
     "execution_count": 66,
     "metadata": {},
     "output_type": "execute_result"
    }
   ],
   "source": [
    "'hello'"
   ]
  },
  {
   "cell_type": "code",
   "execution_count": 67,
   "id": "a691ebac",
   "metadata": {},
   "outputs": [
    {
     "data": {
      "text/plain": [
       "'\"hello\"'"
      ]
     },
     "execution_count": 67,
     "metadata": {},
     "output_type": "execute_result"
    }
   ],
   "source": [
    "'\"hello\"'"
   ]
  },
  {
   "cell_type": "code",
   "execution_count": 68,
   "id": "8c1f34b4",
   "metadata": {},
   "outputs": [
    {
     "data": {
      "text/plain": [
       "\"'hello'\""
      ]
     },
     "execution_count": 68,
     "metadata": {},
     "output_type": "execute_result"
    }
   ],
   "source": [
    "\"'hello'\""
   ]
  },
  {
   "cell_type": "code",
   "execution_count": 69,
   "id": "4dec5e4f",
   "metadata": {},
   "outputs": [],
   "source": [
    "# Remember that strings are ORDERED SEQUENCES.\n",
    "# This means that we can use indexing and slicing to grab sub-sections of the string.\n",
    "# Indexing uses [] notation after the string or variable assigned the string."
   ]
  },
  {
   "cell_type": "code",
   "execution_count": 70,
   "id": "9d96261e",
   "metadata": {},
   "outputs": [],
   "source": [
    "# Indexing\n",
    "# Use square brackets [] and a number index to indicate positions of what you want to grab.\n",
    "# The number index starts with zero 0"
   ]
  },
  {
   "cell_type": "code",
   "execution_count": 71,
   "id": "ae8fbe47",
   "metadata": {},
   "outputs": [],
   "source": [
    "# Reverse indexing\n",
    "# Uses negative numbers, with -1 being the character in the furthermost right position.\n",
    "# However the first character of the string is always zero 0."
   ]
  },
  {
   "cell_type": "code",
   "execution_count": 73,
   "id": "b8bdfec8",
   "metadata": {},
   "outputs": [],
   "source": [
    "# Slicing - allows you to grab a subsection of multiple characters, a slice of the string.\n",
    "# Slicing syntax\n",
    "# [start:stop:step]\n",
    "# start is a numerical index for the slice start\n",
    "# stop is the index you will go up to, but NOT include\n",
    "# step is the size of the jump you take\n"
   ]
  },
  {
   "cell_type": "code",
   "execution_count": 74,
   "id": "f46cb3c6",
   "metadata": {},
   "outputs": [
    {
     "data": {
      "text/plain": [
       "'hello'"
      ]
     },
     "execution_count": 74,
     "metadata": {},
     "output_type": "execute_result"
    }
   ],
   "source": [
    "'hello'"
   ]
  },
  {
   "cell_type": "code",
   "execution_count": 75,
   "id": "7ee03b44",
   "metadata": {},
   "outputs": [
    {
     "data": {
      "text/plain": [
       "'hello'"
      ]
     },
     "execution_count": 75,
     "metadata": {},
     "output_type": "execute_result"
    }
   ],
   "source": [
    "\"hello\""
   ]
  },
  {
   "cell_type": "code",
   "execution_count": 76,
   "id": "40ebaba1",
   "metadata": {},
   "outputs": [
    {
     "data": {
      "text/plain": [
       "'this is also a string'"
      ]
     },
     "execution_count": 76,
     "metadata": {},
     "output_type": "execute_result"
    }
   ],
   "source": [
    "\"this is also a string\""
   ]
  },
  {
   "cell_type": "code",
   "execution_count": 77,
   "id": "ab98621a",
   "metadata": {},
   "outputs": [],
   "source": [
    "# white or blank spaces count when indexing"
   ]
  },
  {
   "cell_type": "code",
   "execution_count": 78,
   "id": "06fc54ad",
   "metadata": {},
   "outputs": [
    {
     "data": {
      "text/plain": [
       "\"I'm going on a run\""
      ]
     },
     "execution_count": 78,
     "metadata": {},
     "output_type": "execute_result"
    }
   ],
   "source": [
    "\"I'm going on a run\""
   ]
  },
  {
   "cell_type": "code",
   "execution_count": 79,
   "id": "251f5fad",
   "metadata": {},
   "outputs": [
    {
     "data": {
      "text/plain": [
       "'I\"m going on a run'"
      ]
     },
     "execution_count": 79,
     "metadata": {},
     "output_type": "execute_result"
    }
   ],
   "source": [
    "'I\"m going on a run'"
   ]
  },
  {
   "cell_type": "code",
   "execution_count": 82,
   "id": "9bee4269",
   "metadata": {},
   "outputs": [],
   "source": [
    "# If you try to output more than one string in a Jupyter notebook cell, you only see the last one.\n",
    "# Use Python's print statement to do this instead"
   ]
  },
  {
   "cell_type": "code",
   "execution_count": 83,
   "id": "5f974570",
   "metadata": {},
   "outputs": [
    {
     "data": {
      "text/plain": [
       "'hello two'"
      ]
     },
     "execution_count": 83,
     "metadata": {},
     "output_type": "execute_result"
    }
   ],
   "source": [
    "'hello one'\n",
    "\"hello two\""
   ]
  },
  {
   "cell_type": "code",
   "execution_count": 84,
   "id": "36d1aec4",
   "metadata": {},
   "outputs": [
    {
     "name": "stdout",
     "output_type": "stream",
     "text": [
      "hello one\n",
      "hello two\n"
     ]
    }
   ],
   "source": [
    "print('hello one')\n",
    "print('hello two')"
   ]
  },
  {
   "cell_type": "code",
   "execution_count": 85,
   "id": "9caf729e",
   "metadata": {},
   "outputs": [
    {
     "name": "stdout",
     "output_type": "stream",
     "text": [
      "'hello one'\n",
      "'hello two'\n"
     ]
    }
   ],
   "source": [
    "print(\"'hello one'\")\n",
    "print(\"'hello two'\")"
   ]
  },
  {
   "cell_type": "code",
   "execution_count": 90,
   "id": "2341b9af",
   "metadata": {},
   "outputs": [
    {
     "name": "stdout",
     "output_type": "stream",
     "text": [
      "hello world\n",
      "hello \n",
      "world\n"
     ]
    }
   ],
   "source": [
    "# Printing on multiple lines with \\n\n",
    "print('hello world')\n",
    "print('hello \\nworld')"
   ]
  },
  {
   "cell_type": "code",
   "execution_count": 91,
   "id": "7533dd59",
   "metadata": {},
   "outputs": [
    {
     "name": "stdout",
     "output_type": "stream",
     "text": [
      "hello \tworld\n"
     ]
    }
   ],
   "source": [
    "# Printing with tab with \\t\n",
    "print('hello \\tworld')"
   ]
  },
  {
   "cell_type": "code",
   "execution_count": 92,
   "id": "a1aa91f9",
   "metadata": {},
   "outputs": [
    {
     "data": {
      "text/plain": [
       "5"
      ]
     },
     "execution_count": 92,
     "metadata": {},
     "output_type": "execute_result"
    }
   ],
   "source": [
    "# Use the len() function\n",
    "len('hello')"
   ]
  },
  {
   "cell_type": "code",
   "execution_count": 94,
   "id": "60c3936d",
   "metadata": {},
   "outputs": [
    {
     "data": {
      "text/plain": [
       "4"
      ]
     },
     "execution_count": 94,
     "metadata": {},
     "output_type": "execute_result"
    }
   ],
   "source": [
    "len('I am')"
   ]
  },
  {
   "cell_type": "markdown",
   "id": "9ad3163f",
   "metadata": {},
   "source": [
    "16 - Indexing and Slicing with Strings"
   ]
  },
  {
   "cell_type": "code",
   "execution_count": 1,
   "id": "ac6b8516",
   "metadata": {},
   "outputs": [],
   "source": [
    "mystring = \"Hello world\""
   ]
  },
  {
   "cell_type": "code",
   "execution_count": 2,
   "id": "424782b1",
   "metadata": {},
   "outputs": [
    {
     "data": {
      "text/plain": [
       "'Hello world'"
      ]
     },
     "execution_count": 2,
     "metadata": {},
     "output_type": "execute_result"
    }
   ],
   "source": [
    "mystring"
   ]
  },
  {
   "cell_type": "code",
   "execution_count": 3,
   "id": "70603094",
   "metadata": {},
   "outputs": [
    {
     "data": {
      "text/plain": [
       "'e'"
      ]
     },
     "execution_count": 3,
     "metadata": {},
     "output_type": "execute_result"
    }
   ],
   "source": [
    "mystring[1]"
   ]
  },
  {
   "cell_type": "code",
   "execution_count": 4,
   "id": "240f0ea3",
   "metadata": {},
   "outputs": [
    {
     "ename": "TypeError",
     "evalue": "'str' object is not callable",
     "output_type": "error",
     "traceback": [
      "\u001b[0;31m---------------------------------------------------------------------------\u001b[0m",
      "\u001b[0;31mTypeError\u001b[0m                                 Traceback (most recent call last)",
      "\u001b[0;32m/tmp/ipykernel_3290/3817887144.py\u001b[0m in \u001b[0;36m<module>\u001b[0;34m\u001b[0m\n\u001b[0;32m----> 1\u001b[0;31m \u001b[0mmystring\u001b[0m\u001b[0;34m(\u001b[0m\u001b[0;36m1\u001b[0m\u001b[0;34m)\u001b[0m\u001b[0;34m\u001b[0m\u001b[0;34m\u001b[0m\u001b[0m\n\u001b[0m",
      "\u001b[0;31mTypeError\u001b[0m: 'str' object is not callable"
     ]
    }
   ],
   "source": [
    "mystring(1)"
   ]
  },
  {
   "cell_type": "code",
   "execution_count": 5,
   "id": "e847368e",
   "metadata": {},
   "outputs": [
    {
     "data": {
      "text/plain": [
       "'e'"
      ]
     },
     "execution_count": 5,
     "metadata": {},
     "output_type": "execute_result"
    }
   ],
   "source": [
    "mystring[1:2:3]"
   ]
  },
  {
   "cell_type": "code",
   "execution_count": 6,
   "id": "5d7c8742",
   "metadata": {},
   "outputs": [
    {
     "data": {
      "text/plain": [
       "'d'"
      ]
     },
     "execution_count": 6,
     "metadata": {},
     "output_type": "execute_result"
    }
   ],
   "source": [
    "mystring[-1]"
   ]
  },
  {
   "cell_type": "code",
   "execution_count": 7,
   "id": "e546e1b9",
   "metadata": {},
   "outputs": [
    {
     "data": {
      "text/plain": [
       "'Hlowrd'"
      ]
     },
     "execution_count": 7,
     "metadata": {},
     "output_type": "execute_result"
    }
   ],
   "source": [
    "mystring[::2]"
   ]
  },
  {
   "cell_type": "code",
   "execution_count": 8,
   "id": "3ce92977",
   "metadata": {},
   "outputs": [
    {
     "data": {
      "text/plain": [
       "'r'"
      ]
     },
     "execution_count": 8,
     "metadata": {},
     "output_type": "execute_result"
    }
   ],
   "source": [
    "mystring[8]"
   ]
  },
  {
   "cell_type": "code",
   "execution_count": 9,
   "id": "3699d9a7",
   "metadata": {},
   "outputs": [
    {
     "data": {
      "text/plain": [
       "'l'"
      ]
     },
     "execution_count": 9,
     "metadata": {},
     "output_type": "execute_result"
    }
   ],
   "source": [
    "mystring[9]"
   ]
  },
  {
   "cell_type": "code",
   "execution_count": 10,
   "id": "c566eb5e",
   "metadata": {},
   "outputs": [
    {
     "data": {
      "text/plain": [
       "'l'"
      ]
     },
     "execution_count": 10,
     "metadata": {},
     "output_type": "execute_result"
    }
   ],
   "source": [
    "mystring[-2]"
   ]
  },
  {
   "cell_type": "code",
   "execution_count": 11,
   "id": "c7145357",
   "metadata": {},
   "outputs": [],
   "source": [
    "# index position [0] always grabs the first letter of a string\n",
    "# index position [-1] always grabs the last letter of a string"
   ]
  },
  {
   "cell_type": "code",
   "execution_count": 12,
   "id": "6a9f2de8",
   "metadata": {},
   "outputs": [],
   "source": [
    "# indexing grabs a character from a string\n",
    "# slicing grabs a subsection from a string"
   ]
  },
  {
   "cell_type": "code",
   "execution_count": 13,
   "id": "37ff965b",
   "metadata": {},
   "outputs": [
    {
     "data": {
      "text/plain": [
       "'Hello world'"
      ]
     },
     "execution_count": 13,
     "metadata": {},
     "output_type": "execute_result"
    }
   ],
   "source": [
    "mystring"
   ]
  },
  {
   "cell_type": "code",
   "execution_count": 14,
   "id": "7c01a08d",
   "metadata": {},
   "outputs": [],
   "source": [
    "mystring = \"abcdefghijk\""
   ]
  },
  {
   "cell_type": "code",
   "execution_count": 15,
   "id": "dcab9907",
   "metadata": {},
   "outputs": [
    {
     "data": {
      "text/plain": [
       "'cdefghijk'"
      ]
     },
     "execution_count": 15,
     "metadata": {},
     "output_type": "execute_result"
    }
   ],
   "source": [
    "# Grab a subset of the string that starts in one index position and continues to the end of the string\n",
    "mystring[2:]"
   ]
  },
  {
   "cell_type": "code",
   "execution_count": 16,
   "id": "3817b805",
   "metadata": {},
   "outputs": [
    {
     "data": {
      "text/plain": [
       "'cdefghijk'"
      ]
     },
     "execution_count": 16,
     "metadata": {},
     "output_type": "execute_result"
    }
   ],
   "source": [
    "mystring[2::]"
   ]
  },
  {
   "cell_type": "code",
   "execution_count": 17,
   "id": "251bf66d",
   "metadata": {},
   "outputs": [
    {
     "data": {
      "text/plain": [
       "'abc'"
      ]
     },
     "execution_count": 17,
     "metadata": {},
     "output_type": "execute_result"
    }
   ],
   "source": [
    "# Grab everything upto a specific index\n",
    "mystring[:3]"
   ]
  },
  {
   "cell_type": "code",
   "execution_count": 19,
   "id": "aa7d9693",
   "metadata": {},
   "outputs": [],
   "source": [
    "# REMEMBER: although 'd' is in index position 3, it is not included\n",
    "# When using a stop index [:3] it includes everything UP TO BUT NOT INCLUDING what's in that position"
   ]
  },
  {
   "cell_type": "code",
   "execution_count": 20,
   "id": "f9cf3e7d",
   "metadata": {},
   "outputs": [
    {
     "data": {
      "text/plain": [
       "'abcdefghijk'"
      ]
     },
     "execution_count": 20,
     "metadata": {},
     "output_type": "execute_result"
    }
   ],
   "source": [
    "mystring"
   ]
  },
  {
   "cell_type": "code",
   "execution_count": 21,
   "id": "72fcdd1e",
   "metadata": {},
   "outputs": [
    {
     "data": {
      "text/plain": [
       "'efg'"
      ]
     },
     "execution_count": 21,
     "metadata": {},
     "output_type": "execute_result"
    }
   ],
   "source": [
    "# Grab 'def' from the string\n",
    "mystring[4:7]"
   ]
  },
  {
   "cell_type": "code",
   "execution_count": 22,
   "id": "de1ee049",
   "metadata": {},
   "outputs": [
    {
     "data": {
      "text/plain": [
       "'def'"
      ]
     },
     "execution_count": 22,
     "metadata": {},
     "output_type": "execute_result"
    }
   ],
   "source": [
    "mystring[3:6]"
   ]
  },
  {
   "cell_type": "code",
   "execution_count": 23,
   "id": "822eb171",
   "metadata": {},
   "outputs": [
    {
     "data": {
      "text/plain": [
       "'bc'"
      ]
     },
     "execution_count": 23,
     "metadata": {},
     "output_type": "execute_result"
    }
   ],
   "source": [
    "# Grab 'bc' from the string\n",
    "mystring[1:3]"
   ]
  },
  {
   "cell_type": "code",
   "execution_count": 24,
   "id": "d044cb75",
   "metadata": {},
   "outputs": [
    {
     "ename": "NameError",
     "evalue": "name 'mystrign' is not defined",
     "output_type": "error",
     "traceback": [
      "\u001b[0;31m---------------------------------------------------------------------------\u001b[0m",
      "\u001b[0;31mNameError\u001b[0m                                 Traceback (most recent call last)",
      "\u001b[0;32m/tmp/ipykernel_3290/4207184230.py\u001b[0m in \u001b[0;36m<module>\u001b[0;34m\u001b[0m\n\u001b[0;32m----> 1\u001b[0;31m \u001b[0mmystrign\u001b[0m\u001b[0;34m\u001b[0m\u001b[0;34m\u001b[0m\u001b[0m\n\u001b[0m",
      "\u001b[0;31mNameError\u001b[0m: name 'mystrign' is not defined"
     ]
    }
   ],
   "source": [
    "mystrign"
   ]
  },
  {
   "cell_type": "code",
   "execution_count": 25,
   "id": "6390b3c2",
   "metadata": {},
   "outputs": [
    {
     "data": {
      "text/plain": [
       "'abcdefghijk'"
      ]
     },
     "execution_count": 25,
     "metadata": {},
     "output_type": "execute_result"
    }
   ],
   "source": [
    "mystring"
   ]
  },
  {
   "cell_type": "code",
   "execution_count": 26,
   "id": "602b103b",
   "metadata": {},
   "outputs": [
    {
     "data": {
      "text/plain": [
       "'abcdefghijk'"
      ]
     },
     "execution_count": 26,
     "metadata": {},
     "output_type": "execute_result"
    }
   ],
   "source": [
    "# Use string notation to grab everything in the string\n",
    "mystring[::]"
   ]
  },
  {
   "cell_type": "code",
   "execution_count": 27,
   "id": "d516c9e0",
   "metadata": {},
   "outputs": [],
   "source": [
    "# The third parameter is the step size"
   ]
  },
  {
   "cell_type": "code",
   "execution_count": 28,
   "id": "af4fba32",
   "metadata": {},
   "outputs": [
    {
     "data": {
      "text/plain": [
       "'acegik'"
      ]
     },
     "execution_count": 28,
     "metadata": {},
     "output_type": "execute_result"
    }
   ],
   "source": [
    "mystring[::2]"
   ]
  },
  {
   "cell_type": "code",
   "execution_count": 29,
   "id": "8aa0b24f",
   "metadata": {},
   "outputs": [],
   "source": [
    "binary_string = \"0101010101010101\""
   ]
  },
  {
   "cell_type": "code",
   "execution_count": 30,
   "id": "edff0105",
   "metadata": {},
   "outputs": [
    {
     "data": {
      "text/plain": [
       "'11111111'"
      ]
     },
     "execution_count": 30,
     "metadata": {},
     "output_type": "execute_result"
    }
   ],
   "source": [
    "binary_string[1::2]"
   ]
  },
  {
   "cell_type": "code",
   "execution_count": 31,
   "id": "77f84b0e",
   "metadata": {},
   "outputs": [
    {
     "data": {
      "text/plain": [
       "'00000000'"
      ]
     },
     "execution_count": 31,
     "metadata": {},
     "output_type": "execute_result"
    }
   ],
   "source": [
    "binary_string[::2]"
   ]
  },
  {
   "cell_type": "code",
   "execution_count": 32,
   "id": "7afc30fe",
   "metadata": {},
   "outputs": [
    {
     "data": {
      "text/plain": [
       "'kjihgfedcba'"
      ]
     },
     "execution_count": 32,
     "metadata": {},
     "output_type": "execute_result"
    }
   ],
   "source": [
    "mystring[::-1]"
   ]
  },
  {
   "cell_type": "markdown",
   "id": "0c107b66",
   "metadata": {},
   "source": [
    "17 - String Properties and Methods "
   ]
  },
  {
   "cell_type": "code",
   "execution_count": 33,
   "id": "cae4777b",
   "metadata": {},
   "outputs": [],
   "source": [
    "# Strings are immutable\n",
    "# This means the string can't change"
   ]
  },
  {
   "cell_type": "code",
   "execution_count": 34,
   "id": "95dc9d66",
   "metadata": {},
   "outputs": [],
   "source": [
    "name = \"Sam\""
   ]
  },
  {
   "cell_type": "code",
   "execution_count": 35,
   "id": "917f4854",
   "metadata": {},
   "outputs": [
    {
     "ename": "TypeError",
     "evalue": "'str' object does not support item assignment",
     "output_type": "error",
     "traceback": [
      "\u001b[0;31m---------------------------------------------------------------------------\u001b[0m",
      "\u001b[0;31mTypeError\u001b[0m                                 Traceback (most recent call last)",
      "\u001b[0;32m/tmp/ipykernel_3290/4091125550.py\u001b[0m in \u001b[0;36m<module>\u001b[0;34m\u001b[0m\n\u001b[0;32m----> 1\u001b[0;31m \u001b[0mname\u001b[0m\u001b[0;34m[\u001b[0m\u001b[0;36m0\u001b[0m\u001b[0;34m]\u001b[0m \u001b[0;34m=\u001b[0m \u001b[0;34m'P'\u001b[0m\u001b[0;34m\u001b[0m\u001b[0;34m\u001b[0m\u001b[0m\n\u001b[0m",
      "\u001b[0;31mTypeError\u001b[0m: 'str' object does not support item assignment"
     ]
    }
   ],
   "source": [
    "name[0] = 'P'"
   ]
  },
  {
   "cell_type": "code",
   "execution_count": 36,
   "id": "0e6d67c2",
   "metadata": {},
   "outputs": [],
   "source": [
    "# you have to create a new string or recreate it with concatenation"
   ]
  },
  {
   "cell_type": "code",
   "execution_count": 37,
   "id": "b84e2df9",
   "metadata": {},
   "outputs": [
    {
     "data": {
      "text/plain": [
       "'Sam'"
      ]
     },
     "execution_count": 37,
     "metadata": {},
     "output_type": "execute_result"
    }
   ],
   "source": [
    "name"
   ]
  },
  {
   "cell_type": "code",
   "execution_count": 38,
   "id": "9bf74d52",
   "metadata": {},
   "outputs": [
    {
     "data": {
      "text/plain": [
       "'am'"
      ]
     },
     "execution_count": 38,
     "metadata": {},
     "output_type": "execute_result"
    }
   ],
   "source": [
    "name[1:]"
   ]
  },
  {
   "cell_type": "code",
   "execution_count": 41,
   "id": "e3779a68",
   "metadata": {},
   "outputs": [],
   "source": [
    "last_letters = name[1::]"
   ]
  },
  {
   "cell_type": "code",
   "execution_count": 42,
   "id": "bf43766b",
   "metadata": {},
   "outputs": [
    {
     "data": {
      "text/plain": [
       "'Pam'"
      ]
     },
     "execution_count": 42,
     "metadata": {},
     "output_type": "execute_result"
    }
   ],
   "source": [
    "'P' + last_letters"
   ]
  },
  {
   "cell_type": "code",
   "execution_count": 43,
   "id": "1aed0e5c",
   "metadata": {},
   "outputs": [],
   "source": [
    "x = 'Hello World'"
   ]
  },
  {
   "cell_type": "code",
   "execution_count": 44,
   "id": "89f9c02e",
   "metadata": {},
   "outputs": [
    {
     "data": {
      "text/plain": [
       "'Hello World it is beautiful outside'"
      ]
     },
     "execution_count": 44,
     "metadata": {},
     "output_type": "execute_result"
    }
   ],
   "source": [
    "x + \" it is beautiful outside\""
   ]
  },
  {
   "cell_type": "code",
   "execution_count": 45,
   "id": "04eeadc2",
   "metadata": {},
   "outputs": [],
   "source": [
    "x = x + ' it is beautiful outside'"
   ]
  },
  {
   "cell_type": "code",
   "execution_count": 46,
   "id": "6673b5af",
   "metadata": {},
   "outputs": [
    {
     "data": {
      "text/plain": [
       "'Hello World it is beautiful outside'"
      ]
     },
     "execution_count": 46,
     "metadata": {},
     "output_type": "execute_result"
    }
   ],
   "source": [
    "x"
   ]
  },
  {
   "cell_type": "code",
   "execution_count": 47,
   "id": "91303303",
   "metadata": {},
   "outputs": [],
   "source": [
    "# That's string concatenation"
   ]
  },
  {
   "cell_type": "code",
   "execution_count": 48,
   "id": "76c81b59",
   "metadata": {},
   "outputs": [],
   "source": [
    "# you can use multiplication, too"
   ]
  },
  {
   "cell_type": "code",
   "execution_count": 49,
   "id": "f633275d",
   "metadata": {},
   "outputs": [],
   "source": [
    "letter = 'z'"
   ]
  },
  {
   "cell_type": "code",
   "execution_count": 50,
   "id": "07fb77b1",
   "metadata": {},
   "outputs": [
    {
     "data": {
      "text/plain": [
       "'z'"
      ]
     },
     "execution_count": 50,
     "metadata": {},
     "output_type": "execute_result"
    }
   ],
   "source": [
    "letter"
   ]
  },
  {
   "cell_type": "code",
   "execution_count": 51,
   "id": "f2a955ae",
   "metadata": {},
   "outputs": [
    {
     "data": {
      "text/plain": [
       "'zzzzzzzzzz'"
      ]
     },
     "execution_count": 51,
     "metadata": {},
     "output_type": "execute_result"
    }
   ],
   "source": [
    "letter * 10"
   ]
  },
  {
   "cell_type": "code",
   "execution_count": 52,
   "id": "392fbb48",
   "metadata": {},
   "outputs": [],
   "source": [
    "letter = letter * 10"
   ]
  },
  {
   "cell_type": "code",
   "execution_count": 53,
   "id": "05782046",
   "metadata": {},
   "outputs": [
    {
     "data": {
      "text/plain": [
       "'zzzzzzzzzz'"
      ]
     },
     "execution_count": 53,
     "metadata": {},
     "output_type": "execute_result"
    }
   ],
   "source": [
    "letter"
   ]
  },
  {
   "cell_type": "code",
   "execution_count": 54,
   "id": "30d7cf9c",
   "metadata": {},
   "outputs": [
    {
     "data": {
      "text/plain": [
       "5"
      ]
     },
     "execution_count": 54,
     "metadata": {},
     "output_type": "execute_result"
    }
   ],
   "source": [
    "2 + 3"
   ]
  },
  {
   "cell_type": "code",
   "execution_count": 55,
   "id": "79f6e73a",
   "metadata": {},
   "outputs": [
    {
     "data": {
      "text/plain": [
       "'23'"
      ]
     },
     "execution_count": 55,
     "metadata": {},
     "output_type": "execute_result"
    }
   ],
   "source": [
    "'2' + '3'"
   ]
  },
  {
   "cell_type": "code",
   "execution_count": 56,
   "id": "0dbe81a2",
   "metadata": {},
   "outputs": [],
   "source": [
    "# so watch the data types"
   ]
  },
  {
   "cell_type": "code",
   "execution_count": 57,
   "id": "e6b008c8",
   "metadata": {},
   "outputs": [],
   "source": [
    "# Python has built-in methods\n",
    "# These are functions that are inside the objects"
   ]
  },
  {
   "cell_type": "code",
   "execution_count": 58,
   "id": "d60a139b",
   "metadata": {},
   "outputs": [],
   "source": [
    "# Useful methods"
   ]
  },
  {
   "cell_type": "code",
   "execution_count": 59,
   "id": "aa183f53",
   "metadata": {},
   "outputs": [],
   "source": [
    "x = 'Hello World'"
   ]
  },
  {
   "cell_type": "code",
   "execution_count": 61,
   "id": "d830872e",
   "metadata": {},
   "outputs": [
    {
     "data": {
      "text/plain": [
       "'Hello world'"
      ]
     },
     "execution_count": 61,
     "metadata": {},
     "output_type": "execute_result"
    }
   ],
   "source": [
    "# now type 'x.' and hit the tab key\n",
    "x.capitalize()"
   ]
  },
  {
   "cell_type": "code",
   "execution_count": 62,
   "id": "a936993d",
   "metadata": {},
   "outputs": [
    {
     "data": {
      "text/plain": [
       "'HELLO WORLD'"
      ]
     },
     "execution_count": 62,
     "metadata": {},
     "output_type": "execute_result"
    }
   ],
   "source": [
    "x.upper()"
   ]
  },
  {
   "cell_type": "code",
   "execution_count": 63,
   "id": "68a4328f",
   "metadata": {},
   "outputs": [
    {
     "data": {
      "text/plain": [
       "'hello world'"
      ]
     },
     "execution_count": 63,
     "metadata": {},
     "output_type": "execute_result"
    }
   ],
   "source": [
    "x.casefold()"
   ]
  },
  {
   "cell_type": "code",
   "execution_count": 64,
   "id": "e9dbcb32",
   "metadata": {},
   "outputs": [
    {
     "data": {
      "text/plain": [
       "'hello world'"
      ]
     },
     "execution_count": 64,
     "metadata": {},
     "output_type": "execute_result"
    }
   ],
   "source": [
    "x.lower()"
   ]
  },
  {
   "cell_type": "code",
   "execution_count": 65,
   "id": "3d0d4998",
   "metadata": {},
   "outputs": [
    {
     "data": {
      "text/plain": [
       "['Hello', 'World']"
      ]
     },
     "execution_count": 65,
     "metadata": {},
     "output_type": "execute_result"
    }
   ],
   "source": [
    "x.split()"
   ]
  },
  {
   "cell_type": "code",
   "execution_count": 66,
   "id": "1ead6c80",
   "metadata": {},
   "outputs": [],
   "source": [
    "# If you use x.split() this splits the string on the white space and makes a list out of it."
   ]
  },
  {
   "cell_type": "code",
   "execution_count": 67,
   "id": "5c500411",
   "metadata": {},
   "outputs": [],
   "source": [
    "# Default is to split on the white space.  You can change that."
   ]
  },
  {
   "cell_type": "code",
   "execution_count": 68,
   "id": "ab62858f",
   "metadata": {},
   "outputs": [],
   "source": [
    "x = 'Hi this is a string'"
   ]
  },
  {
   "cell_type": "code",
   "execution_count": 69,
   "id": "114a68ab",
   "metadata": {},
   "outputs": [
    {
     "data": {
      "text/plain": [
       "'Hi this is a string'"
      ]
     },
     "execution_count": 69,
     "metadata": {},
     "output_type": "execute_result"
    }
   ],
   "source": [
    "x"
   ]
  },
  {
   "cell_type": "code",
   "execution_count": 70,
   "id": "eae1ff53",
   "metadata": {},
   "outputs": [
    {
     "data": {
      "text/plain": [
       "['H', ' th', 's ', 's a str', 'ng']"
      ]
     },
     "execution_count": 70,
     "metadata": {},
     "output_type": "execute_result"
    }
   ],
   "source": [
    "x.split('i')"
   ]
  },
  {
   "cell_type": "code",
   "execution_count": null,
   "id": "4883026b",
   "metadata": {},
   "outputs": [],
   "source": [
    "# that causes the split to happen on the 'i'"
   ]
  },
  {
   "cell_type": "raw",
   "id": "8d712048",
   "metadata": {},
   "source": [
    "21 - String Formatting for Printing"
   ]
  },
  {
   "cell_type": "code",
   "execution_count": 1,
   "id": "5f244cc2",
   "metadata": {},
   "outputs": [],
   "source": [
    "# The idea is to inject a variable into the string you want to print."
   ]
  },
  {
   "cell_type": "code",
   "execution_count": 3,
   "id": "01f0664a",
   "metadata": {},
   "outputs": [],
   "source": [
    "# There are multiple ways to format strings for printing variables in them.\n",
    "# This is called string interpolation.\n",
    "# Two main methods for this:\n",
    "#   .format()\n",
    "#   f-strings  (formatted string literals)"
   ]
  },
  {
   "cell_type": "markdown",
   "id": "4925266a",
   "metadata": {},
   "source": [
    "Formatting with the .format() method\n",
    "\n",
    "A good way to format oblects into your strings for print statements is with the string .format() method.\n",
    "The syntax is:\n",
    "\n",
    "'String here {} then also {}'.format('something1', 'something2')"
   ]
  },
  {
   "cell_type": "code",
   "execution_count": 4,
   "id": "ff3fa500",
   "metadata": {},
   "outputs": [
    {
     "name": "stdout",
     "output_type": "stream",
     "text": [
      "This is a string YEAH...NO KIDDING!\n"
     ]
    }
   ],
   "source": [
    "print('This is a string {}'.format('YEAH...NO KIDDING!'))"
   ]
  },
  {
   "cell_type": "code",
   "execution_count": 5,
   "id": "1cf58fd1",
   "metadata": {},
   "outputs": [
    {
     "name": "stdout",
     "output_type": "stream",
     "text": [
      "The fox brown quick\n"
     ]
    }
   ],
   "source": [
    "print('The {} {} {}'.format('fox','brown','quick'))"
   ]
  },
  {
   "cell_type": "code",
   "execution_count": 6,
   "id": "01e47d18",
   "metadata": {},
   "outputs": [],
   "source": [
    "# The default way .format() fills in the variables in the print() statement is in the order they are given.\n",
    "# You can specify the index position of what you want from the .format() method."
   ]
  },
  {
   "cell_type": "code",
   "execution_count": 8,
   "id": "56f1389f",
   "metadata": {},
   "outputs": [
    {
     "name": "stdout",
     "output_type": "stream",
     "text": [
      "The brown brown fox\n"
     ]
    }
   ],
   "source": [
    "print('The {1} {1} {0}'.format('fox','brown','quick'))"
   ]
  },
  {
   "cell_type": "code",
   "execution_count": 9,
   "id": "fde454a0",
   "metadata": {},
   "outputs": [],
   "source": [
    "# You can also assign the positions key words to make it easier to read the code"
   ]
  },
  {
   "cell_type": "code",
   "execution_count": 10,
   "id": "88c6dd8e",
   "metadata": {},
   "outputs": [
    {
     "name": "stdout",
     "output_type": "stream",
     "text": [
      "The brown brown fox\n"
     ]
    }
   ],
   "source": [
    "print('The {b} {b} {f}'.format(f='fox',b='brown',q='quick'))"
   ]
  },
  {
   "cell_type": "code",
   "execution_count": 11,
   "id": "a3a7dbef",
   "metadata": {},
   "outputs": [
    {
     "name": "stdout",
     "output_type": "stream",
     "text": [
      "The fox fox fox\n"
     ]
    }
   ],
   "source": [
    "print('The {f} {f} {f}'.format(f='fox',b='brown',q='quick'))"
   ]
  },
  {
   "cell_type": "code",
   "execution_count": 12,
   "id": "8cdb2a72",
   "metadata": {},
   "outputs": [],
   "source": [
    "# float formatting"
   ]
  },
  {
   "cell_type": "code",
   "execution_count": 13,
   "id": "0842e605",
   "metadata": {},
   "outputs": [],
   "source": [
    "result = 100/777"
   ]
  },
  {
   "cell_type": "code",
   "execution_count": 14,
   "id": "6155d9c0",
   "metadata": {},
   "outputs": [
    {
     "data": {
      "text/plain": [
       "0.1287001287001287"
      ]
     },
     "execution_count": 14,
     "metadata": {},
     "output_type": "execute_result"
    }
   ],
   "source": [
    "result"
   ]
  },
  {
   "cell_type": "code",
   "execution_count": 15,
   "id": "b5aca0c9",
   "metadata": {},
   "outputs": [],
   "source": [
    "# change the level of precision you want and change the width of the number itself"
   ]
  },
  {
   "cell_type": "code",
   "execution_count": 16,
   "id": "9d8e9e56",
   "metadata": {},
   "outputs": [
    {
     "name": "stdout",
     "output_type": "stream",
     "text": [
      "The result was 0.1287001287001287\n"
     ]
    }
   ],
   "source": [
    "print('The result was {}'.format(result))"
   ]
  },
  {
   "cell_type": "code",
   "execution_count": 17,
   "id": "ca9dd730",
   "metadata": {},
   "outputs": [
    {
     "name": "stdout",
     "output_type": "stream",
     "text": [
      "The result was 0.1287001287001287\n"
     ]
    }
   ],
   "source": [
    "print('The result was {r}'.format(r=result))"
   ]
  },
  {
   "cell_type": "code",
   "execution_count": 18,
   "id": "fc79a34b",
   "metadata": {},
   "outputs": [],
   "source": [
    "# Float formatting syntax\n",
    "# \"{value:width.precision f}\"\n",
    "# Mostly care about the precision. How many places past the decimal point.\n",
    "# Width mainly just adds whitespace"
   ]
  },
  {
   "cell_type": "code",
   "execution_count": 20,
   "id": "66b69ce6",
   "metadata": {},
   "outputs": [
    {
     "name": "stdout",
     "output_type": "stream",
     "text": [
      "The result was 0.129\n"
     ]
    }
   ],
   "source": [
    "print('The result was {r:1.3f}'.format(r=result))"
   ]
  },
  {
   "cell_type": "code",
   "execution_count": 21,
   "id": "720e6381",
   "metadata": {},
   "outputs": [],
   "source": [
    "result = 104.9998"
   ]
  },
  {
   "cell_type": "code",
   "execution_count": 22,
   "id": "c629eb04",
   "metadata": {},
   "outputs": [
    {
     "name": "stdout",
     "output_type": "stream",
     "text": [
      "The result was 105.00\n"
     ]
    }
   ],
   "source": [
    "print('The result was {r:1.2f}'.format(r=result))"
   ]
  },
  {
   "cell_type": "code",
   "execution_count": 23,
   "id": "28477af8",
   "metadata": {},
   "outputs": [
    {
     "name": "stdout",
     "output_type": "stream",
     "text": [
      "The result was 104.99980\n"
     ]
    }
   ],
   "source": [
    "print('The result was {r:1.5f}'.format(r=result))"
   ]
  },
  {
   "cell_type": "code",
   "execution_count": 25,
   "id": "4c0073c7",
   "metadata": {},
   "outputs": [
    {
     "name": "stdout",
     "output_type": "stream",
     "text": [
      "The result was     105.00\n"
     ]
    }
   ],
   "source": [
    "print('The result was {r:10.2f}'.format(r=result))"
   ]
  },
  {
   "cell_type": "code",
   "execution_count": 26,
   "id": "bd141a05",
   "metadata": {},
   "outputs": [
    {
     "name": "stdout",
     "output_type": "stream",
     "text": [
      "The result was  104.99980\n"
     ]
    }
   ],
   "source": [
    "print('The result was {r:10.5f}'.format(r=result))"
   ]
  },
  {
   "cell_type": "markdown",
   "id": "dfe0ddf0",
   "metadata": {},
   "source": [
    "Formatting with f-string\n",
    "Formatted string literals"
   ]
  },
  {
   "cell_type": "code",
   "execution_count": 27,
   "id": "516bbe38",
   "metadata": {},
   "outputs": [],
   "source": [
    "name = \"Jose\""
   ]
  },
  {
   "cell_type": "code",
   "execution_count": 28,
   "id": "76ae1e1e",
   "metadata": {},
   "outputs": [
    {
     "name": "stdout",
     "output_type": "stream",
     "text": [
      "Hello, his name is Jose\n"
     ]
    }
   ],
   "source": [
    "# .format() call, i.e. the old way of doing it\n",
    "print('Hello, his name is {}'.format(name))"
   ]
  },
  {
   "cell_type": "code",
   "execution_count": 30,
   "id": "65cf654a",
   "metadata": {},
   "outputs": [
    {
     "name": "stdout",
     "output_type": "stream",
     "text": [
      "Hello, his name is Jose\n"
     ]
    }
   ],
   "source": [
    "print(f'Hello, his name is {name}')"
   ]
  },
  {
   "cell_type": "code",
   "execution_count": 31,
   "id": "f4e3dfcf",
   "metadata": {},
   "outputs": [],
   "source": [
    "name = \"Sam\"\n",
    "age = 3"
   ]
  },
  {
   "cell_type": "code",
   "execution_count": 33,
   "id": "3cbf382a",
   "metadata": {},
   "outputs": [
    {
     "name": "stdout",
     "output_type": "stream",
     "text": [
      "Sam is now 3 years old\n"
     ]
    }
   ],
   "source": [
    "print(f'{name} is now {age} years old')"
   ]
  },
  {
   "cell_type": "code",
   "execution_count": null,
   "id": "b2f2f81b",
   "metadata": {},
   "outputs": [],
   "source": []
  }
 ],
 "metadata": {
  "kernelspec": {
   "display_name": "Python 3 (ipykernel)",
   "language": "python",
   "name": "python3"
  },
  "language_info": {
   "codemirror_mode": {
    "name": "ipython",
    "version": 3
   },
   "file_extension": ".py",
   "mimetype": "text/x-python",
   "name": "python",
   "nbconvert_exporter": "python",
   "pygments_lexer": "ipython3",
   "version": "3.9.13"
  }
 },
 "nbformat": 4,
 "nbformat_minor": 5
}
