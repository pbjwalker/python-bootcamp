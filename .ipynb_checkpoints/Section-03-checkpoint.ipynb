{
 "cells": [
  {
   "cell_type": "markdown",
   "id": "7dc10e4f",
   "metadata": {},
   "source": [
    "Section 3: Python Object and Data Structure Basics"
   ]
  },
  {
   "cell_type": "markdown",
   "id": "55197a94",
   "metadata": {},
   "source": [
    "11 - Introduction to Python Data Types"
   ]
  },
  {
   "cell_type": "code",
   "execution_count": 18,
   "id": "6701bf53",
   "metadata": {},
   "outputs": [],
   "source": [
    "# int      Integers   whole numbers:   3  300  200\n",
    "# float    Floating Point   numbers with a decimal point:   2.3   4.6   100.0\n",
    "# str      Strings   ordered sequence of characters:   \"hello\"   'sammy'   \"2000\"   \"foreign letters\"\n",
    "# list     Lists   ordered sequence of objects:   [10,\"hello\",200.3]\n",
    "# dict     Dictionaries   unordered Key:Value pairs:   {\"mykey\":\"value\",\"name\":\"Frankie\"}\n",
    "# tup      Tuples   ordered immutable sequence of objects:   (10,\"hello\",2.3)\n",
    "# set      Sets   unordered collection of unique objects:   {\"a\",\"b\"}\n",
    "# bool     Booleans   logical value indicating True or False:   True   False"
   ]
  },
  {
   "cell_type": "markdown",
   "id": "82451ee3",
   "metadata": {},
   "source": [
    "12 - Python Numbers"
   ]
  },
  {
   "cell_type": "code",
   "execution_count": 19,
   "id": "252db87d",
   "metadata": {},
   "outputs": [],
   "source": [
    "# There are 2 main number types in Python\n",
    "# Integers - which are whole numbers\n",
    "# Floating Point numbers - which are numbers with a decimal point"
   ]
  },
  {
   "cell_type": "code",
   "execution_count": 20,
   "id": "8446b9a7",
   "metadata": {},
   "outputs": [
    {
     "data": {
      "text/plain": [
       "3"
      ]
     },
     "execution_count": 20,
     "metadata": {},
     "output_type": "execute_result"
    }
   ],
   "source": [
    "2+1"
   ]
  },
  {
   "cell_type": "code",
   "execution_count": 21,
   "id": "ade6c1c9",
   "metadata": {},
   "outputs": [
    {
     "data": {
      "text/plain": [
       "1"
      ]
     },
     "execution_count": 21,
     "metadata": {},
     "output_type": "execute_result"
    }
   ],
   "source": [
    "2-1"
   ]
  },
  {
   "cell_type": "code",
   "execution_count": 22,
   "id": "26e67d34",
   "metadata": {},
   "outputs": [
    {
     "data": {
      "text/plain": [
       "4"
      ]
     },
     "execution_count": 22,
     "metadata": {},
     "output_type": "execute_result"
    }
   ],
   "source": [
    "2*2"
   ]
  },
  {
   "cell_type": "code",
   "execution_count": 23,
   "id": "8303086a",
   "metadata": {},
   "outputs": [
    {
     "data": {
      "text/plain": [
       "1.5"
      ]
     },
     "execution_count": 23,
     "metadata": {},
     "output_type": "execute_result"
    }
   ],
   "source": [
    "3/2"
   ]
  },
  {
   "cell_type": "markdown",
   "id": "2bf95d9b",
   "metadata": {},
   "source": [
    "The Modulo or \"Mod\" operator"
   ]
  },
  {
   "cell_type": "code",
   "execution_count": 24,
   "id": "71956de2",
   "metadata": {},
   "outputs": [
    {
     "data": {
      "text/plain": [
       "1.75"
      ]
     },
     "execution_count": 24,
     "metadata": {},
     "output_type": "execute_result"
    }
   ],
   "source": [
    "7/4"
   ]
  },
  {
   "cell_type": "code",
   "execution_count": 25,
   "id": "390397f0",
   "metadata": {},
   "outputs": [
    {
     "data": {
      "text/plain": [
       "1.75"
      ]
     },
     "execution_count": 25,
     "metadata": {},
     "output_type": "execute_result"
    }
   ],
   "source": [
    "7 / 4"
   ]
  },
  {
   "cell_type": "code",
   "execution_count": 26,
   "id": "99c0edab",
   "metadata": {},
   "outputs": [],
   "source": [
    "# 7 goes into 4 with a remainder of 3"
   ]
  },
  {
   "cell_type": "code",
   "execution_count": 27,
   "id": "bc801756",
   "metadata": {},
   "outputs": [],
   "source": [
    "# What if you only wanted to know the remainder?"
   ]
  },
  {
   "cell_type": "code",
   "execution_count": 29,
   "id": "68b1284b",
   "metadata": {},
   "outputs": [
    {
     "data": {
      "text/plain": [
       "3"
      ]
     },
     "execution_count": 29,
     "metadata": {},
     "output_type": "execute_result"
    }
   ],
   "source": [
    "# 7 mod 4 returns a remainder of 3\n",
    "7 % 4"
   ]
  },
  {
   "cell_type": "code",
   "execution_count": 30,
   "id": "50d3125c",
   "metadata": {},
   "outputs": [
    {
     "data": {
      "text/plain": [
       "0"
      ]
     },
     "execution_count": 30,
     "metadata": {},
     "output_type": "execute_result"
    }
   ],
   "source": [
    "#50 mod 5 returns a remainder of 0\n",
    "50%5"
   ]
  },
  {
   "cell_type": "code",
   "execution_count": 31,
   "id": "b60e2ad5",
   "metadata": {},
   "outputs": [],
   "source": [
    "# when mod returns a remainder of 0 it means one number was evenly divisible by another number\n",
    "# helpful when checking if a number is odd or even"
   ]
  },
  {
   "cell_type": "code",
   "execution_count": 33,
   "id": "23a1f20f",
   "metadata": {},
   "outputs": [
    {
     "data": {
      "text/plain": [
       "1"
      ]
     },
     "execution_count": 33,
     "metadata": {},
     "output_type": "execute_result"
    }
   ],
   "source": [
    "# if 23 mod 2 results in anything other than zero, it's an odd number\n",
    "23 % 2"
   ]
  },
  {
   "cell_type": "markdown",
   "id": "667a1b91",
   "metadata": {},
   "source": [
    "Exponents or Powers"
   ]
  },
  {
   "cell_type": "code",
   "execution_count": 34,
   "id": "d2ec4cf4",
   "metadata": {},
   "outputs": [
    {
     "data": {
      "text/plain": [
       "8"
      ]
     },
     "execution_count": 34,
     "metadata": {},
     "output_type": "execute_result"
    }
   ],
   "source": [
    "# 2 to the power of 3\n",
    "2**3"
   ]
  },
  {
   "cell_type": "code",
   "execution_count": 35,
   "id": "b2dfccb0",
   "metadata": {},
   "outputs": [
    {
     "data": {
      "text/plain": [
       "8"
      ]
     },
     "execution_count": 35,
     "metadata": {},
     "output_type": "execute_result"
    }
   ],
   "source": [
    "2 ** 3"
   ]
  },
  {
   "cell_type": "code",
   "execution_count": 36,
   "id": "1fccc810",
   "metadata": {},
   "outputs": [
    {
     "data": {
      "text/plain": [
       "0"
      ]
     },
     "execution_count": 36,
     "metadata": {},
     "output_type": "execute_result"
    }
   ],
   "source": [
    "2 ** 3 % 2"
   ]
  },
  {
   "cell_type": "code",
   "execution_count": 37,
   "id": "a73cefaa",
   "metadata": {},
   "outputs": [],
   "source": [
    "# order of operations"
   ]
  },
  {
   "cell_type": "code",
   "execution_count": 38,
   "id": "61e4b088",
   "metadata": {},
   "outputs": [
    {
     "data": {
      "text/plain": [
       "105"
      ]
     },
     "execution_count": 38,
     "metadata": {},
     "output_type": "execute_result"
    }
   ],
   "source": [
    "2 + 10 * 10 + 3"
   ]
  },
  {
   "cell_type": "code",
   "execution_count": 39,
   "id": "04be5764",
   "metadata": {},
   "outputs": [
    {
     "data": {
      "text/plain": [
       "156"
      ]
     },
     "execution_count": 39,
     "metadata": {},
     "output_type": "execute_result"
    }
   ],
   "source": [
    "(2 + 10) * (10 + 3)"
   ]
  },
  {
   "cell_type": "code",
   "execution_count": 40,
   "id": "7c60d313",
   "metadata": {},
   "outputs": [],
   "source": [
    "# What's the difference between floating point and an integer?\n",
    "# An integer has no decimals in it, and a floating point number can display digits past the decimal point."
   ]
  },
  {
   "cell_type": "code",
   "execution_count": 41,
   "id": "4ac5b934",
   "metadata": {},
   "outputs": [
    {
     "data": {
      "text/plain": [
       "5.551115123125783e-17"
      ]
     },
     "execution_count": 41,
     "metadata": {},
     "output_type": "execute_result"
    }
   ],
   "source": [
    "0.1+0.2-0.3\n",
    "# Why doesn't 0.1 + 0.2 - 0.3 equal 0.0?\n",
    "# This has to do with floating point accuracy and the computer's abilities to represent numbers in memory.\n",
    "# For a full breakdown, check out:\n",
    "# https://docs.python.org/2/tutorial/floatingpoint.html"
   ]
  },
  {
   "cell_type": "code",
   "execution_count": 42,
   "id": "3c4f10e4",
   "metadata": {},
   "outputs": [
    {
     "data": {
      "text/plain": [
       "5.551115123125783e-17"
      ]
     },
     "execution_count": 42,
     "metadata": {},
     "output_type": "execute_result"
    }
   ],
   "source": [
    "0.1 + 0.2 - 0.3"
   ]
  },
  {
   "cell_type": "code",
   "execution_count": 43,
   "id": "616a0bb6",
   "metadata": {},
   "outputs": [
    {
     "data": {
      "text/plain": [
       "0.20000000000000004"
      ]
     },
     "execution_count": 43,
     "metadata": {},
     "output_type": "execute_result"
    }
   ],
   "source": [
    "0.1 + 0.2 - 0.1"
   ]
  },
  {
   "cell_type": "markdown",
   "id": "9c204fa3",
   "metadata": {},
   "source": [
    "14 - Variable Assignments"
   ]
  },
  {
   "cell_type": "code",
   "execution_count": 45,
   "id": "0d4561fe",
   "metadata": {},
   "outputs": [],
   "source": [
    "# Rules for variable names:\n",
    "# - cannot start with a number\n",
    "# - no spaces in the name, use _ instead\n",
    "# - Can't use any of these symbols:\n",
    "# : ' \" / ? | \\ ( ) ! @ # $ % ^ & * ~ - +"
   ]
  },
  {
   "cell_type": "code",
   "execution_count": 46,
   "id": "58e34a3a",
   "metadata": {},
   "outputs": [],
   "source": [
    "# More...\n",
    "# Generally it's considered best practice (PEP8) that names are lowercase.\n",
    "# Avoid words that have special meaning in Python, like \"list\" and \"str\""
   ]
  },
  {
   "cell_type": "code",
   "execution_count": 47,
   "id": "511828a9",
   "metadata": {},
   "outputs": [],
   "source": [
    "# Python uses \"dynamic typing.\"\n",
    "# Unlike other languages, you can reassign variable names to other variable types throughout the program."
   ]
  },
  {
   "cell_type": "code",
   "execution_count": 49,
   "id": "2e8e81f4",
   "metadata": {},
   "outputs": [],
   "source": [
    "# Be aware of type() function"
   ]
  },
  {
   "cell_type": "code",
   "execution_count": 50,
   "id": "8f4c487e",
   "metadata": {},
   "outputs": [],
   "source": [
    "a = 5"
   ]
  },
  {
   "cell_type": "code",
   "execution_count": 51,
   "id": "bacefd3e",
   "metadata": {},
   "outputs": [
    {
     "data": {
      "text/plain": [
       "5"
      ]
     },
     "execution_count": 51,
     "metadata": {},
     "output_type": "execute_result"
    }
   ],
   "source": [
    "a"
   ]
  },
  {
   "cell_type": "code",
   "execution_count": 52,
   "id": "55711229",
   "metadata": {},
   "outputs": [],
   "source": [
    "a = 10"
   ]
  },
  {
   "cell_type": "code",
   "execution_count": 53,
   "id": "1a944ee5",
   "metadata": {},
   "outputs": [
    {
     "data": {
      "text/plain": [
       "10"
      ]
     },
     "execution_count": 53,
     "metadata": {},
     "output_type": "execute_result"
    }
   ],
   "source": [
    "a"
   ]
  },
  {
   "cell_type": "code",
   "execution_count": 54,
   "id": "95fcfea0",
   "metadata": {},
   "outputs": [
    {
     "data": {
      "text/plain": [
       "20"
      ]
     },
     "execution_count": 54,
     "metadata": {},
     "output_type": "execute_result"
    }
   ],
   "source": [
    "a + a"
   ]
  },
  {
   "cell_type": "code",
   "execution_count": 55,
   "id": "d43e6992",
   "metadata": {},
   "outputs": [],
   "source": [
    "# Python allows reassignment with reference to the same object\n",
    "a = a + a"
   ]
  },
  {
   "cell_type": "code",
   "execution_count": 56,
   "id": "7d92aa96",
   "metadata": {},
   "outputs": [
    {
     "data": {
      "text/plain": [
       "20"
      ]
     },
     "execution_count": 56,
     "metadata": {},
     "output_type": "execute_result"
    }
   ],
   "source": [
    "a"
   ]
  },
  {
   "cell_type": "code",
   "execution_count": 57,
   "id": "313398c2",
   "metadata": {},
   "outputs": [],
   "source": [
    "a = a + a"
   ]
  },
  {
   "cell_type": "code",
   "execution_count": 58,
   "id": "cc51868f",
   "metadata": {},
   "outputs": [
    {
     "data": {
      "text/plain": [
       "40"
      ]
     },
     "execution_count": 58,
     "metadata": {},
     "output_type": "execute_result"
    }
   ],
   "source": [
    "a"
   ]
  },
  {
   "cell_type": "code",
   "execution_count": 59,
   "id": "8928d8e2",
   "metadata": {},
   "outputs": [
    {
     "data": {
      "text/plain": [
       "int"
      ]
     },
     "execution_count": 59,
     "metadata": {},
     "output_type": "execute_result"
    }
   ],
   "source": [
    "type(a)"
   ]
  },
  {
   "cell_type": "code",
   "execution_count": 60,
   "id": "9a9fa2b0",
   "metadata": {},
   "outputs": [],
   "source": [
    "a = 30.1"
   ]
  },
  {
   "cell_type": "code",
   "execution_count": 61,
   "id": "7ee07cdd",
   "metadata": {},
   "outputs": [
    {
     "data": {
      "text/plain": [
       "float"
      ]
     },
     "execution_count": 61,
     "metadata": {},
     "output_type": "execute_result"
    }
   ],
   "source": [
    "type(a)"
   ]
  },
  {
   "cell_type": "code",
   "execution_count": 62,
   "id": "e3cbb111",
   "metadata": {},
   "outputs": [],
   "source": [
    "my_income = 100\n",
    "\n",
    "tax_rate = 0.1\n",
    "\n",
    "my_taxes = my_income * tax_rate"
   ]
  },
  {
   "cell_type": "code",
   "execution_count": 63,
   "id": "e7a47569",
   "metadata": {},
   "outputs": [
    {
     "data": {
      "text/plain": [
       "10.0"
      ]
     },
     "execution_count": 63,
     "metadata": {},
     "output_type": "execute_result"
    }
   ],
   "source": [
    "my_taxes"
   ]
  },
  {
   "cell_type": "markdown",
   "id": "13346227",
   "metadata": {},
   "source": [
    "15 - Introduction to Strings"
   ]
  },
  {
   "cell_type": "code",
   "execution_count": 64,
   "id": "81f646b0",
   "metadata": {},
   "outputs": [],
   "source": [
    "# Strings are sequences of characters, using the syntax of either single or double quotes:\n",
    "# 'hello'\n",
    "# \"Hello\"\n",
    "# \"I don't do that\""
   ]
  },
  {
   "cell_type": "code",
   "execution_count": 65,
   "id": "b7406658",
   "metadata": {},
   "outputs": [
    {
     "data": {
      "text/plain": [
       "'hello'"
      ]
     },
     "execution_count": 65,
     "metadata": {},
     "output_type": "execute_result"
    }
   ],
   "source": [
    "\"hello\""
   ]
  },
  {
   "cell_type": "code",
   "execution_count": 66,
   "id": "c398e4f6",
   "metadata": {},
   "outputs": [
    {
     "data": {
      "text/plain": [
       "'hello'"
      ]
     },
     "execution_count": 66,
     "metadata": {},
     "output_type": "execute_result"
    }
   ],
   "source": [
    "'hello'"
   ]
  },
  {
   "cell_type": "code",
   "execution_count": 67,
   "id": "a691ebac",
   "metadata": {},
   "outputs": [
    {
     "data": {
      "text/plain": [
       "'\"hello\"'"
      ]
     },
     "execution_count": 67,
     "metadata": {},
     "output_type": "execute_result"
    }
   ],
   "source": [
    "'\"hello\"'"
   ]
  },
  {
   "cell_type": "code",
   "execution_count": 68,
   "id": "8c1f34b4",
   "metadata": {},
   "outputs": [
    {
     "data": {
      "text/plain": [
       "\"'hello'\""
      ]
     },
     "execution_count": 68,
     "metadata": {},
     "output_type": "execute_result"
    }
   ],
   "source": [
    "\"'hello'\""
   ]
  },
  {
   "cell_type": "code",
   "execution_count": 69,
   "id": "4dec5e4f",
   "metadata": {},
   "outputs": [],
   "source": [
    "# Remember that strings are ORDERED SEQUENCES.\n",
    "# This means that we can use indexing and slicing to grab sub-sections of the string.\n",
    "# Indexing uses [] notation after the string or variable assigned the string."
   ]
  },
  {
   "cell_type": "code",
   "execution_count": 70,
   "id": "9d96261e",
   "metadata": {},
   "outputs": [],
   "source": [
    "# Indexing\n",
    "# Use square brackets [] and a number index to indicate positions of what you want to grab.\n",
    "# The number index starts with zero 0"
   ]
  },
  {
   "cell_type": "code",
   "execution_count": 71,
   "id": "ae8fbe47",
   "metadata": {},
   "outputs": [],
   "source": [
    "# Reverse indexing\n",
    "# Uses negative numbers, with -1 being the character in the furthermost right position.\n",
    "# However the first character of the string is always zero 0."
   ]
  },
  {
   "cell_type": "code",
   "execution_count": 73,
   "id": "b8bdfec8",
   "metadata": {},
   "outputs": [],
   "source": [
    "# Slicing - allows you to grab a subsection of multiple characters, a slice of the string.\n",
    "# Slicing syntax\n",
    "# [start:stop:step]\n",
    "# start is a numerical index for the slice start\n",
    "# stop is the index you will go up to, but NOT include\n",
    "# step is the size of the jump you take\n"
   ]
  },
  {
   "cell_type": "code",
   "execution_count": 74,
   "id": "f46cb3c6",
   "metadata": {},
   "outputs": [
    {
     "data": {
      "text/plain": [
       "'hello'"
      ]
     },
     "execution_count": 74,
     "metadata": {},
     "output_type": "execute_result"
    }
   ],
   "source": [
    "'hello'"
   ]
  },
  {
   "cell_type": "code",
   "execution_count": 75,
   "id": "7ee03b44",
   "metadata": {},
   "outputs": [
    {
     "data": {
      "text/plain": [
       "'hello'"
      ]
     },
     "execution_count": 75,
     "metadata": {},
     "output_type": "execute_result"
    }
   ],
   "source": [
    "\"hello\""
   ]
  },
  {
   "cell_type": "code",
   "execution_count": 76,
   "id": "40ebaba1",
   "metadata": {},
   "outputs": [
    {
     "data": {
      "text/plain": [
       "'this is also a string'"
      ]
     },
     "execution_count": 76,
     "metadata": {},
     "output_type": "execute_result"
    }
   ],
   "source": [
    "\"this is also a string\""
   ]
  },
  {
   "cell_type": "code",
   "execution_count": 77,
   "id": "ab98621a",
   "metadata": {},
   "outputs": [],
   "source": [
    "# white or blank spaces count when indexing"
   ]
  },
  {
   "cell_type": "code",
   "execution_count": 78,
   "id": "06fc54ad",
   "metadata": {},
   "outputs": [
    {
     "data": {
      "text/plain": [
       "\"I'm going on a run\""
      ]
     },
     "execution_count": 78,
     "metadata": {},
     "output_type": "execute_result"
    }
   ],
   "source": [
    "\"I'm going on a run\""
   ]
  },
  {
   "cell_type": "code",
   "execution_count": 79,
   "id": "251f5fad",
   "metadata": {},
   "outputs": [
    {
     "data": {
      "text/plain": [
       "'I\"m going on a run'"
      ]
     },
     "execution_count": 79,
     "metadata": {},
     "output_type": "execute_result"
    }
   ],
   "source": [
    "'I\"m going on a run'"
   ]
  },
  {
   "cell_type": "code",
   "execution_count": 82,
   "id": "9bee4269",
   "metadata": {},
   "outputs": [],
   "source": [
    "# If you try to output more than one string in a Jupyter notebook cell, you only see the last one.\n",
    "# Use Python's print statement to do this instead"
   ]
  },
  {
   "cell_type": "code",
   "execution_count": 83,
   "id": "5f974570",
   "metadata": {},
   "outputs": [
    {
     "data": {
      "text/plain": [
       "'hello two'"
      ]
     },
     "execution_count": 83,
     "metadata": {},
     "output_type": "execute_result"
    }
   ],
   "source": [
    "'hello one'\n",
    "\"hello two\""
   ]
  },
  {
   "cell_type": "code",
   "execution_count": 84,
   "id": "36d1aec4",
   "metadata": {},
   "outputs": [
    {
     "name": "stdout",
     "output_type": "stream",
     "text": [
      "hello one\n",
      "hello two\n"
     ]
    }
   ],
   "source": [
    "print('hello one')\n",
    "print('hello two')"
   ]
  },
  {
   "cell_type": "code",
   "execution_count": 85,
   "id": "9caf729e",
   "metadata": {},
   "outputs": [
    {
     "name": "stdout",
     "output_type": "stream",
     "text": [
      "'hello one'\n",
      "'hello two'\n"
     ]
    }
   ],
   "source": [
    "print(\"'hello one'\")\n",
    "print(\"'hello two'\")"
   ]
  },
  {
   "cell_type": "code",
   "execution_count": 90,
   "id": "2341b9af",
   "metadata": {},
   "outputs": [
    {
     "name": "stdout",
     "output_type": "stream",
     "text": [
      "hello world\n",
      "hello \n",
      "world\n"
     ]
    }
   ],
   "source": [
    "# Printing on multiple lines with \\n\n",
    "print('hello world')\n",
    "print('hello \\nworld')"
   ]
  },
  {
   "cell_type": "code",
   "execution_count": 91,
   "id": "7533dd59",
   "metadata": {},
   "outputs": [
    {
     "name": "stdout",
     "output_type": "stream",
     "text": [
      "hello \tworld\n"
     ]
    }
   ],
   "source": [
    "# Printing with tab with \\t\n",
    "print('hello \\tworld')"
   ]
  },
  {
   "cell_type": "code",
   "execution_count": 92,
   "id": "a1aa91f9",
   "metadata": {},
   "outputs": [
    {
     "data": {
      "text/plain": [
       "5"
      ]
     },
     "execution_count": 92,
     "metadata": {},
     "output_type": "execute_result"
    }
   ],
   "source": [
    "# Use the len() function\n",
    "len('hello')"
   ]
  },
  {
   "cell_type": "code",
   "execution_count": 94,
   "id": "60c3936d",
   "metadata": {},
   "outputs": [
    {
     "data": {
      "text/plain": [
       "4"
      ]
     },
     "execution_count": 94,
     "metadata": {},
     "output_type": "execute_result"
    }
   ],
   "source": [
    "len('I am')"
   ]
  },
  {
   "cell_type": "markdown",
   "id": "9ad3163f",
   "metadata": {},
   "source": [
    "16 - Indexing and Slicing with Strings"
   ]
  },
  {
   "cell_type": "code",
   "execution_count": 1,
   "id": "ac6b8516",
   "metadata": {},
   "outputs": [],
   "source": [
    "mystring = \"Hello world\""
   ]
  },
  {
   "cell_type": "code",
   "execution_count": 2,
   "id": "f7c3d8f5",
   "metadata": {},
   "outputs": [
    {
     "data": {
      "text/plain": [
       "'Hello world'"
      ]
     },
     "execution_count": 2,
     "metadata": {},
     "output_type": "execute_result"
    }
   ],
   "source": [
    "mystring"
   ]
  },
  {
   "cell_type": "code",
   "execution_count": 3,
   "id": "bcac8e0a",
   "metadata": {},
   "outputs": [
    {
     "data": {
      "text/plain": [
       "'e'"
      ]
     },
     "execution_count": 3,
     "metadata": {},
     "output_type": "execute_result"
    }
   ],
   "source": [
    "mystring[1]"
   ]
  },
  {
   "cell_type": "code",
   "execution_count": 4,
   "id": "594ef307",
   "metadata": {},
   "outputs": [
    {
     "ename": "TypeError",
     "evalue": "'str' object is not callable",
     "output_type": "error",
     "traceback": [
      "\u001b[0;31m---------------------------------------------------------------------------\u001b[0m",
      "\u001b[0;31mTypeError\u001b[0m                                 Traceback (most recent call last)",
      "\u001b[0;32m/tmp/ipykernel_3290/3817887144.py\u001b[0m in \u001b[0;36m<module>\u001b[0;34m\u001b[0m\n\u001b[0;32m----> 1\u001b[0;31m \u001b[0mmystring\u001b[0m\u001b[0;34m(\u001b[0m\u001b[0;36m1\u001b[0m\u001b[0;34m)\u001b[0m\u001b[0;34m\u001b[0m\u001b[0;34m\u001b[0m\u001b[0m\n\u001b[0m",
      "\u001b[0;31mTypeError\u001b[0m: 'str' object is not callable"
     ]
    }
   ],
   "source": [
    "mystring(1)"
   ]
  },
  {
   "cell_type": "code",
   "execution_count": 5,
   "id": "6a1c0499",
   "metadata": {},
   "outputs": [
    {
     "data": {
      "text/plain": [
       "'e'"
      ]
     },
     "execution_count": 5,
     "metadata": {},
     "output_type": "execute_result"
    }
   ],
   "source": [
    "mystring[1:2:3]"
   ]
  },
  {
   "cell_type": "code",
   "execution_count": 6,
   "id": "ac36df37",
   "metadata": {},
   "outputs": [
    {
     "data": {
      "text/plain": [
       "'d'"
      ]
     },
     "execution_count": 6,
     "metadata": {},
     "output_type": "execute_result"
    }
   ],
   "source": [
    "mystring[-1]"
   ]
  },
  {
   "cell_type": "code",
   "execution_count": 7,
   "id": "af8750c0",
   "metadata": {},
   "outputs": [
    {
     "data": {
      "text/plain": [
       "'Hlowrd'"
      ]
     },
     "execution_count": 7,
     "metadata": {},
     "output_type": "execute_result"
    }
   ],
   "source": [
    "mystring[::2]"
   ]
  },
  {
   "cell_type": "code",
   "execution_count": 8,
   "id": "a1ed21aa",
   "metadata": {},
   "outputs": [
    {
     "data": {
      "text/plain": [
       "'r'"
      ]
     },
     "execution_count": 8,
     "metadata": {},
     "output_type": "execute_result"
    }
   ],
   "source": [
    "mystring[8]"
   ]
  },
  {
   "cell_type": "code",
   "execution_count": 9,
   "id": "22d4aa42",
   "metadata": {},
   "outputs": [
    {
     "data": {
      "text/plain": [
       "'l'"
      ]
     },
     "execution_count": 9,
     "metadata": {},
     "output_type": "execute_result"
    }
   ],
   "source": [
    "mystring[9]"
   ]
  },
  {
   "cell_type": "code",
   "execution_count": 10,
   "id": "715754c0",
   "metadata": {},
   "outputs": [
    {
     "data": {
      "text/plain": [
       "'l'"
      ]
     },
     "execution_count": 10,
     "metadata": {},
     "output_type": "execute_result"
    }
   ],
   "source": [
    "mystring[-2]"
   ]
  },
  {
   "cell_type": "code",
   "execution_count": 11,
   "id": "1cd24a03",
   "metadata": {},
   "outputs": [],
   "source": [
    "# index position [0] always grabs the first letter of a string\n",
    "# index position [-1] always grabs the last letter of a string"
   ]
  },
  {
   "cell_type": "code",
   "execution_count": 12,
   "id": "5388efe8",
   "metadata": {},
   "outputs": [],
   "source": [
    "# indexing grabs a character from a string\n",
    "# slicing grabs a subsection from a string"
   ]
  },
  {
   "cell_type": "code",
   "execution_count": 13,
   "id": "df9d1547",
   "metadata": {},
   "outputs": [
    {
     "data": {
      "text/plain": [
       "'Hello world'"
      ]
     },
     "execution_count": 13,
     "metadata": {},
     "output_type": "execute_result"
    }
   ],
   "source": [
    "mystring"
   ]
  },
  {
   "cell_type": "code",
   "execution_count": 14,
   "id": "19eebdfa",
   "metadata": {},
   "outputs": [],
   "source": [
    "mystring = \"abcdefghijk\""
   ]
  },
  {
   "cell_type": "code",
   "execution_count": 15,
   "id": "ee241991",
   "metadata": {},
   "outputs": [
    {
     "data": {
      "text/plain": [
       "'cdefghijk'"
      ]
     },
     "execution_count": 15,
     "metadata": {},
     "output_type": "execute_result"
    }
   ],
   "source": [
    "# Grab a subset of the string that starts in one index position and continues to the end of the string\n",
    "mystring[2:]"
   ]
  },
  {
   "cell_type": "code",
   "execution_count": 16,
   "id": "151c045a",
   "metadata": {},
   "outputs": [
    {
     "data": {
      "text/plain": [
       "'cdefghijk'"
      ]
     },
     "execution_count": 16,
     "metadata": {},
     "output_type": "execute_result"
    }
   ],
   "source": [
    "mystring[2::]"
   ]
  },
  {
   "cell_type": "code",
   "execution_count": 17,
   "id": "8ac3b594",
   "metadata": {},
   "outputs": [
    {
     "data": {
      "text/plain": [
       "'abc'"
      ]
     },
     "execution_count": 17,
     "metadata": {},
     "output_type": "execute_result"
    }
   ],
   "source": [
    "# Grab everything upto a specific index\n",
    "mystring[:3]"
   ]
  },
  {
   "cell_type": "code",
   "execution_count": 19,
   "id": "1e87653f",
   "metadata": {},
   "outputs": [],
   "source": [
    "# REMEMBER: although 'd' is in index position 3, it is not included\n",
    "# When using a stop index [:3] it includes everything UP TO BUT NOT INCLUDING what's in that position"
   ]
  },
  {
   "cell_type": "code",
   "execution_count": 20,
   "id": "4d8872c7",
   "metadata": {},
   "outputs": [
    {
     "data": {
      "text/plain": [
       "'abcdefghijk'"
      ]
     },
     "execution_count": 20,
     "metadata": {},
     "output_type": "execute_result"
    }
   ],
   "source": [
    "mystring"
   ]
  },
  {
   "cell_type": "code",
   "execution_count": 21,
   "id": "695f2337",
   "metadata": {},
   "outputs": [
    {
     "data": {
      "text/plain": [
       "'efg'"
      ]
     },
     "execution_count": 21,
     "metadata": {},
     "output_type": "execute_result"
    }
   ],
   "source": [
    "# Grab 'def' from the string\n",
    "mystring[4:7]"
   ]
  },
  {
   "cell_type": "code",
   "execution_count": 22,
   "id": "a52d4167",
   "metadata": {},
   "outputs": [
    {
     "data": {
      "text/plain": [
       "'def'"
      ]
     },
     "execution_count": 22,
     "metadata": {},
     "output_type": "execute_result"
    }
   ],
   "source": [
    "mystring[3:6]"
   ]
  },
  {
   "cell_type": "code",
   "execution_count": 23,
   "id": "59775623",
   "metadata": {},
   "outputs": [
    {
     "data": {
      "text/plain": [
       "'bc'"
      ]
     },
     "execution_count": 23,
     "metadata": {},
     "output_type": "execute_result"
    }
   ],
   "source": [
    "# Grab 'bc' from the string\n",
    "mystring[1:3]"
   ]
  },
  {
   "cell_type": "code",
   "execution_count": 24,
   "id": "1f9c5b7c",
   "metadata": {},
   "outputs": [
    {
     "ename": "NameError",
     "evalue": "name 'mystrign' is not defined",
     "output_type": "error",
     "traceback": [
      "\u001b[0;31m---------------------------------------------------------------------------\u001b[0m",
      "\u001b[0;31mNameError\u001b[0m                                 Traceback (most recent call last)",
      "\u001b[0;32m/tmp/ipykernel_3290/4207184230.py\u001b[0m in \u001b[0;36m<module>\u001b[0;34m\u001b[0m\n\u001b[0;32m----> 1\u001b[0;31m \u001b[0mmystrign\u001b[0m\u001b[0;34m\u001b[0m\u001b[0;34m\u001b[0m\u001b[0m\n\u001b[0m",
      "\u001b[0;31mNameError\u001b[0m: name 'mystrign' is not defined"
     ]
    }
   ],
   "source": [
    "mystrign"
   ]
  },
  {
   "cell_type": "code",
   "execution_count": 25,
   "id": "e67e9a36",
   "metadata": {},
   "outputs": [
    {
     "data": {
      "text/plain": [
       "'abcdefghijk'"
      ]
     },
     "execution_count": 25,
     "metadata": {},
     "output_type": "execute_result"
    }
   ],
   "source": [
    "mystring"
   ]
  },
  {
   "cell_type": "code",
   "execution_count": 26,
   "id": "6fa1fd44",
   "metadata": {},
   "outputs": [
    {
     "data": {
      "text/plain": [
       "'abcdefghijk'"
      ]
     },
     "execution_count": 26,
     "metadata": {},
     "output_type": "execute_result"
    }
   ],
   "source": [
    "# Use string notation to grab everything in the string\n",
    "mystring[::]"
   ]
  },
  {
   "cell_type": "code",
   "execution_count": 27,
   "id": "6f189863",
   "metadata": {},
   "outputs": [],
   "source": [
    "# The third parameter is the step size"
   ]
  },
  {
   "cell_type": "code",
   "execution_count": 28,
   "id": "2081e947",
   "metadata": {},
   "outputs": [
    {
     "data": {
      "text/plain": [
       "'acegik'"
      ]
     },
     "execution_count": 28,
     "metadata": {},
     "output_type": "execute_result"
    }
   ],
   "source": [
    "mystring[::2]"
   ]
  },
  {
   "cell_type": "code",
   "execution_count": 29,
   "id": "222c81db",
   "metadata": {},
   "outputs": [],
   "source": [
    "binary_string = \"0101010101010101\""
   ]
  },
  {
   "cell_type": "code",
   "execution_count": 30,
   "id": "1dee96a6",
   "metadata": {},
   "outputs": [
    {
     "data": {
      "text/plain": [
       "'11111111'"
      ]
     },
     "execution_count": 30,
     "metadata": {},
     "output_type": "execute_result"
    }
   ],
   "source": [
    "binary_string[1::2]"
   ]
  },
  {
   "cell_type": "code",
   "execution_count": 31,
   "id": "575b6478",
   "metadata": {},
   "outputs": [
    {
     "data": {
      "text/plain": [
       "'00000000'"
      ]
     },
     "execution_count": 31,
     "metadata": {},
     "output_type": "execute_result"
    }
   ],
   "source": [
    "binary_string[::2]"
   ]
  },
  {
   "cell_type": "code",
   "execution_count": 32,
   "id": "c96f6f40",
   "metadata": {},
   "outputs": [
    {
     "data": {
      "text/plain": [
       "'kjihgfedcba'"
      ]
     },
     "execution_count": 32,
     "metadata": {},
     "output_type": "execute_result"
    }
   ],
   "source": [
    "mystring[::-1]"
   ]
  },
  {
   "cell_type": "code",
   "execution_count": null,
   "id": "cc4bb3ec",
   "metadata": {},
   "outputs": [],
   "source": []
  }
 ],
 "metadata": {
  "kernelspec": {
   "display_name": "Python 3 (ipykernel)",
   "language": "python",
   "name": "python3"
  },
  "language_info": {
   "codemirror_mode": {
    "name": "ipython",
    "version": 3
   },
   "file_extension": ".py",
   "mimetype": "text/x-python",
   "name": "python",
   "nbconvert_exporter": "python",
   "pygments_lexer": "ipython3",
   "version": "3.9.13"
  }
 },
 "nbformat": 4,
 "nbformat_minor": 5
}
