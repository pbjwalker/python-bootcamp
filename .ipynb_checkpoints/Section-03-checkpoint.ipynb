{
 "cells": [
  {
   "cell_type": "markdown",
   "id": "78cd36b8",
   "metadata": {},
   "source": [
    "Section 3"
   ]
  },
  {
   "cell_type": "markdown",
   "id": "a95411a6",
   "metadata": {},
   "source": [
    "11 - Introduction to Python Data Types"
   ]
  },
  {
   "cell_type": "code",
   "execution_count": 18,
   "id": "f850c77d",
   "metadata": {},
   "outputs": [],
   "source": [
    "# int      Integers   whole numbers:   3  300  200\n",
    "# float    Floating Point   numbers with a decimal point:   2.3   4.6   100.0\n",
    "# str      Strings   ordered sequence of characters:   \"hello\"   'sammy'   \"2000\"   \"foreign letters\"\n",
    "# list     Lists   ordered sequence of objects:   [10,\"hello\",200.3]\n",
    "# dict     Dictionaries   unordered Key:Value pairs:   {\"mykey\":\"value\",\"name\":\"Frankie\"}\n",
    "# tup      Tuples   ordered immutable sequence of objects:   (10,\"hello\",2.3)\n",
    "# set      Sets   unordered collection of unique objects:   {\"a\",\"b\"}\n",
    "# bool     Booleans   logical value indicating True or False:   True   False"
   ]
  },
  {
   "cell_type": "markdown",
   "id": "d988b24c",
   "metadata": {},
   "source": [
    "12 - Python Numbers"
   ]
  },
  {
   "cell_type": "code",
   "execution_count": 19,
   "id": "08b09f0f",
   "metadata": {},
   "outputs": [],
   "source": [
    "# There are 2 main number types in Python\n",
    "# Integers - which are whole numbers\n",
    "# Floating Point numbers - which are numbers with a decimal point"
   ]
  },
  {
   "cell_type": "code",
   "execution_count": 20,
   "id": "841ea5d0",
   "metadata": {},
   "outputs": [
    {
     "data": {
      "text/plain": [
       "3"
      ]
     },
     "execution_count": 20,
     "metadata": {},
     "output_type": "execute_result"
    }
   ],
   "source": [
    "2+1"
   ]
  },
  {
   "cell_type": "code",
   "execution_count": 21,
   "id": "30cf2e70",
   "metadata": {},
   "outputs": [
    {
     "data": {
      "text/plain": [
       "1"
      ]
     },
     "execution_count": 21,
     "metadata": {},
     "output_type": "execute_result"
    }
   ],
   "source": [
    "2-1"
   ]
  },
  {
   "cell_type": "code",
   "execution_count": 22,
   "id": "8f4e6e6a",
   "metadata": {},
   "outputs": [
    {
     "data": {
      "text/plain": [
       "4"
      ]
     },
     "execution_count": 22,
     "metadata": {},
     "output_type": "execute_result"
    }
   ],
   "source": [
    "2*2"
   ]
  },
  {
   "cell_type": "code",
   "execution_count": 23,
   "id": "47f67536",
   "metadata": {},
   "outputs": [
    {
     "data": {
      "text/plain": [
       "1.5"
      ]
     },
     "execution_count": 23,
     "metadata": {},
     "output_type": "execute_result"
    }
   ],
   "source": [
    "3/2"
   ]
  },
  {
   "cell_type": "markdown",
   "id": "4eb27acd",
   "metadata": {},
   "source": [
    "The Modulo or \"Mod\" operator"
   ]
  },
  {
   "cell_type": "code",
   "execution_count": 24,
   "id": "a1a12e82",
   "metadata": {},
   "outputs": [
    {
     "data": {
      "text/plain": [
       "1.75"
      ]
     },
     "execution_count": 24,
     "metadata": {},
     "output_type": "execute_result"
    }
   ],
   "source": [
    "7/4"
   ]
  },
  {
   "cell_type": "code",
   "execution_count": 25,
   "id": "dc72f3eb",
   "metadata": {},
   "outputs": [
    {
     "data": {
      "text/plain": [
       "1.75"
      ]
     },
     "execution_count": 25,
     "metadata": {},
     "output_type": "execute_result"
    }
   ],
   "source": [
    "7 / 4"
   ]
  },
  {
   "cell_type": "code",
   "execution_count": 26,
   "id": "c415f7ca",
   "metadata": {},
   "outputs": [],
   "source": [
    "# 7 goes into 4 with a remainder of 3"
   ]
  },
  {
   "cell_type": "code",
   "execution_count": 27,
   "id": "21ee74d1",
   "metadata": {},
   "outputs": [],
   "source": [
    "# What if you only wanted to know the remainder?"
   ]
  },
  {
   "cell_type": "code",
   "execution_count": 29,
   "id": "03acd8bf",
   "metadata": {},
   "outputs": [
    {
     "data": {
      "text/plain": [
       "3"
      ]
     },
     "execution_count": 29,
     "metadata": {},
     "output_type": "execute_result"
    }
   ],
   "source": [
    "# 7 mod 4 returns a remainder of 3\n",
    "7 % 4"
   ]
  },
  {
   "cell_type": "code",
   "execution_count": 30,
   "id": "ece45b1e",
   "metadata": {},
   "outputs": [
    {
     "data": {
      "text/plain": [
       "0"
      ]
     },
     "execution_count": 30,
     "metadata": {},
     "output_type": "execute_result"
    }
   ],
   "source": [
    "#50 mod 5 returns a remainder of 0\n",
    "50%5"
   ]
  },
  {
   "cell_type": "code",
   "execution_count": 31,
   "id": "eb8190db",
   "metadata": {},
   "outputs": [],
   "source": [
    "# when mod returns a remainder of 0 it means one number was evenly divisible by another number\n",
    "# helpful when checking if a number is odd or even"
   ]
  },
  {
   "cell_type": "code",
   "execution_count": 33,
   "id": "02c0ed54",
   "metadata": {},
   "outputs": [
    {
     "data": {
      "text/plain": [
       "1"
      ]
     },
     "execution_count": 33,
     "metadata": {},
     "output_type": "execute_result"
    }
   ],
   "source": [
    "# if 23 mod 2 results in anything other than zero, it's an odd number\n",
    "23 % 2"
   ]
  },
  {
   "cell_type": "markdown",
   "id": "9152f6df",
   "metadata": {},
   "source": [
    "Exponents or Powers"
   ]
  },
  {
   "cell_type": "code",
   "execution_count": 34,
   "id": "320a40c1",
   "metadata": {},
   "outputs": [
    {
     "data": {
      "text/plain": [
       "8"
      ]
     },
     "execution_count": 34,
     "metadata": {},
     "output_type": "execute_result"
    }
   ],
   "source": [
    "# 2 to the power of 3\n",
    "2**3"
   ]
  },
  {
   "cell_type": "code",
   "execution_count": 35,
   "id": "e485fdba",
   "metadata": {},
   "outputs": [
    {
     "data": {
      "text/plain": [
       "8"
      ]
     },
     "execution_count": 35,
     "metadata": {},
     "output_type": "execute_result"
    }
   ],
   "source": [
    "2 ** 3"
   ]
  },
  {
   "cell_type": "code",
   "execution_count": 36,
   "id": "5d971f24",
   "metadata": {},
   "outputs": [
    {
     "data": {
      "text/plain": [
       "0"
      ]
     },
     "execution_count": 36,
     "metadata": {},
     "output_type": "execute_result"
    }
   ],
   "source": [
    "2 ** 3 % 2"
   ]
  },
  {
   "cell_type": "code",
   "execution_count": 37,
   "id": "7c8af40a",
   "metadata": {},
   "outputs": [],
   "source": [
    "# order of operations"
   ]
  },
  {
   "cell_type": "code",
   "execution_count": 38,
   "id": "f9ef6c07",
   "metadata": {},
   "outputs": [
    {
     "data": {
      "text/plain": [
       "105"
      ]
     },
     "execution_count": 38,
     "metadata": {},
     "output_type": "execute_result"
    }
   ],
   "source": [
    "2 + 10 * 10 + 3"
   ]
  },
  {
   "cell_type": "code",
   "execution_count": 39,
   "id": "015bc169",
   "metadata": {},
   "outputs": [
    {
     "data": {
      "text/plain": [
       "156"
      ]
     },
     "execution_count": 39,
     "metadata": {},
     "output_type": "execute_result"
    }
   ],
   "source": [
    "(2 + 10) * (10 + 3)"
   ]
  },
  {
   "cell_type": "code",
   "execution_count": 40,
   "id": "a66fba5c",
   "metadata": {},
   "outputs": [],
   "source": [
    "# What's the difference between floating point and an integer?\n",
    "# An integer has no decimals in it, and a floating point number can display digits past the decimal point."
   ]
  },
  {
   "cell_type": "code",
   "execution_count": 41,
   "id": "e59884bf",
   "metadata": {},
   "outputs": [
    {
     "data": {
      "text/plain": [
       "5.551115123125783e-17"
      ]
     },
     "execution_count": 41,
     "metadata": {},
     "output_type": "execute_result"
    }
   ],
   "source": [
    "0.1+0.2-0.3\n",
    "# Why doesn't 0.1 + 0.2 - 0.3 equal 0.0?\n",
    "# This has to do with floating point accuracy and the computer's abilities to represent numbers in memory.\n",
    "# For a full breakdown, check out:\n",
    "# https://docs.python.org/2/tutorial/floatingpoint.html"
   ]
  },
  {
   "cell_type": "code",
   "execution_count": 42,
   "id": "b212df1b",
   "metadata": {},
   "outputs": [
    {
     "data": {
      "text/plain": [
       "5.551115123125783e-17"
      ]
     },
     "execution_count": 42,
     "metadata": {},
     "output_type": "execute_result"
    }
   ],
   "source": [
    "0.1 + 0.2 - 0.3"
   ]
  },
  {
   "cell_type": "code",
   "execution_count": 43,
   "id": "970291ed",
   "metadata": {},
   "outputs": [
    {
     "data": {
      "text/plain": [
       "0.20000000000000004"
      ]
     },
     "execution_count": 43,
     "metadata": {},
     "output_type": "execute_result"
    }
   ],
   "source": [
    "0.1 + 0.2 - 0.1"
   ]
  },
  {
   "cell_type": "code",
   "execution_count": null,
   "id": "7fe99441",
   "metadata": {},
   "outputs": [],
   "source": []
  }
 ],
 "metadata": {
  "kernelspec": {
   "display_name": "Python 3 (ipykernel)",
   "language": "python",
   "name": "python3"
  },
  "language_info": {
   "codemirror_mode": {
    "name": "ipython",
    "version": 3
   },
   "file_extension": ".py",
   "mimetype": "text/x-python",
   "name": "python",
   "nbconvert_exporter": "python",
   "pygments_lexer": "ipython3",
   "version": "3.9.13"
  }
 },
 "nbformat": 4,
 "nbformat_minor": 5
}
