{
 "cells": [
  {
   "cell_type": "code",
   "execution_count": 1,
   "id": "e8ce9766",
   "metadata": {},
   "outputs": [],
   "source": [
    "# Section 8: Object Oriented Programming"
   ]
  },
  {
   "cell_type": "markdown",
   "id": "0e2ad62b",
   "metadata": {},
   "source": [
    "* 68 - Objected Oriented Programming - Introduction"
   ]
  },
  {
   "cell_type": "code",
   "execution_count": 4,
   "id": "740fe560",
   "metadata": {},
   "outputs": [],
   "source": [
    "# Syntax\n",
    "# camel-casing is reserved for classes\n",
    "# the first letter of each word in the name is capitalized\n",
    "# so don't name variables or functions like that\n",
    "\n",
    "\n",
    "# class NameOfClass():\n",
    "\n",
    "#   def __init__(self,param1,param2):\n",
    "#      self.param1 = param1\n",
    "#      self.param2 = param2\n",
    "\n",
    "#   def some_method(self):\n",
    "#      # perform some action\n",
    "#      print(self.param1)"
   ]
  },
  {
   "cell_type": "code",
   "execution_count": 5,
   "id": "0612e882",
   "metadata": {},
   "outputs": [],
   "source": [
    "# the statement...\n",
    "#   def __init__(self,param1,param2):\n",
    "\n",
    "# looks like a function, but it's really a method\n",
    "# It's called a method when it inside of an object or inside of a class call"
   ]
  },
  {
   "cell_type": "code",
   "execution_count": 6,
   "id": "2e4e6454",
   "metadata": {},
   "outputs": [],
   "source": [
    "# the statement...\n",
    "#   def __init__(self,param1,param2):\n",
    "\n",
    "# creates an instance of an object"
   ]
  },
  {
   "cell_type": "code",
   "execution_count": 7,
   "id": "8010611a",
   "metadata": {},
   "outputs": [],
   "source": [
    "# param1 and param2 are attributes of the object\n",
    "# so referring to self.param2\n",
    "# refers to the attribute param2 connectecd to this instance of the class"
   ]
  },
  {
   "cell_type": "code",
   "execution_count": 10,
   "id": "2d706711",
   "metadata": {},
   "outputs": [],
   "source": [
    "# the statement...\n",
    "#   def some_method(self):\n",
    "#      print(self.param1)\n",
    "\n",
    "# lets Python know it's not just a function,\n",
    "# but a method connected to a class\n",
    "# We connect these methods to the class so that when you call self.param1\n",
    "# it knows that you're referring to the attribute param1\n",
    "# that's connected to the class itself."
   ]
  },
  {
   "cell_type": "markdown",
   "id": "b6158edd",
   "metadata": {},
   "source": [
    "* 69 - Object Oriented Programming - Attributes and Class Keyword"
   ]
  },
  {
   "cell_type": "code",
   "execution_count": null,
   "id": "ba8b8c74",
   "metadata": {},
   "outputs": [],
   "source": []
  }
 ],
 "metadata": {
  "kernelspec": {
   "display_name": "Python 3 (ipykernel)",
   "language": "python",
   "name": "python3"
  },
  "language_info": {
   "codemirror_mode": {
    "name": "ipython",
    "version": 3
   },
   "file_extension": ".py",
   "mimetype": "text/x-python",
   "name": "python",
   "nbconvert_exporter": "python",
   "pygments_lexer": "ipython3",
   "version": "3.9.13"
  }
 },
 "nbformat": 4,
 "nbformat_minor": 5
}
