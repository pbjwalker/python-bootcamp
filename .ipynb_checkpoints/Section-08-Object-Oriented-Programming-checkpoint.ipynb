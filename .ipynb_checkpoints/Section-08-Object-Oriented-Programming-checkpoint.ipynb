{
 "cells": [
  {
   "cell_type": "code",
   "execution_count": 1,
   "id": "88b8eb09",
   "metadata": {},
   "outputs": [],
   "source": [
    "# Section 8: Object Oriented Programming"
   ]
  },
  {
   "cell_type": "markdown",
   "id": "3473146e",
   "metadata": {},
   "source": [
    "* 68 - Objected Oriented Programming - Introduction"
   ]
  },
  {
   "cell_type": "code",
   "execution_count": 4,
   "id": "38305ba6",
   "metadata": {},
   "outputs": [],
   "source": [
    "# Syntax\n",
    "# camel-casing is reserved for classes\n",
    "# the first letter of each word in the name is capitalized\n",
    "# so don't name variables or functions like that\n",
    "\n",
    "\n",
    "# class NameOfClass():\n",
    "\n",
    "#   def __init__(self,param1,param2):\n",
    "#      self.param1 = param1\n",
    "#      self.param2 = param2\n",
    "\n",
    "#   def some_method(self):\n",
    "#      # perform some action\n",
    "#      print(self.param1)"
   ]
  },
  {
   "cell_type": "code",
   "execution_count": 5,
   "id": "df8f2af3",
   "metadata": {},
   "outputs": [],
   "source": [
    "# the statement...\n",
    "#   def __init__(self,param1,param2):\n",
    "\n",
    "# looks like a function, but it's really a method\n",
    "# It's called a method when it inside of an object or inside of a class call"
   ]
  },
  {
   "cell_type": "code",
   "execution_count": 6,
   "id": "60ff50f5",
   "metadata": {},
   "outputs": [],
   "source": [
    "# the statement...\n",
    "#   def __init__(self,param1,param2):\n",
    "\n",
    "# creates an instance of an object"
   ]
  },
  {
   "cell_type": "code",
   "execution_count": 7,
   "id": "5e4f6f9a",
   "metadata": {},
   "outputs": [],
   "source": [
    "# param1 and param2 are attributes of the object\n",
    "# so referring to self.param2\n",
    "# refers to the attribute param2 connectecd to this instance of the class"
   ]
  },
  {
   "cell_type": "code",
   "execution_count": 10,
   "id": "784ae136",
   "metadata": {},
   "outputs": [],
   "source": [
    "# the statement...\n",
    "#   def some_method(self):\n",
    "#      print(self.param1)\n",
    "\n",
    "# lets Python know it's not just a function,\n",
    "# but a method connected to a class\n",
    "# We connect these methods to the class so that when you call self.param1\n",
    "# it knows that you're referring to the attribute param1\n",
    "# that's connected to the class itself."
   ]
  },
  {
   "cell_type": "markdown",
   "id": "98f83737",
   "metadata": {},
   "source": [
    "* 69 - Object Oriented Programming - Attributes and Class Keyword"
   ]
  },
  {
   "cell_type": "code",
   "execution_count": 11,
   "id": "23dc5432",
   "metadata": {},
   "outputs": [],
   "source": [
    "mylist = [1,2,3]\n",
    "myset = set()\n",
    "# Remember the list of attributes that come up when you hit tab after typing this and hitting tab...\n"
   ]
  },
  {
   "cell_type": "code",
   "execution_count": 12,
   "id": "edb65464",
   "metadata": {},
   "outputs": [],
   "source": [
    "# myset.\n",
    "# or \n",
    "# mylist."
   ]
  },
  {
   "cell_type": "code",
   "execution_count": 14,
   "id": "993833dd",
   "metadata": {},
   "outputs": [],
   "source": [
    "# mylist and myset are objects\n",
    "# You're just creating and defining your own objects with OOP\n",
    "# You'll use the class keyword to create a user-defined object"
   ]
  },
  {
   "cell_type": "code",
   "execution_count": 15,
   "id": "453583a3",
   "metadata": {},
   "outputs": [
    {
     "data": {
      "text/plain": [
       "set"
      ]
     },
     "execution_count": 15,
     "metadata": {},
     "output_type": "execute_result"
    }
   ],
   "source": [
    "type(myset)"
   ]
  },
  {
   "cell_type": "code",
   "execution_count": 16,
   "id": "3326a269",
   "metadata": {},
   "outputs": [
    {
     "data": {
      "text/plain": [
       "list"
      ]
     },
     "execution_count": 16,
     "metadata": {},
     "output_type": "execute_result"
    }
   ],
   "source": [
    "type(mylist)"
   ]
  },
  {
   "cell_type": "code",
   "execution_count": 20,
   "id": "2bb62629",
   "metadata": {},
   "outputs": [],
   "source": [
    "# class\n",
    "# The class is basically a blueprint that defines a future object"
   ]
  },
  {
   "cell_type": "code",
   "execution_count": 21,
   "id": "a595567d",
   "metadata": {},
   "outputs": [],
   "source": [
    "# From classes you can construct an instance of the object"
   ]
  },
  {
   "cell_type": "code",
   "execution_count": 22,
   "id": "06a03a73",
   "metadata": {},
   "outputs": [],
   "source": [
    "# instance\n",
    "# An instance is a particular object created from a parituclar class"
   ]
  },
  {
   "cell_type": "code",
   "execution_count": 26,
   "id": "c72fea61",
   "metadata": {},
   "outputs": [],
   "source": [
    "# creating my first very simple,basic class\n",
    "\n",
    "class Sample():\n",
    "    pass"
   ]
  },
  {
   "cell_type": "code",
   "execution_count": 27,
   "id": "055bb870",
   "metadata": {},
   "outputs": [
    {
     "data": {
      "text/plain": [
       "__main__.Sample"
      ]
     },
     "execution_count": 27,
     "metadata": {},
     "output_type": "execute_result"
    }
   ],
   "source": [
    "type(Sample())"
   ]
  },
  {
   "cell_type": "code",
   "execution_count": 28,
   "id": "195d4547",
   "metadata": {},
   "outputs": [],
   "source": [
    "# now I create an instance of my first class\n",
    "\n",
    "my_sample = Sample()"
   ]
  },
  {
   "cell_type": "code",
   "execution_count": 29,
   "id": "c10a0188",
   "metadata": {},
   "outputs": [
    {
     "data": {
      "text/plain": [
       "__main__.Sample"
      ]
     },
     "execution_count": 29,
     "metadata": {},
     "output_type": "execute_result"
    }
   ],
   "source": [
    "type(my_sample)"
   ]
  },
  {
   "cell_type": "code",
   "execution_count": 30,
   "id": "9b7f6027",
   "metadata": {},
   "outputs": [],
   "source": [
    "# This is the simplest class possible, but it's not useful because it has no attributes."
   ]
  },
  {
   "cell_type": "code",
   "execution_count": 43,
   "id": "c5cbcfa6",
   "metadata": {},
   "outputs": [],
   "source": [
    "# The def keyword doesn't define a function inside a class,\n",
    "# it defines a method.  Inside a class it's a method, not a function.\n",
    "\n",
    "# __init__ is the constructor of the class\n",
    "\n",
    "# You have to start off with the self keyword.\n",
    "# (Actually, you can use any variable name, but use self by convention in Python)\n",
    "# That connects the method to the class.\n",
    "# After the self keyword, you add the attributes."
   ]
  },
  {
   "cell_type": "code",
   "execution_count": 34,
   "id": "4fccd2cf",
   "metadata": {},
   "outputs": [],
   "source": [
    "class Dog():\n",
    "    \n",
    "    def __init__(self,breed):\n",
    "        \n",
    "        self.breed = breed"
   ]
  },
  {
   "cell_type": "code",
   "execution_count": 35,
   "id": "95417c13",
   "metadata": {},
   "outputs": [
    {
     "ename": "TypeError",
     "evalue": "__init__() missing 1 required positional argument: 'breed'",
     "output_type": "error",
     "traceback": [
      "\u001b[0;31m---------------------------------------------------------------------------\u001b[0m",
      "\u001b[0;31mTypeError\u001b[0m                                 Traceback (most recent call last)",
      "\u001b[0;32m/tmp/ipykernel_284136/3226080032.py\u001b[0m in \u001b[0;36m<module>\u001b[0;34m\u001b[0m\n\u001b[0;32m----> 1\u001b[0;31m \u001b[0mmy_dog\u001b[0m \u001b[0;34m=\u001b[0m \u001b[0mDog\u001b[0m\u001b[0;34m(\u001b[0m\u001b[0;34m)\u001b[0m\u001b[0;34m\u001b[0m\u001b[0;34m\u001b[0m\u001b[0m\n\u001b[0m",
      "\u001b[0;31mTypeError\u001b[0m: __init__() missing 1 required positional argument: 'breed'"
     ]
    }
   ],
   "source": [
    "my_dog = Dog()"
   ]
  },
  {
   "cell_type": "code",
   "execution_count": 36,
   "id": "9974ac10",
   "metadata": {},
   "outputs": [],
   "source": [
    "# You get an error because it's expecting the \"breed\" parameter"
   ]
  },
  {
   "cell_type": "code",
   "execution_count": 37,
   "id": "3c2d22bf",
   "metadata": {},
   "outputs": [],
   "source": [
    "my_dog = Dog(breed='Lab')"
   ]
  },
  {
   "cell_type": "code",
   "execution_count": 38,
   "id": "640bafeb",
   "metadata": {},
   "outputs": [
    {
     "data": {
      "text/plain": [
       "__main__.Dog"
      ]
     },
     "execution_count": 38,
     "metadata": {},
     "output_type": "execute_result"
    }
   ],
   "source": [
    "type(my_dog)"
   ]
  },
  {
   "cell_type": "code",
   "execution_count": 39,
   "id": "2b3d0be4",
   "metadata": {},
   "outputs": [
    {
     "data": {
      "text/plain": [
       "'Lab'"
      ]
     },
     "execution_count": 39,
     "metadata": {},
     "output_type": "execute_result"
    }
   ],
   "source": [
    "my_dog.breed"
   ]
  },
  {
   "cell_type": "code",
   "execution_count": 41,
   "id": "cf949fcc",
   "metadata": {},
   "outputs": [],
   "source": [
    "# Now when you type:\n",
    "# my_dog.\n",
    "# and hit <tab>, it will autocomplete \"breed\" at the end\n",
    "# If there were more attributes, it give you a drop-down list"
   ]
  },
  {
   "cell_type": "code",
   "execution_count": 44,
   "id": "cac80986",
   "metadata": {},
   "outputs": [],
   "source": [
    "class Dog():\n",
    "    \n",
    "    def __init__(self,mybreed):\n",
    "        \n",
    "        self.breed = mybreed"
   ]
  },
  {
   "cell_type": "code",
   "execution_count": 46,
   "id": "2a2f7bcf",
   "metadata": {},
   "outputs": [],
   "source": [
    "# By convention, all 3 would be the same, so they would all be breed or mybreed\n",
    "# This is just for learning purposes.\n",
    "# type my_dog = ()\n",
    "# and when the cursor is inside the parentheses, hit <shift>+<tab>\n",
    "\n",
    "# In this case, you take in a variable called \"mybreed\"\n",
    "# then you assign that variable's value to the attribute self.breed\n",
    "\n",
    "# The convention is:\n",
    "# We take in the argument\n",
    "# Assign it using self.attribute_name\n"
   ]
  },
  {
   "cell_type": "code",
   "execution_count": 47,
   "id": "c3ece9b2",
   "metadata": {},
   "outputs": [],
   "source": [
    "my_dog = Dog(mybreed='Huskie')"
   ]
  },
  {
   "cell_type": "code",
   "execution_count": 48,
   "id": "a6977136",
   "metadata": {},
   "outputs": [
    {
     "data": {
      "text/plain": [
       "__main__.Dog"
      ]
     },
     "execution_count": 48,
     "metadata": {},
     "output_type": "execute_result"
    }
   ],
   "source": [
    "type(my_dog)"
   ]
  },
  {
   "cell_type": "code",
   "execution_count": 50,
   "id": "d2a7de0d",
   "metadata": {},
   "outputs": [
    {
     "data": {
      "text/plain": [
       "'Huskie'"
      ]
     },
     "execution_count": 50,
     "metadata": {},
     "output_type": "execute_result"
    }
   ],
   "source": [
    "# If you hit <tab> after my_dog.  you don't get \"mybreed\"\n",
    "# \"mybreed\" was just a parameter name we chose\n",
    "# The method assigned the value of that parameter to self.breed\n",
    "# It can get confusing, so that's why all three names are the same by convention\n",
    "my_dog.breed"
   ]
  },
  {
   "cell_type": "code",
   "execution_count": 51,
   "id": "45725830",
   "metadata": {},
   "outputs": [],
   "source": [
    "# So you pass in the parameter and it gets assigned to the object as an attribute"
   ]
  },
  {
   "cell_type": "code",
   "execution_count": 52,
   "id": "53e19a6b",
   "metadata": {},
   "outputs": [],
   "source": [
    "class Dog():\n",
    "    \n",
    "    def __init__(self,breed):\n",
    "        \n",
    "        self.breed = breed"
   ]
  },
  {
   "cell_type": "code",
   "execution_count": 53,
   "id": "574b0f8b",
   "metadata": {},
   "outputs": [],
   "source": [
    "my_dog = Dog(breed=\"Newfie\")"
   ]
  },
  {
   "cell_type": "code",
   "execution_count": 54,
   "id": "c64848d9",
   "metadata": {},
   "outputs": [
    {
     "data": {
      "text/plain": [
       "<__main__.Dog at 0x7f908d1a67f0>"
      ]
     },
     "execution_count": 54,
     "metadata": {},
     "output_type": "execute_result"
    }
   ],
   "source": [
    "my_dog"
   ]
  },
  {
   "cell_type": "code",
   "execution_count": 55,
   "id": "8e294334",
   "metadata": {},
   "outputs": [
    {
     "data": {
      "text/plain": [
       "__main__.Dog"
      ]
     },
     "execution_count": 55,
     "metadata": {},
     "output_type": "execute_result"
    }
   ],
   "source": [
    "type(my_dog)"
   ]
  },
  {
   "cell_type": "code",
   "execution_count": 56,
   "id": "27ef64de",
   "metadata": {},
   "outputs": [
    {
     "data": {
      "text/plain": [
       "'Newfie'"
      ]
     },
     "execution_count": 56,
     "metadata": {},
     "output_type": "execute_result"
    }
   ],
   "source": [
    "my_dog.breed"
   ]
  },
  {
   "cell_type": "code",
   "execution_count": 57,
   "id": "54f1d176",
   "metadata": {},
   "outputs": [],
   "source": [
    "class Dog():\n",
    "    \n",
    "    def __init__(self,breed,name,spots):\n",
    "        \n",
    "        self.breed = breed\n",
    "        self.name = name\n",
    "        \n",
    "        # Expect boolean True/False\n",
    "        self.spots = spots"
   ]
  },
  {
   "cell_type": "code",
   "execution_count": null,
   "id": "a4230716",
   "metadata": {},
   "outputs": [],
   "source": [
    "my_dog = Dog(breed='lab',name='Sammy',spots=False)"
   ]
  },
  {
   "cell_type": "code",
   "execution_count": 59,
   "id": "cddcda04",
   "metadata": {},
   "outputs": [
    {
     "data": {
      "text/plain": [
       "False"
      ]
     },
     "execution_count": 59,
     "metadata": {},
     "output_type": "execute_result"
    }
   ],
   "source": [
    "my_dog.spots"
   ]
  },
  {
   "cell_type": "code",
   "execution_count": 60,
   "id": "d454b6c6",
   "metadata": {},
   "outputs": [
    {
     "data": {
      "text/plain": [
       "'Sammy'"
      ]
     },
     "execution_count": 60,
     "metadata": {},
     "output_type": "execute_result"
    }
   ],
   "source": [
    "my_dog.name"
   ]
  },
  {
   "cell_type": "markdown",
   "id": "c18fecac",
   "metadata": {},
   "source": [
    "* 70 - Object Oriented Programming - Class Object Attributes and Methods"
   ]
  },
  {
   "cell_type": "code",
   "execution_count": null,
   "id": "4ab1c5d0",
   "metadata": {},
   "outputs": [],
   "source": []
  }
 ],
 "metadata": {
  "kernelspec": {
   "display_name": "Python 3 (ipykernel)",
   "language": "python",
   "name": "python3"
  },
  "language_info": {
   "codemirror_mode": {
    "name": "ipython",
    "version": 3
   },
   "file_extension": ".py",
   "mimetype": "text/x-python",
   "name": "python",
   "nbconvert_exporter": "python",
   "pygments_lexer": "ipython3",
   "version": "3.9.13"
  }
 },
 "nbformat": 4,
 "nbformat_minor": 5
}
