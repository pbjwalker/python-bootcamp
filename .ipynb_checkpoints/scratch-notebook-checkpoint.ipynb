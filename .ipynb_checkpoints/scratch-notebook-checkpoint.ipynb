{
 "cells": [
  {
   "cell_type": "code",
   "execution_count": null,
   "id": "fcf90ae8",
   "metadata": {},
   "outputs": [],
   "source": [
    "st = 'Print only the words that start with s in this sentence'"
   ]
  },
  {
   "cell_type": "code",
   "execution_count": null,
   "id": "455b6b55",
   "metadata": {},
   "outputs": [],
   "source": [
    "st"
   ]
  },
  {
   "cell_type": "code",
   "execution_count": null,
   "id": "705c6338",
   "metadata": {},
   "outputs": [],
   "source": [
    "# Use for, .split(), and if to create a Statement that will print out words that start with 's'"
   ]
  },
  {
   "cell_type": "code",
   "execution_count": null,
   "id": "0fa3d0bc",
   "metadata": {},
   "outputs": [],
   "source": [
    "for word in st.split():\n",
    "    if word[0] == 's':\n",
    "        print(word)"
   ]
  },
  {
   "cell_type": "code",
   "execution_count": null,
   "id": "3ab329ff",
   "metadata": {},
   "outputs": [],
   "source": [
    "# Use range() to print all the even numbers from 0 to 10."
   ]
  },
  {
   "cell_type": "code",
   "execution_count": null,
   "id": "22471f76",
   "metadata": {},
   "outputs": [],
   "source": [
    "print(range(0,11))"
   ]
  },
  {
   "cell_type": "code",
   "execution_count": null,
   "id": "9e1553e6",
   "metadata": {},
   "outputs": [],
   "source": [
    "range(0,11)"
   ]
  },
  {
   "cell_type": "code",
   "execution_count": null,
   "id": "b7bd89a3",
   "metadata": {},
   "outputs": [],
   "source": [
    "evens = range(0,11)"
   ]
  },
  {
   "cell_type": "code",
   "execution_count": null,
   "id": "fe26c0ee",
   "metadata": {},
   "outputs": [],
   "source": [
    "evens"
   ]
  },
  {
   "cell_type": "code",
   "execution_count": null,
   "id": "68556d80",
   "metadata": {},
   "outputs": [],
   "source": [
    "evens = []"
   ]
  },
  {
   "cell_type": "code",
   "execution_count": null,
   "id": "a6b44f56",
   "metadata": {},
   "outputs": [],
   "source": [
    "evens = [num for num in range(0,11) if num%2==0]"
   ]
  },
  {
   "cell_type": "code",
   "execution_count": null,
   "id": "f5359f82",
   "metadata": {},
   "outputs": [],
   "source": [
    "evens"
   ]
  },
  {
   "cell_type": "code",
   "execution_count": null,
   "id": "697a426e",
   "metadata": {},
   "outputs": [],
   "source": [
    "st = 'Print every word in this sentence that has an even number of letters'"
   ]
  },
  {
   "cell_type": "code",
   "execution_count": null,
   "id": "ba7bd672",
   "metadata": {},
   "outputs": [],
   "source": [
    "for word in st.split():\n",
    "    if len(word)%2==0:\n",
    "        print(word)"
   ]
  },
  {
   "cell_type": "markdown",
   "id": "a17e1819",
   "metadata": {},
   "source": [
    "\n",
    "\n",
    "Write a program that prints the integers from 1 to 100. But for multiples of three print \"Fizz\" instead of the number, and for the multiples of five print \"Buzz\". For numbers which are multiples of both three and five print \"FizzBuzz\".\n"
   ]
  },
  {
   "cell_type": "code",
   "execution_count": null,
   "id": "66d3b0b2",
   "metadata": {},
   "outputs": [],
   "source": [
    "for num in range(1,101):\n",
    "    if num%3==0:\n",
    "        if num%5==0:\n",
    "            print(\"FizzBuzz\")\n",
    "        else:\n",
    "            print(\"Fizz\")\n",
    "    elif num%5==0:\n",
    "        print(\"Buzz\")\n",
    "    else:\n",
    "        print(num)"
   ]
  },
  {
   "cell_type": "code",
   "execution_count": null,
   "id": "a851402a",
   "metadata": {},
   "outputs": [],
   "source": [
    "st = 'Create a list of the first letters of every word in this string'"
   ]
  },
  {
   "cell_type": "code",
   "execution_count": null,
   "id": "267b0900",
   "metadata": {},
   "outputs": [],
   "source": [
    "newlist = []"
   ]
  },
  {
   "cell_type": "code",
   "execution_count": null,
   "id": "c3308b60",
   "metadata": {},
   "outputs": [],
   "source": [
    "newlist = [letter[0] for letter in st.split()]"
   ]
  },
  {
   "cell_type": "code",
   "execution_count": null,
   "id": "5068ffc2",
   "metadata": {},
   "outputs": [],
   "source": [
    "newlist"
   ]
  },
  {
   "cell_type": "code",
   "execution_count": null,
   "id": "cee4f459",
   "metadata": {},
   "outputs": [],
   "source": [
    "################################################"
   ]
  },
  {
   "cell_type": "code",
   "execution_count": null,
   "id": "8edc8ab8",
   "metadata": {},
   "outputs": [],
   "source": [
    "def cigar_party(cigars, is_weekend):\n",
    "    if is_weekend and cigars>=40:\n",
    "        return True\n",
    "    elif cigars>=40 and cigars<=60:\n",
    "        return True\n",
    "    else:\n",
    "        return False\n"
   ]
  },
  {
   "cell_type": "code",
   "execution_count": null,
   "id": "4087b1d1",
   "metadata": {},
   "outputs": [],
   "source": [
    "cigar_party(70, True)"
   ]
  },
  {
   "cell_type": "code",
   "execution_count": null,
   "id": "718829b8",
   "metadata": {},
   "outputs": [],
   "source": [
    "################################################"
   ]
  },
  {
   "cell_type": "code",
   "execution_count": null,
   "id": "6418bd91",
   "metadata": {},
   "outputs": [],
   "source": [
    "def animal_crackers(text):\n",
    "    words = text.split()\n",
    "    return (words[0][0] == words[1][0])\n",
    "    "
   ]
  },
  {
   "cell_type": "code",
   "execution_count": null,
   "id": "67d41420",
   "metadata": {},
   "outputs": [],
   "source": [
    "animal_crackers('hello harry')"
   ]
  },
  {
   "cell_type": "code",
   "execution_count": null,
   "id": "7f827d41",
   "metadata": {},
   "outputs": [],
   "source": [
    "type(animal_crackers('hello world'))"
   ]
  },
  {
   "cell_type": "code",
   "execution_count": null,
   "id": "7fad6c8b",
   "metadata": {},
   "outputs": [],
   "source": [
    "def makes_twenty(*args):\n",
    "    return (sum(args))"
   ]
  },
  {
   "cell_type": "code",
   "execution_count": null,
   "id": "b155427c",
   "metadata": {},
   "outputs": [],
   "source": [
    "makes_twenty(1,2,3,4,5)"
   ]
  },
  {
   "cell_type": "code",
   "execution_count": null,
   "id": "0bb743cf",
   "metadata": {},
   "outputs": [],
   "source": [
    "def makes_twenty(*args):\n",
    "    return ((sum(args)==20) or (20 in args))"
   ]
  },
  {
   "cell_type": "code",
   "execution_count": null,
   "id": "dab6d509",
   "metadata": {},
   "outputs": [],
   "source": [
    "makes_twenty(10,10)"
   ]
  },
  {
   "cell_type": "code",
   "execution_count": null,
   "id": "4a39a765",
   "metadata": {},
   "outputs": [],
   "source": [
    "def old_macdonald(name):\n",
    "    new_name = ''\n",
    "    new_name = new_name + name[0].upper()\n",
    "    new_name = new_name + name[1:3]\n",
    "    new_name = new_name + name[3].upper()\n",
    "    new_name = new_name + name[4:]\n",
    "    return new_name"
   ]
  },
  {
   "cell_type": "code",
   "execution_count": null,
   "id": "c72618df",
   "metadata": {},
   "outputs": [],
   "source": [
    "old_macdonald('macdonald')"
   ]
  },
  {
   "cell_type": "code",
   "execution_count": null,
   "id": "a8c5dc1e",
   "metadata": {},
   "outputs": [],
   "source": [
    "def master_yoda(text):\n",
    "    old_phrase = text.split()\n",
    "    new_phrase = \" \".join([old_phrase[2],old_phrase[1],old_phrase[0]])\n",
    "    return new_phrase"
   ]
  },
  {
   "cell_type": "code",
   "execution_count": null,
   "id": "643c4e35",
   "metadata": {},
   "outputs": [],
   "source": [
    "master_yoda('I am home')"
   ]
  },
  {
   "cell_type": "code",
   "execution_count": null,
   "id": "67423445",
   "metadata": {},
   "outputs": [],
   "source": [
    "def master_yoda(text):\n",
    "    phrase = text.split()\n",
    "    return phrase[1] + phrase[0]"
   ]
  },
  {
   "cell_type": "code",
   "execution_count": null,
   "id": "5736d298",
   "metadata": {},
   "outputs": [],
   "source": [
    "master_yoda('hello there')"
   ]
  },
  {
   "cell_type": "code",
   "execution_count": null,
   "id": "fab54678",
   "metadata": {},
   "outputs": [],
   "source": [
    "def almost_there(n):\n",
    "    return (((n>=90) or (n>=190)) and ((n<=110) or n<=210))"
   ]
  },
  {
   "cell_type": "code",
   "execution_count": null,
   "id": "50a1b2e5",
   "metadata": {},
   "outputs": [],
   "source": [
    "almost_there(104)"
   ]
  },
  {
   "cell_type": "code",
   "execution_count": null,
   "id": "8578c2d5",
   "metadata": {},
   "outputs": [],
   "source": [
    "def has_33(nums):\n",
    "    check1 = False\n",
    "    check2 = False # if this is true, there are 2 3's next to each other\n",
    "    \n",
    "    for num in nums:\n",
    "        if check1 == True:\n",
    "            if num == 3:\n",
    "                check2 = True\n",
    "            else:\n",
    "                check1 = False\n",
    "        elif num == 3:\n",
    "            check1 = True\n",
    "        \n",
    "    return check2"
   ]
  },
  {
   "cell_type": "code",
   "execution_count": null,
   "id": "5b06ea88",
   "metadata": {},
   "outputs": [],
   "source": [
    "has_33([3, 3, 3])"
   ]
  },
  {
   "cell_type": "code",
   "execution_count": null,
   "id": "39156eab",
   "metadata": {},
   "outputs": [],
   "source": [
    "def paper_doll(text):\n",
    "    new_string = ''\n",
    "    for letter in text:\n",
    "        new_string = new_string + (letter * 3)\n",
    "    return new_string"
   ]
  },
  {
   "cell_type": "code",
   "execution_count": null,
   "id": "950c9298",
   "metadata": {},
   "outputs": [],
   "source": [
    "paper_doll('hello')"
   ]
  },
  {
   "cell_type": "code",
   "execution_count": null,
   "id": "654dfbf3",
   "metadata": {},
   "outputs": [],
   "source": [
    "def blackjack(a,b,c):\n",
    "    if sum([a,b,c]) <=21:\n",
    "        return sum([a,b,c])\n",
    "    else:\n",
    "        if 11 in ([a,b,c]):\n",
    "            return sum([a,b,c]) - 11\n",
    "        else:\n",
    "            return 'BUST'"
   ]
  },
  {
   "cell_type": "code",
   "execution_count": null,
   "id": "2f9026d1",
   "metadata": {},
   "outputs": [],
   "source": [
    "blackjack(7,11,7)"
   ]
  },
  {
   "cell_type": "code",
   "execution_count": 35,
   "id": "7268a6f8",
   "metadata": {},
   "outputs": [],
   "source": [
    "def summer_69(arr):\n",
    "    new_list = []\n",
    "    count = True\n",
    "    \n",
    "    for num in arr:\n",
    "        if num == 6:\n",
    "            count = False\n",
    "        elif num == 9:\n",
    "            count = True\n",
    "        else:\n",
    "            pass\n",
    "        \n",
    "        if count and num != 9:\n",
    "            new_list.append(num)\n",
    "        else:\n",
    "            pass\n",
    "    return sum(new_list)"
   ]
  },
  {
   "cell_type": "code",
   "execution_count": 36,
   "id": "fd834bc3",
   "metadata": {},
   "outputs": [
    {
     "data": {
      "text/plain": [
       "9"
      ]
     },
     "execution_count": 36,
     "metadata": {},
     "output_type": "execute_result"
    }
   ],
   "source": [
    "summer_69([4, 5, 6, 7, 8, 9])"
   ]
  },
  {
   "cell_type": "code",
   "execution_count": 15,
   "id": "b71fe4d8",
   "metadata": {},
   "outputs": [
    {
     "data": {
      "text/plain": [
       "9"
      ]
     },
     "execution_count": 15,
     "metadata": {},
     "output_type": "execute_result"
    }
   ],
   "source": [
    "summer_69([1, 3, 5])"
   ]
  },
  {
   "cell_type": "code",
   "execution_count": 39,
   "id": "758614ae",
   "metadata": {},
   "outputs": [],
   "source": [
    "def spy_game(nums):\n",
    "    index = 0\n",
    "    \n",
    "    for num in nums:\n",
    "        if index+2 <= len(nums):\n",
    "            if nums[index] == 0:\n",
    "                if nums[index+1] == 0:\n",
    "                    if nums[index+2] == 7:\n",
    "                        return True\n",
    "                    else:\n",
    "                        pass\n",
    "                else:\n",
    "                    pass\n",
    "            else:\n",
    "                index += 1\n",
    "        else:\n",
    "            pass\n",
    "    return False"
   ]
  },
  {
   "cell_type": "code",
   "execution_count": 40,
   "id": "51b8c79e",
   "metadata": {},
   "outputs": [
    {
     "data": {
      "text/plain": [
       "True"
      ]
     },
     "execution_count": 40,
     "metadata": {},
     "output_type": "execute_result"
    }
   ],
   "source": [
    "spy_game([1,2,4,0,0,7,5])"
   ]
  },
  {
   "cell_type": "code",
   "execution_count": 86,
   "id": "722751cb",
   "metadata": {},
   "outputs": [],
   "source": [
    "def count_primes(num):\n",
    "    is_prime = False\n",
    "    number_of_primes = 1 # start at 1 to include 2 in the count of prime numbers\n",
    "    print(2)\n",
    "    \n",
    "    for x in range(2,num):\n",
    "        for y in range(2,x):\n",
    "            if x%y==0:\n",
    "                is_prime = False\n",
    "                break\n",
    "            else:\n",
    "                is_prime = True\n",
    "        if is_prime:\n",
    "            number_of_primes += 1\n",
    "            print(x)\n",
    "            \n",
    "    print(number_of_primes)\n",
    "        \n",
    "            "
   ]
  },
  {
   "cell_type": "code",
   "execution_count": 87,
   "id": "d4363dca",
   "metadata": {},
   "outputs": [
    {
     "name": "stdout",
     "output_type": "stream",
     "text": [
      "2\n",
      "3\n",
      "5\n",
      "7\n",
      "11\n",
      "13\n",
      "6\n"
     ]
    }
   ],
   "source": [
    "count_primes(15)"
   ]
  },
  {
   "cell_type": "code",
   "execution_count": 166,
   "id": "c4d1af5b",
   "metadata": {},
   "outputs": [],
   "source": [
    "letters = {'a':'\\n  * \\n*   * \\n*****\\n*   *\\n','b':'\\n***\\n*  *\\n***\\n*  *\\n****\\n','c':'\\n ***\\n*   *\\n*\\n*   *\\n ***\\n','d':'\\n****\\n*   *\\n*   *\\n****\\n','e':'\\n****\\n*\\n**\\n*\\n****\\n'}"
   ]
  },
  {
   "cell_type": "code",
   "execution_count": 167,
   "id": "de2d4ffe",
   "metadata": {},
   "outputs": [
    {
     "name": "stdout",
     "output_type": "stream",
     "text": [
      "\n",
      "  * \n",
      "*   * \n",
      "*****\n",
      "*   *\n",
      " \n",
      "***\n",
      "*  *\n",
      "***\n",
      "*  *\n",
      "****\n",
      " \n",
      " ***\n",
      "*   *\n",
      "*\n",
      "*   *\n",
      " ***\n",
      " \n",
      "****\n",
      "*   *\n",
      "*   *\n",
      "****\n",
      " \n",
      "****\n",
      "*\n",
      "**\n",
      "*\n",
      "****\n",
      "\n"
     ]
    }
   ],
   "source": [
    "print(letters['a'],letters['b'],letters['c'],letters['d'],letters['e'])"
   ]
  },
  {
   "cell_type": "code",
   "execution_count": 158,
   "id": "2a15b733",
   "metadata": {},
   "outputs": [],
   "source": [
    "mydict = {'fruit':'banana','veggie':'kale','nut':'acorn'}"
   ]
  },
  {
   "cell_type": "code",
   "execution_count": 95,
   "id": "e647db89",
   "metadata": {},
   "outputs": [
    {
     "data": {
      "text/plain": [
       "'banana'"
      ]
     },
     "execution_count": 95,
     "metadata": {},
     "output_type": "execute_result"
    }
   ],
   "source": [
    "mydict['fruit']"
   ]
  },
  {
   "cell_type": "code",
   "execution_count": 1,
   "id": "65c8b6e0",
   "metadata": {},
   "outputs": [],
   "source": [
    "# function to solve for volume of a sphere\n",
    "#  (4/3) * (3.14) * (radius ** 3)\n",
    "# vol(2)\n",
    "def vol(rad):\n",
    "    return (4/3) * (3.14) * (rad ** 3)"
   ]
  },
  {
   "cell_type": "code",
   "execution_count": 2,
   "id": "fcd20210",
   "metadata": {},
   "outputs": [
    {
     "data": {
      "text/plain": [
       "33.49333333333333"
      ]
     },
     "execution_count": 2,
     "metadata": {},
     "output_type": "execute_result"
    }
   ],
   "source": [
    "vol(2)"
   ]
  },
  {
   "cell_type": "code",
   "execution_count": 8,
   "id": "96a5f475",
   "metadata": {},
   "outputs": [],
   "source": [
    "def ran_check(num,low,high):\n",
    "    if num in range(low,high):\n",
    "        print(f'{num} is in the range between {low} and {high}')\n",
    "    else:\n",
    "        print(f'{num} is not in the range between {low} and {high}')"
   ]
  },
  {
   "cell_type": "code",
   "execution_count": 11,
   "id": "7e95d096",
   "metadata": {},
   "outputs": [
    {
     "name": "stdout",
     "output_type": "stream",
     "text": [
      "8 is not in the range between 2 and 7\n"
     ]
    }
   ],
   "source": [
    "ran_check(8,2,7)"
   ]
  },
  {
   "cell_type": "code",
   "execution_count": 6,
   "id": "575c0784",
   "metadata": {},
   "outputs": [],
   "source": [
    "def ran_bool(num,low,high):\n",
    "    return num in range(low,high)"
   ]
  },
  {
   "cell_type": "code",
   "execution_count": 7,
   "id": "1b2be73a",
   "metadata": {},
   "outputs": [
    {
     "data": {
      "text/plain": [
       "True"
      ]
     },
     "execution_count": 7,
     "metadata": {},
     "output_type": "execute_result"
    }
   ],
   "source": [
    "ran_bool(3,1,10)"
   ]
  },
  {
   "cell_type": "code",
   "execution_count": 18,
   "id": "14aa7ce8",
   "metadata": {},
   "outputs": [],
   "source": [
    "def up_low(s):\n",
    "    up = 0\n",
    "    low = 0\n",
    "    \n",
    "    for letter in s:\n",
    "        if letter == letter.upper():\n",
    "            up += 1\n",
    "        else:\n",
    "            low += 1\n",
    "    \n",
    "    print('Original string: '+s)\n",
    "    print(f'Number of upper case letters: {up}')\n",
    "    print(f'Number of lower case letters: {low}')"
   ]
  },
  {
   "cell_type": "code",
   "execution_count": 19,
   "id": "427de116",
   "metadata": {},
   "outputs": [],
   "source": [
    "s = 'Hello Mr. Rogers, how are you this fine Tuesday?'"
   ]
  },
  {
   "cell_type": "code",
   "execution_count": 20,
   "id": "a3cd3857",
   "metadata": {},
   "outputs": [
    {
     "name": "stdout",
     "output_type": "stream",
     "text": [
      "Original string: Hello Mr. Rogers, how are you this fine Tuesday?\n",
      "Number of upper case letters: 15\n",
      "Number of lower case letters: 33\n"
     ]
    }
   ],
   "source": [
    "up_low(s)"
   ]
  },
  {
   "cell_type": "code",
   "execution_count": 55,
   "id": "9c01713f",
   "metadata": {},
   "outputs": [],
   "source": [
    "def unique_list(lst):\n",
    "\n",
    "    myset = set((lst))\n",
    "    new_lst = list(myset)\n",
    "    \n",
    "    return new_lst"
   ]
  },
  {
   "cell_type": "code",
   "execution_count": 56,
   "id": "18873330",
   "metadata": {},
   "outputs": [
    {
     "data": {
      "text/plain": [
       "['e', 'l', 'h', 'o']"
      ]
     },
     "execution_count": 56,
     "metadata": {},
     "output_type": "execute_result"
    }
   ],
   "source": [
    "unique_list('hello')"
   ]
  },
  {
   "cell_type": "code",
   "execution_count": 27,
   "id": "7f10a8dd",
   "metadata": {},
   "outputs": [
    {
     "name": "stdout",
     "output_type": "stream",
     "text": [
      "Help on class set in module builtins:\n",
      "\n",
      "class set(object)\n",
      " |  set() -> new empty set object\n",
      " |  set(iterable) -> new set object\n",
      " |  \n",
      " |  Build an unordered collection of unique elements.\n",
      " |  \n",
      " |  Methods defined here:\n",
      " |  \n",
      " |  __and__(self, value, /)\n",
      " |      Return self&value.\n",
      " |  \n",
      " |  __contains__(...)\n",
      " |      x.__contains__(y) <==> y in x.\n",
      " |  \n",
      " |  __eq__(self, value, /)\n",
      " |      Return self==value.\n",
      " |  \n",
      " |  __ge__(self, value, /)\n",
      " |      Return self>=value.\n",
      " |  \n",
      " |  __getattribute__(self, name, /)\n",
      " |      Return getattr(self, name).\n",
      " |  \n",
      " |  __gt__(self, value, /)\n",
      " |      Return self>value.\n",
      " |  \n",
      " |  __iand__(self, value, /)\n",
      " |      Return self&=value.\n",
      " |  \n",
      " |  __init__(self, /, *args, **kwargs)\n",
      " |      Initialize self.  See help(type(self)) for accurate signature.\n",
      " |  \n",
      " |  __ior__(self, value, /)\n",
      " |      Return self|=value.\n",
      " |  \n",
      " |  __isub__(self, value, /)\n",
      " |      Return self-=value.\n",
      " |  \n",
      " |  __iter__(self, /)\n",
      " |      Implement iter(self).\n",
      " |  \n",
      " |  __ixor__(self, value, /)\n",
      " |      Return self^=value.\n",
      " |  \n",
      " |  __le__(self, value, /)\n",
      " |      Return self<=value.\n",
      " |  \n",
      " |  __len__(self, /)\n",
      " |      Return len(self).\n",
      " |  \n",
      " |  __lt__(self, value, /)\n",
      " |      Return self<value.\n",
      " |  \n",
      " |  __ne__(self, value, /)\n",
      " |      Return self!=value.\n",
      " |  \n",
      " |  __or__(self, value, /)\n",
      " |      Return self|value.\n",
      " |  \n",
      " |  __rand__(self, value, /)\n",
      " |      Return value&self.\n",
      " |  \n",
      " |  __reduce__(...)\n",
      " |      Return state information for pickling.\n",
      " |  \n",
      " |  __repr__(self, /)\n",
      " |      Return repr(self).\n",
      " |  \n",
      " |  __ror__(self, value, /)\n",
      " |      Return value|self.\n",
      " |  \n",
      " |  __rsub__(self, value, /)\n",
      " |      Return value-self.\n",
      " |  \n",
      " |  __rxor__(self, value, /)\n",
      " |      Return value^self.\n",
      " |  \n",
      " |  __sizeof__(...)\n",
      " |      S.__sizeof__() -> size of S in memory, in bytes\n",
      " |  \n",
      " |  __sub__(self, value, /)\n",
      " |      Return self-value.\n",
      " |  \n",
      " |  __xor__(self, value, /)\n",
      " |      Return self^value.\n",
      " |  \n",
      " |  add(...)\n",
      " |      Add an element to a set.\n",
      " |      \n",
      " |      This has no effect if the element is already present.\n",
      " |  \n",
      " |  clear(...)\n",
      " |      Remove all elements from this set.\n",
      " |  \n",
      " |  copy(...)\n",
      " |      Return a shallow copy of a set.\n",
      " |  \n",
      " |  difference(...)\n",
      " |      Return the difference of two or more sets as a new set.\n",
      " |      \n",
      " |      (i.e. all elements that are in this set but not the others.)\n",
      " |  \n",
      " |  difference_update(...)\n",
      " |      Remove all elements of another set from this set.\n",
      " |  \n",
      " |  discard(...)\n",
      " |      Remove an element from a set if it is a member.\n",
      " |      \n",
      " |      If the element is not a member, do nothing.\n",
      " |  \n",
      " |  intersection(...)\n",
      " |      Return the intersection of two sets as a new set.\n",
      " |      \n",
      " |      (i.e. all elements that are in both sets.)\n",
      " |  \n",
      " |  intersection_update(...)\n",
      " |      Update a set with the intersection of itself and another.\n",
      " |  \n",
      " |  isdisjoint(...)\n",
      " |      Return True if two sets have a null intersection.\n",
      " |  \n",
      " |  issubset(...)\n",
      " |      Report whether another set contains this set.\n",
      " |  \n",
      " |  issuperset(...)\n",
      " |      Report whether this set contains another set.\n",
      " |  \n",
      " |  pop(...)\n",
      " |      Remove and return an arbitrary set element.\n",
      " |      Raises KeyError if the set is empty.\n",
      " |  \n",
      " |  remove(...)\n",
      " |      Remove an element from a set; it must be a member.\n",
      " |      \n",
      " |      If the element is not a member, raise a KeyError.\n",
      " |  \n",
      " |  symmetric_difference(...)\n",
      " |      Return the symmetric difference of two sets as a new set.\n",
      " |      \n",
      " |      (i.e. all elements that are in exactly one of the sets.)\n",
      " |  \n",
      " |  symmetric_difference_update(...)\n",
      " |      Update a set with the symmetric difference of itself and another.\n",
      " |  \n",
      " |  union(...)\n",
      " |      Return the union of sets as a new set.\n",
      " |      \n",
      " |      (i.e. all elements that are in either set.)\n",
      " |  \n",
      " |  update(...)\n",
      " |      Update a set with the union of itself and others.\n",
      " |  \n",
      " |  ----------------------------------------------------------------------\n",
      " |  Class methods defined here:\n",
      " |  \n",
      " |  __class_getitem__(...) from builtins.type\n",
      " |      See PEP 585\n",
      " |  \n",
      " |  ----------------------------------------------------------------------\n",
      " |  Static methods defined here:\n",
      " |  \n",
      " |  __new__(*args, **kwargs) from builtins.type\n",
      " |      Create and return a new object.  See help(type) for accurate signature.\n",
      " |  \n",
      " |  ----------------------------------------------------------------------\n",
      " |  Data and other attributes defined here:\n",
      " |  \n",
      " |  __hash__ = None\n",
      "\n"
     ]
    }
   ],
   "source": [
    "help(set)"
   ]
  },
  {
   "cell_type": "code",
   "execution_count": 28,
   "id": "11c53154",
   "metadata": {},
   "outputs": [],
   "source": [
    "myset = {1,2,3,4}"
   ]
  },
  {
   "cell_type": "code",
   "execution_count": 29,
   "id": "7d9434aa",
   "metadata": {},
   "outputs": [
    {
     "data": {
      "text/plain": [
       "set"
      ]
     },
     "execution_count": 29,
     "metadata": {},
     "output_type": "execute_result"
    }
   ],
   "source": [
    "type(myset)"
   ]
  },
  {
   "cell_type": "code",
   "execution_count": 31,
   "id": "8b4a5d74",
   "metadata": {},
   "outputs": [],
   "source": [
    "myset.add(5)"
   ]
  },
  {
   "cell_type": "code",
   "execution_count": 32,
   "id": "b364ba34",
   "metadata": {},
   "outputs": [
    {
     "data": {
      "text/plain": [
       "{1, 2, 3, 4, 5}"
      ]
     },
     "execution_count": 32,
     "metadata": {},
     "output_type": "execute_result"
    }
   ],
   "source": [
    "myset"
   ]
  },
  {
   "cell_type": "code",
   "execution_count": 57,
   "id": "95b2c984",
   "metadata": {},
   "outputs": [],
   "source": [
    "def multiply(numbers):  \n",
    "    \n",
    "    result = 1\n",
    "    \n",
    "    for num in numbers:\n",
    "        result *= num\n",
    "    return result"
   ]
  },
  {
   "cell_type": "code",
   "execution_count": 59,
   "id": "18382e41",
   "metadata": {},
   "outputs": [
    {
     "data": {
      "text/plain": [
       "24"
      ]
     },
     "execution_count": 59,
     "metadata": {},
     "output_type": "execute_result"
    }
   ],
   "source": [
    "n = [1,2,3,4]\n",
    "multiply(n)"
   ]
  },
  {
   "cell_type": "code",
   "execution_count": 69,
   "id": "f852e4ee",
   "metadata": {},
   "outputs": [],
   "source": [
    "def palindrome(s):\n",
    "    new_s = s.replace(' ','')\n",
    "    return new_s == new_s[::-1]"
   ]
  },
  {
   "cell_type": "code",
   "execution_count": 71,
   "id": "92b144de",
   "metadata": {},
   "outputs": [
    {
     "data": {
      "text/plain": [
       "True"
      ]
     },
     "execution_count": 71,
     "metadata": {},
     "output_type": "execute_result"
    }
   ],
   "source": [
    "palindrome(\"hel loolleh\")"
   ]
  },
  {
   "cell_type": "code",
   "execution_count": 72,
   "id": "c94ebfb8",
   "metadata": {},
   "outputs": [],
   "source": [
    "import string"
   ]
  },
  {
   "cell_type": "code",
   "execution_count": 73,
   "id": "8360ca1f",
   "metadata": {},
   "outputs": [
    {
     "data": {
      "text/plain": [
       "'abcdefghijklmnopqrstuvwxyz'"
      ]
     },
     "execution_count": 73,
     "metadata": {},
     "output_type": "execute_result"
    }
   ],
   "source": [
    "string.ascii_lowercase"
   ]
  },
  {
   "cell_type": "code",
   "execution_count": 106,
   "id": "044ed764",
   "metadata": {},
   "outputs": [],
   "source": [
    "# Here's the function in long-form to get each piece right\n",
    "\n",
    "import string\n",
    "\n",
    "def ispangram(str1, alphabet=string.ascii_lowercase):\n",
    "    \n",
    "    # remove spaces\n",
    "    no_space = str1.replace(' ','')\n",
    "    \n",
    "    # remove duplicates\n",
    "    temp_set = set((no_space.lower()))\n",
    "    \n",
    "    # order the string as a list\n",
    "    temp_lst = sorted(temp_set)\n",
    "\n",
    "    # cast it to a string again\n",
    "    temp_str = ''.join(temp_lst)\n",
    "    \n",
    "    # compare the two\n",
    "    print('Original: '+temp_str)\n",
    "    print('Compare : '+string.ascii_lowercase)\n",
    "    \n",
    "    # return the result\n",
    "    return temp_str == string.ascii_lowercase"
   ]
  },
  {
   "cell_type": "code",
   "execution_count": 107,
   "id": "55e87b89",
   "metadata": {},
   "outputs": [
    {
     "name": "stdout",
     "output_type": "stream",
     "text": [
      "Original: abcdefghijklmn\n",
      "Compare : abcdefghijklmnopqrstuvwxyz\n"
     ]
    },
    {
     "data": {
      "text/plain": [
       "False"
      ]
     },
     "execution_count": 107,
     "metadata": {},
     "output_type": "execute_result"
    }
   ],
   "source": [
    "h='abcdefghijklmnabcdefghijklmn'\n",
    "ispangram(h)"
   ]
  },
  {
   "cell_type": "code",
   "execution_count": 108,
   "id": "a6402c19",
   "metadata": {},
   "outputs": [
    {
     "name": "stdout",
     "output_type": "stream",
     "text": [
      "Original: abcdefghijklmnopqrstuvwxyz\n",
      "Compare : abcdefghijklmnopqrstuvwxyz\n"
     ]
    },
    {
     "data": {
      "text/plain": [
       "True"
      ]
     },
     "execution_count": 108,
     "metadata": {},
     "output_type": "execute_result"
    }
   ],
   "source": [
    "ispangram(\"The quick brown fox jumps over the lazy dog\")"
   ]
  },
  {
   "cell_type": "code",
   "execution_count": 118,
   "id": "652d219a",
   "metadata": {},
   "outputs": [],
   "source": [
    "# Here's the function in condensed-form\n",
    "\n",
    "import string\n",
    "\n",
    "def ispangram(str1, alphabet=string.ascii_lowercase):\n",
    "    \n",
    "    # Combine all of this for efficiency.\n",
    "    # But is the end still easy to read and follow?\n",
    "    \n",
    "    #no_space = str1.replace(' ','')\n",
    "    #temp_set = set((no_space.lower()))\n",
    "    #temp_lst = sorted(temp_set)\n",
    "    #temp_str = ''.join(temp_lst)    \n",
    "    \n",
    "    \n",
    "    # remove spaces in the string and remove duplicates by making it a set\n",
    "    temp_set = set(((str1.replace(' ','')).lower()))\n",
    "    \n",
    "    # sort it in order as a list and cast it back to a string    \n",
    "    temp_str = ''.join(sorted(temp_set))\n",
    "\n",
    "    # return the result\n",
    "    return temp_str == string.ascii_lowercase"
   ]
  },
  {
   "cell_type": "code",
   "execution_count": 119,
   "id": "325b1492",
   "metadata": {},
   "outputs": [
    {
     "data": {
      "text/plain": [
       "True"
      ]
     },
     "execution_count": 119,
     "metadata": {},
     "output_type": "execute_result"
    }
   ],
   "source": [
    "ispangram(\"The quick brown fox jumps over the lazy dog\")"
   ]
  },
  {
   "cell_type": "code",
   "execution_count": 13,
   "id": "36e85b76",
   "metadata": {},
   "outputs": [],
   "source": [
    "test = ['1','2','3','4']\n",
    "position = 1"
   ]
  },
  {
   "cell_type": "code",
   "execution_count": 26,
   "id": "08da14f4",
   "metadata": {},
   "outputs": [
    {
     "data": {
      "text/plain": [
       "'1'"
      ]
     },
     "execution_count": 26,
     "metadata": {},
     "output_type": "execute_result"
    }
   ],
   "source": [
    "test.pop(test.index(str(position)))"
   ]
  },
  {
   "cell_type": "code",
   "execution_count": 27,
   "id": "da2339c2",
   "metadata": {},
   "outputs": [
    {
     "data": {
      "text/plain": [
       "['4']"
      ]
     },
     "execution_count": 27,
     "metadata": {},
     "output_type": "execute_result"
    }
   ],
   "source": [
    "test"
   ]
  },
  {
   "cell_type": "code",
   "execution_count": null,
   "id": "c094264d",
   "metadata": {},
   "outputs": [],
   "source": []
  },
  {
   "cell_type": "code",
   "execution_count": 28,
   "id": "33613c29",
   "metadata": {},
   "outputs": [],
   "source": [
    "def place_marker(board, valid_moves, marker, position):\n",
    "    \n",
    "    board[position] = marker\n",
    "    \n",
    "    # remove that move from valid_moves\n",
    "    valid_moves.pop(valid_moves.index(str(position)))\n",
    "    \n",
    "    return (board,valid_moves)"
   ]
  },
  {
   "cell_type": "code",
   "execution_count": 29,
   "id": "21939ffb",
   "metadata": {},
   "outputs": [],
   "source": [
    "my_board = ['q','1','2','3','4','5','6','7','8','9']\n",
    "valid_moves = ['1','2','3','4','5','6','7','8','9']\n",
    "\n",
    "# player markers chosen with the function...\n",
    "# player_choice()\n",
    "# Result is returned as a tuple (player1_marker, player2_marker)\n",
    "player1_marker = 'X'\n",
    "player2_marker = 'O'\n",
    "\n",
    "# how to decide which player is currently making a move\n",
    "player = player1_marker\n",
    "\n",
    "# Player picks a valid move to put his marker with the function...\n",
    "# player_input(board):\n",
    "# Takes in the board with the valid moves, returns the chosen move position\n",
    "choice = 5\n",
    "\n",
    "# This data will place an 'X' in position 5"
   ]
  },
  {
   "cell_type": "code",
   "execution_count": 31,
   "id": "5569b1f4",
   "metadata": {},
   "outputs": [],
   "source": [
    "my_board, valid_moves = place_marker(my_board, valid_moves, player, choice)"
   ]
  },
  {
   "cell_type": "code",
   "execution_count": 32,
   "id": "faa15fc8",
   "metadata": {},
   "outputs": [
    {
     "data": {
      "text/plain": [
       "['q', '1', '2', '3', '4', 'X', '6', '7', '8', '9']"
      ]
     },
     "execution_count": 32,
     "metadata": {},
     "output_type": "execute_result"
    }
   ],
   "source": [
    "my_board"
   ]
  },
  {
   "cell_type": "code",
   "execution_count": 33,
   "id": "2375e905",
   "metadata": {},
   "outputs": [
    {
     "data": {
      "text/plain": [
       "['1', '2', '3', '4', '6', '7', '8', '9']"
      ]
     },
     "execution_count": 33,
     "metadata": {},
     "output_type": "execute_result"
    }
   ],
   "source": [
    "valid_moves"
   ]
  },
  {
   "cell_type": "code",
   "execution_count": 34,
   "id": "91d83d96",
   "metadata": {},
   "outputs": [],
   "source": [
    "test = True"
   ]
  },
  {
   "cell_type": "code",
   "execution_count": 35,
   "id": "5dba5e4d",
   "metadata": {},
   "outputs": [
    {
     "ename": "SyntaxError",
     "evalue": "invalid syntax (1064577630.py, line 1)",
     "output_type": "error",
     "traceback": [
      "\u001b[0;36m  File \u001b[0;32m\"/tmp/ipykernel_167296/1064577630.py\"\u001b[0;36m, line \u001b[0;32m1\u001b[0m\n\u001b[0;31m    test+\u001b[0m\n\u001b[0m         ^\u001b[0m\n\u001b[0;31mSyntaxError\u001b[0m\u001b[0;31m:\u001b[0m invalid syntax\n"
     ]
    }
   ],
   "source": [
    "test+"
   ]
  },
  {
   "cell_type": "code",
   "execution_count": 36,
   "id": "e5c01f7d",
   "metadata": {},
   "outputs": [],
   "source": [
    "def change_player(player1_turn):\n",
    "    player1_turn = not player1_turn\n",
    "    return player1_turn"
   ]
  },
  {
   "cell_type": "code",
   "execution_count": 37,
   "id": "b0e96f6b",
   "metadata": {},
   "outputs": [],
   "source": [
    "player1_turn = True"
   ]
  },
  {
   "cell_type": "code",
   "execution_count": 38,
   "id": "f431a548",
   "metadata": {},
   "outputs": [
    {
     "data": {
      "text/plain": [
       "True"
      ]
     },
     "execution_count": 38,
     "metadata": {},
     "output_type": "execute_result"
    }
   ],
   "source": [
    "player1_turn"
   ]
  },
  {
   "cell_type": "code",
   "execution_count": 39,
   "id": "c3149f1a",
   "metadata": {},
   "outputs": [],
   "source": [
    "player1_turn = change_player(player1_turn)"
   ]
  },
  {
   "cell_type": "code",
   "execution_count": 40,
   "id": "f94791a1",
   "metadata": {},
   "outputs": [
    {
     "data": {
      "text/plain": [
       "False"
      ]
     },
     "execution_count": 40,
     "metadata": {},
     "output_type": "execute_result"
    }
   ],
   "source": [
    "player1_turn"
   ]
  },
  {
   "cell_type": "code",
   "execution_count": null,
   "id": "3be5982e",
   "metadata": {},
   "outputs": [],
   "source": [
    "def check_won(board):\n",
    "    \n",
    "    # Check 3 in a row\n",
    "    if (board[7] == board[8] == board[9]) or (board[4] == board[5] == board[6]) or (board[1] == board[2] == board[3]):\n",
    "        won = True\n",
    "        message = \"You won! 3 in a row!\"\n",
    "\n",
    "    # Check 3 in a column\n",
    "    elif (board[7] == board[4] == board[1]) or (board[8] == board[5] == board[2]) or (board[9] == board[9] == board[3]):\n",
    "        won = True\n",
    "        message = \"You won! 3 in a column!\"\n",
    "\n",
    "    # Check 3 diagonally\n",
    "    elif (board[7] == board[5] == board[3]) or (board[8] == board[5] == board[1]):\n",
    "        won = True\n",
    "        message = \"You won! 3 diagonally!\"\n",
    "\n",
    "    else:\n",
    "        won = False\n",
    "        message = \"\"\n",
    "\n",
    "    return (won, message)\n"
   ]
  }
 ],
 "metadata": {
  "kernelspec": {
   "display_name": "Python 3 (ipykernel)",
   "language": "python",
   "name": "python3"
  },
  "language_info": {
   "codemirror_mode": {
    "name": "ipython",
    "version": 3
   },
   "file_extension": ".py",
   "mimetype": "text/x-python",
   "name": "python",
   "nbconvert_exporter": "python",
   "pygments_lexer": "ipython3",
   "version": "3.9.13"
  }
 },
 "nbformat": 4,
 "nbformat_minor": 5
}
