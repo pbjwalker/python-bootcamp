{
 "cells": [
  {
   "cell_type": "code",
   "execution_count": 2,
   "id": "9238cf65",
   "metadata": {},
   "outputs": [],
   "source": [
    "# Section 5: Python Statements"
   ]
  },
  {
   "cell_type": "code",
   "execution_count": 4,
   "id": "8d79fed8",
   "metadata": {},
   "outputs": [],
   "source": [
    "# 34: If, Elif, and Else statements\n",
    "# These keywords can control the flow of logic"
   ]
  },
  {
   "cell_type": "code",
   "execution_count": 5,
   "id": "393195ec",
   "metadata": {},
   "outputs": [],
   "source": [
    "# Python uses whitespace and indentation"
   ]
  },
  {
   "cell_type": "code",
   "execution_count": 6,
   "id": "7d0c6037",
   "metadata": {},
   "outputs": [],
   "source": [
    "# syntax\n",
    "# if some_condition:\n",
    "#     execute some code\n",
    "#   else:\n",
    "#     do something else"
   ]
  },
  {
   "cell_type": "code",
   "execution_count": 7,
   "id": "50b9a1bc",
   "metadata": {},
   "outputs": [],
   "source": [
    "# if some_condition is True, execute some code. Else, do something else."
   ]
  },
  {
   "cell_type": "code",
   "execution_count": 8,
   "id": "479b7785",
   "metadata": {},
   "outputs": [],
   "source": [
    "# more syntax\n",
    "# if some_condition:\n",
    "#     execute some code\n",
    "#   elif some_other_condition:\n",
    "#     do something different\n",
    "#   else:\n",
    "#     do something else"
   ]
  },
  {
   "cell_type": "code",
   "execution_count": 9,
   "id": "865fe6e3",
   "metadata": {},
   "outputs": [],
   "source": [
    "# you can as many elif statements as you want"
   ]
  },
  {
   "cell_type": "code",
   "execution_count": 10,
   "id": "85c6ca29",
   "metadata": {},
   "outputs": [
    {
     "name": "stdout",
     "output_type": "stream",
     "text": [
      "its true\n"
     ]
    }
   ],
   "source": [
    "if True:\n",
    "    print('its true')"
   ]
  },
  {
   "cell_type": "code",
   "execution_count": 11,
   "id": "401726ae",
   "metadata": {},
   "outputs": [
    {
     "name": "stdout",
     "output_type": "stream",
     "text": [
      "It's True\n"
     ]
    }
   ],
   "source": [
    "# here's a better comparison operation\n",
    "\n",
    "if 3>2:\n",
    "    print(\"It's True\")"
   ]
  },
  {
   "cell_type": "code",
   "execution_count": 12,
   "id": "d96f8233",
   "metadata": {},
   "outputs": [
    {
     "name": "stdout",
     "output_type": "stream",
     "text": [
      "FEED ME!\n"
     ]
    }
   ],
   "source": [
    "hungry = True\n",
    "\n",
    "if hungry:\n",
    "    print(\"FEED ME!\")"
   ]
  },
  {
   "cell_type": "code",
   "execution_count": 14,
   "id": "7b0376ec",
   "metadata": {},
   "outputs": [
    {
     "name": "stdout",
     "output_type": "stream",
     "text": [
      "not hungry\n"
     ]
    }
   ],
   "source": [
    "hungry = False\n",
    "\n",
    "if hungry:\n",
    "    print(\"FEED ME!\")\n",
    "else:\n",
    "    print(\"not hungry\")"
   ]
  },
  {
   "cell_type": "code",
   "execution_count": 15,
   "id": "1d096fc6",
   "metadata": {},
   "outputs": [],
   "source": [
    "# notice it's not necessary to make the statement look like this:\n",
    "# if hungry==True:\n",
    "# This is because the variable 'hungry' is already a boolean"
   ]
  },
  {
   "cell_type": "code",
   "execution_count": 16,
   "id": "8f79dd04",
   "metadata": {},
   "outputs": [],
   "source": [
    "# multiple branches"
   ]
  },
  {
   "cell_type": "code",
   "execution_count": 21,
   "id": "bd9d468a",
   "metadata": {},
   "outputs": [
    {
     "name": "stdout",
     "output_type": "stream",
     "text": [
      "I do not know\n"
     ]
    }
   ],
   "source": [
    "loc = 'Game'\n",
    "\n",
    "if loc == 'Auto Shop':\n",
    "    print(\"cars are cool\")\n",
    "elif loc == 'Bank':\n",
    "    print(\"Money is cool\")\n",
    "elif loc == 'Store':\n",
    "    print(\"Welcome to the store\")\n",
    "else:\n",
    "    print('I do not know')"
   ]
  },
  {
   "cell_type": "code",
   "execution_count": 23,
   "id": "996ea5c2",
   "metadata": {},
   "outputs": [
    {
     "name": "stdout",
     "output_type": "stream",
     "text": [
      "What is your name\n"
     ]
    }
   ],
   "source": [
    "name = 'paul'\n",
    "\n",
    "if name == 'Frankie':\n",
    "    print(\"Hello Frankie\")\n",
    "elif name == 'Sammy':\n",
    "    print(\"hello sammy\")\n",
    "else:\n",
    "    print(\"What is your name\")"
   ]
  },
  {
   "cell_type": "code",
   "execution_count": null,
   "id": "31a62bd1",
   "metadata": {},
   "outputs": [],
   "source": []
  }
 ],
 "metadata": {
  "kernelspec": {
   "display_name": "Python 3 (ipykernel)",
   "language": "python",
   "name": "python3"
  },
  "language_info": {
   "codemirror_mode": {
    "name": "ipython",
    "version": 3
   },
   "file_extension": ".py",
   "mimetype": "text/x-python",
   "name": "python",
   "nbconvert_exporter": "python",
   "pygments_lexer": "ipython3",
   "version": "3.9.13"
  }
 },
 "nbformat": 4,
 "nbformat_minor": 5
}
