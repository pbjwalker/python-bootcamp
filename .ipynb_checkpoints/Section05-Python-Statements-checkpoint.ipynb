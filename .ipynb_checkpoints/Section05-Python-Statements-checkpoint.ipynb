{
 "cells": [
  {
   "cell_type": "code",
   "execution_count": 2,
   "id": "1cb2b522",
   "metadata": {},
   "outputs": [],
   "source": [
    "# Section 5: Python Statements"
   ]
  },
  {
   "cell_type": "code",
   "execution_count": 4,
   "id": "ac86d586",
   "metadata": {},
   "outputs": [],
   "source": [
    "# 34: If, Elif, and Else statements\n",
    "# These keywords can control the flow of logic"
   ]
  },
  {
   "cell_type": "code",
   "execution_count": 5,
   "id": "629db0d4",
   "metadata": {},
   "outputs": [],
   "source": [
    "# Python uses whitespace and indentation"
   ]
  },
  {
   "cell_type": "code",
   "execution_count": 6,
   "id": "b6882197",
   "metadata": {},
   "outputs": [],
   "source": [
    "# syntax\n",
    "# if some_condition:\n",
    "#     execute some code\n",
    "#   else:\n",
    "#     do something else"
   ]
  },
  {
   "cell_type": "code",
   "execution_count": 7,
   "id": "44827b6d",
   "metadata": {},
   "outputs": [],
   "source": [
    "# if some_condition is True, execute some code. Else, do something else."
   ]
  },
  {
   "cell_type": "code",
   "execution_count": 8,
   "id": "802c7575",
   "metadata": {},
   "outputs": [],
   "source": [
    "# more syntax\n",
    "# if some_condition:\n",
    "#     execute some code\n",
    "#   elif some_other_condition:\n",
    "#     do something different\n",
    "#   else:\n",
    "#     do something else"
   ]
  },
  {
   "cell_type": "code",
   "execution_count": 9,
   "id": "d1b2a386",
   "metadata": {},
   "outputs": [],
   "source": [
    "# you can as many elif statements as you want"
   ]
  },
  {
   "cell_type": "code",
   "execution_count": 10,
   "id": "e726974e",
   "metadata": {},
   "outputs": [
    {
     "name": "stdout",
     "output_type": "stream",
     "text": [
      "its true\n"
     ]
    }
   ],
   "source": [
    "if True:\n",
    "    print('its true')"
   ]
  },
  {
   "cell_type": "code",
   "execution_count": 11,
   "id": "2a92ad75",
   "metadata": {},
   "outputs": [
    {
     "name": "stdout",
     "output_type": "stream",
     "text": [
      "It's True\n"
     ]
    }
   ],
   "source": [
    "# here's a better comparison operation\n",
    "\n",
    "if 3>2:\n",
    "    print(\"It's True\")"
   ]
  },
  {
   "cell_type": "code",
   "execution_count": 12,
   "id": "95d019df",
   "metadata": {},
   "outputs": [
    {
     "name": "stdout",
     "output_type": "stream",
     "text": [
      "FEED ME!\n"
     ]
    }
   ],
   "source": [
    "hungry = True\n",
    "\n",
    "if hungry:\n",
    "    print(\"FEED ME!\")"
   ]
  },
  {
   "cell_type": "code",
   "execution_count": 14,
   "id": "5e741bad",
   "metadata": {},
   "outputs": [
    {
     "name": "stdout",
     "output_type": "stream",
     "text": [
      "not hungry\n"
     ]
    }
   ],
   "source": [
    "hungry = False\n",
    "\n",
    "if hungry:\n",
    "    print(\"FEED ME!\")\n",
    "else:\n",
    "    print(\"not hungry\")"
   ]
  },
  {
   "cell_type": "code",
   "execution_count": 15,
   "id": "6a759d44",
   "metadata": {},
   "outputs": [],
   "source": [
    "# notice it's not necessary to make the statement look like this:\n",
    "# if hungry==True:\n",
    "# This is because the variable 'hungry' is already a boolean"
   ]
  },
  {
   "cell_type": "code",
   "execution_count": 16,
   "id": "d2933bfa",
   "metadata": {},
   "outputs": [],
   "source": [
    "# multiple branches"
   ]
  },
  {
   "cell_type": "code",
   "execution_count": 21,
   "id": "7b2770c1",
   "metadata": {},
   "outputs": [
    {
     "name": "stdout",
     "output_type": "stream",
     "text": [
      "I do not know\n"
     ]
    }
   ],
   "source": [
    "loc = 'Game'\n",
    "\n",
    "if loc == 'Auto Shop':\n",
    "    print(\"cars are cool\")\n",
    "elif loc == 'Bank':\n",
    "    print(\"Money is cool\")\n",
    "elif loc == 'Store':\n",
    "    print(\"Welcome to the store\")\n",
    "else:\n",
    "    print('I do not know')"
   ]
  },
  {
   "cell_type": "code",
   "execution_count": 23,
   "id": "1544d959",
   "metadata": {},
   "outputs": [
    {
     "name": "stdout",
     "output_type": "stream",
     "text": [
      "What is your name\n"
     ]
    }
   ],
   "source": [
    "name = 'paul'\n",
    "\n",
    "if name == 'Frankie':\n",
    "    print(\"Hello Frankie\")\n",
    "elif name == 'Sammy':\n",
    "    print(\"hello sammy\")\n",
    "else:\n",
    "    print(\"What is your name\")"
   ]
  },
  {
   "cell_type": "code",
   "execution_count": 24,
   "id": "124a8582",
   "metadata": {},
   "outputs": [],
   "source": [
    "######################\n",
    "# For Loops in Python\n",
    "######################"
   ]
  },
  {
   "cell_type": "code",
   "execution_count": 2,
   "id": "6e1efb00",
   "metadata": {},
   "outputs": [],
   "source": [
    "# Use with iterable objects\n",
    "# Means you can iterate over the object\n",
    "# You can perform an action over:\n",
    "# - every character in a string\n",
    "# - every item in a list\n",
    "# - every key in a dictionary"
   ]
  },
  {
   "cell_type": "code",
   "execution_count": 4,
   "id": "0cf92c77",
   "metadata": {},
   "outputs": [],
   "source": [
    "# syntax of a for loop\n",
    "\n",
    "### the iterable in this case is a list\n",
    "# my_iterable = [1,2,3]\n",
    "# for item_name in my_iterable:\n",
    "#    print(item_name)"
   ]
  },
  {
   "cell_type": "code",
   "execution_count": 5,
   "id": "a608350f",
   "metadata": {},
   "outputs": [],
   "source": [
    "# LEVEL UP YOUR SKILLS WITH FOR LOOPS!"
   ]
  },
  {
   "cell_type": "code",
   "execution_count": 6,
   "id": "99f75ab4",
   "metadata": {},
   "outputs": [],
   "source": [
    "mylist = [1,2,3,4,5,6,7,8,9,10]"
   ]
  },
  {
   "cell_type": "code",
   "execution_count": 7,
   "id": "7e74047c",
   "metadata": {},
   "outputs": [
    {
     "name": "stdout",
     "output_type": "stream",
     "text": [
      "1\n",
      "2\n",
      "3\n",
      "4\n",
      "5\n",
      "6\n",
      "7\n",
      "8\n",
      "9\n",
      "10\n"
     ]
    }
   ],
   "source": [
    "# use a variable name to represent the items inside that list\n",
    "for num in mylist:\n",
    "    print(num)"
   ]
  },
  {
   "cell_type": "code",
   "execution_count": 8,
   "id": "544d5e4d",
   "metadata": {},
   "outputs": [
    {
     "name": "stdout",
     "output_type": "stream",
     "text": [
      "Hello\n",
      "Hello\n",
      "Hello\n",
      "Hello\n",
      "Hello\n",
      "Hello\n",
      "Hello\n",
      "Hello\n",
      "Hello\n",
      "Hello\n"
     ]
    }
   ],
   "source": [
    "# This for loop prints the same thing for as many times as there are items in the list\n",
    "\n",
    "for num in mylist:\n",
    "    print('Hello')\n",
    "\n"
   ]
  },
  {
   "cell_type": "code",
   "execution_count": 11,
   "id": "ac4e4c9b",
   "metadata": {},
   "outputs": [
    {
     "name": "stdout",
     "output_type": "stream",
     "text": [
      "2\n",
      "4\n",
      "6\n",
      "8\n",
      "10\n"
     ]
    }
   ],
   "source": [
    "# combine a for loop with control flow\n",
    "# use a for loop to print only the even numbers\n",
    "\n",
    "for num in mylist:\n",
    "    if num % 2 == 0:\n",
    "        print(num)"
   ]
  },
  {
   "cell_type": "code",
   "execution_count": 12,
   "id": "a3f00464",
   "metadata": {},
   "outputs": [],
   "source": [
    "# I already forgot what the 'mod' operator was!\n",
    "# Had to look that up"
   ]
  },
  {
   "cell_type": "code",
   "execution_count": 15,
   "id": "7c928c25",
   "metadata": {},
   "outputs": [
    {
     "name": "stdout",
     "output_type": "stream",
     "text": [
      "Odd Number: 1\n",
      "2\n",
      "Odd Number: 3\n",
      "4\n",
      "Odd Number: 5\n",
      "6\n",
      "Odd Number: 7\n",
      "8\n",
      "Odd Number: 9\n",
      "10\n"
     ]
    }
   ],
   "source": [
    "# separate the odd numbers\n",
    "\n",
    "for num in mylist:\n",
    "    if num % 2 == 0:\n",
    "        print(num)\n",
    "    else:\n",
    "        # remember, this is an f-string literal\n",
    "        print(f'Odd Number: {num}')"
   ]
  },
  {
   "cell_type": "code",
   "execution_count": 17,
   "id": "a82e0dce",
   "metadata": {},
   "outputs": [
    {
     "name": "stdout",
     "output_type": "stream",
     "text": [
      "55\n"
     ]
    }
   ],
   "source": [
    "# add up all the numbers in my_list\n",
    "\n",
    "list_sum = 0\n",
    "\n",
    "for num in mylist:\n",
    "    list_sum = list_sum + num\n",
    "    \n",
    "print(list_sum)"
   ]
  },
  {
   "cell_type": "code",
   "execution_count": 18,
   "id": "da4f45b0",
   "metadata": {},
   "outputs": [
    {
     "name": "stdout",
     "output_type": "stream",
     "text": [
      "1\n",
      "3\n",
      "6\n",
      "10\n",
      "15\n",
      "21\n",
      "28\n",
      "36\n",
      "45\n",
      "55\n"
     ]
    }
   ],
   "source": [
    "# same thing as above, but see what happens when the print statement is indented\n",
    "list_sum = 0\n",
    "\n",
    "for num in mylist:\n",
    "    list_sum = list_sum + num\n",
    "    \n",
    "    print(list_sum)"
   ]
  },
  {
   "cell_type": "code",
   "execution_count": 19,
   "id": "07a657b4",
   "metadata": {},
   "outputs": [],
   "source": [
    "# still adds up all the numbers in mylist\n",
    "# list_sum starts out as 0\n",
    "# 0 isn't printed because it adds the first item in the list before printing"
   ]
  },
  {
   "cell_type": "code",
   "execution_count": 20,
   "id": "bee2ce18",
   "metadata": {},
   "outputs": [
    {
     "name": "stdout",
     "output_type": "stream",
     "text": [
      "H\n",
      "e\n",
      "l\n",
      "l\n",
      "o\n",
      " \n",
      "W\n",
      "o\n",
      "r\n",
      "l\n",
      "d\n"
     ]
    }
   ],
   "source": [
    "mystring = 'Hello World'\n",
    "\n",
    "for letter in mystring:\n",
    "    print(letter)"
   ]
  },
  {
   "cell_type": "code",
   "execution_count": 24,
   "id": "a867da9e",
   "metadata": {},
   "outputs": [
    {
     "name": "stdout",
     "output_type": "stream",
     "text": [
      "H\n",
      "e\n",
      "l\n",
      "l\n",
      "o\n",
      " \n",
      "W\n",
      "o\n",
      "r\n",
      "l\n",
      "d\n"
     ]
    }
   ],
   "source": [
    "# you can also just use the string itself in the for loop\n",
    "for letter in 'Hello World':\n",
    "    print(letter)"
   ]
  },
  {
   "cell_type": "code",
   "execution_count": 26,
   "id": "a21f5e9c",
   "metadata": {},
   "outputs": [
    {
     "name": "stdout",
     "output_type": "stream",
     "text": [
      "Cool!\n",
      "Cool!\n",
      "Cool!\n",
      "Cool!\n",
      "Cool!\n",
      "Cool!\n",
      "Cool!\n",
      "Cool!\n",
      "Cool!\n",
      "Cool!\n",
      "Cool!\n"
     ]
    }
   ],
   "source": [
    "# if you don't intend to use the variable name defined in the for loop you can do this...\n",
    "\n",
    "for _ in 'Hello World':\n",
    "    print('Cool!')"
   ]
  },
  {
   "cell_type": "code",
   "execution_count": 31,
   "id": "a0307965",
   "metadata": {},
   "outputs": [
    {
     "name": "stdout",
     "output_type": "stream",
     "text": [
      "1\n",
      "2\n",
      "3\n"
     ]
    }
   ],
   "source": [
    "# you can also iterate over tuples\n",
    "\n",
    "tup = (1,2,3)\n",
    "\n",
    "for item in tup:\n",
    "    print(item)"
   ]
  },
  {
   "cell_type": "code",
   "execution_count": 32,
   "id": "a96cab32",
   "metadata": {},
   "outputs": [],
   "source": [
    "# try this with a list consisting of tuple pairs\n",
    "\n",
    "mylist = [(1,2),(3,4),(5,6),(7,8)]\n"
   ]
  },
  {
   "cell_type": "code",
   "execution_count": 33,
   "id": "54099066",
   "metadata": {},
   "outputs": [
    {
     "data": {
      "text/plain": [
       "4"
      ]
     },
     "execution_count": 33,
     "metadata": {},
     "output_type": "execute_result"
    }
   ],
   "source": [
    "len(mylist)"
   ]
  },
  {
   "cell_type": "code",
   "execution_count": 34,
   "id": "2d126245",
   "metadata": {},
   "outputs": [
    {
     "name": "stdout",
     "output_type": "stream",
     "text": [
      "(1, 2)\n",
      "(3, 4)\n",
      "(5, 6)\n",
      "(7, 8)\n"
     ]
    }
   ],
   "source": [
    "for item in mylist:\n",
    "    print(item)"
   ]
  },
  {
   "cell_type": "code",
   "execution_count": 35,
   "id": "8ec208b0",
   "metadata": {},
   "outputs": [],
   "source": [
    "# this built-in structure is very common in Python"
   ]
  },
  {
   "cell_type": "code",
   "execution_count": 36,
   "id": "217c66e5",
   "metadata": {},
   "outputs": [
    {
     "name": "stdout",
     "output_type": "stream",
     "text": [
      "1\n",
      "2\n",
      "3\n",
      "4\n",
      "5\n",
      "6\n",
      "7\n",
      "8\n"
     ]
    }
   ],
   "source": [
    "# Playing with those tuple pairs in a for list\n",
    "\n",
    "\n",
    "for (a,b) in mylist:\n",
    "    print(a)\n",
    "    print(b)"
   ]
  },
  {
   "cell_type": "code",
   "execution_count": 39,
   "id": "65593612",
   "metadata": {},
   "outputs": [],
   "source": [
    "# This is called \"Tuple Unpacking\"\n",
    "# You duplicate the structure of the tuples with the for variables (a,b)\n",
    "# then you can unpack them"
   ]
  },
  {
   "cell_type": "code",
   "execution_count": 40,
   "id": "badc550b",
   "metadata": {},
   "outputs": [
    {
     "name": "stdout",
     "output_type": "stream",
     "text": [
      "1\n",
      "3\n",
      "5\n",
      "7\n"
     ]
    }
   ],
   "source": [
    "for (a,b) in mylist:\n",
    "    print(a)"
   ]
  },
  {
   "cell_type": "code",
   "execution_count": 41,
   "id": "e1a79ac8",
   "metadata": {},
   "outputs": [
    {
     "name": "stdout",
     "output_type": "stream",
     "text": [
      "2\n",
      "4\n",
      "6\n",
      "8\n"
     ]
    }
   ],
   "source": [
    "# you don't need the parenthesis around the for variables\n",
    "\n",
    "for a,b in mylist:\n",
    "    print(b)"
   ]
  },
  {
   "cell_type": "code",
   "execution_count": 42,
   "id": "fb59f3ce",
   "metadata": {},
   "outputs": [],
   "source": [
    "mylist = [(1,2,3),(4,5,6),(7,8,9)]"
   ]
  },
  {
   "cell_type": "code",
   "execution_count": 43,
   "id": "0d845766",
   "metadata": {},
   "outputs": [
    {
     "name": "stdout",
     "output_type": "stream",
     "text": [
      "(1, 2, 3)\n",
      "(4, 5, 6)\n",
      "(7, 8, 9)\n"
     ]
    }
   ],
   "source": [
    "for item in mylist:\n",
    "    print(item)"
   ]
  },
  {
   "cell_type": "code",
   "execution_count": 45,
   "id": "b2d8e52a",
   "metadata": {},
   "outputs": [
    {
     "name": "stdout",
     "output_type": "stream",
     "text": [
      "3\n",
      "6\n",
      "9\n"
     ]
    }
   ],
   "source": [
    "# now do tuple unpacking\n",
    "\n",
    "for a,b,c in mylist:\n",
    "    print(c)"
   ]
  },
  {
   "cell_type": "code",
   "execution_count": 46,
   "id": "3fa823ee",
   "metadata": {},
   "outputs": [
    {
     "name": "stdout",
     "output_type": "stream",
     "text": [
      "k1\n",
      "k2\n",
      "k3\n"
     ]
    }
   ],
   "source": [
    "# iterate through a dictionary\n",
    "\n",
    "d = {'k1':1,'k2':2,'k3':3}\n",
    "\n",
    "for item in d:\n",
    "    print(item)"
   ]
  },
  {
   "cell_type": "code",
   "execution_count": 48,
   "id": "ad46a606",
   "metadata": {},
   "outputs": [
    {
     "name": "stdout",
     "output_type": "stream",
     "text": [
      "('k1', 1)\n",
      "('k2', 2)\n",
      "('k3', 3)\n"
     ]
    }
   ],
   "source": [
    "# by default, when you iterate through a dictionary, you only iterate through the keys\n",
    "\n",
    "# if you want to actually iterate through the items themselves, you have to call the items\n",
    "# this returns tuple pairs\n",
    "\n",
    "for item in d.items():\n",
    "    print(item)"
   ]
  },
  {
   "cell_type": "code",
   "execution_count": 50,
   "id": "f4c6f5a4",
   "metadata": {},
   "outputs": [
    {
     "name": "stdout",
     "output_type": "stream",
     "text": [
      "k1 1\n",
      "k2 2\n",
      "k3 3\n"
     ]
    }
   ],
   "source": [
    "# Since it returns tuple pairs, you can use the same tuple unpacking technique mentioned earlier\n",
    "\n",
    "for key,value in d.items():\n",
    "    print(key,value)"
   ]
  },
  {
   "cell_type": "code",
   "execution_count": 51,
   "id": "fae0042a",
   "metadata": {},
   "outputs": [
    {
     "name": "stdout",
     "output_type": "stream",
     "text": [
      "1\n",
      "2\n",
      "3\n"
     ]
    }
   ],
   "source": [
    "# it you want to iterate through the values of a dictionary, use this method:\n",
    "\n",
    "for value in d.values():\n",
    "    print(value)"
   ]
  },
  {
   "cell_type": "code",
   "execution_count": 52,
   "id": "f1d64067",
   "metadata": {},
   "outputs": [],
   "source": [
    "# remember, dictionaries are unsorted, they are not in order"
   ]
  },
  {
   "cell_type": "code",
   "execution_count": 53,
   "id": "cd16645a",
   "metadata": {},
   "outputs": [],
   "source": [
    "#####################\n",
    "# While Loops\n",
    "#####################"
   ]
  },
  {
   "cell_type": "code",
   "execution_count": 54,
   "id": "5b7c8365",
   "metadata": {},
   "outputs": [],
   "source": [
    "# a 'while' loop will continue to execute a block of code WHILE some condition remains True\n"
   ]
  },
  {
   "cell_type": "code",
   "execution_count": 56,
   "id": "c401669d",
   "metadata": {},
   "outputs": [],
   "source": [
    "# syntax of a while loop\n",
    "\n",
    "# while some_boolean_condition:\n",
    "#    do something\n",
    "# else:                  # having an else statement is optional\n",
    "#    do something different"
   ]
  },
  {
   "cell_type": "code",
   "execution_count": 59,
   "id": "9ee6c1b4",
   "metadata": {},
   "outputs": [
    {
     "name": "stdout",
     "output_type": "stream",
     "text": [
      "The current value of x is 0\n",
      "The current value of x is 1\n",
      "The current value of x is 2\n",
      "The current value of x is 3\n",
      "The current value of x is 4\n",
      "X is not less than 5\n"
     ]
    }
   ],
   "source": [
    "# a basic while loop\n",
    "\n",
    "x = 0\n",
    "\n",
    "while x < 5:\n",
    "    print(f'The current value of x is {x}')\n",
    "    # x = x + 1\n",
    "    x += 1 #another way of writing the increment\n",
    "else:\n",
    "    print('X is not less than 5')"
   ]
  },
  {
   "cell_type": "code",
   "execution_count": 60,
   "id": "10f34b79",
   "metadata": {},
   "outputs": [],
   "source": [
    "########\n",
    "# Three useful keywords\n",
    "########"
   ]
  },
  {
   "cell_type": "code",
   "execution_count": 61,
   "id": "1596b73b",
   "metadata": {},
   "outputs": [],
   "source": [
    "# break: Breaks out of the current closest enclosing loop\n",
    "# continue: Goes to the top of the closest enclosing loop\n",
    "# pass: Does nothing at all"
   ]
  },
  {
   "cell_type": "code",
   "execution_count": 62,
   "id": "d1c4370f",
   "metadata": {},
   "outputs": [
    {
     "name": "stdout",
     "output_type": "stream",
     "text": [
      "end of my script\n"
     ]
    }
   ],
   "source": [
    "# the pass keyword\n",
    "x = [1,2,3]\n",
    "\n",
    "for item in x:\n",
    "    # if you don't know what you want to do here yet, just having a comment here causes an error\n",
    "    pass # this stops the error but also does nothing\n",
    "\n",
    "print('end of my script')"
   ]
  },
  {
   "cell_type": "code",
   "execution_count": 64,
   "id": "cb58fb4c",
   "metadata": {},
   "outputs": [
    {
     "name": "stdout",
     "output_type": "stream",
     "text": [
      "S\n",
      "m\n",
      "m\n",
      "y\n"
     ]
    }
   ],
   "source": [
    "# continue keyword\n",
    "\n",
    "mystring = 'Sammy'\n",
    "\n",
    "for letter in mystring:\n",
    "    # Let's say we don't want to print the letter 'a'\n",
    "    if letter == 'a':\n",
    "        continue  #tells the program to go back to the top of the closest enclosing loop\n",
    "    \n",
    "    print(letter)"
   ]
  },
  {
   "cell_type": "code",
   "execution_count": 65,
   "id": "cb8b08b1",
   "metadata": {},
   "outputs": [
    {
     "name": "stdout",
     "output_type": "stream",
     "text": [
      "S\n"
     ]
    }
   ],
   "source": [
    "# break\n",
    "\n",
    "mystring = 'Sammy'\n",
    "\n",
    "for letter in mystring:\n",
    "    # Let's say we don't want to print the letter 'a'\n",
    "    if letter == 'a':\n",
    "        break  #breaks out of the closest enclosing loop\n",
    "    \n",
    "    print(letter)"
   ]
  },
  {
   "cell_type": "code",
   "execution_count": 66,
   "id": "19387650",
   "metadata": {},
   "outputs": [
    {
     "name": "stdout",
     "output_type": "stream",
     "text": [
      "0\n",
      "1\n",
      "2\n",
      "3\n",
      "4\n"
     ]
    }
   ],
   "source": [
    "x = 0\n",
    "\n",
    "while x < 5:\n",
    "    print(x)\n",
    "    x += 1"
   ]
  },
  {
   "cell_type": "code",
   "execution_count": 67,
   "id": "29412e59",
   "metadata": {},
   "outputs": [
    {
     "name": "stdout",
     "output_type": "stream",
     "text": [
      "0\n",
      "1\n"
     ]
    }
   ],
   "source": [
    "# so break the loop if x is ever equal to 2\n",
    "\n",
    "x = 0\n",
    "\n",
    "while x < 5:\n",
    "    \n",
    "    if x == 2:\n",
    "        break\n",
    "    print(x)\n",
    "    x += 1"
   ]
  },
  {
   "cell_type": "code",
   "execution_count": 68,
   "id": "05b8dfcb",
   "metadata": {},
   "outputs": [],
   "source": [
    "###############################\n",
    "# Useful Operators in Python\n",
    "###############################"
   ]
  },
  {
   "cell_type": "code",
   "execution_count": 70,
   "id": "02357a65",
   "metadata": {},
   "outputs": [
    {
     "name": "stdout",
     "output_type": "stream",
     "text": [
      "0\n",
      "1\n",
      "2\n",
      "3\n",
      "4\n",
      "5\n",
      "6\n",
      "7\n",
      "8\n",
      "9\n"
     ]
    }
   ],
   "source": [
    "#1 The range() function\n",
    "# you can use this in the place of creating a list of numbers just to iterate through\n",
    "\n",
    "mylist = [1,2,3] # so you don't need to do this\n",
    "\n",
    "for num in range(10):  #gets the number all the way up to but not including 10\n",
    "    print(num)"
   ]
  },
  {
   "cell_type": "code",
   "execution_count": 72,
   "id": "48821a36",
   "metadata": {},
   "outputs": [
    {
     "name": "stdout",
     "output_type": "stream",
     "text": [
      "3\n",
      "4\n",
      "5\n",
      "6\n",
      "7\n",
      "8\n",
      "9\n"
     ]
    }
   ],
   "source": [
    "# specify a starting and ending range\n",
    "# start at 3, then go all-the-way-up-to-but-not-including 10\n",
    "\n",
    "for num in range(3,10):\n",
    "    print(num)"
   ]
  },
  {
   "cell_type": "code",
   "execution_count": 73,
   "id": "1814e563",
   "metadata": {},
   "outputs": [
    {
     "name": "stdout",
     "output_type": "stream",
     "text": [
      "0\n",
      "2\n",
      "4\n",
      "6\n",
      "8\n"
     ]
    }
   ],
   "source": [
    "# add a third argument for step size\n",
    "# you can position your cursor inside the range() parenthesis and hit shift-tab for syntax popup\n",
    "\n",
    "for num in range(0,10,2):\n",
    "    print(num)"
   ]
  },
  {
   "cell_type": "code",
   "execution_count": 74,
   "id": "2f72386e",
   "metadata": {},
   "outputs": [
    {
     "data": {
      "text/plain": [
       "range(0, 11, 2)"
      ]
     },
     "execution_count": 74,
     "metadata": {},
     "output_type": "execute_result"
    }
   ],
   "source": [
    "# what happens if you just put the range() function in a cell?\n",
    "\n",
    "range(0,11,2)"
   ]
  },
  {
   "cell_type": "code",
   "execution_count": 77,
   "id": "f4fd702a",
   "metadata": {},
   "outputs": [
    {
     "data": {
      "text/plain": [
       "[0, 2, 4, 6, 8, 10]"
      ]
     },
     "execution_count": 77,
     "metadata": {},
     "output_type": "execute_result"
    }
   ],
   "source": [
    "# nothing, you just get back the range() operator, because it's a generator\n",
    "# it generates numbers, instead of saving it all to memory\n",
    "# if you want to get the actual list of numbers, cast it to a list\n",
    "\n",
    "list(range(0,11,2))"
   ]
  },
  {
   "cell_type": "code",
   "execution_count": 78,
   "id": "6b95e42e",
   "metadata": {},
   "outputs": [],
   "source": [
    "#####################"
   ]
  },
  {
   "cell_type": "code",
   "execution_count": 79,
   "id": "9a2c0ba4",
   "metadata": {},
   "outputs": [],
   "source": [
    "#2 enumerate\n",
    "\n"
   ]
  },
  {
   "cell_type": "code",
   "execution_count": 82,
   "id": "bcf73f7e",
   "metadata": {},
   "outputs": [
    {
     "name": "stdout",
     "output_type": "stream",
     "text": [
      "At index 0 the letter is a\n",
      "At index 1 the letter is b\n",
      "At index 2 the letter is c\n",
      "At index 3 the letter is d\n",
      "At index 4 the letter is e\n"
     ]
    }
   ],
   "source": [
    "# here's a common operation in Python\n",
    "\n",
    "index_count = 0\n",
    "\n",
    "for letter in 'abcde':\n",
    "    print('At index {} the letter is {}'.format(index_count,letter))\n",
    "    index_count += 1"
   ]
  },
  {
   "cell_type": "code",
   "execution_count": 83,
   "id": "6c8c9d37",
   "metadata": {},
   "outputs": [
    {
     "name": "stdout",
     "output_type": "stream",
     "text": [
      "a\n",
      "b\n",
      "c\n",
      "d\n",
      "e\n"
     ]
    }
   ],
   "source": [
    "# use the enumerate() function to replicate that operation\n",
    "# here's another example of the common operation\n",
    "\n",
    "index_count = 0\n",
    "word = 'abcde'\n",
    "\n",
    "for letter in word:\n",
    "    print(word[index_count])\n",
    "    index_count += 1"
   ]
  },
  {
   "cell_type": "code",
   "execution_count": 84,
   "id": "c527105c",
   "metadata": {},
   "outputs": [
    {
     "name": "stdout",
     "output_type": "stream",
     "text": [
      "(0, 'a')\n",
      "(1, 'b')\n",
      "(2, 'c')\n",
      "(3, 'd')\n",
      "(4, 'e')\n"
     ]
    }
   ],
   "source": [
    "# here's the enumerate() function\n",
    "\n",
    "word = 'abcde'\n",
    "\n",
    "for item in enumerate(word):\n",
    "    print(item)"
   ]
  },
  {
   "cell_type": "code",
   "execution_count": 85,
   "id": "577d2fea",
   "metadata": {},
   "outputs": [
    {
     "name": "stdout",
     "output_type": "stream",
     "text": [
      "0 a\n",
      "1 b\n",
      "2 c\n",
      "3 d\n",
      "4 e\n"
     ]
    }
   ],
   "source": [
    "# notice that enumerate returns a tuple of the index position and the value\n",
    "# use tuple unpacking\n",
    "\n",
    "word = 'abcde'\n",
    "\n",
    "for index,letter in enumerate(word):\n",
    "    print(index,letter)"
   ]
  },
  {
   "cell_type": "code",
   "execution_count": 86,
   "id": "99e23138",
   "metadata": {},
   "outputs": [],
   "source": [
    "#############################"
   ]
  },
  {
   "cell_type": "code",
   "execution_count": 87,
   "id": "c7421c80",
   "metadata": {},
   "outputs": [],
   "source": [
    "#3 the zip() function\n",
    "# like the opposite of enumerate()"
   ]
  },
  {
   "cell_type": "code",
   "execution_count": 88,
   "id": "106fdc21",
   "metadata": {},
   "outputs": [],
   "source": [
    "mylist1 = [1,2,3]\n",
    "mylist2 = ['a','b','c']"
   ]
  },
  {
   "cell_type": "code",
   "execution_count": 89,
   "id": "8c0dd3c7",
   "metadata": {},
   "outputs": [],
   "source": [
    "# now zip them together\n",
    "# remember, it's a generator\n",
    "# can't just run zip(mylist1, mylist2)"
   ]
  },
  {
   "cell_type": "code",
   "execution_count": 92,
   "id": "d1f218dc",
   "metadata": {},
   "outputs": [
    {
     "name": "stdout",
     "output_type": "stream",
     "text": [
      "(1, 'a')\n",
      "(2, 'b')\n",
      "(3, 'c')\n"
     ]
    }
   ],
   "source": [
    "for item in zip(mylist1,mylist2):\n",
    "    print(item)"
   ]
  },
  {
   "cell_type": "code",
   "execution_count": 93,
   "id": "5306f3d3",
   "metadata": {},
   "outputs": [],
   "source": [
    "# it zips the two together into a tuple"
   ]
  },
  {
   "cell_type": "code",
   "execution_count": 94,
   "id": "c312eb17",
   "metadata": {},
   "outputs": [],
   "source": [
    "mylist1 = [1,2,3]\n",
    "mylist2 = ['a','b','c']\n",
    "mylist3 = [100,200,300]"
   ]
  },
  {
   "cell_type": "code",
   "execution_count": 95,
   "id": "4b347400",
   "metadata": {},
   "outputs": [
    {
     "name": "stdout",
     "output_type": "stream",
     "text": [
      "(1, 'a', 100)\n",
      "(2, 'b', 200)\n",
      "(3, 'c', 300)\n"
     ]
    }
   ],
   "source": [
    "for item in zip(mylist1,mylist2,mylist3):\n",
    "    print(item)"
   ]
  },
  {
   "cell_type": "code",
   "execution_count": 97,
   "id": "b1cf25fe",
   "metadata": {},
   "outputs": [
    {
     "name": "stdout",
     "output_type": "stream",
     "text": [
      "(1, 'a', 100)\n",
      "(2, 'b', 200)\n",
      "(3, 'c', 300)\n"
     ]
    }
   ],
   "source": [
    "# LIMITATION\n",
    "# if the lists are uneven, it will only zip together up to the length of the shortest list and ignore the extra\n",
    "mylist1 = [1,2,3]\n",
    "mylist2 = ['a','b','c']\n",
    "mylist3 = [100,200,300,500,600,700]\n",
    "\n",
    "for item in zip(mylist1,mylist2,mylist3):\n",
    "    print(item)"
   ]
  },
  {
   "cell_type": "code",
   "execution_count": 100,
   "id": "623dfeba",
   "metadata": {},
   "outputs": [
    {
     "data": {
      "text/plain": [
       "[(1, 'a', 100), (2, 'b', 200), (3, 'c', 300)]"
      ]
     },
     "execution_count": 100,
     "metadata": {},
     "output_type": "execute_result"
    }
   ],
   "source": [
    "# if you didn't want to iterate through it, you can just cast it as a list\n",
    "# remember, it will be a list or tuples\n",
    "\n",
    "list(zip(mylist1,mylist2,mylist3))"
   ]
  },
  {
   "cell_type": "code",
   "execution_count": 101,
   "id": "c8d0e1c1",
   "metadata": {},
   "outputs": [],
   "source": [
    "###################################"
   ]
  },
  {
   "cell_type": "code",
   "execution_count": 102,
   "id": "69b6a178",
   "metadata": {},
   "outputs": [],
   "source": [
    "#4 the \"in\" operator\n",
    "# check if something is in a list"
   ]
  },
  {
   "cell_type": "code",
   "execution_count": 103,
   "id": "4d902a97",
   "metadata": {},
   "outputs": [
    {
     "data": {
      "text/plain": [
       "False"
      ]
     },
     "execution_count": 103,
     "metadata": {},
     "output_type": "execute_result"
    }
   ],
   "source": [
    "'x' in [1,2,3]"
   ]
  },
  {
   "cell_type": "code",
   "execution_count": 104,
   "id": "6aea18a9",
   "metadata": {},
   "outputs": [
    {
     "data": {
      "text/plain": [
       "True"
      ]
     },
     "execution_count": 104,
     "metadata": {},
     "output_type": "execute_result"
    }
   ],
   "source": [
    "'x' in ['x','y','z']"
   ]
  },
  {
   "cell_type": "code",
   "execution_count": 105,
   "id": "7116f9f4",
   "metadata": {},
   "outputs": [
    {
     "data": {
      "text/plain": [
       "True"
      ]
     },
     "execution_count": 105,
     "metadata": {},
     "output_type": "execute_result"
    }
   ],
   "source": [
    "# works in strings too\n",
    "'a' in 'a world'"
   ]
  },
  {
   "cell_type": "code",
   "execution_count": 106,
   "id": "7bcbcec5",
   "metadata": {},
   "outputs": [
    {
     "data": {
      "text/plain": [
       "True"
      ]
     },
     "execution_count": 106,
     "metadata": {},
     "output_type": "execute_result"
    }
   ],
   "source": [
    "# works in dictionaries\n",
    "\n",
    "'mykey' in {'mykey':345}"
   ]
  },
  {
   "cell_type": "code",
   "execution_count": 107,
   "id": "7bcfa216",
   "metadata": {},
   "outputs": [
    {
     "data": {
      "text/plain": [
       "False"
      ]
     },
     "execution_count": 107,
     "metadata": {},
     "output_type": "execute_result"
    }
   ],
   "source": [
    "d = {'mykey':345}\n",
    "\n",
    "345 in d.keys()"
   ]
  },
  {
   "cell_type": "code",
   "execution_count": 108,
   "id": "b79093c4",
   "metadata": {},
   "outputs": [],
   "source": [
    "###########################"
   ]
  },
  {
   "cell_type": "code",
   "execution_count": 121,
   "id": "3ccc0618",
   "metadata": {},
   "outputs": [
    {
     "name": "stdout",
     "output_type": "stream",
     "text": [
      "the minimum value is: 10\n",
      "the maximum value is: 100\n"
     ]
    }
   ],
   "source": [
    "#5 min() / max()\n",
    "# assume you have a list\n",
    "mylist=[10,20,30,40,100]\n",
    "\n",
    "# you want to know what the minimum or maximum value is in the list\n",
    "print(f'the minimum value is: {min(mylist)}')\n",
    "print(f'the maximum value is: {max(mylist)}')\n"
   ]
  },
  {
   "cell_type": "code",
   "execution_count": 122,
   "id": "eaba5875",
   "metadata": {},
   "outputs": [],
   "source": [
    "###############################"
   ]
  },
  {
   "cell_type": "code",
   "execution_count": 125,
   "id": "3e4060f3",
   "metadata": {},
   "outputs": [],
   "source": [
    "#6 the random library\n",
    "# you have to import the library to use it\n",
    "# To find out what functions can be imported from the library type:\n",
    "# from random import [hit tab key here]"
   ]
  },
  {
   "cell_type": "code",
   "execution_count": 126,
   "id": "f12b7e27",
   "metadata": {},
   "outputs": [],
   "source": [
    "from random import shuffle"
   ]
  },
  {
   "cell_type": "code",
   "execution_count": 127,
   "id": "539f2222",
   "metadata": {},
   "outputs": [],
   "source": [
    "# shuffle randomly shuffles around a list\n",
    "mylist = [1,2,3,4,5,6,7,8,9]"
   ]
  },
  {
   "cell_type": "code",
   "execution_count": 128,
   "id": "bea4d156",
   "metadata": {},
   "outputs": [],
   "source": [
    "shuffle(mylist)"
   ]
  },
  {
   "cell_type": "code",
   "execution_count": 129,
   "id": "7220e7bf",
   "metadata": {},
   "outputs": [
    {
     "data": {
      "text/plain": [
       "[8, 7, 3, 4, 1, 9, 6, 2, 5]"
      ]
     },
     "execution_count": 129,
     "metadata": {},
     "output_type": "execute_result"
    }
   ],
   "source": [
    "mylist"
   ]
  },
  {
   "cell_type": "code",
   "execution_count": 130,
   "id": "dc4602a5",
   "metadata": {},
   "outputs": [],
   "source": [
    "# it shuffles in place, kind of like sort()"
   ]
  },
  {
   "cell_type": "code",
   "execution_count": 131,
   "id": "4e357a36",
   "metadata": {},
   "outputs": [],
   "source": [
    "shuffle(mylist)"
   ]
  },
  {
   "cell_type": "code",
   "execution_count": 132,
   "id": "93c875c6",
   "metadata": {},
   "outputs": [
    {
     "data": {
      "text/plain": [
       "[9, 7, 6, 8, 4, 3, 2, 1, 5]"
      ]
     },
     "execution_count": 132,
     "metadata": {},
     "output_type": "execute_result"
    }
   ],
   "source": [
    "mylist"
   ]
  },
  {
   "cell_type": "code",
   "execution_count": 133,
   "id": "dc0fcc38",
   "metadata": {},
   "outputs": [],
   "source": [
    "# use the random library to grab a random integer\n",
    "\n",
    "from random import randint"
   ]
  },
  {
   "cell_type": "code",
   "execution_count": 134,
   "id": "1ee8fdb2",
   "metadata": {},
   "outputs": [
    {
     "data": {
      "text/plain": [
       "53"
      ]
     },
     "execution_count": 134,
     "metadata": {},
     "output_type": "execute_result"
    }
   ],
   "source": [
    "# pass in lower and upper range\n",
    "\n",
    "randint(0,100)"
   ]
  },
  {
   "cell_type": "code",
   "execution_count": 135,
   "id": "681f0986",
   "metadata": {},
   "outputs": [
    {
     "data": {
      "text/plain": [
       "96"
      ]
     },
     "execution_count": 135,
     "metadata": {},
     "output_type": "execute_result"
    }
   ],
   "source": [
    "randint(0,100)"
   ]
  },
  {
   "cell_type": "code",
   "execution_count": 136,
   "id": "f9bdaaf3",
   "metadata": {},
   "outputs": [],
   "source": [
    "mynum = randint(0,10)"
   ]
  },
  {
   "cell_type": "code",
   "execution_count": 137,
   "id": "5b1ab53a",
   "metadata": {},
   "outputs": [
    {
     "data": {
      "text/plain": [
       "8"
      ]
     },
     "execution_count": 137,
     "metadata": {},
     "output_type": "execute_result"
    }
   ],
   "source": [
    "mynum"
   ]
  },
  {
   "cell_type": "code",
   "execution_count": 138,
   "id": "4995e141",
   "metadata": {},
   "outputs": [],
   "source": [
    "##############################"
   ]
  },
  {
   "cell_type": "code",
   "execution_count": 139,
   "id": "a3a90bbd",
   "metadata": {},
   "outputs": [],
   "source": [
    "#7 the input() function\n",
    "# accept user input"
   ]
  },
  {
   "cell_type": "code",
   "execution_count": 140,
   "id": "86d5f4f8",
   "metadata": {},
   "outputs": [
    {
     "name": "stdout",
     "output_type": "stream",
     "text": [
      "enter a number here: 4\n"
     ]
    },
    {
     "data": {
      "text/plain": [
       "'4'"
      ]
     },
     "execution_count": 140,
     "metadata": {},
     "output_type": "execute_result"
    }
   ],
   "source": [
    "input('enter a number here: ')"
   ]
  },
  {
   "cell_type": "code",
   "execution_count": 141,
   "id": "3ed4724d",
   "metadata": {},
   "outputs": [
    {
     "name": "stdout",
     "output_type": "stream",
     "text": [
      "what is your name? jose\n"
     ]
    }
   ],
   "source": [
    "# save it as a result\n",
    "\n",
    "result = input('what is your name? ')"
   ]
  },
  {
   "cell_type": "code",
   "execution_count": 142,
   "id": "ac7d0b25",
   "metadata": {},
   "outputs": [
    {
     "data": {
      "text/plain": [
       "'jose'"
      ]
     },
     "execution_count": 142,
     "metadata": {},
     "output_type": "execute_result"
    }
   ],
   "source": [
    "result"
   ]
  },
  {
   "cell_type": "code",
   "execution_count": 143,
   "id": "16185f37",
   "metadata": {},
   "outputs": [],
   "source": [
    "# LIMITATION\n",
    "# everything input accepts is stored as a string"
   ]
  },
  {
   "cell_type": "code",
   "execution_count": 144,
   "id": "07314b3a",
   "metadata": {},
   "outputs": [
    {
     "name": "stdout",
     "output_type": "stream",
     "text": [
      "enter a number w\n",
      "enter a string 2\n"
     ]
    }
   ],
   "source": [
    "mynum = input('enter a number ')\n",
    "mystr = input('enter a string ')"
   ]
  },
  {
   "cell_type": "code",
   "execution_count": 148,
   "id": "c3ba406c",
   "metadata": {},
   "outputs": [
    {
     "name": "stdout",
     "output_type": "stream",
     "text": [
      "w <class 'str'>\n"
     ]
    }
   ],
   "source": [
    "print(mynum, type(mynum))"
   ]
  },
  {
   "cell_type": "code",
   "execution_count": 149,
   "id": "2e5ca2e0",
   "metadata": {},
   "outputs": [
    {
     "name": "stdout",
     "output_type": "stream",
     "text": [
      "2 <class 'str'>\n"
     ]
    }
   ],
   "source": [
    "print(mystr, type(mystr))"
   ]
  },
  {
   "cell_type": "code",
   "execution_count": 150,
   "id": "bffc81e1",
   "metadata": {},
   "outputs": [
    {
     "name": "stdout",
     "output_type": "stream",
     "text": [
      "2.0\n",
      "2\n"
     ]
    }
   ],
   "source": [
    "# to use it as a number use float() or int()\n",
    "print(float(mystr))\n",
    "print(int(mystr))"
   ]
  },
  {
   "cell_type": "code",
   "execution_count": 151,
   "id": "4cc7ef43",
   "metadata": {},
   "outputs": [
    {
     "name": "stdout",
     "output_type": "stream",
     "text": [
      "favorite number: 4\n"
     ]
    }
   ],
   "source": [
    "# you can cast the result as an integer when you take it in\n",
    "result = int(input('favorite number: '))"
   ]
  },
  {
   "cell_type": "code",
   "execution_count": 152,
   "id": "3012f9d5",
   "metadata": {},
   "outputs": [
    {
     "data": {
      "text/plain": [
       "int"
      ]
     },
     "execution_count": 152,
     "metadata": {},
     "output_type": "execute_result"
    }
   ],
   "source": [
    "type(result)"
   ]
  },
  {
   "cell_type": "code",
   "execution_count": 153,
   "id": "7456c47c",
   "metadata": {},
   "outputs": [],
   "source": [
    "# but you have to protect it from errors if the user enters a non-number\n",
    "# more on how to do that later"
   ]
  },
  {
   "cell_type": "code",
   "execution_count": 154,
   "id": "55597d41",
   "metadata": {},
   "outputs": [],
   "source": [
    "##########################################\n",
    "# List Comprehensions in Python\n",
    "##########################################"
   ]
  },
  {
   "cell_type": "code",
   "execution_count": null,
   "id": "0d0855d4",
   "metadata": {},
   "outputs": [],
   "source": []
  }
 ],
 "metadata": {
  "kernelspec": {
   "display_name": "Python 3 (ipykernel)",
   "language": "python",
   "name": "python3"
  },
  "language_info": {
   "codemirror_mode": {
    "name": "ipython",
    "version": 3
   },
   "file_extension": ".py",
   "mimetype": "text/x-python",
   "name": "python",
   "nbconvert_exporter": "python",
   "pygments_lexer": "ipython3",
   "version": "3.9.13"
  }
 },
 "nbformat": 4,
 "nbformat_minor": 5
}
