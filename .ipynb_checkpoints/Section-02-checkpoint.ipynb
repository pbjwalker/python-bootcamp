{
 "cells": [
  {
   "cell_type": "code",
   "execution_count": 1,
   "id": "3fdf9b21",
   "metadata": {},
   "outputs": [],
   "source": [
    "# This is my first Jupyter notebook in my own repository!"
   ]
  },
  {
   "cell_type": "code",
   "execution_count": 1,
   "id": "150598d3",
   "metadata": {},
   "outputs": [
    {
     "name": "stdout",
     "output_type": "stream",
     "text": [
      "Hello world!\n"
     ]
    }
   ],
   "source": [
    "print(\"Hello world!\")"
   ]
  },
  {
   "cell_type": "code",
   "execution_count": 1,
   "id": "165413ce",
   "metadata": {},
   "outputs": [],
   "source": [
    "# this is a comment"
   ]
  },
  {
   "cell_type": "code",
   "execution_count": 2,
   "id": "43dbafad",
   "metadata": {},
   "outputs": [
    {
     "name": "stdout",
     "output_type": "stream",
     "text": [
      "the print function can use either single or double quotes\n"
     ]
    }
   ],
   "source": [
    "print('the print function can use either single or double quotes')"
   ]
  },
  {
   "cell_type": "markdown",
   "id": "42f778e7",
   "metadata": {},
   "source": [
    "This cell is not code.  It's just markdown.  Selected from the drop down menu."
   ]
  },
  {
   "cell_type": "code",
   "execution_count": 1,
   "id": "6c578a78",
   "metadata": {},
   "outputs": [
    {
     "name": "stdout",
     "output_type": "stream",
     "text": [
      "After a long absence, I am returning to the course.\n"
     ]
    }
   ],
   "source": [
    "print(\"After a long absence, I am returning to the course.\")"
   ]
  },
  {
   "cell_type": "code",
   "execution_count": null,
   "id": "60541652",
   "metadata": {},
   "outputs": [],
   "source": []
  }
 ],
 "metadata": {
  "kernelspec": {
   "display_name": "Python 3 (ipykernel)",
   "language": "python",
   "name": "python3"
  },
  "language_info": {
   "codemirror_mode": {
    "name": "ipython",
    "version": 3
   },
   "file_extension": ".py",
   "mimetype": "text/x-python",
   "name": "python",
   "nbconvert_exporter": "python",
   "pygments_lexer": "ipython3",
   "version": "3.9.13"
  }
 },
 "nbformat": 4,
 "nbformat_minor": 5
}
