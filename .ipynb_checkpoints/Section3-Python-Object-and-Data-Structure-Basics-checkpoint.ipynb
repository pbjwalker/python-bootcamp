{
 "cells": [
  {
   "cell_type": "code",
   "execution_count": null,
   "id": "004c26ff",
   "metadata": {},
   "outputs": [],
   "source": [
    "# int    integers        Whole numbers\n",
    "# float  floating point  Numbers with a decimal point\n",
    "# str    strings         Ordered sequence of characters\n",
    "\n",
    "#The following are data structures\n",
    "# list   lists           Ordered sequence of objects: [10,\"hello\",200.3]\n",
    "# dict   dictionaries    Unorderd Key:Value pairs:    {\"mykey\":\"value\",\"name\":\"Frankie\"}\n",
    "# tup    tuples          Ordered immutable sequence of objects: (10,\"hello\",200.3)\n",
    "# set    sets            Unordered collection of unique objects: {\"a\",\"b\"}\n",
    "\n",
    "# bool   booleans        Logical value indicating True or False"
   ]
  },
  {
   "cell_type": "code",
   "execution_count": null,
   "id": "53752264",
   "metadata": {},
   "outputs": [],
   "source": [
    "2+2"
   ]
  },
  {
   "cell_type": "code",
   "execution_count": null,
   "id": "c787ac0d",
   "metadata": {},
   "outputs": [],
   "source": [
    "4*4"
   ]
  },
  {
   "cell_type": "code",
   "execution_count": null,
   "id": "c6af8004",
   "metadata": {},
   "outputs": [],
   "source": [
    "#remember the mod operator\n",
    "7 / 4"
   ]
  },
  {
   "cell_type": "code",
   "execution_count": null,
   "id": "5ba26141",
   "metadata": {},
   "outputs": [],
   "source": [
    "#what is the remainder? use the mod operator %\n",
    "7 % 4"
   ]
  },
  {
   "cell_type": "code",
   "execution_count": null,
   "id": "6a0cc62b",
   "metadata": {},
   "outputs": [],
   "source": [
    "# is 23 even or odd?\n",
    "# use mod to find out\n",
    "# if 23 % 2 has a remainder of 0, it is even\n",
    "23 % 2"
   ]
  },
  {
   "cell_type": "code",
   "execution_count": null,
   "id": "1aab6472",
   "metadata": {},
   "outputs": [],
   "source": [
    "# order of operations\n",
    "2 + 10 * 10 + 3"
   ]
  },
  {
   "cell_type": "code",
   "execution_count": null,
   "id": "2a813091",
   "metadata": {},
   "outputs": [],
   "source": [
    "(2+10) * (10 + 3)"
   ]
  },
  {
   "cell_type": "code",
   "execution_count": null,
   "id": "cf399b54",
   "metadata": {},
   "outputs": [],
   "source": [
    "# important to remember\n",
    "# why doesn't 0.1 + 0.2 - 0.3 = 0 ?\n",
    "# This has to do with floating point accuracy and computer's abilities to represent numbers in memory.\n",
    "# For a full breakdown, check out: https://docs.python.org/2/tutorial/floatingpoint.html"
   ]
  },
  {
   "cell_type": "code",
   "execution_count": null,
   "id": "aa24d23a",
   "metadata": {},
   "outputs": [],
   "source": [
    "0.1 + 0.2"
   ]
  },
  {
   "cell_type": "code",
   "execution_count": null,
   "id": "2f371761",
   "metadata": {},
   "outputs": [],
   "source": [
    "0.1"
   ]
  },
  {
   "cell_type": "code",
   "execution_count": null,
   "id": "fccbf879",
   "metadata": {},
   "outputs": [],
   "source": [
    "0.2"
   ]
  },
  {
   "cell_type": "code",
   "execution_count": null,
   "id": "b46d6c71",
   "metadata": {},
   "outputs": [],
   "source": [
    "0.1 + 0.2 - 0.3"
   ]
  },
  {
   "cell_type": "code",
   "execution_count": null,
   "id": "07098a39",
   "metadata": {},
   "outputs": [],
   "source": [
    "0.2 + 0.3"
   ]
  },
  {
   "cell_type": "code",
   "execution_count": null,
   "id": "3c417911",
   "metadata": {},
   "outputs": [],
   "source": [
    "0.1 + 0.3"
   ]
  },
  {
   "cell_type": "code",
   "execution_count": null,
   "id": "a892f732",
   "metadata": {},
   "outputs": [],
   "source": [
    "0.1 + 0.3 - 0.4"
   ]
  },
  {
   "cell_type": "code",
   "execution_count": null,
   "id": "d0567eb4",
   "metadata": {},
   "outputs": [],
   "source": [
    "# looks like the real culprit is 0.2"
   ]
  },
  {
   "cell_type": "code",
   "execution_count": null,
   "id": "00e01ae4",
   "metadata": {},
   "outputs": [],
   "source": [
    "30+*6"
   ]
  },
  {
   "cell_type": "code",
   "execution_count": null,
   "id": "07458db5",
   "metadata": {},
   "outputs": [],
   "source": [
    "6**6"
   ]
  },
  {
   "cell_type": "code",
   "execution_count": null,
   "id": "7719448c",
   "metadata": {},
   "outputs": [],
   "source": [
    "6^6"
   ]
  },
  {
   "cell_type": "code",
   "execution_count": null,
   "id": "b4efade8",
   "metadata": {},
   "outputs": [],
   "source": [
    "1/2"
   ]
  },
  {
   "cell_type": "code",
   "execution_count": null,
   "id": "5b79976f",
   "metadata": {},
   "outputs": [],
   "source": [
    "# There are a lot more operands I need to learn\n",
    "# what is **\n",
    "# what is ^\n"
   ]
  },
  {
   "cell_type": "code",
   "execution_count": null,
   "id": "d9b120a1",
   "metadata": {},
   "outputs": [],
   "source": [
    "#################\n",
    "# quick review of variable names and assignments\n",
    "#################"
   ]
  },
  {
   "cell_type": "code",
   "execution_count": null,
   "id": "df892f27",
   "metadata": {},
   "outputs": [],
   "source": [
    "# remember:\n",
    "# no spaces in a name\n",
    "# also, none of these symbols:\n",
    "# ' \" , < > / ? \\ | ( ) ! @ # $ % ^ & * ~ - + : "
   ]
  },
  {
   "cell_type": "code",
   "execution_count": null,
   "id": "5e5a1905",
   "metadata": {},
   "outputs": [],
   "source": [
    "# PEP8 - it's considered best practice that variable names are lower case"
   ]
  },
  {
   "cell_type": "code",
   "execution_count": null,
   "id": "2a301678",
   "metadata": {},
   "outputs": [],
   "source": [
    "# python uses dynamic typing to assign variables"
   ]
  },
  {
   "cell_type": "code",
   "execution_count": null,
   "id": "6da832cb",
   "metadata": {},
   "outputs": [],
   "source": [
    "a = 5"
   ]
  },
  {
   "cell_type": "code",
   "execution_count": null,
   "id": "31d1524b",
   "metadata": {},
   "outputs": [],
   "source": [
    "a = a + a\n",
    "a"
   ]
  },
  {
   "cell_type": "code",
   "execution_count": null,
   "id": "529a5687",
   "metadata": {},
   "outputs": [],
   "source": [
    "# what type variable is \"a\""
   ]
  },
  {
   "cell_type": "code",
   "execution_count": null,
   "id": "7e7de633",
   "metadata": {},
   "outputs": [],
   "source": [
    "type(a)"
   ]
  },
  {
   "cell_type": "code",
   "execution_count": null,
   "id": "fa3e7a89",
   "metadata": {},
   "outputs": [],
   "source": [
    "a = 30.1"
   ]
  },
  {
   "cell_type": "code",
   "execution_count": null,
   "id": "eada65fb",
   "metadata": {},
   "outputs": [],
   "source": [
    "type(a)"
   ]
  },
  {
   "cell_type": "code",
   "execution_count": null,
   "id": "0f0cf552",
   "metadata": {},
   "outputs": [],
   "source": [
    "my_income = 100\n",
    "\n",
    "tax_rate = 0.1\n",
    "\n",
    "my_taxes = my_income * tax_rate"
   ]
  },
  {
   "cell_type": "code",
   "execution_count": null,
   "id": "25241f53",
   "metadata": {},
   "outputs": [],
   "source": [
    "my_taxes"
   ]
  },
  {
   "cell_type": "code",
   "execution_count": null,
   "id": "3a1aec80",
   "metadata": {},
   "outputs": [],
   "source": [
    "###################\n",
    "# quick review of strings\n",
    "###################"
   ]
  },
  {
   "cell_type": "code",
   "execution_count": null,
   "id": "2e82230d",
   "metadata": {},
   "outputs": [],
   "source": []
  },
  {
   "cell_type": "code",
   "execution_count": null,
   "id": "c15e8e8c",
   "metadata": {},
   "outputs": [],
   "source": [
    "\"Hello\""
   ]
  },
  {
   "cell_type": "code",
   "execution_count": null,
   "id": "d5fa914b",
   "metadata": {},
   "outputs": [],
   "source": [
    "\"I don't do that\""
   ]
  },
  {
   "cell_type": "code",
   "execution_count": null,
   "id": "0217cb24",
   "metadata": {},
   "outputs": [],
   "source": [
    "'Hello'"
   ]
  },
  {
   "cell_type": "code",
   "execution_count": null,
   "id": "45da14b2",
   "metadata": {},
   "outputs": [],
   "source": [
    "# strings are ORDERED SEQUENCES"
   ]
  },
  {
   "cell_type": "code",
   "execution_count": null,
   "id": "ef448cfe",
   "metadata": {},
   "outputs": [],
   "source": [
    "# indexing notation uses [ ] "
   ]
  },
  {
   "cell_type": "code",
   "execution_count": null,
   "id": "06f429dd",
   "metadata": {},
   "outputs": [],
   "source": [
    "# character:     h   e   l   l   o\n",
    "# index:         0   1   2   3   4\n",
    "# reverse index: 0  -4  -3  -2  -1"
   ]
  },
  {
   "cell_type": "code",
   "execution_count": null,
   "id": "07e9d62e",
   "metadata": {},
   "outputs": [],
   "source": [
    "# slicing notation\n",
    "#  [start : stop : step]\n",
    "# start is the numerical index for the slice start\n",
    "# stop is the index you will go up to, but not include\n",
    "# step is the size of the jump you take"
   ]
  },
  {
   "cell_type": "code",
   "execution_count": null,
   "id": "d51399ca",
   "metadata": {},
   "outputs": [],
   "source": [
    "# escape sequences in the print command\n",
    "# \\n \\t"
   ]
  },
  {
   "cell_type": "code",
   "execution_count": null,
   "id": "9a7ab7a5",
   "metadata": {},
   "outputs": [],
   "source": [
    "print('hello \\nworld')"
   ]
  },
  {
   "cell_type": "code",
   "execution_count": null,
   "id": "503c8386",
   "metadata": {},
   "outputs": [],
   "source": [
    "len('hello world')\n"
   ]
  },
  {
   "cell_type": "code",
   "execution_count": null,
   "id": "854bb4ef",
   "metadata": {},
   "outputs": [],
   "source": [
    "# string indexing and slicing\n",
    "# string indexing is grabbing a single character\n",
    "# string slicing is grabbing a section"
   ]
  },
  {
   "cell_type": "code",
   "execution_count": null,
   "id": "a344df0f",
   "metadata": {},
   "outputs": [],
   "source": [
    "mystring = \"Hello World\""
   ]
  },
  {
   "cell_type": "code",
   "execution_count": null,
   "id": "166712fd",
   "metadata": {},
   "outputs": [],
   "source": [
    "mystring"
   ]
  },
  {
   "cell_type": "code",
   "execution_count": null,
   "id": "d8861dbc",
   "metadata": {},
   "outputs": [],
   "source": [
    "mystring[0]"
   ]
  },
  {
   "cell_type": "code",
   "execution_count": null,
   "id": "46b9cc6c",
   "metadata": {},
   "outputs": [],
   "source": [
    "mystring[-1]"
   ]
  },
  {
   "cell_type": "code",
   "execution_count": null,
   "id": "f5a77786",
   "metadata": {},
   "outputs": [],
   "source": [
    "mystring[8]"
   ]
  },
  {
   "cell_type": "code",
   "execution_count": null,
   "id": "80448fb0",
   "metadata": {},
   "outputs": [],
   "source": [
    "mystring[-8]"
   ]
  },
  {
   "cell_type": "code",
   "execution_count": null,
   "id": "5ba41804",
   "metadata": {},
   "outputs": [],
   "source": [
    "mystring[9]"
   ]
  },
  {
   "cell_type": "code",
   "execution_count": null,
   "id": "deaf3eaf",
   "metadata": {},
   "outputs": [],
   "source": [
    "# here's a quick way to reverse a string\n",
    "mystring[::-1]"
   ]
  },
  {
   "cell_type": "code",
   "execution_count": null,
   "id": "27207720",
   "metadata": {},
   "outputs": [],
   "source": [
    "mystring[:3]"
   ]
  },
  {
   "cell_type": "code",
   "execution_count": null,
   "id": "3c44ae50",
   "metadata": {},
   "outputs": [],
   "source": [
    "mystring=\"abcdefghijk\""
   ]
  },
  {
   "cell_type": "code",
   "execution_count": null,
   "id": "13e26469",
   "metadata": {},
   "outputs": [],
   "source": [
    "mystring[3:6]"
   ]
  },
  {
   "cell_type": "code",
   "execution_count": null,
   "id": "c9a709d8",
   "metadata": {},
   "outputs": [],
   "source": [
    "mystring[5:9]"
   ]
  },
  {
   "cell_type": "code",
   "execution_count": null,
   "id": "bf910879",
   "metadata": {},
   "outputs": [],
   "source": [
    "mystring=\"mystring\""
   ]
  },
  {
   "cell_type": "code",
   "execution_count": null,
   "id": "132619eb",
   "metadata": {},
   "outputs": [],
   "source": [
    "mystring[4:9]"
   ]
  },
  {
   "cell_type": "code",
   "execution_count": null,
   "id": "2519642f",
   "metadata": {},
   "outputs": [],
   "source": [
    "mystring=\"12121212\""
   ]
  },
  {
   "cell_type": "code",
   "execution_count": null,
   "id": "82762cdf",
   "metadata": {},
   "outputs": [],
   "source": [
    "mystring[::2]"
   ]
  },
  {
   "cell_type": "code",
   "execution_count": null,
   "id": "01a8a92c",
   "metadata": {},
   "outputs": [],
   "source": [
    "mystring[::-2]"
   ]
  },
  {
   "cell_type": "code",
   "execution_count": null,
   "id": "3f74ef54",
   "metadata": {},
   "outputs": [],
   "source": [
    "'tinker'[1:4]"
   ]
  },
  {
   "cell_type": "code",
   "execution_count": null,
   "id": "865f928f",
   "metadata": {},
   "outputs": [],
   "source": [
    "# left off in Section 3, #17\n",
    "\n",
    "# Remember: Strings are not mutable. You can't use indexing to change individual elements of a string"
   ]
  },
  {
   "cell_type": "code",
   "execution_count": null,
   "id": "2b8e0157",
   "metadata": {},
   "outputs": [],
   "source": [
    "# adding variables when printing strings\n",
    "# two methods\n",
    "# .format()\n",
    "# f-strings  (formatted string literals)"
   ]
  },
  {
   "cell_type": "code",
   "execution_count": null,
   "id": "264cbedc",
   "metadata": {},
   "outputs": [],
   "source": [
    "# .format()  method\n",
    "# 'String here {} then here {}'.format(\"something1\",\"something2\")"
   ]
  },
  {
   "cell_type": "code",
   "execution_count": null,
   "id": "ece77d4e",
   "metadata": {},
   "outputs": [],
   "source": [
    "print('This is a string {}'.format('INSERTED'))"
   ]
  },
  {
   "cell_type": "code",
   "execution_count": null,
   "id": "3ce38c39",
   "metadata": {},
   "outputs": [],
   "source": [
    "print('the {} {} {}'.format('fox','brown','quick'))"
   ]
  },
  {
   "cell_type": "code",
   "execution_count": null,
   "id": "3c3dd9a8",
   "metadata": {},
   "outputs": [],
   "source": [
    "# use the index positions of the format() method\n",
    "print('the {2} {1} {0}'.format('fox','brown','quick'))"
   ]
  },
  {
   "cell_type": "code",
   "execution_count": null,
   "id": "6ea29af9",
   "metadata": {},
   "outputs": [],
   "source": [
    "print('the {0} {0} {0}'.format('fox','brown','quick'))"
   ]
  },
  {
   "cell_type": "code",
   "execution_count": null,
   "id": "ccdc8836",
   "metadata": {},
   "outputs": [],
   "source": [
    "# you can also define key words\n",
    "\n",
    "print('the {f} {b} {q}'.format(f='fox',b='brown',q='quick'))"
   ]
  },
  {
   "cell_type": "code",
   "execution_count": null,
   "id": "7339f385",
   "metadata": {},
   "outputs": [],
   "source": [
    "print('the {q} {b} {f}'.format(f='fox',b='brown',q='quick'))"
   ]
  },
  {
   "cell_type": "code",
   "execution_count": null,
   "id": "0b0fabd3",
   "metadata": {},
   "outputs": [],
   "source": [
    "# float formatting\n",
    "\n",
    "result = 100/777"
   ]
  },
  {
   "cell_type": "code",
   "execution_count": null,
   "id": "5d7a7e10",
   "metadata": {},
   "outputs": [],
   "source": [
    "result"
   ]
  },
  {
   "cell_type": "code",
   "execution_count": null,
   "id": "94ff04d0",
   "metadata": {},
   "outputs": [],
   "source": [
    "# change the level of precision and width of the number\n",
    "\n",
    "print(\"the result was {r}\".format(r=result))"
   ]
  },
  {
   "cell_type": "code",
   "execution_count": null,
   "id": "b0336df7",
   "metadata": {},
   "outputs": [],
   "source": [
    "# the float formatting looks like:\n",
    "# \"{value:width.precision f}\""
   ]
  },
  {
   "cell_type": "code",
   "execution_count": null,
   "id": "1101ebc4",
   "metadata": {},
   "outputs": [],
   "source": [
    "print(\"the result was {r:1.3f}\".format(r=result))"
   ]
  },
  {
   "cell_type": "code",
   "execution_count": null,
   "id": "151bafb6",
   "metadata": {},
   "outputs": [],
   "source": [
    "# the width value can a lot of white space\n",
    "\n",
    "print(\"the result was {r:10.1f}\".format(r=result))"
   ]
  },
  {
   "cell_type": "code",
   "execution_count": null,
   "id": "2d8f0f8a",
   "metadata": {},
   "outputs": [],
   "source": [
    "result = 104.12345\n",
    "\n",
    "print(\"the result was {r:1.2f}\".format(r=result))"
   ]
  },
  {
   "cell_type": "code",
   "execution_count": null,
   "id": "1db75afb",
   "metadata": {},
   "outputs": [],
   "source": [
    "#####\n",
    "# f-strings\n",
    "# formatted string literals"
   ]
  },
  {
   "cell_type": "code",
   "execution_count": null,
   "id": "26166c32",
   "metadata": {},
   "outputs": [],
   "source": [
    "name = \"Jose\""
   ]
  },
  {
   "cell_type": "code",
   "execution_count": null,
   "id": "5613d18f",
   "metadata": {},
   "outputs": [],
   "source": [
    "print(f\"hello my name is {name}\")"
   ]
  },
  {
   "cell_type": "code",
   "execution_count": null,
   "id": "60b3cd49",
   "metadata": {},
   "outputs": [],
   "source": [
    "result"
   ]
  },
  {
   "cell_type": "code",
   "execution_count": null,
   "id": "633d12eb",
   "metadata": {},
   "outputs": [],
   "source": [
    "# what is this??\n",
    "\n",
    "print(f\"the result was {result:1.2}\")\n",
    "\n",
    "print(f\"my name is {name:1.2}\")"
   ]
  },
  {
   "cell_type": "code",
   "execution_count": null,
   "id": "26571466",
   "metadata": {},
   "outputs": [],
   "source": [
    "name = \"sam\""
   ]
  },
  {
   "cell_type": "code",
   "execution_count": null,
   "id": "0fb9f622",
   "metadata": {},
   "outputs": [],
   "source": [
    "age = 3\n",
    "print(f\"{name} is {age} years old\")"
   ]
  },
  {
   "cell_type": "code",
   "execution_count": null,
   "id": "4461db89",
   "metadata": {},
   "outputs": [],
   "source": [
    "'i like %s' %'apples'"
   ]
  },
  {
   "cell_type": "code",
   "execution_count": null,
   "id": "9f9bc9eb",
   "metadata": {},
   "outputs": [],
   "source": [
    "##################\n",
    "# Lists\n",
    "# Lists are ordered sequences\n",
    "# [1,2,3,4,5]"
   ]
  },
  {
   "cell_type": "code",
   "execution_count": null,
   "id": "d999b772",
   "metadata": {},
   "outputs": [],
   "source": [
    "my_list = [1,2,3]"
   ]
  },
  {
   "cell_type": "code",
   "execution_count": null,
   "id": "747c0de2",
   "metadata": {},
   "outputs": [],
   "source": [
    "my_list"
   ]
  },
  {
   "cell_type": "code",
   "execution_count": null,
   "id": "cb1f9d85",
   "metadata": {},
   "outputs": [],
   "source": [
    "type(my_list)"
   ]
  },
  {
   "cell_type": "code",
   "execution_count": null,
   "id": "fb0a4fcc",
   "metadata": {},
   "outputs": [],
   "source": [
    "my_list=['string',12,23,23.2]"
   ]
  },
  {
   "cell_type": "code",
   "execution_count": null,
   "id": "9a0765f6",
   "metadata": {},
   "outputs": [],
   "source": [
    "my_list"
   ]
  },
  {
   "cell_type": "code",
   "execution_count": null,
   "id": "82ce73b7",
   "metadata": {},
   "outputs": [],
   "source": [
    "type(my_list)"
   ]
  },
  {
   "cell_type": "code",
   "execution_count": null,
   "id": "f5825d1c",
   "metadata": {},
   "outputs": [],
   "source": [
    "len(my_list)"
   ]
  },
  {
   "cell_type": "code",
   "execution_count": null,
   "id": "41154fe4",
   "metadata": {},
   "outputs": [],
   "source": [
    "mylist = ['one','two','three']"
   ]
  },
  {
   "cell_type": "code",
   "execution_count": null,
   "id": "418903c7",
   "metadata": {},
   "outputs": [],
   "source": [
    "mylist[0]"
   ]
  },
  {
   "cell_type": "code",
   "execution_count": null,
   "id": "82dc3c46",
   "metadata": {},
   "outputs": [],
   "source": [
    "mylist[1:]"
   ]
  },
  {
   "cell_type": "code",
   "execution_count": null,
   "id": "142a23f1",
   "metadata": {},
   "outputs": [],
   "source": [
    "# slicing and indexing work like strings"
   ]
  },
  {
   "cell_type": "code",
   "execution_count": null,
   "id": "36061cb5",
   "metadata": {},
   "outputs": [],
   "source": [
    "another_list = ['four','five']"
   ]
  },
  {
   "cell_type": "code",
   "execution_count": null,
   "id": "d457c941",
   "metadata": {},
   "outputs": [],
   "source": [
    "mylist + another_list"
   ]
  },
  {
   "cell_type": "code",
   "execution_count": null,
   "id": "cbdb0fb7",
   "metadata": {},
   "outputs": [],
   "source": [
    "new_list = mylist + another_list"
   ]
  },
  {
   "cell_type": "code",
   "execution_count": null,
   "id": "fea13139",
   "metadata": {},
   "outputs": [],
   "source": [
    "new_list"
   ]
  },
  {
   "cell_type": "code",
   "execution_count": null,
   "id": "1549629a",
   "metadata": {},
   "outputs": [],
   "source": [
    "new_list * 2"
   ]
  },
  {
   "cell_type": "code",
   "execution_count": null,
   "id": "2bde1fa1",
   "metadata": {},
   "outputs": [],
   "source": [
    "new_list[0] = 'ONE'"
   ]
  },
  {
   "cell_type": "markdown",
   "id": "af880da1",
   "metadata": {},
   "source": [
    "new_list"
   ]
  },
  {
   "cell_type": "code",
   "execution_count": null,
   "id": "17e4e082",
   "metadata": {},
   "outputs": [],
   "source": [
    "new_list"
   ]
  },
  {
   "cell_type": "code",
   "execution_count": null,
   "id": "b46b5385",
   "metadata": {},
   "outputs": [],
   "source": [
    "# add elements to the end of a list\n",
    "# use .append\n",
    "\n",
    "new_list.append('six')"
   ]
  },
  {
   "cell_type": "code",
   "execution_count": null,
   "id": "18bb3bb6",
   "metadata": {},
   "outputs": [],
   "source": [
    "new_list"
   ]
  },
  {
   "cell_type": "code",
   "execution_count": null,
   "id": "ee541130",
   "metadata": {},
   "outputs": [],
   "source": [
    "# remove items from a list\n",
    "# use .pop()\n",
    "\n",
    "new_list.pop()"
   ]
  },
  {
   "cell_type": "code",
   "execution_count": null,
   "id": "0a1f0462",
   "metadata": {},
   "outputs": [],
   "source": [
    "new_list"
   ]
  },
  {
   "cell_type": "code",
   "execution_count": null,
   "id": "3b958396",
   "metadata": {},
   "outputs": [],
   "source": [
    "popped_item = new_list.pop()"
   ]
  },
  {
   "cell_type": "code",
   "execution_count": null,
   "id": "32a1c72e",
   "metadata": {},
   "outputs": [],
   "source": [
    "popped_item"
   ]
  },
  {
   "cell_type": "code",
   "execution_count": null,
   "id": "817e432e",
   "metadata": {},
   "outputs": [],
   "source": [
    "new_list"
   ]
  },
  {
   "cell_type": "code",
   "execution_count": null,
   "id": "5f8a0772",
   "metadata": {},
   "outputs": [],
   "source": [
    "# removing an index position\n",
    "# by default, the index position is -1\n",
    "\n",
    "new_list.pop(0)"
   ]
  },
  {
   "cell_type": "code",
   "execution_count": null,
   "id": "3b18bab9",
   "metadata": {},
   "outputs": [],
   "source": [
    "new_list"
   ]
  },
  {
   "cell_type": "code",
   "execution_count": null,
   "id": "c304648e",
   "metadata": {},
   "outputs": [],
   "source": [
    "# sorting a list\n",
    "\n",
    "new_list = ['a','e','c','n','d']\n",
    "num_list = [3,2,5,1,6,4,2]"
   ]
  },
  {
   "cell_type": "code",
   "execution_count": null,
   "id": "957481ba",
   "metadata": {},
   "outputs": [],
   "source": [
    "new_list.sort()"
   ]
  },
  {
   "cell_type": "code",
   "execution_count": null,
   "id": "ac1f1bc7",
   "metadata": {},
   "outputs": [],
   "source": [
    "new_list"
   ]
  },
  {
   "cell_type": "code",
   "execution_count": null,
   "id": "66859840",
   "metadata": {},
   "outputs": [],
   "source": [
    "num_list.sort()"
   ]
  },
  {
   "cell_type": "code",
   "execution_count": null,
   "id": "c62ddf8d",
   "metadata": {},
   "outputs": [],
   "source": [
    "num_list"
   ]
  },
  {
   "cell_type": "code",
   "execution_count": null,
   "id": "27aee30e",
   "metadata": {},
   "outputs": [],
   "source": [
    "# reverse method\n",
    "# .reverse()"
   ]
  },
  {
   "cell_type": "code",
   "execution_count": null,
   "id": "031cba44",
   "metadata": {},
   "outputs": [],
   "source": [
    "num_list.reverse()"
   ]
  },
  {
   "cell_type": "code",
   "execution_count": null,
   "id": "f93a96a1",
   "metadata": {},
   "outputs": [],
   "source": [
    "num_list"
   ]
  },
  {
   "cell_type": "code",
   "execution_count": null,
   "id": "41e925e5",
   "metadata": {},
   "outputs": [],
   "source": [
    "test_string = \"this is a test\""
   ]
  },
  {
   "cell_type": "code",
   "execution_count": null,
   "id": "f573556f",
   "metadata": {},
   "outputs": [],
   "source": [
    "new_list = []\n",
    "for i in test_string:\n",
    "    new_list.append(i)"
   ]
  },
  {
   "cell_type": "code",
   "execution_count": null,
   "id": "7678bb1f",
   "metadata": {},
   "outputs": [],
   "source": [
    "new_list"
   ]
  },
  {
   "cell_type": "code",
   "execution_count": null,
   "id": "d69ada8f",
   "metadata": {},
   "outputs": [],
   "source": [
    "new_list.reverse()"
   ]
  },
  {
   "cell_type": "code",
   "execution_count": null,
   "id": "f2288d96",
   "metadata": {},
   "outputs": [],
   "source": [
    "new_list"
   ]
  },
  {
   "cell_type": "code",
   "execution_count": null,
   "id": "205b3eba",
   "metadata": {},
   "outputs": [],
   "source": [
    "rev_string = ''\n",
    "for i in new_list:\n",
    "    rev_string += i"
   ]
  },
  {
   "cell_type": "code",
   "execution_count": null,
   "id": "80dd18a8",
   "metadata": {},
   "outputs": [],
   "source": [
    "rev_string"
   ]
  },
  {
   "cell_type": "code",
   "execution_count": null,
   "id": "81ef8ad1",
   "metadata": {},
   "outputs": [],
   "source": [
    "test_string"
   ]
  },
  {
   "cell_type": "code",
   "execution_count": null,
   "id": "3c154380",
   "metadata": {},
   "outputs": [],
   "source": [
    "# a simple way to reverse a string while keeping it a string\n",
    "\n",
    "new_string2 = ''\n",
    "i = 0\n",
    "x = len(test_string)\n",
    "while abs(i) < x:\n",
    "    i -= 1\n",
    "    new_string2 += test_string[i]\n",
    "print(f\"Forward: {test_string}\\nReverse: {new_string2}\")"
   ]
  },
  {
   "cell_type": "code",
   "execution_count": null,
   "id": "8391980a",
   "metadata": {},
   "outputs": [],
   "source": [
    "# How do I index a nested list?\n",
    "# print the '2' from the following list:\n",
    "test_list = [1,1,[1,2]]\n",
    "\n",
    "print(test_list[2][1])"
   ]
  },
  {
   "cell_type": "code",
   "execution_count": null,
   "id": "c82f9da2",
   "metadata": {},
   "outputs": [],
   "source": [
    "################\n",
    "# Dictionaries #\n",
    "################"
   ]
  },
  {
   "cell_type": "code",
   "execution_count": null,
   "id": "b32a77da",
   "metadata": {},
   "outputs": [],
   "source": [
    "# Dictionaries are unordered mappings for storing objects.\n",
    "# They use key:value pairs to quickly grab objects without needing to know an index location"
   ]
  },
  {
   "cell_type": "code",
   "execution_count": null,
   "id": "7cc7c835",
   "metadata": {},
   "outputs": [],
   "source": [
    "# Dictionary syntax looks like this:\n",
    "# {'key1':'value1','key2':'value2'}"
   ]
  },
  {
   "cell_type": "code",
   "execution_count": null,
   "id": "4aae941d",
   "metadata": {},
   "outputs": [],
   "source": [
    "# when to chose a list? use this when you need to order, index, and slice items\n",
    "# when to chose a dictionary? use this when for unordered items that can't be sorted\n"
   ]
  },
  {
   "cell_type": "code",
   "execution_count": null,
   "id": "91df50cb",
   "metadata": {},
   "outputs": [],
   "source": [
    "# sample dictionary\n",
    "my_dict = {'key1':'value1','key2':'value2'}"
   ]
  },
  {
   "cell_type": "code",
   "execution_count": null,
   "id": "23012d97",
   "metadata": {},
   "outputs": [],
   "source": [
    "my_dict"
   ]
  },
  {
   "cell_type": "code",
   "execution_count": null,
   "id": "3df1b9a4",
   "metadata": {},
   "outputs": [],
   "source": [
    "# get a value\n",
    "my_dict['key1']"
   ]
  },
  {
   "cell_type": "code",
   "execution_count": null,
   "id": "ef7e676a",
   "metadata": {},
   "outputs": [],
   "source": [
    "# prices in a store\n",
    "# lookup prices\n",
    "\n",
    "prices_lookup = {'apple':2.99,'oranges':1.99,'milk':5.80}"
   ]
  },
  {
   "cell_type": "code",
   "execution_count": null,
   "id": "3caf6387",
   "metadata": {},
   "outputs": [],
   "source": [
    "prices_lookup['apple']"
   ]
  },
  {
   "cell_type": "code",
   "execution_count": null,
   "id": "0521faac",
   "metadata": {},
   "outputs": [],
   "source": [
    "x = 'apple'"
   ]
  },
  {
   "cell_type": "code",
   "execution_count": null,
   "id": "3dc911a5",
   "metadata": {},
   "outputs": [],
   "source": [
    "prices_lookup[x]"
   ]
  },
  {
   "cell_type": "code",
   "execution_count": null,
   "id": "34fac3ed",
   "metadata": {},
   "outputs": [],
   "source": [
    "d = {'k1':123,'k2':[0,1,2],'k3':{'insideKey':100}}"
   ]
  },
  {
   "cell_type": "code",
   "execution_count": null,
   "id": "410b8958",
   "metadata": {},
   "outputs": [],
   "source": [
    "d"
   ]
  },
  {
   "cell_type": "code",
   "execution_count": null,
   "id": "88e91616",
   "metadata": {},
   "outputs": [],
   "source": [
    "# try to grab the list inside the dictionary d\n",
    "d['k2']"
   ]
  },
  {
   "cell_type": "code",
   "execution_count": null,
   "id": "bc99ce38",
   "metadata": {},
   "outputs": [],
   "source": [
    "# try to grab the '1' in that list\n",
    "d['k2'][1]"
   ]
  },
  {
   "cell_type": "code",
   "execution_count": null,
   "id": "81b1fd31",
   "metadata": {},
   "outputs": [],
   "source": [
    "# grab the value 100 inside the inner dictionary\n",
    "d['k3']['insideKey']"
   ]
  },
  {
   "cell_type": "code",
   "execution_count": null,
   "id": "dabc05c8",
   "metadata": {},
   "outputs": [],
   "source": [
    "# you have to stack the calls to get to a list or dictionary inside of a dictionary\n"
   ]
  },
  {
   "cell_type": "code",
   "execution_count": null,
   "id": "6d400132",
   "metadata": {},
   "outputs": [],
   "source": [
    "# grab the number '2' in the list\n",
    "d['k2'][2]"
   ]
  },
  {
   "cell_type": "code",
   "execution_count": null,
   "id": "d1ccf401",
   "metadata": {},
   "outputs": [],
   "source": [
    "d2 = {'key1':['God','Guns','Guts']}"
   ]
  },
  {
   "cell_type": "code",
   "execution_count": null,
   "id": "da76e11f",
   "metadata": {},
   "outputs": [],
   "source": [
    "d2['key1'][0]"
   ]
  },
  {
   "cell_type": "code",
   "execution_count": null,
   "id": "b3db018e",
   "metadata": {},
   "outputs": [],
   "source": [
    "x = 0\n",
    "while x<3:\n",
    "    print(d2['key1'][x])\n",
    "    x+=1"
   ]
  },
  {
   "cell_type": "code",
   "execution_count": null,
   "id": "fdf38857",
   "metadata": {},
   "outputs": [],
   "source": [
    "# make 'Guts' all uppercase\n",
    "d2['key1'][2].upper()"
   ]
  },
  {
   "cell_type": "code",
   "execution_count": null,
   "id": "24b0dfda",
   "metadata": {},
   "outputs": [],
   "source": [
    "# that's the same thing as doing all of these calls\n",
    "mylist = d2['key1']\n",
    "letters = mylist[2]\n",
    "letters.upper()"
   ]
  },
  {
   "cell_type": "code",
   "execution_count": null,
   "id": "a415c1eb",
   "metadata": {},
   "outputs": [],
   "source": [
    "# how to add new key:value pairs to an existing dictionary\n",
    "d = {'k1':100,'k2':200}"
   ]
  },
  {
   "cell_type": "code",
   "execution_count": null,
   "id": "94caf1a3",
   "metadata": {},
   "outputs": [],
   "source": [
    "# now add in an additional key:value pair\n",
    "d['k3'] = 300"
   ]
  },
  {
   "cell_type": "code",
   "execution_count": null,
   "id": "08daf7a3",
   "metadata": {},
   "outputs": [],
   "source": [
    "d"
   ]
  },
  {
   "cell_type": "code",
   "execution_count": null,
   "id": "b8a265e3",
   "metadata": {},
   "outputs": [],
   "source": [
    "# overwrite an existing key:value\n",
    "d['k1'] = \"I changed it\""
   ]
  },
  {
   "cell_type": "code",
   "execution_count": null,
   "id": "4260e503",
   "metadata": {},
   "outputs": [],
   "source": [
    "d"
   ]
  },
  {
   "cell_type": "code",
   "execution_count": null,
   "id": "4a79df7c",
   "metadata": {},
   "outputs": [],
   "source": [
    "# grab all the keys\n",
    "d = {'k1': 100, 'k2': 200, 'k3': 300}"
   ]
  },
  {
   "cell_type": "code",
   "execution_count": null,
   "id": "8d2f76f3",
   "metadata": {},
   "outputs": [],
   "source": [
    "d.keys"
   ]
  },
  {
   "cell_type": "code",
   "execution_count": null,
   "id": "ee795ca7",
   "metadata": {},
   "outputs": [],
   "source": [
    "d.keys()"
   ]
  },
  {
   "cell_type": "code",
   "execution_count": null,
   "id": "63778b1d",
   "metadata": {},
   "outputs": [],
   "source": [
    "d.values()"
   ]
  },
  {
   "cell_type": "code",
   "execution_count": null,
   "id": "714f7711",
   "metadata": {},
   "outputs": [],
   "source": [
    "d.items()"
   ]
  },
  {
   "cell_type": "code",
   "execution_count": null,
   "id": "0cf604dc",
   "metadata": {},
   "outputs": [],
   "source": [
    "type(d.items())"
   ]
  },
  {
   "cell_type": "code",
   "execution_count": null,
   "id": "19b4fed6",
   "metadata": {},
   "outputs": [],
   "source": [
    "x = d.items()"
   ]
  },
  {
   "cell_type": "code",
   "execution_count": null,
   "id": "af787045",
   "metadata": {},
   "outputs": [],
   "source": [
    "type(x)"
   ]
  },
  {
   "cell_type": "code",
   "execution_count": null,
   "id": "24a1e7f2",
   "metadata": {},
   "outputs": [],
   "source": [
    "x"
   ]
  },
  {
   "cell_type": "code",
   "execution_count": null,
   "id": "b348292d",
   "metadata": {},
   "outputs": [],
   "source": [
    "x(1)"
   ]
  },
  {
   "cell_type": "code",
   "execution_count": null,
   "id": "c30cd3a4",
   "metadata": {},
   "outputs": [],
   "source": [
    "x[1]"
   ]
  },
  {
   "cell_type": "code",
   "execution_count": null,
   "id": "f1e5d9a3",
   "metadata": {},
   "outputs": [],
   "source": [
    "type(x())"
   ]
  },
  {
   "cell_type": "code",
   "execution_count": null,
   "id": "e8e3285a",
   "metadata": {},
   "outputs": [],
   "source": [
    "x"
   ]
  },
  {
   "cell_type": "code",
   "execution_count": null,
   "id": "2abfc6bb",
   "metadata": {},
   "outputs": [],
   "source": [
    "d.items()"
   ]
  },
  {
   "cell_type": "code",
   "execution_count": null,
   "id": "ec50e28d",
   "metadata": {},
   "outputs": [],
   "source": [
    "# this returns the key:value pairs as a tuple"
   ]
  },
  {
   "cell_type": "code",
   "execution_count": null,
   "id": "7284b499",
   "metadata": {},
   "outputs": [],
   "source": [
    "x[0][0]"
   ]
  },
  {
   "cell_type": "code",
   "execution_count": null,
   "id": "903318d9",
   "metadata": {},
   "outputs": [],
   "source": [
    "x{0}"
   ]
  },
  {
   "cell_type": "code",
   "execution_count": null,
   "id": "920094bc",
   "metadata": {},
   "outputs": [],
   "source": [
    "x['k1']"
   ]
  },
  {
   "cell_type": "code",
   "execution_count": null,
   "id": "01f324db",
   "metadata": {},
   "outputs": [],
   "source": [
    "# how do I use this?\n",
    "x"
   ]
  },
  {
   "cell_type": "code",
   "execution_count": null,
   "id": "b0de22ad",
   "metadata": {},
   "outputs": [],
   "source": [
    "########################\n",
    "# Tuples\n",
    "########################"
   ]
  },
  {
   "cell_type": "code",
   "execution_count": null,
   "id": "fd1ae4c4",
   "metadata": {},
   "outputs": [],
   "source": [
    "# very similar to lists, but they are IMMUTABLE\n",
    "# once an element is inside a tuple, it can't be reassigned\n",
    "# tuples use parentheses: (1,2,3)"
   ]
  },
  {
   "cell_type": "code",
   "execution_count": 49,
   "id": "d09d3366",
   "metadata": {},
   "outputs": [],
   "source": [
    "t = (1,2,3)"
   ]
  },
  {
   "cell_type": "code",
   "execution_count": 50,
   "id": "42853d7a",
   "metadata": {},
   "outputs": [],
   "source": [
    "mylist = [1,2,3]"
   ]
  },
  {
   "cell_type": "code",
   "execution_count": 51,
   "id": "f72899d0",
   "metadata": {},
   "outputs": [
    {
     "data": {
      "text/plain": [
       "tuple"
      ]
     },
     "execution_count": 51,
     "metadata": {},
     "output_type": "execute_result"
    }
   ],
   "source": [
    "type(t)"
   ]
  },
  {
   "cell_type": "code",
   "execution_count": 52,
   "id": "171e5bc8",
   "metadata": {},
   "outputs": [
    {
     "data": {
      "text/plain": [
       "list"
      ]
     },
     "execution_count": 52,
     "metadata": {},
     "output_type": "execute_result"
    }
   ],
   "source": [
    "type(mylist)"
   ]
  },
  {
   "cell_type": "code",
   "execution_count": null,
   "id": "873f4582",
   "metadata": {},
   "outputs": [],
   "source": [
    "len(t)"
   ]
  },
  {
   "cell_type": "code",
   "execution_count": null,
   "id": "f7535a8d",
   "metadata": {},
   "outputs": [],
   "source": [
    "len(mylist)"
   ]
  },
  {
   "cell_type": "code",
   "execution_count": null,
   "id": "e5e7d4d0",
   "metadata": {},
   "outputs": [],
   "source": [
    "t = ('one',2,3)"
   ]
  },
  {
   "cell_type": "code",
   "execution_count": null,
   "id": "3fb62584",
   "metadata": {},
   "outputs": [],
   "source": [
    "t[0]"
   ]
  },
  {
   "cell_type": "code",
   "execution_count": null,
   "id": "d085a773",
   "metadata": {},
   "outputs": [],
   "source": [
    "t[-1]"
   ]
  },
  {
   "cell_type": "code",
   "execution_count": null,
   "id": "3a8f5855",
   "metadata": {},
   "outputs": [],
   "source": [
    "# indexing works on tuples just like lists"
   ]
  },
  {
   "cell_type": "code",
   "execution_count": null,
   "id": "a56cfad7",
   "metadata": {},
   "outputs": [],
   "source": [
    "t = ('a','a','b')"
   ]
  },
  {
   "cell_type": "code",
   "execution_count": null,
   "id": "4544f74f",
   "metadata": {},
   "outputs": [],
   "source": [
    "# count how many times an item shows up in a tuple"
   ]
  },
  {
   "cell_type": "code",
   "execution_count": null,
   "id": "6bd6a7ab",
   "metadata": {},
   "outputs": [],
   "source": [
    "t.count('a')"
   ]
  },
  {
   "cell_type": "code",
   "execution_count": null,
   "id": "eacb2489",
   "metadata": {},
   "outputs": [],
   "source": [
    "x = t.count('a')"
   ]
  },
  {
   "cell_type": "code",
   "execution_count": null,
   "id": "890b3029",
   "metadata": {},
   "outputs": [],
   "source": [
    "x"
   ]
  },
  {
   "cell_type": "code",
   "execution_count": null,
   "id": "fdc1ea62",
   "metadata": {},
   "outputs": [],
   "source": [
    "t.index('a')"
   ]
  },
  {
   "cell_type": "code",
   "execution_count": null,
   "id": "96f34c2e",
   "metadata": {},
   "outputs": [],
   "source": [
    "# t.index('a') returns the first index position that a value shows up\n"
   ]
  },
  {
   "cell_type": "code",
   "execution_count": null,
   "id": "d7489dc8",
   "metadata": {},
   "outputs": [],
   "source": [
    "t"
   ]
  },
  {
   "cell_type": "code",
   "execution_count": null,
   "id": "df187a01",
   "metadata": {},
   "outputs": [],
   "source": [
    "mylist"
   ]
  },
  {
   "cell_type": "code",
   "execution_count": null,
   "id": "5e74ccee",
   "metadata": {},
   "outputs": [],
   "source": [
    "mylist[0] = 'new'"
   ]
  },
  {
   "cell_type": "code",
   "execution_count": null,
   "id": "a3e55c99",
   "metadata": {},
   "outputs": [],
   "source": [
    "mystli"
   ]
  },
  {
   "cell_type": "code",
   "execution_count": null,
   "id": "0d8b64e3",
   "metadata": {},
   "outputs": [],
   "source": [
    "mylist"
   ]
  },
  {
   "cell_type": "code",
   "execution_count": null,
   "id": "1c02d565",
   "metadata": {},
   "outputs": [],
   "source": [
    "t[0] = 'new'"
   ]
  },
  {
   "cell_type": "code",
   "execution_count": null,
   "id": "3b1c9a2f",
   "metadata": {},
   "outputs": [],
   "source": [
    "# tuples are a great source of data integrity\n",
    "# you can use them to pass around data values to make sure they don't get changed"
   ]
  },
  {
   "cell_type": "code",
   "execution_count": null,
   "id": "c14fcae2",
   "metadata": {},
   "outputs": [],
   "source": [
    "# tuples don't have a lot of methods associated with them"
   ]
  },
  {
   "cell_type": "code",
   "execution_count": null,
   "id": "64e1f8a3",
   "metadata": {},
   "outputs": [],
   "source": [
    "###########################\n",
    "# Sets\n",
    "###########################\n",
    "# Sets are unordered collections of UNIQUE elements.\n",
    "# You can never have more than one representative of the same object in a set"
   ]
  },
  {
   "cell_type": "code",
   "execution_count": null,
   "id": "36b6ea86",
   "metadata": {},
   "outputs": [],
   "source": [
    "myset = set()"
   ]
  },
  {
   "cell_type": "code",
   "execution_count": null,
   "id": "366fc69f",
   "metadata": {},
   "outputs": [],
   "source": [
    "myset"
   ]
  },
  {
   "cell_type": "code",
   "execution_count": null,
   "id": "2731d5b8",
   "metadata": {},
   "outputs": [],
   "source": [
    "type(myset)"
   ]
  },
  {
   "cell_type": "code",
   "execution_count": null,
   "id": "f11369f8",
   "metadata": {},
   "outputs": [],
   "source": [
    "myset.add(1)"
   ]
  },
  {
   "cell_type": "code",
   "execution_count": null,
   "id": "5e3c3180",
   "metadata": {},
   "outputs": [],
   "source": [
    "myset"
   ]
  },
  {
   "cell_type": "code",
   "execution_count": null,
   "id": "d7abbd37",
   "metadata": {},
   "outputs": [],
   "source": [
    "len(myset)"
   ]
  },
  {
   "cell_type": "code",
   "execution_count": null,
   "id": "1512b543",
   "metadata": {},
   "outputs": [],
   "source": [
    "# It looks like a dictionary because it has curly braces, but it's not because it doesn't have key:value pairs"
   ]
  },
  {
   "cell_type": "code",
   "execution_count": null,
   "id": "562c51fb",
   "metadata": {},
   "outputs": [],
   "source": [
    "myset.add(2)"
   ]
  },
  {
   "cell_type": "code",
   "execution_count": null,
   "id": "a65019e5",
   "metadata": {},
   "outputs": [],
   "source": [
    "myset"
   ]
  },
  {
   "cell_type": "code",
   "execution_count": null,
   "id": "40359267",
   "metadata": {},
   "outputs": [],
   "source": [
    "myset.add(2)"
   ]
  },
  {
   "cell_type": "code",
   "execution_count": null,
   "id": "86a001cf",
   "metadata": {},
   "outputs": [],
   "source": [
    "myset"
   ]
  },
  {
   "cell_type": "code",
   "execution_count": null,
   "id": "d7ee8da7",
   "metadata": {},
   "outputs": [],
   "source": [
    "# See? If you try to add a duplicate value, it disregards it"
   ]
  },
  {
   "cell_type": "code",
   "execution_count": null,
   "id": "c17e9c75",
   "metadata": {},
   "outputs": [],
   "source": [
    "# you can cast a list to a set and remove the duplicates"
   ]
  },
  {
   "cell_type": "code",
   "execution_count": null,
   "id": "494afa5f",
   "metadata": {},
   "outputs": [],
   "source": [
    "mylist = [1,1,1,1,2,2,2,2,3,3,3,3]"
   ]
  },
  {
   "cell_type": "code",
   "execution_count": null,
   "id": "eafd526e",
   "metadata": {},
   "outputs": [],
   "source": [
    "mylist"
   ]
  },
  {
   "cell_type": "code",
   "execution_count": null,
   "id": "79b6819a",
   "metadata": {},
   "outputs": [],
   "source": [
    "# cast the list as a set\n",
    "set(mylist)"
   ]
  },
  {
   "cell_type": "code",
   "execution_count": null,
   "id": "c660ad19",
   "metadata": {},
   "outputs": [],
   "source": [
    "mylist2 = [3,2,1,5,4,3,1,2,3,4,4,4]"
   ]
  },
  {
   "cell_type": "code",
   "execution_count": null,
   "id": "de970d8b",
   "metadata": {},
   "outputs": [],
   "source": [
    "set(mylist2)"
   ]
  },
  {
   "cell_type": "code",
   "execution_count": null,
   "id": "a3781120",
   "metadata": {},
   "outputs": [],
   "source": [
    "mylist2"
   ]
  },
  {
   "cell_type": "code",
   "execution_count": null,
   "id": "755d11d0",
   "metadata": {},
   "outputs": [],
   "source": [
    "mylist.sort()"
   ]
  },
  {
   "cell_type": "code",
   "execution_count": null,
   "id": "fb7658de",
   "metadata": {},
   "outputs": [],
   "source": [
    "mylist"
   ]
  },
  {
   "cell_type": "code",
   "execution_count": null,
   "id": "e73728f6",
   "metadata": {},
   "outputs": [],
   "source": [
    "mylist2.sort()"
   ]
  },
  {
   "cell_type": "code",
   "execution_count": null,
   "id": "8cf3085f",
   "metadata": {},
   "outputs": [],
   "source": [
    "mylist2"
   ]
  },
  {
   "cell_type": "code",
   "execution_count": null,
   "id": "f6a08da4",
   "metadata": {},
   "outputs": [],
   "source": [
    "set(mylist2)"
   ]
  },
  {
   "cell_type": "code",
   "execution_count": null,
   "id": "b7898789",
   "metadata": {},
   "outputs": [],
   "source": [
    "mylist2.sort()"
   ]
  },
  {
   "cell_type": "code",
   "execution_count": null,
   "id": "c8055506",
   "metadata": {},
   "outputs": [],
   "source": [
    "set('Four score and seven years ago')"
   ]
  },
  {
   "cell_type": "code",
   "execution_count": null,
   "id": "c5420d31",
   "metadata": {},
   "outputs": [],
   "source": [
    "###################\n",
    "# Booleans\n",
    "###################"
   ]
  },
  {
   "cell_type": "code",
   "execution_count": null,
   "id": "5e95e433",
   "metadata": {},
   "outputs": [],
   "source": [
    "# Operators that convey True of False statements"
   ]
  },
  {
   "cell_type": "code",
   "execution_count": null,
   "id": "ac21aa7f",
   "metadata": {},
   "outputs": [],
   "source": [
    "type(true)"
   ]
  },
  {
   "cell_type": "code",
   "execution_count": null,
   "id": "4cde069c",
   "metadata": {},
   "outputs": [],
   "source": [
    "type(True)"
   ]
  },
  {
   "cell_type": "code",
   "execution_count": null,
   "id": "f2f7d290",
   "metadata": {},
   "outputs": [],
   "source": [
    "1 > 2\n"
   ]
  },
  {
   "cell_type": "markdown",
   "id": "d6528267",
   "metadata": {},
   "source": [
    "3 > 4"
   ]
  },
  {
   "cell_type": "code",
   "execution_count": null,
   "id": "011cbe59",
   "metadata": {},
   "outputs": [],
   "source": [
    "3 > 4"
   ]
  },
  {
   "cell_type": "code",
   "execution_count": null,
   "id": "ed358e01",
   "metadata": {},
   "outputs": [],
   "source": [
    "1 == 2"
   ]
  },
  {
   "cell_type": "code",
   "execution_count": null,
   "id": "7a5c2730",
   "metadata": {},
   "outputs": [],
   "source": [
    "# none is a placeholder word\n",
    "# stops an error when early in the code writing"
   ]
  },
  {
   "cell_type": "code",
   "execution_count": null,
   "id": "4897e3e9",
   "metadata": {},
   "outputs": [],
   "source": [
    "#########################\n",
    "# I/O with Basic Files in Python\n",
    "#########################"
   ]
  },
  {
   "cell_type": "code",
   "execution_count": null,
   "id": "8629f3b8",
   "metadata": {},
   "outputs": [],
   "source": [
    "# creating a text file with Jupyter notebook \"magic functionality\""
   ]
  },
  {
   "cell_type": "code",
   "execution_count": null,
   "id": "a790a27b",
   "metadata": {},
   "outputs": [],
   "source": [
    "%%writefile myfile.txt\n",
    "Hello this is a text file\n",
    "this is the second line\n",
    "this is the third line"
   ]
  },
  {
   "cell_type": "code",
   "execution_count": null,
   "id": "4af50b8e",
   "metadata": {},
   "outputs": [],
   "source": [
    "myfile = open('myfile.txt')"
   ]
  },
  {
   "cell_type": "code",
   "execution_count": null,
   "id": "9bead21f",
   "metadata": {},
   "outputs": [],
   "source": [
    "myfile"
   ]
  },
  {
   "cell_type": "code",
   "execution_count": null,
   "id": "7adac89b",
   "metadata": {},
   "outputs": [],
   "source": [
    "myfile = open('theresnofile.txt')"
   ]
  },
  {
   "cell_type": "code",
   "execution_count": null,
   "id": "d410ea8e",
   "metadata": {},
   "outputs": [],
   "source": [
    "# provide the correct file path\n",
    "pwd"
   ]
  },
  {
   "cell_type": "code",
   "execution_count": null,
   "id": "febcc138",
   "metadata": {},
   "outputs": [],
   "source": [
    "pwd"
   ]
  },
  {
   "cell_type": "code",
   "execution_count": null,
   "id": "6c6f2b09",
   "metadata": {},
   "outputs": [],
   "source": [
    "print(myfile)"
   ]
  },
  {
   "cell_type": "code",
   "execution_count": null,
   "id": "2d872a50",
   "metadata": {},
   "outputs": [],
   "source": [
    "myfile.read()"
   ]
  },
  {
   "cell_type": "code",
   "execution_count": null,
   "id": "4e21a7a7",
   "metadata": {},
   "outputs": [],
   "source": [
    "# \\n indicates a new line"
   ]
  },
  {
   "cell_type": "code",
   "execution_count": null,
   "id": "63d96203",
   "metadata": {},
   "outputs": [],
   "source": [
    "myfile.read()"
   ]
  },
  {
   "cell_type": "code",
   "execution_count": null,
   "id": "a35e7a5a",
   "metadata": {},
   "outputs": [],
   "source": [
    "# imagine there's a cursor at the beginning of the file\n",
    "# when you .read() it, the cursor goes to the end of the file\n",
    "# if you want to read it again, set the .seek(0)\n"
   ]
  },
  {
   "cell_type": "code",
   "execution_count": null,
   "id": "b903cc43",
   "metadata": {},
   "outputs": [],
   "source": [
    "myfile.seek(0)"
   ]
  },
  {
   "cell_type": "code",
   "execution_count": null,
   "id": "354bbaab",
   "metadata": {},
   "outputs": [],
   "source": [
    "myfile.read()"
   ]
  },
  {
   "cell_type": "code",
   "execution_count": null,
   "id": "674924c1",
   "metadata": {},
   "outputs": [],
   "source": [
    "myfile.read()"
   ]
  },
  {
   "cell_type": "code",
   "execution_count": null,
   "id": "466fff55",
   "metadata": {},
   "outputs": [],
   "source": [
    "myfile.seek(10)"
   ]
  },
  {
   "cell_type": "code",
   "execution_count": null,
   "id": "a4b76219",
   "metadata": {},
   "outputs": [],
   "source": [
    "myfile.read()"
   ]
  },
  {
   "cell_type": "code",
   "execution_count": null,
   "id": "31edd354",
   "metadata": {},
   "outputs": [],
   "source": [
    "myfile.read(-1)"
   ]
  },
  {
   "cell_type": "code",
   "execution_count": null,
   "id": "63c13f32",
   "metadata": {},
   "outputs": [],
   "source": [
    "myfile.seek(0)"
   ]
  },
  {
   "cell_type": "code",
   "execution_count": null,
   "id": "1d9d41f8",
   "metadata": {},
   "outputs": [],
   "source": [
    "myfile.readlines()"
   ]
  },
  {
   "cell_type": "code",
   "execution_count": null,
   "id": "e3b8b6cd",
   "metadata": {},
   "outputs": [],
   "source": [
    "# this makes a list you can loop through or index"
   ]
  },
  {
   "cell_type": "code",
   "execution_count": null,
   "id": "baf4f8cd",
   "metadata": {},
   "outputs": [],
   "source": [
    "# .read() returns a string\n",
    "# .readlines() returns a list"
   ]
  },
  {
   "cell_type": "code",
   "execution_count": null,
   "id": "1bef2f62",
   "metadata": {},
   "outputs": [],
   "source": [
    "# File Locations\n",
    "# provide the full file path\n",
    "# for windows\n",
    "# myfile = open(\"C:\\\\Users\\\\UserName\\\\Folder\\\\test.txt\")\n",
    "# uses double backslashes to differentiate the file path from escape characters\n",
    "\n",
    "# for mac and linux\n",
    "# myfile = open(\"/Users/YouUserName/Folder/myfile.txt\")\n",
    "\n",
    "# use pwd to get the current directory"
   ]
  },
  {
   "cell_type": "code",
   "execution_count": null,
   "id": "4483fec9",
   "metadata": {},
   "outputs": [],
   "source": [
    "pwd"
   ]
  },
  {
   "cell_type": "code",
   "execution_count": null,
   "id": "2d4c66c4",
   "metadata": {},
   "outputs": [],
   "source": [
    "# Best practices\n",
    "# REMEMBER TO CLOSE THE FILE"
   ]
  },
  {
   "cell_type": "code",
   "execution_count": null,
   "id": "21180754",
   "metadata": {},
   "outputs": [],
   "source": [
    "myfile.close()"
   ]
  },
  {
   "cell_type": "code",
   "execution_count": null,
   "id": "af2484fa",
   "metadata": {},
   "outputs": [],
   "source": [
    "# avoid errors with the 'with' statement"
   ]
  },
  {
   "cell_type": "code",
   "execution_count": null,
   "id": "1af4a314",
   "metadata": {},
   "outputs": [],
   "source": [
    "with open('myfile.txt') as my_new_file:\n",
    "    contents = my_new_file.read()"
   ]
  },
  {
   "cell_type": "code",
   "execution_count": null,
   "id": "30ce70fc",
   "metadata": {},
   "outputs": [],
   "source": [
    "contents"
   ]
  },
  {
   "cell_type": "code",
   "execution_count": null,
   "id": "2c3d598e",
   "metadata": {},
   "outputs": [],
   "source": [
    "# put the cursor below between (  and  '  Then hit shift-tab to popup information about the function"
   ]
  },
  {
   "cell_type": "code",
   "execution_count": null,
   "id": "f522c671",
   "metadata": {},
   "outputs": [],
   "source": [
    "with open('myfile.txt',mode='w') as myfile:\n",
    "    contents = myfile.read()"
   ]
  },
  {
   "cell_type": "code",
   "execution_count": null,
   "id": "d687c7da",
   "metadata": {},
   "outputs": [],
   "source": [
    "# the error happens because you gave permission to 'w' write to the file, not .read() it"
   ]
  },
  {
   "cell_type": "code",
   "execution_count": null,
   "id": "f1bc56ac",
   "metadata": {},
   "outputs": [],
   "source": [
    "# use r, w, a (for append)\n",
    "# mode='r+' means reading and writing\n",
    "# mode='w+' is writing and reading (Overwrites existing files or creates a new file)\n",
    "with open('myfile.txt',mode='r') as myfile:\n",
    "    contents = myfile.read()"
   ]
  },
  {
   "cell_type": "code",
   "execution_count": null,
   "id": "e6ca1583",
   "metadata": {},
   "outputs": [],
   "source": [
    "contents"
   ]
  },
  {
   "cell_type": "code",
   "execution_count": 2,
   "id": "e8902295",
   "metadata": {},
   "outputs": [],
   "source": [
    "# create a new file and play around"
   ]
  },
  {
   "cell_type": "code",
   "execution_count": 3,
   "id": "0028c070",
   "metadata": {},
   "outputs": [
    {
     "name": "stdout",
     "output_type": "stream",
     "text": [
      "Overwriting my_new_file.txt\n"
     ]
    }
   ],
   "source": [
    "%%writefile my_new_file.txt\n",
    "ONE ON FIRST\n",
    "TWO ON SECOND\n",
    "THREE ON THIRD"
   ]
  },
  {
   "cell_type": "code",
   "execution_count": 5,
   "id": "576afe1a",
   "metadata": {},
   "outputs": [
    {
     "name": "stdout",
     "output_type": "stream",
     "text": [
      "ONE ON FIRST\n",
      "TWO ON SECOND\n",
      "THREE ON THIRD\n",
      "\n"
     ]
    }
   ],
   "source": [
    "with open('my_new_file.txt',mode='r') as f:\n",
    "          print(f.read())"
   ]
  },
  {
   "cell_type": "code",
   "execution_count": 6,
   "id": "78151874",
   "metadata": {},
   "outputs": [],
   "source": [
    "with open('my_new_file.txt',mode='a') as f:\n",
    "    f.write('FOUR ON FOURTH')"
   ]
  },
  {
   "cell_type": "code",
   "execution_count": 7,
   "id": "03ef30f5",
   "metadata": {},
   "outputs": [
    {
     "name": "stdout",
     "output_type": "stream",
     "text": [
      "ONE ON FIRST\n",
      "TWO ON SECOND\n",
      "THREE ON THIRD\n",
      "FOUR ON FOURTH\n"
     ]
    }
   ],
   "source": [
    "with open('my_new_file.txt',mode='r') as f:\n",
    "          print(f.read())"
   ]
  },
  {
   "cell_type": "code",
   "execution_count": 8,
   "id": "d39fe0aa",
   "metadata": {},
   "outputs": [],
   "source": [
    "# you can also use escape characters with append"
   ]
  },
  {
   "cell_type": "code",
   "execution_count": 10,
   "id": "079893b9",
   "metadata": {},
   "outputs": [],
   "source": [
    "with open('my_new_file.txt',mode='a') as f:\n",
    "          f.write('\\nFIVE ON FIFTH')"
   ]
  },
  {
   "cell_type": "code",
   "execution_count": 11,
   "id": "51bc540f",
   "metadata": {},
   "outputs": [
    {
     "name": "stdout",
     "output_type": "stream",
     "text": [
      "ONE ON FIRST\n",
      "TWO ON SECOND\n",
      "THREE ON THIRD\n",
      "FOUR ON FOURTH\n",
      "FIVE ON FIFTH\n"
     ]
    }
   ],
   "source": [
    "with open('my_new_file.txt',mode='r') as f:\n",
    "          print(f.read())"
   ]
  },
  {
   "cell_type": "code",
   "execution_count": 12,
   "id": "7ce1ef7c",
   "metadata": {},
   "outputs": [],
   "source": [
    "# use mode='w' to create a file"
   ]
  },
  {
   "cell_type": "code",
   "execution_count": 13,
   "id": "fd4c0483",
   "metadata": {},
   "outputs": [],
   "source": [
    "with open('xyz.txt',mode='w') as f:\n",
    "    f.write('I CREATED THIS FILE')"
   ]
  },
  {
   "cell_type": "code",
   "execution_count": 14,
   "id": "eb8877fa",
   "metadata": {},
   "outputs": [
    {
     "name": "stdout",
     "output_type": "stream",
     "text": [
      "I CREATED THIS FILE\n"
     ]
    }
   ],
   "source": [
    "with open('xyz.txt',mode='r') as f:\n",
    "    print(f.read())"
   ]
  },
  {
   "cell_type": "code",
   "execution_count": 1,
   "id": "66546e29",
   "metadata": {},
   "outputs": [],
   "source": [
    "####################################################\n",
    "# Objects and Data Structures Assessment Test\n",
    "####################################################"
   ]
  },
  {
   "cell_type": "code",
   "execution_count": 2,
   "id": "d0807278",
   "metadata": {},
   "outputs": [],
   "source": [
    "# Write a brief description of all the following Object Types and Data Structures\n",
    "#\n",
    "# Numbers:\n",
    "# Only includes 0-9\n",
    "#\n",
    "# Strings:\n",
    "# Can be anything. Strings are iterable and indexable\n",
    "#\n",
    "# Lists:\n",
    "# Can be anything. Lists are mutable, iterable and indexable. Index positions can be reassigned. Uses [] for assignment.\n",
    "#\n",
    "# Tuples:\n",
    "# Can be anything. Tuples are immutable, iterable and indexable. Uses () for assignment.\n",
    "#\n",
    "# Dictionaries:\n",
    "# Can be anything. Dictionaries are mutable. Not indexable. Uses key:value pairs. Uses {} for assignment.\n",
    "\n"
   ]
  },
  {
   "cell_type": "code",
   "execution_count": 14,
   "id": "5db794bc",
   "metadata": {},
   "outputs": [
    {
     "name": "stdout",
     "output_type": "stream",
     "text": [
      "100.25\n",
      "44\n",
      "29\n",
      "34\n"
     ]
    }
   ],
   "source": [
    "# Numbers\n",
    "# Write an equation that uses multiplication, division, an exponent, addition, and subtraction that equal to 100.25\n",
    "#\n",
    "a = ((((2**5) /8) * 25 + 1) - 0.75)\n",
    "print(a)\n",
    "\n",
    "# Answer these 3 questions without typing code. then code to check your answer.\n",
    "#\n",
    "# What is the value of the expression 4 * (6 + 5)?\n",
    "# The value is 44\n",
    "b = 4 * (6 + 5)\n",
    "print(b)\n",
    "\n",
    "# What is the value of the expression 4 * 6 + 5?\n",
    "# The value is 29\n",
    "c = 4 * 6 + 5\n",
    "print(c)\n",
    "\n",
    "# What is the value of the expression 4 + 6 * 5?\n",
    "# The value is 34\n",
    "d = 4 + 6 * 5\n",
    "print(d)"
   ]
  },
  {
   "cell_type": "code",
   "execution_count": 15,
   "id": "483972fc",
   "metadata": {},
   "outputs": [
    {
     "name": "stdout",
     "output_type": "stream",
     "text": [
      "<class 'float'>\n"
     ]
    }
   ],
   "source": [
    "# What is the type of the result of the expression 3 + 1.5 + 4?\n",
    "# The type is float.\n",
    "e = 3 + 1.5 + 4\n",
    "print(type(e))"
   ]
  },
  {
   "cell_type": "code",
   "execution_count": 16,
   "id": "7c31ed8c",
   "metadata": {},
   "outputs": [],
   "source": [
    "# What would you use to find a number's square root, as well as its square?\n",
    "# The square of a number is x**2\n",
    "# the square root of a number is (we didn't go over that. Use math.sqrt())"
   ]
  },
  {
   "cell_type": "code",
   "execution_count": 25,
   "id": "f146ea44",
   "metadata": {},
   "outputs": [
    {
     "name": "stdout",
     "output_type": "stream",
     "text": [
      "e\n",
      "olleh\n",
      "Method 1: o\n",
      "Method 2: o\n"
     ]
    }
   ],
   "source": [
    "# Strings\n",
    "#\n",
    "# Given the string 'hello' give an index command that returns 'e'.\n",
    "#\n",
    "s = 'hello'\n",
    "print(s[1])\n",
    "\n",
    "# Reverse the string 'hello' using slicing\n",
    "print(s[::-1])\n",
    "\n",
    "# Given the string hello, give two methods of producing the letter 'o' using indexing\n",
    "print(f'Method 1: {s[4]}')\n",
    "print(f'Method 2: {s[-1]}')"
   ]
  },
  {
   "cell_type": "code",
   "execution_count": 35,
   "id": "ad9bc38c",
   "metadata": {},
   "outputs": [
    {
     "name": "stdout",
     "output_type": "stream",
     "text": [
      "Method 1: [0, 0, 0]\n",
      "Method 2: [0, 0, 0]\n"
     ]
    }
   ],
   "source": [
    "# Lists\n",
    "#\n",
    "# Build this list[0,0,0] two separate ways\n",
    "#\n",
    "first = []\n",
    "first.append(0)\n",
    "first.append(0)\n",
    "first.append(0)\n",
    "print(f'Method 1: {first}')\n",
    "\n",
    "second = [0,0,0]\n",
    "print(f'Method 2: {second}')"
   ]
  },
  {
   "cell_type": "code",
   "execution_count": 37,
   "id": "7d3a85db",
   "metadata": {},
   "outputs": [
    {
     "data": {
      "text/plain": [
       "(list, list)"
      ]
     },
     "execution_count": 37,
     "metadata": {},
     "output_type": "execute_result"
    }
   ],
   "source": [
    "type(first), type(second)"
   ]
  },
  {
   "cell_type": "code",
   "execution_count": 38,
   "id": "9f389bb5",
   "metadata": {},
   "outputs": [
    {
     "name": "stdout",
     "output_type": "stream",
     "text": [
      "Before: [1, 2, [3, 4, 'hello']]\n",
      "After: [1, 2, [3, 4, 'goodbye']]\n"
     ]
    }
   ],
   "source": [
    "# Reassign 'hello' in this nested list to day 'goodbye' instead\n",
    "\n",
    "list3 = [1,2,[3,4,'hello']]\n",
    "print(f'Before: {list3}')\n",
    "\n",
    "list3[2][2] = 'goodbye'\n",
    "print(f'After: {list3}')"
   ]
  },
  {
   "cell_type": "code",
   "execution_count": 39,
   "id": "76bc6966",
   "metadata": {},
   "outputs": [
    {
     "name": "stdout",
     "output_type": "stream",
     "text": [
      "Unsorted: [5, 3, 4, 6, 1]\n",
      "Sorted: [1, 3, 4, 5, 6]\n"
     ]
    }
   ],
   "source": [
    "# Sort the list below\n",
    "\n",
    "list4 = [5,3,4,6,1]\n",
    "print(f'Unsorted: {list4}')\n",
    "list4.sort()\n",
    "print(f'Sorted: {list4}')"
   ]
  },
  {
   "cell_type": "code",
   "execution_count": 47,
   "id": "aae31894",
   "metadata": {},
   "outputs": [
    {
     "name": "stdout",
     "output_type": "stream",
     "text": [
      "hello\n",
      "hello\n",
      "hello\n",
      "hello\n"
     ]
    }
   ],
   "source": [
    "# Dictionaries\n",
    "# \n",
    "# Using keys and indexing, grab the 'hello' from the following dictionaries:\n",
    "#\n",
    "d1 = {'simple_key':'hello'}\n",
    "print(d1['simple_key'])\n",
    "\n",
    "d2 = {'k1':{'k2':'hello'}}\n",
    "print(d2['k1']['k2'])\n",
    "\n",
    "d3 = {'k1':[{'nest_key':['this is deep',['hello']]}]}\n",
    "print(d3['k1'][0]['nest_key'][1][0])\n",
    "\n",
    "d4 = {'k1':[1,2,{'k2':['this is tricky',{'tough':[1,2,['hello']]}]}]}\n",
    "print(d4['k1'][2]['k2'][1]['tough'][2][0])\n",
    "\n"
   ]
  },
  {
   "cell_type": "code",
   "execution_count": 48,
   "id": "33256f59",
   "metadata": {},
   "outputs": [],
   "source": [
    "# Can you sort a dictionary? Why or why not?\n",
    "#\n",
    "# No, you can't sort a dictionary. It is made up of UNORDERED key:value pairs.\n",
    "# There's no way to index a dictionary."
   ]
  },
  {
   "cell_type": "code",
   "execution_count": 53,
   "id": "f8feca5b",
   "metadata": {},
   "outputs": [],
   "source": [
    "# Tuples\n",
    "#\n",
    "# What is the major difference between tuples and lists?\n",
    "#\n",
    "# Tuples are IMMUTABLE, and lists can be changed\n",
    "#\n",
    "#\n",
    "# How do you create a tuple?\n",
    "#\n",
    "# Use () parenthesis when assigning a value to a variable\n",
    "# mytuple = (0,1,2)\n",
    "#\n"
   ]
  },
  {
   "cell_type": "code",
   "execution_count": 54,
   "id": "ef70cd02",
   "metadata": {},
   "outputs": [],
   "source": [
    "# Sets\n",
    "#\n",
    "# What is unique about a set?\n",
    "#\n",
    "# Sets cannot contain duplicate values.\n",
    "# If a duplicate value is added into a set, it is ignored.\n",
    "#\n",
    "#\n",
    "# Use a set to find the unique values of the list below:\n",
    "list5 = [1,2,2,33,4,4,11,22,3,3,2]"
   ]
  },
  {
   "cell_type": "code",
   "execution_count": 55,
   "id": "522028bc",
   "metadata": {},
   "outputs": [
    {
     "name": "stdout",
     "output_type": "stream",
     "text": [
      "[1, 2, 2, 33, 4, 4, 11, 22, 3, 3, 2]\n",
      "{1, 2, 33, 4, 3, 11, 22}\n"
     ]
    }
   ],
   "source": [
    "testset = set(list5)\n",
    "print(list5)\n",
    "print(testset)"
   ]
  },
  {
   "cell_type": "code",
   "execution_count": 56,
   "id": "50721800",
   "metadata": {},
   "outputs": [
    {
     "data": {
      "text/plain": [
       "set"
      ]
     },
     "execution_count": 56,
     "metadata": {},
     "output_type": "execute_result"
    }
   ],
   "source": [
    "type(testset)"
   ]
  },
  {
   "cell_type": "code",
   "execution_count": 57,
   "id": "e9b54f65",
   "metadata": {},
   "outputs": [
    {
     "data": {
      "text/plain": [
       "False"
      ]
     },
     "execution_count": 57,
     "metadata": {},
     "output_type": "execute_result"
    }
   ],
   "source": [
    "#######################\n",
    "# BONUS\n",
    "# Booleans\n",
    "# Comparison operators\n",
    "\n",
    "# 2>3\n",
    "# False\n",
    "2>3"
   ]
  },
  {
   "cell_type": "code",
   "execution_count": 58,
   "id": "bd742602",
   "metadata": {},
   "outputs": [
    {
     "data": {
      "text/plain": [
       "False"
      ]
     },
     "execution_count": 58,
     "metadata": {},
     "output_type": "execute_result"
    }
   ],
   "source": [
    "# 3 <= 2\n",
    "# False\n",
    "3 <= 2"
   ]
  },
  {
   "cell_type": "code",
   "execution_count": 59,
   "id": "d5f2cdfd",
   "metadata": {},
   "outputs": [
    {
     "data": {
      "text/plain": [
       "False"
      ]
     },
     "execution_count": 59,
     "metadata": {},
     "output_type": "execute_result"
    }
   ],
   "source": [
    "# 3 == 2.0\n",
    "False\n",
    "3 == 2.0"
   ]
  },
  {
   "cell_type": "code",
   "execution_count": 62,
   "id": "713227f6",
   "metadata": {},
   "outputs": [
    {
     "data": {
      "text/plain": [
       "True"
      ]
     },
     "execution_count": 62,
     "metadata": {},
     "output_type": "execute_result"
    }
   ],
   "source": [
    "# 3.0 == 3\n",
    "# False **I WAS WRONG - THIS ANSWER IS TRUE**\n",
    "3.0 == 3"
   ]
  },
  {
   "cell_type": "code",
   "execution_count": 63,
   "id": "3ec6e26e",
   "metadata": {},
   "outputs": [
    {
     "data": {
      "text/plain": [
       "False"
      ]
     },
     "execution_count": 63,
     "metadata": {},
     "output_type": "execute_result"
    }
   ],
   "source": [
    "# 4**0.5 != 2\n",
    "# False\n",
    "4**0.5 != 2"
   ]
  },
  {
   "cell_type": "code",
   "execution_count": 64,
   "id": "9569c906",
   "metadata": {},
   "outputs": [],
   "source": [
    "# Final question\n",
    "# What is the boolean output of the cell block below?\n",
    "# two nested lists\n",
    "l_one = [1,2,[3,4]]\n",
    "l_two = [1,2,{'k1':4}]"
   ]
  },
  {
   "cell_type": "code",
   "execution_count": 65,
   "id": "ad3fdd1a",
   "metadata": {},
   "outputs": [
    {
     "data": {
      "text/plain": [
       "False"
      ]
     },
     "execution_count": 65,
     "metadata": {},
     "output_type": "execute_result"
    }
   ],
   "source": [
    "# True or False?\n",
    "# l_one[2][0] >= l_two[2]['k1']\n",
    "# 3 >= 4\n",
    "# False\n",
    "\n",
    "l_one[2][0] >= l_two[2]['k1']"
   ]
  },
  {
   "cell_type": "code",
   "execution_count": 66,
   "id": "16c11f9b",
   "metadata": {},
   "outputs": [],
   "source": [
    "# End of the assessment"
   ]
  },
  {
   "cell_type": "code",
   "execution_count": null,
   "id": "ef0f5274",
   "metadata": {},
   "outputs": [],
   "source": []
  }
 ],
 "metadata": {
  "kernelspec": {
   "display_name": "Python 3 (ipykernel)",
   "language": "python",
   "name": "python3"
  },
  "language_info": {
   "codemirror_mode": {
    "name": "ipython",
    "version": 3
   },
   "file_extension": ".py",
   "mimetype": "text/x-python",
   "name": "python",
   "nbconvert_exporter": "python",
   "pygments_lexer": "ipython3",
   "version": "3.9.13"
  }
 },
 "nbformat": 4,
 "nbformat_minor": 5
}
