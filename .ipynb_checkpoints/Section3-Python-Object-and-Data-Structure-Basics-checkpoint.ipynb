{
 "cells": [
  {
   "cell_type": "code",
   "execution_count": 1,
   "id": "004c26ff",
   "metadata": {},
   "outputs": [],
   "source": [
    "# int    integers        Whole numbers\n",
    "# float  floating point  Numbers with a decimal point\n",
    "# str    strings         Ordered sequence of characters\n",
    "\n",
    "#The following are data structures\n",
    "# list   lists           Ordered sequence of objects: [10,\"hello\",200.3]\n",
    "# dict   dictionaries    Unorderd Key:Value pairs:    {\"mykey\":\"value\",\"name\":\"Frankie\"}\n",
    "# tup    tuples          Ordered immutable sequence of objects: (10,\"hello\",200.3)\n",
    "# set    sets            Unordered collection of unique objects: {\"a\",\"b\"}\n",
    "\n",
    "# bool   booleans        Logical value indicating True or False"
   ]
  },
  {
   "cell_type": "code",
   "execution_count": 2,
   "id": "53752264",
   "metadata": {},
   "outputs": [
    {
     "data": {
      "text/plain": [
       "4"
      ]
     },
     "execution_count": 2,
     "metadata": {},
     "output_type": "execute_result"
    }
   ],
   "source": [
    "2+2"
   ]
  },
  {
   "cell_type": "code",
   "execution_count": 3,
   "id": "c787ac0d",
   "metadata": {},
   "outputs": [
    {
     "data": {
      "text/plain": [
       "16"
      ]
     },
     "execution_count": 3,
     "metadata": {},
     "output_type": "execute_result"
    }
   ],
   "source": [
    "4*4"
   ]
  },
  {
   "cell_type": "code",
   "execution_count": 4,
   "id": "c6af8004",
   "metadata": {},
   "outputs": [
    {
     "data": {
      "text/plain": [
       "1.75"
      ]
     },
     "execution_count": 4,
     "metadata": {},
     "output_type": "execute_result"
    }
   ],
   "source": [
    "#remember the mod operator\n",
    "7 / 4"
   ]
  },
  {
   "cell_type": "code",
   "execution_count": 5,
   "id": "5ba26141",
   "metadata": {},
   "outputs": [
    {
     "data": {
      "text/plain": [
       "3"
      ]
     },
     "execution_count": 5,
     "metadata": {},
     "output_type": "execute_result"
    }
   ],
   "source": [
    "#what is the remainder? use the mod operator %\n",
    "7 % 4"
   ]
  },
  {
   "cell_type": "code",
   "execution_count": 6,
   "id": "6a0cc62b",
   "metadata": {},
   "outputs": [
    {
     "data": {
      "text/plain": [
       "1"
      ]
     },
     "execution_count": 6,
     "metadata": {},
     "output_type": "execute_result"
    }
   ],
   "source": [
    "# is 23 even or odd?\n",
    "# use mod to find out\n",
    "# if 23 % 2 has a remainder of 0, it is even\n",
    "23 % 2"
   ]
  },
  {
   "cell_type": "code",
   "execution_count": 7,
   "id": "1aab6472",
   "metadata": {},
   "outputs": [
    {
     "data": {
      "text/plain": [
       "105"
      ]
     },
     "execution_count": 7,
     "metadata": {},
     "output_type": "execute_result"
    }
   ],
   "source": [
    "# order of operations\n",
    "2 + 10 * 10 + 3"
   ]
  },
  {
   "cell_type": "code",
   "execution_count": 8,
   "id": "2a813091",
   "metadata": {},
   "outputs": [
    {
     "data": {
      "text/plain": [
       "156"
      ]
     },
     "execution_count": 8,
     "metadata": {},
     "output_type": "execute_result"
    }
   ],
   "source": [
    "(2+10) * (10 + 3)"
   ]
  },
  {
   "cell_type": "code",
   "execution_count": 9,
   "id": "cf399b54",
   "metadata": {},
   "outputs": [],
   "source": [
    "# important to remember\n",
    "# why doesn't 0.1 + 0.2 - 0.3 = 0 ?\n",
    "# This has to do with floating point accuracy and computer's abilities to represent numbers in memory.\n",
    "# For a full breakdown, check out: https://docs.python.org/2/tutorial/floatingpoint.html"
   ]
  },
  {
   "cell_type": "code",
   "execution_count": 10,
   "id": "aa24d23a",
   "metadata": {},
   "outputs": [
    {
     "data": {
      "text/plain": [
       "0.30000000000000004"
      ]
     },
     "execution_count": 10,
     "metadata": {},
     "output_type": "execute_result"
    }
   ],
   "source": [
    "0.1 + 0.2"
   ]
  },
  {
   "cell_type": "code",
   "execution_count": 11,
   "id": "2f371761",
   "metadata": {},
   "outputs": [
    {
     "data": {
      "text/plain": [
       "0.1"
      ]
     },
     "execution_count": 11,
     "metadata": {},
     "output_type": "execute_result"
    }
   ],
   "source": [
    "0.1"
   ]
  },
  {
   "cell_type": "code",
   "execution_count": 12,
   "id": "fccbf879",
   "metadata": {},
   "outputs": [
    {
     "data": {
      "text/plain": [
       "0.2"
      ]
     },
     "execution_count": 12,
     "metadata": {},
     "output_type": "execute_result"
    }
   ],
   "source": [
    "0.2"
   ]
  },
  {
   "cell_type": "code",
   "execution_count": 13,
   "id": "b46d6c71",
   "metadata": {},
   "outputs": [
    {
     "data": {
      "text/plain": [
       "5.551115123125783e-17"
      ]
     },
     "execution_count": 13,
     "metadata": {},
     "output_type": "execute_result"
    }
   ],
   "source": [
    "0.1 + 0.2 - 0.3"
   ]
  },
  {
   "cell_type": "code",
   "execution_count": 14,
   "id": "07098a39",
   "metadata": {},
   "outputs": [
    {
     "data": {
      "text/plain": [
       "0.5"
      ]
     },
     "execution_count": 14,
     "metadata": {},
     "output_type": "execute_result"
    }
   ],
   "source": [
    "0.2 + 0.3"
   ]
  },
  {
   "cell_type": "code",
   "execution_count": 15,
   "id": "3c417911",
   "metadata": {},
   "outputs": [
    {
     "data": {
      "text/plain": [
       "0.4"
      ]
     },
     "execution_count": 15,
     "metadata": {},
     "output_type": "execute_result"
    }
   ],
   "source": [
    "0.1 + 0.3"
   ]
  },
  {
   "cell_type": "code",
   "execution_count": 16,
   "id": "a892f732",
   "metadata": {},
   "outputs": [
    {
     "data": {
      "text/plain": [
       "0.0"
      ]
     },
     "execution_count": 16,
     "metadata": {},
     "output_type": "execute_result"
    }
   ],
   "source": [
    "0.1 + 0.3 - 0.4"
   ]
  },
  {
   "cell_type": "code",
   "execution_count": 17,
   "id": "d0567eb4",
   "metadata": {},
   "outputs": [],
   "source": [
    "# looks like the real culprit is 0.2"
   ]
  },
  {
   "cell_type": "code",
   "execution_count": 18,
   "id": "00e01ae4",
   "metadata": {},
   "outputs": [
    {
     "ename": "SyntaxError",
     "evalue": "invalid syntax (1004970667.py, line 1)",
     "output_type": "error",
     "traceback": [
      "\u001b[0;36m  File \u001b[0;32m\"/tmp/ipykernel_40947/1004970667.py\"\u001b[0;36m, line \u001b[0;32m1\u001b[0m\n\u001b[0;31m    30+*6\u001b[0m\n\u001b[0m       ^\u001b[0m\n\u001b[0;31mSyntaxError\u001b[0m\u001b[0;31m:\u001b[0m invalid syntax\n"
     ]
    }
   ],
   "source": [
    "30+*6"
   ]
  },
  {
   "cell_type": "code",
   "execution_count": 19,
   "id": "07458db5",
   "metadata": {},
   "outputs": [
    {
     "data": {
      "text/plain": [
       "46656"
      ]
     },
     "execution_count": 19,
     "metadata": {},
     "output_type": "execute_result"
    }
   ],
   "source": [
    "6**6"
   ]
  },
  {
   "cell_type": "code",
   "execution_count": 20,
   "id": "7719448c",
   "metadata": {},
   "outputs": [
    {
     "data": {
      "text/plain": [
       "0"
      ]
     },
     "execution_count": 20,
     "metadata": {},
     "output_type": "execute_result"
    }
   ],
   "source": [
    "6^6"
   ]
  },
  {
   "cell_type": "code",
   "execution_count": 21,
   "id": "b4efade8",
   "metadata": {},
   "outputs": [
    {
     "data": {
      "text/plain": [
       "0.5"
      ]
     },
     "execution_count": 21,
     "metadata": {},
     "output_type": "execute_result"
    }
   ],
   "source": [
    "1/2"
   ]
  },
  {
   "cell_type": "code",
   "execution_count": 22,
   "id": "5b79976f",
   "metadata": {},
   "outputs": [],
   "source": [
    "# There are a lot more operands I need to learn\n",
    "# what is **\n",
    "# what is ^\n"
   ]
  },
  {
   "cell_type": "code",
   "execution_count": 23,
   "id": "d9b120a1",
   "metadata": {},
   "outputs": [],
   "source": [
    "#################\n",
    "# quick review of variable names and assignments\n",
    "#################"
   ]
  },
  {
   "cell_type": "code",
   "execution_count": 25,
   "id": "df892f27",
   "metadata": {},
   "outputs": [],
   "source": [
    "# remember:\n",
    "# no spaces in a name\n",
    "# also, none of these symbols:\n",
    "# ' \" , < > / ? \\ | ( ) ! @ # $ % ^ & * ~ - + : "
   ]
  },
  {
   "cell_type": "code",
   "execution_count": 26,
   "id": "5e5a1905",
   "metadata": {},
   "outputs": [],
   "source": [
    "# PEP8 - it's considered best practice that variable names are lower case"
   ]
  },
  {
   "cell_type": "code",
   "execution_count": 27,
   "id": "2a301678",
   "metadata": {},
   "outputs": [],
   "source": [
    "# python uses dynamic typing to assign variables"
   ]
  },
  {
   "cell_type": "code",
   "execution_count": 28,
   "id": "6da832cb",
   "metadata": {},
   "outputs": [],
   "source": [
    "a = 5"
   ]
  },
  {
   "cell_type": "code",
   "execution_count": 29,
   "id": "31d1524b",
   "metadata": {},
   "outputs": [
    {
     "data": {
      "text/plain": [
       "10"
      ]
     },
     "execution_count": 29,
     "metadata": {},
     "output_type": "execute_result"
    }
   ],
   "source": [
    "a = a + a\n",
    "a"
   ]
  },
  {
   "cell_type": "code",
   "execution_count": 30,
   "id": "529a5687",
   "metadata": {},
   "outputs": [],
   "source": [
    "# what type variable is \"a\""
   ]
  },
  {
   "cell_type": "code",
   "execution_count": 31,
   "id": "7e7de633",
   "metadata": {},
   "outputs": [
    {
     "data": {
      "text/plain": [
       "int"
      ]
     },
     "execution_count": 31,
     "metadata": {},
     "output_type": "execute_result"
    }
   ],
   "source": [
    "type(a)"
   ]
  },
  {
   "cell_type": "code",
   "execution_count": 32,
   "id": "fa3e7a89",
   "metadata": {},
   "outputs": [],
   "source": [
    "a = 30.1"
   ]
  },
  {
   "cell_type": "code",
   "execution_count": 33,
   "id": "eada65fb",
   "metadata": {},
   "outputs": [
    {
     "data": {
      "text/plain": [
       "float"
      ]
     },
     "execution_count": 33,
     "metadata": {},
     "output_type": "execute_result"
    }
   ],
   "source": [
    "type(a)"
   ]
  },
  {
   "cell_type": "code",
   "execution_count": 34,
   "id": "0f0cf552",
   "metadata": {},
   "outputs": [],
   "source": [
    "my_income = 100\n",
    "\n",
    "tax_rate = 0.1\n",
    "\n",
    "my_taxes = my_income * tax_rate"
   ]
  },
  {
   "cell_type": "code",
   "execution_count": 35,
   "id": "25241f53",
   "metadata": {},
   "outputs": [
    {
     "data": {
      "text/plain": [
       "10.0"
      ]
     },
     "execution_count": 35,
     "metadata": {},
     "output_type": "execute_result"
    }
   ],
   "source": [
    "my_taxes"
   ]
  },
  {
   "cell_type": "code",
   "execution_count": 36,
   "id": "3a1aec80",
   "metadata": {},
   "outputs": [],
   "source": [
    "###################\n",
    "# quick review of strings\n",
    "###################"
   ]
  },
  {
   "cell_type": "code",
   "execution_count": null,
   "id": "2e82230d",
   "metadata": {},
   "outputs": [],
   "source": []
  },
  {
   "cell_type": "code",
   "execution_count": 37,
   "id": "c15e8e8c",
   "metadata": {},
   "outputs": [
    {
     "data": {
      "text/plain": [
       "'Hello'"
      ]
     },
     "execution_count": 37,
     "metadata": {},
     "output_type": "execute_result"
    }
   ],
   "source": [
    "\"Hello\""
   ]
  },
  {
   "cell_type": "code",
   "execution_count": 38,
   "id": "d5fa914b",
   "metadata": {},
   "outputs": [
    {
     "data": {
      "text/plain": [
       "\"I don't do that\""
      ]
     },
     "execution_count": 38,
     "metadata": {},
     "output_type": "execute_result"
    }
   ],
   "source": [
    "\"I don't do that\""
   ]
  },
  {
   "cell_type": "code",
   "execution_count": 39,
   "id": "0217cb24",
   "metadata": {},
   "outputs": [
    {
     "data": {
      "text/plain": [
       "'Hello'"
      ]
     },
     "execution_count": 39,
     "metadata": {},
     "output_type": "execute_result"
    }
   ],
   "source": [
    "'Hello'"
   ]
  },
  {
   "cell_type": "code",
   "execution_count": 40,
   "id": "45da14b2",
   "metadata": {},
   "outputs": [],
   "source": [
    "# strings are ORDERED SEQUENCES"
   ]
  },
  {
   "cell_type": "code",
   "execution_count": 41,
   "id": "ef448cfe",
   "metadata": {},
   "outputs": [],
   "source": [
    "# indexing notation uses [ ] "
   ]
  },
  {
   "cell_type": "code",
   "execution_count": 42,
   "id": "06f429dd",
   "metadata": {},
   "outputs": [],
   "source": [
    "# character:     h   e   l   l   o\n",
    "# index:         0   1   2   3   4\n",
    "# reverse index: 0  -4  -3  -2  -1"
   ]
  },
  {
   "cell_type": "code",
   "execution_count": 43,
   "id": "07e9d62e",
   "metadata": {},
   "outputs": [],
   "source": [
    "# slicing notation\n",
    "#  [start : stop : step]\n",
    "# start is the numerical index for the slice start\n",
    "# stop is the index you will go up to, but not include\n",
    "# step is the size of the jump you take"
   ]
  },
  {
   "cell_type": "code",
   "execution_count": 46,
   "id": "d51399ca",
   "metadata": {},
   "outputs": [],
   "source": [
    "# escape sequences in the print command\n",
    "# \\n \\t"
   ]
  },
  {
   "cell_type": "code",
   "execution_count": 48,
   "id": "9a7ab7a5",
   "metadata": {},
   "outputs": [
    {
     "name": "stdout",
     "output_type": "stream",
     "text": [
      "hello \n",
      "world\n"
     ]
    }
   ],
   "source": [
    "print('hello \\nworld')"
   ]
  },
  {
   "cell_type": "code",
   "execution_count": 49,
   "id": "503c8386",
   "metadata": {},
   "outputs": [
    {
     "data": {
      "text/plain": [
       "11"
      ]
     },
     "execution_count": 49,
     "metadata": {},
     "output_type": "execute_result"
    }
   ],
   "source": [
    "len('hello world')\n"
   ]
  },
  {
   "cell_type": "code",
   "execution_count": 50,
   "id": "854bb4ef",
   "metadata": {},
   "outputs": [],
   "source": [
    "# string indexing and slicing\n",
    "# string indexing is grabbing a single character\n",
    "# string slicing is grabbing a section"
   ]
  },
  {
   "cell_type": "code",
   "execution_count": 51,
   "id": "a344df0f",
   "metadata": {},
   "outputs": [],
   "source": [
    "mystring = \"Hello World\""
   ]
  },
  {
   "cell_type": "code",
   "execution_count": 52,
   "id": "166712fd",
   "metadata": {},
   "outputs": [
    {
     "data": {
      "text/plain": [
       "'Hello World'"
      ]
     },
     "execution_count": 52,
     "metadata": {},
     "output_type": "execute_result"
    }
   ],
   "source": [
    "mystring"
   ]
  },
  {
   "cell_type": "code",
   "execution_count": 53,
   "id": "d8861dbc",
   "metadata": {},
   "outputs": [
    {
     "data": {
      "text/plain": [
       "'H'"
      ]
     },
     "execution_count": 53,
     "metadata": {},
     "output_type": "execute_result"
    }
   ],
   "source": [
    "mystring[0]"
   ]
  },
  {
   "cell_type": "code",
   "execution_count": 54,
   "id": "46b9cc6c",
   "metadata": {},
   "outputs": [
    {
     "data": {
      "text/plain": [
       "'d'"
      ]
     },
     "execution_count": 54,
     "metadata": {},
     "output_type": "execute_result"
    }
   ],
   "source": [
    "mystring[-1]"
   ]
  },
  {
   "cell_type": "code",
   "execution_count": 55,
   "id": "f5a77786",
   "metadata": {},
   "outputs": [
    {
     "data": {
      "text/plain": [
       "'r'"
      ]
     },
     "execution_count": 55,
     "metadata": {},
     "output_type": "execute_result"
    }
   ],
   "source": [
    "mystring[8]"
   ]
  },
  {
   "cell_type": "code",
   "execution_count": 56,
   "id": "80448fb0",
   "metadata": {},
   "outputs": [
    {
     "data": {
      "text/plain": [
       "'l'"
      ]
     },
     "execution_count": 56,
     "metadata": {},
     "output_type": "execute_result"
    }
   ],
   "source": [
    "mystring[-8]"
   ]
  },
  {
   "cell_type": "code",
   "execution_count": 57,
   "id": "5ba41804",
   "metadata": {},
   "outputs": [
    {
     "data": {
      "text/plain": [
       "'l'"
      ]
     },
     "execution_count": 57,
     "metadata": {},
     "output_type": "execute_result"
    }
   ],
   "source": [
    "mystring[9]"
   ]
  },
  {
   "cell_type": "code",
   "execution_count": 62,
   "id": "deaf3eaf",
   "metadata": {},
   "outputs": [
    {
     "data": {
      "text/plain": [
       "'dlroW olleH'"
      ]
     },
     "execution_count": 62,
     "metadata": {},
     "output_type": "execute_result"
    }
   ],
   "source": [
    "# here's a quick way to reverse a string\n",
    "mystring[::-1]"
   ]
  },
  {
   "cell_type": "code",
   "execution_count": 63,
   "id": "27207720",
   "metadata": {},
   "outputs": [
    {
     "data": {
      "text/plain": [
       "'Hel'"
      ]
     },
     "execution_count": 63,
     "metadata": {},
     "output_type": "execute_result"
    }
   ],
   "source": [
    "mystring[:3]"
   ]
  },
  {
   "cell_type": "code",
   "execution_count": 64,
   "id": "3c44ae50",
   "metadata": {},
   "outputs": [],
   "source": [
    "mystring=\"abcdefghijk\""
   ]
  },
  {
   "cell_type": "code",
   "execution_count": 67,
   "id": "13e26469",
   "metadata": {},
   "outputs": [
    {
     "data": {
      "text/plain": [
       "'def'"
      ]
     },
     "execution_count": 67,
     "metadata": {},
     "output_type": "execute_result"
    }
   ],
   "source": [
    "mystring[3:6]"
   ]
  },
  {
   "cell_type": "code",
   "execution_count": 68,
   "id": "c9a709d8",
   "metadata": {},
   "outputs": [
    {
     "data": {
      "text/plain": [
       "'fghi'"
      ]
     },
     "execution_count": 68,
     "metadata": {},
     "output_type": "execute_result"
    }
   ],
   "source": [
    "mystring[5:9]"
   ]
  },
  {
   "cell_type": "code",
   "execution_count": 69,
   "id": "bf910879",
   "metadata": {},
   "outputs": [],
   "source": [
    "mystring=\"mystring\""
   ]
  },
  {
   "cell_type": "code",
   "execution_count": 71,
   "id": "132619eb",
   "metadata": {},
   "outputs": [
    {
     "data": {
      "text/plain": [
       "'ring'"
      ]
     },
     "execution_count": 71,
     "metadata": {},
     "output_type": "execute_result"
    }
   ],
   "source": [
    "mystring[4:9]"
   ]
  },
  {
   "cell_type": "code",
   "execution_count": 72,
   "id": "2519642f",
   "metadata": {},
   "outputs": [],
   "source": [
    "mystring=\"12121212\""
   ]
  },
  {
   "cell_type": "code",
   "execution_count": 73,
   "id": "82762cdf",
   "metadata": {},
   "outputs": [
    {
     "data": {
      "text/plain": [
       "'1111'"
      ]
     },
     "execution_count": 73,
     "metadata": {},
     "output_type": "execute_result"
    }
   ],
   "source": [
    "mystring[::2]"
   ]
  },
  {
   "cell_type": "code",
   "execution_count": 74,
   "id": "01a8a92c",
   "metadata": {},
   "outputs": [
    {
     "data": {
      "text/plain": [
       "'2222'"
      ]
     },
     "execution_count": 74,
     "metadata": {},
     "output_type": "execute_result"
    }
   ],
   "source": [
    "mystring[::-2]"
   ]
  },
  {
   "cell_type": "code",
   "execution_count": 75,
   "id": "3f74ef54",
   "metadata": {},
   "outputs": [
    {
     "data": {
      "text/plain": [
       "'ink'"
      ]
     },
     "execution_count": 75,
     "metadata": {},
     "output_type": "execute_result"
    }
   ],
   "source": [
    "'tinker'[1:4]"
   ]
  },
  {
   "cell_type": "code",
   "execution_count": 1,
   "id": "865f928f",
   "metadata": {},
   "outputs": [],
   "source": [
    "# left off in Section 3, #17\n",
    "\n",
    "# Remember: Strings are not mutable. You can't use indexing to change individual elements of a string"
   ]
  },
  {
   "cell_type": "code",
   "execution_count": 2,
   "id": "54dbea4e",
   "metadata": {},
   "outputs": [],
   "source": [
    "# adding variables when printing strings\n",
    "# two methods\n",
    "# .format()\n",
    "# f-strings  (formatted string literals)"
   ]
  },
  {
   "cell_type": "code",
   "execution_count": 3,
   "id": "6e579aea",
   "metadata": {},
   "outputs": [],
   "source": [
    "# .format()  method\n",
    "# 'String here {} then here {}'.format(\"something1\",\"something2\")"
   ]
  },
  {
   "cell_type": "code",
   "execution_count": 4,
   "id": "1bdb40cf",
   "metadata": {},
   "outputs": [
    {
     "name": "stdout",
     "output_type": "stream",
     "text": [
      "This is a string INSERTED\n"
     ]
    }
   ],
   "source": [
    "print('This is a string {}'.format('INSERTED'))"
   ]
  },
  {
   "cell_type": "code",
   "execution_count": 5,
   "id": "fb3ebf88",
   "metadata": {},
   "outputs": [
    {
     "name": "stdout",
     "output_type": "stream",
     "text": [
      "the fox brown quick\n"
     ]
    }
   ],
   "source": [
    "print('the {} {} {}'.format('fox','brown','quick'))"
   ]
  },
  {
   "cell_type": "code",
   "execution_count": 6,
   "id": "df6cb5c4",
   "metadata": {},
   "outputs": [
    {
     "name": "stdout",
     "output_type": "stream",
     "text": [
      "the quick brown fox\n"
     ]
    }
   ],
   "source": [
    "# use the index positions of the format() method\n",
    "print('the {2} {1} {0}'.format('fox','brown','quick'))"
   ]
  },
  {
   "cell_type": "code",
   "execution_count": 9,
   "id": "cf3a6869",
   "metadata": {},
   "outputs": [
    {
     "name": "stdout",
     "output_type": "stream",
     "text": [
      "the fox fox fox\n"
     ]
    }
   ],
   "source": [
    "print('the {0} {0} {0}'.format('fox','brown','quick'))"
   ]
  },
  {
   "cell_type": "code",
   "execution_count": 10,
   "id": "f8ae264a",
   "metadata": {},
   "outputs": [
    {
     "name": "stdout",
     "output_type": "stream",
     "text": [
      "the fox brown quick\n"
     ]
    }
   ],
   "source": [
    "# you can also define key words\n",
    "\n",
    "print('the {f} {b} {q}'.format(f='fox',b='brown',q='quick'))"
   ]
  },
  {
   "cell_type": "code",
   "execution_count": 11,
   "id": "e529d928",
   "metadata": {},
   "outputs": [
    {
     "name": "stdout",
     "output_type": "stream",
     "text": [
      "the quick brown fox\n"
     ]
    }
   ],
   "source": [
    "print('the {q} {b} {f}'.format(f='fox',b='brown',q='quick'))"
   ]
  },
  {
   "cell_type": "code",
   "execution_count": 12,
   "id": "2bd5c228",
   "metadata": {},
   "outputs": [],
   "source": [
    "# float formatting\n",
    "\n",
    "result = 100/777"
   ]
  },
  {
   "cell_type": "code",
   "execution_count": 13,
   "id": "948772db",
   "metadata": {},
   "outputs": [
    {
     "data": {
      "text/plain": [
       "0.1287001287001287"
      ]
     },
     "execution_count": 13,
     "metadata": {},
     "output_type": "execute_result"
    }
   ],
   "source": [
    "result"
   ]
  },
  {
   "cell_type": "code",
   "execution_count": 15,
   "id": "38f18a85",
   "metadata": {},
   "outputs": [
    {
     "name": "stdout",
     "output_type": "stream",
     "text": [
      "the result was 0.1287001287001287\n"
     ]
    }
   ],
   "source": [
    "# change the level of precision and width of the number\n",
    "\n",
    "print(\"the result was {r}\".format(r=result))"
   ]
  },
  {
   "cell_type": "code",
   "execution_count": 18,
   "id": "ffa6c047",
   "metadata": {},
   "outputs": [],
   "source": [
    "# the float formatting looks like:\n",
    "# \"{value:width.precision f}\""
   ]
  },
  {
   "cell_type": "code",
   "execution_count": 19,
   "id": "00727ebe",
   "metadata": {},
   "outputs": [
    {
     "name": "stdout",
     "output_type": "stream",
     "text": [
      "the result was 0.129\n"
     ]
    }
   ],
   "source": [
    "print(\"the result was {r:1.3f}\".format(r=result))"
   ]
  },
  {
   "cell_type": "code",
   "execution_count": 20,
   "id": "873dbe36",
   "metadata": {},
   "outputs": [
    {
     "name": "stdout",
     "output_type": "stream",
     "text": [
      "the result was        0.1\n"
     ]
    }
   ],
   "source": [
    "# the width value can a lot of white space\n",
    "\n",
    "print(\"the result was {r:10.1f}\".format(r=result))"
   ]
  },
  {
   "cell_type": "code",
   "execution_count": 21,
   "id": "e204e30d",
   "metadata": {},
   "outputs": [
    {
     "name": "stdout",
     "output_type": "stream",
     "text": [
      "the result was 104.12\n"
     ]
    }
   ],
   "source": [
    "result = 104.12345\n",
    "\n",
    "print(\"the result was {r:1.2f}\".format(r=result))"
   ]
  },
  {
   "cell_type": "code",
   "execution_count": 22,
   "id": "cd4eeb76",
   "metadata": {},
   "outputs": [],
   "source": [
    "#####\n",
    "# f-strings\n",
    "# formatted string literals"
   ]
  },
  {
   "cell_type": "code",
   "execution_count": 23,
   "id": "922e8ee6",
   "metadata": {},
   "outputs": [],
   "source": [
    "name = \"Jose\""
   ]
  },
  {
   "cell_type": "code",
   "execution_count": 24,
   "id": "d0d480e0",
   "metadata": {},
   "outputs": [
    {
     "name": "stdout",
     "output_type": "stream",
     "text": [
      "hello my name is Jose\n"
     ]
    }
   ],
   "source": [
    "print(f\"hello my name is {name}\")"
   ]
  },
  {
   "cell_type": "code",
   "execution_count": 25,
   "id": "d7e5ac7d",
   "metadata": {},
   "outputs": [
    {
     "data": {
      "text/plain": [
       "104.12345"
      ]
     },
     "execution_count": 25,
     "metadata": {},
     "output_type": "execute_result"
    }
   ],
   "source": [
    "result"
   ]
  },
  {
   "cell_type": "code",
   "execution_count": 32,
   "id": "8f0accf7",
   "metadata": {},
   "outputs": [
    {
     "name": "stdout",
     "output_type": "stream",
     "text": [
      "the result was 1e+02\n",
      "my name is Jo\n"
     ]
    }
   ],
   "source": [
    "# what is this??\n",
    "\n",
    "print(f\"the result was {result:1.2}\")\n",
    "\n",
    "print(f\"my name is {name:1.2}\")"
   ]
  },
  {
   "cell_type": "code",
   "execution_count": 33,
   "id": "589764a1",
   "metadata": {},
   "outputs": [],
   "source": [
    "name = \"sam\""
   ]
  },
  {
   "cell_type": "code",
   "execution_count": 35,
   "id": "7cf0a684",
   "metadata": {},
   "outputs": [
    {
     "name": "stdout",
     "output_type": "stream",
     "text": [
      "sam is 3 years old\n"
     ]
    }
   ],
   "source": [
    "age = 3\n",
    "print(f\"{name} is {age} years old\")"
   ]
  },
  {
   "cell_type": "code",
   "execution_count": 36,
   "id": "e0fd20bd",
   "metadata": {},
   "outputs": [
    {
     "data": {
      "text/plain": [
       "'i like apples'"
      ]
     },
     "execution_count": 36,
     "metadata": {},
     "output_type": "execute_result"
    }
   ],
   "source": [
    "'i like %s' %'apples'"
   ]
  },
  {
   "cell_type": "code",
   "execution_count": 37,
   "id": "6d2baf17",
   "metadata": {},
   "outputs": [],
   "source": [
    "##################\n",
    "# Lists\n",
    "# Lists are ordered sequences\n",
    "# [1,2,3,4,5]"
   ]
  },
  {
   "cell_type": "code",
   "execution_count": 38,
   "id": "5f924367",
   "metadata": {},
   "outputs": [],
   "source": [
    "my_list = [1,2,3]"
   ]
  },
  {
   "cell_type": "code",
   "execution_count": 39,
   "id": "9ae4230b",
   "metadata": {},
   "outputs": [
    {
     "data": {
      "text/plain": [
       "[1, 2, 3]"
      ]
     },
     "execution_count": 39,
     "metadata": {},
     "output_type": "execute_result"
    }
   ],
   "source": [
    "my_list"
   ]
  },
  {
   "cell_type": "code",
   "execution_count": 40,
   "id": "daa7475c",
   "metadata": {},
   "outputs": [
    {
     "data": {
      "text/plain": [
       "list"
      ]
     },
     "execution_count": 40,
     "metadata": {},
     "output_type": "execute_result"
    }
   ],
   "source": [
    "type(my_list)"
   ]
  },
  {
   "cell_type": "code",
   "execution_count": 42,
   "id": "6cbd252f",
   "metadata": {},
   "outputs": [],
   "source": [
    "my_list=['string',12,23,23.2]"
   ]
  },
  {
   "cell_type": "code",
   "execution_count": 43,
   "id": "be176036",
   "metadata": {},
   "outputs": [
    {
     "data": {
      "text/plain": [
       "['string', 12, 23, 23.2]"
      ]
     },
     "execution_count": 43,
     "metadata": {},
     "output_type": "execute_result"
    }
   ],
   "source": [
    "my_list"
   ]
  },
  {
   "cell_type": "code",
   "execution_count": 44,
   "id": "02bc0146",
   "metadata": {},
   "outputs": [
    {
     "data": {
      "text/plain": [
       "list"
      ]
     },
     "execution_count": 44,
     "metadata": {},
     "output_type": "execute_result"
    }
   ],
   "source": [
    "type(my_list)"
   ]
  },
  {
   "cell_type": "code",
   "execution_count": 45,
   "id": "fda3c86f",
   "metadata": {},
   "outputs": [
    {
     "data": {
      "text/plain": [
       "4"
      ]
     },
     "execution_count": 45,
     "metadata": {},
     "output_type": "execute_result"
    }
   ],
   "source": [
    "len(my_list)"
   ]
  },
  {
   "cell_type": "code",
   "execution_count": 46,
   "id": "8594d7c1",
   "metadata": {},
   "outputs": [],
   "source": [
    "mylist = ['one','two','three']"
   ]
  },
  {
   "cell_type": "code",
   "execution_count": 47,
   "id": "ae239dca",
   "metadata": {},
   "outputs": [
    {
     "data": {
      "text/plain": [
       "'one'"
      ]
     },
     "execution_count": 47,
     "metadata": {},
     "output_type": "execute_result"
    }
   ],
   "source": [
    "mylist[0]"
   ]
  },
  {
   "cell_type": "code",
   "execution_count": 48,
   "id": "f457f7ca",
   "metadata": {},
   "outputs": [
    {
     "data": {
      "text/plain": [
       "['two', 'three']"
      ]
     },
     "execution_count": 48,
     "metadata": {},
     "output_type": "execute_result"
    }
   ],
   "source": [
    "mylist[1:]"
   ]
  },
  {
   "cell_type": "code",
   "execution_count": 49,
   "id": "8834cd4d",
   "metadata": {},
   "outputs": [],
   "source": [
    "# slicing and indexing work like strings"
   ]
  },
  {
   "cell_type": "code",
   "execution_count": 50,
   "id": "dd8bdde7",
   "metadata": {},
   "outputs": [],
   "source": [
    "another_list = ['four','five']"
   ]
  },
  {
   "cell_type": "code",
   "execution_count": 51,
   "id": "260c17f7",
   "metadata": {},
   "outputs": [
    {
     "data": {
      "text/plain": [
       "['one', 'two', 'three', 'four', 'five']"
      ]
     },
     "execution_count": 51,
     "metadata": {},
     "output_type": "execute_result"
    }
   ],
   "source": [
    "mylist + another_list"
   ]
  },
  {
   "cell_type": "code",
   "execution_count": 52,
   "id": "37949a76",
   "metadata": {},
   "outputs": [],
   "source": [
    "new_list = mylist + another_list"
   ]
  },
  {
   "cell_type": "code",
   "execution_count": 53,
   "id": "4adfb7bd",
   "metadata": {},
   "outputs": [
    {
     "data": {
      "text/plain": [
       "['one', 'two', 'three', 'four', 'five']"
      ]
     },
     "execution_count": 53,
     "metadata": {},
     "output_type": "execute_result"
    }
   ],
   "source": [
    "new_list"
   ]
  },
  {
   "cell_type": "code",
   "execution_count": 56,
   "id": "35e16377",
   "metadata": {},
   "outputs": [
    {
     "data": {
      "text/plain": [
       "['one', 'two', 'three', 'four', 'five', 'one', 'two', 'three', 'four', 'five']"
      ]
     },
     "execution_count": 56,
     "metadata": {},
     "output_type": "execute_result"
    }
   ],
   "source": [
    "new_list * 2"
   ]
  },
  {
   "cell_type": "code",
   "execution_count": 57,
   "id": "2dcbcfd6",
   "metadata": {},
   "outputs": [],
   "source": [
    "new_list[0] = 'ONE'"
   ]
  },
  {
   "cell_type": "markdown",
   "id": "a8f391f8",
   "metadata": {},
   "source": [
    "new_list"
   ]
  },
  {
   "cell_type": "code",
   "execution_count": 58,
   "id": "9dfd8774",
   "metadata": {},
   "outputs": [
    {
     "data": {
      "text/plain": [
       "['ONE', 'two', 'three', 'four', 'five']"
      ]
     },
     "execution_count": 58,
     "metadata": {},
     "output_type": "execute_result"
    }
   ],
   "source": [
    "new_list"
   ]
  },
  {
   "cell_type": "code",
   "execution_count": 59,
   "id": "7292690d",
   "metadata": {},
   "outputs": [],
   "source": [
    "# add elements to the end of a list\n",
    "# use .append\n",
    "\n",
    "new_list.append('six')"
   ]
  },
  {
   "cell_type": "code",
   "execution_count": 60,
   "id": "b804b7a4",
   "metadata": {},
   "outputs": [
    {
     "data": {
      "text/plain": [
       "['ONE', 'two', 'three', 'four', 'five', 'six']"
      ]
     },
     "execution_count": 60,
     "metadata": {},
     "output_type": "execute_result"
    }
   ],
   "source": [
    "new_list"
   ]
  },
  {
   "cell_type": "code",
   "execution_count": 61,
   "id": "b96d6dcc",
   "metadata": {},
   "outputs": [
    {
     "data": {
      "text/plain": [
       "'six'"
      ]
     },
     "execution_count": 61,
     "metadata": {},
     "output_type": "execute_result"
    }
   ],
   "source": [
    "# remove items from a list\n",
    "# use .pop()\n",
    "\n",
    "new_list.pop()"
   ]
  },
  {
   "cell_type": "code",
   "execution_count": 62,
   "id": "870772f7",
   "metadata": {},
   "outputs": [
    {
     "data": {
      "text/plain": [
       "['ONE', 'two', 'three', 'four', 'five']"
      ]
     },
     "execution_count": 62,
     "metadata": {},
     "output_type": "execute_result"
    }
   ],
   "source": [
    "new_list"
   ]
  },
  {
   "cell_type": "code",
   "execution_count": 63,
   "id": "ebb96e0a",
   "metadata": {},
   "outputs": [],
   "source": [
    "popped_item = new_list.pop()"
   ]
  },
  {
   "cell_type": "code",
   "execution_count": 64,
   "id": "bea1df73",
   "metadata": {},
   "outputs": [
    {
     "data": {
      "text/plain": [
       "'five'"
      ]
     },
     "execution_count": 64,
     "metadata": {},
     "output_type": "execute_result"
    }
   ],
   "source": [
    "popped_item"
   ]
  },
  {
   "cell_type": "code",
   "execution_count": 65,
   "id": "ed1d5660",
   "metadata": {},
   "outputs": [
    {
     "data": {
      "text/plain": [
       "['ONE', 'two', 'three', 'four']"
      ]
     },
     "execution_count": 65,
     "metadata": {},
     "output_type": "execute_result"
    }
   ],
   "source": [
    "new_list"
   ]
  },
  {
   "cell_type": "code",
   "execution_count": 68,
   "id": "e00d8364",
   "metadata": {},
   "outputs": [
    {
     "data": {
      "text/plain": [
       "'two'"
      ]
     },
     "execution_count": 68,
     "metadata": {},
     "output_type": "execute_result"
    }
   ],
   "source": [
    "# removing an index position\n",
    "# by default, the index position is -1\n",
    "\n",
    "new_list.pop(0)"
   ]
  },
  {
   "cell_type": "code",
   "execution_count": 69,
   "id": "3ed46aca",
   "metadata": {},
   "outputs": [
    {
     "data": {
      "text/plain": [
       "['three', 'four']"
      ]
     },
     "execution_count": 69,
     "metadata": {},
     "output_type": "execute_result"
    }
   ],
   "source": [
    "new_list"
   ]
  },
  {
   "cell_type": "code",
   "execution_count": 70,
   "id": "e6558a79",
   "metadata": {},
   "outputs": [],
   "source": [
    "# sorting a list\n",
    "\n",
    "new_list = ['a','e','c','n','d']\n",
    "num_list = [3,2,5,1,6,4,2]"
   ]
  },
  {
   "cell_type": "code",
   "execution_count": 71,
   "id": "ed04080c",
   "metadata": {},
   "outputs": [],
   "source": [
    "new_list.sort()"
   ]
  },
  {
   "cell_type": "code",
   "execution_count": 72,
   "id": "90937439",
   "metadata": {},
   "outputs": [
    {
     "data": {
      "text/plain": [
       "['a', 'c', 'd', 'e', 'n']"
      ]
     },
     "execution_count": 72,
     "metadata": {},
     "output_type": "execute_result"
    }
   ],
   "source": [
    "new_list"
   ]
  },
  {
   "cell_type": "code",
   "execution_count": 73,
   "id": "6f865686",
   "metadata": {},
   "outputs": [],
   "source": [
    "num_list.sort()"
   ]
  },
  {
   "cell_type": "code",
   "execution_count": 74,
   "id": "753add9a",
   "metadata": {},
   "outputs": [
    {
     "data": {
      "text/plain": [
       "[1, 2, 2, 3, 4, 5, 6]"
      ]
     },
     "execution_count": 74,
     "metadata": {},
     "output_type": "execute_result"
    }
   ],
   "source": [
    "num_list"
   ]
  },
  {
   "cell_type": "code",
   "execution_count": 75,
   "id": "358e0749",
   "metadata": {},
   "outputs": [],
   "source": [
    "# reverse method\n",
    "# .reverse()"
   ]
  },
  {
   "cell_type": "code",
   "execution_count": 76,
   "id": "fcd2888b",
   "metadata": {},
   "outputs": [],
   "source": [
    "num_list.reverse()"
   ]
  },
  {
   "cell_type": "code",
   "execution_count": 77,
   "id": "d7ac802d",
   "metadata": {},
   "outputs": [
    {
     "data": {
      "text/plain": [
       "[6, 5, 4, 3, 2, 2, 1]"
      ]
     },
     "execution_count": 77,
     "metadata": {},
     "output_type": "execute_result"
    }
   ],
   "source": [
    "num_list"
   ]
  },
  {
   "cell_type": "code",
   "execution_count": 78,
   "id": "17bac4fe",
   "metadata": {},
   "outputs": [],
   "source": [
    "test_string = \"this is a test\""
   ]
  },
  {
   "cell_type": "code",
   "execution_count": 81,
   "id": "003579d3",
   "metadata": {},
   "outputs": [],
   "source": [
    "new_list = []\n",
    "for i in test_string:\n",
    "    new_list.append(i)"
   ]
  },
  {
   "cell_type": "code",
   "execution_count": 82,
   "id": "29a3b99c",
   "metadata": {},
   "outputs": [
    {
     "data": {
      "text/plain": [
       "['t', 'h', 'i', 's', ' ', 'i', 's', ' ', 'a', ' ', 't', 'e', 's', 't']"
      ]
     },
     "execution_count": 82,
     "metadata": {},
     "output_type": "execute_result"
    }
   ],
   "source": [
    "new_list"
   ]
  },
  {
   "cell_type": "code",
   "execution_count": 83,
   "id": "20e5327e",
   "metadata": {},
   "outputs": [],
   "source": [
    "new_list.reverse()"
   ]
  },
  {
   "cell_type": "code",
   "execution_count": 84,
   "id": "34d4acd9",
   "metadata": {},
   "outputs": [
    {
     "data": {
      "text/plain": [
       "['t', 's', 'e', 't', ' ', 'a', ' ', 's', 'i', ' ', 's', 'i', 'h', 't']"
      ]
     },
     "execution_count": 84,
     "metadata": {},
     "output_type": "execute_result"
    }
   ],
   "source": [
    "new_list"
   ]
  },
  {
   "cell_type": "code",
   "execution_count": 85,
   "id": "7bea7a07",
   "metadata": {},
   "outputs": [],
   "source": [
    "rev_string = ''\n",
    "for i in new_list:\n",
    "    rev_string += i"
   ]
  },
  {
   "cell_type": "code",
   "execution_count": 86,
   "id": "2655fead",
   "metadata": {},
   "outputs": [
    {
     "data": {
      "text/plain": [
       "'tset a si siht'"
      ]
     },
     "execution_count": 86,
     "metadata": {},
     "output_type": "execute_result"
    }
   ],
   "source": [
    "rev_string"
   ]
  },
  {
   "cell_type": "code",
   "execution_count": 87,
   "id": "4f0ed1e0",
   "metadata": {},
   "outputs": [
    {
     "data": {
      "text/plain": [
       "'this is a test'"
      ]
     },
     "execution_count": 87,
     "metadata": {},
     "output_type": "execute_result"
    }
   ],
   "source": [
    "test_string"
   ]
  },
  {
   "cell_type": "code",
   "execution_count": 110,
   "id": "3e886e22",
   "metadata": {},
   "outputs": [
    {
     "name": "stdout",
     "output_type": "stream",
     "text": [
      "Forward: this is a test\n",
      "Reverse: tset a si siht\n"
     ]
    }
   ],
   "source": [
    "# a simple way to reverse a string while keeping it a string\n",
    "\n",
    "new_string2 = ''\n",
    "i = 0\n",
    "x = len(test_string)\n",
    "while abs(i) < x:\n",
    "    i -= 1\n",
    "    new_string2 += test_string[i]\n",
    "print(f\"Forward: {test_string}\\nReverse: {new_string2}\")"
   ]
  },
  {
   "cell_type": "code",
   "execution_count": 112,
   "id": "b48ac5f1",
   "metadata": {},
   "outputs": [
    {
     "name": "stdout",
     "output_type": "stream",
     "text": [
      "2\n"
     ]
    }
   ],
   "source": [
    "# How do I index a nested list?\n",
    "# print the '2' from the following list:\n",
    "test_list = [1,1,[1,2]]\n",
    "\n",
    "print(test_list[2][1])"
   ]
  },
  {
   "cell_type": "code",
   "execution_count": 111,
   "id": "1bad8a95",
   "metadata": {},
   "outputs": [],
   "source": [
    "################\n",
    "# Dictionaries #\n",
    "################"
   ]
  },
  {
   "cell_type": "code",
   "execution_count": 113,
   "id": "ca492a3a",
   "metadata": {},
   "outputs": [],
   "source": [
    "# Dictionaries are unordered mappings for storing objects.\n",
    "# They use key:value pairs to quickly grab objects without needing to know an index location"
   ]
  },
  {
   "cell_type": "code",
   "execution_count": 114,
   "id": "a4937db8",
   "metadata": {},
   "outputs": [],
   "source": [
    "# Dictionary syntax looks like this:\n",
    "# {'key1':'value1','key2':'value2'}"
   ]
  },
  {
   "cell_type": "code",
   "execution_count": 115,
   "id": "1a15ed56",
   "metadata": {},
   "outputs": [],
   "source": [
    "# when to chose a list? use this when you need to order, index, and slice items\n",
    "# when to chose a dictionary? use this when for unordered items that can't be sorted\n"
   ]
  },
  {
   "cell_type": "code",
   "execution_count": 116,
   "id": "c6b1d039",
   "metadata": {},
   "outputs": [],
   "source": [
    "# sample dictionary\n",
    "my_dict = {'key1':'value1','key2':'value2'}"
   ]
  },
  {
   "cell_type": "code",
   "execution_count": 117,
   "id": "89821bd7",
   "metadata": {},
   "outputs": [
    {
     "data": {
      "text/plain": [
       "{'key1': 'value1', 'key2': 'value2'}"
      ]
     },
     "execution_count": 117,
     "metadata": {},
     "output_type": "execute_result"
    }
   ],
   "source": [
    "my_dict"
   ]
  },
  {
   "cell_type": "code",
   "execution_count": 118,
   "id": "7eb6d760",
   "metadata": {},
   "outputs": [
    {
     "data": {
      "text/plain": [
       "'value1'"
      ]
     },
     "execution_count": 118,
     "metadata": {},
     "output_type": "execute_result"
    }
   ],
   "source": [
    "# get a value\n",
    "my_dict['key1']"
   ]
  },
  {
   "cell_type": "code",
   "execution_count": 119,
   "id": "752ef5cf",
   "metadata": {},
   "outputs": [],
   "source": [
    "# prices in a store\n",
    "# lookup prices\n",
    "\n",
    "prices_lookup = {'apple':2.99,'oranges':1.99,'milk':5.80}"
   ]
  },
  {
   "cell_type": "code",
   "execution_count": 120,
   "id": "76140afb",
   "metadata": {},
   "outputs": [
    {
     "data": {
      "text/plain": [
       "2.99"
      ]
     },
     "execution_count": 120,
     "metadata": {},
     "output_type": "execute_result"
    }
   ],
   "source": [
    "prices_lookup['apple']"
   ]
  },
  {
   "cell_type": "code",
   "execution_count": 121,
   "id": "4dd832ae",
   "metadata": {},
   "outputs": [],
   "source": [
    "x = 'apple'"
   ]
  },
  {
   "cell_type": "code",
   "execution_count": 122,
   "id": "2b35284e",
   "metadata": {},
   "outputs": [
    {
     "data": {
      "text/plain": [
       "2.99"
      ]
     },
     "execution_count": 122,
     "metadata": {},
     "output_type": "execute_result"
    }
   ],
   "source": [
    "prices_lookup[x]"
   ]
  },
  {
   "cell_type": "code",
   "execution_count": 123,
   "id": "0e265048",
   "metadata": {},
   "outputs": [],
   "source": [
    "d = {'k1':123,'k2':[0,1,2],'k3':{'insideKey':100}}"
   ]
  },
  {
   "cell_type": "code",
   "execution_count": 124,
   "id": "55b09de3",
   "metadata": {},
   "outputs": [
    {
     "data": {
      "text/plain": [
       "{'k1': 123, 'k2': [0, 1, 2], 'k3': {'insideKey': 100}}"
      ]
     },
     "execution_count": 124,
     "metadata": {},
     "output_type": "execute_result"
    }
   ],
   "source": [
    "d"
   ]
  },
  {
   "cell_type": "code",
   "execution_count": 125,
   "id": "b911a88c",
   "metadata": {},
   "outputs": [
    {
     "data": {
      "text/plain": [
       "[0, 1, 2]"
      ]
     },
     "execution_count": 125,
     "metadata": {},
     "output_type": "execute_result"
    }
   ],
   "source": [
    "# try to grab the list inside the dictionary d\n",
    "d['k2']"
   ]
  },
  {
   "cell_type": "code",
   "execution_count": 126,
   "id": "6a68777e",
   "metadata": {},
   "outputs": [
    {
     "data": {
      "text/plain": [
       "1"
      ]
     },
     "execution_count": 126,
     "metadata": {},
     "output_type": "execute_result"
    }
   ],
   "source": [
    "# try to grab the '1' in that list\n",
    "d['k2'][1]"
   ]
  },
  {
   "cell_type": "code",
   "execution_count": 127,
   "id": "9ae2142f",
   "metadata": {},
   "outputs": [
    {
     "data": {
      "text/plain": [
       "100"
      ]
     },
     "execution_count": 127,
     "metadata": {},
     "output_type": "execute_result"
    }
   ],
   "source": [
    "# grab the value 100 inside the inner dictionary\n",
    "d['k3']['insideKey']"
   ]
  },
  {
   "cell_type": "code",
   "execution_count": 128,
   "id": "7c363a6a",
   "metadata": {},
   "outputs": [],
   "source": [
    "# you have to stack the calls to get to a list or dictionary inside of a dictionary\n"
   ]
  },
  {
   "cell_type": "code",
   "execution_count": 129,
   "id": "83c878be",
   "metadata": {},
   "outputs": [
    {
     "data": {
      "text/plain": [
       "2"
      ]
     },
     "execution_count": 129,
     "metadata": {},
     "output_type": "execute_result"
    }
   ],
   "source": [
    "# grab the number '2' in the list\n",
    "d['k2'][2]"
   ]
  },
  {
   "cell_type": "code",
   "execution_count": 130,
   "id": "0f126ae9",
   "metadata": {},
   "outputs": [],
   "source": [
    "d2 = {'key1':['God','Guns','Guts']}"
   ]
  },
  {
   "cell_type": "code",
   "execution_count": 131,
   "id": "11bf07a0",
   "metadata": {},
   "outputs": [
    {
     "data": {
      "text/plain": [
       "'God'"
      ]
     },
     "execution_count": 131,
     "metadata": {},
     "output_type": "execute_result"
    }
   ],
   "source": [
    "d2['key1'][0]"
   ]
  },
  {
   "cell_type": "code",
   "execution_count": 134,
   "id": "92335f20",
   "metadata": {},
   "outputs": [
    {
     "name": "stdout",
     "output_type": "stream",
     "text": [
      "God\n",
      "Guns\n",
      "Guts\n"
     ]
    }
   ],
   "source": [
    "x = 0\n",
    "while x<3:\n",
    "    print(d2['key1'][x])\n",
    "    x+=1"
   ]
  },
  {
   "cell_type": "code",
   "execution_count": 136,
   "id": "0e6562c7",
   "metadata": {},
   "outputs": [
    {
     "data": {
      "text/plain": [
       "'GUTS'"
      ]
     },
     "execution_count": 136,
     "metadata": {},
     "output_type": "execute_result"
    }
   ],
   "source": [
    "# make 'Guts' all uppercase\n",
    "d2['key1'][2].upper()"
   ]
  },
  {
   "cell_type": "code",
   "execution_count": 137,
   "id": "2c87be63",
   "metadata": {},
   "outputs": [
    {
     "data": {
      "text/plain": [
       "'GUTS'"
      ]
     },
     "execution_count": 137,
     "metadata": {},
     "output_type": "execute_result"
    }
   ],
   "source": [
    "# that's the same thing as doing all of these calls\n",
    "mylist = d2['key1']\n",
    "letters = mylist[2]\n",
    "letters.upper()"
   ]
  },
  {
   "cell_type": "code",
   "execution_count": 138,
   "id": "b9a3c765",
   "metadata": {},
   "outputs": [],
   "source": [
    "# how to add new key:value pairs to an existing dictionary\n",
    "d = {'k1':100,'k2':200}"
   ]
  },
  {
   "cell_type": "code",
   "execution_count": 140,
   "id": "5813efc3",
   "metadata": {},
   "outputs": [],
   "source": [
    "# now add in an additional key:value pair\n",
    "d['k3'] = 300"
   ]
  },
  {
   "cell_type": "code",
   "execution_count": 141,
   "id": "61401eb9",
   "metadata": {},
   "outputs": [
    {
     "data": {
      "text/plain": [
       "{'k1': 100, 'k2': 200, 'k3': 300}"
      ]
     },
     "execution_count": 141,
     "metadata": {},
     "output_type": "execute_result"
    }
   ],
   "source": [
    "d"
   ]
  },
  {
   "cell_type": "code",
   "execution_count": 142,
   "id": "487342c5",
   "metadata": {},
   "outputs": [],
   "source": [
    "# overwrite an existing key:value\n",
    "d['k1'] = \"I changed it\""
   ]
  },
  {
   "cell_type": "code",
   "execution_count": 143,
   "id": "aa86b3a3",
   "metadata": {},
   "outputs": [
    {
     "data": {
      "text/plain": [
       "{'k1': 'I changed it', 'k2': 200, 'k3': 300}"
      ]
     },
     "execution_count": 143,
     "metadata": {},
     "output_type": "execute_result"
    }
   ],
   "source": [
    "d"
   ]
  },
  {
   "cell_type": "code",
   "execution_count": 144,
   "id": "89abb800",
   "metadata": {},
   "outputs": [],
   "source": [
    "# grab all the keys\n",
    "d = {'k1': 100, 'k2': 200, 'k3': 300}"
   ]
  },
  {
   "cell_type": "code",
   "execution_count": 145,
   "id": "e05eb585",
   "metadata": {},
   "outputs": [
    {
     "data": {
      "text/plain": [
       "<function dict.keys>"
      ]
     },
     "execution_count": 145,
     "metadata": {},
     "output_type": "execute_result"
    }
   ],
   "source": [
    "d.keys"
   ]
  },
  {
   "cell_type": "code",
   "execution_count": 146,
   "id": "0c24e3d8",
   "metadata": {},
   "outputs": [
    {
     "data": {
      "text/plain": [
       "dict_keys(['k1', 'k2', 'k3'])"
      ]
     },
     "execution_count": 146,
     "metadata": {},
     "output_type": "execute_result"
    }
   ],
   "source": [
    "d.keys()"
   ]
  },
  {
   "cell_type": "code",
   "execution_count": 147,
   "id": "fded1262",
   "metadata": {},
   "outputs": [
    {
     "data": {
      "text/plain": [
       "dict_values([100, 200, 300])"
      ]
     },
     "execution_count": 147,
     "metadata": {},
     "output_type": "execute_result"
    }
   ],
   "source": [
    "d.values()"
   ]
  },
  {
   "cell_type": "code",
   "execution_count": 148,
   "id": "dae89d83",
   "metadata": {},
   "outputs": [
    {
     "data": {
      "text/plain": [
       "dict_items([('k1', 100), ('k2', 200), ('k3', 300)])"
      ]
     },
     "execution_count": 148,
     "metadata": {},
     "output_type": "execute_result"
    }
   ],
   "source": [
    "d.items()"
   ]
  },
  {
   "cell_type": "code",
   "execution_count": 151,
   "id": "abdf50e8",
   "metadata": {},
   "outputs": [
    {
     "data": {
      "text/plain": [
       "dict_items"
      ]
     },
     "execution_count": 151,
     "metadata": {},
     "output_type": "execute_result"
    }
   ],
   "source": [
    "type(d.items())"
   ]
  },
  {
   "cell_type": "code",
   "execution_count": 152,
   "id": "9ed80818",
   "metadata": {},
   "outputs": [],
   "source": [
    "x = d.items()"
   ]
  },
  {
   "cell_type": "code",
   "execution_count": 153,
   "id": "75960567",
   "metadata": {},
   "outputs": [
    {
     "data": {
      "text/plain": [
       "dict_items"
      ]
     },
     "execution_count": 153,
     "metadata": {},
     "output_type": "execute_result"
    }
   ],
   "source": [
    "type(x)"
   ]
  },
  {
   "cell_type": "code",
   "execution_count": 154,
   "id": "73e4eeae",
   "metadata": {},
   "outputs": [
    {
     "data": {
      "text/plain": [
       "dict_items([('k1', 100), ('k2', 200), ('k3', 300)])"
      ]
     },
     "execution_count": 154,
     "metadata": {},
     "output_type": "execute_result"
    }
   ],
   "source": [
    "x"
   ]
  },
  {
   "cell_type": "code",
   "execution_count": 155,
   "id": "bc749bec",
   "metadata": {},
   "outputs": [
    {
     "ename": "TypeError",
     "evalue": "'dict_items' object is not callable",
     "output_type": "error",
     "traceback": [
      "\u001b[0;31m---------------------------------------------------------------------------\u001b[0m",
      "\u001b[0;31mTypeError\u001b[0m                                 Traceback (most recent call last)",
      "\u001b[0;32m/tmp/ipykernel_31864/3614494907.py\u001b[0m in \u001b[0;36m<module>\u001b[0;34m\u001b[0m\n\u001b[0;32m----> 1\u001b[0;31m \u001b[0mx\u001b[0m\u001b[0;34m(\u001b[0m\u001b[0;36m1\u001b[0m\u001b[0;34m)\u001b[0m\u001b[0;34m\u001b[0m\u001b[0;34m\u001b[0m\u001b[0m\n\u001b[0m",
      "\u001b[0;31mTypeError\u001b[0m: 'dict_items' object is not callable"
     ]
    }
   ],
   "source": [
    "x(1)"
   ]
  },
  {
   "cell_type": "code",
   "execution_count": 156,
   "id": "357a5539",
   "metadata": {},
   "outputs": [
    {
     "ename": "TypeError",
     "evalue": "'dict_items' object is not subscriptable",
     "output_type": "error",
     "traceback": [
      "\u001b[0;31m---------------------------------------------------------------------------\u001b[0m",
      "\u001b[0;31mTypeError\u001b[0m                                 Traceback (most recent call last)",
      "\u001b[0;32m/tmp/ipykernel_31864/4118936608.py\u001b[0m in \u001b[0;36m<module>\u001b[0;34m\u001b[0m\n\u001b[0;32m----> 1\u001b[0;31m \u001b[0mx\u001b[0m\u001b[0;34m[\u001b[0m\u001b[0;36m1\u001b[0m\u001b[0;34m]\u001b[0m\u001b[0;34m\u001b[0m\u001b[0;34m\u001b[0m\u001b[0m\n\u001b[0m",
      "\u001b[0;31mTypeError\u001b[0m: 'dict_items' object is not subscriptable"
     ]
    }
   ],
   "source": [
    "x[1]"
   ]
  },
  {
   "cell_type": "code",
   "execution_count": 157,
   "id": "7f4a63e8",
   "metadata": {},
   "outputs": [
    {
     "ename": "TypeError",
     "evalue": "'dict_items' object is not callable",
     "output_type": "error",
     "traceback": [
      "\u001b[0;31m---------------------------------------------------------------------------\u001b[0m",
      "\u001b[0;31mTypeError\u001b[0m                                 Traceback (most recent call last)",
      "\u001b[0;32m/tmp/ipykernel_31864/1700596371.py\u001b[0m in \u001b[0;36m<module>\u001b[0;34m\u001b[0m\n\u001b[0;32m----> 1\u001b[0;31m \u001b[0mtype\u001b[0m\u001b[0;34m(\u001b[0m\u001b[0mx\u001b[0m\u001b[0;34m(\u001b[0m\u001b[0;34m)\u001b[0m\u001b[0;34m)\u001b[0m\u001b[0;34m\u001b[0m\u001b[0;34m\u001b[0m\u001b[0m\n\u001b[0m",
      "\u001b[0;31mTypeError\u001b[0m: 'dict_items' object is not callable"
     ]
    }
   ],
   "source": [
    "type(x())"
   ]
  },
  {
   "cell_type": "code",
   "execution_count": 158,
   "id": "f1b4c34c",
   "metadata": {},
   "outputs": [
    {
     "data": {
      "text/plain": [
       "dict_items([('k1', 100), ('k2', 200), ('k3', 300)])"
      ]
     },
     "execution_count": 158,
     "metadata": {},
     "output_type": "execute_result"
    }
   ],
   "source": [
    "x"
   ]
  },
  {
   "cell_type": "code",
   "execution_count": 159,
   "id": "a8b59401",
   "metadata": {},
   "outputs": [
    {
     "data": {
      "text/plain": [
       "dict_items([('k1', 100), ('k2', 200), ('k3', 300)])"
      ]
     },
     "execution_count": 159,
     "metadata": {},
     "output_type": "execute_result"
    }
   ],
   "source": [
    "d.items()"
   ]
  },
  {
   "cell_type": "code",
   "execution_count": 160,
   "id": "7577cf78",
   "metadata": {},
   "outputs": [],
   "source": [
    "# this returns the key:value pairs as a tuple"
   ]
  },
  {
   "cell_type": "code",
   "execution_count": 161,
   "id": "a0e755d4",
   "metadata": {},
   "outputs": [
    {
     "ename": "TypeError",
     "evalue": "'dict_items' object is not subscriptable",
     "output_type": "error",
     "traceback": [
      "\u001b[0;31m---------------------------------------------------------------------------\u001b[0m",
      "\u001b[0;31mTypeError\u001b[0m                                 Traceback (most recent call last)",
      "\u001b[0;32m/tmp/ipykernel_31864/1428248546.py\u001b[0m in \u001b[0;36m<module>\u001b[0;34m\u001b[0m\n\u001b[0;32m----> 1\u001b[0;31m \u001b[0mx\u001b[0m\u001b[0;34m[\u001b[0m\u001b[0;36m0\u001b[0m\u001b[0;34m]\u001b[0m\u001b[0;34m[\u001b[0m\u001b[0;36m0\u001b[0m\u001b[0;34m]\u001b[0m\u001b[0;34m\u001b[0m\u001b[0;34m\u001b[0m\u001b[0m\n\u001b[0m",
      "\u001b[0;31mTypeError\u001b[0m: 'dict_items' object is not subscriptable"
     ]
    }
   ],
   "source": [
    "x[0][0]"
   ]
  },
  {
   "cell_type": "code",
   "execution_count": 162,
   "id": "900c5dc4",
   "metadata": {},
   "outputs": [
    {
     "ename": "SyntaxError",
     "evalue": "invalid syntax (509403736.py, line 1)",
     "output_type": "error",
     "traceback": [
      "\u001b[0;36m  File \u001b[0;32m\"/tmp/ipykernel_31864/509403736.py\"\u001b[0;36m, line \u001b[0;32m1\u001b[0m\n\u001b[0;31m    x{0}\u001b[0m\n\u001b[0m     ^\u001b[0m\n\u001b[0;31mSyntaxError\u001b[0m\u001b[0;31m:\u001b[0m invalid syntax\n"
     ]
    }
   ],
   "source": [
    "x{0}"
   ]
  },
  {
   "cell_type": "code",
   "execution_count": 163,
   "id": "53a6ce42",
   "metadata": {},
   "outputs": [
    {
     "ename": "TypeError",
     "evalue": "'dict_items' object is not subscriptable",
     "output_type": "error",
     "traceback": [
      "\u001b[0;31m---------------------------------------------------------------------------\u001b[0m",
      "\u001b[0;31mTypeError\u001b[0m                                 Traceback (most recent call last)",
      "\u001b[0;32m/tmp/ipykernel_31864/471441140.py\u001b[0m in \u001b[0;36m<module>\u001b[0;34m\u001b[0m\n\u001b[0;32m----> 1\u001b[0;31m \u001b[0mx\u001b[0m\u001b[0;34m[\u001b[0m\u001b[0;34m'k1'\u001b[0m\u001b[0;34m]\u001b[0m\u001b[0;34m\u001b[0m\u001b[0;34m\u001b[0m\u001b[0m\n\u001b[0m",
      "\u001b[0;31mTypeError\u001b[0m: 'dict_items' object is not subscriptable"
     ]
    }
   ],
   "source": [
    "x['k1']"
   ]
  },
  {
   "cell_type": "code",
   "execution_count": 164,
   "id": "12313a03",
   "metadata": {},
   "outputs": [
    {
     "data": {
      "text/plain": [
       "dict_items([('k1', 100), ('k2', 200), ('k3', 300)])"
      ]
     },
     "execution_count": 164,
     "metadata": {},
     "output_type": "execute_result"
    }
   ],
   "source": [
    "# how do I use this?\n",
    "x"
   ]
  },
  {
   "cell_type": "code",
   "execution_count": null,
   "id": "ac5d5917",
   "metadata": {},
   "outputs": [],
   "source": []
  }
 ],
 "metadata": {
  "kernelspec": {
   "display_name": "Python 3 (ipykernel)",
   "language": "python",
   "name": "python3"
  },
  "language_info": {
   "codemirror_mode": {
    "name": "ipython",
    "version": 3
   },
   "file_extension": ".py",
   "mimetype": "text/x-python",
   "name": "python",
   "nbconvert_exporter": "python",
   "pygments_lexer": "ipython3",
   "version": "3.9.13"
  }
 },
 "nbformat": 4,
 "nbformat_minor": 5
}
