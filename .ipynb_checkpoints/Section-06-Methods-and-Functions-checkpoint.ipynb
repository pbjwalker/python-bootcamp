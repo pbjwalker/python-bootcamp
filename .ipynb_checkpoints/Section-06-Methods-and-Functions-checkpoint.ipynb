{
 "cells": [
  {
   "cell_type": "code",
   "execution_count": 1,
   "id": "ce38fad3",
   "metadata": {},
   "outputs": [],
   "source": [
    "# Section 6: Methods and Functions"
   ]
  },
  {
   "cell_type": "markdown",
   "id": "c98f4cbe",
   "metadata": {},
   "source": [
    "<strong>41 - Methods and the Python Documentation</strong>"
   ]
  },
  {
   "cell_type": "code",
   "execution_count": 31,
   "id": "16117c59",
   "metadata": {},
   "outputs": [],
   "source": [
    "mylist = [1,2,3]"
   ]
  },
  {
   "cell_type": "code",
   "execution_count": 32,
   "id": "791ac6d3",
   "metadata": {},
   "outputs": [],
   "source": [
    "mylist.append(4)"
   ]
  },
  {
   "cell_type": "code",
   "execution_count": 33,
   "id": "fd93cdda",
   "metadata": {},
   "outputs": [
    {
     "data": {
      "text/plain": [
       "[1, 2, 3, 4]"
      ]
     },
     "execution_count": 33,
     "metadata": {},
     "output_type": "execute_result"
    }
   ],
   "source": [
    "mylist"
   ]
  },
  {
   "cell_type": "code",
   "execution_count": 34,
   "id": "a2c37acf",
   "metadata": {},
   "outputs": [
    {
     "data": {
      "text/plain": [
       "4"
      ]
     },
     "execution_count": 34,
     "metadata": {},
     "output_type": "execute_result"
    }
   ],
   "source": [
    "mylist.pop()"
   ]
  },
  {
   "cell_type": "code",
   "execution_count": 35,
   "id": "492f6d15",
   "metadata": {},
   "outputs": [
    {
     "data": {
      "text/plain": [
       "[1, 2, 3]"
      ]
     },
     "execution_count": 35,
     "metadata": {},
     "output_type": "execute_result"
    }
   ],
   "source": [
    "mylist"
   ]
  },
  {
   "cell_type": "code",
   "execution_count": 36,
   "id": "05149e87",
   "metadata": {},
   "outputs": [],
   "source": [
    "mylist.append(10)"
   ]
  },
  {
   "cell_type": "code",
   "execution_count": 37,
   "id": "9525b595",
   "metadata": {},
   "outputs": [
    {
     "data": {
      "text/plain": [
       "[1, 2, 3, 10]"
      ]
     },
     "execution_count": 37,
     "metadata": {},
     "output_type": "execute_result"
    }
   ],
   "source": [
    "mylist"
   ]
  },
  {
   "cell_type": "code",
   "execution_count": 38,
   "id": "1abcf761",
   "metadata": {},
   "outputs": [],
   "source": [
    "popped_off = mylist.pop()"
   ]
  },
  {
   "cell_type": "code",
   "execution_count": 39,
   "id": "48e603eb",
   "metadata": {},
   "outputs": [
    {
     "data": {
      "text/plain": [
       "10"
      ]
     },
     "execution_count": 39,
     "metadata": {},
     "output_type": "execute_result"
    }
   ],
   "source": [
    "popped_off"
   ]
  },
  {
   "cell_type": "code",
   "execution_count": 40,
   "id": "d356e8f0",
   "metadata": {},
   "outputs": [
    {
     "data": {
      "text/plain": [
       "[1, 2, 3]"
      ]
     },
     "execution_count": 40,
     "metadata": {},
     "output_type": "execute_result"
    }
   ],
   "source": [
    "mylist"
   ]
  },
  {
   "cell_type": "code",
   "execution_count": 41,
   "id": "477f9b92",
   "metadata": {},
   "outputs": [],
   "source": [
    "# In this case, the list mylist is an object.\n",
    "# Once you define an object. you can enter the name, a dot, and press tab.\n",
    "# This pops up a box to show you what methods are available to call on the object."
   ]
  },
  {
   "cell_type": "code",
   "execution_count": 42,
   "id": "edf431fd",
   "metadata": {},
   "outputs": [],
   "source": [
    "# Two ways to get Python to help you learn about a method.\n",
    "# Do the above and find a method you want info on.\n",
    "# In the Jupyter notebook, you can enter it like this, and hit shift-tab for a small description\n",
    "# mylist.insert"
   ]
  },
  {
   "cell_type": "code",
   "execution_count": 43,
   "id": "375436d7",
   "metadata": {},
   "outputs": [
    {
     "name": "stdout",
     "output_type": "stream",
     "text": [
      "Help on built-in function insert:\n",
      "\n",
      "insert(index, object, /) method of builtins.list instance\n",
      "    Insert object before index.\n",
      "\n"
     ]
    }
   ],
   "source": [
    "# Outside of the Jupyter notebook, you can call the help() function\n",
    "help(mylist.insert)"
   ]
  },
  {
   "cell_type": "code",
   "execution_count": 45,
   "id": "f447b906",
   "metadata": {},
   "outputs": [],
   "source": [
    "# The other way is to go to the Python documentation site\n",
    "# https://docs.python.org\n",
    "# Go to the Library Reference section"
   ]
  },
  {
   "cell_type": "code",
   "execution_count": 46,
   "id": "0e111693",
   "metadata": {},
   "outputs": [],
   "source": [
    "# A lot of people go to Stackoverflow because it's more readable\n",
    "# https://stackoverflow.com/questions"
   ]
  },
  {
   "cell_type": "markdown",
   "id": "6050548e",
   "metadata": {},
   "source": [
    "<strong>42 - Introduction to Functions</strong>"
   ]
  },
  {
   "cell_type": "code",
   "execution_count": null,
   "id": "58453c85",
   "metadata": {},
   "outputs": [],
   "source": []
  }
 ],
 "metadata": {
  "kernelspec": {
   "display_name": "Python 3 (ipykernel)",
   "language": "python",
   "name": "python3"
  },
  "language_info": {
   "codemirror_mode": {
    "name": "ipython",
    "version": 3
   },
   "file_extension": ".py",
   "mimetype": "text/x-python",
   "name": "python",
   "nbconvert_exporter": "python",
   "pygments_lexer": "ipython3",
   "version": "3.9.13"
  }
 },
 "nbformat": 4,
 "nbformat_minor": 5
}
