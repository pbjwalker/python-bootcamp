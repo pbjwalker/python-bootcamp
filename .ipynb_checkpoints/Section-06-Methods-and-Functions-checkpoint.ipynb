{
 "cells": [
  {
   "cell_type": "code",
   "execution_count": 1,
   "id": "ce38fad3",
   "metadata": {},
   "outputs": [],
   "source": [
    "# Section 6: Methods and Functions"
   ]
  },
  {
   "cell_type": "markdown",
   "id": "c98f4cbe",
   "metadata": {},
   "source": [
    "<strong>41 - Methods and the Python Documentation</strong>"
   ]
  },
  {
   "cell_type": "code",
   "execution_count": 31,
   "id": "16117c59",
   "metadata": {},
   "outputs": [],
   "source": [
    "mylist = [1,2,3]"
   ]
  },
  {
   "cell_type": "code",
   "execution_count": 32,
   "id": "791ac6d3",
   "metadata": {},
   "outputs": [],
   "source": [
    "mylist.append(4)"
   ]
  },
  {
   "cell_type": "code",
   "execution_count": 33,
   "id": "fd93cdda",
   "metadata": {},
   "outputs": [
    {
     "data": {
      "text/plain": [
       "[1, 2, 3, 4]"
      ]
     },
     "execution_count": 33,
     "metadata": {},
     "output_type": "execute_result"
    }
   ],
   "source": [
    "mylist"
   ]
  },
  {
   "cell_type": "code",
   "execution_count": 34,
   "id": "a2c37acf",
   "metadata": {},
   "outputs": [
    {
     "data": {
      "text/plain": [
       "4"
      ]
     },
     "execution_count": 34,
     "metadata": {},
     "output_type": "execute_result"
    }
   ],
   "source": [
    "mylist.pop()"
   ]
  },
  {
   "cell_type": "code",
   "execution_count": 35,
   "id": "492f6d15",
   "metadata": {},
   "outputs": [
    {
     "data": {
      "text/plain": [
       "[1, 2, 3]"
      ]
     },
     "execution_count": 35,
     "metadata": {},
     "output_type": "execute_result"
    }
   ],
   "source": [
    "mylist"
   ]
  },
  {
   "cell_type": "code",
   "execution_count": 36,
   "id": "05149e87",
   "metadata": {},
   "outputs": [],
   "source": [
    "mylist.append(10)"
   ]
  },
  {
   "cell_type": "code",
   "execution_count": 37,
   "id": "9525b595",
   "metadata": {},
   "outputs": [
    {
     "data": {
      "text/plain": [
       "[1, 2, 3, 10]"
      ]
     },
     "execution_count": 37,
     "metadata": {},
     "output_type": "execute_result"
    }
   ],
   "source": [
    "mylist"
   ]
  },
  {
   "cell_type": "code",
   "execution_count": 38,
   "id": "1abcf761",
   "metadata": {},
   "outputs": [],
   "source": [
    "popped_off = mylist.pop()"
   ]
  },
  {
   "cell_type": "code",
   "execution_count": 39,
   "id": "48e603eb",
   "metadata": {},
   "outputs": [
    {
     "data": {
      "text/plain": [
       "10"
      ]
     },
     "execution_count": 39,
     "metadata": {},
     "output_type": "execute_result"
    }
   ],
   "source": [
    "popped_off"
   ]
  },
  {
   "cell_type": "code",
   "execution_count": 40,
   "id": "d356e8f0",
   "metadata": {},
   "outputs": [
    {
     "data": {
      "text/plain": [
       "[1, 2, 3]"
      ]
     },
     "execution_count": 40,
     "metadata": {},
     "output_type": "execute_result"
    }
   ],
   "source": [
    "mylist"
   ]
  },
  {
   "cell_type": "code",
   "execution_count": 41,
   "id": "477f9b92",
   "metadata": {},
   "outputs": [],
   "source": [
    "# In this case, the list mylist is an object.\n",
    "# Once you define an object. you can enter the name, a dot, and press tab.\n",
    "# This pops up a box to show you what methods are available to call on the object."
   ]
  },
  {
   "cell_type": "code",
   "execution_count": 42,
   "id": "edf431fd",
   "metadata": {},
   "outputs": [],
   "source": [
    "# Two ways to get Python to help you learn about a method.\n",
    "# Do the above and find a method you want info on.\n",
    "# In the Jupyter notebook, you can enter it like this, and hit shift-tab for a small description\n",
    "# mylist.insert"
   ]
  },
  {
   "cell_type": "code",
   "execution_count": 43,
   "id": "375436d7",
   "metadata": {},
   "outputs": [
    {
     "name": "stdout",
     "output_type": "stream",
     "text": [
      "Help on built-in function insert:\n",
      "\n",
      "insert(index, object, /) method of builtins.list instance\n",
      "    Insert object before index.\n",
      "\n"
     ]
    }
   ],
   "source": [
    "# Outside of the Jupyter notebook, you can call the help() function\n",
    "help(mylist.insert)"
   ]
  },
  {
   "cell_type": "code",
   "execution_count": 45,
   "id": "f447b906",
   "metadata": {},
   "outputs": [],
   "source": [
    "# The other way is to go to the Python documentation site\n",
    "# https://docs.python.org\n",
    "# Go to the Library Reference section"
   ]
  },
  {
   "cell_type": "code",
   "execution_count": 46,
   "id": "0e111693",
   "metadata": {},
   "outputs": [],
   "source": [
    "# A lot of people go to Stackoverflow because it's more readable\n",
    "# https://stackoverflow.com/questions"
   ]
  },
  {
   "cell_type": "markdown",
   "id": "6050548e",
   "metadata": {},
   "source": [
    "<strong>42 - Introduction to Functions</strong>"
   ]
  },
  {
   "cell_type": "code",
   "execution_count": 1,
   "id": "58453c85",
   "metadata": {},
   "outputs": [],
   "source": [
    "# Remember: Creating clean, repeatable code is a key part of becoming an effectice programmer\n",
    "# Functions allow us to create blocks of code that can be easily executed may times, without needing to constantly write the entire block of code."
   ]
  },
  {
   "cell_type": "markdown",
   "id": "7f48dc64",
   "metadata": {},
   "source": [
    "<strong>43 - def Keyword</strong>"
   ]
  },
  {
   "cell_type": "code",
   "execution_count": 2,
   "id": "be0de490",
   "metadata": {},
   "outputs": [],
   "source": [
    "# Creating a function requires a very specific syntax, including the def keyword, correct indentation, and proper structure.\n"
   ]
  },
  {
   "cell_type": "code",
   "execution_count": 12,
   "id": "c8d8a852",
   "metadata": {},
   "outputs": [],
   "source": [
    "# function syntax\n",
    "#\n",
    "# def name_of_function():\n",
    "#    '''\n",
    "\n",
    "\n",
    "#    '''\n",
    "#    print(\"Hello\")"
   ]
  },
  {
   "cell_type": "code",
   "execution_count": 18,
   "id": "f28db95d",
   "metadata": {},
   "outputs": [],
   "source": [
    "# notice that the \"name_of_function():\" is written in snake casing\n",
    "# Snake casing is all lowercase with underscores between words\n",
    "# In general, by convention, Python uses snake casing for the name of the function\n",
    "# The parentheses at the end can contain arguments or parameters that are passed into the function.\n",
    "# The colon at the end indicates an upcoming indented block\n",
    "# The block between the triple quotes '''   ''' is the Docstring, which explains the function.\n",
    "# The Docstring is optional.  This code is not executed.  \n",
    "# In the example, \"print(\"Hello\")\" is the code that will be executed everytime you call the function\n",
    "# In most cases, use the \"return\" keyword to return the result of the function"
   ]
  },
  {
   "cell_type": "code",
   "execution_count": 13,
   "id": "424e3c12",
   "metadata": {},
   "outputs": [],
   "source": [
    "def name_of_function(name):\n",
    "    '''This is a basic function'''\n",
    "    print(\"Hello \" + name)"
   ]
  },
  {
   "cell_type": "code",
   "execution_count": 15,
   "id": "4edc6724",
   "metadata": {},
   "outputs": [
    {
     "name": "stdout",
     "output_type": "stream",
     "text": [
      "Hello Paul\n"
     ]
    }
   ],
   "source": [
    "name_of_function(\"Paul\")"
   ]
  },
  {
   "cell_type": "code",
   "execution_count": 16,
   "id": "b59caaf2",
   "metadata": {},
   "outputs": [],
   "source": [
    "x = \"Trevor\""
   ]
  },
  {
   "cell_type": "code",
   "execution_count": 17,
   "id": "ff7dd369",
   "metadata": {},
   "outputs": [
    {
     "name": "stdout",
     "output_type": "stream",
     "text": [
      "Hello Trevor\n"
     ]
    }
   ],
   "source": [
    "name_of_function(x)"
   ]
  },
  {
   "cell_type": "code",
   "execution_count": 19,
   "id": "2250fd31",
   "metadata": {},
   "outputs": [],
   "source": [
    "# another example:\n",
    "\n",
    "# def add_function(num1,num2):\n",
    "#    return num1 + num2"
   ]
  },
  {
   "cell_type": "code",
   "execution_count": 20,
   "id": "838f4f46",
   "metadata": {},
   "outputs": [],
   "source": [
    "def add_function(num1,num2):\n",
    "    return num1+num2"
   ]
  },
  {
   "cell_type": "code",
   "execution_count": 21,
   "id": "942e559a",
   "metadata": {},
   "outputs": [],
   "source": [
    "result = add_function(1,2)"
   ]
  },
  {
   "cell_type": "code",
   "execution_count": 22,
   "id": "be3b8b74",
   "metadata": {},
   "outputs": [
    {
     "data": {
      "text/plain": [
       "3"
      ]
     },
     "execution_count": 22,
     "metadata": {},
     "output_type": "execute_result"
    }
   ],
   "source": [
    "result"
   ]
  },
  {
   "cell_type": "code",
   "execution_count": 23,
   "id": "392efd1a",
   "metadata": {},
   "outputs": [],
   "source": [
    "# Using return allows you to save the result as a variable\n",
    "# Just using a print statement inside the function does not"
   ]
  },
  {
   "cell_type": "code",
   "execution_count": 24,
   "id": "43c2ffd7",
   "metadata": {},
   "outputs": [],
   "source": [
    "def does_it_save(printthis):\n",
    "    print(\"My string is \" + printthis)"
   ]
  },
  {
   "cell_type": "code",
   "execution_count": 25,
   "id": "32545f87",
   "metadata": {},
   "outputs": [
    {
     "name": "stdout",
     "output_type": "stream",
     "text": [
      "My string is Don't think so\n"
     ]
    }
   ],
   "source": [
    "myresult = does_it_save(\"Don't think so\")"
   ]
  },
  {
   "cell_type": "code",
   "execution_count": 26,
   "id": "84824a5c",
   "metadata": {},
   "outputs": [],
   "source": [
    "myresult"
   ]
  },
  {
   "cell_type": "code",
   "execution_count": 27,
   "id": "8fc957c6",
   "metadata": {},
   "outputs": [
    {
     "name": "stdout",
     "output_type": "stream",
     "text": [
      "None\n"
     ]
    }
   ],
   "source": [
    "print(myresult)"
   ]
  },
  {
   "cell_type": "code",
   "execution_count": null,
   "id": "7e98e9f1",
   "metadata": {},
   "outputs": [],
   "source": []
  }
 ],
 "metadata": {
  "kernelspec": {
   "display_name": "Python 3 (ipykernel)",
   "language": "python",
   "name": "python3"
  },
  "language_info": {
   "codemirror_mode": {
    "name": "ipython",
    "version": 3
   },
   "file_extension": ".py",
   "mimetype": "text/x-python",
   "name": "python",
   "nbconvert_exporter": "python",
   "pygments_lexer": "ipython3",
   "version": "3.9.13"
  }
 },
 "nbformat": 4,
 "nbformat_minor": 5
}
