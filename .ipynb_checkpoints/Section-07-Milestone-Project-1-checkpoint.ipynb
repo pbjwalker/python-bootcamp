{
 "cells": [
  {
   "cell_type": "markdown",
   "id": "d0c6105f",
   "metadata": {},
   "source": [
    "<strong>59 - Milestone Project 1</strong>"
   ]
  },
  {
   "cell_type": "code",
   "execution_count": 2,
   "id": "1f02878b",
   "metadata": {},
   "outputs": [],
   "source": [
    "# Warmup exercises to create a Tic-Tac-Toe game"
   ]
  },
  {
   "cell_type": "code",
   "execution_count": 3,
   "id": "ddc3b079",
   "metadata": {},
   "outputs": [],
   "source": [
    "# Most interactive programs work on this logic:\n",
    "# - Display something visual to the user\n",
    "# - Let the user update through an interaction\n",
    "# - Update variables in the program\n",
    "# - Display updated visual"
   ]
  },
  {
   "cell_type": "markdown",
   "id": "87775d86",
   "metadata": {},
   "source": [
    "<strong>60 - Displaying Information</strong>"
   ]
  },
  {
   "cell_type": "code",
   "execution_count": 4,
   "id": "46001bd9",
   "metadata": {},
   "outputs": [
    {
     "name": "stdout",
     "output_type": "stream",
     "text": [
      "[1, 2, 3]\n",
      "[4, 5, 6]\n",
      "[7, 8, 9]\n"
     ]
    }
   ],
   "source": [
    "# printing lists example\n",
    "\n",
    "print([1,2,3])\n",
    "print([4,5,6])\n",
    "print([7,8,9])"
   ]
  },
  {
   "cell_type": "code",
   "execution_count": 12,
   "id": "c79c52f7",
   "metadata": {},
   "outputs": [],
   "source": [
    "# no need to write this code over and over.\n",
    "# make it a function\n",
    "\n",
    "def display(row1,row2,row3):\n",
    "    print(row1)\n",
    "    print(row2)\n",
    "    print(row3)"
   ]
  },
  {
   "cell_type": "code",
   "execution_count": 13,
   "id": "b71345f7",
   "metadata": {},
   "outputs": [
    {
     "name": "stdout",
     "output_type": "stream",
     "text": [
      "[' ', ' ', ' ']\n",
      "[' ', ' ', ' ']\n",
      "[' ', ' ', ' ']\n"
     ]
    }
   ],
   "source": [
    "row1 = [' ',' ',' ']\n",
    "row2 = [' ',' ',' ']\n",
    "row3 = [' ',' ',' ']\n",
    "\n",
    "display(row1,row1,row1)"
   ]
  },
  {
   "cell_type": "code",
   "execution_count": 14,
   "id": "d5c2dd2b",
   "metadata": {},
   "outputs": [],
   "source": [
    "row2[1] = 'X'"
   ]
  },
  {
   "cell_type": "code",
   "execution_count": 17,
   "id": "da721548",
   "metadata": {},
   "outputs": [
    {
     "name": "stdout",
     "output_type": "stream",
     "text": [
      "[' ', ' ', ' ']\n",
      "[' ', 'X', ' ']\n",
      "[' ', ' ', ' ']\n"
     ]
    }
   ],
   "source": [
    "display(row1,row2,row3)"
   ]
  },
  {
   "cell_type": "code",
   "execution_count": 16,
   "id": "02d53d10",
   "metadata": {},
   "outputs": [
    {
     "data": {
      "text/plain": [
       "[' ', 'X', ' ']"
      ]
     },
     "execution_count": 16,
     "metadata": {},
     "output_type": "execute_result"
    }
   ],
   "source": [
    "row2"
   ]
  },
  {
   "cell_type": "markdown",
   "id": "fb96e1bb",
   "metadata": {},
   "source": [
    "<strong>61 - Accepting User Input</strong>"
   ]
  },
  {
   "cell_type": "code",
   "execution_count": 24,
   "id": "0101e57c",
   "metadata": {},
   "outputs": [
    {
     "name": "stdout",
     "output_type": "stream",
     "text": [
      "Choose an index position: 3\n"
     ]
    }
   ],
   "source": [
    "result = input(\"Choose an index position: \")\n",
    "\n",
    "# need to validate the result is a number before treating it as a number\n",
    "\n",
    "position_index = int(result)"
   ]
  },
  {
   "cell_type": "code",
   "execution_count": 25,
   "id": "9cff4af8",
   "metadata": {},
   "outputs": [
    {
     "data": {
      "text/plain": [
       "3"
      ]
     },
     "execution_count": 25,
     "metadata": {},
     "output_type": "execute_result"
    }
   ],
   "source": [
    "position_index"
   ]
  },
  {
   "cell_type": "code",
   "execution_count": 26,
   "id": "454649b0",
   "metadata": {},
   "outputs": [
    {
     "data": {
      "text/plain": [
       "int"
      ]
     },
     "execution_count": 26,
     "metadata": {},
     "output_type": "execute_result"
    }
   ],
   "source": [
    "type(position_index)"
   ]
  },
  {
   "cell_type": "markdown",
   "id": "2ef6fd9a",
   "metadata": {},
   "source": [
    "<strong>62 - Validating User Input</strong>"
   ]
  },
  {
   "cell_type": "code",
   "execution_count": 38,
   "id": "97816cde",
   "metadata": {},
   "outputs": [],
   "source": [
    "def user_choice():\n",
    "    choice = 0\n",
    "    while True:\n",
    "        # first time in a very long time I'm using 'try:except:else'\n",
    "        try:\n",
    "            choice = int(input(\"Please enter a number (0-10): \"))\n",
    "        except ValueError:\n",
    "            print('Not a number! Try again!')\n",
    "            continue\n",
    "        else:\n",
    "            break\n",
    "    \n",
    "    return int(choice)"
   ]
  },
  {
   "cell_type": "code",
   "execution_count": 47,
   "id": "15e885a7",
   "metadata": {},
   "outputs": [
    {
     "name": "stdout",
     "output_type": "stream",
     "text": [
      "Please enter a number (0-10): 3\n",
      "3 is a valid move!\n",
      "Moves available:  [0, 1, 2, 4, 5, 6, 7, 8, 9]\n",
      "Please enter a number (0-10): 2\n",
      "2 is a valid move!\n",
      "Moves available:  [0, 1, 4, 5, 6, 7, 8, 9]\n",
      "Please enter a number (0-10): 4\n",
      "4 is a valid move!\n",
      "Moves available:  [0, 1, 5, 6, 7, 8, 9]\n",
      "Please enter a number (0-10): 5\n",
      "5 is a valid move!\n",
      "Moves available:  [0, 1, 6, 7, 8, 9]\n",
      "Please enter a number (0-10): 8\n",
      "8 is a valid move!\n",
      "Moves available:  [0, 1, 6, 7, 9]\n",
      "Please enter a number (0-10): 9\n",
      "9 is a valid move!\n",
      "Moves available:  [0, 1, 6, 7]\n",
      "Please enter a number (0-10): 2\n",
      "That is not a valid move!\n",
      "Please enter a number (0-10): 1\n",
      "1 is a valid move!\n",
      "Moves available:  [0, 6, 7]\n",
      "Please enter a number (0-10): 0\n",
      "0 is a valid move!\n",
      "Moves available:  [6, 7]\n",
      "Please enter a number (0-10): 6\n",
      "6 is a valid move!\n",
      "Moves available:  [7]\n",
      "Please enter a number (0-10): 7\n",
      "7 is a valid move!\n",
      "Moves available:  []\n",
      "Game is over\n"
     ]
    }
   ],
   "source": [
    "def user_choice():\n",
    "    choice = 0\n",
    "    while True:\n",
    "        # first time in a very long time I'm using 'try:except:else'\n",
    "        try:\n",
    "            choice = int(input(\"Please enter a number (0-10): \"))\n",
    "        except ValueError:\n",
    "            print('Not a number! Try again!')\n",
    "            continue\n",
    "        else:\n",
    "            break\n",
    "    \n",
    "    return int(choice)\n",
    "\n",
    "\n",
    "# This is the main cell of the game\n",
    "# Each valid move is removed from the list of valid moves\n",
    "# Once there are no more moves, the game stops\n",
    "# It uses the user_choice() function to get an integer from the user\n",
    "\n",
    "move = 0\n",
    "valid_moves = [0,1,2,3,4,5,6,7,8,9]\n",
    "\n",
    "\n",
    "while len(valid_moves) > 0:\n",
    "    \n",
    "    while True:\n",
    "        move = user_choice()\n",
    "        if move in valid_moves:\n",
    "            print(f'{move} is a valid move!')\n",
    "            valid_moves.pop(valid_moves.index(move)) # Checks the index position of the move, then pops it out of the list\n",
    "            break\n",
    "        else:\n",
    "            print('That is not a valid move!')\n",
    "            \n",
    "    print(f'Moves available:  {valid_moves}')\n",
    "\n",
    "print('Game is over')\n",
    "\n"
   ]
  },
  {
   "cell_type": "code",
   "execution_count": 40,
   "id": "42e158bb",
   "metadata": {},
   "outputs": [],
   "source": [
    "valid_moves = [0,1,2,3,4,5,6,7,8,9]"
   ]
  },
  {
   "cell_type": "code",
   "execution_count": 41,
   "id": "f4b02a7e",
   "metadata": {},
   "outputs": [
    {
     "data": {
      "text/plain": [
       "3"
      ]
     },
     "execution_count": 41,
     "metadata": {},
     "output_type": "execute_result"
    }
   ],
   "source": [
    "valid_moves.index(3)"
   ]
  },
  {
   "cell_type": "code",
   "execution_count": 43,
   "id": "5826939a",
   "metadata": {},
   "outputs": [
    {
     "data": {
      "text/plain": [
       "3"
      ]
     },
     "execution_count": 43,
     "metadata": {},
     "output_type": "execute_result"
    }
   ],
   "source": [
    "valid_moves.pop(3)"
   ]
  },
  {
   "cell_type": "code",
   "execution_count": 44,
   "id": "ace24e7a",
   "metadata": {},
   "outputs": [
    {
     "data": {
      "text/plain": [
       "[0, 1, 2, 4, 5, 6, 7, 8, 9]"
      ]
     },
     "execution_count": 44,
     "metadata": {},
     "output_type": "execute_result"
    }
   ],
   "source": [
    "valid_moves"
   ]
  },
  {
   "cell_type": "code",
   "execution_count": 46,
   "id": "665f4891",
   "metadata": {},
   "outputs": [
    {
     "data": {
      "text/plain": [
       "5"
      ]
     },
     "execution_count": 46,
     "metadata": {},
     "output_type": "execute_result"
    }
   ],
   "source": [
    "valid_moves.index(6)"
   ]
  },
  {
   "cell_type": "code",
   "execution_count": 74,
   "id": "06f4bdc2",
   "metadata": {},
   "outputs": [
    {
     "name": "stdout",
     "output_type": "stream",
     "text": [
      "Please enter a number (0-9): 3\n",
      "Thanks!\n"
     ]
    }
   ],
   "source": [
    "# Here's another way to do it\n",
    "\n",
    "def check_num(num):\n",
    "    return num.isdigit()\n",
    "\n",
    "def check_move(move,valid_moves):\n",
    "    return (move in valid_moves)\n",
    "\n",
    "\n",
    "valid_moves = [0,1,2,3,4,5,6,7,8,9]\n",
    "\n",
    "while True:\n",
    "    user_num = input(\"Please enter a number (0-9): \")\n",
    "    if check_num(user_num):\n",
    "        num = int(user_num)\n",
    "        \n",
    "        if check_move(num,valid_moves):\n",
    "            valid_moves.pop(valid_moves.index(num))\n",
    "            print(\"Thanks!\")\n",
    "            break\n",
    "        else:\n",
    "            print('Invalid move')\n",
    "            continue\n"
   ]
  },
  {
   "cell_type": "code",
   "execution_count": 75,
   "id": "695863da",
   "metadata": {},
   "outputs": [
    {
     "data": {
      "text/plain": [
       "[0, 1, 2, 4, 5, 6, 7, 8, 9]"
      ]
     },
     "execution_count": 75,
     "metadata": {},
     "output_type": "execute_result"
    }
   ],
   "source": [
    "valid_moves"
   ]
  },
  {
   "cell_type": "code",
   "execution_count": null,
   "id": "649e93af",
   "metadata": {},
   "outputs": [],
   "source": []
  }
 ],
 "metadata": {
  "kernelspec": {
   "display_name": "Python 3 (ipykernel)",
   "language": "python",
   "name": "python3"
  },
  "language_info": {
   "codemirror_mode": {
    "name": "ipython",
    "version": 3
   },
   "file_extension": ".py",
   "mimetype": "text/x-python",
   "name": "python",
   "nbconvert_exporter": "python",
   "pygments_lexer": "ipython3",
   "version": "3.9.13"
  }
 },
 "nbformat": 4,
 "nbformat_minor": 5
}
