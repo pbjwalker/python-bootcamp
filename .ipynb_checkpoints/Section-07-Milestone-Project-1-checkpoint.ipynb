{
 "cells": [
  {
   "cell_type": "markdown",
   "id": "a026721e",
   "metadata": {},
   "source": [
    "<strong>59 - Milestone Project 1</strong>"
   ]
  },
  {
   "cell_type": "code",
   "execution_count": 2,
   "id": "c99f467c",
   "metadata": {},
   "outputs": [],
   "source": [
    "# Warmup exercises to create a Tic-Tac-Toe game"
   ]
  },
  {
   "cell_type": "code",
   "execution_count": 3,
   "id": "101f2c9b",
   "metadata": {},
   "outputs": [],
   "source": [
    "# Most interactive programs work on this logic:\n",
    "# - Display something visual to the user\n",
    "# - Let the user update through an interaction\n",
    "# - Update variables in the program\n",
    "# - Display updated visual"
   ]
  },
  {
   "cell_type": "markdown",
   "id": "9d4b4d33",
   "metadata": {},
   "source": [
    "<strong>60 - Displaying Information</strong>"
   ]
  },
  {
   "cell_type": "code",
   "execution_count": 4,
   "id": "2cb3c32e",
   "metadata": {},
   "outputs": [
    {
     "name": "stdout",
     "output_type": "stream",
     "text": [
      "[1, 2, 3]\n",
      "[4, 5, 6]\n",
      "[7, 8, 9]\n"
     ]
    }
   ],
   "source": [
    "# printing lists example\n",
    "\n",
    "print([1,2,3])\n",
    "print([4,5,6])\n",
    "print([7,8,9])"
   ]
  },
  {
   "cell_type": "code",
   "execution_count": 12,
   "id": "1badc4d9",
   "metadata": {},
   "outputs": [],
   "source": [
    "# no need to write this code over and over.\n",
    "# make it a function\n",
    "\n",
    "def display(row1,row2,row3):\n",
    "    print(row1)\n",
    "    print(row2)\n",
    "    print(row3)"
   ]
  },
  {
   "cell_type": "code",
   "execution_count": 13,
   "id": "3ad5c08f",
   "metadata": {},
   "outputs": [
    {
     "name": "stdout",
     "output_type": "stream",
     "text": [
      "[' ', ' ', ' ']\n",
      "[' ', ' ', ' ']\n",
      "[' ', ' ', ' ']\n"
     ]
    }
   ],
   "source": [
    "row1 = [' ',' ',' ']\n",
    "row2 = [' ',' ',' ']\n",
    "row3 = [' ',' ',' ']\n",
    "\n",
    "display(row1,row1,row1)"
   ]
  },
  {
   "cell_type": "code",
   "execution_count": 14,
   "id": "4c1ba990",
   "metadata": {},
   "outputs": [],
   "source": [
    "row2[1] = 'X'"
   ]
  },
  {
   "cell_type": "code",
   "execution_count": 17,
   "id": "0b375b83",
   "metadata": {},
   "outputs": [
    {
     "name": "stdout",
     "output_type": "stream",
     "text": [
      "[' ', ' ', ' ']\n",
      "[' ', 'X', ' ']\n",
      "[' ', ' ', ' ']\n"
     ]
    }
   ],
   "source": [
    "display(row1,row2,row3)"
   ]
  },
  {
   "cell_type": "code",
   "execution_count": 16,
   "id": "f7f0a88e",
   "metadata": {},
   "outputs": [
    {
     "data": {
      "text/plain": [
       "[' ', 'X', ' ']"
      ]
     },
     "execution_count": 16,
     "metadata": {},
     "output_type": "execute_result"
    }
   ],
   "source": [
    "row2"
   ]
  },
  {
   "cell_type": "markdown",
   "id": "1d4267f0",
   "metadata": {},
   "source": [
    "<strong>61 - Accepting User Input</strong>"
   ]
  },
  {
   "cell_type": "code",
   "execution_count": 24,
   "id": "530429c3",
   "metadata": {},
   "outputs": [
    {
     "name": "stdout",
     "output_type": "stream",
     "text": [
      "Choose an index position: 3\n"
     ]
    }
   ],
   "source": [
    "result = input(\"Choose an index position: \")\n",
    "\n",
    "# need to validate the result is a number before treating it as a number\n",
    "\n",
    "position_index = int(result)"
   ]
  },
  {
   "cell_type": "code",
   "execution_count": 25,
   "id": "ed4dcfac",
   "metadata": {},
   "outputs": [
    {
     "data": {
      "text/plain": [
       "3"
      ]
     },
     "execution_count": 25,
     "metadata": {},
     "output_type": "execute_result"
    }
   ],
   "source": [
    "position_index"
   ]
  },
  {
   "cell_type": "code",
   "execution_count": 26,
   "id": "34cb2cd9",
   "metadata": {},
   "outputs": [
    {
     "data": {
      "text/plain": [
       "int"
      ]
     },
     "execution_count": 26,
     "metadata": {},
     "output_type": "execute_result"
    }
   ],
   "source": [
    "type(position_index)"
   ]
  },
  {
   "cell_type": "markdown",
   "id": "fa122a7c",
   "metadata": {},
   "source": [
    "<strong>62 - Validating User Input</strong>"
   ]
  },
  {
   "cell_type": "code",
   "execution_count": 38,
   "id": "99626227",
   "metadata": {},
   "outputs": [],
   "source": [
    "def user_choice():\n",
    "    choice = 0\n",
    "    while True:\n",
    "        # first time in a very long time I'm using 'try:except:else'\n",
    "        try:\n",
    "            choice = int(input(\"Please enter a number (0-10): \"))\n",
    "        except ValueError:\n",
    "            print('Not a number! Try again!')\n",
    "            continue\n",
    "        else:\n",
    "            break\n",
    "    \n",
    "    return int(choice)"
   ]
  },
  {
   "cell_type": "code",
   "execution_count": 47,
   "id": "567fa529",
   "metadata": {},
   "outputs": [
    {
     "name": "stdout",
     "output_type": "stream",
     "text": [
      "Please enter a number (0-10): 3\n",
      "3 is a valid move!\n",
      "Moves available:  [0, 1, 2, 4, 5, 6, 7, 8, 9]\n",
      "Please enter a number (0-10): 2\n",
      "2 is a valid move!\n",
      "Moves available:  [0, 1, 4, 5, 6, 7, 8, 9]\n",
      "Please enter a number (0-10): 4\n",
      "4 is a valid move!\n",
      "Moves available:  [0, 1, 5, 6, 7, 8, 9]\n",
      "Please enter a number (0-10): 5\n",
      "5 is a valid move!\n",
      "Moves available:  [0, 1, 6, 7, 8, 9]\n",
      "Please enter a number (0-10): 8\n",
      "8 is a valid move!\n",
      "Moves available:  [0, 1, 6, 7, 9]\n",
      "Please enter a number (0-10): 9\n",
      "9 is a valid move!\n",
      "Moves available:  [0, 1, 6, 7]\n",
      "Please enter a number (0-10): 2\n",
      "That is not a valid move!\n",
      "Please enter a number (0-10): 1\n",
      "1 is a valid move!\n",
      "Moves available:  [0, 6, 7]\n",
      "Please enter a number (0-10): 0\n",
      "0 is a valid move!\n",
      "Moves available:  [6, 7]\n",
      "Please enter a number (0-10): 6\n",
      "6 is a valid move!\n",
      "Moves available:  [7]\n",
      "Please enter a number (0-10): 7\n",
      "7 is a valid move!\n",
      "Moves available:  []\n",
      "Game is over\n"
     ]
    }
   ],
   "source": [
    "def user_choice():\n",
    "    choice = 0\n",
    "    while True:\n",
    "        # first time in a very long time I'm using 'try:except:else'\n",
    "        try:\n",
    "            choice = int(input(\"Please enter a number (0-10): \"))\n",
    "        except ValueError:\n",
    "            print('Not a number! Try again!')\n",
    "            continue\n",
    "        else:\n",
    "            break\n",
    "    \n",
    "    return int(choice)\n",
    "\n",
    "\n",
    "# This is the main cell of the game\n",
    "# Each valid move is removed from the list of valid moves\n",
    "# Once there are no more moves, the game stops\n",
    "# It uses the user_choice() function to get an integer from the user\n",
    "\n",
    "move = 0\n",
    "valid_moves = [0,1,2,3,4,5,6,7,8,9]\n",
    "\n",
    "\n",
    "while len(valid_moves) > 0:\n",
    "    \n",
    "    while True:\n",
    "        move = user_choice()\n",
    "        if move in valid_moves:\n",
    "            print(f'{move} is a valid move!')\n",
    "            valid_moves.pop(valid_moves.index(move)) # Checks the index position of the move, then pops it out of the list\n",
    "            break\n",
    "        else:\n",
    "            print('That is not a valid move!')\n",
    "            \n",
    "    print(f'Moves available:  {valid_moves}')\n",
    "\n",
    "print('Game is over')\n",
    "\n"
   ]
  },
  {
   "cell_type": "code",
   "execution_count": 40,
   "id": "73f3394c",
   "metadata": {},
   "outputs": [],
   "source": [
    "valid_moves = [0,1,2,3,4,5,6,7,8,9]"
   ]
  },
  {
   "cell_type": "code",
   "execution_count": 41,
   "id": "c88de9ea",
   "metadata": {},
   "outputs": [
    {
     "data": {
      "text/plain": [
       "3"
      ]
     },
     "execution_count": 41,
     "metadata": {},
     "output_type": "execute_result"
    }
   ],
   "source": [
    "valid_moves.index(3)"
   ]
  },
  {
   "cell_type": "code",
   "execution_count": 43,
   "id": "a24684f8",
   "metadata": {},
   "outputs": [
    {
     "data": {
      "text/plain": [
       "3"
      ]
     },
     "execution_count": 43,
     "metadata": {},
     "output_type": "execute_result"
    }
   ],
   "source": [
    "valid_moves.pop(3)"
   ]
  },
  {
   "cell_type": "code",
   "execution_count": 44,
   "id": "16258dac",
   "metadata": {},
   "outputs": [
    {
     "data": {
      "text/plain": [
       "[0, 1, 2, 4, 5, 6, 7, 8, 9]"
      ]
     },
     "execution_count": 44,
     "metadata": {},
     "output_type": "execute_result"
    }
   ],
   "source": [
    "valid_moves"
   ]
  },
  {
   "cell_type": "code",
   "execution_count": 46,
   "id": "81b0541c",
   "metadata": {},
   "outputs": [
    {
     "data": {
      "text/plain": [
       "5"
      ]
     },
     "execution_count": 46,
     "metadata": {},
     "output_type": "execute_result"
    }
   ],
   "source": [
    "valid_moves.index(6)"
   ]
  },
  {
   "cell_type": "code",
   "execution_count": 76,
   "id": "3f2627e7",
   "metadata": {},
   "outputs": [
    {
     "name": "stdout",
     "output_type": "stream",
     "text": [
      "Please enter a number (0-9): 1\n",
      "Thanks!\n"
     ]
    }
   ],
   "source": [
    "# Here's another way to do it\n",
    "\n",
    "def check_num(num):\n",
    "    return num.isdigit()\n",
    "\n",
    "def check_move(move,valid_moves):\n",
    "    return (move in valid_moves)\n",
    "\n",
    "\n",
    "\n",
    "# Main Body of the Code\n",
    "valid_moves = [0,1,2,3,4,5,6,7,8,9]\n",
    "\n",
    "while True:\n",
    "    user_num = input(\"Please enter a number (0-9): \")\n",
    "    if check_num(user_num):\n",
    "        num = int(user_num)\n",
    "        \n",
    "        if check_move(num,valid_moves):\n",
    "            valid_moves.pop(valid_moves.index(num))\n",
    "            print(\"Thanks!\")\n",
    "            break\n",
    "        else:\n",
    "            print('Invalid move')\n",
    "            continue\n"
   ]
  },
  {
   "cell_type": "code",
   "execution_count": 77,
   "id": "9360da07",
   "metadata": {},
   "outputs": [
    {
     "data": {
      "text/plain": [
       "[0, 2, 3, 4, 5, 6, 7, 8, 9]"
      ]
     },
     "execution_count": 77,
     "metadata": {},
     "output_type": "execute_result"
    }
   ],
   "source": [
    "valid_moves"
   ]
  },
  {
   "cell_type": "code",
   "execution_count": 81,
   "id": "bc141dbb",
   "metadata": {},
   "outputs": [],
   "source": [
    "# Another way to do it\n",
    "# Portions from the instructor video\n",
    "\n",
    "def user_choice():\n",
    "    \n",
    "    choice = 'WRONG'\n",
    "    \n",
    "    while choice.isdigit() == False:\n",
    "        \n",
    "        choice = input('Please enter a number (0-10): ')\n",
    "        \n",
    "        if choice.isdigit() == False:\n",
    "            print('Sorry that is not a digit!')\n",
    "            \n",
    "    return int(choice)\n",
    "\n"
   ]
  },
  {
   "cell_type": "code",
   "execution_count": 84,
   "id": "128af468",
   "metadata": {},
   "outputs": [
    {
     "name": "stdout",
     "output_type": "stream",
     "text": [
      "Please enter a number (0-10): e\n",
      "Sorry that is not a digit!\n",
      "Please enter a number (0-10): 3\n"
     ]
    },
    {
     "data": {
      "text/plain": [
       "3"
      ]
     },
     "execution_count": 84,
     "metadata": {},
     "output_type": "execute_result"
    }
   ],
   "source": [
    "user_choice()"
   ]
  },
  {
   "cell_type": "code",
   "execution_count": 85,
   "id": "9834807a",
   "metadata": {},
   "outputs": [],
   "source": [
    "result = 'WRONG VALUE'\n",
    "\n",
    "acceptable_values = [0,1,2]"
   ]
  },
  {
   "cell_type": "code",
   "execution_count": 86,
   "id": "703cbb59",
   "metadata": {},
   "outputs": [
    {
     "data": {
      "text/plain": [
       "False"
      ]
     },
     "execution_count": 86,
     "metadata": {},
     "output_type": "execute_result"
    }
   ],
   "source": [
    "result in acceptable_values"
   ]
  },
  {
   "cell_type": "code",
   "execution_count": 87,
   "id": "4a9e2277",
   "metadata": {},
   "outputs": [
    {
     "data": {
      "text/plain": [
       "True"
      ]
     },
     "execution_count": 87,
     "metadata": {},
     "output_type": "execute_result"
    }
   ],
   "source": [
    "result not in acceptable_values"
   ]
  },
  {
   "cell_type": "code",
   "execution_count": 88,
   "id": "2d45ca96",
   "metadata": {},
   "outputs": [],
   "source": [
    "\n",
    "# Portions from the instructor video\n",
    "\n",
    "def user_choice():\n",
    "    \n",
    "    # INITIAL VALUES\n",
    "    choice = 'WRONG'\n",
    "    acceptable_range = range(0,10)\n",
    "    within_range = False\n",
    "    \n",
    "    # TWO CONDITIONS TO CHECK\n",
    "    # Keep asking is it a digit and is it within range == False\n",
    "    \n",
    "    \n",
    "    while choice.isdigit() == False or within_range == False:\n",
    "        \n",
    "        choice = input('Please enter a number (0-10): ')\n",
    "        \n",
    "        # DIGIT CHECK\n",
    "        if choice.isdigit() == False:\n",
    "            print('Sorry that is not a digit!')\n",
    "        \n",
    "        # RANGE CHECK\n",
    "        if choice.isdigit() == True: # same thing as saying, if choice.isdigit():\n",
    "            if int(choice) in acceptable_range:\n",
    "                within_range = True\n",
    "            else:\n",
    "                print('Sorry you are out of acceptable range (0-10)')\n",
    "                within_range = False\n",
    "            \n",
    "    return int(choice)"
   ]
  },
  {
   "cell_type": "code",
   "execution_count": 89,
   "id": "d1c4f36f",
   "metadata": {},
   "outputs": [
    {
     "name": "stdout",
     "output_type": "stream",
     "text": [
      "Please enter a number (0-10): 11\n",
      "Sorry you are out of acceptable range (0-10)\n",
      "Please enter a number (0-10): r\n",
      "Sorry that is not a digit!\n",
      "Please enter a number (0-10): 4\n"
     ]
    },
    {
     "data": {
      "text/plain": [
       "4"
      ]
     },
     "execution_count": 89,
     "metadata": {},
     "output_type": "execute_result"
    }
   ],
   "source": [
    "user_choice()"
   ]
  },
  {
   "cell_type": "markdown",
   "id": "8a0e4f8f",
   "metadata": {},
   "source": [
    "<strong>63 - Simple User Interaction</strong>"
   ]
  },
  {
   "cell_type": "code",
   "execution_count": null,
   "id": "40672b6f",
   "metadata": {},
   "outputs": [],
   "source": []
  }
 ],
 "metadata": {
  "kernelspec": {
   "display_name": "Python 3 (ipykernel)",
   "language": "python",
   "name": "python3"
  },
  "language_info": {
   "codemirror_mode": {
    "name": "ipython",
    "version": 3
   },
   "file_extension": ".py",
   "mimetype": "text/x-python",
   "name": "python",
   "nbconvert_exporter": "python",
   "pygments_lexer": "ipython3",
   "version": "3.9.13"
  }
 },
 "nbformat": 4,
 "nbformat_minor": 5
}
