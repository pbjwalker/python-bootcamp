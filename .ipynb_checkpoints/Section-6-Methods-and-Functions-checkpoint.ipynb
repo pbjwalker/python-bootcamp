{
 "cells": [
  {
   "cell_type": "code",
   "execution_count": 1,
   "id": "f1ff16d8",
   "metadata": {},
   "outputs": [],
   "source": [
    "# Section 6: Methods and the Python Documentation"
   ]
  },
  {
   "cell_type": "code",
   "execution_count": 2,
   "id": "59457e21",
   "metadata": {},
   "outputs": [],
   "source": [
    "mylist = [1,2,3]"
   ]
  },
  {
   "cell_type": "code",
   "execution_count": 3,
   "id": "daad69c1",
   "metadata": {},
   "outputs": [],
   "source": [
    "mylist.append(4)"
   ]
  },
  {
   "cell_type": "code",
   "execution_count": 4,
   "id": "a3b8f22c",
   "metadata": {},
   "outputs": [
    {
     "data": {
      "text/plain": [
       "[1, 2, 3, 4]"
      ]
     },
     "execution_count": 4,
     "metadata": {},
     "output_type": "execute_result"
    }
   ],
   "source": [
    "mylist"
   ]
  },
  {
   "cell_type": "code",
   "execution_count": 5,
   "id": "ccf334a7",
   "metadata": {},
   "outputs": [
    {
     "data": {
      "text/plain": [
       "4"
      ]
     },
     "execution_count": 5,
     "metadata": {},
     "output_type": "execute_result"
    }
   ],
   "source": [
    "mylist.pop()"
   ]
  },
  {
   "cell_type": "code",
   "execution_count": 6,
   "id": "8d95244f",
   "metadata": {},
   "outputs": [
    {
     "data": {
      "text/plain": [
       "[1, 2, 3]"
      ]
     },
     "execution_count": 6,
     "metadata": {},
     "output_type": "execute_result"
    }
   ],
   "source": [
    "mylist"
   ]
  },
  {
   "cell_type": "code",
   "execution_count": 7,
   "id": "93be03b5",
   "metadata": {},
   "outputs": [
    {
     "name": "stdout",
     "output_type": "stream",
     "text": [
      "Help on built-in function insert:\n",
      "\n",
      "insert(index, object, /) method of builtins.list instance\n",
      "    Insert object before index.\n",
      "\n"
     ]
    }
   ],
   "source": [
    "help(mylist.insert)"
   ]
  },
  {
   "cell_type": "code",
   "execution_count": 8,
   "id": "cbf55ef6",
   "metadata": {},
   "outputs": [],
   "source": [
    "# you can also use the official Python documentation\n",
    "# https://docs.python.org/3/"
   ]
  },
  {
   "cell_type": "code",
   "execution_count": 9,
   "id": "346a87dd",
   "metadata": {},
   "outputs": [],
   "source": [
    "##################\n",
    "# Section 6: Introduction to Functions"
   ]
  },
  {
   "cell_type": "code",
   "execution_count": 1,
   "id": "6a403c4b",
   "metadata": {},
   "outputs": [],
   "source": [
    "# def Keyword - this keyword creates functions in Python"
   ]
  },
  {
   "cell_type": "code",
   "execution_count": 2,
   "id": "de6f2e71",
   "metadata": {},
   "outputs": [],
   "source": [
    "# syntax\n",
    "# by convention, Python uses 'snake casing' for the name of a function\n",
    "# this means we use all lower-case letters with underscores between the words\n",
    "\n",
    "# def name_of_function():\n",
    "#   '''\n",
    "#   this is the optional Docstring, it explains the function \n",
    "#   '''\n",
    "#   print(\"Hello\")   #this code will be executed everytime the function is called\n",
    "\n",
    "#####\n",
    "# to call the function, use this line:\n",
    "\n",
    "# name_of_function()\n",
    "\n",
    "#####\n",
    "# this function's output would look like this:\n",
    "\n",
    "# Hello"
   ]
  },
  {
   "cell_type": "code",
   "execution_count": null,
   "id": "7132b80c",
   "metadata": {},
   "outputs": [],
   "source": []
  }
 ],
 "metadata": {
  "kernelspec": {
   "display_name": "Python 3 (ipykernel)",
   "language": "python",
   "name": "python3"
  },
  "language_info": {
   "codemirror_mode": {
    "name": "ipython",
    "version": 3
   },
   "file_extension": ".py",
   "mimetype": "text/x-python",
   "name": "python",
   "nbconvert_exporter": "python",
   "pygments_lexer": "ipython3",
   "version": "3.9.13"
  }
 },
 "nbformat": 4,
 "nbformat_minor": 5
}
