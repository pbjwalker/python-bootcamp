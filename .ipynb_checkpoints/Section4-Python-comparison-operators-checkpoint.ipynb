{
 "cells": [
  {
   "cell_type": "code",
   "execution_count": 1,
   "id": "20cc336f",
   "metadata": {},
   "outputs": [],
   "source": [
    "# Section 4: Python Comparison Operators\n",
    "# This is a short section"
   ]
  },
  {
   "cell_type": "code",
   "execution_count": 2,
   "id": "53736681",
   "metadata": {},
   "outputs": [],
   "source": [
    "# Note: there is a table of comparison operators in the Jupyter notebook provided"
   ]
  },
  {
   "cell_type": "code",
   "execution_count": 3,
   "id": "572a3c37",
   "metadata": {},
   "outputs": [
    {
     "data": {
      "text/plain": [
       "True"
      ]
     },
     "execution_count": 3,
     "metadata": {},
     "output_type": "execute_result"
    }
   ],
   "source": [
    "2 == 2"
   ]
  },
  {
   "cell_type": "code",
   "execution_count": 4,
   "id": "f9201530",
   "metadata": {},
   "outputs": [
    {
     "data": {
      "text/plain": [
       "3"
      ]
     },
     "execution_count": 4,
     "metadata": {},
     "output_type": "execute_result"
    }
   ],
   "source": [
    "2 ++ 1"
   ]
  },
  {
   "cell_type": "code",
   "execution_count": 5,
   "id": "d934b5cd",
   "metadata": {},
   "outputs": [
    {
     "data": {
      "text/plain": [
       "False"
      ]
     },
     "execution_count": 5,
     "metadata": {},
     "output_type": "execute_result"
    }
   ],
   "source": [
    "2 == 1"
   ]
  },
  {
   "cell_type": "code",
   "execution_count": 6,
   "id": "868b4ed7",
   "metadata": {},
   "outputs": [
    {
     "data": {
      "text/plain": [
       "False"
      ]
     },
     "execution_count": 6,
     "metadata": {},
     "output_type": "execute_result"
    }
   ],
   "source": [
    "'hello' == \"bye\""
   ]
  },
  {
   "cell_type": "code",
   "execution_count": 7,
   "id": "9862f2d5",
   "metadata": {},
   "outputs": [
    {
     "data": {
      "text/plain": [
       "False"
      ]
     },
     "execution_count": 7,
     "metadata": {},
     "output_type": "execute_result"
    }
   ],
   "source": [
    "'Bye' == 'bye'"
   ]
  },
  {
   "cell_type": "code",
   "execution_count": 8,
   "id": "8104c26b",
   "metadata": {},
   "outputs": [
    {
     "data": {
      "text/plain": [
       "False"
      ]
     },
     "execution_count": 8,
     "metadata": {},
     "output_type": "execute_result"
    }
   ],
   "source": [
    "'2' == 2"
   ]
  },
  {
   "cell_type": "code",
   "execution_count": 9,
   "id": "29b7b394",
   "metadata": {},
   "outputs": [
    {
     "data": {
      "text/plain": [
       "True"
      ]
     },
     "execution_count": 9,
     "metadata": {},
     "output_type": "execute_result"
    }
   ],
   "source": [
    "1.0 == 1"
   ]
  },
  {
   "cell_type": "code",
   "execution_count": 10,
   "id": "0601a33b",
   "metadata": {},
   "outputs": [
    {
     "data": {
      "text/plain": [
       "True"
      ]
     },
     "execution_count": 10,
     "metadata": {},
     "output_type": "execute_result"
    }
   ],
   "source": [
    "# not equal\n",
    "4 != 5"
   ]
  },
  {
   "cell_type": "code",
   "execution_count": 11,
   "id": "12f199b8",
   "metadata": {},
   "outputs": [
    {
     "data": {
      "text/plain": [
       "True"
      ]
     },
     "execution_count": 11,
     "metadata": {},
     "output_type": "execute_result"
    }
   ],
   "source": [
    "# is 2 greater than 1\n",
    "2 > 1"
   ]
  },
  {
   "cell_type": "code",
   "execution_count": 12,
   "id": "efe88218",
   "metadata": {},
   "outputs": [
    {
     "data": {
      "text/plain": [
       "True"
      ]
     },
     "execution_count": 12,
     "metadata": {},
     "output_type": "execute_result"
    }
   ],
   "source": [
    "2 < 5"
   ]
  },
  {
   "cell_type": "code",
   "execution_count": 14,
   "id": "f73c9ba6",
   "metadata": {},
   "outputs": [
    {
     "data": {
      "text/plain": [
       "True"
      ]
     },
     "execution_count": 14,
     "metadata": {},
     "output_type": "execute_result"
    }
   ],
   "source": [
    "# is 2 greater than or equal to 2\n",
    "2 >= 2"
   ]
  },
  {
   "cell_type": "code",
   "execution_count": 15,
   "id": "e1837afd",
   "metadata": {},
   "outputs": [],
   "source": [
    "# how to do multiple comparisons on the same line using logical operators\n",
    "#\n",
    "#\n"
   ]
  },
  {
   "cell_type": "code",
   "execution_count": 16,
   "id": "2d4cdaa0",
   "metadata": {},
   "outputs": [],
   "source": [
    "# Logical operators vs Comparison operators"
   ]
  },
  {
   "cell_type": "code",
   "execution_count": 17,
   "id": "560e80a5",
   "metadata": {},
   "outputs": [],
   "source": [
    "# how to chain together different comparisons"
   ]
  },
  {
   "cell_type": "code",
   "execution_count": 18,
   "id": "fc08bf8f",
   "metadata": {},
   "outputs": [],
   "source": [
    "# The logical operators are:\n",
    "# and\n",
    "# or\n",
    "# not"
   ]
  },
  {
   "cell_type": "code",
   "execution_count": 19,
   "id": "75d2041f",
   "metadata": {},
   "outputs": [],
   "source": [
    "# The logical operators allow us to combine comparisons"
   ]
  },
  {
   "cell_type": "code",
   "execution_count": 21,
   "id": "bded6884",
   "metadata": {},
   "outputs": [],
   "source": [
    "# Imagine we wanted to have a condition that executed when we made two comparisons\n",
    "# We want to check if 1 is less than 2\n",
    "# 1 < 2\n",
    "#\n",
    "# And at the same time check if 2 is less than 3\n",
    "# 2 < 3"
   ]
  },
  {
   "cell_type": "code",
   "execution_count": 22,
   "id": "3140f02a",
   "metadata": {},
   "outputs": [
    {
     "data": {
      "text/plain": [
       "True"
      ]
     },
     "execution_count": 22,
     "metadata": {},
     "output_type": "execute_result"
    }
   ],
   "source": [
    "# One way is to string it all together like this:\n",
    "# is 1 less than 2 and is 2 less than 3\n",
    "1 < 2 < 3"
   ]
  },
  {
   "cell_type": "code",
   "execution_count": 24,
   "id": "42d34f7b",
   "metadata": {},
   "outputs": [
    {
     "data": {
      "text/plain": [
       "True"
      ]
     },
     "execution_count": 24,
     "metadata": {},
     "output_type": "execute_result"
    }
   ],
   "source": [
    "# You can use a logical operator to write this code\n",
    "# for this one, use the 'and' logical operator\n",
    "# is 1 less than 2 and is 2 less than 3\n",
    "\n",
    "1 < 2 and 2 < 3"
   ]
  },
  {
   "cell_type": "code",
   "execution_count": 25,
   "id": "5832f558",
   "metadata": {},
   "outputs": [
    {
     "data": {
      "text/plain": [
       "True"
      ]
     },
     "execution_count": 25,
     "metadata": {},
     "output_type": "execute_result"
    }
   ],
   "source": [
    "# is 'h' equal to 'h' and is 2 equal to 2\n",
    "'h' == 'h' and 2 == 2"
   ]
  },
  {
   "cell_type": "code",
   "execution_count": 27,
   "id": "a35de473",
   "metadata": {},
   "outputs": [
    {
     "data": {
      "text/plain": [
       "True"
      ]
     },
     "execution_count": 27,
     "metadata": {},
     "output_type": "execute_result"
    }
   ],
   "source": [
    "# you can chose to add parenthesis, if it helps make the code more readable\n",
    "# some later libraries require the parenthesis\n",
    "('h' == 'h') and (2 ==2)"
   ]
  },
  {
   "cell_type": "code",
   "execution_count": 28,
   "id": "a94851bf",
   "metadata": {},
   "outputs": [
    {
     "data": {
      "text/plain": [
       "True"
      ]
     },
     "execution_count": 28,
     "metadata": {},
     "output_type": "execute_result"
    }
   ],
   "source": [
    "# the 'or' keyword returns True if just one condition is True\n",
    "# is 1 equal to 1 or is 2 equal to 2\n",
    "1 == 1 or 2 == 2"
   ]
  },
  {
   "cell_type": "code",
   "execution_count": 29,
   "id": "c2745c26",
   "metadata": {},
   "outputs": [
    {
     "data": {
      "text/plain": [
       "True"
      ]
     },
     "execution_count": 29,
     "metadata": {},
     "output_type": "execute_result"
    }
   ],
   "source": [
    "1 == 100 or 2 == 2"
   ]
  },
  {
   "cell_type": "code",
   "execution_count": 30,
   "id": "7357f259",
   "metadata": {},
   "outputs": [
    {
     "data": {
      "text/plain": [
       "True"
      ]
     },
     "execution_count": 30,
     "metadata": {},
     "output_type": "execute_result"
    }
   ],
   "source": [
    "# the 'not' keyword asks to return the opposite boolean\n",
    "1 == 1"
   ]
  },
  {
   "cell_type": "code",
   "execution_count": 31,
   "id": "79a61c4e",
   "metadata": {},
   "outputs": [
    {
     "data": {
      "text/plain": [
       "False"
      ]
     },
     "execution_count": 31,
     "metadata": {},
     "output_type": "execute_result"
    }
   ],
   "source": [
    "not(1==1)"
   ]
  },
  {
   "cell_type": "code",
   "execution_count": 32,
   "id": "faed9de4",
   "metadata": {},
   "outputs": [
    {
     "data": {
      "text/plain": [
       "False"
      ]
     },
     "execution_count": 32,
     "metadata": {},
     "output_type": "execute_result"
    }
   ],
   "source": [
    "not 1 == 1"
   ]
  },
  {
   "cell_type": "code",
   "execution_count": 33,
   "id": "12996fe9",
   "metadata": {},
   "outputs": [
    {
     "data": {
      "text/plain": [
       "False"
      ]
     },
     "execution_count": 33,
     "metadata": {},
     "output_type": "execute_result"
    }
   ],
   "source": [
    "400 > 5000"
   ]
  },
  {
   "cell_type": "code",
   "execution_count": 34,
   "id": "b03ad5d0",
   "metadata": {},
   "outputs": [
    {
     "data": {
      "text/plain": [
       "True"
      ]
     },
     "execution_count": 34,
     "metadata": {},
     "output_type": "execute_result"
    }
   ],
   "source": [
    "not 400 > 5000"
   ]
  },
  {
   "cell_type": "code",
   "execution_count": null,
   "id": "88065d60",
   "metadata": {},
   "outputs": [],
   "source": []
  }
 ],
 "metadata": {
  "kernelspec": {
   "display_name": "Python 3 (ipykernel)",
   "language": "python",
   "name": "python3"
  },
  "language_info": {
   "codemirror_mode": {
    "name": "ipython",
    "version": 3
   },
   "file_extension": ".py",
   "mimetype": "text/x-python",
   "name": "python",
   "nbconvert_exporter": "python",
   "pygments_lexer": "ipython3",
   "version": "3.9.13"
  }
 },
 "nbformat": 4,
 "nbformat_minor": 5
}
