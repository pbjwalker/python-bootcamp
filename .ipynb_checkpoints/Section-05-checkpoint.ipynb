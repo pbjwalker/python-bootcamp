{
 "cells": [
  {
   "cell_type": "markdown",
   "id": "f8fd1fd3",
   "metadata": {},
   "source": [
    "This workbook covers Section 5"
   ]
  },
  {
   "cell_type": "markdown",
   "id": "1de0cab6",
   "metadata": {},
   "source": [
    "34 - If, Elif, and Else Statements in Python\n"
   ]
  },
  {
   "cell_type": "code",
   "execution_count": 2,
   "id": "f0603ccd",
   "metadata": {},
   "outputs": [],
   "source": [
    "# if, elif, and else statements are the beginning of control flow.\n",
    "# When we only want certain code to execute when a particular condition has been met.\n",
    "# Example:\n",
    "# if my dog is hungry (a condition), then I will feed my dog (an action)."
   ]
  },
  {
   "cell_type": "code",
   "execution_count": 3,
   "id": "87c5002f",
   "metadata": {},
   "outputs": [],
   "source": [
    "# Control Flow syntax uses colons and indentions, or whitespace\n",
    "# The indentation system is crucial to Python and is what sets it apart from other languages"
   ]
  },
  {
   "cell_type": "code",
   "execution_count": 4,
   "id": "6243fbf4",
   "metadata": {},
   "outputs": [],
   "source": [
    "# syntax of a basic if statement\n",
    "#\n",
    "# if some_condition:\n",
    "#    # execute some code"
   ]
  },
  {
   "cell_type": "code",
   "execution_count": 5,
   "id": "4d450064",
   "metadata": {},
   "outputs": [],
   "source": [
    "# syntax of an if statement also using an else statement\n",
    "#\n",
    "# if some_condition:\n",
    "#    # execute some code\n",
    "# else:\n",
    "#    # do something else\n"
   ]
  },
  {
   "cell_type": "code",
   "execution_count": 6,
   "id": "f600a514",
   "metadata": {},
   "outputs": [],
   "source": [
    "# syntax of an if statement that checks for multiple conditions using elif and else statements\n",
    "#\n",
    "# if some_condition:\n",
    "#    # execute some code\n",
    "# elif some_other_condition:\n",
    "#    # do something different\n",
    "# else:\n",
    "#    # do something else"
   ]
  },
  {
   "cell_type": "code",
   "execution_count": 7,
   "id": "ff45ec3d",
   "metadata": {},
   "outputs": [
    {
     "name": "stdout",
     "output_type": "stream",
     "text": [
      "ITS TRUE!\n"
     ]
    }
   ],
   "source": [
    "# examples\n",
    "if True:\n",
    "    print('ITS TRUE!')"
   ]
  },
  {
   "cell_type": "code",
   "execution_count": 8,
   "id": "15cc7107",
   "metadata": {},
   "outputs": [],
   "source": [
    "if False:\n",
    "    print('what is it?')"
   ]
  },
  {
   "cell_type": "code",
   "execution_count": 9,
   "id": "b6d45a64",
   "metadata": {},
   "outputs": [],
   "source": [
    "# Notice that printed nothing.\n",
    "# I don't fully grasp this logic.\n",
    "# if True...if WHAT is true?  Does Python default to true on logic conditions like this?  Can the condition change?"
   ]
  },
  {
   "cell_type": "code",
   "execution_count": 10,
   "id": "488e6a52",
   "metadata": {},
   "outputs": [
    {
     "name": "stdout",
     "output_type": "stream",
     "text": [
      "Let's eat!!\n"
     ]
    }
   ],
   "source": [
    "hungry = True\n",
    "\n",
    "if hungry:\n",
    "    print(\"Let's eat!!\")"
   ]
  },
  {
   "cell_type": "code",
   "execution_count": 11,
   "id": "b0856c45",
   "metadata": {},
   "outputs": [
    {
     "name": "stdout",
     "output_type": "stream",
     "text": [
      "I'm good\n"
     ]
    }
   ],
   "source": [
    "hungry = False\n",
    "\n",
    "if hungry:\n",
    "    print(\"Let's eat!!\")\n",
    "else:\n",
    "    print(\"I'm good\")"
   ]
  },
  {
   "cell_type": "code",
   "execution_count": 12,
   "id": "8684cda4",
   "metadata": {},
   "outputs": [],
   "source": [
    "# make sure the indentation is lined up correctly.  Should be automatic in the editors."
   ]
  },
  {
   "cell_type": "code",
   "execution_count": 13,
   "id": "9466f805",
   "metadata": {},
   "outputs": [],
   "source": [
    "# since hungry by itself is already a boolean, you don't have to say:\n",
    "# ...\n",
    "# if hungry == True:\n",
    "# ...\n",
    "#\n",
    "# you can just say:\n",
    "# ...\n",
    "# if hungry:\n",
    "# ..."
   ]
  },
  {
   "cell_type": "code",
   "execution_count": 14,
   "id": "328669c7",
   "metadata": {},
   "outputs": [],
   "source": [
    "# Mutiple branches with if, elif, and else"
   ]
  },
  {
   "cell_type": "code",
   "execution_count": 15,
   "id": "2201a259",
   "metadata": {},
   "outputs": [
    {
     "name": "stdout",
     "output_type": "stream",
     "text": [
      "I love money!\n"
     ]
    }
   ],
   "source": [
    "loc = \"Bank\"\n",
    "\n",
    "if loc == 'Auto Shop':\n",
    "    print(\"Cars are cool!\")\n",
    "elif loc == 'Bank':\n",
    "    print(\"I love money!\")\n",
    "else:\n",
    "    print(\"I do not know much!\")"
   ]
  },
  {
   "cell_type": "code",
   "execution_count": 16,
   "id": "69be33db",
   "metadata": {},
   "outputs": [
    {
     "name": "stdout",
     "output_type": "stream",
     "text": [
      "What is your name?\n"
     ]
    }
   ],
   "source": [
    "name = \"Paul\"\n",
    "\n",
    "if name == \"Frankie\":\n",
    "    print(\"Hello Frankie\")\n",
    "elif name == \"Sammy\":\n",
    "    print(\"Hello Sammy\")\n",
    "else:\n",
    "    print(\"What is your name?\")"
   ]
  },
  {
   "cell_type": "markdown",
   "id": "bb98480f",
   "metadata": {},
   "source": [
    "35 - For Loops in Python"
   ]
  },
  {
   "cell_type": "code",
   "execution_count": null,
   "id": "867108f7",
   "metadata": {},
   "outputs": [],
   "source": []
  }
 ],
 "metadata": {
  "kernelspec": {
   "display_name": "Python 3 (ipykernel)",
   "language": "python",
   "name": "python3"
  },
  "language_info": {
   "codemirror_mode": {
    "name": "ipython",
    "version": 3
   },
   "file_extension": ".py",
   "mimetype": "text/x-python",
   "name": "python",
   "nbconvert_exporter": "python",
   "pygments_lexer": "ipython3",
   "version": "3.9.13"
  }
 },
 "nbformat": 4,
 "nbformat_minor": 5
}
