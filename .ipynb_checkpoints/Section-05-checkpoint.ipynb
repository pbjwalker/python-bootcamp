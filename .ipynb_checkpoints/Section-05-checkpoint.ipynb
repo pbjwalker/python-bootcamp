{
 "cells": [
  {
   "cell_type": "markdown",
   "id": "c1eda346",
   "metadata": {},
   "source": [
    "This workbook covers Section 5"
   ]
  },
  {
   "cell_type": "markdown",
   "id": "b98971a4",
   "metadata": {},
   "source": [
    "34 - If, Elif, and Else Statements in Python\n"
   ]
  },
  {
   "cell_type": "code",
   "execution_count": 2,
   "id": "b0b5adec",
   "metadata": {},
   "outputs": [],
   "source": [
    "# if, elif, and else statements are the beginning of control flow.\n",
    "# When we only want certain code to execute when a particular condition has been met.\n",
    "# Example:\n",
    "# if my dog is hungry (a condition), then I will feed my dog (an action)."
   ]
  },
  {
   "cell_type": "code",
   "execution_count": 3,
   "id": "a2a0718a",
   "metadata": {},
   "outputs": [],
   "source": [
    "# Control Flow syntax uses colons and indentions, or whitespace\n",
    "# The indentation system is crucial to Python and is what sets it apart from other languages"
   ]
  },
  {
   "cell_type": "code",
   "execution_count": 4,
   "id": "ec3af08f",
   "metadata": {},
   "outputs": [],
   "source": [
    "# syntax of a basic if statement\n",
    "#\n",
    "# if some_condition:\n",
    "#    # execute some code"
   ]
  },
  {
   "cell_type": "code",
   "execution_count": 5,
   "id": "cf72fb41",
   "metadata": {},
   "outputs": [],
   "source": [
    "# syntax of an if statement also using an else statement\n",
    "#\n",
    "# if some_condition:\n",
    "#    # execute some code\n",
    "# else:\n",
    "#    # do something else\n"
   ]
  },
  {
   "cell_type": "code",
   "execution_count": 6,
   "id": "066c2efb",
   "metadata": {},
   "outputs": [],
   "source": [
    "# syntax of an if statement that checks for multiple conditions using elif and else statements\n",
    "#\n",
    "# if some_condition:\n",
    "#    # execute some code\n",
    "# elif some_other_condition:\n",
    "#    # do something different\n",
    "# else:\n",
    "#    # do something else"
   ]
  },
  {
   "cell_type": "code",
   "execution_count": 7,
   "id": "0d8a6a58",
   "metadata": {},
   "outputs": [
    {
     "name": "stdout",
     "output_type": "stream",
     "text": [
      "ITS TRUE!\n"
     ]
    }
   ],
   "source": [
    "# examples\n",
    "if True:\n",
    "    print('ITS TRUE!')"
   ]
  },
  {
   "cell_type": "code",
   "execution_count": 8,
   "id": "c12017fe",
   "metadata": {},
   "outputs": [],
   "source": [
    "if False:\n",
    "    print('what is it?')"
   ]
  },
  {
   "cell_type": "code",
   "execution_count": 9,
   "id": "699090ca",
   "metadata": {},
   "outputs": [],
   "source": [
    "# Notice that printed nothing.\n",
    "# I don't fully grasp this logic.\n",
    "# if True...if WHAT is true?  Does Python default to true on logic conditions like this?  Can the condition change?"
   ]
  },
  {
   "cell_type": "code",
   "execution_count": 10,
   "id": "fec9cf4a",
   "metadata": {},
   "outputs": [
    {
     "name": "stdout",
     "output_type": "stream",
     "text": [
      "Let's eat!!\n"
     ]
    }
   ],
   "source": [
    "hungry = True\n",
    "\n",
    "if hungry:\n",
    "    print(\"Let's eat!!\")"
   ]
  },
  {
   "cell_type": "code",
   "execution_count": 11,
   "id": "d23ce0be",
   "metadata": {},
   "outputs": [
    {
     "name": "stdout",
     "output_type": "stream",
     "text": [
      "I'm good\n"
     ]
    }
   ],
   "source": [
    "hungry = False\n",
    "\n",
    "if hungry:\n",
    "    print(\"Let's eat!!\")\n",
    "else:\n",
    "    print(\"I'm good\")"
   ]
  },
  {
   "cell_type": "code",
   "execution_count": 12,
   "id": "3d3bdb68",
   "metadata": {},
   "outputs": [],
   "source": [
    "# make sure the indentation is lined up correctly.  Should be automatic in the editors."
   ]
  },
  {
   "cell_type": "code",
   "execution_count": 13,
   "id": "c49f8de2",
   "metadata": {},
   "outputs": [],
   "source": [
    "# since hungry by itself is already a boolean, you don't have to say:\n",
    "# ...\n",
    "# if hungry == True:\n",
    "# ...\n",
    "#\n",
    "# you can just say:\n",
    "# ...\n",
    "# if hungry:\n",
    "# ..."
   ]
  },
  {
   "cell_type": "code",
   "execution_count": 14,
   "id": "69c0e307",
   "metadata": {},
   "outputs": [],
   "source": [
    "# Mutiple branches with if, elif, and else"
   ]
  },
  {
   "cell_type": "code",
   "execution_count": 15,
   "id": "4f5e823f",
   "metadata": {},
   "outputs": [
    {
     "name": "stdout",
     "output_type": "stream",
     "text": [
      "I love money!\n"
     ]
    }
   ],
   "source": [
    "loc = \"Bank\"\n",
    "\n",
    "if loc == 'Auto Shop':\n",
    "    print(\"Cars are cool!\")\n",
    "elif loc == 'Bank':\n",
    "    print(\"I love money!\")\n",
    "else:\n",
    "    print(\"I do not know much!\")"
   ]
  },
  {
   "cell_type": "code",
   "execution_count": 16,
   "id": "82de17a5",
   "metadata": {},
   "outputs": [
    {
     "name": "stdout",
     "output_type": "stream",
     "text": [
      "What is your name?\n"
     ]
    }
   ],
   "source": [
    "name = \"Paul\"\n",
    "\n",
    "if name == \"Frankie\":\n",
    "    print(\"Hello Frankie\")\n",
    "elif name == \"Sammy\":\n",
    "    print(\"Hello Sammy\")\n",
    "else:\n",
    "    print(\"What is your name?\")"
   ]
  },
  {
   "cell_type": "markdown",
   "id": "17a95645",
   "metadata": {},
   "source": [
    "35 - For Loops in Python"
   ]
  },
  {
   "cell_type": "code",
   "execution_count": 19,
   "id": "90e25017",
   "metadata": {},
   "outputs": [],
   "source": [
    "# Many objects in Python are iterable.\n",
    "# Iterate is to perform an action for every \"thing\" in an object.\n",
    "# Every element in a list or every character in a string, every key in a dictionary\n",
    "# We can use loops to execute a block of code for every iteration"
   ]
  },
  {
   "cell_type": "code",
   "execution_count": 22,
   "id": "6ca32235",
   "metadata": {},
   "outputs": [],
   "source": [
    "# Syntax of a for loop\n",
    "# my_iterable = [1,2,3]     # this is just an assignment\n",
    "# for item_name in my_iterable:     # item_name is just a placeholder for every item in the iterable\n",
    "#    print(item_name)       # this is just the block of code to execute for every item\n",
    "#>> 1\n",
    "#>> 2\n",
    "#>> 3"
   ]
  },
  {
   "cell_type": "code",
   "execution_count": 23,
   "id": "a9512057",
   "metadata": {},
   "outputs": [],
   "source": [
    "mylist = [1,2,3,4,5,6,7,8,9,10]"
   ]
  },
  {
   "cell_type": "code",
   "execution_count": 24,
   "id": "fc805be1",
   "metadata": {},
   "outputs": [
    {
     "name": "stdout",
     "output_type": "stream",
     "text": [
      "1\n",
      "2\n",
      "3\n",
      "4\n",
      "5\n",
      "6\n",
      "7\n",
      "8\n",
      "9\n",
      "10\n"
     ]
    }
   ],
   "source": [
    "for num in mylist:\n",
    "    print(num)"
   ]
  },
  {
   "cell_type": "code",
   "execution_count": 29,
   "id": "3f76a8a1",
   "metadata": {},
   "outputs": [
    {
     "name": "stdout",
     "output_type": "stream",
     "text": [
      "The number 2 is even\n",
      "The number 4 is even\n",
      "The number 6 is even\n",
      "The number 8 is even\n",
      "The number 10 is even\n"
     ]
    }
   ],
   "source": [
    "# add in some control flow to print only the even numbers in the list\n",
    "for num in mylist:\n",
    "    # Check for even\n",
    "    if num % 2 == 0:\n",
    "        print(f\"The number {num} is even\")  # Remember how to use the f-string literal in a print statement?\n",
    "    "
   ]
  },
  {
   "cell_type": "code",
   "execution_count": 32,
   "id": "cfe8fa9e",
   "metadata": {},
   "outputs": [
    {
     "name": "stdout",
     "output_type": "stream",
     "text": [
      "The sum of the list is: 55\n"
     ]
    }
   ],
   "source": [
    "# Get the sum of every number in the list\n",
    "list_sum = 0\n",
    "\n",
    "for num in mylist:\n",
    "    list_sum += num\n",
    "    \n",
    "print(f\"The sum of the list is: {list_sum}\")"
   ]
  },
  {
   "cell_type": "code",
   "execution_count": 33,
   "id": "eb448bcd",
   "metadata": {},
   "outputs": [],
   "source": [
    "# Notice that when writing the code, the instructor will add a blank line between blocks of code.\n",
    "# Above, the assignments are separate\n",
    "# The for loop code is separate\n",
    "# And the code outside and after the for loop is separate"
   ]
  },
  {
   "cell_type": "code",
   "execution_count": 38,
   "id": "2156832a",
   "metadata": {},
   "outputs": [
    {
     "name": "stdout",
     "output_type": "stream",
     "text": [
      "0 + 1 is: 1\n",
      "1 + 2 is: 3\n",
      "3 + 3 is: 6\n",
      "6 + 4 is: 10\n",
      "10 + 5 is: 15\n",
      "15 + 6 is: 21\n",
      "21 + 7 is: 28\n",
      "28 + 8 is: 36\n",
      "36 + 9 is: 45\n",
      "45 + 10 is: 55\n"
     ]
    }
   ],
   "source": [
    "# Running tally of the sum of every number in the list\n",
    "list_sum = 0\n",
    "scratch_pad = 0\n",
    "\n",
    "for num in mylist:\n",
    "    scratch_pad = list_sum\n",
    "    list_sum += num\n",
    "    print(f\"{scratch_pad} + {num} is: {list_sum}\")  # this code is now indented so it is inside the for loop    "
   ]
  },
  {
   "cell_type": "code",
   "execution_count": 39,
   "id": "9952126b",
   "metadata": {},
   "outputs": [
    {
     "name": "stdout",
     "output_type": "stream",
     "text": [
      "H\n",
      "e\n",
      "l\n",
      "l\n",
      "o\n",
      " \n",
      "W\n",
      "o\n",
      "r\n",
      "l\n",
      "d\n"
     ]
    }
   ],
   "source": [
    "mystring = \"Hello World\"\n",
    "\n",
    "for letter in mystring:\n",
    "    print(letter)"
   ]
  },
  {
   "cell_type": "code",
   "execution_count": 41,
   "id": "6f6abc38",
   "metadata": {},
   "outputs": [],
   "source": [
    "# maybe you don't intend to use the variable doing the iteration\n",
    "# maybe you just need to iterate over a string for as many times as there are characters"
   ]
  },
  {
   "cell_type": "code",
   "execution_count": 45,
   "id": "de3ac382",
   "metadata": {},
   "outputs": [
    {
     "name": "stdout",
     "output_type": "stream",
     "text": [
      "cool\n",
      "cool\n",
      "cool\n",
      "cool\n",
      "cool\n",
      "cool\n",
      "cool\n",
      "cool\n",
      "cool\n",
      "cool\n",
      "cool\n"
     ]
    }
   ],
   "source": [
    "for _ in \"Hello world\":   # use the underscore _ when you don't intend to use the variable name\n",
    "    print(\"cool\")"
   ]
  },
  {
   "cell_type": "code",
   "execution_count": 48,
   "id": "82e65701",
   "metadata": {},
   "outputs": [
    {
     "name": "stdout",
     "output_type": "stream",
     "text": [
      "1\n",
      "2\n",
      "3\n",
      "4\n"
     ]
    }
   ],
   "source": [
    "# iterating through a tuple\n",
    "tup = (1,2,3,4)\n",
    "\n",
    "for item in tup:\n",
    "    print(item)"
   ]
  },
  {
   "cell_type": "code",
   "execution_count": 52,
   "id": "09a0f622",
   "metadata": {},
   "outputs": [],
   "source": [
    "# tuple unpacking\n",
    "# tuples have a special quality when used in for loops\n",
    "# when iterating through an items that itself contains tuples, you can use tuple unpacking"
   ]
  },
  {
   "cell_type": "code",
   "execution_count": 53,
   "id": "b61b89ec",
   "metadata": {},
   "outputs": [
    {
     "data": {
      "text/plain": [
       "4"
      ]
     },
     "execution_count": 53,
     "metadata": {},
     "output_type": "execute_result"
    }
   ],
   "source": [
    "# make a list of tuples\n",
    "mylist = [(1,2),(3,4),(5,6),(7,8)]\n",
    "len(mylist)"
   ]
  },
  {
   "cell_type": "code",
   "execution_count": 54,
   "id": "e3ba0b12",
   "metadata": {},
   "outputs": [
    {
     "data": {
      "text/plain": [
       "list"
      ]
     },
     "execution_count": 54,
     "metadata": {},
     "output_type": "execute_result"
    }
   ],
   "source": [
    "type(mylist)"
   ]
  },
  {
   "cell_type": "code",
   "execution_count": 57,
   "id": "24cde600",
   "metadata": {},
   "outputs": [
    {
     "data": {
      "text/plain": [
       "tuple"
      ]
     },
     "execution_count": 57,
     "metadata": {},
     "output_type": "execute_result"
    }
   ],
   "source": [
    "type(mylist[0])"
   ]
  },
  {
   "cell_type": "code",
   "execution_count": 58,
   "id": "e7cd26c4",
   "metadata": {},
   "outputs": [
    {
     "name": "stdout",
     "output_type": "stream",
     "text": [
      "(1, 2)\n"
     ]
    }
   ],
   "source": [
    "print(mylist[0])"
   ]
  },
  {
   "cell_type": "code",
   "execution_count": 59,
   "id": "d435a8ad",
   "metadata": {},
   "outputs": [
    {
     "name": "stdout",
     "output_type": "stream",
     "text": [
      "(1, 2)\n",
      "(3, 4)\n",
      "(5, 6)\n",
      "(7, 8)\n"
     ]
    }
   ],
   "source": [
    "# every item in mylist is a tuple pair\n",
    "\n",
    "for item in mylist:\n",
    "    print(item)"
   ]
  },
  {
   "cell_type": "code",
   "execution_count": 60,
   "id": "d07b4e42",
   "metadata": {},
   "outputs": [],
   "source": [
    "# The data structure of creating a list of tuples is extremely common in python."
   ]
  },
  {
   "cell_type": "code",
   "execution_count": 61,
   "id": "7da64aa6",
   "metadata": {},
   "outputs": [
    {
     "name": "stdout",
     "output_type": "stream",
     "text": [
      "a = 1         b = 2\n",
      "a = 3         b = 4\n",
      "a = 5         b = 6\n",
      "a = 7         b = 8\n"
     ]
    }
   ],
   "source": [
    "# here's what tuple unpacking looks like\n",
    "\n",
    "for (a,b) in mylist:     # using (a,b) for a temporary variable written like a tuple\n",
    "    print(f\"a = {a}         b = {b}\")"
   ]
  },
  {
   "cell_type": "code",
   "execution_count": 62,
   "id": "d194e328",
   "metadata": {},
   "outputs": [
    {
     "name": "stdout",
     "output_type": "stream",
     "text": [
      "1\n",
      "2\n",
      "3\n",
      "4\n",
      "5\n",
      "6\n",
      "7\n",
      "8\n"
     ]
    }
   ],
   "source": [
    "# it's a lot more common to see it without the parenthesis in the for loop\n",
    "\n",
    "for a,b in mylist:\n",
    "    print(a)\n",
    "    print(b)"
   ]
  },
  {
   "cell_type": "code",
   "execution_count": 63,
   "id": "67e1f85c",
   "metadata": {},
   "outputs": [],
   "source": [
    "# another example\n",
    "\n",
    "mylist = [(1,2,3),(5,6,7),(9,10,11)]"
   ]
  },
  {
   "cell_type": "code",
   "execution_count": 65,
   "id": "bfcc4f26",
   "metadata": {},
   "outputs": [
    {
     "name": "stdout",
     "output_type": "stream",
     "text": [
      "(1, 2, 3)\n",
      "(5, 6, 7)\n",
      "(9, 10, 11)\n"
     ]
    }
   ],
   "source": [
    "for item in mylist:\n",
    "    print(item)"
   ]
  },
  {
   "cell_type": "code",
   "execution_count": 70,
   "id": "1ee1eeae",
   "metadata": {},
   "outputs": [
    {
     "name": "stdout",
     "output_type": "stream",
     "text": [
      "1 2 3\n",
      "5 6 7\n",
      "9 10 11\n"
     ]
    }
   ],
   "source": [
    "for a,b,c in mylist:\n",
    "    print(a,b,c)"
   ]
  },
  {
   "cell_type": "code",
   "execution_count": 73,
   "id": "42013432",
   "metadata": {},
   "outputs": [
    {
     "name": "stdout",
     "output_type": "stream",
     "text": [
      "k1\n",
      "k2\n",
      "k3\n"
     ]
    }
   ],
   "source": [
    "# iterate through a dictionary\n",
    "# By default, when you iterate through a dictionary, you only iterate through the keys\n",
    "\n",
    "d = {'k1':1,'k2':2,'k3':3}\n",
    "\n",
    "for item in d:\n",
    "    print(item)"
   ]
  },
  {
   "cell_type": "code",
   "execution_count": 76,
   "id": "a58bef6f",
   "metadata": {},
   "outputs": [
    {
     "name": "stdout",
     "output_type": "stream",
     "text": [
      "('k1', 1)\n",
      "<class 'tuple'>\n",
      "('k2', 2)\n",
      "<class 'tuple'>\n",
      "('k3', 3)\n",
      "<class 'tuple'>\n"
     ]
    }
   ],
   "source": [
    "# By default, when you iterate through a dictionary, you only iterate through the keys\n",
    "# To iterate through the items themselves, what you do is call dot items  .items()\n",
    "\n",
    "d = {'k1':1,'k2':2,'k3':3}\n",
    "\n",
    "for item in d.items():\n",
    "    print(item)\n",
    "    print(type(item))"
   ]
  },
  {
   "cell_type": "code",
   "execution_count": 77,
   "id": "ac69ca7b",
   "metadata": {},
   "outputs": [],
   "source": [
    "# Calling .items() creates a tuple out of the dictionary key:value pair"
   ]
  },
  {
   "cell_type": "code",
   "execution_count": 85,
   "id": "3b29a8e3",
   "metadata": {},
   "outputs": [
    {
     "name": "stdout",
     "output_type": "stream",
     "text": [
      "key is k1        value is 1\n",
      "k1 is a <class 'str'>     1 is a <class 'int'>\n",
      "\n",
      "key is k2        value is 2\n",
      "k2 is a <class 'str'>     2 is a <class 'int'>\n",
      "\n",
      "key is k3        value is 3\n",
      "k3 is a <class 'str'>     3 is a <class 'int'>\n",
      "\n"
     ]
    }
   ],
   "source": [
    "# Try tuple unpacking on a dictionary\n",
    "\n",
    "d = {'k1':1,'k2':2,'k3':3}\n",
    "\n",
    "for a,b in d.items():\n",
    "    print(f\"key is {a}   value is {b}\")\n",
    "    print(f\"{a} is a {type(a)}     {b} is a {type(b)}\\n\")"
   ]
  },
  {
   "cell_type": "code",
   "execution_count": 86,
   "id": "ed0636b6",
   "metadata": {},
   "outputs": [],
   "source": [
    "# if you want tuples from a dictionary, use a statement like this:\n",
    "# for item in d:\n",
    "\n",
    "# if you want to unpack the tuples into keys and values, the key will be a string and the value whatever it is\n",
    "# for a,b in d.items():\n",
    "\n",
    "# if you just want the values, call dot values  .values():\n",
    "# for value in d.values():"
   ]
  },
  {
   "cell_type": "code",
   "execution_count": 89,
   "id": "4d5be1a6",
   "metadata": {},
   "outputs": [
    {
     "name": "stdout",
     "output_type": "stream",
     "text": [
      "Value 1 is a <class 'int'>\n",
      "Value 2.2 is a <class 'float'>\n",
      "Value 3 is a <class 'str'>\n",
      "Value True is a <class 'bool'>\n"
     ]
    }
   ],
   "source": [
    "d = {'k1':1,'k2':2.2,'k3':'3','k4':True}\n",
    "\n",
    "# just return the values\n",
    "for value in d.values():\n",
    "    print(f\"Value {value} is a {type(value)}\")\n",
    "    "
   ]
  },
  {
   "cell_type": "markdown",
   "id": "73b0fbde",
   "metadata": {},
   "source": [
    "<strong><big>36 - While Loops in Python</big></strong>"
   ]
  },
  {
   "cell_type": "code",
   "execution_count": null,
   "id": "a2abd47d",
   "metadata": {},
   "outputs": [],
   "source": []
  }
 ],
 "metadata": {
  "kernelspec": {
   "display_name": "Python 3 (ipykernel)",
   "language": "python",
   "name": "python3"
  },
  "language_info": {
   "codemirror_mode": {
    "name": "ipython",
    "version": 3
   },
   "file_extension": ".py",
   "mimetype": "text/x-python",
   "name": "python",
   "nbconvert_exporter": "python",
   "pygments_lexer": "ipython3",
   "version": "3.9.13"
  }
 },
 "nbformat": 4,
 "nbformat_minor": 5
}
