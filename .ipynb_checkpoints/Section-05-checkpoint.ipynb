{
 "cells": [
  {
   "cell_type": "markdown",
   "id": "c1eda346",
   "metadata": {},
   "source": [
    "This workbook covers Section 5"
   ]
  },
  {
   "cell_type": "markdown",
   "id": "b98971a4",
   "metadata": {},
   "source": [
    "34 - If, Elif, and Else Statements in Python\n"
   ]
  },
  {
   "cell_type": "code",
   "execution_count": 2,
   "id": "b0b5adec",
   "metadata": {},
   "outputs": [],
   "source": [
    "# if, elif, and else statements are the beginning of control flow.\n",
    "# When we only want certain code to execute when a particular condition has been met.\n",
    "# Example:\n",
    "# if my dog is hungry (a condition), then I will feed my dog (an action)."
   ]
  },
  {
   "cell_type": "code",
   "execution_count": 3,
   "id": "a2a0718a",
   "metadata": {},
   "outputs": [],
   "source": [
    "# Control Flow syntax uses colons and indentions, or whitespace\n",
    "# The indentation system is crucial to Python and is what sets it apart from other languages"
   ]
  },
  {
   "cell_type": "code",
   "execution_count": 4,
   "id": "ec3af08f",
   "metadata": {},
   "outputs": [],
   "source": [
    "# syntax of a basic if statement\n",
    "#\n",
    "# if some_condition:\n",
    "#    # execute some code"
   ]
  },
  {
   "cell_type": "code",
   "execution_count": 5,
   "id": "cf72fb41",
   "metadata": {},
   "outputs": [],
   "source": [
    "# syntax of an if statement also using an else statement\n",
    "#\n",
    "# if some_condition:\n",
    "#    # execute some code\n",
    "# else:\n",
    "#    # do something else\n"
   ]
  },
  {
   "cell_type": "code",
   "execution_count": 6,
   "id": "066c2efb",
   "metadata": {},
   "outputs": [],
   "source": [
    "# syntax of an if statement that checks for multiple conditions using elif and else statements\n",
    "#\n",
    "# if some_condition:\n",
    "#    # execute some code\n",
    "# elif some_other_condition:\n",
    "#    # do something different\n",
    "# else:\n",
    "#    # do something else"
   ]
  },
  {
   "cell_type": "code",
   "execution_count": 7,
   "id": "0d8a6a58",
   "metadata": {},
   "outputs": [
    {
     "name": "stdout",
     "output_type": "stream",
     "text": [
      "ITS TRUE!\n"
     ]
    }
   ],
   "source": [
    "# examples\n",
    "if True:\n",
    "    print('ITS TRUE!')"
   ]
  },
  {
   "cell_type": "code",
   "execution_count": 8,
   "id": "c12017fe",
   "metadata": {},
   "outputs": [],
   "source": [
    "if False:\n",
    "    print('what is it?')"
   ]
  },
  {
   "cell_type": "code",
   "execution_count": 9,
   "id": "699090ca",
   "metadata": {},
   "outputs": [],
   "source": [
    "# Notice that printed nothing.\n",
    "# I don't fully grasp this logic.\n",
    "# if True...if WHAT is true?  Does Python default to true on logic conditions like this?  Can the condition change?"
   ]
  },
  {
   "cell_type": "code",
   "execution_count": 10,
   "id": "fec9cf4a",
   "metadata": {},
   "outputs": [
    {
     "name": "stdout",
     "output_type": "stream",
     "text": [
      "Let's eat!!\n"
     ]
    }
   ],
   "source": [
    "hungry = True\n",
    "\n",
    "if hungry:\n",
    "    print(\"Let's eat!!\")"
   ]
  },
  {
   "cell_type": "code",
   "execution_count": 11,
   "id": "d23ce0be",
   "metadata": {},
   "outputs": [
    {
     "name": "stdout",
     "output_type": "stream",
     "text": [
      "I'm good\n"
     ]
    }
   ],
   "source": [
    "hungry = False\n",
    "\n",
    "if hungry:\n",
    "    print(\"Let's eat!!\")\n",
    "else:\n",
    "    print(\"I'm good\")"
   ]
  },
  {
   "cell_type": "code",
   "execution_count": 12,
   "id": "3d3bdb68",
   "metadata": {},
   "outputs": [],
   "source": [
    "# make sure the indentation is lined up correctly.  Should be automatic in the editors."
   ]
  },
  {
   "cell_type": "code",
   "execution_count": 13,
   "id": "c49f8de2",
   "metadata": {},
   "outputs": [],
   "source": [
    "# since hungry by itself is already a boolean, you don't have to say:\n",
    "# ...\n",
    "# if hungry == True:\n",
    "# ...\n",
    "#\n",
    "# you can just say:\n",
    "# ...\n",
    "# if hungry:\n",
    "# ..."
   ]
  },
  {
   "cell_type": "code",
   "execution_count": 14,
   "id": "69c0e307",
   "metadata": {},
   "outputs": [],
   "source": [
    "# Mutiple branches with if, elif, and else"
   ]
  },
  {
   "cell_type": "code",
   "execution_count": 15,
   "id": "4f5e823f",
   "metadata": {},
   "outputs": [
    {
     "name": "stdout",
     "output_type": "stream",
     "text": [
      "I love money!\n"
     ]
    }
   ],
   "source": [
    "loc = \"Bank\"\n",
    "\n",
    "if loc == 'Auto Shop':\n",
    "    print(\"Cars are cool!\")\n",
    "elif loc == 'Bank':\n",
    "    print(\"I love money!\")\n",
    "else:\n",
    "    print(\"I do not know much!\")"
   ]
  },
  {
   "cell_type": "code",
   "execution_count": 16,
   "id": "82de17a5",
   "metadata": {},
   "outputs": [
    {
     "name": "stdout",
     "output_type": "stream",
     "text": [
      "What is your name?\n"
     ]
    }
   ],
   "source": [
    "name = \"Paul\"\n",
    "\n",
    "if name == \"Frankie\":\n",
    "    print(\"Hello Frankie\")\n",
    "elif name == \"Sammy\":\n",
    "    print(\"Hello Sammy\")\n",
    "else:\n",
    "    print(\"What is your name?\")"
   ]
  },
  {
   "cell_type": "markdown",
   "id": "17a95645",
   "metadata": {},
   "source": [
    "35 - For Loops in Python"
   ]
  },
  {
   "cell_type": "code",
   "execution_count": 19,
   "id": "90e25017",
   "metadata": {},
   "outputs": [],
   "source": [
    "# Many objects in Python are iterable.\n",
    "# Iterate is to perform an action for every \"thing\" in an object.\n",
    "# Every element in a list or every character in a string, every key in a dictionary\n",
    "# We can use loops to execute a block of code for every iteration"
   ]
  },
  {
   "cell_type": "code",
   "execution_count": 22,
   "id": "6ca32235",
   "metadata": {},
   "outputs": [],
   "source": [
    "# Syntax of a for loop\n",
    "# my_iterable = [1,2,3]     # this is just an assignment\n",
    "# for item_name in my_iterable:     # item_name is just a placeholder for every item in the iterable\n",
    "#    print(item_name)       # this is just the block of code to execute for every item\n",
    "#>> 1\n",
    "#>> 2\n",
    "#>> 3"
   ]
  },
  {
   "cell_type": "code",
   "execution_count": 23,
   "id": "a9512057",
   "metadata": {},
   "outputs": [],
   "source": [
    "mylist = [1,2,3,4,5,6,7,8,9,10]"
   ]
  },
  {
   "cell_type": "code",
   "execution_count": 24,
   "id": "fc805be1",
   "metadata": {},
   "outputs": [
    {
     "name": "stdout",
     "output_type": "stream",
     "text": [
      "1\n",
      "2\n",
      "3\n",
      "4\n",
      "5\n",
      "6\n",
      "7\n",
      "8\n",
      "9\n",
      "10\n"
     ]
    }
   ],
   "source": [
    "for num in mylist:\n",
    "    print(num)"
   ]
  },
  {
   "cell_type": "code",
   "execution_count": 29,
   "id": "3f76a8a1",
   "metadata": {},
   "outputs": [
    {
     "name": "stdout",
     "output_type": "stream",
     "text": [
      "The number 2 is even\n",
      "The number 4 is even\n",
      "The number 6 is even\n",
      "The number 8 is even\n",
      "The number 10 is even\n"
     ]
    }
   ],
   "source": [
    "# add in some control flow to print only the even numbers in the list\n",
    "for num in mylist:\n",
    "    # Check for even\n",
    "    if num % 2 == 0:\n",
    "        print(f\"The number {num} is even\")  # Remember how to use the f-string literal in a print statement?\n",
    "    "
   ]
  },
  {
   "cell_type": "code",
   "execution_count": 32,
   "id": "cfe8fa9e",
   "metadata": {},
   "outputs": [
    {
     "name": "stdout",
     "output_type": "stream",
     "text": [
      "The sum of the list is: 55\n"
     ]
    }
   ],
   "source": [
    "# Get the sum of every number in the list\n",
    "list_sum = 0\n",
    "\n",
    "for num in mylist:\n",
    "    list_sum += num\n",
    "    \n",
    "print(f\"The sum of the list is: {list_sum}\")"
   ]
  },
  {
   "cell_type": "code",
   "execution_count": 33,
   "id": "eb448bcd",
   "metadata": {},
   "outputs": [],
   "source": [
    "# Notice that when writing the code, the instructor will add a blank line between blocks of code.\n",
    "# Above, the assignments are separate\n",
    "# The for loop code is separate\n",
    "# And the code outside and after the for loop is separate"
   ]
  },
  {
   "cell_type": "code",
   "execution_count": 38,
   "id": "2156832a",
   "metadata": {},
   "outputs": [
    {
     "name": "stdout",
     "output_type": "stream",
     "text": [
      "0 + 1 is: 1\n",
      "1 + 2 is: 3\n",
      "3 + 3 is: 6\n",
      "6 + 4 is: 10\n",
      "10 + 5 is: 15\n",
      "15 + 6 is: 21\n",
      "21 + 7 is: 28\n",
      "28 + 8 is: 36\n",
      "36 + 9 is: 45\n",
      "45 + 10 is: 55\n"
     ]
    }
   ],
   "source": [
    "# Running tally of the sum of every number in the list\n",
    "list_sum = 0\n",
    "scratch_pad = 0\n",
    "\n",
    "for num in mylist:\n",
    "    scratch_pad = list_sum\n",
    "    list_sum += num\n",
    "    print(f\"{scratch_pad} + {num} is: {list_sum}\")  # this code is now indented so it is inside the for loop    "
   ]
  },
  {
   "cell_type": "code",
   "execution_count": 39,
   "id": "9952126b",
   "metadata": {},
   "outputs": [
    {
     "name": "stdout",
     "output_type": "stream",
     "text": [
      "H\n",
      "e\n",
      "l\n",
      "l\n",
      "o\n",
      " \n",
      "W\n",
      "o\n",
      "r\n",
      "l\n",
      "d\n"
     ]
    }
   ],
   "source": [
    "mystring = \"Hello World\"\n",
    "\n",
    "for letter in mystring:\n",
    "    print(letter)"
   ]
  },
  {
   "cell_type": "code",
   "execution_count": 41,
   "id": "6f6abc38",
   "metadata": {},
   "outputs": [],
   "source": [
    "# maybe you don't intend to use the variable doing the iteration\n",
    "# maybe you just need to iterate over a string for as many times as there are characters"
   ]
  },
  {
   "cell_type": "code",
   "execution_count": 45,
   "id": "de3ac382",
   "metadata": {},
   "outputs": [
    {
     "name": "stdout",
     "output_type": "stream",
     "text": [
      "cool\n",
      "cool\n",
      "cool\n",
      "cool\n",
      "cool\n",
      "cool\n",
      "cool\n",
      "cool\n",
      "cool\n",
      "cool\n",
      "cool\n"
     ]
    }
   ],
   "source": [
    "for _ in \"Hello world\":   # use the underscore _ when you don't intend to use the variable name\n",
    "    print(\"cool\")"
   ]
  },
  {
   "cell_type": "code",
   "execution_count": 48,
   "id": "82e65701",
   "metadata": {},
   "outputs": [
    {
     "name": "stdout",
     "output_type": "stream",
     "text": [
      "1\n",
      "2\n",
      "3\n",
      "4\n"
     ]
    }
   ],
   "source": [
    "# iterating through a tuple\n",
    "tup = (1,2,3,4)\n",
    "\n",
    "for item in tup:\n",
    "    print(item)"
   ]
  },
  {
   "cell_type": "code",
   "execution_count": 52,
   "id": "09a0f622",
   "metadata": {},
   "outputs": [],
   "source": [
    "# tuple unpacking\n",
    "# tuples have a special quality when used in for loops\n",
    "# when iterating through an items that itself contains tuples, you can use tuple unpacking"
   ]
  },
  {
   "cell_type": "code",
   "execution_count": 53,
   "id": "b61b89ec",
   "metadata": {},
   "outputs": [
    {
     "data": {
      "text/plain": [
       "4"
      ]
     },
     "execution_count": 53,
     "metadata": {},
     "output_type": "execute_result"
    }
   ],
   "source": [
    "# make a list of tuples\n",
    "mylist = [(1,2),(3,4),(5,6),(7,8)]\n",
    "len(mylist)"
   ]
  },
  {
   "cell_type": "code",
   "execution_count": 54,
   "id": "e3ba0b12",
   "metadata": {},
   "outputs": [
    {
     "data": {
      "text/plain": [
       "list"
      ]
     },
     "execution_count": 54,
     "metadata": {},
     "output_type": "execute_result"
    }
   ],
   "source": [
    "type(mylist)"
   ]
  },
  {
   "cell_type": "code",
   "execution_count": 57,
   "id": "24cde600",
   "metadata": {},
   "outputs": [
    {
     "data": {
      "text/plain": [
       "tuple"
      ]
     },
     "execution_count": 57,
     "metadata": {},
     "output_type": "execute_result"
    }
   ],
   "source": [
    "type(mylist[0])"
   ]
  },
  {
   "cell_type": "code",
   "execution_count": 58,
   "id": "e7cd26c4",
   "metadata": {},
   "outputs": [
    {
     "name": "stdout",
     "output_type": "stream",
     "text": [
      "(1, 2)\n"
     ]
    }
   ],
   "source": [
    "print(mylist[0])"
   ]
  },
  {
   "cell_type": "code",
   "execution_count": 59,
   "id": "d435a8ad",
   "metadata": {},
   "outputs": [
    {
     "name": "stdout",
     "output_type": "stream",
     "text": [
      "(1, 2)\n",
      "(3, 4)\n",
      "(5, 6)\n",
      "(7, 8)\n"
     ]
    }
   ],
   "source": [
    "# every item in mylist is a tuple pair\n",
    "\n",
    "for item in mylist:\n",
    "    print(item)"
   ]
  },
  {
   "cell_type": "code",
   "execution_count": 60,
   "id": "d07b4e42",
   "metadata": {},
   "outputs": [],
   "source": [
    "# The data structure of creating a list of tuples is extremely common in python."
   ]
  },
  {
   "cell_type": "code",
   "execution_count": 61,
   "id": "7da64aa6",
   "metadata": {},
   "outputs": [
    {
     "name": "stdout",
     "output_type": "stream",
     "text": [
      "a = 1         b = 2\n",
      "a = 3         b = 4\n",
      "a = 5         b = 6\n",
      "a = 7         b = 8\n"
     ]
    }
   ],
   "source": [
    "# here's what tuple unpacking looks like\n",
    "\n",
    "for (a,b) in mylist:     # using (a,b) for a temporary variable written like a tuple\n",
    "    print(f\"a = {a}         b = {b}\")"
   ]
  },
  {
   "cell_type": "code",
   "execution_count": 62,
   "id": "d194e328",
   "metadata": {},
   "outputs": [
    {
     "name": "stdout",
     "output_type": "stream",
     "text": [
      "1\n",
      "2\n",
      "3\n",
      "4\n",
      "5\n",
      "6\n",
      "7\n",
      "8\n"
     ]
    }
   ],
   "source": [
    "# it's a lot more common to see it without the parenthesis in the for loop\n",
    "\n",
    "for a,b in mylist:\n",
    "    print(a)\n",
    "    print(b)"
   ]
  },
  {
   "cell_type": "code",
   "execution_count": 63,
   "id": "67e1f85c",
   "metadata": {},
   "outputs": [],
   "source": [
    "# another example\n",
    "\n",
    "mylist = [(1,2,3),(5,6,7),(9,10,11)]"
   ]
  },
  {
   "cell_type": "code",
   "execution_count": 65,
   "id": "bfcc4f26",
   "metadata": {},
   "outputs": [
    {
     "name": "stdout",
     "output_type": "stream",
     "text": [
      "(1, 2, 3)\n",
      "(5, 6, 7)\n",
      "(9, 10, 11)\n"
     ]
    }
   ],
   "source": [
    "for item in mylist:\n",
    "    print(item)"
   ]
  },
  {
   "cell_type": "code",
   "execution_count": 70,
   "id": "1ee1eeae",
   "metadata": {},
   "outputs": [
    {
     "name": "stdout",
     "output_type": "stream",
     "text": [
      "1 2 3\n",
      "5 6 7\n",
      "9 10 11\n"
     ]
    }
   ],
   "source": [
    "for a,b,c in mylist:\n",
    "    print(a,b,c)"
   ]
  },
  {
   "cell_type": "code",
   "execution_count": 73,
   "id": "42013432",
   "metadata": {},
   "outputs": [
    {
     "name": "stdout",
     "output_type": "stream",
     "text": [
      "k1\n",
      "k2\n",
      "k3\n"
     ]
    }
   ],
   "source": [
    "# iterate through a dictionary\n",
    "# By default, when you iterate through a dictionary, you only iterate through the keys\n",
    "\n",
    "d = {'k1':1,'k2':2,'k3':3}\n",
    "\n",
    "for item in d:\n",
    "    print(item)"
   ]
  },
  {
   "cell_type": "code",
   "execution_count": 76,
   "id": "a58bef6f",
   "metadata": {},
   "outputs": [
    {
     "name": "stdout",
     "output_type": "stream",
     "text": [
      "('k1', 1)\n",
      "<class 'tuple'>\n",
      "('k2', 2)\n",
      "<class 'tuple'>\n",
      "('k3', 3)\n",
      "<class 'tuple'>\n"
     ]
    }
   ],
   "source": [
    "# By default, when you iterate through a dictionary, you only iterate through the keys\n",
    "# To iterate through the items themselves, what you do is call dot items  .items()\n",
    "\n",
    "d = {'k1':1,'k2':2,'k3':3}\n",
    "\n",
    "for item in d.items():\n",
    "    print(item)\n",
    "    print(type(item))"
   ]
  },
  {
   "cell_type": "code",
   "execution_count": 77,
   "id": "ac69ca7b",
   "metadata": {},
   "outputs": [],
   "source": [
    "# Calling .items() creates a tuple out of the dictionary key:value pair"
   ]
  },
  {
   "cell_type": "code",
   "execution_count": 85,
   "id": "3b29a8e3",
   "metadata": {},
   "outputs": [
    {
     "name": "stdout",
     "output_type": "stream",
     "text": [
      "key is k1        value is 1\n",
      "k1 is a <class 'str'>     1 is a <class 'int'>\n",
      "\n",
      "key is k2        value is 2\n",
      "k2 is a <class 'str'>     2 is a <class 'int'>\n",
      "\n",
      "key is k3        value is 3\n",
      "k3 is a <class 'str'>     3 is a <class 'int'>\n",
      "\n"
     ]
    }
   ],
   "source": [
    "# Try tuple unpacking on a dictionary\n",
    "\n",
    "d = {'k1':1,'k2':2,'k3':3}\n",
    "\n",
    "for a,b in d.items():\n",
    "    print(f\"key is {a}   value is {b}\")\n",
    "    print(f\"{a} is a {type(a)}     {b} is a {type(b)}\\n\")"
   ]
  },
  {
   "cell_type": "code",
   "execution_count": 86,
   "id": "ed0636b6",
   "metadata": {},
   "outputs": [],
   "source": [
    "# if you want tuples from a dictionary, use a statement like this:\n",
    "# for item in d:\n",
    "\n",
    "# if you want to unpack the tuples into keys and values, the key will be a string and the value whatever it is\n",
    "# for a,b in d.items():\n",
    "\n",
    "# if you just want the values, call dot values  .values():\n",
    "# for value in d.values():"
   ]
  },
  {
   "cell_type": "code",
   "execution_count": 89,
   "id": "4d5be1a6",
   "metadata": {},
   "outputs": [
    {
     "name": "stdout",
     "output_type": "stream",
     "text": [
      "Value 1 is a <class 'int'>\n",
      "Value 2.2 is a <class 'float'>\n",
      "Value 3 is a <class 'str'>\n",
      "Value True is a <class 'bool'>\n"
     ]
    }
   ],
   "source": [
    "d = {'k1':1,'k2':2.2,'k3':'3','k4':True}\n",
    "\n",
    "# just return the values\n",
    "for value in d.values():\n",
    "    print(f\"Value {value} is a {type(value)}\")\n",
    "    "
   ]
  },
  {
   "cell_type": "markdown",
   "id": "73b0fbde",
   "metadata": {},
   "source": [
    "<strong><big>36 - While Loops in Python</big></strong>"
   ]
  },
  {
   "cell_type": "code",
   "execution_count": 4,
   "id": "a2abd47d",
   "metadata": {},
   "outputs": [],
   "source": [
    "# while loops execute code \"while\" a condition is true\n",
    "# while some condition is true, execute this code\n",
    "# while my pool is not full, keep filling my pool with water"
   ]
  },
  {
   "cell_type": "code",
   "execution_count": 5,
   "id": "7e41fa86",
   "metadata": {},
   "outputs": [],
   "source": [
    "# Syntax for a while loop:\n",
    "\n",
    "# while some_boolean_condition:\n",
    "#    # do something"
   ]
  },
  {
   "cell_type": "code",
   "execution_count": 7,
   "id": "ef22440a",
   "metadata": {},
   "outputs": [],
   "source": [
    "# You can use an else statement with a while loop\n",
    "\n",
    "# while some_boolean_condition:\n",
    "#    # do something\n",
    "# else:\n",
    "#    # do something different"
   ]
  },
  {
   "cell_type": "code",
   "execution_count": 10,
   "id": "29977864",
   "metadata": {},
   "outputs": [
    {
     "name": "stdout",
     "output_type": "stream",
     "text": [
      "The current value of x is 0\n",
      "The current value of x is 2\n",
      "The current value of x is 4\n",
      "x is not less than 5\n"
     ]
    }
   ],
   "source": [
    "x = 0\n",
    "\n",
    "while x < 5:\n",
    "    print(f'The current value of x is {x}')\n",
    "    x = x + 1\n",
    "    x += 1  # This is a better way to write the increment\n",
    "else:\n",
    "    print('x is not less than 5')"
   ]
  },
  {
   "cell_type": "code",
   "execution_count": 12,
   "id": "464e7dce",
   "metadata": {},
   "outputs": [],
   "source": [
    "# Helpful keywords to use with loops\n",
    "# break:\n",
    "#      Breaks out of the current closest enclosing loop\n",
    "# continue:\n",
    "#      Goes to the top of the closest enclosing loop\n",
    "# pass:\n",
    "#      Does nothing at all"
   ]
  },
  {
   "cell_type": "code",
   "execution_count": 16,
   "id": "eaac1366",
   "metadata": {},
   "outputs": [
    {
     "name": "stdout",
     "output_type": "stream",
     "text": [
      "end of my script\n"
     ]
    }
   ],
   "source": [
    "# pass example\n",
    "\n",
    "x = [1,2,3]\n",
    "\n",
    "for item in x:\n",
    "    # iterate over x here\n",
    "    pass  # this means do nothing, can be helpful to get the code going until all the details are done\n",
    "\n",
    "print('end of my script')"
   ]
  },
  {
   "cell_type": "code",
   "execution_count": 19,
   "id": "a2d457d5",
   "metadata": {},
   "outputs": [
    {
     "name": "stdout",
     "output_type": "stream",
     "text": [
      "S\n",
      "this part of the loop skips \"a\"\n",
      "m\n",
      "m\n",
      "y\n"
     ]
    }
   ],
   "source": [
    "# continue example\n",
    "\n",
    "mystring = 'Sammy'\n",
    "\n",
    "for letter in mystring:\n",
    "    # I don't want to print the letter 'a'\n",
    "    if letter == 'a':\n",
    "        print('this part of the loop skips \"a\"')\n",
    "        continue\n",
    "    print(letter)"
   ]
  },
  {
   "cell_type": "code",
   "execution_count": 25,
   "id": "72a7dd65",
   "metadata": {},
   "outputs": [
    {
     "name": "stdout",
     "output_type": "stream",
     "text": [
      "b\n",
      "c\n",
      "d\n",
      "e\n",
      "this stops the loop at the letter \"a\"\n",
      "though the condition is true at the beginning of the loop,\n",
      "the rest of the code in the loop still executes\n",
      "which is why this statement is printed last\n"
     ]
    }
   ],
   "source": [
    "# break example\n",
    "# same code above but using 'break' instead of 'continue'\n",
    "\n",
    "mystring = 'Sammy'\n",
    "\n",
    "for letter in mystring:\n",
    "    # I don't want to print the letter 'a'\n",
    "    if letter == 'a':\n",
    "        print('this stops the loop at the letter \"a\"')\n",
    "        print('though the condition is true at the beginning of the loop,')\n",
    "        print('the rest of the code in the loop still executes')\n",
    "        print('which is why this statement is printed last')\n",
    "        # notice thie print statement runs when all the rest of the code in the loop executes\n",
    "        break\n",
    "    letter = \"b\"\n",
    "    print(letter)\n",
    "    letter = 'c'\n",
    "    print(letter)\n",
    "    letter = 'd'\n",
    "    print(letter)\n",
    "    letter = 'e'\n",
    "    print(letter)"
   ]
  },
  {
   "cell_type": "code",
   "execution_count": 32,
   "id": "6e6c8eaf",
   "metadata": {},
   "outputs": [
    {
     "name": "stdout",
     "output_type": "stream",
     "text": [
      "0\n",
      "1\n",
      "final value of x in the code is 2\n",
      "watch your variables - did the code change the value after this break statement?\n"
     ]
    }
   ],
   "source": [
    "# another break example\n",
    "\n",
    "x = 0\n",
    "\n",
    "while x < 5:\n",
    "    if x == 2:\n",
    "        print(f'final value of x in the code is {x}')\n",
    "        print('watch your variables - did the code change the value after this break statement?')   \n",
    "        break\n",
    "    \n",
    "    print(x)\n",
    "    x += 1"
   ]
  },
  {
   "cell_type": "markdown",
   "id": "a9869a63",
   "metadata": {},
   "source": [
    "<strong>37 - Useful Operators in Python</strong>"
   ]
  },
  {
   "cell_type": "code",
   "execution_count": 37,
   "id": "fc041bf4",
   "metadata": {},
   "outputs": [],
   "source": [
    "mylist = [1,2,3]"
   ]
  },
  {
   "cell_type": "code",
   "execution_count": 47,
   "id": "9d4eb878",
   "metadata": {},
   "outputs": [
    {
     "name": "stdout",
     "output_type": "stream",
     "text": [
      "0\n",
      "1\n",
      "2\n",
      "3\n",
      "4\n",
      "5\n",
      "6\n",
      "7\n",
      "8\n",
      "9\n"
     ]
    }
   ],
   "source": [
    "################ the range() function in python\n",
    "# type range () and hit shift-tab to see the syntax\n",
    "# range(start, stop, step)\n",
    "# put one value in it assumes that's stop\n",
    "# put two values in it assumes that's start and stop\n",
    "# all three is start, stop, step\n",
    "for num in range(10):\n",
    "    print(num)"
   ]
  },
  {
   "cell_type": "code",
   "execution_count": 40,
   "id": "9b06d5e5",
   "metadata": {},
   "outputs": [
    {
     "name": "stdout",
     "output_type": "stream",
     "text": [
      "2\n",
      "3\n",
      "4\n",
      "5\n",
      "6\n",
      "7\n",
      "8\n",
      "9\n"
     ]
    }
   ],
   "source": [
    "for num in range(2,10):\n",
    "    print(num)"
   ]
  },
  {
   "cell_type": "code",
   "execution_count": 41,
   "id": "e261829a",
   "metadata": {},
   "outputs": [
    {
     "name": "stdout",
     "output_type": "stream",
     "text": [
      "2\n",
      "4\n",
      "6\n",
      "8\n"
     ]
    }
   ],
   "source": [
    "for num in range(2,10,2):\n",
    "    print(num)"
   ]
  },
  {
   "cell_type": "code",
   "execution_count": 43,
   "id": "f451a344",
   "metadata": {},
   "outputs": [
    {
     "name": "stdout",
     "output_type": "stream",
     "text": [
      "2\n",
      "4\n",
      "6\n",
      "8\n",
      "10\n"
     ]
    }
   ],
   "source": [
    "# if you want to include 10 in the even numbers, you have to go one higher\n",
    "for num in range(2,11,2):\n",
    "    print(num)"
   ]
  },
  {
   "cell_type": "code",
   "execution_count": 44,
   "id": "f977990b",
   "metadata": {},
   "outputs": [
    {
     "data": {
      "text/plain": [
       "range(0, 11, 2)"
      ]
     },
     "execution_count": 44,
     "metadata": {},
     "output_type": "execute_result"
    }
   ],
   "source": [
    "# if you just type the function in the cell you get:\n",
    "\n",
    "range(0,11,2)"
   ]
  },
  {
   "cell_type": "code",
   "execution_count": 46,
   "id": "fe74688f",
   "metadata": {},
   "outputs": [
    {
     "data": {
      "text/plain": [
       "[0, 2, 4, 6, 8, 10]"
      ]
     },
     "execution_count": 46,
     "metadata": {},
     "output_type": "execute_result"
    }
   ],
   "source": [
    "# this is because it's a generator\n",
    "# cast it to a list\n",
    "\n",
    "list(range(0,11,2))"
   ]
  },
  {
   "cell_type": "code",
   "execution_count": 48,
   "id": "dcdabca5",
   "metadata": {},
   "outputs": [],
   "source": [
    "############## enumerate() function"
   ]
  },
  {
   "cell_type": "code",
   "execution_count": 49,
   "id": "d05a59d4",
   "metadata": {},
   "outputs": [
    {
     "name": "stdout",
     "output_type": "stream",
     "text": [
      "At index 0 the letter is a\n",
      "At index 1 the letter is b\n",
      "At index 2 the letter is c\n",
      "At index 3 the letter is d\n",
      "At index 4 the letter is e\n"
     ]
    }
   ],
   "source": [
    "index_count = 0\n",
    "\n",
    "for letter in 'abcde':\n",
    "    print('At index {} the letter is {}'.format(index_count,letter))\n",
    "    index_count += 1"
   ]
  },
  {
   "cell_type": "code",
   "execution_count": 53,
   "id": "bc7da70a",
   "metadata": {},
   "outputs": [
    {
     "name": "stdout",
     "output_type": "stream",
     "text": [
      "a\n",
      "b\n",
      "c\n",
      "d\n",
      "e\n"
     ]
    }
   ],
   "source": [
    "# this is a very common operation in python\n",
    "# a lot of people use this code\n",
    "\n",
    "index_count = 0\n",
    "\n",
    "word = 'abcde'\n",
    "\n",
    "for letter in word:\n",
    "    print(word[index_count])\n",
    "    index_count +=1"
   ]
  },
  {
   "cell_type": "code",
   "execution_count": 57,
   "id": "f212ac90",
   "metadata": {},
   "outputs": [
    {
     "name": "stdout",
     "output_type": "stream",
     "text": [
      "(0, 'a')\n",
      "<class 'tuple'>\n",
      "(1, 'b')\n",
      "<class 'tuple'>\n",
      "(2, 'c')\n",
      "<class 'tuple'>\n",
      "(3, 'd')\n",
      "<class 'tuple'>\n",
      "(4, 'e')\n",
      "<class 'tuple'>\n"
     ]
    }
   ],
   "source": [
    "# So Python created the enumerate() function\n",
    "\n",
    "word = 'abcde'\n",
    "\n",
    "for item in enumerate(word):\n",
    "    print(item)\n",
    "    print(type(item))"
   ]
  },
  {
   "cell_type": "code",
   "execution_count": 58,
   "id": "e2352925",
   "metadata": {},
   "outputs": [],
   "source": [
    "# enumerate()\n",
    "# returns index position and the character in the index position in tuples"
   ]
  },
  {
   "cell_type": "code",
   "execution_count": 62,
   "id": "0f3e81d5",
   "metadata": {},
   "outputs": [
    {
     "name": "stdout",
     "output_type": "stream",
     "text": [
      "0\n",
      "a\n",
      "\n",
      "\n",
      "1\n",
      "b\n",
      "\n",
      "\n",
      "2\n",
      "c\n",
      "\n",
      "\n",
      "3\n",
      "d\n",
      "\n",
      "\n",
      "4\n",
      "e\n",
      "\n",
      "\n"
     ]
    }
   ],
   "source": [
    "# you can use tuple unpacking with enumerate()\n",
    "\n",
    "word = 'abcde'\n",
    "\n",
    "for index,letter in enumerate(word):\n",
    "    print(index)\n",
    "    print(letter)\n",
    "    print(\"\\n\")"
   ]
  },
  {
   "cell_type": "code",
   "execution_count": 63,
   "id": "5a33069c",
   "metadata": {},
   "outputs": [],
   "source": [
    "############################# zip() function\n",
    "# opposite of enumerate()\n",
    "# it zips together 2 lists"
   ]
  },
  {
   "cell_type": "code",
   "execution_count": 66,
   "id": "bebac632",
   "metadata": {},
   "outputs": [],
   "source": [
    "mylist1 = [1,2,3,4,5]\n",
    "mylist2 = ['a','b','c','d','e']"
   ]
  },
  {
   "cell_type": "code",
   "execution_count": 67,
   "id": "8d332c6e",
   "metadata": {},
   "outputs": [
    {
     "data": {
      "text/plain": [
       "<zip at 0x7f0e22944d00>"
      ]
     },
     "execution_count": 67,
     "metadata": {},
     "output_type": "execute_result"
    }
   ],
   "source": [
    "zip(mylist1,mylist2)"
   ]
  },
  {
   "cell_type": "code",
   "execution_count": 68,
   "id": "27a74328",
   "metadata": {},
   "outputs": [
    {
     "name": "stdout",
     "output_type": "stream",
     "text": [
      "<zip object at 0x7f0e22c17300>\n"
     ]
    }
   ],
   "source": [
    "print(zip(mylist1,mylist2))"
   ]
  },
  {
   "cell_type": "code",
   "execution_count": 69,
   "id": "fa1652e1",
   "metadata": {},
   "outputs": [],
   "source": [
    "# zip is a generator, it just puts the generated list in that memory location"
   ]
  },
  {
   "cell_type": "code",
   "execution_count": 72,
   "id": "1817c889",
   "metadata": {},
   "outputs": [
    {
     "name": "stdout",
     "output_type": "stream",
     "text": [
      "(1, 'a')\n",
      "(2, 'b')\n",
      "(3, 'c')\n",
      "(4, 'd')\n",
      "(5, 'e')\n"
     ]
    }
   ],
   "source": [
    "for item in zip(mylist1,mylist2):\n",
    "    print(item)"
   ]
  },
  {
   "cell_type": "code",
   "execution_count": 76,
   "id": "9372f885",
   "metadata": {},
   "outputs": [],
   "source": [
    "# more tuples\n",
    "mylist3 = [100,200,300,400,500,600,700]"
   ]
  },
  {
   "cell_type": "code",
   "execution_count": 75,
   "id": "14635720",
   "metadata": {},
   "outputs": [
    {
     "name": "stdout",
     "output_type": "stream",
     "text": [
      "(1, 100, 'a')\n",
      "(2, 200, 'b')\n",
      "(3, 300, 'c')\n",
      "(4, 400, 'd')\n",
      "(5, 500, 'e')\n"
     ]
    }
   ],
   "source": [
    "for item in zip(mylist1,mylist3,mylist2):\n",
    "    print(item)"
   ]
  },
  {
   "cell_type": "code",
   "execution_count": 77,
   "id": "323bb766",
   "metadata": {},
   "outputs": [],
   "source": [
    "# zip() can only zip together up to the shortest list\n",
    "# it won't keep going once one of the lists runs out of items"
   ]
  },
  {
   "cell_type": "code",
   "execution_count": 78,
   "id": "e0891964",
   "metadata": {},
   "outputs": [],
   "source": [
    "# remember you can cast it as a list\n",
    "my_new_items = list(zip(mylist1,mylist2,mylist3))"
   ]
  },
  {
   "cell_type": "code",
   "execution_count": 79,
   "id": "9cb1fe9b",
   "metadata": {},
   "outputs": [
    {
     "data": {
      "text/plain": [
       "[(1, 'a', 100), (2, 'b', 200), (3, 'c', 300), (4, 'd', 400), (5, 'e', 500)]"
      ]
     },
     "execution_count": 79,
     "metadata": {},
     "output_type": "execute_result"
    }
   ],
   "source": [
    "my_new_items"
   ]
  },
  {
   "cell_type": "code",
   "execution_count": 80,
   "id": "622e4226",
   "metadata": {},
   "outputs": [
    {
     "data": {
      "text/plain": [
       "list"
      ]
     },
     "execution_count": 80,
     "metadata": {},
     "output_type": "execute_result"
    }
   ],
   "source": [
    "type(my_new_items)"
   ]
  },
  {
   "cell_type": "code",
   "execution_count": 83,
   "id": "b668087c",
   "metadata": {},
   "outputs": [
    {
     "name": "stdout",
     "output_type": "stream",
     "text": [
      "100\n",
      "200\n",
      "300\n",
      "400\n",
      "500\n"
     ]
    }
   ],
   "source": [
    "# also remember you can unpack the tuple\n",
    "\n",
    "for a,b,c in zip(mylist1,mylist3,mylist2):\n",
    "    print(b)"
   ]
  },
  {
   "cell_type": "code",
   "execution_count": 84,
   "id": "6c104670",
   "metadata": {},
   "outputs": [
    {
     "data": {
      "text/plain": [
       "False"
      ]
     },
     "execution_count": 84,
     "metadata": {},
     "output_type": "execute_result"
    }
   ],
   "source": [
    "################# the \"in\" operator\n",
    "# check to see if an item is in a list\n",
    "\n",
    "'x' in [1,2,3]"
   ]
  },
  {
   "cell_type": "code",
   "execution_count": 85,
   "id": "4fba0ac0",
   "metadata": {},
   "outputs": [
    {
     "data": {
      "text/plain": [
       "True"
      ]
     },
     "execution_count": 85,
     "metadata": {},
     "output_type": "execute_result"
    }
   ],
   "source": [
    "'x' in ['x','y','x']"
   ]
  },
  {
   "cell_type": "code",
   "execution_count": 87,
   "id": "8715e81f",
   "metadata": {},
   "outputs": [
    {
     "data": {
      "text/plain": [
       "True"
      ]
     },
     "execution_count": 87,
     "metadata": {},
     "output_type": "execute_result"
    }
   ],
   "source": [
    "'a' in 'true american'"
   ]
  },
  {
   "cell_type": "code",
   "execution_count": 88,
   "id": "56946dbd",
   "metadata": {},
   "outputs": [
    {
     "data": {
      "text/plain": [
       "True"
      ]
     },
     "execution_count": 88,
     "metadata": {},
     "output_type": "execute_result"
    }
   ],
   "source": [
    "'a' in 'true American'"
   ]
  },
  {
   "cell_type": "code",
   "execution_count": 89,
   "id": "3c977de1",
   "metadata": {},
   "outputs": [
    {
     "data": {
      "text/plain": [
       "False"
      ]
     },
     "execution_count": 89,
     "metadata": {},
     "output_type": "execute_result"
    }
   ],
   "source": [
    "'a' in 'USA'"
   ]
  },
  {
   "cell_type": "code",
   "execution_count": 90,
   "id": "f556522e",
   "metadata": {},
   "outputs": [
    {
     "data": {
      "text/plain": [
       "True"
      ]
     },
     "execution_count": 90,
     "metadata": {},
     "output_type": "execute_result"
    }
   ],
   "source": [
    "# also works in dictionaries\n",
    "mydict = {'mykey':123,'newkey':456}\n",
    "\n",
    "'mykey' in mydict"
   ]
  },
  {
   "cell_type": "code",
   "execution_count": 91,
   "id": "4a7eb6f2",
   "metadata": {},
   "outputs": [
    {
     "data": {
      "text/plain": [
       "False"
      ]
     },
     "execution_count": 91,
     "metadata": {},
     "output_type": "execute_result"
    }
   ],
   "source": [
    "345 in mydict"
   ]
  },
  {
   "cell_type": "code",
   "execution_count": 92,
   "id": "abfb6d67",
   "metadata": {},
   "outputs": [
    {
     "data": {
      "text/plain": [
       "False"
      ]
     },
     "execution_count": 92,
     "metadata": {},
     "output_type": "execute_result"
    }
   ],
   "source": [
    "345 in mydict.values()"
   ]
  },
  {
   "cell_type": "code",
   "execution_count": 93,
   "id": "7b0562bb",
   "metadata": {},
   "outputs": [
    {
     "data": {
      "text/plain": [
       "True"
      ]
     },
     "execution_count": 93,
     "metadata": {},
     "output_type": "execute_result"
    }
   ],
   "source": [
    "456 in mydict.values()"
   ]
  },
  {
   "cell_type": "code",
   "execution_count": 94,
   "id": "e1c58b46",
   "metadata": {},
   "outputs": [
    {
     "data": {
      "text/plain": [
       "False"
      ]
     },
     "execution_count": 94,
     "metadata": {},
     "output_type": "execute_result"
    }
   ],
   "source": [
    "456 in mydict"
   ]
  },
  {
   "cell_type": "code",
   "execution_count": 95,
   "id": "d6f57832",
   "metadata": {},
   "outputs": [],
   "source": [
    "# checks the keys unless specifically told to check the values"
   ]
  },
  {
   "cell_type": "code",
   "execution_count": 97,
   "id": "9b7caa8b",
   "metadata": {},
   "outputs": [],
   "source": [
    "##################### min, max\n",
    "\n",
    "mylist = [10,20,30,40,50,60]\n"
   ]
  },
  {
   "cell_type": "code",
   "execution_count": 98,
   "id": "b007ca8f",
   "metadata": {},
   "outputs": [
    {
     "data": {
      "text/plain": [
       "10"
      ]
     },
     "execution_count": 98,
     "metadata": {},
     "output_type": "execute_result"
    }
   ],
   "source": [
    "min(mylist)"
   ]
  },
  {
   "cell_type": "code",
   "execution_count": 99,
   "id": "5d146a52",
   "metadata": {},
   "outputs": [
    {
     "data": {
      "text/plain": [
       "60"
      ]
     },
     "execution_count": 99,
     "metadata": {},
     "output_type": "execute_result"
    }
   ],
   "source": [
    "max(mylist)"
   ]
  },
  {
   "cell_type": "code",
   "execution_count": 100,
   "id": "c340a97d",
   "metadata": {},
   "outputs": [],
   "source": [
    "newlist = [1.1,2.2,3.3,4.4,5.5]"
   ]
  },
  {
   "cell_type": "code",
   "execution_count": 101,
   "id": "aa786b43",
   "metadata": {},
   "outputs": [
    {
     "data": {
      "text/plain": [
       "10"
      ]
     },
     "execution_count": 101,
     "metadata": {},
     "output_type": "execute_result"
    }
   ],
   "source": [
    "min(mylist)"
   ]
  },
  {
   "cell_type": "code",
   "execution_count": 102,
   "id": "2ec9d4ba",
   "metadata": {},
   "outputs": [
    {
     "data": {
      "text/plain": [
       "1.1"
      ]
     },
     "execution_count": 102,
     "metadata": {},
     "output_type": "execute_result"
    }
   ],
   "source": [
    "min(newlist)"
   ]
  },
  {
   "cell_type": "code",
   "execution_count": 103,
   "id": "7bb7a8e6",
   "metadata": {},
   "outputs": [
    {
     "data": {
      "text/plain": [
       "5.5"
      ]
     },
     "execution_count": 103,
     "metadata": {},
     "output_type": "execute_result"
    }
   ],
   "source": [
    "max(newlist)"
   ]
  },
  {
   "cell_type": "code",
   "execution_count": 104,
   "id": "9f50fd30",
   "metadata": {},
   "outputs": [],
   "source": [
    "letterlist = ['a','b','c']"
   ]
  },
  {
   "cell_type": "code",
   "execution_count": 105,
   "id": "fcabb746",
   "metadata": {},
   "outputs": [
    {
     "data": {
      "text/plain": [
       "'a'"
      ]
     },
     "execution_count": 105,
     "metadata": {},
     "output_type": "execute_result"
    }
   ],
   "source": [
    "min(letterlist)"
   ]
  },
  {
   "cell_type": "code",
   "execution_count": 106,
   "id": "d711c7e9",
   "metadata": {},
   "outputs": [
    {
     "data": {
      "text/plain": [
       "'c'"
      ]
     },
     "execution_count": 106,
     "metadata": {},
     "output_type": "execute_result"
    }
   ],
   "source": [
    "max(letterlist)"
   ]
  },
  {
   "cell_type": "code",
   "execution_count": 107,
   "id": "9a6a2c63",
   "metadata": {},
   "outputs": [],
   "source": [
    "#  Wow! min/max works with a list of letters"
   ]
  },
  {
   "cell_type": "code",
   "execution_count": 108,
   "id": "049a7071",
   "metadata": {},
   "outputs": [],
   "source": [
    "################  Random library\n",
    "# import functions from a library\n",
    "# type \"from random import \" and hit tab to see all the functions available to import\n",
    "\n",
    "from random import shuffle"
   ]
  },
  {
   "cell_type": "code",
   "execution_count": 109,
   "id": "9aca1062",
   "metadata": {},
   "outputs": [],
   "source": [
    "mylist = [1,2,3,4,5,6,7,8,9]"
   ]
  },
  {
   "cell_type": "code",
   "execution_count": 110,
   "id": "8671eef0",
   "metadata": {},
   "outputs": [],
   "source": [
    "shuffle(mylist)"
   ]
  },
  {
   "cell_type": "code",
   "execution_count": 111,
   "id": "bbabfbbb",
   "metadata": {},
   "outputs": [
    {
     "data": {
      "text/plain": [
       "[4, 3, 5, 8, 6, 9, 2, 1, 7]"
      ]
     },
     "execution_count": 111,
     "metadata": {},
     "output_type": "execute_result"
    }
   ],
   "source": [
    "mylist"
   ]
  },
  {
   "cell_type": "code",
   "execution_count": 112,
   "id": "7235c05a",
   "metadata": {},
   "outputs": [],
   "source": [
    "shuffle(mylist)"
   ]
  },
  {
   "cell_type": "code",
   "execution_count": 113,
   "id": "8a592aed",
   "metadata": {},
   "outputs": [
    {
     "data": {
      "text/plain": [
       "[7, 1, 6, 9, 3, 8, 5, 4, 2]"
      ]
     },
     "execution_count": 113,
     "metadata": {},
     "output_type": "execute_result"
    }
   ],
   "source": [
    "mylist"
   ]
  },
  {
   "cell_type": "code",
   "execution_count": 114,
   "id": "183b1172",
   "metadata": {},
   "outputs": [],
   "source": [
    "# shuffle() scrambles the list each time it's run\n",
    "# it's an in-place function, meaning it operates in-place on that list"
   ]
  },
  {
   "cell_type": "code",
   "execution_count": 115,
   "id": "9a8699bf",
   "metadata": {},
   "outputs": [],
   "source": [
    "# grabbing a random integer\n",
    "\n",
    "from random import randint"
   ]
  },
  {
   "cell_type": "code",
   "execution_count": 116,
   "id": "25dcfbcb",
   "metadata": {},
   "outputs": [
    {
     "data": {
      "text/plain": [
       "78"
      ]
     },
     "execution_count": 116,
     "metadata": {},
     "output_type": "execute_result"
    }
   ],
   "source": [
    "# randint() syntax\n",
    "# randint(low_end,high_end)\n",
    "\n",
    "randint(0,100)"
   ]
  },
  {
   "cell_type": "code",
   "execution_count": 117,
   "id": "bd3a1e41",
   "metadata": {},
   "outputs": [
    {
     "data": {
      "text/plain": [
       "50"
      ]
     },
     "execution_count": 117,
     "metadata": {},
     "output_type": "execute_result"
    }
   ],
   "source": [
    "randint(0,100)"
   ]
  },
  {
   "cell_type": "code",
   "execution_count": 118,
   "id": "dd56dc60",
   "metadata": {},
   "outputs": [],
   "source": [
    "mynum = randint(0,100)"
   ]
  },
  {
   "cell_type": "code",
   "execution_count": 119,
   "id": "99e91d20",
   "metadata": {},
   "outputs": [
    {
     "data": {
      "text/plain": [
       "89"
      ]
     },
     "execution_count": 119,
     "metadata": {},
     "output_type": "execute_result"
    }
   ],
   "source": [
    "mynum"
   ]
  },
  {
   "cell_type": "code",
   "execution_count": 120,
   "id": "49d9b6ab",
   "metadata": {},
   "outputs": [
    {
     "name": "stdout",
     "output_type": "stream",
     "text": [
      "enter a number 3\n"
     ]
    },
    {
     "data": {
      "text/plain": [
       "'3'"
      ]
     },
     "execution_count": 120,
     "metadata": {},
     "output_type": "execute_result"
    }
   ],
   "source": [
    "############################ input()\n",
    "# accept user input\n",
    "\n",
    "input('enter a number ')"
   ]
  },
  {
   "cell_type": "code",
   "execution_count": 121,
   "id": "2fbaae65",
   "metadata": {},
   "outputs": [
    {
     "name": "stdout",
     "output_type": "stream",
     "text": [
      "what is your name? paul\n"
     ]
    }
   ],
   "source": [
    "result = input('what is your name? ')"
   ]
  },
  {
   "cell_type": "code",
   "execution_count": 122,
   "id": "1e92a713",
   "metadata": {},
   "outputs": [
    {
     "data": {
      "text/plain": [
       "'paul'"
      ]
     },
     "execution_count": 122,
     "metadata": {},
     "output_type": "execute_result"
    }
   ],
   "source": [
    "result"
   ]
  },
  {
   "cell_type": "code",
   "execution_count": 124,
   "id": "ea4555e8",
   "metadata": {},
   "outputs": [
    {
     "name": "stdout",
     "output_type": "stream",
     "text": [
      "enter a number: 34\n"
     ]
    }
   ],
   "source": [
    "# input always accepts what you enter as a string\n",
    "\n",
    "result = input('enter a number: ')"
   ]
  },
  {
   "cell_type": "code",
   "execution_count": 125,
   "id": "7a7d5101",
   "metadata": {},
   "outputs": [
    {
     "data": {
      "text/plain": [
       "str"
      ]
     },
     "execution_count": 125,
     "metadata": {},
     "output_type": "execute_result"
    }
   ],
   "source": [
    "type(result)"
   ]
  },
  {
   "cell_type": "code",
   "execution_count": 129,
   "id": "7634a5eb",
   "metadata": {},
   "outputs": [],
   "source": [
    "# if you entered a number, you can transform it into another data type"
   ]
  },
  {
   "cell_type": "code",
   "execution_count": 130,
   "id": "2a4b1e96",
   "metadata": {},
   "outputs": [
    {
     "data": {
      "text/plain": [
       "'34'"
      ]
     },
     "execution_count": 130,
     "metadata": {},
     "output_type": "execute_result"
    }
   ],
   "source": [
    "result"
   ]
  },
  {
   "cell_type": "code",
   "execution_count": 131,
   "id": "95c6b5e5",
   "metadata": {},
   "outputs": [
    {
     "data": {
      "text/plain": [
       "34.0"
      ]
     },
     "execution_count": 131,
     "metadata": {},
     "output_type": "execute_result"
    }
   ],
   "source": [
    "float(result)"
   ]
  },
  {
   "cell_type": "code",
   "execution_count": 132,
   "id": "2629b0e8",
   "metadata": {},
   "outputs": [
    {
     "data": {
      "text/plain": [
       "34"
      ]
     },
     "execution_count": 132,
     "metadata": {},
     "output_type": "execute_result"
    }
   ],
   "source": [
    "int(result)"
   ]
  },
  {
   "cell_type": "code",
   "execution_count": null,
   "id": "47c7c963",
   "metadata": {},
   "outputs": [],
   "source": []
  }
 ],
 "metadata": {
  "kernelspec": {
   "display_name": "Python 3 (ipykernel)",
   "language": "python",
   "name": "python3"
  },
  "language_info": {
   "codemirror_mode": {
    "name": "ipython",
    "version": 3
   },
   "file_extension": ".py",
   "mimetype": "text/x-python",
   "name": "python",
   "nbconvert_exporter": "python",
   "pygments_lexer": "ipython3",
   "version": "3.9.13"
  }
 },
 "nbformat": 4,
 "nbformat_minor": 5
}
