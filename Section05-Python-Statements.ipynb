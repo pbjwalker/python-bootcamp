{
 "cells": [
  {
   "cell_type": "code",
   "execution_count": 2,
   "id": "1cb2b522",
   "metadata": {},
   "outputs": [],
   "source": [
    "# Section 5: Python Statements"
   ]
  },
  {
   "cell_type": "code",
   "execution_count": 4,
   "id": "ac86d586",
   "metadata": {},
   "outputs": [],
   "source": [
    "# 34: If, Elif, and Else statements\n",
    "# These keywords can control the flow of logic"
   ]
  },
  {
   "cell_type": "code",
   "execution_count": 5,
   "id": "629db0d4",
   "metadata": {},
   "outputs": [],
   "source": [
    "# Python uses whitespace and indentation"
   ]
  },
  {
   "cell_type": "code",
   "execution_count": 6,
   "id": "b6882197",
   "metadata": {},
   "outputs": [],
   "source": [
    "# syntax\n",
    "# if some_condition:\n",
    "#     execute some code\n",
    "#   else:\n",
    "#     do something else"
   ]
  },
  {
   "cell_type": "code",
   "execution_count": 7,
   "id": "44827b6d",
   "metadata": {},
   "outputs": [],
   "source": [
    "# if some_condition is True, execute some code. Else, do something else."
   ]
  },
  {
   "cell_type": "code",
   "execution_count": 8,
   "id": "802c7575",
   "metadata": {},
   "outputs": [],
   "source": [
    "# more syntax\n",
    "# if some_condition:\n",
    "#     execute some code\n",
    "#   elif some_other_condition:\n",
    "#     do something different\n",
    "#   else:\n",
    "#     do something else"
   ]
  },
  {
   "cell_type": "code",
   "execution_count": 9,
   "id": "d1b2a386",
   "metadata": {},
   "outputs": [],
   "source": [
    "# you can as many elif statements as you want"
   ]
  },
  {
   "cell_type": "code",
   "execution_count": 10,
   "id": "e726974e",
   "metadata": {},
   "outputs": [
    {
     "name": "stdout",
     "output_type": "stream",
     "text": [
      "its true\n"
     ]
    }
   ],
   "source": [
    "if True:\n",
    "    print('its true')"
   ]
  },
  {
   "cell_type": "code",
   "execution_count": 11,
   "id": "2a92ad75",
   "metadata": {},
   "outputs": [
    {
     "name": "stdout",
     "output_type": "stream",
     "text": [
      "It's True\n"
     ]
    }
   ],
   "source": [
    "# here's a better comparison operation\n",
    "\n",
    "if 3>2:\n",
    "    print(\"It's True\")"
   ]
  },
  {
   "cell_type": "code",
   "execution_count": 12,
   "id": "95d019df",
   "metadata": {},
   "outputs": [
    {
     "name": "stdout",
     "output_type": "stream",
     "text": [
      "FEED ME!\n"
     ]
    }
   ],
   "source": [
    "hungry = True\n",
    "\n",
    "if hungry:\n",
    "    print(\"FEED ME!\")"
   ]
  },
  {
   "cell_type": "code",
   "execution_count": 14,
   "id": "5e741bad",
   "metadata": {},
   "outputs": [
    {
     "name": "stdout",
     "output_type": "stream",
     "text": [
      "not hungry\n"
     ]
    }
   ],
   "source": [
    "hungry = False\n",
    "\n",
    "if hungry:\n",
    "    print(\"FEED ME!\")\n",
    "else:\n",
    "    print(\"not hungry\")"
   ]
  },
  {
   "cell_type": "code",
   "execution_count": 15,
   "id": "6a759d44",
   "metadata": {},
   "outputs": [],
   "source": [
    "# notice it's not necessary to make the statement look like this:\n",
    "# if hungry==True:\n",
    "# This is because the variable 'hungry' is already a boolean"
   ]
  },
  {
   "cell_type": "code",
   "execution_count": 16,
   "id": "d2933bfa",
   "metadata": {},
   "outputs": [],
   "source": [
    "# multiple branches"
   ]
  },
  {
   "cell_type": "code",
   "execution_count": 21,
   "id": "7b2770c1",
   "metadata": {},
   "outputs": [
    {
     "name": "stdout",
     "output_type": "stream",
     "text": [
      "I do not know\n"
     ]
    }
   ],
   "source": [
    "loc = 'Game'\n",
    "\n",
    "if loc == 'Auto Shop':\n",
    "    print(\"cars are cool\")\n",
    "elif loc == 'Bank':\n",
    "    print(\"Money is cool\")\n",
    "elif loc == 'Store':\n",
    "    print(\"Welcome to the store\")\n",
    "else:\n",
    "    print('I do not know')"
   ]
  },
  {
   "cell_type": "code",
   "execution_count": 23,
   "id": "1544d959",
   "metadata": {},
   "outputs": [
    {
     "name": "stdout",
     "output_type": "stream",
     "text": [
      "What is your name\n"
     ]
    }
   ],
   "source": [
    "name = 'paul'\n",
    "\n",
    "if name == 'Frankie':\n",
    "    print(\"Hello Frankie\")\n",
    "elif name == 'Sammy':\n",
    "    print(\"hello sammy\")\n",
    "else:\n",
    "    print(\"What is your name\")"
   ]
  },
  {
   "cell_type": "code",
   "execution_count": 24,
   "id": "124a8582",
   "metadata": {},
   "outputs": [],
   "source": [
    "######################\n",
    "# For Loops in Python\n",
    "######################"
   ]
  },
  {
   "cell_type": "code",
   "execution_count": null,
   "id": "6e1efb00",
   "metadata": {},
   "outputs": [],
   "source": []
  }
 ],
 "metadata": {
  "kernelspec": {
   "display_name": "Python 3 (ipykernel)",
   "language": "python",
   "name": "python3"
  },
  "language_info": {
   "codemirror_mode": {
    "name": "ipython",
    "version": 3
   },
   "file_extension": ".py",
   "mimetype": "text/x-python",
   "name": "python",
   "nbconvert_exporter": "python",
   "pygments_lexer": "ipython3",
   "version": "3.9.13"
  }
 },
 "nbformat": 4,
 "nbformat_minor": 5
}
