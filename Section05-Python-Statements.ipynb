{
 "cells": [
  {
   "cell_type": "code",
   "execution_count": 2,
   "id": "1cb2b522",
   "metadata": {},
   "outputs": [],
   "source": [
    "# Section 5: Python Statements"
   ]
  },
  {
   "cell_type": "code",
   "execution_count": 4,
   "id": "ac86d586",
   "metadata": {},
   "outputs": [],
   "source": [
    "# 34: If, Elif, and Else statements\n",
    "# These keywords can control the flow of logic"
   ]
  },
  {
   "cell_type": "code",
   "execution_count": 5,
   "id": "629db0d4",
   "metadata": {},
   "outputs": [],
   "source": [
    "# Python uses whitespace and indentation"
   ]
  },
  {
   "cell_type": "code",
   "execution_count": 6,
   "id": "b6882197",
   "metadata": {},
   "outputs": [],
   "source": [
    "# syntax\n",
    "# if some_condition:\n",
    "#     execute some code\n",
    "#   else:\n",
    "#     do something else"
   ]
  },
  {
   "cell_type": "code",
   "execution_count": 7,
   "id": "44827b6d",
   "metadata": {},
   "outputs": [],
   "source": [
    "# if some_condition is True, execute some code. Else, do something else."
   ]
  },
  {
   "cell_type": "code",
   "execution_count": 8,
   "id": "802c7575",
   "metadata": {},
   "outputs": [],
   "source": [
    "# more syntax\n",
    "# if some_condition:\n",
    "#     execute some code\n",
    "#   elif some_other_condition:\n",
    "#     do something different\n",
    "#   else:\n",
    "#     do something else"
   ]
  },
  {
   "cell_type": "code",
   "execution_count": 9,
   "id": "d1b2a386",
   "metadata": {},
   "outputs": [],
   "source": [
    "# you can as many elif statements as you want"
   ]
  },
  {
   "cell_type": "code",
   "execution_count": 10,
   "id": "e726974e",
   "metadata": {},
   "outputs": [
    {
     "name": "stdout",
     "output_type": "stream",
     "text": [
      "its true\n"
     ]
    }
   ],
   "source": [
    "if True:\n",
    "    print('its true')"
   ]
  },
  {
   "cell_type": "code",
   "execution_count": 11,
   "id": "2a92ad75",
   "metadata": {},
   "outputs": [
    {
     "name": "stdout",
     "output_type": "stream",
     "text": [
      "It's True\n"
     ]
    }
   ],
   "source": [
    "# here's a better comparison operation\n",
    "\n",
    "if 3>2:\n",
    "    print(\"It's True\")"
   ]
  },
  {
   "cell_type": "code",
   "execution_count": 12,
   "id": "95d019df",
   "metadata": {},
   "outputs": [
    {
     "name": "stdout",
     "output_type": "stream",
     "text": [
      "FEED ME!\n"
     ]
    }
   ],
   "source": [
    "hungry = True\n",
    "\n",
    "if hungry:\n",
    "    print(\"FEED ME!\")"
   ]
  },
  {
   "cell_type": "code",
   "execution_count": 14,
   "id": "5e741bad",
   "metadata": {},
   "outputs": [
    {
     "name": "stdout",
     "output_type": "stream",
     "text": [
      "not hungry\n"
     ]
    }
   ],
   "source": [
    "hungry = False\n",
    "\n",
    "if hungry:\n",
    "    print(\"FEED ME!\")\n",
    "else:\n",
    "    print(\"not hungry\")"
   ]
  },
  {
   "cell_type": "code",
   "execution_count": 15,
   "id": "6a759d44",
   "metadata": {},
   "outputs": [],
   "source": [
    "# notice it's not necessary to make the statement look like this:\n",
    "# if hungry==True:\n",
    "# This is because the variable 'hungry' is already a boolean"
   ]
  },
  {
   "cell_type": "code",
   "execution_count": 16,
   "id": "d2933bfa",
   "metadata": {},
   "outputs": [],
   "source": [
    "# multiple branches"
   ]
  },
  {
   "cell_type": "code",
   "execution_count": 21,
   "id": "7b2770c1",
   "metadata": {},
   "outputs": [
    {
     "name": "stdout",
     "output_type": "stream",
     "text": [
      "I do not know\n"
     ]
    }
   ],
   "source": [
    "loc = 'Game'\n",
    "\n",
    "if loc == 'Auto Shop':\n",
    "    print(\"cars are cool\")\n",
    "elif loc == 'Bank':\n",
    "    print(\"Money is cool\")\n",
    "elif loc == 'Store':\n",
    "    print(\"Welcome to the store\")\n",
    "else:\n",
    "    print('I do not know')"
   ]
  },
  {
   "cell_type": "code",
   "execution_count": 23,
   "id": "1544d959",
   "metadata": {},
   "outputs": [
    {
     "name": "stdout",
     "output_type": "stream",
     "text": [
      "What is your name\n"
     ]
    }
   ],
   "source": [
    "name = 'paul'\n",
    "\n",
    "if name == 'Frankie':\n",
    "    print(\"Hello Frankie\")\n",
    "elif name == 'Sammy':\n",
    "    print(\"hello sammy\")\n",
    "else:\n",
    "    print(\"What is your name\")"
   ]
  },
  {
   "cell_type": "code",
   "execution_count": 24,
   "id": "124a8582",
   "metadata": {},
   "outputs": [],
   "source": [
    "######################\n",
    "# For Loops in Python\n",
    "######################"
   ]
  },
  {
   "cell_type": "code",
   "execution_count": 2,
   "id": "6e1efb00",
   "metadata": {},
   "outputs": [],
   "source": [
    "# Use with iterable objects\n",
    "# Means you can iterate over the object\n",
    "# You can perform an action over:\n",
    "# - every character in a string\n",
    "# - every item in a list\n",
    "# - every key in a dictionary"
   ]
  },
  {
   "cell_type": "code",
   "execution_count": 4,
   "id": "cb940ccb",
   "metadata": {},
   "outputs": [],
   "source": [
    "# syntax of a for loop\n",
    "\n",
    "### the iterable in this case is a list\n",
    "# my_iterable = [1,2,3]\n",
    "# for item_name in my_iterable:\n",
    "#    print(item_name)"
   ]
  },
  {
   "cell_type": "code",
   "execution_count": 5,
   "id": "3f208d1f",
   "metadata": {},
   "outputs": [],
   "source": [
    "# LEVEL UP YOUR SKILLS WITH FOR LOOPS!"
   ]
  },
  {
   "cell_type": "code",
   "execution_count": 6,
   "id": "7e6ce1bf",
   "metadata": {},
   "outputs": [],
   "source": [
    "mylist = [1,2,3,4,5,6,7,8,9,10]"
   ]
  },
  {
   "cell_type": "code",
   "execution_count": 7,
   "id": "64370cb1",
   "metadata": {},
   "outputs": [
    {
     "name": "stdout",
     "output_type": "stream",
     "text": [
      "1\n",
      "2\n",
      "3\n",
      "4\n",
      "5\n",
      "6\n",
      "7\n",
      "8\n",
      "9\n",
      "10\n"
     ]
    }
   ],
   "source": [
    "# use a variable name to represent the items inside that list\n",
    "for num in mylist:\n",
    "    print(num)"
   ]
  },
  {
   "cell_type": "code",
   "execution_count": 8,
   "id": "4df3af9b",
   "metadata": {},
   "outputs": [
    {
     "name": "stdout",
     "output_type": "stream",
     "text": [
      "Hello\n",
      "Hello\n",
      "Hello\n",
      "Hello\n",
      "Hello\n",
      "Hello\n",
      "Hello\n",
      "Hello\n",
      "Hello\n",
      "Hello\n"
     ]
    }
   ],
   "source": [
    "# This for loop prints the same thing for as many times as there are items in the list\n",
    "\n",
    "for num in mylist:\n",
    "    print('Hello')\n",
    "\n"
   ]
  },
  {
   "cell_type": "code",
   "execution_count": 11,
   "id": "8122aaac",
   "metadata": {},
   "outputs": [
    {
     "name": "stdout",
     "output_type": "stream",
     "text": [
      "2\n",
      "4\n",
      "6\n",
      "8\n",
      "10\n"
     ]
    }
   ],
   "source": [
    "# combine a for loop with control flow\n",
    "# use a for loop to print only the even numbers\n",
    "\n",
    "for num in mylist:\n",
    "    if num % 2 == 0:\n",
    "        print(num)"
   ]
  },
  {
   "cell_type": "code",
   "execution_count": 12,
   "id": "6b85699c",
   "metadata": {},
   "outputs": [],
   "source": [
    "# I already forgot what the 'mod' operator was!\n",
    "# Had to look that up"
   ]
  },
  {
   "cell_type": "code",
   "execution_count": 15,
   "id": "6ae4e594",
   "metadata": {},
   "outputs": [
    {
     "name": "stdout",
     "output_type": "stream",
     "text": [
      "Odd Number: 1\n",
      "2\n",
      "Odd Number: 3\n",
      "4\n",
      "Odd Number: 5\n",
      "6\n",
      "Odd Number: 7\n",
      "8\n",
      "Odd Number: 9\n",
      "10\n"
     ]
    }
   ],
   "source": [
    "# separate the odd numbers\n",
    "\n",
    "for num in mylist:\n",
    "    if num % 2 == 0:\n",
    "        print(num)\n",
    "    else:\n",
    "        # remember, this is an f-string literal\n",
    "        print(f'Odd Number: {num}')"
   ]
  },
  {
   "cell_type": "code",
   "execution_count": 17,
   "id": "e7b39a1c",
   "metadata": {},
   "outputs": [
    {
     "name": "stdout",
     "output_type": "stream",
     "text": [
      "55\n"
     ]
    }
   ],
   "source": [
    "# add up all the numbers in my_list\n",
    "\n",
    "list_sum = 0\n",
    "\n",
    "for num in mylist:\n",
    "    list_sum = list_sum + num\n",
    "    \n",
    "print(list_sum)"
   ]
  },
  {
   "cell_type": "code",
   "execution_count": 18,
   "id": "cf40e49a",
   "metadata": {},
   "outputs": [
    {
     "name": "stdout",
     "output_type": "stream",
     "text": [
      "1\n",
      "3\n",
      "6\n",
      "10\n",
      "15\n",
      "21\n",
      "28\n",
      "36\n",
      "45\n",
      "55\n"
     ]
    }
   ],
   "source": [
    "# same thing as above, but see what happens when the print statement is indented\n",
    "list_sum = 0\n",
    "\n",
    "for num in mylist:\n",
    "    list_sum = list_sum + num\n",
    "    \n",
    "    print(list_sum)"
   ]
  },
  {
   "cell_type": "code",
   "execution_count": 19,
   "id": "a1c4c2ef",
   "metadata": {},
   "outputs": [],
   "source": [
    "# still adds up all the numbers in mylist\n",
    "# list_sum starts out as 0\n",
    "# 0 isn't printed because it adds the first item in the list before printing"
   ]
  },
  {
   "cell_type": "code",
   "execution_count": 20,
   "id": "82468bcd",
   "metadata": {},
   "outputs": [
    {
     "name": "stdout",
     "output_type": "stream",
     "text": [
      "H\n",
      "e\n",
      "l\n",
      "l\n",
      "o\n",
      " \n",
      "W\n",
      "o\n",
      "r\n",
      "l\n",
      "d\n"
     ]
    }
   ],
   "source": [
    "mystring = 'Hello World'\n",
    "\n",
    "for letter in mystring:\n",
    "    print(letter)"
   ]
  },
  {
   "cell_type": "code",
   "execution_count": 24,
   "id": "cd3720b1",
   "metadata": {},
   "outputs": [
    {
     "name": "stdout",
     "output_type": "stream",
     "text": [
      "H\n",
      "e\n",
      "l\n",
      "l\n",
      "o\n",
      " \n",
      "W\n",
      "o\n",
      "r\n",
      "l\n",
      "d\n"
     ]
    }
   ],
   "source": [
    "# you can also just use the string itself in the for loop\n",
    "for letter in 'Hello World':\n",
    "    print(letter)"
   ]
  },
  {
   "cell_type": "code",
   "execution_count": 26,
   "id": "a0f708f4",
   "metadata": {},
   "outputs": [
    {
     "name": "stdout",
     "output_type": "stream",
     "text": [
      "Cool!\n",
      "Cool!\n",
      "Cool!\n",
      "Cool!\n",
      "Cool!\n",
      "Cool!\n",
      "Cool!\n",
      "Cool!\n",
      "Cool!\n",
      "Cool!\n",
      "Cool!\n"
     ]
    }
   ],
   "source": [
    "# if you don't intend to use the variable name defined in the for loop you can do this...\n",
    "\n",
    "for _ in 'Hello World':\n",
    "    print('Cool!')"
   ]
  },
  {
   "cell_type": "code",
   "execution_count": 31,
   "id": "356cc844",
   "metadata": {},
   "outputs": [
    {
     "name": "stdout",
     "output_type": "stream",
     "text": [
      "1\n",
      "2\n",
      "3\n"
     ]
    }
   ],
   "source": [
    "# you can also iterate over tuples\n",
    "\n",
    "tup = (1,2,3)\n",
    "\n",
    "for item in tup:\n",
    "    print(item)"
   ]
  },
  {
   "cell_type": "code",
   "execution_count": 32,
   "id": "2699d2fb",
   "metadata": {},
   "outputs": [],
   "source": [
    "# try this with a list consisting of tuple pairs\n",
    "\n",
    "mylist = [(1,2),(3,4),(5,6),(7,8)]\n"
   ]
  },
  {
   "cell_type": "code",
   "execution_count": 33,
   "id": "38b1f8b6",
   "metadata": {},
   "outputs": [
    {
     "data": {
      "text/plain": [
       "4"
      ]
     },
     "execution_count": 33,
     "metadata": {},
     "output_type": "execute_result"
    }
   ],
   "source": [
    "len(mylist)"
   ]
  },
  {
   "cell_type": "code",
   "execution_count": 34,
   "id": "14741a1f",
   "metadata": {},
   "outputs": [
    {
     "name": "stdout",
     "output_type": "stream",
     "text": [
      "(1, 2)\n",
      "(3, 4)\n",
      "(5, 6)\n",
      "(7, 8)\n"
     ]
    }
   ],
   "source": [
    "for item in mylist:\n",
    "    print(item)"
   ]
  },
  {
   "cell_type": "code",
   "execution_count": 35,
   "id": "f8bf5d5d",
   "metadata": {},
   "outputs": [],
   "source": [
    "# this built-in structure is very common in Python"
   ]
  },
  {
   "cell_type": "code",
   "execution_count": 36,
   "id": "0a8dc13d",
   "metadata": {},
   "outputs": [
    {
     "name": "stdout",
     "output_type": "stream",
     "text": [
      "1\n",
      "2\n",
      "3\n",
      "4\n",
      "5\n",
      "6\n",
      "7\n",
      "8\n"
     ]
    }
   ],
   "source": [
    "# Playing with those tuple pairs in a for list\n",
    "\n",
    "\n",
    "for (a,b) in mylist:\n",
    "    print(a)\n",
    "    print(b)"
   ]
  },
  {
   "cell_type": "code",
   "execution_count": 39,
   "id": "6baa21ba",
   "metadata": {},
   "outputs": [],
   "source": [
    "# This is called \"Tuple Unpacking\"\n",
    "# You duplicate the structure of the tuples with the for variables (a,b)\n",
    "# then you can unpack them"
   ]
  },
  {
   "cell_type": "code",
   "execution_count": 40,
   "id": "3c7c43cf",
   "metadata": {},
   "outputs": [
    {
     "name": "stdout",
     "output_type": "stream",
     "text": [
      "1\n",
      "3\n",
      "5\n",
      "7\n"
     ]
    }
   ],
   "source": [
    "for (a,b) in mylist:\n",
    "    print(a)"
   ]
  },
  {
   "cell_type": "code",
   "execution_count": 41,
   "id": "3740c8d2",
   "metadata": {},
   "outputs": [
    {
     "name": "stdout",
     "output_type": "stream",
     "text": [
      "2\n",
      "4\n",
      "6\n",
      "8\n"
     ]
    }
   ],
   "source": [
    "# you don't need the parenthesis around the for variables\n",
    "\n",
    "for a,b in mylist:\n",
    "    print(b)"
   ]
  },
  {
   "cell_type": "code",
   "execution_count": 42,
   "id": "7678868f",
   "metadata": {},
   "outputs": [],
   "source": [
    "mylist = [(1,2,3),(4,5,6),(7,8,9)]"
   ]
  },
  {
   "cell_type": "code",
   "execution_count": 43,
   "id": "738c7753",
   "metadata": {},
   "outputs": [
    {
     "name": "stdout",
     "output_type": "stream",
     "text": [
      "(1, 2, 3)\n",
      "(4, 5, 6)\n",
      "(7, 8, 9)\n"
     ]
    }
   ],
   "source": [
    "for item in mylist:\n",
    "    print(item)"
   ]
  },
  {
   "cell_type": "code",
   "execution_count": 45,
   "id": "f8c659a2",
   "metadata": {},
   "outputs": [
    {
     "name": "stdout",
     "output_type": "stream",
     "text": [
      "3\n",
      "6\n",
      "9\n"
     ]
    }
   ],
   "source": [
    "# now do tuple unpacking\n",
    "\n",
    "for a,b,c in mylist:\n",
    "    print(c)"
   ]
  },
  {
   "cell_type": "code",
   "execution_count": 46,
   "id": "22806d27",
   "metadata": {},
   "outputs": [
    {
     "name": "stdout",
     "output_type": "stream",
     "text": [
      "k1\n",
      "k2\n",
      "k3\n"
     ]
    }
   ],
   "source": [
    "# iterate through a dictionary\n",
    "\n",
    "d = {'k1':1,'k2':2,'k3':3}\n",
    "\n",
    "for item in d:\n",
    "    print(item)"
   ]
  },
  {
   "cell_type": "code",
   "execution_count": 48,
   "id": "09e23ad4",
   "metadata": {},
   "outputs": [
    {
     "name": "stdout",
     "output_type": "stream",
     "text": [
      "('k1', 1)\n",
      "('k2', 2)\n",
      "('k3', 3)\n"
     ]
    }
   ],
   "source": [
    "# by default, when you iterate through a dictionary, you only iterate through the keys\n",
    "\n",
    "# if you want to actually iterate through the items themselves, you have to call the items\n",
    "# this returns tuple pairs\n",
    "\n",
    "for item in d.items():\n",
    "    print(item)"
   ]
  },
  {
   "cell_type": "code",
   "execution_count": 50,
   "id": "69efffae",
   "metadata": {},
   "outputs": [
    {
     "name": "stdout",
     "output_type": "stream",
     "text": [
      "k1 1\n",
      "k2 2\n",
      "k3 3\n"
     ]
    }
   ],
   "source": [
    "# Since it returns tuple pairs, you can use the same tuple unpacking technique mentioned earlier\n",
    "\n",
    "for key,value in d.items():\n",
    "    print(key,value)"
   ]
  },
  {
   "cell_type": "code",
   "execution_count": 51,
   "id": "acdd237d",
   "metadata": {},
   "outputs": [
    {
     "name": "stdout",
     "output_type": "stream",
     "text": [
      "1\n",
      "2\n",
      "3\n"
     ]
    }
   ],
   "source": [
    "# it you want to iterate through the values of a dictionary, use this method:\n",
    "\n",
    "for value in d.values():\n",
    "    print(value)"
   ]
  },
  {
   "cell_type": "code",
   "execution_count": 52,
   "id": "188fde38",
   "metadata": {},
   "outputs": [],
   "source": [
    "# remember, dictionaries are unsorted, they are not in order"
   ]
  },
  {
   "cell_type": "code",
   "execution_count": 53,
   "id": "51a1427c",
   "metadata": {},
   "outputs": [],
   "source": [
    "#####################\n",
    "# While Loops\n",
    "#####################"
   ]
  },
  {
   "cell_type": "code",
   "execution_count": 54,
   "id": "77e7ecef",
   "metadata": {},
   "outputs": [],
   "source": [
    "# a 'while' loop will continue to execute a block of code WHILE some condition remains True\n"
   ]
  },
  {
   "cell_type": "code",
   "execution_count": 56,
   "id": "2e411d9f",
   "metadata": {},
   "outputs": [],
   "source": [
    "# syntax of a while loop\n",
    "\n",
    "# while some_boolean_condition:\n",
    "#    do something\n",
    "# else:                  # having an else statement is optional\n",
    "#    do something different"
   ]
  },
  {
   "cell_type": "code",
   "execution_count": 59,
   "id": "5ffeed92",
   "metadata": {},
   "outputs": [
    {
     "name": "stdout",
     "output_type": "stream",
     "text": [
      "The current value of x is 0\n",
      "The current value of x is 1\n",
      "The current value of x is 2\n",
      "The current value of x is 3\n",
      "The current value of x is 4\n",
      "X is not less than 5\n"
     ]
    }
   ],
   "source": [
    "# a basic while loop\n",
    "\n",
    "x = 0\n",
    "\n",
    "while x < 5:\n",
    "    print(f'The current value of x is {x}')\n",
    "    # x = x + 1\n",
    "    x += 1 #another way of writing the increment\n",
    "else:\n",
    "    print('X is not less than 5')"
   ]
  },
  {
   "cell_type": "code",
   "execution_count": 60,
   "id": "fcb1cf73",
   "metadata": {},
   "outputs": [],
   "source": [
    "########\n",
    "# Three useful keywords\n",
    "########"
   ]
  },
  {
   "cell_type": "code",
   "execution_count": 61,
   "id": "a8a90d3c",
   "metadata": {},
   "outputs": [],
   "source": [
    "# break: Breaks out of the current closest enclosing loop\n",
    "# continue: Goes to the top of the closest enclosing loop\n",
    "# pass: Does nothing at all"
   ]
  },
  {
   "cell_type": "code",
   "execution_count": 62,
   "id": "03ed76e7",
   "metadata": {},
   "outputs": [
    {
     "name": "stdout",
     "output_type": "stream",
     "text": [
      "end of my script\n"
     ]
    }
   ],
   "source": [
    "# the pass keyword\n",
    "x = [1,2,3]\n",
    "\n",
    "for item in x:\n",
    "    # if you don't know what you want to do here yet, just having a comment here causes an error\n",
    "    pass # this stops the error but also does nothing\n",
    "\n",
    "print('end of my script')"
   ]
  },
  {
   "cell_type": "code",
   "execution_count": 64,
   "id": "a7bfa353",
   "metadata": {},
   "outputs": [
    {
     "name": "stdout",
     "output_type": "stream",
     "text": [
      "S\n",
      "m\n",
      "m\n",
      "y\n"
     ]
    }
   ],
   "source": [
    "# continue keyword\n",
    "\n",
    "mystring = 'Sammy'\n",
    "\n",
    "for letter in mystring:\n",
    "    # Let's say we don't want to print the letter 'a'\n",
    "    if letter == 'a':\n",
    "        continue  #tells the program to go back to the top of the closest enclosing loop\n",
    "    \n",
    "    print(letter)"
   ]
  },
  {
   "cell_type": "code",
   "execution_count": 65,
   "id": "f32d568d",
   "metadata": {},
   "outputs": [
    {
     "name": "stdout",
     "output_type": "stream",
     "text": [
      "S\n"
     ]
    }
   ],
   "source": [
    "# break\n",
    "\n",
    "mystring = 'Sammy'\n",
    "\n",
    "for letter in mystring:\n",
    "    # Let's say we don't want to print the letter 'a'\n",
    "    if letter == 'a':\n",
    "        break  #breaks out of the closest enclosing loop\n",
    "    \n",
    "    print(letter)"
   ]
  },
  {
   "cell_type": "code",
   "execution_count": 66,
   "id": "a28eac41",
   "metadata": {},
   "outputs": [
    {
     "name": "stdout",
     "output_type": "stream",
     "text": [
      "0\n",
      "1\n",
      "2\n",
      "3\n",
      "4\n"
     ]
    }
   ],
   "source": [
    "x = 0\n",
    "\n",
    "while x < 5:\n",
    "    print(x)\n",
    "    x += 1"
   ]
  },
  {
   "cell_type": "code",
   "execution_count": 67,
   "id": "3bd325cf",
   "metadata": {},
   "outputs": [
    {
     "name": "stdout",
     "output_type": "stream",
     "text": [
      "0\n",
      "1\n"
     ]
    }
   ],
   "source": [
    "# so break the loop if x is ever equal to 2\n",
    "\n",
    "x = 0\n",
    "\n",
    "while x < 5:\n",
    "    \n",
    "    if x == 2:\n",
    "        break\n",
    "    print(x)\n",
    "    x += 1"
   ]
  },
  {
   "cell_type": "code",
   "execution_count": null,
   "id": "b06f845d",
   "metadata": {},
   "outputs": [],
   "source": []
  }
 ],
 "metadata": {
  "kernelspec": {
   "display_name": "Python 3 (ipykernel)",
   "language": "python",
   "name": "python3"
  },
  "language_info": {
   "codemirror_mode": {
    "name": "ipython",
    "version": 3
   },
   "file_extension": ".py",
   "mimetype": "text/x-python",
   "name": "python",
   "nbconvert_exporter": "python",
   "pygments_lexer": "ipython3",
   "version": "3.9.13"
  }
 },
 "nbformat": 4,
 "nbformat_minor": 5
}
