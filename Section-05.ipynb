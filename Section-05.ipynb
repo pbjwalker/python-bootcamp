{
 "cells": [
  {
   "cell_type": "markdown",
   "id": "c1eda346",
   "metadata": {},
   "source": [
    "This workbook covers Section 5"
   ]
  },
  {
   "cell_type": "markdown",
   "id": "b98971a4",
   "metadata": {},
   "source": [
    "34 - If, Elif, and Else Statements in Python\n"
   ]
  },
  {
   "cell_type": "code",
   "execution_count": 2,
   "id": "b0b5adec",
   "metadata": {},
   "outputs": [],
   "source": [
    "# if, elif, and else statements are the beginning of control flow.\n",
    "# When we only want certain code to execute when a particular condition has been met.\n",
    "# Example:\n",
    "# if my dog is hungry (a condition), then I will feed my dog (an action)."
   ]
  },
  {
   "cell_type": "code",
   "execution_count": 3,
   "id": "a2a0718a",
   "metadata": {},
   "outputs": [],
   "source": [
    "# Control Flow syntax uses colons and indentions, or whitespace\n",
    "# The indentation system is crucial to Python and is what sets it apart from other languages"
   ]
  },
  {
   "cell_type": "code",
   "execution_count": 4,
   "id": "ec3af08f",
   "metadata": {},
   "outputs": [],
   "source": [
    "# syntax of a basic if statement\n",
    "#\n",
    "# if some_condition:\n",
    "#    # execute some code"
   ]
  },
  {
   "cell_type": "code",
   "execution_count": 5,
   "id": "cf72fb41",
   "metadata": {},
   "outputs": [],
   "source": [
    "# syntax of an if statement also using an else statement\n",
    "#\n",
    "# if some_condition:\n",
    "#    # execute some code\n",
    "# else:\n",
    "#    # do something else\n"
   ]
  },
  {
   "cell_type": "code",
   "execution_count": 6,
   "id": "066c2efb",
   "metadata": {},
   "outputs": [],
   "source": [
    "# syntax of an if statement that checks for multiple conditions using elif and else statements\n",
    "#\n",
    "# if some_condition:\n",
    "#    # execute some code\n",
    "# elif some_other_condition:\n",
    "#    # do something different\n",
    "# else:\n",
    "#    # do something else"
   ]
  },
  {
   "cell_type": "code",
   "execution_count": 7,
   "id": "0d8a6a58",
   "metadata": {},
   "outputs": [
    {
     "name": "stdout",
     "output_type": "stream",
     "text": [
      "ITS TRUE!\n"
     ]
    }
   ],
   "source": [
    "# examples\n",
    "if True:\n",
    "    print('ITS TRUE!')"
   ]
  },
  {
   "cell_type": "code",
   "execution_count": 8,
   "id": "c12017fe",
   "metadata": {},
   "outputs": [],
   "source": [
    "if False:\n",
    "    print('what is it?')"
   ]
  },
  {
   "cell_type": "code",
   "execution_count": 9,
   "id": "699090ca",
   "metadata": {},
   "outputs": [],
   "source": [
    "# Notice that printed nothing.\n",
    "# I don't fully grasp this logic.\n",
    "# if True...if WHAT is true?  Does Python default to true on logic conditions like this?  Can the condition change?"
   ]
  },
  {
   "cell_type": "code",
   "execution_count": 10,
   "id": "fec9cf4a",
   "metadata": {},
   "outputs": [
    {
     "name": "stdout",
     "output_type": "stream",
     "text": [
      "Let's eat!!\n"
     ]
    }
   ],
   "source": [
    "hungry = True\n",
    "\n",
    "if hungry:\n",
    "    print(\"Let's eat!!\")"
   ]
  },
  {
   "cell_type": "code",
   "execution_count": 11,
   "id": "d23ce0be",
   "metadata": {},
   "outputs": [
    {
     "name": "stdout",
     "output_type": "stream",
     "text": [
      "I'm good\n"
     ]
    }
   ],
   "source": [
    "hungry = False\n",
    "\n",
    "if hungry:\n",
    "    print(\"Let's eat!!\")\n",
    "else:\n",
    "    print(\"I'm good\")"
   ]
  },
  {
   "cell_type": "code",
   "execution_count": 12,
   "id": "3d3bdb68",
   "metadata": {},
   "outputs": [],
   "source": [
    "# make sure the indentation is lined up correctly.  Should be automatic in the editors."
   ]
  },
  {
   "cell_type": "code",
   "execution_count": 13,
   "id": "c49f8de2",
   "metadata": {},
   "outputs": [],
   "source": [
    "# since hungry by itself is already a boolean, you don't have to say:\n",
    "# ...\n",
    "# if hungry == True:\n",
    "# ...\n",
    "#\n",
    "# you can just say:\n",
    "# ...\n",
    "# if hungry:\n",
    "# ..."
   ]
  },
  {
   "cell_type": "code",
   "execution_count": 14,
   "id": "69c0e307",
   "metadata": {},
   "outputs": [],
   "source": [
    "# Mutiple branches with if, elif, and else"
   ]
  },
  {
   "cell_type": "code",
   "execution_count": 15,
   "id": "4f5e823f",
   "metadata": {},
   "outputs": [
    {
     "name": "stdout",
     "output_type": "stream",
     "text": [
      "I love money!\n"
     ]
    }
   ],
   "source": [
    "loc = \"Bank\"\n",
    "\n",
    "if loc == 'Auto Shop':\n",
    "    print(\"Cars are cool!\")\n",
    "elif loc == 'Bank':\n",
    "    print(\"I love money!\")\n",
    "else:\n",
    "    print(\"I do not know much!\")"
   ]
  },
  {
   "cell_type": "code",
   "execution_count": 16,
   "id": "82de17a5",
   "metadata": {},
   "outputs": [
    {
     "name": "stdout",
     "output_type": "stream",
     "text": [
      "What is your name?\n"
     ]
    }
   ],
   "source": [
    "name = \"Paul\"\n",
    "\n",
    "if name == \"Frankie\":\n",
    "    print(\"Hello Frankie\")\n",
    "elif name == \"Sammy\":\n",
    "    print(\"Hello Sammy\")\n",
    "else:\n",
    "    print(\"What is your name?\")"
   ]
  },
  {
   "cell_type": "markdown",
   "id": "17a95645",
   "metadata": {},
   "source": [
    "35 - For Loops in Python"
   ]
  },
  {
   "cell_type": "code",
   "execution_count": 19,
   "id": "90e25017",
   "metadata": {},
   "outputs": [],
   "source": [
    "# Many objects in Python are iterable.\n",
    "# Iterate is to perform an action for every \"thing\" in an object.\n",
    "# Every element in a list or every character in a string, every key in a dictionary\n",
    "# We can use loops to execute a block of code for every iteration"
   ]
  },
  {
   "cell_type": "code",
   "execution_count": 22,
   "id": "6ca32235",
   "metadata": {},
   "outputs": [],
   "source": [
    "# Syntax of a for loop\n",
    "# my_iterable = [1,2,3]     # this is just an assignment\n",
    "# for item_name in my_iterable:     # item_name is just a placeholder for every item in the iterable\n",
    "#    print(item_name)       # this is just the block of code to execute for every item\n",
    "#>> 1\n",
    "#>> 2\n",
    "#>> 3"
   ]
  },
  {
   "cell_type": "code",
   "execution_count": 23,
   "id": "a9512057",
   "metadata": {},
   "outputs": [],
   "source": [
    "mylist = [1,2,3,4,5,6,7,8,9,10]"
   ]
  },
  {
   "cell_type": "code",
   "execution_count": 24,
   "id": "fc805be1",
   "metadata": {},
   "outputs": [
    {
     "name": "stdout",
     "output_type": "stream",
     "text": [
      "1\n",
      "2\n",
      "3\n",
      "4\n",
      "5\n",
      "6\n",
      "7\n",
      "8\n",
      "9\n",
      "10\n"
     ]
    }
   ],
   "source": [
    "for num in mylist:\n",
    "    print(num)"
   ]
  },
  {
   "cell_type": "code",
   "execution_count": 29,
   "id": "3f76a8a1",
   "metadata": {},
   "outputs": [
    {
     "name": "stdout",
     "output_type": "stream",
     "text": [
      "The number 2 is even\n",
      "The number 4 is even\n",
      "The number 6 is even\n",
      "The number 8 is even\n",
      "The number 10 is even\n"
     ]
    }
   ],
   "source": [
    "# add in some control flow to print only the even numbers in the list\n",
    "for num in mylist:\n",
    "    # Check for even\n",
    "    if num % 2 == 0:\n",
    "        print(f\"The number {num} is even\")  # Remember how to use the f-string literal in a print statement?\n",
    "    "
   ]
  },
  {
   "cell_type": "code",
   "execution_count": 32,
   "id": "cfe8fa9e",
   "metadata": {},
   "outputs": [
    {
     "name": "stdout",
     "output_type": "stream",
     "text": [
      "The sum of the list is: 55\n"
     ]
    }
   ],
   "source": [
    "# Get the sum of every number in the list\n",
    "list_sum = 0\n",
    "\n",
    "for num in mylist:\n",
    "    list_sum += num\n",
    "    \n",
    "print(f\"The sum of the list is: {list_sum}\")"
   ]
  },
  {
   "cell_type": "code",
   "execution_count": 33,
   "id": "eb448bcd",
   "metadata": {},
   "outputs": [],
   "source": [
    "# Notice that when writing the code, the instructor will add a blank line between blocks of code.\n",
    "# Above, the assignments are separate\n",
    "# The for loop code is separate\n",
    "# And the code outside and after the for loop is separate"
   ]
  },
  {
   "cell_type": "code",
   "execution_count": 38,
   "id": "2156832a",
   "metadata": {},
   "outputs": [
    {
     "name": "stdout",
     "output_type": "stream",
     "text": [
      "0 + 1 is: 1\n",
      "1 + 2 is: 3\n",
      "3 + 3 is: 6\n",
      "6 + 4 is: 10\n",
      "10 + 5 is: 15\n",
      "15 + 6 is: 21\n",
      "21 + 7 is: 28\n",
      "28 + 8 is: 36\n",
      "36 + 9 is: 45\n",
      "45 + 10 is: 55\n"
     ]
    }
   ],
   "source": [
    "# Running tally of the sum of every number in the list\n",
    "list_sum = 0\n",
    "scratch_pad = 0\n",
    "\n",
    "for num in mylist:\n",
    "    scratch_pad = list_sum\n",
    "    list_sum += num\n",
    "    print(f\"{scratch_pad} + {num} is: {list_sum}\")  # this code is now indented so it is inside the for loop    "
   ]
  },
  {
   "cell_type": "code",
   "execution_count": 39,
   "id": "9952126b",
   "metadata": {},
   "outputs": [
    {
     "name": "stdout",
     "output_type": "stream",
     "text": [
      "H\n",
      "e\n",
      "l\n",
      "l\n",
      "o\n",
      " \n",
      "W\n",
      "o\n",
      "r\n",
      "l\n",
      "d\n"
     ]
    }
   ],
   "source": [
    "mystring = \"Hello World\"\n",
    "\n",
    "for letter in mystring:\n",
    "    print(letter)"
   ]
  },
  {
   "cell_type": "code",
   "execution_count": 41,
   "id": "6f6abc38",
   "metadata": {},
   "outputs": [],
   "source": [
    "# maybe you don't intend to use the variable doing the iteration\n",
    "# maybe you just need to iterate over a string for as many times as there are characters"
   ]
  },
  {
   "cell_type": "code",
   "execution_count": 45,
   "id": "de3ac382",
   "metadata": {},
   "outputs": [
    {
     "name": "stdout",
     "output_type": "stream",
     "text": [
      "cool\n",
      "cool\n",
      "cool\n",
      "cool\n",
      "cool\n",
      "cool\n",
      "cool\n",
      "cool\n",
      "cool\n",
      "cool\n",
      "cool\n"
     ]
    }
   ],
   "source": [
    "for _ in \"Hello world\":   # use the underscore _ when you don't intend to use the variable name\n",
    "    print(\"cool\")"
   ]
  },
  {
   "cell_type": "code",
   "execution_count": 48,
   "id": "82e65701",
   "metadata": {},
   "outputs": [
    {
     "name": "stdout",
     "output_type": "stream",
     "text": [
      "1\n",
      "2\n",
      "3\n",
      "4\n"
     ]
    }
   ],
   "source": [
    "# iterating through a tuple\n",
    "tup = (1,2,3,4)\n",
    "\n",
    "for item in tup:\n",
    "    print(item)"
   ]
  },
  {
   "cell_type": "code",
   "execution_count": 52,
   "id": "09a0f622",
   "metadata": {},
   "outputs": [],
   "source": [
    "# tuple unpacking\n",
    "# tuples have a special quality when used in for loops\n",
    "# when iterating through an items that itself contains tuples, you can use tuple unpacking"
   ]
  },
  {
   "cell_type": "code",
   "execution_count": 53,
   "id": "b61b89ec",
   "metadata": {},
   "outputs": [
    {
     "data": {
      "text/plain": [
       "4"
      ]
     },
     "execution_count": 53,
     "metadata": {},
     "output_type": "execute_result"
    }
   ],
   "source": [
    "# make a list of tuples\n",
    "mylist = [(1,2),(3,4),(5,6),(7,8)]\n",
    "len(mylist)"
   ]
  },
  {
   "cell_type": "code",
   "execution_count": 54,
   "id": "e3ba0b12",
   "metadata": {},
   "outputs": [
    {
     "data": {
      "text/plain": [
       "list"
      ]
     },
     "execution_count": 54,
     "metadata": {},
     "output_type": "execute_result"
    }
   ],
   "source": [
    "type(mylist)"
   ]
  },
  {
   "cell_type": "code",
   "execution_count": 57,
   "id": "24cde600",
   "metadata": {},
   "outputs": [
    {
     "data": {
      "text/plain": [
       "tuple"
      ]
     },
     "execution_count": 57,
     "metadata": {},
     "output_type": "execute_result"
    }
   ],
   "source": [
    "type(mylist[0])"
   ]
  },
  {
   "cell_type": "code",
   "execution_count": 58,
   "id": "e7cd26c4",
   "metadata": {},
   "outputs": [
    {
     "name": "stdout",
     "output_type": "stream",
     "text": [
      "(1, 2)\n"
     ]
    }
   ],
   "source": [
    "print(mylist[0])"
   ]
  },
  {
   "cell_type": "code",
   "execution_count": 59,
   "id": "d435a8ad",
   "metadata": {},
   "outputs": [
    {
     "name": "stdout",
     "output_type": "stream",
     "text": [
      "(1, 2)\n",
      "(3, 4)\n",
      "(5, 6)\n",
      "(7, 8)\n"
     ]
    }
   ],
   "source": [
    "# every item in mylist is a tuple pair\n",
    "\n",
    "for item in mylist:\n",
    "    print(item)"
   ]
  },
  {
   "cell_type": "code",
   "execution_count": 60,
   "id": "d07b4e42",
   "metadata": {},
   "outputs": [],
   "source": [
    "# The data structure of creating a list of tuples is extremely common in python."
   ]
  },
  {
   "cell_type": "code",
   "execution_count": 61,
   "id": "7da64aa6",
   "metadata": {},
   "outputs": [
    {
     "name": "stdout",
     "output_type": "stream",
     "text": [
      "a = 1         b = 2\n",
      "a = 3         b = 4\n",
      "a = 5         b = 6\n",
      "a = 7         b = 8\n"
     ]
    }
   ],
   "source": [
    "# here's what tuple unpacking looks like\n",
    "\n",
    "for (a,b) in mylist:     # using (a,b) for a temporary variable written like a tuple\n",
    "    print(f\"a = {a}         b = {b}\")"
   ]
  },
  {
   "cell_type": "code",
   "execution_count": 62,
   "id": "d194e328",
   "metadata": {},
   "outputs": [
    {
     "name": "stdout",
     "output_type": "stream",
     "text": [
      "1\n",
      "2\n",
      "3\n",
      "4\n",
      "5\n",
      "6\n",
      "7\n",
      "8\n"
     ]
    }
   ],
   "source": [
    "# it's a lot more common to see it without the parenthesis in the for loop\n",
    "\n",
    "for a,b in mylist:\n",
    "    print(a)\n",
    "    print(b)"
   ]
  },
  {
   "cell_type": "code",
   "execution_count": 63,
   "id": "67e1f85c",
   "metadata": {},
   "outputs": [],
   "source": [
    "# another example\n",
    "\n",
    "mylist = [(1,2,3),(5,6,7),(9,10,11)]"
   ]
  },
  {
   "cell_type": "code",
   "execution_count": 65,
   "id": "bfcc4f26",
   "metadata": {},
   "outputs": [
    {
     "name": "stdout",
     "output_type": "stream",
     "text": [
      "(1, 2, 3)\n",
      "(5, 6, 7)\n",
      "(9, 10, 11)\n"
     ]
    }
   ],
   "source": [
    "for item in mylist:\n",
    "    print(item)"
   ]
  },
  {
   "cell_type": "code",
   "execution_count": 70,
   "id": "1ee1eeae",
   "metadata": {},
   "outputs": [
    {
     "name": "stdout",
     "output_type": "stream",
     "text": [
      "1 2 3\n",
      "5 6 7\n",
      "9 10 11\n"
     ]
    }
   ],
   "source": [
    "for a,b,c in mylist:\n",
    "    print(a,b,c)"
   ]
  },
  {
   "cell_type": "code",
   "execution_count": 73,
   "id": "42013432",
   "metadata": {},
   "outputs": [
    {
     "name": "stdout",
     "output_type": "stream",
     "text": [
      "k1\n",
      "k2\n",
      "k3\n"
     ]
    }
   ],
   "source": [
    "# iterate through a dictionary\n",
    "# By default, when you iterate through a dictionary, you only iterate through the keys\n",
    "\n",
    "d = {'k1':1,'k2':2,'k3':3}\n",
    "\n",
    "for item in d:\n",
    "    print(item)"
   ]
  },
  {
   "cell_type": "code",
   "execution_count": 76,
   "id": "a58bef6f",
   "metadata": {},
   "outputs": [
    {
     "name": "stdout",
     "output_type": "stream",
     "text": [
      "('k1', 1)\n",
      "<class 'tuple'>\n",
      "('k2', 2)\n",
      "<class 'tuple'>\n",
      "('k3', 3)\n",
      "<class 'tuple'>\n"
     ]
    }
   ],
   "source": [
    "# By default, when you iterate through a dictionary, you only iterate through the keys\n",
    "# To iterate through the items themselves, what you do is call dot items  .items()\n",
    "\n",
    "d = {'k1':1,'k2':2,'k3':3}\n",
    "\n",
    "for item in d.items():\n",
    "    print(item)\n",
    "    print(type(item))"
   ]
  },
  {
   "cell_type": "code",
   "execution_count": 77,
   "id": "ac69ca7b",
   "metadata": {},
   "outputs": [],
   "source": [
    "# Calling .items() creates a tuple out of the dictionary key:value pair"
   ]
  },
  {
   "cell_type": "code",
   "execution_count": 85,
   "id": "3b29a8e3",
   "metadata": {},
   "outputs": [
    {
     "name": "stdout",
     "output_type": "stream",
     "text": [
      "key is k1        value is 1\n",
      "k1 is a <class 'str'>     1 is a <class 'int'>\n",
      "\n",
      "key is k2        value is 2\n",
      "k2 is a <class 'str'>     2 is a <class 'int'>\n",
      "\n",
      "key is k3        value is 3\n",
      "k3 is a <class 'str'>     3 is a <class 'int'>\n",
      "\n"
     ]
    }
   ],
   "source": [
    "# Try tuple unpacking on a dictionary\n",
    "\n",
    "d = {'k1':1,'k2':2,'k3':3}\n",
    "\n",
    "for a,b in d.items():\n",
    "    print(f\"key is {a}   value is {b}\")\n",
    "    print(f\"{a} is a {type(a)}     {b} is a {type(b)}\\n\")"
   ]
  },
  {
   "cell_type": "code",
   "execution_count": 86,
   "id": "ed0636b6",
   "metadata": {},
   "outputs": [],
   "source": [
    "# if you want tuples from a dictionary, use a statement like this:\n",
    "# for item in d:\n",
    "\n",
    "# if you want to unpack the tuples into keys and values, the key will be a string and the value whatever it is\n",
    "# for a,b in d.items():\n",
    "\n",
    "# if you just want the values, call dot values  .values():\n",
    "# for value in d.values():"
   ]
  },
  {
   "cell_type": "code",
   "execution_count": 89,
   "id": "4d5be1a6",
   "metadata": {},
   "outputs": [
    {
     "name": "stdout",
     "output_type": "stream",
     "text": [
      "Value 1 is a <class 'int'>\n",
      "Value 2.2 is a <class 'float'>\n",
      "Value 3 is a <class 'str'>\n",
      "Value True is a <class 'bool'>\n"
     ]
    }
   ],
   "source": [
    "d = {'k1':1,'k2':2.2,'k3':'3','k4':True}\n",
    "\n",
    "# just return the values\n",
    "for value in d.values():\n",
    "    print(f\"Value {value} is a {type(value)}\")\n",
    "    "
   ]
  },
  {
   "cell_type": "markdown",
   "id": "73b0fbde",
   "metadata": {},
   "source": [
    "<strong><big>36 - While Loops in Python</big></strong>"
   ]
  },
  {
   "cell_type": "code",
   "execution_count": 4,
   "id": "a2abd47d",
   "metadata": {},
   "outputs": [],
   "source": [
    "# while loops execute code \"while\" a condition is true\n",
    "# while some condition is true, execute this code\n",
    "# while my pool is not full, keep filling my pool with water"
   ]
  },
  {
   "cell_type": "code",
   "execution_count": 5,
   "id": "3a7b9dd0",
   "metadata": {},
   "outputs": [],
   "source": [
    "# Syntax for a while loop:\n",
    "\n",
    "# while some_boolean_condition:\n",
    "#    # do something"
   ]
  },
  {
   "cell_type": "code",
   "execution_count": 7,
   "id": "562031f0",
   "metadata": {},
   "outputs": [],
   "source": [
    "# You can use an else statement with a while loop\n",
    "\n",
    "# while some_boolean_condition:\n",
    "#    # do something\n",
    "# else:\n",
    "#    # do something different"
   ]
  },
  {
   "cell_type": "code",
   "execution_count": 10,
   "id": "7826d888",
   "metadata": {},
   "outputs": [
    {
     "name": "stdout",
     "output_type": "stream",
     "text": [
      "The current value of x is 0\n",
      "The current value of x is 2\n",
      "The current value of x is 4\n",
      "x is not less than 5\n"
     ]
    }
   ],
   "source": [
    "x = 0\n",
    "\n",
    "while x < 5:\n",
    "    print(f'The current value of x is {x}')\n",
    "    x = x + 1\n",
    "    x += 1  # This is a better way to write the increment\n",
    "else:\n",
    "    print('x is not less than 5')"
   ]
  },
  {
   "cell_type": "code",
   "execution_count": 12,
   "id": "769581e7",
   "metadata": {},
   "outputs": [],
   "source": [
    "# Helpful keywords to use with loops\n",
    "# break:\n",
    "#      Breaks out of the current closest enclosing loop\n",
    "# continue:\n",
    "#      Goes to the top of the closest enclosing loop\n",
    "# pass:\n",
    "#      Does nothing at all"
   ]
  },
  {
   "cell_type": "code",
   "execution_count": 16,
   "id": "003c7b65",
   "metadata": {},
   "outputs": [
    {
     "name": "stdout",
     "output_type": "stream",
     "text": [
      "end of my script\n"
     ]
    }
   ],
   "source": [
    "# pass example\n",
    "\n",
    "x = [1,2,3]\n",
    "\n",
    "for item in x:\n",
    "    # iterate over x here\n",
    "    pass  # this means do nothing, can be helpful to get the code going until all the details are done\n",
    "\n",
    "print('end of my script')"
   ]
  },
  {
   "cell_type": "code",
   "execution_count": 19,
   "id": "9bab4c96",
   "metadata": {},
   "outputs": [
    {
     "name": "stdout",
     "output_type": "stream",
     "text": [
      "S\n",
      "this part of the loop skips \"a\"\n",
      "m\n",
      "m\n",
      "y\n"
     ]
    }
   ],
   "source": [
    "# continue example\n",
    "\n",
    "mystring = 'Sammy'\n",
    "\n",
    "for letter in mystring:\n",
    "    # I don't want to print the letter 'a'\n",
    "    if letter == 'a':\n",
    "        print('this part of the loop skips \"a\"')\n",
    "        continue\n",
    "    print(letter)"
   ]
  },
  {
   "cell_type": "code",
   "execution_count": 25,
   "id": "6a62d617",
   "metadata": {},
   "outputs": [
    {
     "name": "stdout",
     "output_type": "stream",
     "text": [
      "b\n",
      "c\n",
      "d\n",
      "e\n",
      "this stops the loop at the letter \"a\"\n",
      "though the condition is true at the beginning of the loop,\n",
      "the rest of the code in the loop still executes\n",
      "which is why this statement is printed last\n"
     ]
    }
   ],
   "source": [
    "# break example\n",
    "# same code above but using 'break' instead of 'continue'\n",
    "\n",
    "mystring = 'Sammy'\n",
    "\n",
    "for letter in mystring:\n",
    "    # I don't want to print the letter 'a'\n",
    "    if letter == 'a':\n",
    "        print('this stops the loop at the letter \"a\"')\n",
    "        print('though the condition is true at the beginning of the loop,')\n",
    "        print('the rest of the code in the loop still executes')\n",
    "        print('which is why this statement is printed last')\n",
    "        # notice thie print statement runs when all the rest of the code in the loop executes\n",
    "        break\n",
    "    letter = \"b\"\n",
    "    print(letter)\n",
    "    letter = 'c'\n",
    "    print(letter)\n",
    "    letter = 'd'\n",
    "    print(letter)\n",
    "    letter = 'e'\n",
    "    print(letter)"
   ]
  },
  {
   "cell_type": "code",
   "execution_count": 32,
   "id": "2c70676e",
   "metadata": {},
   "outputs": [
    {
     "name": "stdout",
     "output_type": "stream",
     "text": [
      "0\n",
      "1\n",
      "final value of x in the code is 2\n",
      "watch your variables - did the code change the value after this break statement?\n"
     ]
    }
   ],
   "source": [
    "# another break example\n",
    "\n",
    "x = 0\n",
    "\n",
    "while x < 5:\n",
    "    if x == 2:\n",
    "        print(f'final value of x in the code is {x}')\n",
    "        print('watch your variables - did the code change the value after this break statement?')   \n",
    "        break\n",
    "    \n",
    "    print(x)\n",
    "    x += 1"
   ]
  },
  {
   "cell_type": "markdown",
   "id": "c154d92f",
   "metadata": {},
   "source": [
    "<strong>37 - Useful Operators in Python</strong>"
   ]
  },
  {
   "cell_type": "code",
   "execution_count": 37,
   "id": "980fc5b5",
   "metadata": {},
   "outputs": [],
   "source": [
    "mylist = [1,2,3]"
   ]
  },
  {
   "cell_type": "code",
   "execution_count": 47,
   "id": "708e8a31",
   "metadata": {},
   "outputs": [
    {
     "name": "stdout",
     "output_type": "stream",
     "text": [
      "0\n",
      "1\n",
      "2\n",
      "3\n",
      "4\n",
      "5\n",
      "6\n",
      "7\n",
      "8\n",
      "9\n"
     ]
    }
   ],
   "source": [
    "################ the range() function in python\n",
    "# type range () and hit shift-tab to see the syntax\n",
    "# range(start, stop, step)\n",
    "# put one value in it assumes that's stop\n",
    "# put two values in it assumes that's start and stop\n",
    "# all three is start, stop, step\n",
    "for num in range(10):\n",
    "    print(num)"
   ]
  },
  {
   "cell_type": "code",
   "execution_count": 40,
   "id": "b48447a1",
   "metadata": {},
   "outputs": [
    {
     "name": "stdout",
     "output_type": "stream",
     "text": [
      "2\n",
      "3\n",
      "4\n",
      "5\n",
      "6\n",
      "7\n",
      "8\n",
      "9\n"
     ]
    }
   ],
   "source": [
    "for num in range(2,10):\n",
    "    print(num)"
   ]
  },
  {
   "cell_type": "code",
   "execution_count": 41,
   "id": "70ae7493",
   "metadata": {},
   "outputs": [
    {
     "name": "stdout",
     "output_type": "stream",
     "text": [
      "2\n",
      "4\n",
      "6\n",
      "8\n"
     ]
    }
   ],
   "source": [
    "for num in range(2,10,2):\n",
    "    print(num)"
   ]
  },
  {
   "cell_type": "code",
   "execution_count": 43,
   "id": "0e5e44c9",
   "metadata": {},
   "outputs": [
    {
     "name": "stdout",
     "output_type": "stream",
     "text": [
      "2\n",
      "4\n",
      "6\n",
      "8\n",
      "10\n"
     ]
    }
   ],
   "source": [
    "# if you want to include 10 in the even numbers, you have to go one higher\n",
    "for num in range(2,11,2):\n",
    "    print(num)"
   ]
  },
  {
   "cell_type": "code",
   "execution_count": 44,
   "id": "233f8384",
   "metadata": {},
   "outputs": [
    {
     "data": {
      "text/plain": [
       "range(0, 11, 2)"
      ]
     },
     "execution_count": 44,
     "metadata": {},
     "output_type": "execute_result"
    }
   ],
   "source": [
    "# if you just type the function in the cell you get:\n",
    "\n",
    "range(0,11,2)"
   ]
  },
  {
   "cell_type": "code",
   "execution_count": 46,
   "id": "29ed3f22",
   "metadata": {},
   "outputs": [
    {
     "data": {
      "text/plain": [
       "[0, 2, 4, 6, 8, 10]"
      ]
     },
     "execution_count": 46,
     "metadata": {},
     "output_type": "execute_result"
    }
   ],
   "source": [
    "# this is because it's a generator\n",
    "# cast it to a list\n",
    "\n",
    "list(range(0,11,2))"
   ]
  },
  {
   "cell_type": "code",
   "execution_count": 48,
   "id": "0c5e0750",
   "metadata": {},
   "outputs": [],
   "source": [
    "############## enumerate() function"
   ]
  },
  {
   "cell_type": "code",
   "execution_count": 49,
   "id": "390ef9f8",
   "metadata": {},
   "outputs": [
    {
     "name": "stdout",
     "output_type": "stream",
     "text": [
      "At index 0 the letter is a\n",
      "At index 1 the letter is b\n",
      "At index 2 the letter is c\n",
      "At index 3 the letter is d\n",
      "At index 4 the letter is e\n"
     ]
    }
   ],
   "source": [
    "index_count = 0\n",
    "\n",
    "for letter in 'abcde':\n",
    "    print('At index {} the letter is {}'.format(index_count,letter))\n",
    "    index_count += 1"
   ]
  },
  {
   "cell_type": "code",
   "execution_count": 53,
   "id": "88ea43b7",
   "metadata": {},
   "outputs": [
    {
     "name": "stdout",
     "output_type": "stream",
     "text": [
      "a\n",
      "b\n",
      "c\n",
      "d\n",
      "e\n"
     ]
    }
   ],
   "source": [
    "# this is a very common operation in python\n",
    "# a lot of people use this code\n",
    "\n",
    "index_count = 0\n",
    "\n",
    "word = 'abcde'\n",
    "\n",
    "for letter in word:\n",
    "    print(word[index_count])\n",
    "    index_count +=1"
   ]
  },
  {
   "cell_type": "code",
   "execution_count": 57,
   "id": "9a36dc00",
   "metadata": {},
   "outputs": [
    {
     "name": "stdout",
     "output_type": "stream",
     "text": [
      "(0, 'a')\n",
      "<class 'tuple'>\n",
      "(1, 'b')\n",
      "<class 'tuple'>\n",
      "(2, 'c')\n",
      "<class 'tuple'>\n",
      "(3, 'd')\n",
      "<class 'tuple'>\n",
      "(4, 'e')\n",
      "<class 'tuple'>\n"
     ]
    }
   ],
   "source": [
    "# So Python created the enumerate() function\n",
    "\n",
    "word = 'abcde'\n",
    "\n",
    "for item in enumerate(word):\n",
    "    print(item)\n",
    "    print(type(item))"
   ]
  },
  {
   "cell_type": "code",
   "execution_count": 58,
   "id": "b398013e",
   "metadata": {},
   "outputs": [],
   "source": [
    "# enumerate()\n",
    "# returns index position and the character in the index position in tuples"
   ]
  },
  {
   "cell_type": "code",
   "execution_count": 62,
   "id": "390386c1",
   "metadata": {},
   "outputs": [
    {
     "name": "stdout",
     "output_type": "stream",
     "text": [
      "0\n",
      "a\n",
      "\n",
      "\n",
      "1\n",
      "b\n",
      "\n",
      "\n",
      "2\n",
      "c\n",
      "\n",
      "\n",
      "3\n",
      "d\n",
      "\n",
      "\n",
      "4\n",
      "e\n",
      "\n",
      "\n"
     ]
    }
   ],
   "source": [
    "# you can use tuple unpacking with enumerate()\n",
    "\n",
    "word = 'abcde'\n",
    "\n",
    "for index,letter in enumerate(word):\n",
    "    print(index)\n",
    "    print(letter)\n",
    "    print(\"\\n\")"
   ]
  },
  {
   "cell_type": "code",
   "execution_count": 63,
   "id": "05fa55b3",
   "metadata": {},
   "outputs": [],
   "source": [
    "############################# zip() function\n",
    "# opposite of enumerate()\n",
    "# it zips together 2 lists"
   ]
  },
  {
   "cell_type": "code",
   "execution_count": 66,
   "id": "43e7fd99",
   "metadata": {},
   "outputs": [],
   "source": [
    "mylist1 = [1,2,3,4,5]\n",
    "mylist2 = ['a','b','c','d','e']"
   ]
  },
  {
   "cell_type": "code",
   "execution_count": 67,
   "id": "6d2bbe6e",
   "metadata": {},
   "outputs": [
    {
     "data": {
      "text/plain": [
       "<zip at 0x7f0e22944d00>"
      ]
     },
     "execution_count": 67,
     "metadata": {},
     "output_type": "execute_result"
    }
   ],
   "source": [
    "zip(mylist1,mylist2)"
   ]
  },
  {
   "cell_type": "code",
   "execution_count": 68,
   "id": "abe39fd3",
   "metadata": {},
   "outputs": [
    {
     "name": "stdout",
     "output_type": "stream",
     "text": [
      "<zip object at 0x7f0e22c17300>\n"
     ]
    }
   ],
   "source": [
    "print(zip(mylist1,mylist2))"
   ]
  },
  {
   "cell_type": "code",
   "execution_count": 69,
   "id": "c480606d",
   "metadata": {},
   "outputs": [],
   "source": [
    "# zip is a generator, it just puts the generated list in that memory location"
   ]
  },
  {
   "cell_type": "code",
   "execution_count": 72,
   "id": "ed6a854b",
   "metadata": {},
   "outputs": [
    {
     "name": "stdout",
     "output_type": "stream",
     "text": [
      "(1, 'a')\n",
      "(2, 'b')\n",
      "(3, 'c')\n",
      "(4, 'd')\n",
      "(5, 'e')\n"
     ]
    }
   ],
   "source": [
    "for item in zip(mylist1,mylist2):\n",
    "    print(item)"
   ]
  },
  {
   "cell_type": "code",
   "execution_count": 76,
   "id": "b2133db6",
   "metadata": {},
   "outputs": [],
   "source": [
    "# more tuples\n",
    "mylist3 = [100,200,300,400,500,600,700]"
   ]
  },
  {
   "cell_type": "code",
   "execution_count": 75,
   "id": "619c9ce9",
   "metadata": {},
   "outputs": [
    {
     "name": "stdout",
     "output_type": "stream",
     "text": [
      "(1, 100, 'a')\n",
      "(2, 200, 'b')\n",
      "(3, 300, 'c')\n",
      "(4, 400, 'd')\n",
      "(5, 500, 'e')\n"
     ]
    }
   ],
   "source": [
    "for item in zip(mylist1,mylist3,mylist2):\n",
    "    print(item)"
   ]
  },
  {
   "cell_type": "code",
   "execution_count": 77,
   "id": "2b205e9d",
   "metadata": {},
   "outputs": [],
   "source": [
    "# zip() can only zip together up to the shortest list\n",
    "# it won't keep going once one of the lists runs out of items"
   ]
  },
  {
   "cell_type": "code",
   "execution_count": 78,
   "id": "c9badc6f",
   "metadata": {},
   "outputs": [],
   "source": [
    "# remember you can cast it as a list\n",
    "my_new_items = list(zip(mylist1,mylist2,mylist3))"
   ]
  },
  {
   "cell_type": "code",
   "execution_count": 79,
   "id": "ae714de2",
   "metadata": {},
   "outputs": [
    {
     "data": {
      "text/plain": [
       "[(1, 'a', 100), (2, 'b', 200), (3, 'c', 300), (4, 'd', 400), (5, 'e', 500)]"
      ]
     },
     "execution_count": 79,
     "metadata": {},
     "output_type": "execute_result"
    }
   ],
   "source": [
    "my_new_items"
   ]
  },
  {
   "cell_type": "code",
   "execution_count": 80,
   "id": "60ecc046",
   "metadata": {},
   "outputs": [
    {
     "data": {
      "text/plain": [
       "list"
      ]
     },
     "execution_count": 80,
     "metadata": {},
     "output_type": "execute_result"
    }
   ],
   "source": [
    "type(my_new_items)"
   ]
  },
  {
   "cell_type": "code",
   "execution_count": 83,
   "id": "d0e4b617",
   "metadata": {},
   "outputs": [
    {
     "name": "stdout",
     "output_type": "stream",
     "text": [
      "100\n",
      "200\n",
      "300\n",
      "400\n",
      "500\n"
     ]
    }
   ],
   "source": [
    "# also remember you can unpack the tuple\n",
    "\n",
    "for a,b,c in zip(mylist1,mylist3,mylist2):\n",
    "    print(b)"
   ]
  },
  {
   "cell_type": "code",
   "execution_count": 84,
   "id": "f4d4b6db",
   "metadata": {},
   "outputs": [
    {
     "data": {
      "text/plain": [
       "False"
      ]
     },
     "execution_count": 84,
     "metadata": {},
     "output_type": "execute_result"
    }
   ],
   "source": [
    "################# the \"in\" operator\n",
    "# check to see if an item is in a list\n",
    "\n",
    "'x' in [1,2,3]"
   ]
  },
  {
   "cell_type": "code",
   "execution_count": 85,
   "id": "a2c59c9f",
   "metadata": {},
   "outputs": [
    {
     "data": {
      "text/plain": [
       "True"
      ]
     },
     "execution_count": 85,
     "metadata": {},
     "output_type": "execute_result"
    }
   ],
   "source": [
    "'x' in ['x','y','x']"
   ]
  },
  {
   "cell_type": "code",
   "execution_count": 87,
   "id": "84497d25",
   "metadata": {},
   "outputs": [
    {
     "data": {
      "text/plain": [
       "True"
      ]
     },
     "execution_count": 87,
     "metadata": {},
     "output_type": "execute_result"
    }
   ],
   "source": [
    "'a' in 'true american'"
   ]
  },
  {
   "cell_type": "code",
   "execution_count": 88,
   "id": "af9c1ad8",
   "metadata": {},
   "outputs": [
    {
     "data": {
      "text/plain": [
       "True"
      ]
     },
     "execution_count": 88,
     "metadata": {},
     "output_type": "execute_result"
    }
   ],
   "source": [
    "'a' in 'true American'"
   ]
  },
  {
   "cell_type": "code",
   "execution_count": 89,
   "id": "6c3f53df",
   "metadata": {},
   "outputs": [
    {
     "data": {
      "text/plain": [
       "False"
      ]
     },
     "execution_count": 89,
     "metadata": {},
     "output_type": "execute_result"
    }
   ],
   "source": [
    "'a' in 'USA'"
   ]
  },
  {
   "cell_type": "code",
   "execution_count": 90,
   "id": "79ba030c",
   "metadata": {},
   "outputs": [
    {
     "data": {
      "text/plain": [
       "True"
      ]
     },
     "execution_count": 90,
     "metadata": {},
     "output_type": "execute_result"
    }
   ],
   "source": [
    "# also works in dictionaries\n",
    "mydict = {'mykey':123,'newkey':456}\n",
    "\n",
    "'mykey' in mydict"
   ]
  },
  {
   "cell_type": "code",
   "execution_count": 91,
   "id": "1d681372",
   "metadata": {},
   "outputs": [
    {
     "data": {
      "text/plain": [
       "False"
      ]
     },
     "execution_count": 91,
     "metadata": {},
     "output_type": "execute_result"
    }
   ],
   "source": [
    "345 in mydict"
   ]
  },
  {
   "cell_type": "code",
   "execution_count": 92,
   "id": "1c370e7c",
   "metadata": {},
   "outputs": [
    {
     "data": {
      "text/plain": [
       "False"
      ]
     },
     "execution_count": 92,
     "metadata": {},
     "output_type": "execute_result"
    }
   ],
   "source": [
    "345 in mydict.values()"
   ]
  },
  {
   "cell_type": "code",
   "execution_count": 93,
   "id": "b8e7d423",
   "metadata": {},
   "outputs": [
    {
     "data": {
      "text/plain": [
       "True"
      ]
     },
     "execution_count": 93,
     "metadata": {},
     "output_type": "execute_result"
    }
   ],
   "source": [
    "456 in mydict.values()"
   ]
  },
  {
   "cell_type": "code",
   "execution_count": 94,
   "id": "6f7abc42",
   "metadata": {},
   "outputs": [
    {
     "data": {
      "text/plain": [
       "False"
      ]
     },
     "execution_count": 94,
     "metadata": {},
     "output_type": "execute_result"
    }
   ],
   "source": [
    "456 in mydict"
   ]
  },
  {
   "cell_type": "code",
   "execution_count": 95,
   "id": "ac539c7f",
   "metadata": {},
   "outputs": [],
   "source": [
    "# checks the keys unless specifically told to check the values"
   ]
  },
  {
   "cell_type": "code",
   "execution_count": 97,
   "id": "a72e887a",
   "metadata": {},
   "outputs": [],
   "source": [
    "##################### min, max\n",
    "\n",
    "mylist = [10,20,30,40,50,60]\n"
   ]
  },
  {
   "cell_type": "code",
   "execution_count": 98,
   "id": "19585c9c",
   "metadata": {},
   "outputs": [
    {
     "data": {
      "text/plain": [
       "10"
      ]
     },
     "execution_count": 98,
     "metadata": {},
     "output_type": "execute_result"
    }
   ],
   "source": [
    "min(mylist)"
   ]
  },
  {
   "cell_type": "code",
   "execution_count": 99,
   "id": "fd75fffc",
   "metadata": {},
   "outputs": [
    {
     "data": {
      "text/plain": [
       "60"
      ]
     },
     "execution_count": 99,
     "metadata": {},
     "output_type": "execute_result"
    }
   ],
   "source": [
    "max(mylist)"
   ]
  },
  {
   "cell_type": "code",
   "execution_count": 100,
   "id": "aefb2687",
   "metadata": {},
   "outputs": [],
   "source": [
    "newlist = [1.1,2.2,3.3,4.4,5.5]"
   ]
  },
  {
   "cell_type": "code",
   "execution_count": 101,
   "id": "70847a2b",
   "metadata": {},
   "outputs": [
    {
     "data": {
      "text/plain": [
       "10"
      ]
     },
     "execution_count": 101,
     "metadata": {},
     "output_type": "execute_result"
    }
   ],
   "source": [
    "min(mylist)"
   ]
  },
  {
   "cell_type": "code",
   "execution_count": 102,
   "id": "78b53ba6",
   "metadata": {},
   "outputs": [
    {
     "data": {
      "text/plain": [
       "1.1"
      ]
     },
     "execution_count": 102,
     "metadata": {},
     "output_type": "execute_result"
    }
   ],
   "source": [
    "min(newlist)"
   ]
  },
  {
   "cell_type": "code",
   "execution_count": 103,
   "id": "6fd02632",
   "metadata": {},
   "outputs": [
    {
     "data": {
      "text/plain": [
       "5.5"
      ]
     },
     "execution_count": 103,
     "metadata": {},
     "output_type": "execute_result"
    }
   ],
   "source": [
    "max(newlist)"
   ]
  },
  {
   "cell_type": "code",
   "execution_count": 104,
   "id": "a00c80af",
   "metadata": {},
   "outputs": [],
   "source": [
    "letterlist = ['a','b','c']"
   ]
  },
  {
   "cell_type": "code",
   "execution_count": 105,
   "id": "5e70e3de",
   "metadata": {},
   "outputs": [
    {
     "data": {
      "text/plain": [
       "'a'"
      ]
     },
     "execution_count": 105,
     "metadata": {},
     "output_type": "execute_result"
    }
   ],
   "source": [
    "min(letterlist)"
   ]
  },
  {
   "cell_type": "code",
   "execution_count": 106,
   "id": "7ff352e0",
   "metadata": {},
   "outputs": [
    {
     "data": {
      "text/plain": [
       "'c'"
      ]
     },
     "execution_count": 106,
     "metadata": {},
     "output_type": "execute_result"
    }
   ],
   "source": [
    "max(letterlist)"
   ]
  },
  {
   "cell_type": "code",
   "execution_count": 107,
   "id": "e66a66ce",
   "metadata": {},
   "outputs": [],
   "source": [
    "#  Wow! min/max works with a list of letters"
   ]
  },
  {
   "cell_type": "code",
   "execution_count": 108,
   "id": "e63ce371",
   "metadata": {},
   "outputs": [],
   "source": [
    "################  Random library\n",
    "# import functions from a library\n",
    "# type \"from random import \" and hit tab to see all the functions available to import\n",
    "\n",
    "from random import shuffle"
   ]
  },
  {
   "cell_type": "code",
   "execution_count": 109,
   "id": "d5fa3d44",
   "metadata": {},
   "outputs": [],
   "source": [
    "mylist = [1,2,3,4,5,6,7,8,9]"
   ]
  },
  {
   "cell_type": "code",
   "execution_count": 110,
   "id": "56be3e89",
   "metadata": {},
   "outputs": [],
   "source": [
    "shuffle(mylist)"
   ]
  },
  {
   "cell_type": "code",
   "execution_count": 111,
   "id": "65627ad9",
   "metadata": {},
   "outputs": [
    {
     "data": {
      "text/plain": [
       "[4, 3, 5, 8, 6, 9, 2, 1, 7]"
      ]
     },
     "execution_count": 111,
     "metadata": {},
     "output_type": "execute_result"
    }
   ],
   "source": [
    "mylist"
   ]
  },
  {
   "cell_type": "code",
   "execution_count": 112,
   "id": "f9420c56",
   "metadata": {},
   "outputs": [],
   "source": [
    "shuffle(mylist)"
   ]
  },
  {
   "cell_type": "code",
   "execution_count": 113,
   "id": "2e7e0b5c",
   "metadata": {},
   "outputs": [
    {
     "data": {
      "text/plain": [
       "[7, 1, 6, 9, 3, 8, 5, 4, 2]"
      ]
     },
     "execution_count": 113,
     "metadata": {},
     "output_type": "execute_result"
    }
   ],
   "source": [
    "mylist"
   ]
  },
  {
   "cell_type": "code",
   "execution_count": 114,
   "id": "c54b2e35",
   "metadata": {},
   "outputs": [],
   "source": [
    "# shuffle() scrambles the list each time it's run\n",
    "# it's an in-place function, meaning it operates in-place on that list"
   ]
  },
  {
   "cell_type": "code",
   "execution_count": 115,
   "id": "f327b6ad",
   "metadata": {},
   "outputs": [],
   "source": [
    "# grabbing a random integer\n",
    "\n",
    "from random import randint"
   ]
  },
  {
   "cell_type": "code",
   "execution_count": 116,
   "id": "492bbaae",
   "metadata": {},
   "outputs": [
    {
     "data": {
      "text/plain": [
       "78"
      ]
     },
     "execution_count": 116,
     "metadata": {},
     "output_type": "execute_result"
    }
   ],
   "source": [
    "# randint() syntax\n",
    "# randint(low_end,high_end)\n",
    "\n",
    "randint(0,100)"
   ]
  },
  {
   "cell_type": "code",
   "execution_count": 117,
   "id": "3c7de144",
   "metadata": {},
   "outputs": [
    {
     "data": {
      "text/plain": [
       "50"
      ]
     },
     "execution_count": 117,
     "metadata": {},
     "output_type": "execute_result"
    }
   ],
   "source": [
    "randint(0,100)"
   ]
  },
  {
   "cell_type": "code",
   "execution_count": 118,
   "id": "4fa1c5dc",
   "metadata": {},
   "outputs": [],
   "source": [
    "mynum = randint(0,100)"
   ]
  },
  {
   "cell_type": "code",
   "execution_count": 119,
   "id": "49a9b796",
   "metadata": {},
   "outputs": [
    {
     "data": {
      "text/plain": [
       "89"
      ]
     },
     "execution_count": 119,
     "metadata": {},
     "output_type": "execute_result"
    }
   ],
   "source": [
    "mynum"
   ]
  },
  {
   "cell_type": "code",
   "execution_count": 120,
   "id": "c966e26e",
   "metadata": {},
   "outputs": [
    {
     "name": "stdout",
     "output_type": "stream",
     "text": [
      "enter a number 3\n"
     ]
    },
    {
     "data": {
      "text/plain": [
       "'3'"
      ]
     },
     "execution_count": 120,
     "metadata": {},
     "output_type": "execute_result"
    }
   ],
   "source": [
    "############################ input()\n",
    "# accept user input\n",
    "\n",
    "input('enter a number ')"
   ]
  },
  {
   "cell_type": "code",
   "execution_count": 121,
   "id": "c38eea4a",
   "metadata": {},
   "outputs": [
    {
     "name": "stdout",
     "output_type": "stream",
     "text": [
      "what is your name? paul\n"
     ]
    }
   ],
   "source": [
    "result = input('what is your name? ')"
   ]
  },
  {
   "cell_type": "code",
   "execution_count": 122,
   "id": "ee9cb194",
   "metadata": {},
   "outputs": [
    {
     "data": {
      "text/plain": [
       "'paul'"
      ]
     },
     "execution_count": 122,
     "metadata": {},
     "output_type": "execute_result"
    }
   ],
   "source": [
    "result"
   ]
  },
  {
   "cell_type": "code",
   "execution_count": 124,
   "id": "996ad581",
   "metadata": {},
   "outputs": [
    {
     "name": "stdout",
     "output_type": "stream",
     "text": [
      "enter a number: 34\n"
     ]
    }
   ],
   "source": [
    "# input always accepts what you enter as a string\n",
    "\n",
    "result = input('enter a number: ')"
   ]
  },
  {
   "cell_type": "code",
   "execution_count": 125,
   "id": "5bcd9118",
   "metadata": {},
   "outputs": [
    {
     "data": {
      "text/plain": [
       "str"
      ]
     },
     "execution_count": 125,
     "metadata": {},
     "output_type": "execute_result"
    }
   ],
   "source": [
    "type(result)"
   ]
  },
  {
   "cell_type": "code",
   "execution_count": 129,
   "id": "fa29e013",
   "metadata": {},
   "outputs": [],
   "source": [
    "# if you entered a number, you can transform it into another data type"
   ]
  },
  {
   "cell_type": "code",
   "execution_count": 130,
   "id": "a465b518",
   "metadata": {},
   "outputs": [
    {
     "data": {
      "text/plain": [
       "'34'"
      ]
     },
     "execution_count": 130,
     "metadata": {},
     "output_type": "execute_result"
    }
   ],
   "source": [
    "result"
   ]
  },
  {
   "cell_type": "code",
   "execution_count": 131,
   "id": "c59b1d0d",
   "metadata": {},
   "outputs": [
    {
     "data": {
      "text/plain": [
       "34.0"
      ]
     },
     "execution_count": 131,
     "metadata": {},
     "output_type": "execute_result"
    }
   ],
   "source": [
    "float(result)"
   ]
  },
  {
   "cell_type": "code",
   "execution_count": 132,
   "id": "1a8527d8",
   "metadata": {},
   "outputs": [
    {
     "data": {
      "text/plain": [
       "34"
      ]
     },
     "execution_count": 132,
     "metadata": {},
     "output_type": "execute_result"
    }
   ],
   "source": [
    "int(result)"
   ]
  },
  {
   "cell_type": "code",
   "execution_count": 139,
   "id": "2c2fe026",
   "metadata": {},
   "outputs": [],
   "source": [
    "name = \"p\""
   ]
  },
  {
   "cell_type": "code",
   "execution_count": 140,
   "id": "21f5638d",
   "metadata": {},
   "outputs": [
    {
     "data": {
      "text/plain": [
       "''"
      ]
     },
     "execution_count": 140,
     "metadata": {},
     "output_type": "execute_result"
    }
   ],
   "source": [
    "name[1:]"
   ]
  },
  {
   "cell_type": "code",
   "execution_count": 147,
   "id": "d9f2d2cb",
   "metadata": {},
   "outputs": [
    {
     "data": {
      "text/plain": [
       "'p'"
      ]
     },
     "execution_count": 147,
     "metadata": {},
     "output_type": "execute_result"
    }
   ],
   "source": [
    "name[-1]"
   ]
  },
  {
   "cell_type": "code",
   "execution_count": 142,
   "id": "ddde0f8d",
   "metadata": {},
   "outputs": [
    {
     "data": {
      "text/plain": [
       "'pp'"
      ]
     },
     "execution_count": 142,
     "metadata": {},
     "output_type": "execute_result"
    }
   ],
   "source": [
    "name[-1::] + name[1:(len(name)-1)] + name[0]"
   ]
  },
  {
   "cell_type": "code",
   "execution_count": 138,
   "id": "1e650f0f",
   "metadata": {},
   "outputs": [
    {
     "data": {
      "text/plain": [
       "'l'"
      ]
     },
     "execution_count": 138,
     "metadata": {},
     "output_type": "execute_result"
    }
   ],
   "source": [
    "name[-1]"
   ]
  },
  {
   "cell_type": "code",
   "execution_count": 145,
   "id": "efe3cff2",
   "metadata": {},
   "outputs": [],
   "source": [
    "str = \"h\""
   ]
  },
  {
   "cell_type": "code",
   "execution_count": 146,
   "id": "e61ab6fb",
   "metadata": {},
   "outputs": [
    {
     "data": {
      "text/plain": [
       "'hh'"
      ]
     },
     "execution_count": 146,
     "metadata": {},
     "output_type": "execute_result"
    }
   ],
   "source": [
    "str[-1] + str[1:(len(str)-1)] + str[0]"
   ]
  },
  {
   "cell_type": "code",
   "execution_count": 148,
   "id": "2885f1e2",
   "metadata": {},
   "outputs": [
    {
     "data": {
      "text/plain": [
       "'h'"
      ]
     },
     "execution_count": 148,
     "metadata": {},
     "output_type": "execute_result"
    }
   ],
   "source": [
    "str"
   ]
  },
  {
   "cell_type": "code",
   "execution_count": 149,
   "id": "76f6da7c",
   "metadata": {},
   "outputs": [
    {
     "data": {
      "text/plain": [
       "'h'"
      ]
     },
     "execution_count": 149,
     "metadata": {},
     "output_type": "execute_result"
    }
   ],
   "source": [
    "str[-1]"
   ]
  },
  {
   "cell_type": "markdown",
   "id": "960158f5",
   "metadata": {},
   "source": [
    "</strong>38 - List Comprehensions in Python"
   ]
  },
  {
   "cell_type": "code",
   "execution_count": 151,
   "id": "2ae49063",
   "metadata": {},
   "outputs": [],
   "source": [
    "# List Comprehensions are a unique way of quickly creating a list with Python.\n",
    "# Use this as an alternative to using a \"for loop\" along with \".append()\" to create a list."
   ]
  },
  {
   "cell_type": "code",
   "execution_count": 152,
   "id": "3a05cf68",
   "metadata": {},
   "outputs": [],
   "source": [
    "# for example, make a list of every character in \"hello\"\n",
    "\n",
    "mystring = \"hello\""
   ]
  },
  {
   "cell_type": "code",
   "execution_count": 153,
   "id": "f569434e",
   "metadata": {},
   "outputs": [],
   "source": [
    "# old way\n",
    "# start with an empty list\n",
    "\n",
    "mylist = []"
   ]
  },
  {
   "cell_type": "code",
   "execution_count": 154,
   "id": "ab9c3c99",
   "metadata": {},
   "outputs": [
    {
     "name": "stdout",
     "output_type": "stream",
     "text": [
      "['h', 'e', 'l', 'l', 'o']\n"
     ]
    }
   ],
   "source": [
    "# here's that for loop\n",
    "\n",
    "for letter in mystring:\n",
    "    mylist.append(letter)\n",
    "\n",
    "print(mylist)"
   ]
  },
  {
   "cell_type": "code",
   "execution_count": 155,
   "id": "f52d9752",
   "metadata": {},
   "outputs": [
    {
     "data": {
      "text/plain": [
       "list"
      ]
     },
     "execution_count": 155,
     "metadata": {},
     "output_type": "execute_result"
    }
   ],
   "source": [
    "type(mylist)"
   ]
  },
  {
   "cell_type": "code",
   "execution_count": 156,
   "id": "2a0a275e",
   "metadata": {},
   "outputs": [
    {
     "data": {
      "text/plain": [
       "str"
      ]
     },
     "execution_count": 156,
     "metadata": {},
     "output_type": "execute_result"
    }
   ],
   "source": [
    "type(mylist[0])"
   ]
  },
  {
   "cell_type": "code",
   "execution_count": 157,
   "id": "772e5045",
   "metadata": {},
   "outputs": [],
   "source": [
    "# here's that unique Python way to do it on a single line\n",
    "# basically break down the for loop"
   ]
  },
  {
   "cell_type": "code",
   "execution_count": 159,
   "id": "937211de",
   "metadata": {},
   "outputs": [],
   "source": [
    "yourlist = []"
   ]
  },
  {
   "cell_type": "code",
   "execution_count": 160,
   "id": "0eef4ed1",
   "metadata": {},
   "outputs": [],
   "source": [
    "yourlist = [letter for letter in mystring]"
   ]
  },
  {
   "cell_type": "code",
   "execution_count": 161,
   "id": "b46936c4",
   "metadata": {},
   "outputs": [
    {
     "data": {
      "text/plain": [
       "['h', 'e', 'l', 'l', 'o']"
      ]
     },
     "execution_count": 161,
     "metadata": {},
     "output_type": "execute_result"
    }
   ],
   "source": [
    "yourlist"
   ]
  },
  {
   "cell_type": "code",
   "execution_count": 162,
   "id": "3ca1865a",
   "metadata": {},
   "outputs": [
    {
     "data": {
      "text/plain": [
       "list"
      ]
     },
     "execution_count": 162,
     "metadata": {},
     "output_type": "execute_result"
    }
   ],
   "source": [
    "type(yourlist)"
   ]
  },
  {
   "cell_type": "code",
   "execution_count": 163,
   "id": "5987587a",
   "metadata": {},
   "outputs": [
    {
     "data": {
      "text/plain": [
       "str"
      ]
     },
     "execution_count": 163,
     "metadata": {},
     "output_type": "execute_result"
    }
   ],
   "source": [
    "type(yourlist[0])"
   ]
  },
  {
   "cell_type": "code",
   "execution_count": 164,
   "id": "edf21a50",
   "metadata": {},
   "outputs": [],
   "source": [
    "# so what happened in that code?\n",
    "# the logic is basically a flattened-out for loop"
   ]
  },
  {
   "cell_type": "code",
   "execution_count": 165,
   "id": "03fa5191",
   "metadata": {},
   "outputs": [],
   "source": [
    "# another example\n",
    "\n",
    "thislist = []\n",
    "\n",
    "thislist = [singlecharacter for singlecharacter in \"Now is the time for all good men to come to the aid of their country\"]\n"
   ]
  },
  {
   "cell_type": "code",
   "execution_count": 166,
   "id": "21eb0139",
   "metadata": {},
   "outputs": [
    {
     "data": {
      "text/plain": [
       "['N',\n",
       " 'o',\n",
       " 'w',\n",
       " ' ',\n",
       " 'i',\n",
       " 's',\n",
       " ' ',\n",
       " 't',\n",
       " 'h',\n",
       " 'e',\n",
       " ' ',\n",
       " 't',\n",
       " 'i',\n",
       " 'm',\n",
       " 'e',\n",
       " ' ',\n",
       " 'f',\n",
       " 'o',\n",
       " 'r',\n",
       " ' ',\n",
       " 'a',\n",
       " 'l',\n",
       " 'l',\n",
       " ' ',\n",
       " 'g',\n",
       " 'o',\n",
       " 'o',\n",
       " 'd',\n",
       " ' ',\n",
       " 'm',\n",
       " 'e',\n",
       " 'n',\n",
       " ' ',\n",
       " 't',\n",
       " 'o',\n",
       " ' ',\n",
       " 'c',\n",
       " 'o',\n",
       " 'm',\n",
       " 'e',\n",
       " ' ',\n",
       " 't',\n",
       " 'o',\n",
       " ' ',\n",
       " 't',\n",
       " 'h',\n",
       " 'e',\n",
       " ' ',\n",
       " 'a',\n",
       " 'i',\n",
       " 'd',\n",
       " ' ',\n",
       " 'o',\n",
       " 'f',\n",
       " ' ',\n",
       " 't',\n",
       " 'h',\n",
       " 'e',\n",
       " 'i',\n",
       " 'r',\n",
       " ' ',\n",
       " 'c',\n",
       " 'o',\n",
       " 'u',\n",
       " 'n',\n",
       " 't',\n",
       " 'r',\n",
       " 'y']"
      ]
     },
     "execution_count": 166,
     "metadata": {},
     "output_type": "execute_result"
    }
   ],
   "source": [
    "thislist"
   ]
  },
  {
   "cell_type": "code",
   "execution_count": 169,
   "id": "50bbc2b8",
   "metadata": {},
   "outputs": [
    {
     "name": "stdout",
     "output_type": "stream",
     "text": [
      "['Now', 'is', 'the', 'time', 'for', 'all', 'good', 'men', 'to', 'come', 'to', 'the', 'aid', 'of', 'their', 'country']\n"
     ]
    }
   ],
   "source": [
    "word = \"\"\n",
    "sentance = []\n",
    "for item in thislist:\n",
    "    if item != \" \":\n",
    "        word += item\n",
    "    else:\n",
    "        sentance.append(word)\n",
    "        word = \"\"\n",
    "sentance.append(word)\n",
    "print(sentance)"
   ]
  },
  {
   "cell_type": "code",
   "execution_count": 168,
   "id": "7dd14ec7",
   "metadata": {},
   "outputs": [
    {
     "data": {
      "text/plain": [
       "['Now',\n",
       " 'is',\n",
       " 'the',\n",
       " 'time',\n",
       " 'for',\n",
       " 'all',\n",
       " 'good',\n",
       " 'men',\n",
       " 'to',\n",
       " 'come',\n",
       " 'to',\n",
       " 'the',\n",
       " 'aid',\n",
       " 'of',\n",
       " 'their']"
      ]
     },
     "execution_count": 168,
     "metadata": {},
     "output_type": "execute_result"
    }
   ],
   "source": [
    "sentance"
   ]
  },
  {
   "cell_type": "code",
   "execution_count": 170,
   "id": "4aa10038",
   "metadata": {},
   "outputs": [],
   "source": [
    "# what will this do??\n",
    "\n",
    "whatlist = []\n",
    "\n",
    "whatlist = [word for word in sentance]"
   ]
  },
  {
   "cell_type": "code",
   "execution_count": 171,
   "id": "93d73524",
   "metadata": {},
   "outputs": [
    {
     "data": {
      "text/plain": [
       "['Now',\n",
       " 'is',\n",
       " 'the',\n",
       " 'time',\n",
       " 'for',\n",
       " 'all',\n",
       " 'good',\n",
       " 'men',\n",
       " 'to',\n",
       " 'come',\n",
       " 'to',\n",
       " 'the',\n",
       " 'aid',\n",
       " 'of',\n",
       " 'their',\n",
       " 'country']"
      ]
     },
     "execution_count": 171,
     "metadata": {},
     "output_type": "execute_result"
    }
   ],
   "source": [
    "whatlist"
   ]
  },
  {
   "cell_type": "code",
   "execution_count": 172,
   "id": "5a4709c7",
   "metadata": {},
   "outputs": [],
   "source": [
    "# that just made another list out of a list using list comprehension"
   ]
  },
  {
   "cell_type": "code",
   "execution_count": 175,
   "id": "0cf6f027",
   "metadata": {},
   "outputs": [],
   "source": [
    "# an example of using list compression to create a list of numbers\n",
    "\n",
    "mylist = []\n",
    "\n",
    "mylist = [x for x in range(0,11)]"
   ]
  },
  {
   "cell_type": "code",
   "execution_count": 176,
   "id": "6cd08aca",
   "metadata": {},
   "outputs": [
    {
     "data": {
      "text/plain": [
       "[0, 1, 2, 3, 4, 5, 6, 7, 8, 9, 10]"
      ]
     },
     "execution_count": 176,
     "metadata": {},
     "output_type": "execute_result"
    }
   ],
   "source": [
    "mylist"
   ]
  },
  {
   "cell_type": "code",
   "execution_count": 177,
   "id": "4386d6b9",
   "metadata": {},
   "outputs": [],
   "source": [
    "# remember that range(0,11) will generate numbers up to but not including 11"
   ]
  },
  {
   "cell_type": "code",
   "execution_count": 179,
   "id": "65f10a8b",
   "metadata": {},
   "outputs": [
    {
     "name": "stdout",
     "output_type": "stream",
     "text": [
      "[0, 1, 4, 9, 16, 25, 36, 49, 64, 81, 100]\n"
     ]
    }
   ],
   "source": [
    "# you can also perform arithmatic operations on the first variable in the statement\n",
    "# this creates a list of squares\n",
    "\n",
    "mylist = []\n",
    "\n",
    "mylist = [num**2 for num in range(0,11)]\n",
    "\n",
    "print(mylist)"
   ]
  },
  {
   "cell_type": "code",
   "execution_count": 180,
   "id": "16ca4c36",
   "metadata": {},
   "outputs": [
    {
     "name": "stdout",
     "output_type": "stream",
     "text": [
      "[0, 2, 4, 6, 8, 10]\n"
     ]
    }
   ],
   "source": [
    "# now use it to only grab even numbers\n",
    "\n",
    "mylist = []\n",
    "\n",
    "mylist = [x for x in range(0,11) if x%2==0]\n",
    "\n",
    "print(mylist)"
   ]
  },
  {
   "cell_type": "code",
   "execution_count": 181,
   "id": "3f90cd2e",
   "metadata": {},
   "outputs": [
    {
     "name": "stdout",
     "output_type": "stream",
     "text": [
      "[0, 4, 16, 36, 64, 100]\n"
     ]
    }
   ],
   "source": [
    "# now square just the even numbers\n",
    "\n",
    "mylist = []\n",
    "\n",
    "mylist = [x**2 for x in range(0,11) if x%2==0]\n",
    "\n",
    "print(mylist)"
   ]
  },
  {
   "cell_type": "code",
   "execution_count": 182,
   "id": "df33adb9",
   "metadata": {},
   "outputs": [
    {
     "name": "stdout",
     "output_type": "stream",
     "text": [
      "[32.0, 50.0, 68.0, 94.1]\n"
     ]
    }
   ],
   "source": [
    "# use list comprehension to convert a list of temperatures from celcius to fahrenheit\n",
    "\n",
    "celsius = [0,10,20,34.5]\n",
    "\n",
    "fahrenheit = [((9/5)*temp + 32) for temp in celsius]\n",
    "print(fahrenheit)"
   ]
  },
  {
   "cell_type": "code",
   "execution_count": 184,
   "id": "aa933e2f",
   "metadata": {},
   "outputs": [
    {
     "name": "stdout",
     "output_type": "stream",
     "text": [
      "[32.0, 50.0, 68.0, 94.1]\n"
     ]
    }
   ],
   "source": [
    "# now do the above as a for loop just to understand it\n",
    "# I did this myself, didn't just watch the guy on the video\n",
    "fahrenheit = []\n",
    "\n",
    "for temp in celsius:\n",
    "    fahrenheit.append((9/5)*temp + 32)\n",
    "    \n",
    "print(fahrenheit)"
   ]
  },
  {
   "cell_type": "code",
   "execution_count": 188,
   "id": "14ceddee",
   "metadata": {},
   "outputs": [
    {
     "name": "stdout",
     "output_type": "stream",
     "text": [
      "[0, 'ODD', 2, 'ODD', 4, 'ODD', 6, 'ODD', 8, 'ODD', 10]\n"
     ]
    }
   ],
   "source": [
    "###  if/else statements in a list comprehension\n",
    "# order is a little different\n",
    "# caveat noted, that putting all this on one line vs a for loop can make it very hard to read later\n",
    "# Be kind to your future self!\n",
    "\n",
    "results = [x if x%2==0 else 'ODD' for x in range(0,11)]\n",
    "\n",
    "print(results)\n"
   ]
  },
  {
   "cell_type": "code",
   "execution_count": 190,
   "id": "4185854c",
   "metadata": {},
   "outputs": [
    {
     "name": "stdout",
     "output_type": "stream",
     "text": [
      "[2, 20, 200, 4, 40, 400, 6, 60, 600]\n"
     ]
    }
   ],
   "source": [
    "###  NESTED LOOPS in a list comprehensions??\n",
    "\n",
    "mylist = []\n",
    "\n",
    "for x in [2,4,6]:\n",
    "    for y in [1,10,100]:\n",
    "        mylist.append(x*y)\n",
    "print(mylist)"
   ]
  },
  {
   "cell_type": "code",
   "execution_count": 191,
   "id": "34460cb5",
   "metadata": {},
   "outputs": [
    {
     "name": "stdout",
     "output_type": "stream",
     "text": [
      "[2, 20, 200, 4, 40, 400, 6, 60, 600]\n"
     ]
    }
   ],
   "source": [
    "# now do it with list comprehension\n",
    "\n",
    "mylist = [x*y for x in [2,4,6] for y in [1,10,100]]\n",
    "print(mylist)"
   ]
  },
  {
   "cell_type": "code",
   "execution_count": null,
   "id": "5a53c6b3",
   "metadata": {},
   "outputs": [],
   "source": [
    "# This is the end of Section 5\n",
    "# 39 is the Python Statements test"
   ]
  },
  {
   "cell_type": "code",
   "execution_count": null,
   "id": "6d6c4db2",
   "metadata": {},
   "outputs": [],
   "source": []
  }
 ],
 "metadata": {
  "kernelspec": {
   "display_name": "Python 3 (ipykernel)",
   "language": "python",
   "name": "python3"
  },
  "language_info": {
   "codemirror_mode": {
    "name": "ipython",
    "version": 3
   },
   "file_extension": ".py",
   "mimetype": "text/x-python",
   "name": "python",
   "nbconvert_exporter": "python",
   "pygments_lexer": "ipython3",
   "version": "3.9.13"
  }
 },
 "nbformat": 4,
 "nbformat_minor": 5
}
