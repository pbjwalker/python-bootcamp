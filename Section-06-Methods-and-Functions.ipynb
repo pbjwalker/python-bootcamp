{
 "cells": [
  {
   "cell_type": "code",
   "execution_count": 1,
   "id": "ce38fad3",
   "metadata": {},
   "outputs": [],
   "source": [
    "# Section 6: Methods and Functions"
   ]
  },
  {
   "cell_type": "markdown",
   "id": "c98f4cbe",
   "metadata": {},
   "source": [
    "<strong>41 - Methods and the Python Documentation</strong>"
   ]
  },
  {
   "cell_type": "code",
   "execution_count": 31,
   "id": "16117c59",
   "metadata": {},
   "outputs": [],
   "source": [
    "mylist = [1,2,3]"
   ]
  },
  {
   "cell_type": "code",
   "execution_count": 32,
   "id": "791ac6d3",
   "metadata": {},
   "outputs": [],
   "source": [
    "mylist.append(4)"
   ]
  },
  {
   "cell_type": "code",
   "execution_count": 33,
   "id": "fd93cdda",
   "metadata": {},
   "outputs": [
    {
     "data": {
      "text/plain": [
       "[1, 2, 3, 4]"
      ]
     },
     "execution_count": 33,
     "metadata": {},
     "output_type": "execute_result"
    }
   ],
   "source": [
    "mylist"
   ]
  },
  {
   "cell_type": "code",
   "execution_count": 34,
   "id": "a2c37acf",
   "metadata": {},
   "outputs": [
    {
     "data": {
      "text/plain": [
       "4"
      ]
     },
     "execution_count": 34,
     "metadata": {},
     "output_type": "execute_result"
    }
   ],
   "source": [
    "mylist.pop()"
   ]
  },
  {
   "cell_type": "code",
   "execution_count": 35,
   "id": "492f6d15",
   "metadata": {},
   "outputs": [
    {
     "data": {
      "text/plain": [
       "[1, 2, 3]"
      ]
     },
     "execution_count": 35,
     "metadata": {},
     "output_type": "execute_result"
    }
   ],
   "source": [
    "mylist"
   ]
  },
  {
   "cell_type": "code",
   "execution_count": 36,
   "id": "05149e87",
   "metadata": {},
   "outputs": [],
   "source": [
    "mylist.append(10)"
   ]
  },
  {
   "cell_type": "code",
   "execution_count": 37,
   "id": "9525b595",
   "metadata": {},
   "outputs": [
    {
     "data": {
      "text/plain": [
       "[1, 2, 3, 10]"
      ]
     },
     "execution_count": 37,
     "metadata": {},
     "output_type": "execute_result"
    }
   ],
   "source": [
    "mylist"
   ]
  },
  {
   "cell_type": "code",
   "execution_count": 38,
   "id": "1abcf761",
   "metadata": {},
   "outputs": [],
   "source": [
    "popped_off = mylist.pop()"
   ]
  },
  {
   "cell_type": "code",
   "execution_count": 39,
   "id": "48e603eb",
   "metadata": {},
   "outputs": [
    {
     "data": {
      "text/plain": [
       "10"
      ]
     },
     "execution_count": 39,
     "metadata": {},
     "output_type": "execute_result"
    }
   ],
   "source": [
    "popped_off"
   ]
  },
  {
   "cell_type": "code",
   "execution_count": 40,
   "id": "d356e8f0",
   "metadata": {},
   "outputs": [
    {
     "data": {
      "text/plain": [
       "[1, 2, 3]"
      ]
     },
     "execution_count": 40,
     "metadata": {},
     "output_type": "execute_result"
    }
   ],
   "source": [
    "mylist"
   ]
  },
  {
   "cell_type": "code",
   "execution_count": 41,
   "id": "477f9b92",
   "metadata": {},
   "outputs": [],
   "source": [
    "# In this case, the list mylist is an object.\n",
    "# Once you define an object. you can enter the name, a dot, and press tab.\n",
    "# This pops up a box to show you what methods are available to call on the object."
   ]
  },
  {
   "cell_type": "code",
   "execution_count": 42,
   "id": "edf431fd",
   "metadata": {},
   "outputs": [],
   "source": [
    "# Two ways to get Python to help you learn about a method.\n",
    "# Do the above and find a method you want info on.\n",
    "# In the Jupyter notebook, you can enter it like this, and hit shift-tab for a small description\n",
    "# mylist.insert"
   ]
  },
  {
   "cell_type": "code",
   "execution_count": 43,
   "id": "375436d7",
   "metadata": {},
   "outputs": [
    {
     "name": "stdout",
     "output_type": "stream",
     "text": [
      "Help on built-in function insert:\n",
      "\n",
      "insert(index, object, /) method of builtins.list instance\n",
      "    Insert object before index.\n",
      "\n"
     ]
    }
   ],
   "source": [
    "# Outside of the Jupyter notebook, you can call the help() function\n",
    "help(mylist.insert)"
   ]
  },
  {
   "cell_type": "code",
   "execution_count": 45,
   "id": "f447b906",
   "metadata": {},
   "outputs": [],
   "source": [
    "# The other way is to go to the Python documentation site\n",
    "# https://docs.python.org\n",
    "# Go to the Library Reference section"
   ]
  },
  {
   "cell_type": "code",
   "execution_count": 46,
   "id": "0e111693",
   "metadata": {},
   "outputs": [],
   "source": [
    "# A lot of people go to Stackoverflow because it's more readable\n",
    "# https://stackoverflow.com/questions"
   ]
  },
  {
   "cell_type": "markdown",
   "id": "6050548e",
   "metadata": {},
   "source": [
    "<strong>42 - Introduction to Functions</strong>"
   ]
  },
  {
   "cell_type": "code",
   "execution_count": 1,
   "id": "58453c85",
   "metadata": {},
   "outputs": [],
   "source": [
    "# Remember: Creating clean, repeatable code is a key part of becoming an effectice programmer\n",
    "# Functions allow us to create blocks of code that can be easily executed may times, without needing to constantly write the entire block of code."
   ]
  },
  {
   "cell_type": "markdown",
   "id": "7eec7ab0",
   "metadata": {},
   "source": [
    "<strong>43 - def Keyword</strong>"
   ]
  },
  {
   "cell_type": "code",
   "execution_count": 2,
   "id": "e9e79b35",
   "metadata": {},
   "outputs": [],
   "source": [
    "# Creating a function requires a very specific syntax, including the def keyword, correct indentation, and proper structure.\n"
   ]
  },
  {
   "cell_type": "code",
   "execution_count": 12,
   "id": "77aaa819",
   "metadata": {},
   "outputs": [],
   "source": [
    "# function syntax\n",
    "#\n",
    "# def name_of_function():\n",
    "#    '''\n",
    "\n",
    "\n",
    "#    '''\n",
    "#    print(\"Hello\")"
   ]
  },
  {
   "cell_type": "code",
   "execution_count": 18,
   "id": "07391fd8",
   "metadata": {},
   "outputs": [],
   "source": [
    "# notice that the \"name_of_function():\" is written in snake casing\n",
    "# Snake casing is all lowercase with underscores between words\n",
    "# In general, by convention, Python uses snake casing for the name of the function\n",
    "# The parentheses at the end can contain arguments or parameters that are passed into the function.\n",
    "# The colon at the end indicates an upcoming indented block\n",
    "# The block between the triple quotes '''   ''' is the Docstring, which explains the function.\n",
    "# The Docstring is optional.  This code is not executed.  \n",
    "# In the example, \"print(\"Hello\")\" is the code that will be executed everytime you call the function\n",
    "# In most cases, use the \"return\" keyword to return the result of the function"
   ]
  },
  {
   "cell_type": "code",
   "execution_count": 13,
   "id": "6ffe9d7a",
   "metadata": {},
   "outputs": [],
   "source": [
    "def name_of_function(name):\n",
    "    '''This is a basic function'''\n",
    "    print(\"Hello \" + name)"
   ]
  },
  {
   "cell_type": "code",
   "execution_count": 15,
   "id": "de3cdeb3",
   "metadata": {},
   "outputs": [
    {
     "name": "stdout",
     "output_type": "stream",
     "text": [
      "Hello Paul\n"
     ]
    }
   ],
   "source": [
    "name_of_function(\"Paul\")"
   ]
  },
  {
   "cell_type": "code",
   "execution_count": 16,
   "id": "83bbec1f",
   "metadata": {},
   "outputs": [],
   "source": [
    "x = \"Trevor\""
   ]
  },
  {
   "cell_type": "code",
   "execution_count": 17,
   "id": "17a2b660",
   "metadata": {},
   "outputs": [
    {
     "name": "stdout",
     "output_type": "stream",
     "text": [
      "Hello Trevor\n"
     ]
    }
   ],
   "source": [
    "name_of_function(x)"
   ]
  },
  {
   "cell_type": "code",
   "execution_count": 19,
   "id": "6f787ba0",
   "metadata": {},
   "outputs": [],
   "source": [
    "# another example:\n",
    "\n",
    "# def add_function(num1,num2):\n",
    "#    return num1 + num2"
   ]
  },
  {
   "cell_type": "code",
   "execution_count": 20,
   "id": "297208a8",
   "metadata": {},
   "outputs": [],
   "source": [
    "def add_function(num1,num2):\n",
    "    return num1+num2"
   ]
  },
  {
   "cell_type": "code",
   "execution_count": 21,
   "id": "b892e758",
   "metadata": {},
   "outputs": [],
   "source": [
    "result = add_function(1,2)"
   ]
  },
  {
   "cell_type": "code",
   "execution_count": 22,
   "id": "f268d557",
   "metadata": {},
   "outputs": [
    {
     "data": {
      "text/plain": [
       "3"
      ]
     },
     "execution_count": 22,
     "metadata": {},
     "output_type": "execute_result"
    }
   ],
   "source": [
    "result"
   ]
  },
  {
   "cell_type": "code",
   "execution_count": 23,
   "id": "ada2cefd",
   "metadata": {},
   "outputs": [],
   "source": [
    "# Using return allows you to save the result as a variable\n",
    "# Just using a print statement inside the function does not"
   ]
  },
  {
   "cell_type": "code",
   "execution_count": 24,
   "id": "07467b45",
   "metadata": {},
   "outputs": [],
   "source": [
    "def does_it_save(printthis):\n",
    "    print(\"My string is \" + printthis)"
   ]
  },
  {
   "cell_type": "code",
   "execution_count": 25,
   "id": "9194a9bd",
   "metadata": {},
   "outputs": [
    {
     "name": "stdout",
     "output_type": "stream",
     "text": [
      "My string is Don't think so\n"
     ]
    }
   ],
   "source": [
    "myresult = does_it_save(\"Don't think so\")"
   ]
  },
  {
   "cell_type": "code",
   "execution_count": 26,
   "id": "85b83af8",
   "metadata": {},
   "outputs": [],
   "source": [
    "myresult"
   ]
  },
  {
   "cell_type": "code",
   "execution_count": 27,
   "id": "0f132bd2",
   "metadata": {},
   "outputs": [
    {
     "name": "stdout",
     "output_type": "stream",
     "text": [
      "None\n"
     ]
    }
   ],
   "source": [
    "print(myresult)"
   ]
  },
  {
   "cell_type": "markdown",
   "id": "7ab75761",
   "metadata": {},
   "source": [
    "<strong>44 - Basics of Python Functions</strong>"
   ]
  },
  {
   "cell_type": "code",
   "execution_count": 28,
   "id": "7bec29d5",
   "metadata": {},
   "outputs": [],
   "source": [
    "def say_hello():\n",
    "    print(\"Hello\")"
   ]
  },
  {
   "cell_type": "code",
   "execution_count": 30,
   "id": "6682a5be",
   "metadata": {},
   "outputs": [
    {
     "name": "stdout",
     "output_type": "stream",
     "text": [
      "Hello\n"
     ]
    }
   ],
   "source": [
    "say_hello()"
   ]
  },
  {
   "cell_type": "code",
   "execution_count": 31,
   "id": "26e29507",
   "metadata": {},
   "outputs": [
    {
     "data": {
      "text/plain": [
       "<function __main__.say_hello()>"
      ]
     },
     "execution_count": 31,
     "metadata": {},
     "output_type": "execute_result"
    }
   ],
   "source": [
    "say_hello"
   ]
  },
  {
   "cell_type": "code",
   "execution_count": 32,
   "id": "f6db4b60",
   "metadata": {},
   "outputs": [],
   "source": [
    "def say_hello(name):\n",
    "    print(f\"Hello {name}\")"
   ]
  },
  {
   "cell_type": "code",
   "execution_count": 33,
   "id": "c5401416",
   "metadata": {},
   "outputs": [
    {
     "name": "stdout",
     "output_type": "stream",
     "text": [
      "Hello paul\n"
     ]
    }
   ],
   "source": [
    "say_hello(\"paul\")"
   ]
  },
  {
   "cell_type": "code",
   "execution_count": 34,
   "id": "a65854d6",
   "metadata": {},
   "outputs": [
    {
     "ename": "TypeError",
     "evalue": "say_hello() missing 1 required positional argument: 'name'",
     "output_type": "error",
     "traceback": [
      "\u001b[0;31m---------------------------------------------------------------------------\u001b[0m",
      "\u001b[0;31mTypeError\u001b[0m                                 Traceback (most recent call last)",
      "\u001b[0;32m/tmp/ipykernel_199423/2814888808.py\u001b[0m in \u001b[0;36m<module>\u001b[0;34m\u001b[0m\n\u001b[0;32m----> 1\u001b[0;31m \u001b[0msay_hello\u001b[0m\u001b[0;34m(\u001b[0m\u001b[0;34m)\u001b[0m\u001b[0;34m\u001b[0m\u001b[0;34m\u001b[0m\u001b[0m\n\u001b[0m",
      "\u001b[0;31mTypeError\u001b[0m: say_hello() missing 1 required positional argument: 'name'"
     ]
    }
   ],
   "source": [
    "say_hello()"
   ]
  },
  {
   "cell_type": "code",
   "execution_count": 35,
   "id": "2b529a40",
   "metadata": {},
   "outputs": [],
   "source": [
    "# Either provide a value when you call the function or provide a default value when you create the function."
   ]
  },
  {
   "cell_type": "code",
   "execution_count": 36,
   "id": "af37088b",
   "metadata": {},
   "outputs": [],
   "source": [
    "def say_hello(name='YOUR NAME HERE'):\n",
    "    print(f\"Hello {name}\")"
   ]
  },
  {
   "cell_type": "code",
   "execution_count": 37,
   "id": "821d7222",
   "metadata": {},
   "outputs": [
    {
     "name": "stdout",
     "output_type": "stream",
     "text": [
      "Hello YOUR NAME HERE\n"
     ]
    }
   ],
   "source": [
    "say_hello()"
   ]
  },
  {
   "cell_type": "code",
   "execution_count": 38,
   "id": "c24bffee",
   "metadata": {},
   "outputs": [],
   "source": [
    "# remember the return keyword allows you to assign the result to a variable\n",
    "def add_num(num1,num2):\n",
    "    return num1+num2"
   ]
  },
  {
   "cell_type": "code",
   "execution_count": 39,
   "id": "26df3540",
   "metadata": {},
   "outputs": [],
   "source": [
    "def print_result(a,b):\n",
    "    print(a+b)"
   ]
  },
  {
   "cell_type": "code",
   "execution_count": 42,
   "id": "6fcd757a",
   "metadata": {},
   "outputs": [
    {
     "name": "stdout",
     "output_type": "stream",
     "text": [
      "30\n"
     ]
    }
   ],
   "source": [
    "result = print_result(10,20)"
   ]
  },
  {
   "cell_type": "code",
   "execution_count": 43,
   "id": "0fe46a6a",
   "metadata": {},
   "outputs": [],
   "source": [
    "result"
   ]
  },
  {
   "cell_type": "code",
   "execution_count": 44,
   "id": "0cd248fb",
   "metadata": {},
   "outputs": [],
   "source": [
    "mynumber = add_num(10,20)"
   ]
  },
  {
   "cell_type": "code",
   "execution_count": 45,
   "id": "27e0f2c5",
   "metadata": {},
   "outputs": [
    {
     "data": {
      "text/plain": [
       "30"
      ]
     },
     "execution_count": 45,
     "metadata": {},
     "output_type": "execute_result"
    }
   ],
   "source": [
    "mynumber"
   ]
  },
  {
   "cell_type": "code",
   "execution_count": 46,
   "id": "84d88d32",
   "metadata": {},
   "outputs": [],
   "source": [
    "# this isn't real common\n",
    "# normally you either print or return\n",
    "def myfunc(a,b):\n",
    "    print(a+b)\n",
    "    return a+b"
   ]
  },
  {
   "cell_type": "code",
   "execution_count": 47,
   "id": "857364cc",
   "metadata": {},
   "outputs": [
    {
     "name": "stdout",
     "output_type": "stream",
     "text": [
      "30\n"
     ]
    },
    {
     "data": {
      "text/plain": [
       "30"
      ]
     },
     "execution_count": 47,
     "metadata": {},
     "output_type": "execute_result"
    }
   ],
   "source": [
    "myfunc(10,20)"
   ]
  },
  {
   "cell_type": "code",
   "execution_count": 48,
   "id": "6895345c",
   "metadata": {},
   "outputs": [
    {
     "name": "stdout",
     "output_type": "stream",
     "text": [
      "30\n"
     ]
    }
   ],
   "source": [
    "result = myfunc(10,20)"
   ]
  },
  {
   "cell_type": "code",
   "execution_count": 49,
   "id": "4ad75279",
   "metadata": {},
   "outputs": [
    {
     "data": {
      "text/plain": [
       "30"
      ]
     },
     "execution_count": 49,
     "metadata": {},
     "output_type": "execute_result"
    }
   ],
   "source": [
    "result"
   ]
  },
  {
   "cell_type": "code",
   "execution_count": 54,
   "id": "dc7a9edc",
   "metadata": {},
   "outputs": [],
   "source": [
    "# another reminder\n",
    "# Python is dynamically typed\n",
    "# you don't have to specify what type of data the variables in functions will be\n",
    "# it's faster to program but it's easier to end up with a bug, like adding two strings\n",
    "# the \"+\" sign in the print statement will concatenate the two strings together\n",
    "\n",
    "def sum_numbers(num1,num2):\n",
    "    print(num1+num2)"
   ]
  },
  {
   "cell_type": "code",
   "execution_count": 55,
   "id": "58c67773",
   "metadata": {},
   "outputs": [
    {
     "name": "stdout",
     "output_type": "stream",
     "text": [
      "1020\n"
     ]
    }
   ],
   "source": [
    "sum_numbers('10','20')"
   ]
  },
  {
   "cell_type": "code",
   "execution_count": 56,
   "id": "41d8d298",
   "metadata": {},
   "outputs": [
    {
     "ename": "TypeError",
     "evalue": "can only concatenate str (not \"int\") to str",
     "output_type": "error",
     "traceback": [
      "\u001b[0;31m---------------------------------------------------------------------------\u001b[0m",
      "\u001b[0;31mTypeError\u001b[0m                                 Traceback (most recent call last)",
      "\u001b[0;32m/tmp/ipykernel_199423/337228674.py\u001b[0m in \u001b[0;36m<module>\u001b[0;34m\u001b[0m\n\u001b[0;32m----> 1\u001b[0;31m \u001b[0msum_numbers\u001b[0m\u001b[0;34m(\u001b[0m\u001b[0;34m'10'\u001b[0m\u001b[0;34m,\u001b[0m\u001b[0;36m20\u001b[0m\u001b[0;34m)\u001b[0m\u001b[0;34m\u001b[0m\u001b[0;34m\u001b[0m\u001b[0m\n\u001b[0m",
      "\u001b[0;32m/tmp/ipykernel_199423/578963993.py\u001b[0m in \u001b[0;36msum_numbers\u001b[0;34m(num1, num2)\u001b[0m\n\u001b[1;32m      6\u001b[0m \u001b[0;34m\u001b[0m\u001b[0m\n\u001b[1;32m      7\u001b[0m \u001b[0;32mdef\u001b[0m \u001b[0msum_numbers\u001b[0m\u001b[0;34m(\u001b[0m\u001b[0mnum1\u001b[0m\u001b[0;34m,\u001b[0m\u001b[0mnum2\u001b[0m\u001b[0;34m)\u001b[0m\u001b[0;34m:\u001b[0m\u001b[0;34m\u001b[0m\u001b[0;34m\u001b[0m\u001b[0m\n\u001b[0;32m----> 8\u001b[0;31m     \u001b[0mprint\u001b[0m\u001b[0;34m(\u001b[0m\u001b[0mnum1\u001b[0m\u001b[0;34m+\u001b[0m\u001b[0mnum2\u001b[0m\u001b[0;34m)\u001b[0m\u001b[0;34m\u001b[0m\u001b[0;34m\u001b[0m\u001b[0m\n\u001b[0m",
      "\u001b[0;31mTypeError\u001b[0m: can only concatenate str (not \"int\") to str"
     ]
    }
   ],
   "source": [
    "sum_numbers('10',20)"
   ]
  },
  {
   "cell_type": "code",
   "execution_count": 57,
   "id": "73109954",
   "metadata": {},
   "outputs": [],
   "source": [
    "# it's a good idea to check the type of data if the user is interacting with the function"
   ]
  },
  {
   "cell_type": "markdown",
   "id": "5c5556ee",
   "metadata": {},
   "source": [
    "<strong>45 - Logic with Python Functions</strong>"
   ]
  },
  {
   "cell_type": "code",
   "execution_count": 58,
   "id": "2091a047",
   "metadata": {},
   "outputs": [
    {
     "data": {
      "text/plain": [
       "0"
      ]
     },
     "execution_count": 58,
     "metadata": {},
     "output_type": "execute_result"
    }
   ],
   "source": [
    "2 % 2"
   ]
  },
  {
   "cell_type": "code",
   "execution_count": 59,
   "id": "0e5285ff",
   "metadata": {},
   "outputs": [
    {
     "data": {
      "text/plain": [
       "0"
      ]
     },
     "execution_count": 59,
     "metadata": {},
     "output_type": "execute_result"
    }
   ],
   "source": [
    "2%2"
   ]
  },
  {
   "cell_type": "code",
   "execution_count": 60,
   "id": "d8245db6",
   "metadata": {},
   "outputs": [],
   "source": [
    "# rember the % mod operator returns the remainder\n",
    "# so 2 % 2 returns the remainder of 2 divided by 2"
   ]
  },
  {
   "cell_type": "code",
   "execution_count": 61,
   "id": "8039f415",
   "metadata": {},
   "outputs": [
    {
     "data": {
      "text/plain": [
       "0"
      ]
     },
     "execution_count": 61,
     "metadata": {},
     "output_type": "execute_result"
    }
   ],
   "source": [
    "# so\n",
    "2 % 2\n",
    "# returns zero and means that 2 is an even number"
   ]
  },
  {
   "cell_type": "code",
   "execution_count": 62,
   "id": "1e6ff328",
   "metadata": {},
   "outputs": [],
   "source": [
    "# function to check if a number is even\n",
    "\n",
    "def even_check(number):\n",
    "    result = number % 2 == 0\n",
    "    # this says either:\n",
    "    # - True, the number is evenly divisable by 2, meaning it is an even number\n",
    "    # - False, the number is NOT evenly divisable by 2\n",
    "    return result"
   ]
  },
  {
   "cell_type": "code",
   "execution_count": 63,
   "id": "92b55c63",
   "metadata": {},
   "outputs": [
    {
     "data": {
      "text/plain": [
       "False"
      ]
     },
     "execution_count": 63,
     "metadata": {},
     "output_type": "execute_result"
    }
   ],
   "source": [
    "even_check(41)"
   ]
  },
  {
   "cell_type": "code",
   "execution_count": 64,
   "id": "78bc1ab7",
   "metadata": {},
   "outputs": [
    {
     "data": {
      "text/plain": [
       "True"
      ]
     },
     "execution_count": 64,
     "metadata": {},
     "output_type": "execute_result"
    }
   ],
   "source": [
    "even_check(42)"
   ]
  },
  {
   "cell_type": "code",
   "execution_count": 65,
   "id": "c7bee086",
   "metadata": {},
   "outputs": [],
   "source": [
    "# you don't need to assign the operation to a variable and return the variable\n",
    "# just do the operation as you return the result\n",
    "\n",
    "def even_check(num):\n",
    "    return num % 2 == 0"
   ]
  },
  {
   "cell_type": "code",
   "execution_count": 66,
   "id": "a75e1ce1",
   "metadata": {},
   "outputs": [
    {
     "data": {
      "text/plain": [
       "True"
      ]
     },
     "execution_count": 66,
     "metadata": {},
     "output_type": "execute_result"
    }
   ],
   "source": [
    "even_check(1234)"
   ]
  },
  {
   "cell_type": "code",
   "execution_count": 67,
   "id": "fd5840a5",
   "metadata": {},
   "outputs": [],
   "source": [
    "# return True if a number is even inside a list\n",
    "\n",
    "def check_even_list(num_list):\n",
    "    \n",
    "    # need to loop through the list\n",
    "    for number in num_list:\n",
    "        if number % 2 == 0:\n",
    "            return True\n",
    "        else:\n",
    "            pass # remember pass means don't do anything\n",
    "    "
   ]
  },
  {
   "cell_type": "code",
   "execution_count": 68,
   "id": "63d96608",
   "metadata": {},
   "outputs": [],
   "source": [
    "check_even_list([1,3,5])"
   ]
  },
  {
   "cell_type": "code",
   "execution_count": 70,
   "id": "e4d01f89",
   "metadata": {},
   "outputs": [
    {
     "data": {
      "text/plain": [
       "True"
      ]
     },
     "execution_count": 70,
     "metadata": {},
     "output_type": "execute_result"
    }
   ],
   "source": [
    "check_even_list([2,3,5,7,2])"
   ]
  },
  {
   "cell_type": "code",
   "execution_count": 71,
   "id": "2fe0800b",
   "metadata": {},
   "outputs": [],
   "source": [
    "# return True if a number is even inside a list\n",
    "# this time return False if there is no even number\n",
    "\n",
    "def check_even_list(num_list):\n",
    "    \n",
    "    # need to loop through the list\n",
    "    for number in num_list:\n",
    "        if number % 2 == 0:\n",
    "            return True\n",
    "        else:\n",
    "            pass # remember pass means don't do anything\n",
    "    # You've just looped through every number in the list\n",
    "    # Had there been an even number, it would have stopped the loop and exited the function\n",
    "    return False"
   ]
  },
  {
   "cell_type": "code",
   "execution_count": 72,
   "id": "849a1856",
   "metadata": {},
   "outputs": [
    {
     "data": {
      "text/plain": [
       "False"
      ]
     },
     "execution_count": 72,
     "metadata": {},
     "output_type": "execute_result"
    }
   ],
   "source": [
    "check_even_list([1,3,5])"
   ]
  },
  {
   "cell_type": "code",
   "execution_count": 73,
   "id": "03cc322a",
   "metadata": {},
   "outputs": [
    {
     "data": {
      "text/plain": [
       "True"
      ]
     },
     "execution_count": 73,
     "metadata": {},
     "output_type": "execute_result"
    }
   ],
   "source": [
    "check_even_list([2,3,5,7,2])"
   ]
  },
  {
   "cell_type": "code",
   "execution_count": 77,
   "id": "0bc5bce0",
   "metadata": {},
   "outputs": [],
   "source": [
    "# return all the even numbers in a list as a list\n",
    "\n",
    "# placeholder variables\n",
    "# it is common to define the placeholder variables at the top of the function\n",
    "even_numbers = []\n",
    "\n",
    "def return_even_list(num_list):\n",
    "    for number in num_list:\n",
    "        if number % 2 == 0:\n",
    "            even_numbers.append(number)\n",
    "        else:\n",
    "            pass\n",
    "    return even_numbers"
   ]
  },
  {
   "cell_type": "code",
   "execution_count": 78,
   "id": "2780ad36",
   "metadata": {},
   "outputs": [
    {
     "data": {
      "text/plain": [
       "[2, 4, 6, 8]"
      ]
     },
     "execution_count": 78,
     "metadata": {},
     "output_type": "execute_result"
    }
   ],
   "source": [
    "return_even_list([1,2,3,4,5,6,7,8])"
   ]
  },
  {
   "cell_type": "markdown",
   "id": "e6abd170",
   "metadata": {},
   "source": [
    "<strong>46 - Tuple Unpacking with Python Function</strong>"
   ]
  },
  {
   "cell_type": "code",
   "execution_count": null,
   "id": "733adf3d",
   "metadata": {},
   "outputs": [],
   "source": []
  }
 ],
 "metadata": {
  "kernelspec": {
   "display_name": "Python 3 (ipykernel)",
   "language": "python",
   "name": "python3"
  },
  "language_info": {
   "codemirror_mode": {
    "name": "ipython",
    "version": 3
   },
   "file_extension": ".py",
   "mimetype": "text/x-python",
   "name": "python",
   "nbconvert_exporter": "python",
   "pygments_lexer": "ipython3",
   "version": "3.9.13"
  }
 },
 "nbformat": 4,
 "nbformat_minor": 5
}
