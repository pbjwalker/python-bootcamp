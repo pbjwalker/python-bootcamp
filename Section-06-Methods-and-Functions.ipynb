{
 "cells": [
  {
   "cell_type": "code",
   "execution_count": 1,
   "id": "ce38fad3",
   "metadata": {},
   "outputs": [],
   "source": [
    "# Section 6: Methods and Functions"
   ]
  },
  {
   "cell_type": "markdown",
   "id": "c98f4cbe",
   "metadata": {},
   "source": [
    "<strong>41 - Methods and the Python Documentation</strong>"
   ]
  },
  {
   "cell_type": "code",
   "execution_count": 31,
   "id": "16117c59",
   "metadata": {},
   "outputs": [],
   "source": [
    "mylist = [1,2,3]"
   ]
  },
  {
   "cell_type": "code",
   "execution_count": 32,
   "id": "791ac6d3",
   "metadata": {},
   "outputs": [],
   "source": [
    "mylist.append(4)"
   ]
  },
  {
   "cell_type": "code",
   "execution_count": 33,
   "id": "fd93cdda",
   "metadata": {},
   "outputs": [
    {
     "data": {
      "text/plain": [
       "[1, 2, 3, 4]"
      ]
     },
     "execution_count": 33,
     "metadata": {},
     "output_type": "execute_result"
    }
   ],
   "source": [
    "mylist"
   ]
  },
  {
   "cell_type": "code",
   "execution_count": 34,
   "id": "a2c37acf",
   "metadata": {},
   "outputs": [
    {
     "data": {
      "text/plain": [
       "4"
      ]
     },
     "execution_count": 34,
     "metadata": {},
     "output_type": "execute_result"
    }
   ],
   "source": [
    "mylist.pop()"
   ]
  },
  {
   "cell_type": "code",
   "execution_count": 35,
   "id": "492f6d15",
   "metadata": {},
   "outputs": [
    {
     "data": {
      "text/plain": [
       "[1, 2, 3]"
      ]
     },
     "execution_count": 35,
     "metadata": {},
     "output_type": "execute_result"
    }
   ],
   "source": [
    "mylist"
   ]
  },
  {
   "cell_type": "code",
   "execution_count": 36,
   "id": "05149e87",
   "metadata": {},
   "outputs": [],
   "source": [
    "mylist.append(10)"
   ]
  },
  {
   "cell_type": "code",
   "execution_count": 37,
   "id": "9525b595",
   "metadata": {},
   "outputs": [
    {
     "data": {
      "text/plain": [
       "[1, 2, 3, 10]"
      ]
     },
     "execution_count": 37,
     "metadata": {},
     "output_type": "execute_result"
    }
   ],
   "source": [
    "mylist"
   ]
  },
  {
   "cell_type": "code",
   "execution_count": 38,
   "id": "1abcf761",
   "metadata": {},
   "outputs": [],
   "source": [
    "popped_off = mylist.pop()"
   ]
  },
  {
   "cell_type": "code",
   "execution_count": 39,
   "id": "48e603eb",
   "metadata": {},
   "outputs": [
    {
     "data": {
      "text/plain": [
       "10"
      ]
     },
     "execution_count": 39,
     "metadata": {},
     "output_type": "execute_result"
    }
   ],
   "source": [
    "popped_off"
   ]
  },
  {
   "cell_type": "code",
   "execution_count": 40,
   "id": "d356e8f0",
   "metadata": {},
   "outputs": [
    {
     "data": {
      "text/plain": [
       "[1, 2, 3]"
      ]
     },
     "execution_count": 40,
     "metadata": {},
     "output_type": "execute_result"
    }
   ],
   "source": [
    "mylist"
   ]
  },
  {
   "cell_type": "code",
   "execution_count": 41,
   "id": "477f9b92",
   "metadata": {},
   "outputs": [],
   "source": [
    "# In this case, the list mylist is an object.\n",
    "# Once you define an object. you can enter the name, a dot, and press tab.\n",
    "# This pops up a box to show you what methods are available to call on the object."
   ]
  },
  {
   "cell_type": "code",
   "execution_count": 42,
   "id": "edf431fd",
   "metadata": {},
   "outputs": [],
   "source": [
    "# Two ways to get Python to help you learn about a method.\n",
    "# Do the above and find a method you want info on.\n",
    "# In the Jupyter notebook, you can enter it like this, and hit shift-tab for a small description\n",
    "# mylist.insert"
   ]
  },
  {
   "cell_type": "code",
   "execution_count": 43,
   "id": "375436d7",
   "metadata": {},
   "outputs": [
    {
     "name": "stdout",
     "output_type": "stream",
     "text": [
      "Help on built-in function insert:\n",
      "\n",
      "insert(index, object, /) method of builtins.list instance\n",
      "    Insert object before index.\n",
      "\n"
     ]
    }
   ],
   "source": [
    "# Outside of the Jupyter notebook, you can call the help() function\n",
    "help(mylist.insert)"
   ]
  },
  {
   "cell_type": "code",
   "execution_count": 45,
   "id": "f447b906",
   "metadata": {},
   "outputs": [],
   "source": [
    "# The other way is to go to the Python documentation site\n",
    "# https://docs.python.org\n",
    "# Go to the Library Reference section"
   ]
  },
  {
   "cell_type": "code",
   "execution_count": 46,
   "id": "0e111693",
   "metadata": {},
   "outputs": [],
   "source": [
    "# A lot of people go to Stackoverflow because it's more readable\n",
    "# https://stackoverflow.com/questions"
   ]
  },
  {
   "cell_type": "markdown",
   "id": "6050548e",
   "metadata": {},
   "source": [
    "<strong>42 - Introduction to Functions</strong>"
   ]
  },
  {
   "cell_type": "code",
   "execution_count": 1,
   "id": "58453c85",
   "metadata": {},
   "outputs": [],
   "source": [
    "# Remember: Creating clean, repeatable code is a key part of becoming an effectice programmer\n",
    "# Functions allow us to create blocks of code that can be easily executed may times, without needing to constantly write the entire block of code."
   ]
  },
  {
   "cell_type": "markdown",
   "id": "7eec7ab0",
   "metadata": {},
   "source": [
    "<strong>43 - def Keyword</strong>"
   ]
  },
  {
   "cell_type": "code",
   "execution_count": 2,
   "id": "e9e79b35",
   "metadata": {},
   "outputs": [],
   "source": [
    "# Creating a function requires a very specific syntax, including the def keyword, correct indentation, and proper structure.\n"
   ]
  },
  {
   "cell_type": "code",
   "execution_count": 12,
   "id": "77aaa819",
   "metadata": {},
   "outputs": [],
   "source": [
    "# function syntax\n",
    "#\n",
    "# def name_of_function():\n",
    "#    '''\n",
    "\n",
    "\n",
    "#    '''\n",
    "#    print(\"Hello\")"
   ]
  },
  {
   "cell_type": "code",
   "execution_count": 18,
   "id": "07391fd8",
   "metadata": {},
   "outputs": [],
   "source": [
    "# notice that the \"name_of_function():\" is written in snake casing\n",
    "# Snake casing is all lowercase with underscores between words\n",
    "# In general, by convention, Python uses snake casing for the name of the function\n",
    "# The parentheses at the end can contain arguments or parameters that are passed into the function.\n",
    "# The colon at the end indicates an upcoming indented block\n",
    "# The block between the triple quotes '''   ''' is the Docstring, which explains the function.\n",
    "# The Docstring is optional.  This code is not executed.  \n",
    "# In the example, \"print(\"Hello\")\" is the code that will be executed everytime you call the function\n",
    "# In most cases, use the \"return\" keyword to return the result of the function"
   ]
  },
  {
   "cell_type": "code",
   "execution_count": 13,
   "id": "6ffe9d7a",
   "metadata": {},
   "outputs": [],
   "source": [
    "def name_of_function(name):\n",
    "    '''This is a basic function'''\n",
    "    print(\"Hello \" + name)"
   ]
  },
  {
   "cell_type": "code",
   "execution_count": 15,
   "id": "de3cdeb3",
   "metadata": {},
   "outputs": [
    {
     "name": "stdout",
     "output_type": "stream",
     "text": [
      "Hello Paul\n"
     ]
    }
   ],
   "source": [
    "name_of_function(\"Paul\")"
   ]
  },
  {
   "cell_type": "code",
   "execution_count": 16,
   "id": "83bbec1f",
   "metadata": {},
   "outputs": [],
   "source": [
    "x = \"Trevor\""
   ]
  },
  {
   "cell_type": "code",
   "execution_count": 17,
   "id": "17a2b660",
   "metadata": {},
   "outputs": [
    {
     "name": "stdout",
     "output_type": "stream",
     "text": [
      "Hello Trevor\n"
     ]
    }
   ],
   "source": [
    "name_of_function(x)"
   ]
  },
  {
   "cell_type": "code",
   "execution_count": 19,
   "id": "6f787ba0",
   "metadata": {},
   "outputs": [],
   "source": [
    "# another example:\n",
    "\n",
    "# def add_function(num1,num2):\n",
    "#    return num1 + num2"
   ]
  },
  {
   "cell_type": "code",
   "execution_count": 20,
   "id": "297208a8",
   "metadata": {},
   "outputs": [],
   "source": [
    "def add_function(num1,num2):\n",
    "    return num1+num2"
   ]
  },
  {
   "cell_type": "code",
   "execution_count": 21,
   "id": "b892e758",
   "metadata": {},
   "outputs": [],
   "source": [
    "result = add_function(1,2)"
   ]
  },
  {
   "cell_type": "code",
   "execution_count": 22,
   "id": "f268d557",
   "metadata": {},
   "outputs": [
    {
     "data": {
      "text/plain": [
       "3"
      ]
     },
     "execution_count": 22,
     "metadata": {},
     "output_type": "execute_result"
    }
   ],
   "source": [
    "result"
   ]
  },
  {
   "cell_type": "code",
   "execution_count": 23,
   "id": "ada2cefd",
   "metadata": {},
   "outputs": [],
   "source": [
    "# Using return allows you to save the result as a variable\n",
    "# Just using a print statement inside the function does not"
   ]
  },
  {
   "cell_type": "code",
   "execution_count": 24,
   "id": "07467b45",
   "metadata": {},
   "outputs": [],
   "source": [
    "def does_it_save(printthis):\n",
    "    print(\"My string is \" + printthis)"
   ]
  },
  {
   "cell_type": "code",
   "execution_count": 25,
   "id": "9194a9bd",
   "metadata": {},
   "outputs": [
    {
     "name": "stdout",
     "output_type": "stream",
     "text": [
      "My string is Don't think so\n"
     ]
    }
   ],
   "source": [
    "myresult = does_it_save(\"Don't think so\")"
   ]
  },
  {
   "cell_type": "code",
   "execution_count": 26,
   "id": "85b83af8",
   "metadata": {},
   "outputs": [],
   "source": [
    "myresult"
   ]
  },
  {
   "cell_type": "code",
   "execution_count": 27,
   "id": "0f132bd2",
   "metadata": {},
   "outputs": [
    {
     "name": "stdout",
     "output_type": "stream",
     "text": [
      "None\n"
     ]
    }
   ],
   "source": [
    "print(myresult)"
   ]
  },
  {
   "cell_type": "markdown",
   "id": "7ab75761",
   "metadata": {},
   "source": [
    "<strong>44 - Basics of Python Functions</strong>"
   ]
  },
  {
   "cell_type": "code",
   "execution_count": 28,
   "id": "7bec29d5",
   "metadata": {},
   "outputs": [],
   "source": [
    "def say_hello():\n",
    "    print(\"Hello\")"
   ]
  },
  {
   "cell_type": "code",
   "execution_count": 30,
   "id": "6682a5be",
   "metadata": {},
   "outputs": [
    {
     "name": "stdout",
     "output_type": "stream",
     "text": [
      "Hello\n"
     ]
    }
   ],
   "source": [
    "say_hello()"
   ]
  },
  {
   "cell_type": "code",
   "execution_count": 31,
   "id": "26e29507",
   "metadata": {},
   "outputs": [
    {
     "data": {
      "text/plain": [
       "<function __main__.say_hello()>"
      ]
     },
     "execution_count": 31,
     "metadata": {},
     "output_type": "execute_result"
    }
   ],
   "source": [
    "say_hello"
   ]
  },
  {
   "cell_type": "code",
   "execution_count": 32,
   "id": "f6db4b60",
   "metadata": {},
   "outputs": [],
   "source": [
    "def say_hello(name):\n",
    "    print(f\"Hello {name}\")"
   ]
  },
  {
   "cell_type": "code",
   "execution_count": 33,
   "id": "c5401416",
   "metadata": {},
   "outputs": [
    {
     "name": "stdout",
     "output_type": "stream",
     "text": [
      "Hello paul\n"
     ]
    }
   ],
   "source": [
    "say_hello(\"paul\")"
   ]
  },
  {
   "cell_type": "code",
   "execution_count": 34,
   "id": "a65854d6",
   "metadata": {},
   "outputs": [
    {
     "ename": "TypeError",
     "evalue": "say_hello() missing 1 required positional argument: 'name'",
     "output_type": "error",
     "traceback": [
      "\u001b[0;31m---------------------------------------------------------------------------\u001b[0m",
      "\u001b[0;31mTypeError\u001b[0m                                 Traceback (most recent call last)",
      "\u001b[0;32m/tmp/ipykernel_199423/2814888808.py\u001b[0m in \u001b[0;36m<module>\u001b[0;34m\u001b[0m\n\u001b[0;32m----> 1\u001b[0;31m \u001b[0msay_hello\u001b[0m\u001b[0;34m(\u001b[0m\u001b[0;34m)\u001b[0m\u001b[0;34m\u001b[0m\u001b[0;34m\u001b[0m\u001b[0m\n\u001b[0m",
      "\u001b[0;31mTypeError\u001b[0m: say_hello() missing 1 required positional argument: 'name'"
     ]
    }
   ],
   "source": [
    "say_hello()"
   ]
  },
  {
   "cell_type": "code",
   "execution_count": 35,
   "id": "2b529a40",
   "metadata": {},
   "outputs": [],
   "source": [
    "# Either provide a value when you call the function or provide a default value when you create the function."
   ]
  },
  {
   "cell_type": "code",
   "execution_count": 36,
   "id": "af37088b",
   "metadata": {},
   "outputs": [],
   "source": [
    "def say_hello(name='YOUR NAME HERE'):\n",
    "    print(f\"Hello {name}\")"
   ]
  },
  {
   "cell_type": "code",
   "execution_count": 37,
   "id": "821d7222",
   "metadata": {},
   "outputs": [
    {
     "name": "stdout",
     "output_type": "stream",
     "text": [
      "Hello YOUR NAME HERE\n"
     ]
    }
   ],
   "source": [
    "say_hello()"
   ]
  },
  {
   "cell_type": "code",
   "execution_count": 38,
   "id": "c24bffee",
   "metadata": {},
   "outputs": [],
   "source": [
    "# remember the return keyword allows you to assign the result to a variable\n",
    "def add_num(num1,num2):\n",
    "    return num1+num2"
   ]
  },
  {
   "cell_type": "code",
   "execution_count": 39,
   "id": "26df3540",
   "metadata": {},
   "outputs": [],
   "source": [
    "def print_result(a,b):\n",
    "    print(a+b)"
   ]
  },
  {
   "cell_type": "code",
   "execution_count": 42,
   "id": "6fcd757a",
   "metadata": {},
   "outputs": [
    {
     "name": "stdout",
     "output_type": "stream",
     "text": [
      "30\n"
     ]
    }
   ],
   "source": [
    "result = print_result(10,20)"
   ]
  },
  {
   "cell_type": "code",
   "execution_count": 43,
   "id": "0fe46a6a",
   "metadata": {},
   "outputs": [],
   "source": [
    "result"
   ]
  },
  {
   "cell_type": "code",
   "execution_count": 44,
   "id": "0cd248fb",
   "metadata": {},
   "outputs": [],
   "source": [
    "mynumber = add_num(10,20)"
   ]
  },
  {
   "cell_type": "code",
   "execution_count": 45,
   "id": "27e0f2c5",
   "metadata": {},
   "outputs": [
    {
     "data": {
      "text/plain": [
       "30"
      ]
     },
     "execution_count": 45,
     "metadata": {},
     "output_type": "execute_result"
    }
   ],
   "source": [
    "mynumber"
   ]
  },
  {
   "cell_type": "code",
   "execution_count": 46,
   "id": "84d88d32",
   "metadata": {},
   "outputs": [],
   "source": [
    "# this isn't real common\n",
    "# normally you either print or return\n",
    "def myfunc(a,b):\n",
    "    print(a+b)\n",
    "    return a+b"
   ]
  },
  {
   "cell_type": "code",
   "execution_count": 47,
   "id": "857364cc",
   "metadata": {},
   "outputs": [
    {
     "name": "stdout",
     "output_type": "stream",
     "text": [
      "30\n"
     ]
    },
    {
     "data": {
      "text/plain": [
       "30"
      ]
     },
     "execution_count": 47,
     "metadata": {},
     "output_type": "execute_result"
    }
   ],
   "source": [
    "myfunc(10,20)"
   ]
  },
  {
   "cell_type": "code",
   "execution_count": 48,
   "id": "6895345c",
   "metadata": {},
   "outputs": [
    {
     "name": "stdout",
     "output_type": "stream",
     "text": [
      "30\n"
     ]
    }
   ],
   "source": [
    "result = myfunc(10,20)"
   ]
  },
  {
   "cell_type": "code",
   "execution_count": 49,
   "id": "4ad75279",
   "metadata": {},
   "outputs": [
    {
     "data": {
      "text/plain": [
       "30"
      ]
     },
     "execution_count": 49,
     "metadata": {},
     "output_type": "execute_result"
    }
   ],
   "source": [
    "result"
   ]
  },
  {
   "cell_type": "code",
   "execution_count": 54,
   "id": "dc7a9edc",
   "metadata": {},
   "outputs": [],
   "source": [
    "# another reminder\n",
    "# Python is dynamically typed\n",
    "# you don't have to specify what type of data the variables in functions will be\n",
    "# it's faster to program but it's easier to end up with a bug, like adding two strings\n",
    "# the \"+\" sign in the print statement will concatenate the two strings together\n",
    "\n",
    "def sum_numbers(num1,num2):\n",
    "    print(num1+num2)"
   ]
  },
  {
   "cell_type": "code",
   "execution_count": 55,
   "id": "58c67773",
   "metadata": {},
   "outputs": [
    {
     "name": "stdout",
     "output_type": "stream",
     "text": [
      "1020\n"
     ]
    }
   ],
   "source": [
    "sum_numbers('10','20')"
   ]
  },
  {
   "cell_type": "code",
   "execution_count": 56,
   "id": "41d8d298",
   "metadata": {},
   "outputs": [
    {
     "ename": "TypeError",
     "evalue": "can only concatenate str (not \"int\") to str",
     "output_type": "error",
     "traceback": [
      "\u001b[0;31m---------------------------------------------------------------------------\u001b[0m",
      "\u001b[0;31mTypeError\u001b[0m                                 Traceback (most recent call last)",
      "\u001b[0;32m/tmp/ipykernel_199423/337228674.py\u001b[0m in \u001b[0;36m<module>\u001b[0;34m\u001b[0m\n\u001b[0;32m----> 1\u001b[0;31m \u001b[0msum_numbers\u001b[0m\u001b[0;34m(\u001b[0m\u001b[0;34m'10'\u001b[0m\u001b[0;34m,\u001b[0m\u001b[0;36m20\u001b[0m\u001b[0;34m)\u001b[0m\u001b[0;34m\u001b[0m\u001b[0;34m\u001b[0m\u001b[0m\n\u001b[0m",
      "\u001b[0;32m/tmp/ipykernel_199423/578963993.py\u001b[0m in \u001b[0;36msum_numbers\u001b[0;34m(num1, num2)\u001b[0m\n\u001b[1;32m      6\u001b[0m \u001b[0;34m\u001b[0m\u001b[0m\n\u001b[1;32m      7\u001b[0m \u001b[0;32mdef\u001b[0m \u001b[0msum_numbers\u001b[0m\u001b[0;34m(\u001b[0m\u001b[0mnum1\u001b[0m\u001b[0;34m,\u001b[0m\u001b[0mnum2\u001b[0m\u001b[0;34m)\u001b[0m\u001b[0;34m:\u001b[0m\u001b[0;34m\u001b[0m\u001b[0;34m\u001b[0m\u001b[0m\n\u001b[0;32m----> 8\u001b[0;31m     \u001b[0mprint\u001b[0m\u001b[0;34m(\u001b[0m\u001b[0mnum1\u001b[0m\u001b[0;34m+\u001b[0m\u001b[0mnum2\u001b[0m\u001b[0;34m)\u001b[0m\u001b[0;34m\u001b[0m\u001b[0;34m\u001b[0m\u001b[0m\n\u001b[0m",
      "\u001b[0;31mTypeError\u001b[0m: can only concatenate str (not \"int\") to str"
     ]
    }
   ],
   "source": [
    "sum_numbers('10',20)"
   ]
  },
  {
   "cell_type": "code",
   "execution_count": 57,
   "id": "73109954",
   "metadata": {},
   "outputs": [],
   "source": [
    "# it's a good idea to check the type of data if the user is interacting with the function"
   ]
  },
  {
   "cell_type": "markdown",
   "id": "5c5556ee",
   "metadata": {},
   "source": [
    "<strong>45 - Logic with Python Functions</strong>"
   ]
  },
  {
   "cell_type": "code",
   "execution_count": 58,
   "id": "2091a047",
   "metadata": {},
   "outputs": [
    {
     "data": {
      "text/plain": [
       "0"
      ]
     },
     "execution_count": 58,
     "metadata": {},
     "output_type": "execute_result"
    }
   ],
   "source": [
    "2 % 2"
   ]
  },
  {
   "cell_type": "code",
   "execution_count": 59,
   "id": "0e5285ff",
   "metadata": {},
   "outputs": [
    {
     "data": {
      "text/plain": [
       "0"
      ]
     },
     "execution_count": 59,
     "metadata": {},
     "output_type": "execute_result"
    }
   ],
   "source": [
    "2%2"
   ]
  },
  {
   "cell_type": "code",
   "execution_count": 60,
   "id": "d8245db6",
   "metadata": {},
   "outputs": [],
   "source": [
    "# rember the % mod operator returns the remainder\n",
    "# so 2 % 2 returns the remainder of 2 divided by 2"
   ]
  },
  {
   "cell_type": "code",
   "execution_count": 61,
   "id": "8039f415",
   "metadata": {},
   "outputs": [
    {
     "data": {
      "text/plain": [
       "0"
      ]
     },
     "execution_count": 61,
     "metadata": {},
     "output_type": "execute_result"
    }
   ],
   "source": [
    "# so\n",
    "2 % 2\n",
    "# returns zero and means that 2 is an even number"
   ]
  },
  {
   "cell_type": "code",
   "execution_count": 62,
   "id": "1e6ff328",
   "metadata": {},
   "outputs": [],
   "source": [
    "# function to check if a number is even\n",
    "\n",
    "def even_check(number):\n",
    "    result = number % 2 == 0\n",
    "    # this says either:\n",
    "    # - True, the number is evenly divisable by 2, meaning it is an even number\n",
    "    # - False, the number is NOT evenly divisable by 2\n",
    "    return result"
   ]
  },
  {
   "cell_type": "code",
   "execution_count": 63,
   "id": "92b55c63",
   "metadata": {},
   "outputs": [
    {
     "data": {
      "text/plain": [
       "False"
      ]
     },
     "execution_count": 63,
     "metadata": {},
     "output_type": "execute_result"
    }
   ],
   "source": [
    "even_check(41)"
   ]
  },
  {
   "cell_type": "code",
   "execution_count": 64,
   "id": "78bc1ab7",
   "metadata": {},
   "outputs": [
    {
     "data": {
      "text/plain": [
       "True"
      ]
     },
     "execution_count": 64,
     "metadata": {},
     "output_type": "execute_result"
    }
   ],
   "source": [
    "even_check(42)"
   ]
  },
  {
   "cell_type": "code",
   "execution_count": 65,
   "id": "c7bee086",
   "metadata": {},
   "outputs": [],
   "source": [
    "# you don't need to assign the operation to a variable and return the variable\n",
    "# just do the operation as you return the result\n",
    "\n",
    "def even_check(num):\n",
    "    return num % 2 == 0"
   ]
  },
  {
   "cell_type": "code",
   "execution_count": 66,
   "id": "a75e1ce1",
   "metadata": {},
   "outputs": [
    {
     "data": {
      "text/plain": [
       "True"
      ]
     },
     "execution_count": 66,
     "metadata": {},
     "output_type": "execute_result"
    }
   ],
   "source": [
    "even_check(1234)"
   ]
  },
  {
   "cell_type": "code",
   "execution_count": 67,
   "id": "fd5840a5",
   "metadata": {},
   "outputs": [],
   "source": [
    "# return True if a number is even inside a list\n",
    "\n",
    "def check_even_list(num_list):\n",
    "    \n",
    "    # need to loop through the list\n",
    "    for number in num_list:\n",
    "        if number % 2 == 0:\n",
    "            return True\n",
    "        else:\n",
    "            pass # remember pass means don't do anything\n",
    "    "
   ]
  },
  {
   "cell_type": "code",
   "execution_count": 68,
   "id": "63d96608",
   "metadata": {},
   "outputs": [],
   "source": [
    "check_even_list([1,3,5])"
   ]
  },
  {
   "cell_type": "code",
   "execution_count": 70,
   "id": "e4d01f89",
   "metadata": {},
   "outputs": [
    {
     "data": {
      "text/plain": [
       "True"
      ]
     },
     "execution_count": 70,
     "metadata": {},
     "output_type": "execute_result"
    }
   ],
   "source": [
    "check_even_list([2,3,5,7,2])"
   ]
  },
  {
   "cell_type": "code",
   "execution_count": 71,
   "id": "2fe0800b",
   "metadata": {},
   "outputs": [],
   "source": [
    "# return True if a number is even inside a list\n",
    "# this time return False if there is no even number\n",
    "\n",
    "def check_even_list(num_list):\n",
    "    \n",
    "    # need to loop through the list\n",
    "    for number in num_list:\n",
    "        if number % 2 == 0:\n",
    "            return True\n",
    "        else:\n",
    "            pass # remember pass means don't do anything\n",
    "    # You've just looped through every number in the list\n",
    "    # Had there been an even number, it would have stopped the loop and exited the function\n",
    "    return False"
   ]
  },
  {
   "cell_type": "code",
   "execution_count": 72,
   "id": "849a1856",
   "metadata": {},
   "outputs": [
    {
     "data": {
      "text/plain": [
       "False"
      ]
     },
     "execution_count": 72,
     "metadata": {},
     "output_type": "execute_result"
    }
   ],
   "source": [
    "check_even_list([1,3,5])"
   ]
  },
  {
   "cell_type": "code",
   "execution_count": 73,
   "id": "03cc322a",
   "metadata": {},
   "outputs": [
    {
     "data": {
      "text/plain": [
       "True"
      ]
     },
     "execution_count": 73,
     "metadata": {},
     "output_type": "execute_result"
    }
   ],
   "source": [
    "check_even_list([2,3,5,7,2])"
   ]
  },
  {
   "cell_type": "code",
   "execution_count": 77,
   "id": "0bc5bce0",
   "metadata": {},
   "outputs": [],
   "source": [
    "# return all the even numbers in a list as a list\n",
    "\n",
    "# placeholder variables\n",
    "# it is common to define the placeholder variables at the top of the function\n",
    "even_numbers = []\n",
    "\n",
    "def return_even_list(num_list):\n",
    "    for number in num_list:\n",
    "        if number % 2 == 0:\n",
    "            even_numbers.append(number)\n",
    "        else:\n",
    "            pass\n",
    "    return even_numbers"
   ]
  },
  {
   "cell_type": "code",
   "execution_count": 78,
   "id": "2780ad36",
   "metadata": {},
   "outputs": [
    {
     "data": {
      "text/plain": [
       "[2, 4, 6, 8]"
      ]
     },
     "execution_count": 78,
     "metadata": {},
     "output_type": "execute_result"
    }
   ],
   "source": [
    "return_even_list([1,2,3,4,5,6,7,8])"
   ]
  },
  {
   "cell_type": "markdown",
   "id": "e6abd170",
   "metadata": {},
   "source": [
    "<strong>46 - Tuple Unpacking with Python Function</strong>"
   ]
  },
  {
   "cell_type": "code",
   "execution_count": 1,
   "id": "733adf3d",
   "metadata": {},
   "outputs": [],
   "source": [
    "# We can return multiple values from a function.\n",
    "# Remember you can loop through a list of tuples and unpack the values within them."
   ]
  },
  {
   "cell_type": "code",
   "execution_count": 2,
   "id": "3a0e2313",
   "metadata": {},
   "outputs": [],
   "source": [
    "# sample list of tuples\n",
    "\n",
    "stock_prices = [('APPL',200),('GOOG',400),('MSFT',100)]"
   ]
  },
  {
   "cell_type": "code",
   "execution_count": 3,
   "id": "ed3e5822",
   "metadata": {},
   "outputs": [
    {
     "data": {
      "text/plain": [
       "list"
      ]
     },
     "execution_count": 3,
     "metadata": {},
     "output_type": "execute_result"
    }
   ],
   "source": [
    "type(stock_prices)"
   ]
  },
  {
   "cell_type": "code",
   "execution_count": 4,
   "id": "3851233c",
   "metadata": {},
   "outputs": [
    {
     "data": {
      "text/plain": [
       "tuple"
      ]
     },
     "execution_count": 4,
     "metadata": {},
     "output_type": "execute_result"
    }
   ],
   "source": [
    "type(stock_prices[0])"
   ]
  },
  {
   "cell_type": "code",
   "execution_count": 6,
   "id": "62b21054",
   "metadata": {},
   "outputs": [
    {
     "data": {
      "text/plain": [
       "str"
      ]
     },
     "execution_count": 6,
     "metadata": {},
     "output_type": "execute_result"
    }
   ],
   "source": [
    "type(stock_prices[0][0])"
   ]
  },
  {
   "cell_type": "code",
   "execution_count": 7,
   "id": "6128f516",
   "metadata": {},
   "outputs": [
    {
     "data": {
      "text/plain": [
       "'APPL'"
      ]
     },
     "execution_count": 7,
     "metadata": {},
     "output_type": "execute_result"
    }
   ],
   "source": [
    "stock_prices[0][0]"
   ]
  },
  {
   "cell_type": "code",
   "execution_count": 8,
   "id": "9eaccd50",
   "metadata": {},
   "outputs": [
    {
     "name": "stdout",
     "output_type": "stream",
     "text": [
      "('APPL', 200)\n",
      "('GOOG', 400)\n",
      "('MSFT', 100)\n"
     ]
    }
   ],
   "source": [
    "for item in stock_prices:\n",
    "    print(item)"
   ]
  },
  {
   "cell_type": "code",
   "execution_count": 9,
   "id": "6df30920",
   "metadata": {},
   "outputs": [
    {
     "name": "stdout",
     "output_type": "stream",
     "text": [
      "APPL\n",
      "200\n"
     ]
    }
   ],
   "source": [
    "for item in stock_prices[0]:\n",
    "    print(item)"
   ]
  },
  {
   "cell_type": "code",
   "execution_count": 13,
   "id": "d2a2f3f2",
   "metadata": {},
   "outputs": [
    {
     "name": "stdout",
     "output_type": "stream",
     "text": [
      "Stock: APPL   Current Price: 200   10% Increase: 220.0\n",
      "Stock: GOOG   Current Price: 400   10% Increase: 440.0\n",
      "Stock: MSFT   Current Price: 100   10% Increase: 110.0\n"
     ]
    }
   ],
   "source": [
    "# using tuple unpacking in a for loop\n",
    "for ticker,price in stock_prices:\n",
    "    print(f'Stock: {ticker}   Current Price: {price}   10% Increase: {price+(0.1*price)}')"
   ]
  },
  {
   "cell_type": "code",
   "execution_count": 14,
   "id": "143b4eb2",
   "metadata": {},
   "outputs": [],
   "source": [
    "# Using tuple unpacking in a function.\n",
    "# A function can return things as tuples, and then unpack the results from the function."
   ]
  },
  {
   "cell_type": "code",
   "execution_count": 15,
   "id": "e6004451",
   "metadata": {},
   "outputs": [],
   "source": [
    "work_hours = [('Abby',100),('Billy',400),('Cassie',800)]"
   ]
  },
  {
   "cell_type": "code",
   "execution_count": 17,
   "id": "c4b556e2",
   "metadata": {},
   "outputs": [],
   "source": [
    "# find who's the employee of the year, meaning who worked the most hours"
   ]
  },
  {
   "cell_type": "code",
   "execution_count": 30,
   "id": "69b3955b",
   "metadata": {},
   "outputs": [],
   "source": [
    "def employee_check(work_hours):\n",
    "    \n",
    "    # two placeholder variables\n",
    "    current_max = 0  # this the current max hours\n",
    "    employee_of_month = ''\n",
    "    \n",
    "    # iterate through checking each employee's hours against the current_max\n",
    "    # if the employee worked more than the current_max,\n",
    "    # update current_max with their hours and make their name employee_of_month\n",
    "    \n",
    "    # now unpack the tuple\n",
    "    for employee,hours in work_hours:\n",
    "        if hours > current_max:\n",
    "            current_max = hours\n",
    "            employee_of_month = employee\n",
    "        else:\n",
    "            pass\n",
    "    \n",
    "    # At the end I plan to return a tuple like this:\n",
    "    return (employee_of_month,current_max)\n"
   ]
  },
  {
   "cell_type": "code",
   "execution_count": 31,
   "id": "0205b549",
   "metadata": {},
   "outputs": [
    {
     "data": {
      "text/plain": [
       "('Billy', 4000)"
      ]
     },
     "execution_count": 31,
     "metadata": {},
     "output_type": "execute_result"
    }
   ],
   "source": [
    "employee_check([('Abby',100),('Billy',4000),('Cassie',800)])"
   ]
  },
  {
   "cell_type": "code",
   "execution_count": 32,
   "id": "3048f27c",
   "metadata": {},
   "outputs": [],
   "source": [
    "result = employee_check(work_hours)"
   ]
  },
  {
   "cell_type": "code",
   "execution_count": 33,
   "id": "803f698f",
   "metadata": {},
   "outputs": [
    {
     "data": {
      "text/plain": [
       "('Cassie', 800)"
      ]
     },
     "execution_count": 33,
     "metadata": {},
     "output_type": "execute_result"
    }
   ],
   "source": [
    "result"
   ]
  },
  {
   "cell_type": "code",
   "execution_count": 40,
   "id": "e1cb0df9",
   "metadata": {},
   "outputs": [],
   "source": [
    "# But watch this...\n",
    "# You can also use tuple unpacking on the result when you call the function\n",
    "\n",
    "name,hours = employee_check(work_hours)"
   ]
  },
  {
   "cell_type": "code",
   "execution_count": 41,
   "id": "d70a2e0a",
   "metadata": {},
   "outputs": [
    {
     "data": {
      "text/plain": [
       "'Cassie'"
      ]
     },
     "execution_count": 41,
     "metadata": {},
     "output_type": "execute_result"
    }
   ],
   "source": [
    "name"
   ]
  },
  {
   "cell_type": "code",
   "execution_count": 42,
   "id": "090f594e",
   "metadata": {},
   "outputs": [
    {
     "data": {
      "text/plain": [
       "800"
      ]
     },
     "execution_count": 42,
     "metadata": {},
     "output_type": "execute_result"
    }
   ],
   "source": [
    "hours"
   ]
  },
  {
   "cell_type": "code",
   "execution_count": 43,
   "id": "3c23828a",
   "metadata": {},
   "outputs": [
    {
     "data": {
      "text/plain": [
       "str"
      ]
     },
     "execution_count": 43,
     "metadata": {},
     "output_type": "execute_result"
    }
   ],
   "source": [
    "type(name)"
   ]
  },
  {
   "cell_type": "code",
   "execution_count": 44,
   "id": "18b85610",
   "metadata": {},
   "outputs": [
    {
     "data": {
      "text/plain": [
       "int"
      ]
     },
     "execution_count": 44,
     "metadata": {},
     "output_type": "execute_result"
    }
   ],
   "source": [
    "type(hours)"
   ]
  },
  {
   "cell_type": "code",
   "execution_count": 45,
   "id": "7fad1f2a",
   "metadata": {},
   "outputs": [
    {
     "data": {
      "text/plain": [
       "tuple"
      ]
     },
     "execution_count": 45,
     "metadata": {},
     "output_type": "execute_result"
    }
   ],
   "source": [
    "type(result)"
   ]
  },
  {
   "cell_type": "code",
   "execution_count": 46,
   "id": "99f1b3c8",
   "metadata": {},
   "outputs": [],
   "source": [
    "var_type = type(result)"
   ]
  },
  {
   "cell_type": "code",
   "execution_count": 47,
   "id": "610b6cd0",
   "metadata": {},
   "outputs": [
    {
     "data": {
      "text/plain": [
       "tuple"
      ]
     },
     "execution_count": 47,
     "metadata": {},
     "output_type": "execute_result"
    }
   ],
   "source": [
    "var_type"
   ]
  },
  {
   "cell_type": "code",
   "execution_count": 48,
   "id": "77ec948e",
   "metadata": {},
   "outputs": [
    {
     "data": {
      "text/plain": [
       "type"
      ]
     },
     "execution_count": 48,
     "metadata": {},
     "output_type": "execute_result"
    }
   ],
   "source": [
    "type(var_type)"
   ]
  },
  {
   "cell_type": "code",
   "execution_count": 49,
   "id": "eb33e720",
   "metadata": {},
   "outputs": [
    {
     "ename": "ValueError",
     "evalue": "not enough values to unpack (expected 3, got 2)",
     "output_type": "error",
     "traceback": [
      "\u001b[0;31m---------------------------------------------------------------------------\u001b[0m",
      "\u001b[0;31mValueError\u001b[0m                                Traceback (most recent call last)",
      "\u001b[0;32m/tmp/ipykernel_273644/1165214070.py\u001b[0m in \u001b[0;36m<module>\u001b[0;34m\u001b[0m\n\u001b[1;32m      3\u001b[0m \u001b[0;31m# the function does not return a third value, so you can't unpack it as 'location'\u001b[0m\u001b[0;34m\u001b[0m\u001b[0;34m\u001b[0m\u001b[0m\n\u001b[1;32m      4\u001b[0m \u001b[0;34m\u001b[0m\u001b[0m\n\u001b[0;32m----> 5\u001b[0;31m \u001b[0mname\u001b[0m\u001b[0;34m,\u001b[0m\u001b[0mhours\u001b[0m\u001b[0;34m,\u001b[0m\u001b[0mlocation\u001b[0m \u001b[0;34m=\u001b[0m \u001b[0memployee_check\u001b[0m\u001b[0;34m(\u001b[0m\u001b[0mwork_hours\u001b[0m\u001b[0;34m)\u001b[0m\u001b[0;34m\u001b[0m\u001b[0;34m\u001b[0m\u001b[0m\n\u001b[0m",
      "\u001b[0;31mValueError\u001b[0m: not enough values to unpack (expected 3, got 2)"
     ]
    }
   ],
   "source": [
    "# Remember you can't unpack a value not returned by the function\n",
    "# for example...\n",
    "# the function does not return a third value, so you can't unpack it as 'location'\n",
    "\n",
    "name,hours,location = employee_check(work_hours)"
   ]
  },
  {
   "cell_type": "code",
   "execution_count": 50,
   "id": "4941a55c",
   "metadata": {},
   "outputs": [],
   "source": [
    "# if you're unsure how many values you'll get, just assign it as one tuple and explore the values you get.\n",
    "\n",
    "item = employee_check(work_hours)"
   ]
  },
  {
   "cell_type": "code",
   "execution_count": 51,
   "id": "d11ad36e",
   "metadata": {},
   "outputs": [
    {
     "data": {
      "text/plain": [
       "('Cassie', 800)"
      ]
     },
     "execution_count": 51,
     "metadata": {},
     "output_type": "execute_result"
    }
   ],
   "source": [
    "item"
   ]
  },
  {
   "cell_type": "code",
   "execution_count": 52,
   "id": "f060cd8d",
   "metadata": {},
   "outputs": [
    {
     "data": {
      "text/plain": [
       "2"
      ]
     },
     "execution_count": 52,
     "metadata": {},
     "output_type": "execute_result"
    }
   ],
   "source": [
    "len(item)"
   ]
  },
  {
   "cell_type": "code",
   "execution_count": 53,
   "id": "e8a11b50",
   "metadata": {},
   "outputs": [
    {
     "name": "stdout",
     "output_type": "stream",
     "text": [
      "Cassie\n",
      "800\n"
     ]
    }
   ],
   "source": [
    "for thing in item:\n",
    "    print(thing)"
   ]
  },
  {
   "cell_type": "markdown",
   "id": "ff545780",
   "metadata": {},
   "source": [
    "<strong>47 - Interactions between Python Functions</strong>"
   ]
  },
  {
   "cell_type": "code",
   "execution_count": 56,
   "id": "38b7843b",
   "metadata": {},
   "outputs": [],
   "source": [
    "# Here's a few functions that mimic the carnival guessing game \"Three cup Monte.\"\n",
    "# No cups or balls, just reproducing the effect with a Python list.\n",
    "# User sees no shuffle. It's just a random guess."
   ]
  },
  {
   "cell_type": "code",
   "execution_count": 57,
   "id": "709769c8",
   "metadata": {},
   "outputs": [],
   "source": [
    "# First, how to shuffle a Python list\n",
    "\n",
    "example = [1,2,3,4,5,6,7]"
   ]
  },
  {
   "cell_type": "code",
   "execution_count": 58,
   "id": "9d585b6c",
   "metadata": {},
   "outputs": [
    {
     "data": {
      "text/plain": [
       "list"
      ]
     },
     "execution_count": 58,
     "metadata": {},
     "output_type": "execute_result"
    }
   ],
   "source": [
    "type(example)"
   ]
  },
  {
   "cell_type": "code",
   "execution_count": 59,
   "id": "50a42898",
   "metadata": {},
   "outputs": [],
   "source": [
    "# use the random library\n",
    "\n",
    "from random import shuffle"
   ]
  },
  {
   "cell_type": "code",
   "execution_count": 60,
   "id": "f782973d",
   "metadata": {},
   "outputs": [],
   "source": [
    "# the shuffle() function will shuffle a list in-place\n",
    "# meaning it doesn't return anything, it just mixes up the values\n",
    "\n",
    "shuffle(example)"
   ]
  },
  {
   "cell_type": "code",
   "execution_count": 61,
   "id": "3f1a7873",
   "metadata": {},
   "outputs": [
    {
     "data": {
      "text/plain": [
       "[2, 3, 1, 5, 6, 7, 4]"
      ]
     },
     "execution_count": 61,
     "metadata": {},
     "output_type": "execute_result"
    }
   ],
   "source": [
    "example"
   ]
  },
  {
   "cell_type": "code",
   "execution_count": 62,
   "id": "bfd9a580",
   "metadata": {},
   "outputs": [],
   "source": [
    "# reminder, shuffle() doesn't return anything\n",
    "result = shuffle(example)"
   ]
  },
  {
   "cell_type": "code",
   "execution_count": 63,
   "id": "d1855298",
   "metadata": {},
   "outputs": [],
   "source": [
    "result"
   ]
  },
  {
   "cell_type": "code",
   "execution_count": 64,
   "id": "552368fb",
   "metadata": {},
   "outputs": [
    {
     "data": {
      "text/plain": [
       "[7, 6, 5, 4, 2, 3, 1]"
      ]
     },
     "execution_count": 64,
     "metadata": {},
     "output_type": "execute_result"
    }
   ],
   "source": [
    "example"
   ]
  },
  {
   "cell_type": "code",
   "execution_count": 72,
   "id": "15d9f2b5",
   "metadata": {},
   "outputs": [],
   "source": [
    "# Since shuffle() doesn't return anything, let's make our own function that does.\n",
    "# First part\n",
    "\n",
    "def shuffle_list(mylist):\n",
    "    shuffle(mylist)\n",
    "    return mylist\n"
   ]
  },
  {
   "cell_type": "code",
   "execution_count": 73,
   "id": "d325de72",
   "metadata": {},
   "outputs": [],
   "source": [
    "result = shuffle_list(example)"
   ]
  },
  {
   "cell_type": "code",
   "execution_count": 74,
   "id": "5acd4b0f",
   "metadata": {},
   "outputs": [
    {
     "data": {
      "text/plain": [
       "[7, 4, 3, 1, 2, 6, 5]"
      ]
     },
     "execution_count": 74,
     "metadata": {},
     "output_type": "execute_result"
    }
   ],
   "source": [
    "result"
   ]
  },
  {
   "cell_type": "code",
   "execution_count": 75,
   "id": "8e4e571a",
   "metadata": {},
   "outputs": [
    {
     "data": {
      "text/plain": [
       "list"
      ]
     },
     "execution_count": 75,
     "metadata": {},
     "output_type": "execute_result"
    }
   ],
   "source": [
    "type(result)"
   ]
  },
  {
   "cell_type": "code",
   "execution_count": 76,
   "id": "c28107e0",
   "metadata": {},
   "outputs": [],
   "source": [
    "# So the game is, \"Where is the ball?\"\n",
    "\n",
    "mylist = [' ','0',' ']\n",
    "result = shuffle_list(mylist)"
   ]
  },
  {
   "cell_type": "code",
   "execution_count": 77,
   "id": "6b7aaf29",
   "metadata": {},
   "outputs": [
    {
     "data": {
      "text/plain": [
       "[' ', ' ', '0']"
      ]
     },
     "execution_count": 77,
     "metadata": {},
     "output_type": "execute_result"
    }
   ],
   "source": [
    "result"
   ]
  },
  {
   "cell_type": "code",
   "execution_count": 78,
   "id": "cbed77ba",
   "metadata": {},
   "outputs": [],
   "source": [
    "# Second part, take in the user's guess\n",
    "\n",
    "def player_guess():\n",
    "    \n",
    "    # Here's a placeholder variable\n",
    "    guess = ''\n",
    "    \n",
    "    # Here's an easy way to make sure the user enters an acceptable value\n",
    "    \n",
    "    while guess not in ['0','1','2']:     # strings, because remember, input() takes in strings\n",
    "        guess = input(\"Pick a number: 0, 1, or 2: \")\n",
    "    \n",
    "    return int(guess)  # return the integer value of guess"
   ]
  },
  {
   "cell_type": "code",
   "execution_count": 81,
   "id": "f990dcd7",
   "metadata": {},
   "outputs": [
    {
     "name": "stdout",
     "output_type": "stream",
     "text": [
      "Pick a number: 0, 1, or 2: l\n",
      "Pick a number: 0, 1, or 2: ;\n",
      "Pick a number: 0, 1, or 2: 3\n",
      "Pick a number: 0, 1, or 2: 0\n"
     ]
    },
    {
     "data": {
      "text/plain": [
       "0"
      ]
     },
     "execution_count": 81,
     "metadata": {},
     "output_type": "execute_result"
    }
   ],
   "source": [
    "player_guess()\n"
   ]
  },
  {
   "cell_type": "code",
   "execution_count": 82,
   "id": "2677386b",
   "metadata": {},
   "outputs": [],
   "source": [
    "# Third part, compare the guess to the location of the 'ball'\n",
    "\n",
    "def check_guess(mylist,guess):\n",
    "    if mylist[guess] == 'O':\n",
    "        print(\"Correct!\")\n",
    "    else:\n",
    "        print(\"Nope! You missed it!\")\n",
    "        print(mylist)   # show user where it actually was\n",
    "        # since you're not returning anything, you don't need to have a return\n",
    "        # this will just be the last line in the script\n",
    "\n",
    "    \n"
   ]
  },
  {
   "cell_type": "code",
   "execution_count": 105,
   "id": "5c553298",
   "metadata": {},
   "outputs": [
    {
     "name": "stdout",
     "output_type": "stream",
     "text": [
      "Pick a number: 0, 1, or 2: 1\n",
      "Nope! You missed it!\n",
      "['', '', 'O']\n",
      "Pick a number: 0, 1, or 2: 1\n",
      "Correct!\n"
     ]
    }
   ],
   "source": [
    "# In a .py file, it's common to place the function definitions at the top and have the logic after that.\n",
    "\n",
    "def shuffle_list(mylist):\n",
    "    shuffle(mylist)\n",
    "    return mylist\n",
    "\n",
    "\n",
    "def player_guess():\n",
    "    guess = ''    \n",
    "    while guess not in ['0','1','2']:     \n",
    "        guess = input(\"Pick a number: 0, 1, or 2: \")\n",
    "    return int(guess)  \n",
    "\n",
    "\n",
    "def check_guess(mylist,guess):\n",
    "    if mylist[guess] == 'O':\n",
    "        print(\"Correct!\")\n",
    "        return False\n",
    "    else:\n",
    "        print(\"Nope! You missed it!\")\n",
    "        print(mylist)\n",
    "        return True\n",
    "        \n",
    "\n",
    "# SETUP THE INITIAL LIST\n",
    "mylist = ['','O','']\n",
    "keep_playing = True\n",
    "\n",
    "# PLAY GAME UNTIL YOU WIN\n",
    "while keep_playing:\n",
    "    # SHUFFLE THE LIST\n",
    "    current_list = shuffle_list(mylist)\n",
    "    \n",
    "    # HAVE THE USER GUESS THE LOCATION\n",
    "    made_a_guess = player_guess()\n",
    "    \n",
    "    \n",
    "    # CHECK THE GUESS AGAINST THE LIST\n",
    "    keep_playing = check_guess(current_list,made_a_guess)\n"
   ]
  },
  {
   "cell_type": "markdown",
   "id": "9a593173",
   "metadata": {},
   "source": [
    "<strong>48 - Overview of Quick Function Exercises #1 - 10 </strong>"
   ]
  },
  {
   "cell_type": "markdown",
   "id": "a9ea60a1",
   "metadata": {},
   "source": [
    "<strong>49 - args and kwargs in Python</strong>"
   ]
  },
  {
   "cell_type": "code",
   "execution_count": 1,
   "id": "9ea28ea5",
   "metadata": {},
   "outputs": [],
   "source": [
    "# The title is actually:   *args and **kwargs in Python"
   ]
  },
  {
   "cell_type": "code",
   "execution_count": 2,
   "id": "1f52c543",
   "metadata": {},
   "outputs": [],
   "source": [
    "# *args or star args = arguments\n",
    "# **kwargs = keyword arguments"
   ]
  },
  {
   "cell_type": "code",
   "execution_count": 3,
   "id": "53ce8d78",
   "metadata": {},
   "outputs": [],
   "source": [
    "# Eventually you'll want to set a number of arbitrary arguments and keyword arguments.\n",
    "\n",
    "def myfunc(a,b):\n",
    "    # Return 5% of the sum of a and b\n",
    "    return sum((a,b)) * 0.05"
   ]
  },
  {
   "cell_type": "code",
   "execution_count": 4,
   "id": "14e6fc87",
   "metadata": {},
   "outputs": [
    {
     "data": {
      "text/plain": [
       "5.0"
      ]
     },
     "execution_count": 4,
     "metadata": {},
     "output_type": "execute_result"
    }
   ],
   "source": [
    "myfunc(40,60)"
   ]
  },
  {
   "cell_type": "code",
   "execution_count": 5,
   "id": "7f42c890",
   "metadata": {},
   "outputs": [],
   "source": [
    "# BUT, what if I had more numbers or parameters to pass in?\n",
    "\n",
    "# The function variables, a and b, are examples of positional arguments.\n",
    "# When you want to work with multiple positional arguments in the sum() function,\n",
    "# you have to pass them in as a tuple."
   ]
  },
  {
   "cell_type": "code",
   "execution_count": 8,
   "id": "aef513a7",
   "metadata": {},
   "outputs": [],
   "source": [
    "# You could handle this by adding more positional arguments and giving some a default value.\n",
    "\n",
    "def myfunc(a,b,c=0,d=0,e=0):\n",
    "    # This function can take in 2 or 3 variables, because one has a default value.\n",
    "    return sum((a,b,c,d,e)) * 0.05"
   ]
  },
  {
   "cell_type": "code",
   "execution_count": 9,
   "id": "b65552f4",
   "metadata": {},
   "outputs": [
    {
     "data": {
      "text/plain": [
       "5.0"
      ]
     },
     "execution_count": 9,
     "metadata": {},
     "output_type": "execute_result"
    }
   ],
   "source": [
    "myfunc(40,60)"
   ]
  },
  {
   "cell_type": "code",
   "execution_count": 10,
   "id": "fd750248",
   "metadata": {},
   "outputs": [
    {
     "data": {
      "text/plain": [
       "5.15"
      ]
     },
     "execution_count": 10,
     "metadata": {},
     "output_type": "execute_result"
    }
   ],
   "source": [
    "myfunc(40,60,1,2)"
   ]
  },
  {
   "cell_type": "code",
   "execution_count": 11,
   "id": "1d09b2c7",
   "metadata": {},
   "outputs": [],
   "source": [
    "# But if there's still more arguments passed in than there are positions to take them, it gives an error.\n",
    "\n",
    "def myfunc(a,b,c=0,d=0,e=0):\n",
    "    # This function can take in 2 or 3 variables, because one has a default value.\n",
    "    return sum((a,b,c,d,e)) * 0.05"
   ]
  },
  {
   "cell_type": "code",
   "execution_count": 12,
   "id": "ffaee65e",
   "metadata": {},
   "outputs": [
    {
     "ename": "TypeError",
     "evalue": "myfunc() takes from 2 to 5 positional arguments but 6 were given",
     "output_type": "error",
     "traceback": [
      "\u001b[0;31m---------------------------------------------------------------------------\u001b[0m",
      "\u001b[0;31mTypeError\u001b[0m                                 Traceback (most recent call last)",
      "\u001b[0;32m/tmp/ipykernel_3006/539983171.py\u001b[0m in \u001b[0;36m<module>\u001b[0;34m\u001b[0m\n\u001b[0;32m----> 1\u001b[0;31m \u001b[0mmyfunc\u001b[0m\u001b[0;34m(\u001b[0m\u001b[0;36m1\u001b[0m\u001b[0;34m,\u001b[0m\u001b[0;36m2\u001b[0m\u001b[0;34m,\u001b[0m\u001b[0;36m3\u001b[0m\u001b[0;34m,\u001b[0m\u001b[0;36m4\u001b[0m\u001b[0;34m,\u001b[0m\u001b[0;36m5\u001b[0m\u001b[0;34m,\u001b[0m\u001b[0;36m6\u001b[0m\u001b[0;34m)\u001b[0m\u001b[0;34m\u001b[0m\u001b[0;34m\u001b[0m\u001b[0m\n\u001b[0m",
      "\u001b[0;31mTypeError\u001b[0m: myfunc() takes from 2 to 5 positional arguments but 6 were given"
     ]
    }
   ],
   "source": [
    "myfunc(1,2,3,4,5,6)"
   ]
  },
  {
   "cell_type": "code",
   "execution_count": 16,
   "id": "8e90518a",
   "metadata": {},
   "outputs": [],
   "source": [
    "# use *args to do it\n",
    "# *args will treat it as a tuple of parameters coming in.\n",
    "\n",
    "def myfunc(*args):\n",
    "    print(args)\n",
    "    return sum(args) * 0.05"
   ]
  },
  {
   "cell_type": "code",
   "execution_count": 17,
   "id": "3b109dc4",
   "metadata": {},
   "outputs": [
    {
     "name": "stdout",
     "output_type": "stream",
     "text": [
      "(100, 200, 300)\n"
     ]
    },
    {
     "data": {
      "text/plain": [
       "30.0"
      ]
     },
     "execution_count": 17,
     "metadata": {},
     "output_type": "execute_result"
    }
   ],
   "source": [
    "myfunc(100,200,300)"
   ]
  },
  {
   "cell_type": "code",
   "execution_count": 18,
   "id": "80e135fc",
   "metadata": {},
   "outputs": [
    {
     "name": "stdout",
     "output_type": "stream",
     "text": [
      "(100, 200, 300, 400, 500, 600)\n"
     ]
    },
    {
     "data": {
      "text/plain": [
       "105.0"
      ]
     },
     "execution_count": 18,
     "metadata": {},
     "output_type": "execute_result"
    }
   ],
   "source": [
    "myfunc(100,200,300,400,500,600)"
   ]
  },
  {
   "cell_type": "code",
   "execution_count": 20,
   "id": "531bf436",
   "metadata": {},
   "outputs": [],
   "source": [
    "# Actually, the syntax for *args is:\n",
    "# *and_then_any_name_you_want\n",
    "# the \"args\" part is just arbitrary.\n",
    "# HOWEVER, if someone else is reading your code, they will not know what it is.\n",
    "# so use *args by convention to help the next guy."
   ]
  },
  {
   "cell_type": "code",
   "execution_count": 21,
   "id": "0d9df40c",
   "metadata": {},
   "outputs": [],
   "source": [
    "def myfunc(*args):\n",
    "    for item in args:\n",
    "        print(item)"
   ]
  },
  {
   "cell_type": "code",
   "execution_count": 22,
   "id": "1415297f",
   "metadata": {},
   "outputs": [
    {
     "name": "stdout",
     "output_type": "stream",
     "text": [
      "1\n",
      "2\n",
      "3\n",
      "4\n",
      "5\n",
      "6\n"
     ]
    }
   ],
   "source": [
    "myfunc(1,2,3,4,5,6)"
   ]
  },
  {
   "cell_type": "code",
   "execution_count": 23,
   "id": "b6440d21",
   "metadata": {},
   "outputs": [],
   "source": [
    "# so *args builds a tuple of values\n",
    "\n",
    "# **kwargs builds a dictionary of key:value pairs"
   ]
  },
  {
   "cell_type": "code",
   "execution_count": 29,
   "id": "3e139fe9",
   "metadata": {},
   "outputs": [],
   "source": [
    "def myfunc(**kwargs):\n",
    "    print(kwargs)\n",
    "    if 'fruit' in kwargs:\n",
    "        print('My fruit of choice is {}'.format(kwargs['fruit']))\n",
    "    else:\n",
    "        print('I did not find any fruit here')"
   ]
  },
  {
   "cell_type": "code",
   "execution_count": 30,
   "id": "a5d3061e",
   "metadata": {},
   "outputs": [
    {
     "name": "stdout",
     "output_type": "stream",
     "text": [
      "{'fruit': 'apple'}\n",
      "My fruit of choice is apple\n"
     ]
    }
   ],
   "source": [
    "myfunc(fruit='apple')"
   ]
  },
  {
   "cell_type": "code",
   "execution_count": 31,
   "id": "0806a5eb",
   "metadata": {},
   "outputs": [
    {
     "name": "stdout",
     "output_type": "stream",
     "text": [
      "{'fruit': 'apple', 'veggie': 'kale'}\n",
      "My fruit of choice is apple\n"
     ]
    }
   ],
   "source": [
    "myfunc(fruit='apple',veggie = 'kale')"
   ]
  },
  {
   "cell_type": "code",
   "execution_count": 39,
   "id": "ee2cdfa4",
   "metadata": {},
   "outputs": [
    {
     "ename": "NameError",
     "evalue": "name 'fruit' is not defined",
     "output_type": "error",
     "traceback": [
      "\u001b[0;31m---------------------------------------------------------------------------\u001b[0m",
      "\u001b[0;31mNameError\u001b[0m                                 Traceback (most recent call last)",
      "\u001b[0;32m/tmp/ipykernel_3006/3848900169.py\u001b[0m in \u001b[0;36m<module>\u001b[0;34m\u001b[0m\n\u001b[0;32m----> 1\u001b[0;31m \u001b[0mmydict\u001b[0m \u001b[0;34m=\u001b[0m \u001b[0;34m{\u001b[0m\u001b[0mfruit\u001b[0m\u001b[0;34m:\u001b[0m\u001b[0;34m'banana'\u001b[0m\u001b[0;34m,\u001b[0m\u001b[0mveggie\u001b[0m\u001b[0;34m:\u001b[0m\u001b[0;34m'kale'\u001b[0m\u001b[0;34m,\u001b[0m\u001b[0mnut\u001b[0m\u001b[0;34m:\u001b[0m\u001b[0;34m'acorn'\u001b[0m\u001b[0;34m}\u001b[0m\u001b[0;34m\u001b[0m\u001b[0;34m\u001b[0m\u001b[0m\n\u001b[0m",
      "\u001b[0;31mNameError\u001b[0m: name 'fruit' is not defined"
     ]
    }
   ],
   "source": [
    "mydict = {fruit:'banana',veggie:'kale',nut:'acorn'}"
   ]
  },
  {
   "cell_type": "code",
   "execution_count": 40,
   "id": "516e87e4",
   "metadata": {},
   "outputs": [
    {
     "name": "stdout",
     "output_type": "stream",
     "text": [
      "{'fruit': 'banana', 'veggie': 'kale', 'nut': 'acorn'}\n",
      "My fruit of choice is banana\n"
     ]
    }
   ],
   "source": [
    "myfunc(fruit='banana',veggie='kale',nut='acorn')"
   ]
  },
  {
   "cell_type": "code",
   "execution_count": 41,
   "id": "cd9a15c7",
   "metadata": {},
   "outputs": [],
   "source": [
    "test = \"fruit = 'banana'\""
   ]
  },
  {
   "cell_type": "code",
   "execution_count": 42,
   "id": "77560ea6",
   "metadata": {},
   "outputs": [
    {
     "ename": "TypeError",
     "evalue": "myfunc() takes 0 positional arguments but 1 was given",
     "output_type": "error",
     "traceback": [
      "\u001b[0;31m---------------------------------------------------------------------------\u001b[0m",
      "\u001b[0;31mTypeError\u001b[0m                                 Traceback (most recent call last)",
      "\u001b[0;32m/tmp/ipykernel_3006/3862176589.py\u001b[0m in \u001b[0;36m<module>\u001b[0;34m\u001b[0m\n\u001b[0;32m----> 1\u001b[0;31m \u001b[0mmyfunc\u001b[0m\u001b[0;34m(\u001b[0m\u001b[0mtest\u001b[0m\u001b[0;34m)\u001b[0m\u001b[0;34m\u001b[0m\u001b[0;34m\u001b[0m\u001b[0m\n\u001b[0m",
      "\u001b[0;31mTypeError\u001b[0m: myfunc() takes 0 positional arguments but 1 was given"
     ]
    }
   ],
   "source": [
    "myfunc(test)"
   ]
  },
  {
   "cell_type": "code",
   "execution_count": 43,
   "id": "3c6831fb",
   "metadata": {},
   "outputs": [],
   "source": [
    "# so looks like you can't pass a predefined dictionary into a **kwargs function"
   ]
  },
  {
   "cell_type": "code",
   "execution_count": 44,
   "id": "17b8215f",
   "metadata": {},
   "outputs": [
    {
     "data": {
      "text/plain": [
       "\"fruit = 'banana'\""
      ]
     },
     "execution_count": 44,
     "metadata": {},
     "output_type": "execute_result"
    }
   ],
   "source": [
    "test"
   ]
  },
  {
   "cell_type": "code",
   "execution_count": 45,
   "id": "cb30c1a4",
   "metadata": {},
   "outputs": [],
   "source": [
    "test = \"banana\""
   ]
  },
  {
   "cell_type": "code",
   "execution_count": 46,
   "id": "fc5df378",
   "metadata": {},
   "outputs": [
    {
     "name": "stdout",
     "output_type": "stream",
     "text": [
      "{'fruit': 'banana'}\n",
      "My fruit of choice is banana\n"
     ]
    }
   ],
   "source": [
    "myfunc(fruit = test)"
   ]
  },
  {
   "cell_type": "code",
   "execution_count": 50,
   "id": "2578ec7d",
   "metadata": {},
   "outputs": [],
   "source": [
    "# Using *args and **kwargs in combination.\n",
    "\n",
    "def myfunc(*args,**kwargs):\n",
    "    print(args)\n",
    "    print(kwargs)\n",
    "    print('I would like {} {}'.format(args[0],kwargs['food']))"
   ]
  },
  {
   "cell_type": "code",
   "execution_count": 51,
   "id": "c31a9ca2",
   "metadata": {},
   "outputs": [],
   "source": [
    "# Now when you call the function:\n",
    "# - you can pass in as many numbers as you want, and Python will make them into a tuple\n",
    "# - then you can pass in as many keyword arguments as you want, and Python will make them into a dictionary."
   ]
  },
  {
   "cell_type": "code",
   "execution_count": 52,
   "id": "c655fee5",
   "metadata": {},
   "outputs": [
    {
     "name": "stdout",
     "output_type": "stream",
     "text": [
      "(10, 20, 30)\n",
      "{'fruit': 'orange', 'food': 'eggs', 'drink': 'coffee'}\n",
      "I would like 10 eggs\n"
     ]
    }
   ],
   "source": [
    "myfunc(10,20,30,fruit='orange',food='eggs',drink='coffee')"
   ]
  },
  {
   "cell_type": "code",
   "execution_count": 53,
   "id": "d12bf932",
   "metadata": {},
   "outputs": [],
   "source": [
    "letter = 'a'"
   ]
  },
  {
   "cell_type": "code",
   "execution_count": 54,
   "id": "5b9567cb",
   "metadata": {},
   "outputs": [
    {
     "data": {
      "text/plain": [
       "'a'"
      ]
     },
     "execution_count": 54,
     "metadata": {},
     "output_type": "execute_result"
    }
   ],
   "source": [
    "letter.lower()"
   ]
  },
  {
   "cell_type": "code",
   "execution_count": 55,
   "id": "4cccef51",
   "metadata": {},
   "outputs": [
    {
     "data": {
      "text/plain": [
       "'A'"
      ]
     },
     "execution_count": 55,
     "metadata": {},
     "output_type": "execute_result"
    }
   ],
   "source": [
    "letter.upper()"
   ]
  },
  {
   "cell_type": "code",
   "execution_count": 56,
   "id": "389fc5dc",
   "metadata": {},
   "outputs": [],
   "source": [
    "def myfunc(yourstring):\n",
    "    a = 0\n",
    "    mystring = ''\n",
    "    for letter in yourstring:\n",
    "        if a==0:\n",
    "            mystring = mystring + letter.lower()\n",
    "            a=1 \n",
    "        else:\n",
    "            mystring = mystring + letter.upper()\n",
    "            a=0\n",
    "    return mystring"
   ]
  },
  {
   "cell_type": "code",
   "execution_count": 57,
   "id": "48f69779",
   "metadata": {},
   "outputs": [
    {
     "data": {
      "text/plain": [
       "'hElLoWoRlD'"
      ]
     },
     "execution_count": 57,
     "metadata": {},
     "output_type": "execute_result"
    }
   ],
   "source": [
    "myfunc('hellOWorld')"
   ]
  },
  {
   "cell_type": "code",
   "execution_count": 58,
   "id": "376a5da3",
   "metadata": {},
   "outputs": [
    {
     "data": {
      "text/plain": [
       "'aAaAaAaAaAaAa'"
      ]
     },
     "execution_count": 58,
     "metadata": {},
     "output_type": "execute_result"
    }
   ],
   "source": [
    "myfunc('aaaaaaaaaaaaa')"
   ]
  },
  {
   "cell_type": "markdown",
   "id": "50d28ec7",
   "metadata": {},
   "source": [
    "<strong>50 - Function Practice Exercises Overview</strong>"
   ]
  },
  {
   "cell_type": "code",
   "execution_count": 59,
   "id": "eaf22347",
   "metadata": {},
   "outputs": [],
   "source": [
    "# Work through the instructor's notebook called \"03-Function Practice Exercises\""
   ]
  },
  {
   "cell_type": "markdown",
   "id": "e2261cf2",
   "metadata": {},
   "source": [
    "<strong>55 - Lambda Expressions, Map, and Filter Functions</strong>"
   ]
  },
  {
   "cell_type": "code",
   "execution_count": 1,
   "id": "4ff24c8b",
   "metadata": {},
   "outputs": [],
   "source": [
    "# Lambda functions are essentially one-time-use functions.\n",
    "# You don't even really name them.\n",
    "# Use them one time and never reference them again.\n",
    "# But isn't that the point of a function?  Why use a lambda expression?"
   ]
  },
  {
   "cell_type": "code",
   "execution_count": 2,
   "id": "442e68c2",
   "metadata": {},
   "outputs": [],
   "source": [
    "# Instructor says the map() function and filter() functions will help explain lambda"
   ]
  },
  {
   "cell_type": "code",
   "execution_count": 5,
   "id": "33094aa3",
   "metadata": {},
   "outputs": [],
   "source": [
    "# map() function\n",
    "# Remember in a Jupyter notebook you can type \"map\" and hit the \"shift-tab\" keys to explore the function\n",
    "# Click on the down arrow to expand the info in the pop-up even more"
   ]
  },
  {
   "cell_type": "code",
   "execution_count": 6,
   "id": "310149d3",
   "metadata": {},
   "outputs": [],
   "source": [
    "# a simple function to take in a number and return it's square\n",
    "\n",
    "def square(num):\n",
    "    return num**2"
   ]
  },
  {
   "cell_type": "code",
   "execution_count": 7,
   "id": "7c40aad3",
   "metadata": {},
   "outputs": [
    {
     "data": {
      "text/plain": [
       "4"
      ]
     },
     "execution_count": 7,
     "metadata": {},
     "output_type": "execute_result"
    }
   ],
   "source": [
    "square(2)"
   ]
  },
  {
   "cell_type": "code",
   "execution_count": 8,
   "id": "39229c0a",
   "metadata": {},
   "outputs": [
    {
     "data": {
      "text/plain": [
       "144"
      ]
     },
     "execution_count": 8,
     "metadata": {},
     "output_type": "execute_result"
    }
   ],
   "source": [
    "square(12)"
   ]
  },
  {
   "cell_type": "code",
   "execution_count": 9,
   "id": "5b88621f",
   "metadata": {},
   "outputs": [],
   "source": [
    "my_nums = [1,2,3,4,5]"
   ]
  },
  {
   "cell_type": "code",
   "execution_count": 10,
   "id": "975b52e0",
   "metadata": {},
   "outputs": [
    {
     "ename": "TypeError",
     "evalue": "unsupported operand type(s) for ** or pow(): 'list' and 'int'",
     "output_type": "error",
     "traceback": [
      "\u001b[0;31m---------------------------------------------------------------------------\u001b[0m",
      "\u001b[0;31mTypeError\u001b[0m                                 Traceback (most recent call last)",
      "\u001b[0;32m/tmp/ipykernel_43299/3743995513.py\u001b[0m in \u001b[0;36m<module>\u001b[0;34m\u001b[0m\n\u001b[0;32m----> 1\u001b[0;31m \u001b[0msquare\u001b[0m\u001b[0;34m(\u001b[0m\u001b[0mmy_nums\u001b[0m\u001b[0;34m)\u001b[0m\u001b[0;34m\u001b[0m\u001b[0;34m\u001b[0m\u001b[0m\n\u001b[0m",
      "\u001b[0;32m/tmp/ipykernel_43299/889302340.py\u001b[0m in \u001b[0;36msquare\u001b[0;34m(num)\u001b[0m\n\u001b[1;32m      2\u001b[0m \u001b[0;34m\u001b[0m\u001b[0m\n\u001b[1;32m      3\u001b[0m \u001b[0;32mdef\u001b[0m \u001b[0msquare\u001b[0m\u001b[0;34m(\u001b[0m\u001b[0mnum\u001b[0m\u001b[0;34m)\u001b[0m\u001b[0;34m:\u001b[0m\u001b[0;34m\u001b[0m\u001b[0;34m\u001b[0m\u001b[0m\n\u001b[0;32m----> 4\u001b[0;31m     \u001b[0;32mreturn\u001b[0m \u001b[0mnum\u001b[0m\u001b[0;34m**\u001b[0m\u001b[0;36m2\u001b[0m\u001b[0;34m\u001b[0m\u001b[0;34m\u001b[0m\u001b[0m\n\u001b[0m",
      "\u001b[0;31mTypeError\u001b[0m: unsupported operand type(s) for ** or pow(): 'list' and 'int'"
     ]
    }
   ],
   "source": [
    "square(my_nums)"
   ]
  },
  {
   "cell_type": "code",
   "execution_count": 12,
   "id": "7aad9ef2",
   "metadata": {},
   "outputs": [],
   "source": [
    "# That didn't work.\n",
    "# But I want to apply the square function to every number in my_nums list\n",
    "# You could use a for-loop, but that's a lot of code.\n",
    "# Instead, use the map() function."
   ]
  },
  {
   "cell_type": "code",
   "execution_count": 13,
   "id": "e87ffa07",
   "metadata": {},
   "outputs": [
    {
     "data": {
      "text/plain": [
       "<map at 0x7fb8cfb06610>"
      ]
     },
     "execution_count": 13,
     "metadata": {},
     "output_type": "execute_result"
    }
   ],
   "source": [
    "map(square,my_nums)"
   ]
  },
  {
   "cell_type": "code",
   "execution_count": 14,
   "id": "adb70544",
   "metadata": {},
   "outputs": [
    {
     "name": "stdout",
     "output_type": "stream",
     "text": [
      "1\n",
      "4\n",
      "9\n",
      "16\n",
      "25\n"
     ]
    }
   ],
   "source": [
    "# So what does that mean?\n",
    "# It's storing something at that memory location.\n",
    "# But try iterating through it like this:\n",
    "\n",
    "for item in map(square,my_nums):\n",
    "    print(item)"
   ]
  },
  {
   "cell_type": "code",
   "execution_count": 16,
   "id": "eb8f3d13",
   "metadata": {},
   "outputs": [],
   "source": [
    "# That applies the square() function to every item in the my_nums[] list"
   ]
  },
  {
   "cell_type": "code",
   "execution_count": 17,
   "id": "5b126996",
   "metadata": {},
   "outputs": [
    {
     "data": {
      "text/plain": [
       "[1, 4, 9, 16, 25]"
      ]
     },
     "execution_count": 17,
     "metadata": {},
     "output_type": "execute_result"
    }
   ],
   "source": [
    "# Maybe you want the result returned in the form of a list.\n",
    "\n",
    "list(map(square,my_nums))"
   ]
  },
  {
   "cell_type": "code",
   "execution_count": 18,
   "id": "9790a0c0",
   "metadata": {},
   "outputs": [],
   "source": [
    "result = list(map(square,my_nums))"
   ]
  },
  {
   "cell_type": "code",
   "execution_count": 19,
   "id": "158cbb06",
   "metadata": {},
   "outputs": [
    {
     "data": {
      "text/plain": [
       "[1, 4, 9, 16, 25]"
      ]
     },
     "execution_count": 19,
     "metadata": {},
     "output_type": "execute_result"
    }
   ],
   "source": [
    "result"
   ]
  },
  {
   "cell_type": "code",
   "execution_count": 20,
   "id": "3d644406",
   "metadata": {},
   "outputs": [],
   "source": [
    "# Another example:\n",
    "\n",
    "def splicer(mystring):\n",
    "    if len(mystring)%2 == 0:\n",
    "        return 'EVEN'\n",
    "    else:\n",
    "        return mystring[0]\n",
    "    "
   ]
  },
  {
   "cell_type": "code",
   "execution_count": 21,
   "id": "22249236",
   "metadata": {},
   "outputs": [],
   "source": [
    "names = ['Andy','Eve','Sally']"
   ]
  },
  {
   "cell_type": "code",
   "execution_count": 22,
   "id": "c117fa45",
   "metadata": {},
   "outputs": [
    {
     "data": {
      "text/plain": [
       "['EVEN', 'E', 'S']"
      ]
     },
     "execution_count": 22,
     "metadata": {},
     "output_type": "execute_result"
    }
   ],
   "source": [
    "list(map(splicer,names))"
   ]
  },
  {
   "cell_type": "code",
   "execution_count": 25,
   "id": "362c1787",
   "metadata": {},
   "outputs": [],
   "source": [
    "# Remember in the map() function, don't try to call the other function like splicer() or square().\n",
    "# Just provide the name of the function you want to use."
   ]
  },
  {
   "cell_type": "code",
   "execution_count": 26,
   "id": "ea0909d6",
   "metadata": {},
   "outputs": [],
   "source": [
    "# The filter() function.\n",
    "# Creates a function that's either True or False"
   ]
  },
  {
   "cell_type": "code",
   "execution_count": 27,
   "id": "d159fc1c",
   "metadata": {},
   "outputs": [],
   "source": [
    "def check_even(num):\n",
    "    return num%2 == 0"
   ]
  },
  {
   "cell_type": "code",
   "execution_count": 28,
   "id": "9554ae8f",
   "metadata": {},
   "outputs": [],
   "source": [
    "mynums = [1,2,3,4,5,6]"
   ]
  },
  {
   "cell_type": "code",
   "execution_count": 29,
   "id": "fb29505f",
   "metadata": {},
   "outputs": [],
   "source": [
    "# Just grab the even numbers in the mynums[] list\n",
    "# So filter() will iterate the list through the function and it will filter based of the condition."
   ]
  },
  {
   "cell_type": "code",
   "execution_count": 30,
   "id": "46505c83",
   "metadata": {},
   "outputs": [
    {
     "data": {
      "text/plain": [
       "<filter at 0x7fb8cfb06e50>"
      ]
     },
     "execution_count": 30,
     "metadata": {},
     "output_type": "execute_result"
    }
   ],
   "source": [
    "filter(check_even,mynums)"
   ]
  },
  {
   "cell_type": "code",
   "execution_count": 31,
   "id": "98dc29c7",
   "metadata": {},
   "outputs": [
    {
     "data": {
      "text/plain": [
       "[2, 4, 6]"
      ]
     },
     "execution_count": 31,
     "metadata": {},
     "output_type": "execute_result"
    }
   ],
   "source": [
    "# You have a filter object at that point in memory.\n",
    "\n",
    "list(filter(check_even,mynums))"
   ]
  },
  {
   "cell_type": "code",
   "execution_count": 32,
   "id": "67d61c21",
   "metadata": {},
   "outputs": [
    {
     "name": "stdout",
     "output_type": "stream",
     "text": [
      "2\n",
      "4\n",
      "6\n"
     ]
    }
   ],
   "source": [
    "for n in filter(check_even,mynums):\n",
    "    print(n)"
   ]
  },
  {
   "cell_type": "code",
   "execution_count": 33,
   "id": "87268784",
   "metadata": {},
   "outputs": [],
   "source": [
    "# lambda expressions\n",
    "\n",
    "# convert a function into a lambda expressions..."
   ]
  },
  {
   "cell_type": "code",
   "execution_count": 34,
   "id": "f6e6b7e4",
   "metadata": {},
   "outputs": [],
   "source": [
    "def square(num):\n",
    "    result = num ** 2\n",
    "    return result"
   ]
  },
  {
   "cell_type": "code",
   "execution_count": 35,
   "id": "76b9987d",
   "metadata": {},
   "outputs": [
    {
     "data": {
      "text/plain": [
       "36"
      ]
     },
     "execution_count": 35,
     "metadata": {},
     "output_type": "execute_result"
    }
   ],
   "source": [
    "square(6)"
   ]
  },
  {
   "cell_type": "code",
   "execution_count": 36,
   "id": "b3b9c161",
   "metadata": {},
   "outputs": [],
   "source": [
    "# First, simplify the expression\n",
    "\n",
    "def square(num):\n",
    "    return num **2"
   ]
  },
  {
   "cell_type": "code",
   "execution_count": 37,
   "id": "fc906bdc",
   "metadata": {},
   "outputs": [
    {
     "data": {
      "text/plain": [
       "36"
      ]
     },
     "execution_count": 37,
     "metadata": {},
     "output_type": "execute_result"
    }
   ],
   "source": [
    "square(6)"
   ]
  },
  {
   "cell_type": "code",
   "execution_count": 38,
   "id": "ce8febd0",
   "metadata": {},
   "outputs": [],
   "source": [
    "# Next, put it all on one line.\n",
    "# Not normally done, because it's bad form, and it's against convention.\n",
    "\n",
    "def square(num): return num ** 2"
   ]
  },
  {
   "cell_type": "code",
   "execution_count": 39,
   "id": "8b779024",
   "metadata": {},
   "outputs": [
    {
     "data": {
      "text/plain": [
       "36"
      ]
     },
     "execution_count": 39,
     "metadata": {},
     "output_type": "execute_result"
    }
   ],
   "source": [
    "square(6)"
   ]
  },
  {
   "cell_type": "code",
   "execution_count": 42,
   "id": "99646582",
   "metadata": {},
   "outputs": [],
   "source": [
    "# Finally, convert the remainder of the function into a lambda expression, a.k.a. an anonymous function.\n",
    "# Take out the def keywork.\n",
    "# Take out the function name and parenthesis.\n",
    "# Take out the return keyword, because it's assumed that it will return whatever is on the other side of the colon.\n",
    "\n",
    "square = lambda num: num ** 2"
   ]
  },
  {
   "cell_type": "code",
   "execution_count": 43,
   "id": "421dee58",
   "metadata": {},
   "outputs": [
    {
     "data": {
      "text/plain": [
       "36"
      ]
     },
     "execution_count": 43,
     "metadata": {},
     "output_type": "execute_result"
    }
   ],
   "source": [
    "square(6)"
   ]
  },
  {
   "cell_type": "code",
   "execution_count": 44,
   "id": "a7119c62",
   "metadata": {},
   "outputs": [
    {
     "data": {
      "text/plain": [
       "9"
      ]
     },
     "execution_count": 44,
     "metadata": {},
     "output_type": "execute_result"
    }
   ],
   "source": [
    "square(3)"
   ]
  },
  {
   "cell_type": "code",
   "execution_count": 47,
   "id": "7edf72f1",
   "metadata": {},
   "outputs": [],
   "source": [
    "# But in normal use, you're not going to use lambda like that.\n",
    "# You'll use it in conjunction with map() and filter()\n",
    "# Here's it with a map() function"
   ]
  },
  {
   "cell_type": "code",
   "execution_count": 48,
   "id": "398d9c3d",
   "metadata": {},
   "outputs": [
    {
     "data": {
      "text/plain": [
       "[1, 4, 9, 16, 25, 36]"
      ]
     },
     "execution_count": 48,
     "metadata": {},
     "output_type": "execute_result"
    }
   ],
   "source": [
    "list(map(lambda num:num**2,mynums))"
   ]
  },
  {
   "cell_type": "code",
   "execution_count": 49,
   "id": "dec7ffab",
   "metadata": {},
   "outputs": [],
   "source": [
    "# Here it is with filter() function"
   ]
  },
  {
   "cell_type": "code",
   "execution_count": 50,
   "id": "966a01d3",
   "metadata": {},
   "outputs": [],
   "source": [
    "def check_even(num):\n",
    "    return num%2 == 0"
   ]
  },
  {
   "cell_type": "code",
   "execution_count": 51,
   "id": "9277c1fb",
   "metadata": {},
   "outputs": [
    {
     "data": {
      "text/plain": [
       "[2, 4, 6]"
      ]
     },
     "execution_count": 51,
     "metadata": {},
     "output_type": "execute_result"
    }
   ],
   "source": [
    "# Convert that to a lambda expression\n",
    "\n",
    "# lambda num:num%2 == 0,mynums\n",
    "\n",
    "# Now pass that onto a filter() function\n",
    "\n",
    "# filter(lambda num:num%2 == 0,mynums)\n",
    "\n",
    "# Now pass that into a list\n",
    "\n",
    "list(filter(lambda num:num%2 == 0,mynums))"
   ]
  },
  {
   "cell_type": "code",
   "execution_count": 52,
   "id": "cc705297",
   "metadata": {},
   "outputs": [
    {
     "data": {
      "text/plain": [
       "['Andy', 'Eve', 'Sally']"
      ]
     },
     "execution_count": 52,
     "metadata": {},
     "output_type": "execute_result"
    }
   ],
   "source": [
    "names"
   ]
  },
  {
   "cell_type": "code",
   "execution_count": 55,
   "id": "0c3d79e0",
   "metadata": {},
   "outputs": [],
   "source": [
    "# Grab the first character of the names list\n",
    "\n",
    "def first_char(names):\n",
    "    for item in names:\n",
    "        print(item[0])"
   ]
  },
  {
   "cell_type": "code",
   "execution_count": 56,
   "id": "fe295513",
   "metadata": {},
   "outputs": [
    {
     "name": "stdout",
     "output_type": "stream",
     "text": [
      "A\n",
      "E\n",
      "S\n"
     ]
    }
   ],
   "source": [
    "first_char(names)"
   ]
  },
  {
   "cell_type": "code",
   "execution_count": 59,
   "id": "c0350fb5",
   "metadata": {},
   "outputs": [
    {
     "data": {
      "text/plain": [
       "['A', 'E', 'S']"
      ]
     },
     "execution_count": 59,
     "metadata": {},
     "output_type": "execute_result"
    }
   ],
   "source": [
    "# map the incoming name, and only return back the letter in index position 0\n",
    "list(map(lambda item:item[0],names))"
   ]
  },
  {
   "cell_type": "code",
   "execution_count": 60,
   "id": "cc03caed",
   "metadata": {},
   "outputs": [
    {
     "data": {
      "text/plain": [
       "['ydnA', 'evE', 'yllaS']"
      ]
     },
     "execution_count": 60,
     "metadata": {},
     "output_type": "execute_result"
    }
   ],
   "source": [
    "# reverse the actual name\n",
    "list(map(lambda item:item[::-1],names))"
   ]
  },
  {
   "cell_type": "code",
   "execution_count": 62,
   "id": "af9e4cd9",
   "metadata": {},
   "outputs": [],
   "source": [
    "# Not every complex function can be translated to a lambda expression.\n",
    "# It's still really important the code is easily readable."
   ]
  },
  {
   "cell_type": "markdown",
   "id": "f0bc00a5",
   "metadata": {},
   "source": [
    "<strong>56 - Nested Statements and Scope</strong>"
   ]
  },
  {
   "cell_type": "code",
   "execution_count": 8,
   "id": "f43feff7",
   "metadata": {},
   "outputs": [],
   "source": [
    "# Let's see what this does...\n",
    "\n",
    "x = 25\n",
    "\n",
    "def printer():\n",
    "    x = 50\n",
    "    return x"
   ]
  },
  {
   "cell_type": "code",
   "execution_count": 12,
   "id": "ccba9cb4",
   "metadata": {},
   "outputs": [
    {
     "data": {
      "text/plain": [
       "50"
      ]
     },
     "execution_count": 12,
     "metadata": {},
     "output_type": "execute_result"
    }
   ],
   "source": [
    "printer()"
   ]
  },
  {
   "cell_type": "code",
   "execution_count": 13,
   "id": "f33cce25",
   "metadata": {},
   "outputs": [],
   "source": [
    "# Python stores variable names in the \"name space\"\n",
    "# Variable names have a \"scope\"\n",
    "# The scope of a variable name determines its visibility to other parts of the code\n",
    "# This is why you get an error of \"this variable is not defined\""
   ]
  },
  {
   "cell_type": "code",
   "execution_count": 14,
   "id": "455808ed",
   "metadata": {},
   "outputs": [
    {
     "name": "stdout",
     "output_type": "stream",
     "text": [
      "25\n"
     ]
    }
   ],
   "source": [
    "print(x)"
   ]
  },
  {
   "cell_type": "code",
   "execution_count": 15,
   "id": "8aee82e2",
   "metadata": {},
   "outputs": [
    {
     "name": "stdout",
     "output_type": "stream",
     "text": [
      "50\n"
     ]
    }
   ],
   "source": [
    "print(printer())"
   ]
  },
  {
   "cell_type": "code",
   "execution_count": 16,
   "id": "fdfd8f09",
   "metadata": {},
   "outputs": [],
   "source": [
    "# How does python know which x you are referring to in the code?\n",
    "# Why doesn't the reassignment of x in the function affect the original assignment of x?"
   ]
  },
  {
   "cell_type": "code",
   "execution_count": 17,
   "id": "20e38f56",
   "metadata": {},
   "outputs": [],
   "source": [
    "# Python uses its rules of scope to figure out which one you're referring to"
   ]
  },
  {
   "cell_type": "code",
   "execution_count": 20,
   "id": "ddb18a73",
   "metadata": {},
   "outputs": [],
   "source": [
    "# These rules are in L E G B format.\n",
    "# This is the order that Python looks for variables.\n",
    "\n",
    "# L = Local - Names assigned in any way within a function (def or lambda) and not declared global in that function.\n",
    "\n",
    "# E = Enclosing function - Names in the local scope of any and all enclosing functions (def or lambda), from inner to outer.\n",
    "\n",
    "# G = Global - Names assigned at the top-level of a module file, or declared global in a def within the file.\n",
    "\n",
    "# B = Built-in - Names preassigned in the built-in names module: open, range, SyntaxError,..."
   ]
  },
  {
   "cell_type": "code",
   "execution_count": 26,
   "id": "0a5d8c17",
   "metadata": {},
   "outputs": [
    {
     "data": {
      "text/plain": [
       "81"
      ]
     },
     "execution_count": 26,
     "metadata": {},
     "output_type": "execute_result"
    }
   ],
   "source": [
    "# Local\n",
    "\n",
    "square = lambda num:num**2  # num is local to the lambda expression\n",
    "square(9)"
   ]
  },
  {
   "cell_type": "code",
   "execution_count": 39,
   "id": "983ca9af",
   "metadata": {},
   "outputs": [
    {
     "name": "stdout",
     "output_type": "stream",
     "text": [
      "Hello IM A LOCAL\n"
     ]
    }
   ],
   "source": [
    "# Enclosing function locals\n",
    "# Create the example by making a function and putting a function inside of it.\n",
    "\n",
    "# Global\n",
    "name = 'THIS IS A GLOBAL STRING'\n",
    "\n",
    "def greet():\n",
    "    \n",
    "    # Enclosing\n",
    "    #name = 'Sammy' # You're overriding the name variable here\n",
    "    \n",
    "    # Now create another function inside of it.\n",
    "    def hello():\n",
    "        \n",
    "        # Local\n",
    "        name = 'IM A LOCAL'\n",
    "        print('Hello '+name)\n",
    "        \n",
    "    # The hello() function is created.\n",
    "    # Now call hello()\n",
    "    hello()\n",
    "    \n",
    "# Call the greet() function\n",
    "greet()\n",
    "\n"
   ]
  },
  {
   "cell_type": "code",
   "execution_count": 34,
   "id": "b6c0ce62",
   "metadata": {},
   "outputs": [
    {
     "name": "stdout",
     "output_type": "stream",
     "text": [
      "Hello THIS IS A GLOBAL STRING\n"
     ]
    }
   ],
   "source": [
    "greet()"
   ]
  },
  {
   "cell_type": "code",
   "execution_count": 35,
   "id": "fcbdb4bb",
   "metadata": {},
   "outputs": [],
   "source": [
    "# So using LEGB...\n",
    "# Inside the hello() function, you tell it to print the variable \"name\".\n",
    "# L - first it checks local variables\n",
    "#   - There's no \"name\" variable defined inside the hello() function, so it goes to the next step.\n",
    "# E - Enclosing function.  hello() is inside of the greet() function, so it looks for 'name' in there.\n",
    "#   - It finds that 'name' is defined, so it uses that value.\n",
    "#   - 'name' is \"Sammy\"\n"
   ]
  },
  {
   "cell_type": "code",
   "execution_count": 37,
   "id": "2d5736c4",
   "metadata": {},
   "outputs": [],
   "source": [
    "# However, if you comment out the line with the 'name' variable in the greet() function, it continues...\n",
    "# G - It looks for a global variable and finds that 'name' is defined, so it uses that value.\n",
    "#   - You know it's global because there are no indentations.\n",
    "#   - 'name' is 'THIS IS A GLOBAL STRING'"
   ]
  },
  {
   "cell_type": "code",
   "execution_count": 42,
   "id": "b59eeb9a",
   "metadata": {},
   "outputs": [
    {
     "name": "stdout",
     "output_type": "stream",
     "text": [
      "Help on class list in module builtins:\n",
      "\n",
      "class list(object)\n",
      " |  list(iterable=(), /)\n",
      " |  \n",
      " |  Built-in mutable sequence.\n",
      " |  \n",
      " |  If no argument is given, the constructor creates a new empty list.\n",
      " |  The argument must be an iterable if specified.\n",
      " |  \n",
      " |  Methods defined here:\n",
      " |  \n",
      " |  __add__(self, value, /)\n",
      " |      Return self+value.\n",
      " |  \n",
      " |  __contains__(self, key, /)\n",
      " |      Return key in self.\n",
      " |  \n",
      " |  __delitem__(self, key, /)\n",
      " |      Delete self[key].\n",
      " |  \n",
      " |  __eq__(self, value, /)\n",
      " |      Return self==value.\n",
      " |  \n",
      " |  __ge__(self, value, /)\n",
      " |      Return self>=value.\n",
      " |  \n",
      " |  __getattribute__(self, name, /)\n",
      " |      Return getattr(self, name).\n",
      " |  \n",
      " |  __getitem__(...)\n",
      " |      x.__getitem__(y) <==> x[y]\n",
      " |  \n",
      " |  __gt__(self, value, /)\n",
      " |      Return self>value.\n",
      " |  \n",
      " |  __iadd__(self, value, /)\n",
      " |      Implement self+=value.\n",
      " |  \n",
      " |  __imul__(self, value, /)\n",
      " |      Implement self*=value.\n",
      " |  \n",
      " |  __init__(self, /, *args, **kwargs)\n",
      " |      Initialize self.  See help(type(self)) for accurate signature.\n",
      " |  \n",
      " |  __iter__(self, /)\n",
      " |      Implement iter(self).\n",
      " |  \n",
      " |  __le__(self, value, /)\n",
      " |      Return self<=value.\n",
      " |  \n",
      " |  __len__(self, /)\n",
      " |      Return len(self).\n",
      " |  \n",
      " |  __lt__(self, value, /)\n",
      " |      Return self<value.\n",
      " |  \n",
      " |  __mul__(self, value, /)\n",
      " |      Return self*value.\n",
      " |  \n",
      " |  __ne__(self, value, /)\n",
      " |      Return self!=value.\n",
      " |  \n",
      " |  __repr__(self, /)\n",
      " |      Return repr(self).\n",
      " |  \n",
      " |  __reversed__(self, /)\n",
      " |      Return a reverse iterator over the list.\n",
      " |  \n",
      " |  __rmul__(self, value, /)\n",
      " |      Return value*self.\n",
      " |  \n",
      " |  __setitem__(self, key, value, /)\n",
      " |      Set self[key] to value.\n",
      " |  \n",
      " |  __sizeof__(self, /)\n",
      " |      Return the size of the list in memory, in bytes.\n",
      " |  \n",
      " |  append(self, object, /)\n",
      " |      Append object to the end of the list.\n",
      " |  \n",
      " |  clear(self, /)\n",
      " |      Remove all items from list.\n",
      " |  \n",
      " |  copy(self, /)\n",
      " |      Return a shallow copy of the list.\n",
      " |  \n",
      " |  count(self, value, /)\n",
      " |      Return number of occurrences of value.\n",
      " |  \n",
      " |  extend(self, iterable, /)\n",
      " |      Extend list by appending elements from the iterable.\n",
      " |  \n",
      " |  index(self, value, start=0, stop=9223372036854775807, /)\n",
      " |      Return first index of value.\n",
      " |      \n",
      " |      Raises ValueError if the value is not present.\n",
      " |  \n",
      " |  insert(self, index, object, /)\n",
      " |      Insert object before index.\n",
      " |  \n",
      " |  pop(self, index=-1, /)\n",
      " |      Remove and return item at index (default last).\n",
      " |      \n",
      " |      Raises IndexError if list is empty or index is out of range.\n",
      " |  \n",
      " |  remove(self, value, /)\n",
      " |      Remove first occurrence of value.\n",
      " |      \n",
      " |      Raises ValueError if the value is not present.\n",
      " |  \n",
      " |  reverse(self, /)\n",
      " |      Reverse *IN PLACE*.\n",
      " |  \n",
      " |  sort(self, /, *, key=None, reverse=False)\n",
      " |      Sort the list in ascending order and return None.\n",
      " |      \n",
      " |      The sort is in-place (i.e. the list itself is modified) and stable (i.e. the\n",
      " |      order of two equal elements is maintained).\n",
      " |      \n",
      " |      If a key function is given, apply it once to each list item and sort them,\n",
      " |      ascending or descending, according to their function values.\n",
      " |      \n",
      " |      The reverse flag can be set to sort in descending order.\n",
      " |  \n",
      " |  ----------------------------------------------------------------------\n",
      " |  Class methods defined here:\n",
      " |  \n",
      " |  __class_getitem__(...) from builtins.type\n",
      " |      See PEP 585\n",
      " |  \n",
      " |  ----------------------------------------------------------------------\n",
      " |  Static methods defined here:\n",
      " |  \n",
      " |  __new__(*args, **kwargs) from builtins.type\n",
      " |      Create and return a new object.  See help(type) for accurate signature.\n",
      " |  \n",
      " |  ----------------------------------------------------------------------\n",
      " |  Data and other attributes defined here:\n",
      " |  \n",
      " |  __hash__ = None\n",
      "\n"
     ]
    }
   ],
   "source": [
    "# Remember not to overwrite Built-in names.\n",
    "# If you can call help() on it, don't use it.\n",
    "help(list)"
   ]
  },
  {
   "cell_type": "code",
   "execution_count": 48,
   "id": "baf5e2fc",
   "metadata": {},
   "outputs": [],
   "source": [
    "x = 50\n",
    "\n",
    "def func(x):\n",
    "    print(f'X is {x}')\n",
    "    \n",
    "    # LOCAL REASSIGNMENT!\n",
    "    x = 200\n",
    "    print(f'I JUST LOCALLY CHANGED X TO {x}')"
   ]
  },
  {
   "cell_type": "code",
   "execution_count": 49,
   "id": "58425449",
   "metadata": {},
   "outputs": [
    {
     "name": "stdout",
     "output_type": "stream",
     "text": [
      "50\n"
     ]
    }
   ],
   "source": [
    "print(x)"
   ]
  },
  {
   "cell_type": "code",
   "execution_count": 50,
   "id": "df21c280",
   "metadata": {},
   "outputs": [
    {
     "name": "stdout",
     "output_type": "stream",
     "text": [
      "X is 50\n",
      "I JUST LOCALLY CHANGED X TO 200\n"
     ]
    }
   ],
   "source": [
    "func(x)"
   ]
  },
  {
   "cell_type": "code",
   "execution_count": 51,
   "id": "6dba53bf",
   "metadata": {},
   "outputs": [
    {
     "name": "stdout",
     "output_type": "stream",
     "text": [
      "50\n"
     ]
    }
   ],
   "source": [
    "print(x)"
   ]
  },
  {
   "cell_type": "code",
   "execution_count": 52,
   "id": "44b9108f",
   "metadata": {},
   "outputs": [],
   "source": [
    "# x is only reassigned to 200 inside the function"
   ]
  },
  {
   "cell_type": "code",
   "execution_count": 65,
   "id": "5ffef8c2",
   "metadata": {},
   "outputs": [],
   "source": [
    "# What if you want to grab the global variable from inside a function and reassign it to be 200?\n",
    "\n",
    "x = 50\n",
    "\n",
    "def func():\n",
    "    global x\n",
    "    print(f'X is {x}')\n",
    "    \n",
    "    # Now, anything that happens to x inside this function will affect the global variable x\n",
    "    \n",
    "    # LOCAL REASSIGNMENT ON A GLOBAL VARIABLE!\n",
    "    x = 'NEW VALUE'\n",
    "    print(f'I JUST LOCALLY CHANGED GLOBAL X TO {x}')"
   ]
  },
  {
   "cell_type": "code",
   "execution_count": 66,
   "id": "03eb36e0",
   "metadata": {},
   "outputs": [
    {
     "name": "stdout",
     "output_type": "stream",
     "text": [
      "50\n"
     ]
    }
   ],
   "source": [
    "print(x)"
   ]
  },
  {
   "cell_type": "code",
   "execution_count": 67,
   "id": "795acc34",
   "metadata": {},
   "outputs": [
    {
     "name": "stdout",
     "output_type": "stream",
     "text": [
      "X is 50\n",
      "I JUST LOCALLY CHANGED GLOBAL X TO NEW VALUE\n"
     ]
    }
   ],
   "source": [
    "func()"
   ]
  },
  {
   "cell_type": "code",
   "execution_count": 68,
   "id": "5ed6540e",
   "metadata": {},
   "outputs": [
    {
     "name": "stdout",
     "output_type": "stream",
     "text": [
      "NEW VALUE\n"
     ]
    }
   ],
   "source": [
    "print(x)"
   ]
  },
  {
   "cell_type": "code",
   "execution_count": 71,
   "id": "88ac6e74",
   "metadata": {},
   "outputs": [],
   "source": [
    "# In general, AVOID USING THE GLOBAL KEYWORD UNLESS ABSOLUTELY NECESSARY!\n",
    "# If you need to make changes to a Global variable inside a function, call it and return it as an object, like this..."
   ]
  },
  {
   "cell_type": "code",
   "execution_count": 72,
   "id": "714e4eb7",
   "metadata": {},
   "outputs": [],
   "source": [
    "x = 50\n",
    "\n",
    "def func(x):\n",
    "    \n",
    "    print(f'X is {x}')\n",
    "        \n",
    "    # LOCAL REASSIGNMENT ON A GLOBAL VARIABLE!\n",
    "    x = 'NEW VALUE'\n",
    "    print(f'I JUST LOCALLY CHANGED GLOBAL X TO {x}')\n",
    "    \n",
    "    return x"
   ]
  },
  {
   "cell_type": "code",
   "execution_count": 73,
   "id": "10a4ad32",
   "metadata": {},
   "outputs": [
    {
     "name": "stdout",
     "output_type": "stream",
     "text": [
      "50\n"
     ]
    }
   ],
   "source": [
    "print(x)"
   ]
  },
  {
   "cell_type": "code",
   "execution_count": 77,
   "id": "54bbf412",
   "metadata": {},
   "outputs": [
    {
     "name": "stdout",
     "output_type": "stream",
     "text": [
      "X is 50\n",
      "I JUST LOCALLY CHANGED GLOBAL X TO NEW VALUE\n"
     ]
    }
   ],
   "source": [
    "x = func(x)"
   ]
  },
  {
   "cell_type": "code",
   "execution_count": 78,
   "id": "9bf97be9",
   "metadata": {},
   "outputs": [
    {
     "name": "stdout",
     "output_type": "stream",
     "text": [
      "NEW VALUE\n"
     ]
    }
   ],
   "source": [
    "print(x)"
   ]
  },
  {
   "cell_type": "code",
   "execution_count": 80,
   "id": "3239c573",
   "metadata": {},
   "outputs": [],
   "source": [
    "# In general, that is a much better path to take instead of using the 'global' keyword.\n",
    "# It's much cleaner and safer.\n",
    "# This is easier to debug because there's a clear reassignment happening."
   ]
  },
  {
   "cell_type": "code",
   "execution_count": 81,
   "id": "d41f550e",
   "metadata": {},
   "outputs": [],
   "source": [
    "# Section 6 wraps up with the notebook, 08-Functions and Methods Homework\n",
    "# See that notebook for details"
   ]
  },
  {
   "cell_type": "code",
   "execution_count": null,
   "id": "1da0fd99",
   "metadata": {},
   "outputs": [],
   "source": []
  }
 ],
 "metadata": {
  "kernelspec": {
   "display_name": "Python 3 (ipykernel)",
   "language": "python",
   "name": "python3"
  },
  "language_info": {
   "codemirror_mode": {
    "name": "ipython",
    "version": 3
   },
   "file_extension": ".py",
   "mimetype": "text/x-python",
   "name": "python",
   "nbconvert_exporter": "python",
   "pygments_lexer": "ipython3",
   "version": "3.9.13"
  }
 },
 "nbformat": 4,
 "nbformat_minor": 5
}
