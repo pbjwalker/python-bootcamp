{
 "cells": [
  {
   "cell_type": "markdown",
   "metadata": {},
   "source": [
    "___\n",
    "\n",
    "<a href='https://www.udemy.com/user/joseportilla/'><img src='../Pierian_Data_Logo.png'/></a>\n",
    "___\n",
    "<center><em>Content Copyright by Pierian Data</em></center>"
   ]
  },
  {
   "cell_type": "markdown",
   "metadata": {},
   "source": [
    "# Milestone Project 1: Walkthrough Steps Workbook\n",
    "\n",
    "Below is a set of steps for you to follow to try to create the Tic Tac Toe Milestone Project game!"
   ]
  },
  {
   "cell_type": "markdown",
   "metadata": {},
   "source": [
    "#### Some suggested tools before you get started:\n",
    "To take input from a user:\n",
    "\n",
    "    player1 = input(\"Please pick a marker 'X' or 'O'\")\n",
    "    \n",
    "Note that input() takes in a string. If you need an integer value, use\n",
    "\n",
    "    position = int(input('Please enter a number'))\n",
    "    \n",
    "<br>To clear the screen between moves:\n",
    "\n",
    "    from IPython.display import clear_output\n",
    "    clear_output()\n",
    "    \n",
    "Note that clear_output() will only work in jupyter. To clear the screen in other IDEs, consider:\n",
    "\n",
    "    print('\\n'*100)\n",
    "    \n",
    "This scrolls the previous board up out of view. Now on to the program!"
   ]
  },
  {
   "cell_type": "markdown",
   "metadata": {},
   "source": [
    "**Step 1: Write a function that can print out a board. Set up your board as a list, where each index 1-9 corresponds with a number on a number pad, so you get a 3 by 3 board representation.**"
   ]
  },
  {
   "cell_type": "code",
   "execution_count": 9,
   "metadata": {},
   "outputs": [],
   "source": [
    "# Ihis import statement was missing from earlier examples put out\n",
    "# This is why the clear_output() function didn't work.\n",
    "# I knew there must be an import statement.\n",
    "# I searched for this, but I couldn't find where to import the function from.\n",
    "\n",
    "from IPython.display import clear_output\n",
    "\n",
    "def display_board(board):\n",
    "    print(board[7]+'|'+board[8]+'|'+board[9])\n",
    "    print(board[4]+'|'+board[5]+'|'+board[6])\n",
    "    print(board[1]+'|'+board[2]+'|'+board[3])\n",
    "    "
   ]
  },
  {
   "cell_type": "markdown",
   "metadata": {},
   "source": [
    "**TEST Step 1:** run your function on a test version of the board list, and make adjustments as necessary"
   ]
  },
  {
   "cell_type": "code",
   "execution_count": 52,
   "metadata": {},
   "outputs": [
    {
     "name": "stdout",
     "output_type": "stream",
     "text": [
      "7|8|9\n",
      "4|5|6\n",
      "1|2|3\n"
     ]
    }
   ],
   "source": [
    "board = ['#','1','2','3','4','5','6','7','8','9']\n",
    "display_board(board)"
   ]
  },
  {
   "cell_type": "markdown",
   "metadata": {},
   "source": [
    "**Step 2: Write a function that can take in a player input and assign their marker as 'X' or 'O'. Think about using *while* loops to continually ask until you get a correct answer.**"
   ]
  },
  {
   "cell_type": "code",
   "execution_count": 29,
   "metadata": {},
   "outputs": [],
   "source": [
    "# Player 1 chooses to be X or O\n",
    "\n",
    "def player_choice():\n",
    "    \n",
    "    marker = ''\n",
    "    \n",
    "    # keep asking player 1 to choose X or O\n",
    "    \n",
    "    while marker != 'X' and marker != 'O':\n",
    "        marker = input('Player 1, do you want to be (X or O)?  ')\n",
    "    \n",
    "    # then assign player 2 the opposite marker\n",
    "    player1 = marker\n",
    "    \n",
    "    if marker == 'X':\n",
    "        player2 = 'O'\n",
    "    else:\n",
    "        player2 = 'X'\n",
    "    return (player1,player2)  # use tuple unpacking on the result"
   ]
  },
  {
   "cell_type": "markdown",
   "metadata": {},
   "source": [
    "**TEST:** run the function to make sure player can chose his marker"
   ]
  },
  {
   "cell_type": "code",
   "execution_count": 28,
   "metadata": {},
   "outputs": [
    {
     "name": "stdout",
     "output_type": "stream",
     "text": [
      "Player 1, do you want to be (X or O)?  X\n"
     ]
    },
    {
     "data": {
      "text/plain": [
       "('X', 'O')"
      ]
     },
     "execution_count": 28,
     "metadata": {},
     "output_type": "execute_result"
    }
   ],
   "source": [
    "player_choice()"
   ]
  },
  {
   "cell_type": "code",
   "execution_count": 31,
   "metadata": {},
   "outputs": [
    {
     "name": "stdout",
     "output_type": "stream",
     "text": [
      "Player 1, do you want to be (X or O)?  X\n"
     ]
    }
   ],
   "source": [
    "# using tuple unpacking with player_choice\n",
    "player1_marker, player2_marker = player_choice()"
   ]
  },
  {
   "cell_type": "code",
   "execution_count": 32,
   "metadata": {},
   "outputs": [
    {
     "data": {
      "text/plain": [
       "'X'"
      ]
     },
     "execution_count": 32,
     "metadata": {},
     "output_type": "execute_result"
    }
   ],
   "source": [
    "player1_marker"
   ]
  },
  {
   "cell_type": "code",
   "execution_count": 33,
   "metadata": {},
   "outputs": [
    {
     "data": {
      "text/plain": [
       "'O'"
      ]
     },
     "execution_count": 33,
     "metadata": {},
     "output_type": "execute_result"
    }
   ],
   "source": [
    "player2_marker"
   ]
  },
  {
   "cell_type": "code",
   "execution_count": 22,
   "metadata": {},
   "outputs": [],
   "source": [
    "# This is just a little different that what the instructor is doing.\n",
    "# I like the idea of showing valid positions as 1-9\n",
    "# and removing them as they are chosen by popping them off.\n",
    "# Then it's easy to see if there are no valid moves and it's a tie.\n",
    "# I also like the idea of keeping a 'q' in the board to quit the game.\n",
    "# Hopefully this won't cause issues later in this walk-through.\n",
    "# UPDATE: at this point, I can't setup it up to quit from here, so I'll take that part out...\n",
    "\n",
    "def player_input(valid_moves):\n",
    "    choice = 'wrong'\n",
    "    while choice not in valid_moves:\n",
    "        choice = input('Enter a move (1-9) or \"q\" to quit: ')\n",
    "    if choice == 'q':\n",
    "        pass\n",
    "    else:\n",
    "        return int(choice)"
   ]
  },
  {
   "cell_type": "markdown",
   "metadata": {},
   "source": [
    "**TEST Step 2:** run the function to make sure it returns the desired output"
   ]
  },
  {
   "cell_type": "code",
   "execution_count": 23,
   "metadata": {},
   "outputs": [
    {
     "name": "stdout",
     "output_type": "stream",
     "text": [
      "Enter a move (1-9) or \"q\" to quit: 1\n"
     ]
    },
    {
     "data": {
      "text/plain": [
       "1"
      ]
     },
     "execution_count": 23,
     "metadata": {},
     "output_type": "execute_result"
    }
   ],
   "source": [
    "player_input(my_board)"
   ]
  },
  {
   "cell_type": "markdown",
   "metadata": {},
   "source": [
    "**Step 3: Write a function that takes in the board list object, a marker ('X' or 'O'), and a desired position (number 1-9) and assigns it to the board.**"
   ]
  },
  {
   "cell_type": "code",
   "execution_count": null,
   "metadata": {
    "collapsed": true
   },
   "outputs": [],
   "source": [
    "def place_marker(board, valid_moves, marker, position):\n",
    "    \n",
    "    board[position] = marker\n",
    "    \n",
    "    # remove that move from valid_moves\n",
    "    valid_moves.pop(valid_moves.index(str(position)))\n",
    "    \n",
    "    return (board,valid_moves)"
   ]
  },
  {
   "cell_type": "markdown",
   "metadata": {},
   "source": [
    "**TEST Step 3:** run the place marker function using test parameters and display the modified board"
   ]
  },
  {
   "cell_type": "code",
   "execution_count": null,
   "metadata": {
    "collapsed": true
   },
   "outputs": [],
   "source": [
    "place_marker(test_board,'$',8)\n",
    "display_board(test_board)"
   ]
  },
  {
   "cell_type": "markdown",
   "metadata": {},
   "source": [
    "**Step 4: Write a function that takes in a board and a mark (X or O) and then checks to see if that mark has won. **"
   ]
  },
  {
   "cell_type": "code",
   "execution_count": null,
   "metadata": {
    "collapsed": true
   },
   "outputs": [],
   "source": [
    "def win_check(board, mark):\n",
    "    \n",
    "    # Check 3 in a row\n",
    "    if (board[7] == board[8] == board[9]) or (board[4] == board[5] == board[6]) or (board[1] == board[2] == board[3]):\n",
    "        won = True\n",
    "        message = \"You won! 3 in a row!\"\n",
    "\n",
    "    # Check 3 in a column\n",
    "    elif (board[7] == board[4] == board[1]) or (board[8] == board[5] == board[2]) or (board[9] == board[9] == board[3]):\n",
    "        won = True\n",
    "        message = \"You won! 3 in a column!\"\n",
    "\n",
    "    # Check 3 diagonally\n",
    "    elif (board[7] == board[5] == board[3]) or (board[8] == board[5] == board[1]):\n",
    "        won = True\n",
    "        message = \"You won! 3 diagonally!\"\n",
    "\n",
    "    else:\n",
    "        won = False\n",
    "        message = \"\"\n",
    "\n",
    "    return (won, message)"
   ]
  },
  {
   "cell_type": "markdown",
   "metadata": {},
   "source": [
    "**TEST Step 4:** run the win_check function against our test_board - it should return True"
   ]
  },
  {
   "cell_type": "code",
   "execution_count": null,
   "metadata": {
    "collapsed": true
   },
   "outputs": [],
   "source": [
    "win_check(test_board,'X')"
   ]
  },
  {
   "cell_type": "markdown",
   "metadata": {},
   "source": [
    "**Step 5: Write a function that uses the random module to randomly decide which player goes first. You may want to lookup random.randint() Return a string of which player went first.**"
   ]
  },
  {
   "cell_type": "code",
   "execution_count": null,
   "metadata": {
    "collapsed": true
   },
   "outputs": [],
   "source": [
    "import random\n",
    "\n",
    "def choose_first():\n",
    "    pass"
   ]
  },
  {
   "cell_type": "markdown",
   "metadata": {},
   "source": [
    "**Step 6: Write a function that returns a boolean indicating whether a space on the board is freely available.**"
   ]
  },
  {
   "cell_type": "code",
   "execution_count": null,
   "metadata": {
    "collapsed": true
   },
   "outputs": [],
   "source": [
    "def space_check(board, position):\n",
    "    \n",
    "    pass"
   ]
  },
  {
   "cell_type": "markdown",
   "metadata": {},
   "source": [
    "**Step 7: Write a function that checks if the board is full and returns a boolean value. True if full, False otherwise.**"
   ]
  },
  {
   "cell_type": "code",
   "execution_count": null,
   "metadata": {
    "collapsed": true
   },
   "outputs": [],
   "source": [
    "def full_board_check(valid_moves):\n",
    "    full = False\n",
    "    if len(valid_moves) == 1:\n",
    "        print(\"It's a draw!\")\n",
    "        full = True\n",
    "    return full"
   ]
  },
  {
   "cell_type": "markdown",
   "metadata": {},
   "source": [
    "**Step 8: Write a function that asks for a player's next position (as a number 1-9) and then uses the function from step 6 to check if it's a free position. If it is, then return the position for later use.**"
   ]
  },
  {
   "cell_type": "code",
   "execution_count": null,
   "metadata": {
    "collapsed": true
   },
   "outputs": [],
   "source": [
    "def player_choice(board):\n",
    "    \n",
    "    pass"
   ]
  },
  {
   "cell_type": "markdown",
   "metadata": {},
   "source": [
    "**Step 9: Write a function that asks the player if they want to play again and returns a boolean True if they do want to play again.**"
   ]
  },
  {
   "cell_type": "code",
   "execution_count": null,
   "metadata": {
    "collapsed": true
   },
   "outputs": [],
   "source": [
    "def replay():\n",
    "    \n",
    "    pass"
   ]
  },
  {
   "cell_type": "code",
   "execution_count": null,
   "metadata": {},
   "outputs": [],
   "source": [
    "# My Game Functions\n",
    "# player_choice()  - choose X or O, return the choice\n",
    "# display_board(board) - just displays the current board\n",
    "# player_input(valid_moves)  - takes in valid_moves, chose a valid move (1-9), return the move, q to quit\n",
    "# place_marker(board, valid_moves, marker, position) - returns updated board and valid_moves\n",
    "# full_board_check(valid_moves) - takes valid_moves list to see if there's only one item left\n",
    "# win_check(board, mark) - takes the board\n",
    "# want_to_quit() - ask the question, returns True or False\n",
    "\n"
   ]
  },
  {
   "cell_type": "markdown",
   "metadata": {
    "collapsed": true
   },
   "source": [
    "**Step 10: Here comes the hard part! Use while loops and the functions you've made to run the game!**"
   ]
  },
  {
   "cell_type": "code",
   "execution_count": 63,
   "metadata": {},
   "outputs": [
    {
     "name": "stdout",
     "output_type": "stream",
     "text": [
      "X|8|9\n",
      "O|X|O\n",
      "X|O|X\n",
      "Congratulations, Player 1 You won! 3 diagonally!\n",
      "Enter (q) to quit, anything else to play again: q\n",
      "Thanks for playing!\n"
     ]
    }
   ],
   "source": [
    "# This lets us clear the board in Jupyter Notebook\n",
    "from IPython.display import clear_output\n",
    "\n",
    "\n",
    "# Player 1 chooses to be X or O\n",
    "def player_choice():\n",
    "    player1 = ''\n",
    "    \n",
    "    # keep asking player 1 to choose X or O until he makes a valid selection\n",
    "    while player1 != 'X' and player1 != 'O':\n",
    "        player1 = input('Player 1, do you want to be (X or O)?  ')\n",
    "    \n",
    "    if player1 == 'X':\n",
    "        player2 = 'O'\n",
    "    else:\n",
    "        player2 = 'X'\n",
    "    print(f'Player 1 = {player1}, Player 2 = {player2}')\n",
    "    return (player1,player2)  # use tuple unpacking on the result\n",
    "\n",
    "\n",
    "# Clear output and display the current board\n",
    "def display_board(board):\n",
    "    clear_output()\n",
    "    print(board[7]+'|'+board[8]+'|'+board[9])\n",
    "    print(board[4]+'|'+board[5]+'|'+board[6])\n",
    "    print(board[1]+'|'+board[2]+'|'+board[3])\n",
    "\n",
    "\n",
    "# Player selects the location to place his mark\n",
    "def player_input(valid_moves):\n",
    "    choice = 'wrong'\n",
    "    while choice not in valid_moves:\n",
    "        choice = input('Enter a move (1-9): ')\n",
    "    return int(choice)\n",
    "\n",
    "    \n",
    "def place_marker(board, valid_moves, marker, position):    \n",
    "    board[position] = marker\n",
    "    # remove that move from valid_moves\n",
    "    valid_moves.pop(valid_moves.index(str(position)))\n",
    "    return (board,valid_moves)\n",
    "\n",
    "\n",
    "def change_player(player1_turn):\n",
    "    player1_turn = not player1_turn\n",
    "    return player1_turn\n",
    "\n",
    "# Is the board full? Then it's a draw!\n",
    "def full_board_check(valid_moves):\n",
    "    if len(valid_moves) > 1:\n",
    "        keep_playing = True\n",
    "    else:\n",
    "        print(\"It's a draw!\")\n",
    "        keep_playing = False\n",
    "    return keep_playing\n",
    "\n",
    "\n",
    "# Did anyone win?\n",
    "def check_won(board):\n",
    "    \n",
    "    # Check 3 in a row\n",
    "    if (board[7] == board[8] == board[9]) or (board[4] == board[5] == board[6]) or (board[1] == board[2] == board[3]):\n",
    "        won = True\n",
    "        message = \"You won! 3 in a row!\"\n",
    "\n",
    "    # Check 3 in a column\n",
    "    elif (board[7] == board[4] == board[1]) or (board[8] == board[5] == board[2]) or (board[9] == board[9] == board[3]):\n",
    "        won = True\n",
    "        message = \"You won! 3 in a column!\"\n",
    "\n",
    "    # Check 3 diagonally\n",
    "    elif (board[7] == board[5] == board[3]) or (board[8] == board[5] == board[1]):\n",
    "        won = True\n",
    "        message = \"You won! 3 diagonally!\"\n",
    "\n",
    "    else:\n",
    "        won = False\n",
    "        message = \"\"\n",
    "\n",
    "    return (won, message)\n",
    "\n",
    "\n",
    "# Play again?\n",
    "def replay():\n",
    "    choice = input('Enter (q) to quit, anything else to play again: ')\n",
    "    if choice == 'q':\n",
    "        return False\n",
    "    else:\n",
    "        return True\n",
    "\n",
    "\n",
    "###############  MAIN BODY OF PROGRAM ###############\n",
    "\n",
    "# The initial variables\n",
    "# board = ['#','1','2','3','4','5','6','7','8','9']\n",
    "# valid_moves = ['#','1','2','3','4','5','6','7','8','9']\n",
    "# player1_turn = False\n",
    "keep_playing = True\n",
    "\n",
    "print('Welcome to Tic Tac Toe!')\n",
    "\n",
    "while keep_playing:\n",
    "    game_on = True # this needs to be inside the inner while loop, or it only works once\n",
    "    won = False\n",
    "    board = ['#','1','2','3','4','5','6','7','8','9']\n",
    "    valid_moves = ['#','1','2','3','4','5','6','7','8','9']\n",
    "    player1_turn = False\n",
    "    \n",
    "    # player1 chooses X or O, player2 gets the other marker\n",
    "    player1, player2 = player_choice()\n",
    "    if player1 == 'X':\n",
    "        player1_turn = True\n",
    "    \n",
    "    display_board(board)\n",
    "\n",
    "\n",
    "    while game_on:\n",
    "        \n",
    "        if player1_turn:\n",
    "            # player1's turn\n",
    "            # marker set for player1\n",
    "            marker = player1\n",
    "            \n",
    "            # the player picks his move\n",
    "            print(\"Player 1, your turn\")\n",
    "            position = player_input(valid_moves)\n",
    "            \n",
    "            # Place current player's marker on the board, remove a valid move...\n",
    "            # Return the values for the new board and valid_moves\n",
    "            board,valid_moves = place_marker(board, valid_moves, marker, position)\n",
    "            display_board(board)\n",
    "            won,message = check_won(board)\n",
    "            if won:\n",
    "                print('Congratulations, Player 1 ' + message)\n",
    "                game_on = False\n",
    "            \n",
    "        else:\n",
    "            # player2's turn\n",
    "            # marker set for player2\n",
    "            marker = player2\n",
    "            \n",
    "            # the player picks his move\n",
    "            print(\"Player 2, your turn\")\n",
    "            position = player_input(valid_moves)\n",
    "            \n",
    "            # Place current player's marker on the board, remove a valid move...\n",
    "            # Return the values for the new board and valid_moves\n",
    "            board,valid_moves = place_marker(board, valid_moves, marker, position)\n",
    "            display_board(board)\n",
    "            won,message = check_won(board)\n",
    "            if won:\n",
    "                print('Congratulations, Player 2 ' + message)\n",
    "                game_on = False\n",
    "            \n",
    "        \n",
    "        # Change current player\n",
    "        player1_turn = change_player(player1_turn)\n",
    "\n",
    "        \n",
    "        # Check for draw, and if so, break the while loop \n",
    "        if not won:\n",
    "            game_on = full_board_check(valid_moves)\n",
    "        \n",
    "        \n",
    "        \n",
    "    keep_playing = replay()\n",
    "\n",
    "# Final message\n",
    "print(\"Thanks for playing!\")"
   ]
  },
  {
   "cell_type": "code",
   "execution_count": 57,
   "metadata": {},
   "outputs": [
    {
     "data": {
      "text/plain": [
       "True"
      ]
     },
     "execution_count": 57,
     "metadata": {},
     "output_type": "execute_result"
    }
   ],
   "source": [
    "won"
   ]
  },
  {
   "cell_type": "code",
   "execution_count": null,
   "metadata": {},
   "outputs": [],
   "source": []
  },
  {
   "cell_type": "markdown",
   "metadata": {
    "collapsed": true
   },
   "source": [
    "## Good Job!"
   ]
  }
 ],
 "metadata": {
  "kernelspec": {
   "display_name": "Python 3 (ipykernel)",
   "language": "python",
   "name": "python3"
  },
  "language_info": {
   "codemirror_mode": {
    "name": "ipython",
    "version": 3
   },
   "file_extension": ".py",
   "mimetype": "text/x-python",
   "name": "python",
   "nbconvert_exporter": "python",
   "pygments_lexer": "ipython3",
   "version": "3.9.13"
  }
 },
 "nbformat": 4,
 "nbformat_minor": 1
}
