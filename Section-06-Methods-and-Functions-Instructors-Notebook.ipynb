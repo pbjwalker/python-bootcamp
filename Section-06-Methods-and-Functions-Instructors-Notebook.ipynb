{
 "cells": [
  {
   "cell_type": "code",
   "execution_count": null,
   "id": "ce38fad3",
   "metadata": {},
   "outputs": [],
   "source": [
    "# Section 6: Methods and Functions"
   ]
  },
  {
   "cell_type": "markdown",
   "id": "c98f4cbe",
   "metadata": {},
   "source": [
    "<strong>41 - Methods and the Python Documentation</strong>"
   ]
  },
  {
   "cell_type": "code",
   "execution_count": null,
   "id": "16117c59",
   "metadata": {},
   "outputs": [],
   "source": [
    "mylist = [1,2,3]"
   ]
  },
  {
   "cell_type": "code",
   "execution_count": null,
   "id": "791ac6d3",
   "metadata": {},
   "outputs": [],
   "source": [
    "mylist.append(4)"
   ]
  },
  {
   "cell_type": "code",
   "execution_count": null,
   "id": "fd93cdda",
   "metadata": {},
   "outputs": [],
   "source": [
    "mylist"
   ]
  },
  {
   "cell_type": "code",
   "execution_count": null,
   "id": "a2c37acf",
   "metadata": {},
   "outputs": [],
   "source": [
    "mylist.pop()"
   ]
  },
  {
   "cell_type": "code",
   "execution_count": null,
   "id": "492f6d15",
   "metadata": {},
   "outputs": [],
   "source": [
    "mylist"
   ]
  },
  {
   "cell_type": "code",
   "execution_count": null,
   "id": "05149e87",
   "metadata": {},
   "outputs": [],
   "source": [
    "mylist.append(10)"
   ]
  },
  {
   "cell_type": "code",
   "execution_count": null,
   "id": "9525b595",
   "metadata": {},
   "outputs": [],
   "source": [
    "mylist"
   ]
  },
  {
   "cell_type": "code",
   "execution_count": null,
   "id": "1abcf761",
   "metadata": {},
   "outputs": [],
   "source": [
    "popped_off = mylist.pop()"
   ]
  },
  {
   "cell_type": "code",
   "execution_count": null,
   "id": "48e603eb",
   "metadata": {},
   "outputs": [],
   "source": [
    "popped_off"
   ]
  },
  {
   "cell_type": "code",
   "execution_count": null,
   "id": "d356e8f0",
   "metadata": {},
   "outputs": [],
   "source": [
    "mylist"
   ]
  },
  {
   "cell_type": "code",
   "execution_count": null,
   "id": "477f9b92",
   "metadata": {},
   "outputs": [],
   "source": [
    "# In this case, the list mylist is an object.\n",
    "# Once you define an object. you can enter the name, a dot, and press tab.\n",
    "# This pops up a box to show you what methods are available to call on the object."
   ]
  },
  {
   "cell_type": "code",
   "execution_count": null,
   "id": "edf431fd",
   "metadata": {},
   "outputs": [],
   "source": [
    "# Two ways to get Python to help you learn about a method.\n",
    "# Do the above and find a method you want info on.\n",
    "# In the Jupyter notebook, you can enter it like this, and hit shift-tab for a small description\n",
    "# mylist.insert"
   ]
  },
  {
   "cell_type": "code",
   "execution_count": null,
   "id": "375436d7",
   "metadata": {},
   "outputs": [],
   "source": [
    "# Outside of the Jupyter notebook, you can call the help() function\n",
    "help(mylist.insert)"
   ]
  },
  {
   "cell_type": "code",
   "execution_count": null,
   "id": "f447b906",
   "metadata": {},
   "outputs": [],
   "source": [
    "# The other way is to go to the Python documentation site\n",
    "# https://docs.python.org\n",
    "# Go to the Library Reference section"
   ]
  },
  {
   "cell_type": "code",
   "execution_count": null,
   "id": "0e111693",
   "metadata": {},
   "outputs": [],
   "source": [
    "# A lot of people go to Stackoverflow because it's more readable\n",
    "# https://stackoverflow.com/questions"
   ]
  },
  {
   "cell_type": "markdown",
   "id": "6050548e",
   "metadata": {},
   "source": [
    "<strong>42 - Introduction to Functions</strong>"
   ]
  },
  {
   "cell_type": "code",
   "execution_count": null,
   "id": "58453c85",
   "metadata": {},
   "outputs": [],
   "source": [
    "# Remember: Creating clean, repeatable code is a key part of becoming an effectice programmer\n",
    "# Functions allow us to create blocks of code that can be easily executed may times, without needing to constantly write the entire block of code."
   ]
  },
  {
   "cell_type": "markdown",
   "id": "7eec7ab0",
   "metadata": {},
   "source": [
    "<strong>43 - def Keyword</strong>"
   ]
  },
  {
   "cell_type": "code",
   "execution_count": null,
   "id": "e9e79b35",
   "metadata": {},
   "outputs": [],
   "source": [
    "# Creating a function requires a very specific syntax, including the def keyword, correct indentation, and proper structure.\n"
   ]
  },
  {
   "cell_type": "code",
   "execution_count": null,
   "id": "77aaa819",
   "metadata": {},
   "outputs": [],
   "source": [
    "# function syntax\n",
    "#\n",
    "# def name_of_function():\n",
    "#    '''\n",
    "\n",
    "\n",
    "#    '''\n",
    "#    print(\"Hello\")"
   ]
  },
  {
   "cell_type": "code",
   "execution_count": null,
   "id": "07391fd8",
   "metadata": {},
   "outputs": [],
   "source": [
    "# notice that the \"name_of_function():\" is written in snake casing\n",
    "# Snake casing is all lowercase with underscores between words\n",
    "# In general, by convention, Python uses snake casing for the name of the function\n",
    "# The parentheses at the end can contain arguments or parameters that are passed into the function.\n",
    "# The colon at the end indicates an upcoming indented block\n",
    "# The block between the triple quotes '''   ''' is the Docstring, which explains the function.\n",
    "# The Docstring is optional.  This code is not executed.  \n",
    "# In the example, \"print(\"Hello\")\" is the code that will be executed everytime you call the function\n",
    "# In most cases, use the \"return\" keyword to return the result of the function"
   ]
  },
  {
   "cell_type": "code",
   "execution_count": null,
   "id": "6ffe9d7a",
   "metadata": {},
   "outputs": [],
   "source": [
    "def name_of_function(name):\n",
    "    '''This is a basic function'''\n",
    "    print(\"Hello \" + name)"
   ]
  },
  {
   "cell_type": "code",
   "execution_count": null,
   "id": "de3cdeb3",
   "metadata": {},
   "outputs": [],
   "source": [
    "name_of_function(\"Paul\")"
   ]
  },
  {
   "cell_type": "code",
   "execution_count": null,
   "id": "83bbec1f",
   "metadata": {},
   "outputs": [],
   "source": [
    "x = \"Trevor\""
   ]
  },
  {
   "cell_type": "code",
   "execution_count": null,
   "id": "17a2b660",
   "metadata": {},
   "outputs": [],
   "source": [
    "name_of_function(x)"
   ]
  },
  {
   "cell_type": "code",
   "execution_count": null,
   "id": "6f787ba0",
   "metadata": {},
   "outputs": [],
   "source": [
    "# another example:\n",
    "\n",
    "# def add_function(num1,num2):\n",
    "#    return num1 + num2"
   ]
  },
  {
   "cell_type": "code",
   "execution_count": null,
   "id": "297208a8",
   "metadata": {},
   "outputs": [],
   "source": [
    "def add_function(num1,num2):\n",
    "    return num1+num2"
   ]
  },
  {
   "cell_type": "code",
   "execution_count": null,
   "id": "b892e758",
   "metadata": {},
   "outputs": [],
   "source": [
    "result = add_function(1,2)"
   ]
  },
  {
   "cell_type": "code",
   "execution_count": null,
   "id": "f268d557",
   "metadata": {},
   "outputs": [],
   "source": [
    "result"
   ]
  },
  {
   "cell_type": "code",
   "execution_count": null,
   "id": "ada2cefd",
   "metadata": {},
   "outputs": [],
   "source": [
    "# Using return allows you to save the result as a variable\n",
    "# Just using a print statement inside the function does not"
   ]
  },
  {
   "cell_type": "code",
   "execution_count": null,
   "id": "07467b45",
   "metadata": {},
   "outputs": [],
   "source": [
    "def does_it_save(printthis):\n",
    "    print(\"My string is \" + printthis)"
   ]
  },
  {
   "cell_type": "code",
   "execution_count": null,
   "id": "9194a9bd",
   "metadata": {},
   "outputs": [],
   "source": [
    "myresult = does_it_save(\"Don't think so\")"
   ]
  },
  {
   "cell_type": "code",
   "execution_count": null,
   "id": "85b83af8",
   "metadata": {},
   "outputs": [],
   "source": [
    "myresult"
   ]
  },
  {
   "cell_type": "code",
   "execution_count": null,
   "id": "0f132bd2",
   "metadata": {},
   "outputs": [],
   "source": [
    "print(myresult)"
   ]
  },
  {
   "cell_type": "markdown",
   "id": "7ab75761",
   "metadata": {},
   "source": [
    "<strong>44 - Basics of Python Functions</strong>"
   ]
  },
  {
   "cell_type": "code",
   "execution_count": 1,
   "id": "7bec29d5",
   "metadata": {},
   "outputs": [],
   "source": [
    "def say_hello():\n",
    "    print(\"Hello\")"
   ]
  },
  {
   "cell_type": "code",
   "execution_count": 2,
   "id": "6682a5be",
   "metadata": {},
   "outputs": [
    {
     "name": "stdout",
     "output_type": "stream",
     "text": [
      "Hello\n"
     ]
    }
   ],
   "source": [
    "say_hello()"
   ]
  },
  {
   "cell_type": "code",
   "execution_count": 4,
   "id": "26e29507",
   "metadata": {},
   "outputs": [
    {
     "data": {
      "text/plain": [
       "<function __main__.say_hello()>"
      ]
     },
     "execution_count": 4,
     "metadata": {},
     "output_type": "execute_result"
    }
   ],
   "source": [
    "# if you don't use the parentheses, you don't actually call the function\n",
    "say_hello"
   ]
  },
  {
   "cell_type": "code",
   "execution_count": 5,
   "id": "f6db4b60",
   "metadata": {},
   "outputs": [],
   "source": [
    "def say_hello(name):\n",
    "    print(f\"Hello {name}\")"
   ]
  },
  {
   "cell_type": "code",
   "execution_count": 6,
   "id": "c5401416",
   "metadata": {},
   "outputs": [
    {
     "name": "stdout",
     "output_type": "stream",
     "text": [
      "Hello paul\n"
     ]
    }
   ],
   "source": [
    "say_hello(\"paul\")"
   ]
  },
  {
   "cell_type": "code",
   "execution_count": 7,
   "id": "a65854d6",
   "metadata": {},
   "outputs": [
    {
     "ename": "TypeError",
     "evalue": "say_hello() missing 1 required positional argument: 'name'",
     "output_type": "error",
     "traceback": [
      "\u001b[0;31m---------------------------------------------------------------------------\u001b[0m",
      "\u001b[0;31mTypeError\u001b[0m                                 Traceback (most recent call last)",
      "\u001b[0;32m/tmp/ipykernel_59628/2814888808.py\u001b[0m in \u001b[0;36m<module>\u001b[0;34m\u001b[0m\n\u001b[0;32m----> 1\u001b[0;31m \u001b[0msay_hello\u001b[0m\u001b[0;34m(\u001b[0m\u001b[0;34m)\u001b[0m\u001b[0;34m\u001b[0m\u001b[0;34m\u001b[0m\u001b[0m\n\u001b[0m",
      "\u001b[0;31mTypeError\u001b[0m: say_hello() missing 1 required positional argument: 'name'"
     ]
    }
   ],
   "source": [
    "say_hello()"
   ]
  },
  {
   "cell_type": "code",
   "execution_count": null,
   "id": "2b529a40",
   "metadata": {},
   "outputs": [],
   "source": [
    "# Either provide a value when you call the function or provide a default value when you create the function."
   ]
  },
  {
   "cell_type": "code",
   "execution_count": 8,
   "id": "af37088b",
   "metadata": {},
   "outputs": [],
   "source": [
    "# this is an example of providing the function with a default value\n",
    "\n",
    "def say_hello(name='YOUR NAME HERE'):\n",
    "    print(f\"Hello {name}\")"
   ]
  },
  {
   "cell_type": "code",
   "execution_count": 9,
   "id": "821d7222",
   "metadata": {},
   "outputs": [
    {
     "name": "stdout",
     "output_type": "stream",
     "text": [
      "Hello YOUR NAME HERE\n"
     ]
    }
   ],
   "source": [
    "say_hello()"
   ]
  },
  {
   "cell_type": "code",
   "execution_count": 10,
   "id": "c24bffee",
   "metadata": {},
   "outputs": [],
   "source": [
    "# remember the return keyword allows you to assign the result to a variable\n",
    "\n",
    "def add_num(num1,num2):\n",
    "    return num1+num2"
   ]
  },
  {
   "cell_type": "code",
   "execution_count": 11,
   "id": "1911416e",
   "metadata": {},
   "outputs": [
    {
     "data": {
      "text/plain": [
       "30"
      ]
     },
     "execution_count": 11,
     "metadata": {},
     "output_type": "execute_result"
    }
   ],
   "source": [
    "result = add_num(10,20)\n",
    "result"
   ]
  },
  {
   "cell_type": "code",
   "execution_count": 12,
   "id": "26df3540",
   "metadata": {},
   "outputs": [],
   "source": [
    "def print_result(a,b):\n",
    "    print(a+b)"
   ]
  },
  {
   "cell_type": "code",
   "execution_count": 19,
   "id": "6fcd757a",
   "metadata": {},
   "outputs": [
    {
     "name": "stdout",
     "output_type": "stream",
     "text": [
      "30\n"
     ]
    }
   ],
   "source": [
    "# this doesn't actually assign anything to the 'result' variable\n",
    "\n",
    "result = print_result(10,20)"
   ]
  },
  {
   "cell_type": "code",
   "execution_count": 20,
   "id": "0fe46a6a",
   "metadata": {},
   "outputs": [],
   "source": [
    "# see??\n",
    "\n",
    "result"
   ]
  },
  {
   "cell_type": "code",
   "execution_count": 21,
   "id": "0cd248fb",
   "metadata": {},
   "outputs": [],
   "source": [
    "mynumber = add_num(10,20)"
   ]
  },
  {
   "cell_type": "code",
   "execution_count": 22,
   "id": "27e0f2c5",
   "metadata": {},
   "outputs": [
    {
     "data": {
      "text/plain": [
       "30"
      ]
     },
     "execution_count": 22,
     "metadata": {},
     "output_type": "execute_result"
    }
   ],
   "source": [
    "mynumber"
   ]
  },
  {
   "cell_type": "code",
   "execution_count": 23,
   "id": "84d88d32",
   "metadata": {},
   "outputs": [],
   "source": [
    "# this isn't real common\n",
    "# normally you either print or return\n",
    "def myfunc(a,b):\n",
    "    print(a+b)\n",
    "    return a+b"
   ]
  },
  {
   "cell_type": "code",
   "execution_count": 24,
   "id": "857364cc",
   "metadata": {},
   "outputs": [
    {
     "name": "stdout",
     "output_type": "stream",
     "text": [
      "30\n"
     ]
    },
    {
     "data": {
      "text/plain": [
       "30"
      ]
     },
     "execution_count": 24,
     "metadata": {},
     "output_type": "execute_result"
    }
   ],
   "source": [
    "myfunc(10,20)"
   ]
  },
  {
   "cell_type": "code",
   "execution_count": 25,
   "id": "6895345c",
   "metadata": {},
   "outputs": [
    {
     "name": "stdout",
     "output_type": "stream",
     "text": [
      "30\n"
     ]
    }
   ],
   "source": [
    "result = myfunc(10,20)"
   ]
  },
  {
   "cell_type": "code",
   "execution_count": 26,
   "id": "4ad75279",
   "metadata": {},
   "outputs": [
    {
     "data": {
      "text/plain": [
       "30"
      ]
     },
     "execution_count": 26,
     "metadata": {},
     "output_type": "execute_result"
    }
   ],
   "source": [
    "result"
   ]
  },
  {
   "cell_type": "code",
   "execution_count": 27,
   "id": "dc7a9edc",
   "metadata": {},
   "outputs": [],
   "source": [
    "# another reminder\n",
    "# Python is dynamically typed\n",
    "# you don't have to specify what type of data the variables in functions will be\n",
    "# it's faster to program but it's easier to end up with a bug, like adding two strings\n",
    "# the \"+\" sign in the print statement will concatenate the two strings together\n",
    "\n",
    "def sum_numbers(num1,num2):\n",
    "    print(num1+num2)"
   ]
  },
  {
   "cell_type": "code",
   "execution_count": 28,
   "id": "58c67773",
   "metadata": {},
   "outputs": [
    {
     "name": "stdout",
     "output_type": "stream",
     "text": [
      "1020\n"
     ]
    }
   ],
   "source": [
    "sum_numbers('10','20')"
   ]
  },
  {
   "cell_type": "code",
   "execution_count": 31,
   "id": "4c38cd66",
   "metadata": {},
   "outputs": [
    {
     "name": "stdout",
     "output_type": "stream",
     "text": [
      "30\n"
     ]
    }
   ],
   "source": [
    "sum_numbers(10,20)"
   ]
  },
  {
   "cell_type": "code",
   "execution_count": 32,
   "id": "41d8d298",
   "metadata": {},
   "outputs": [
    {
     "ename": "TypeError",
     "evalue": "can only concatenate str (not \"int\") to str",
     "output_type": "error",
     "traceback": [
      "\u001b[0;31m---------------------------------------------------------------------------\u001b[0m",
      "\u001b[0;31mTypeError\u001b[0m                                 Traceback (most recent call last)",
      "\u001b[0;32m/tmp/ipykernel_59628/337228674.py\u001b[0m in \u001b[0;36m<module>\u001b[0;34m\u001b[0m\n\u001b[0;32m----> 1\u001b[0;31m \u001b[0msum_numbers\u001b[0m\u001b[0;34m(\u001b[0m\u001b[0;34m'10'\u001b[0m\u001b[0;34m,\u001b[0m\u001b[0;36m20\u001b[0m\u001b[0;34m)\u001b[0m\u001b[0;34m\u001b[0m\u001b[0;34m\u001b[0m\u001b[0m\n\u001b[0m",
      "\u001b[0;32m/tmp/ipykernel_59628/578963993.py\u001b[0m in \u001b[0;36msum_numbers\u001b[0;34m(num1, num2)\u001b[0m\n\u001b[1;32m      6\u001b[0m \u001b[0;34m\u001b[0m\u001b[0m\n\u001b[1;32m      7\u001b[0m \u001b[0;32mdef\u001b[0m \u001b[0msum_numbers\u001b[0m\u001b[0;34m(\u001b[0m\u001b[0mnum1\u001b[0m\u001b[0;34m,\u001b[0m\u001b[0mnum2\u001b[0m\u001b[0;34m)\u001b[0m\u001b[0;34m:\u001b[0m\u001b[0;34m\u001b[0m\u001b[0;34m\u001b[0m\u001b[0m\n\u001b[0;32m----> 8\u001b[0;31m     \u001b[0mprint\u001b[0m\u001b[0;34m(\u001b[0m\u001b[0mnum1\u001b[0m\u001b[0;34m+\u001b[0m\u001b[0mnum2\u001b[0m\u001b[0;34m)\u001b[0m\u001b[0;34m\u001b[0m\u001b[0;34m\u001b[0m\u001b[0m\n\u001b[0m",
      "\u001b[0;31mTypeError\u001b[0m: can only concatenate str (not \"int\") to str"
     ]
    }
   ],
   "source": [
    "sum_numbers('10',20)"
   ]
  },
  {
   "cell_type": "code",
   "execution_count": 33,
   "id": "73109954",
   "metadata": {},
   "outputs": [],
   "source": [
    "# it's a good idea to check the type of data if the user is interacting with the function"
   ]
  },
  {
   "cell_type": "markdown",
   "id": "5c5556ee",
   "metadata": {},
   "source": [
    "<strong>45 - Logic with Python Functions</strong>"
   ]
  },
  {
   "cell_type": "code",
   "execution_count": null,
   "id": "2091a047",
   "metadata": {},
   "outputs": [],
   "source": [
    "2 % 2"
   ]
  },
  {
   "cell_type": "code",
   "execution_count": null,
   "id": "0e5285ff",
   "metadata": {},
   "outputs": [],
   "source": [
    "2%2"
   ]
  },
  {
   "cell_type": "code",
   "execution_count": null,
   "id": "d8245db6",
   "metadata": {},
   "outputs": [],
   "source": [
    "# rember the % mod operator returns the remainder\n",
    "# so 2 % 2 returns the remainder of 2 divided by 2"
   ]
  },
  {
   "cell_type": "code",
   "execution_count": null,
   "id": "8039f415",
   "metadata": {},
   "outputs": [],
   "source": [
    "# so\n",
    "2 % 2\n",
    "# returns zero and means that 2 is an even number"
   ]
  },
  {
   "cell_type": "code",
   "execution_count": null,
   "id": "1e6ff328",
   "metadata": {},
   "outputs": [],
   "source": [
    "# function to check if a number is even\n",
    "\n",
    "def even_check(number):\n",
    "    result = number % 2 == 0\n",
    "    # this says either:\n",
    "    # - True, the number is evenly divisable by 2, meaning it is an even number\n",
    "    # - False, the number is NOT evenly divisable by 2\n",
    "    return result"
   ]
  },
  {
   "cell_type": "code",
   "execution_count": null,
   "id": "92b55c63",
   "metadata": {},
   "outputs": [],
   "source": [
    "even_check(41)"
   ]
  },
  {
   "cell_type": "code",
   "execution_count": null,
   "id": "78bc1ab7",
   "metadata": {},
   "outputs": [],
   "source": [
    "even_check(42)"
   ]
  },
  {
   "cell_type": "code",
   "execution_count": null,
   "id": "c7bee086",
   "metadata": {},
   "outputs": [],
   "source": [
    "# you don't need to assign the operation to a variable and return the variable\n",
    "# just do the operation as you return the result\n",
    "\n",
    "def even_check(num):\n",
    "    return num % 2 == 0"
   ]
  },
  {
   "cell_type": "code",
   "execution_count": null,
   "id": "a75e1ce1",
   "metadata": {},
   "outputs": [],
   "source": [
    "even_check(1234)"
   ]
  },
  {
   "cell_type": "code",
   "execution_count": null,
   "id": "fd5840a5",
   "metadata": {},
   "outputs": [],
   "source": [
    "# return True if a number is even inside a list\n",
    "\n",
    "def check_even_list(num_list):\n",
    "    \n",
    "    # need to loop through the list\n",
    "    for number in num_list:\n",
    "        if number % 2 == 0:\n",
    "            return True\n",
    "        else:\n",
    "            pass # remember pass means don't do anything\n",
    "    "
   ]
  },
  {
   "cell_type": "code",
   "execution_count": null,
   "id": "63d96608",
   "metadata": {},
   "outputs": [],
   "source": [
    "check_even_list([1,3,5])"
   ]
  },
  {
   "cell_type": "code",
   "execution_count": null,
   "id": "e4d01f89",
   "metadata": {},
   "outputs": [],
   "source": [
    "check_even_list([2,3,5,7,2])"
   ]
  },
  {
   "cell_type": "code",
   "execution_count": null,
   "id": "2fe0800b",
   "metadata": {},
   "outputs": [],
   "source": [
    "# return True if a number is even inside a list\n",
    "# this time return False if there is no even number\n",
    "\n",
    "def check_even_list(num_list):\n",
    "    \n",
    "    # need to loop through the list\n",
    "    for number in num_list:\n",
    "        if number % 2 == 0:\n",
    "            return True\n",
    "        else:\n",
    "            pass # remember pass means don't do anything\n",
    "    # You've just looped through every number in the list\n",
    "    # Had there been an even number, it would have stopped the loop and exited the function\n",
    "    return False"
   ]
  },
  {
   "cell_type": "code",
   "execution_count": null,
   "id": "849a1856",
   "metadata": {},
   "outputs": [],
   "source": [
    "check_even_list([1,3,5])"
   ]
  },
  {
   "cell_type": "code",
   "execution_count": null,
   "id": "03cc322a",
   "metadata": {},
   "outputs": [],
   "source": [
    "check_even_list([2,3,5,7,2])"
   ]
  },
  {
   "cell_type": "code",
   "execution_count": null,
   "id": "0bc5bce0",
   "metadata": {},
   "outputs": [],
   "source": [
    "# return all the even numbers in a list as a list\n",
    "\n",
    "# placeholder variables\n",
    "# it is common to define the placeholder variables at the top of the function\n",
    "even_numbers = []\n",
    "\n",
    "def return_even_list(num_list):\n",
    "    for number in num_list:\n",
    "        if number % 2 == 0:\n",
    "            even_numbers.append(number)\n",
    "        else:\n",
    "            pass\n",
    "    return even_numbers"
   ]
  },
  {
   "cell_type": "code",
   "execution_count": null,
   "id": "2780ad36",
   "metadata": {},
   "outputs": [],
   "source": [
    "return_even_list([1,2,3,4,5,6,7,8])"
   ]
  },
  {
   "cell_type": "markdown",
   "id": "e6abd170",
   "metadata": {},
   "source": [
    "<strong>46 - Tuple Unpacking with Python Function</strong>"
   ]
  },
  {
   "cell_type": "code",
   "execution_count": null,
   "id": "733adf3d",
   "metadata": {},
   "outputs": [],
   "source": [
    "# We can return multiple values from a function.\n",
    "# Remember you can loop through a list of tuples and unpack the values within them."
   ]
  },
  {
   "cell_type": "code",
   "execution_count": null,
   "id": "3a0e2313",
   "metadata": {},
   "outputs": [],
   "source": [
    "# sample list of tuples\n",
    "\n",
    "stock_prices = [('APPL',200),('GOOG',400),('MSFT',100)]"
   ]
  },
  {
   "cell_type": "code",
   "execution_count": null,
   "id": "ed3e5822",
   "metadata": {},
   "outputs": [],
   "source": [
    "type(stock_prices)"
   ]
  },
  {
   "cell_type": "code",
   "execution_count": null,
   "id": "3851233c",
   "metadata": {},
   "outputs": [],
   "source": [
    "type(stock_prices[0])"
   ]
  },
  {
   "cell_type": "code",
   "execution_count": null,
   "id": "62b21054",
   "metadata": {},
   "outputs": [],
   "source": [
    "type(stock_prices[0][0])"
   ]
  },
  {
   "cell_type": "code",
   "execution_count": null,
   "id": "6128f516",
   "metadata": {},
   "outputs": [],
   "source": [
    "stock_prices[0][0]"
   ]
  },
  {
   "cell_type": "code",
   "execution_count": null,
   "id": "9eaccd50",
   "metadata": {},
   "outputs": [],
   "source": [
    "for item in stock_prices:\n",
    "    print(item)"
   ]
  },
  {
   "cell_type": "code",
   "execution_count": null,
   "id": "6df30920",
   "metadata": {},
   "outputs": [],
   "source": [
    "for item in stock_prices[0]:\n",
    "    print(item)"
   ]
  },
  {
   "cell_type": "code",
   "execution_count": null,
   "id": "d2a2f3f2",
   "metadata": {},
   "outputs": [],
   "source": [
    "# using tuple unpacking in a for loop\n",
    "for ticker,price in stock_prices:\n",
    "    print(f'Stock: {ticker}   Current Price: {price}   10% Increase: {price+(0.1*price)}')"
   ]
  },
  {
   "cell_type": "code",
   "execution_count": null,
   "id": "143b4eb2",
   "metadata": {},
   "outputs": [],
   "source": [
    "# Using tuple unpacking in a function.\n",
    "# A function can return things as tuples, and then unpack the results from the function."
   ]
  },
  {
   "cell_type": "code",
   "execution_count": null,
   "id": "e6004451",
   "metadata": {},
   "outputs": [],
   "source": [
    "work_hours = [('Abby',100),('Billy',400),('Cassie',800)]"
   ]
  },
  {
   "cell_type": "code",
   "execution_count": null,
   "id": "c4b556e2",
   "metadata": {},
   "outputs": [],
   "source": [
    "# find who's the employee of the year, meaning who worked the most hours"
   ]
  },
  {
   "cell_type": "code",
   "execution_count": null,
   "id": "69b3955b",
   "metadata": {},
   "outputs": [],
   "source": [
    "def employee_check(work_hours):\n",
    "    \n",
    "    # two placeholder variables\n",
    "    current_max = 0  # this the current max hours\n",
    "    employee_of_month = ''\n",
    "    \n",
    "    # iterate through checking each employee's hours against the current_max\n",
    "    # if the employee worked more than the current_max,\n",
    "    # update current_max with their hours and make their name employee_of_month\n",
    "    \n",
    "    # now unpack the tuple\n",
    "    for employee,hours in work_hours:\n",
    "        if hours > current_max:\n",
    "            current_max = hours\n",
    "            employee_of_month = employee\n",
    "        else:\n",
    "            pass\n",
    "    \n",
    "    # At the end I plan to return a tuple like this:\n",
    "    return (employee_of_month,current_max)\n"
   ]
  },
  {
   "cell_type": "code",
   "execution_count": null,
   "id": "0205b549",
   "metadata": {},
   "outputs": [],
   "source": [
    "employee_check([('Abby',100),('Billy',4000),('Cassie',800)])"
   ]
  },
  {
   "cell_type": "code",
   "execution_count": null,
   "id": "3048f27c",
   "metadata": {},
   "outputs": [],
   "source": [
    "result = employee_check(work_hours)"
   ]
  },
  {
   "cell_type": "code",
   "execution_count": null,
   "id": "803f698f",
   "metadata": {},
   "outputs": [],
   "source": [
    "result"
   ]
  },
  {
   "cell_type": "code",
   "execution_count": null,
   "id": "e1cb0df9",
   "metadata": {},
   "outputs": [],
   "source": [
    "# But watch this...\n",
    "# You can also use tuple unpacking on the result when you call the function\n",
    "\n",
    "name,hours = employee_check(work_hours)"
   ]
  },
  {
   "cell_type": "code",
   "execution_count": null,
   "id": "d70a2e0a",
   "metadata": {},
   "outputs": [],
   "source": [
    "name"
   ]
  },
  {
   "cell_type": "code",
   "execution_count": null,
   "id": "090f594e",
   "metadata": {},
   "outputs": [],
   "source": [
    "hours"
   ]
  },
  {
   "cell_type": "code",
   "execution_count": null,
   "id": "3c23828a",
   "metadata": {},
   "outputs": [],
   "source": [
    "type(name)"
   ]
  },
  {
   "cell_type": "code",
   "execution_count": null,
   "id": "18b85610",
   "metadata": {},
   "outputs": [],
   "source": [
    "type(hours)"
   ]
  },
  {
   "cell_type": "code",
   "execution_count": null,
   "id": "7fad1f2a",
   "metadata": {},
   "outputs": [],
   "source": [
    "type(result)"
   ]
  },
  {
   "cell_type": "code",
   "execution_count": null,
   "id": "99f1b3c8",
   "metadata": {},
   "outputs": [],
   "source": [
    "var_type = type(result)"
   ]
  },
  {
   "cell_type": "code",
   "execution_count": null,
   "id": "610b6cd0",
   "metadata": {},
   "outputs": [],
   "source": [
    "var_type"
   ]
  },
  {
   "cell_type": "code",
   "execution_count": null,
   "id": "77ec948e",
   "metadata": {},
   "outputs": [],
   "source": [
    "type(var_type)"
   ]
  },
  {
   "cell_type": "code",
   "execution_count": null,
   "id": "eb33e720",
   "metadata": {},
   "outputs": [],
   "source": [
    "# Remember you can't unpack a value not returned by the function\n",
    "# for example...\n",
    "# the function does not return a third value, so you can't unpack it as 'location'\n",
    "\n",
    "name,hours,location = employee_check(work_hours)"
   ]
  },
  {
   "cell_type": "code",
   "execution_count": null,
   "id": "4941a55c",
   "metadata": {},
   "outputs": [],
   "source": [
    "# if you're unsure how many values you'll get, just assign it as one tuple and explore the values you get.\n",
    "\n",
    "item = employee_check(work_hours)"
   ]
  },
  {
   "cell_type": "code",
   "execution_count": null,
   "id": "d11ad36e",
   "metadata": {},
   "outputs": [],
   "source": [
    "item"
   ]
  },
  {
   "cell_type": "code",
   "execution_count": null,
   "id": "f060cd8d",
   "metadata": {},
   "outputs": [],
   "source": [
    "len(item)"
   ]
  },
  {
   "cell_type": "code",
   "execution_count": null,
   "id": "e8a11b50",
   "metadata": {},
   "outputs": [],
   "source": [
    "for thing in item:\n",
    "    print(thing)"
   ]
  },
  {
   "cell_type": "markdown",
   "id": "ff545780",
   "metadata": {},
   "source": [
    "<strong>47 - Interactions between Python Functions</strong>"
   ]
  },
  {
   "cell_type": "code",
   "execution_count": null,
   "id": "38b7843b",
   "metadata": {},
   "outputs": [],
   "source": [
    "# Here's a few functions that mimic the carnival guessing game \"Three cup Monte.\"\n",
    "# No cups or balls, just reproducing the effect with a Python list.\n",
    "# User sees no shuffle. It's just a random guess."
   ]
  },
  {
   "cell_type": "code",
   "execution_count": null,
   "id": "709769c8",
   "metadata": {},
   "outputs": [],
   "source": [
    "# First, how to shuffle a Python list\n",
    "\n",
    "example = [1,2,3,4,5,6,7]"
   ]
  },
  {
   "cell_type": "code",
   "execution_count": null,
   "id": "9d585b6c",
   "metadata": {},
   "outputs": [],
   "source": [
    "type(example)"
   ]
  },
  {
   "cell_type": "code",
   "execution_count": null,
   "id": "50a42898",
   "metadata": {},
   "outputs": [],
   "source": [
    "# use the random library\n",
    "\n",
    "from random import shuffle"
   ]
  },
  {
   "cell_type": "code",
   "execution_count": null,
   "id": "f782973d",
   "metadata": {},
   "outputs": [],
   "source": [
    "# the shuffle() function will shuffle a list in-place\n",
    "# meaning it doesn't return anything, it just mixes up the values\n",
    "\n",
    "shuffle(example)"
   ]
  },
  {
   "cell_type": "code",
   "execution_count": null,
   "id": "3f1a7873",
   "metadata": {},
   "outputs": [],
   "source": [
    "example"
   ]
  },
  {
   "cell_type": "code",
   "execution_count": null,
   "id": "bfd9a580",
   "metadata": {},
   "outputs": [],
   "source": [
    "# reminder, shuffle() doesn't return anything\n",
    "result = shuffle(example)"
   ]
  },
  {
   "cell_type": "code",
   "execution_count": null,
   "id": "d1855298",
   "metadata": {},
   "outputs": [],
   "source": [
    "result"
   ]
  },
  {
   "cell_type": "code",
   "execution_count": null,
   "id": "552368fb",
   "metadata": {},
   "outputs": [],
   "source": [
    "example"
   ]
  },
  {
   "cell_type": "code",
   "execution_count": null,
   "id": "15d9f2b5",
   "metadata": {},
   "outputs": [],
   "source": [
    "# Since shuffle() doesn't return anything, let's make our own function that does.\n",
    "# First part\n",
    "\n",
    "def shuffle_list(mylist):\n",
    "    shuffle(mylist)\n",
    "    return mylist\n"
   ]
  },
  {
   "cell_type": "code",
   "execution_count": null,
   "id": "d325de72",
   "metadata": {},
   "outputs": [],
   "source": [
    "result = shuffle_list(example)"
   ]
  },
  {
   "cell_type": "code",
   "execution_count": null,
   "id": "5acd4b0f",
   "metadata": {},
   "outputs": [],
   "source": [
    "result"
   ]
  },
  {
   "cell_type": "code",
   "execution_count": null,
   "id": "8e4e571a",
   "metadata": {},
   "outputs": [],
   "source": [
    "type(result)"
   ]
  },
  {
   "cell_type": "code",
   "execution_count": null,
   "id": "c28107e0",
   "metadata": {},
   "outputs": [],
   "source": [
    "# So the game is, \"Where is the ball?\"\n",
    "\n",
    "mylist = [' ','0',' ']\n",
    "result = shuffle_list(mylist)"
   ]
  },
  {
   "cell_type": "code",
   "execution_count": null,
   "id": "6b7aaf29",
   "metadata": {},
   "outputs": [],
   "source": [
    "result"
   ]
  },
  {
   "cell_type": "code",
   "execution_count": null,
   "id": "cbed77ba",
   "metadata": {},
   "outputs": [],
   "source": [
    "# Second part, take in the user's guess\n",
    "\n",
    "def player_guess():\n",
    "    \n",
    "    # Here's a placeholder variable\n",
    "    guess = ''\n",
    "    \n",
    "    # Here's an easy way to make sure the user enters an acceptable value\n",
    "    \n",
    "    while guess not in ['0','1','2']:     # strings, because remember, input() takes in strings\n",
    "        guess = input(\"Pick a number: 0, 1, or 2: \")\n",
    "    \n",
    "    return int(guess)  # return the integer value of guess"
   ]
  },
  {
   "cell_type": "code",
   "execution_count": null,
   "id": "f990dcd7",
   "metadata": {},
   "outputs": [],
   "source": [
    "player_guess()\n"
   ]
  },
  {
   "cell_type": "code",
   "execution_count": null,
   "id": "2677386b",
   "metadata": {},
   "outputs": [],
   "source": [
    "# Third part, compare the guess to the location of the 'ball'\n",
    "\n",
    "def check_guess(mylist,guess):\n",
    "    if mylist[guess] == 'O':\n",
    "        print(\"Correct!\")\n",
    "    else:\n",
    "        print(\"Nope! You missed it!\")\n",
    "        print(mylist)   # show user where it actually was\n",
    "        # since you're not returning anything, you don't need to have a return\n",
    "        # this will just be the last line in the script\n",
    "\n",
    "    \n"
   ]
  },
  {
   "cell_type": "code",
   "execution_count": null,
   "id": "5c553298",
   "metadata": {},
   "outputs": [],
   "source": [
    "# In a .py file, it's common to place the function definitions at the top and have the logic after that.\n",
    "\n",
    "def shuffle_list(mylist):\n",
    "    shuffle(mylist)\n",
    "    return mylist\n",
    "\n",
    "\n",
    "def player_guess():\n",
    "    guess = ''    \n",
    "    while guess not in ['0','1','2']:     \n",
    "        guess = input(\"Pick a number: 0, 1, or 2: \")\n",
    "    return int(guess)  \n",
    "\n",
    "\n",
    "def check_guess(mylist,guess):\n",
    "    if mylist[guess] == 'O':\n",
    "        print(\"Correct!\")\n",
    "        return False\n",
    "    else:\n",
    "        print(\"Nope! You missed it!\")\n",
    "        print(mylist)\n",
    "        return True\n",
    "        \n",
    "\n",
    "# SETUP THE INITIAL LIST\n",
    "mylist = ['','O','']\n",
    "keep_playing = True\n",
    "\n",
    "# PLAY GAME UNTIL YOU WIN\n",
    "while keep_playing:\n",
    "    # SHUFFLE THE LIST\n",
    "    current_list = shuffle_list(mylist)\n",
    "    \n",
    "    # HAVE THE USER GUESS THE LOCATION\n",
    "    made_a_guess = player_guess()\n",
    "    \n",
    "    \n",
    "    # CHECK THE GUESS AGAINST THE LIST\n",
    "    keep_playing = check_guess(current_list,made_a_guess)\n"
   ]
  },
  {
   "cell_type": "markdown",
   "id": "9a593173",
   "metadata": {},
   "source": [
    "<strong>48 - Overview of Quick Function Exercises #1 - 10 </strong>"
   ]
  },
  {
   "cell_type": "markdown",
   "id": "a9ea60a1",
   "metadata": {},
   "source": [
    "<strong>49 - args and kwargs in Python</strong>"
   ]
  },
  {
   "cell_type": "code",
   "execution_count": null,
   "id": "9ea28ea5",
   "metadata": {},
   "outputs": [],
   "source": [
    "# The title is actually:   *args and **kwargs in Python"
   ]
  },
  {
   "cell_type": "code",
   "execution_count": null,
   "id": "1f52c543",
   "metadata": {},
   "outputs": [],
   "source": [
    "# *args or star args = arguments\n",
    "# **kwargs = keyword arguments"
   ]
  },
  {
   "cell_type": "code",
   "execution_count": null,
   "id": "53ce8d78",
   "metadata": {},
   "outputs": [],
   "source": [
    "# Eventually you'll want to set a number of arbitrary arguments and keyword arguments.\n",
    "\n",
    "def myfunc(a,b):\n",
    "    # Return 5% of the sum of a and b\n",
    "    return sum((a,b)) * 0.05"
   ]
  },
  {
   "cell_type": "code",
   "execution_count": null,
   "id": "14e6fc87",
   "metadata": {},
   "outputs": [],
   "source": [
    "myfunc(40,60)"
   ]
  },
  {
   "cell_type": "code",
   "execution_count": null,
   "id": "7f42c890",
   "metadata": {},
   "outputs": [],
   "source": [
    "# BUT, what if I had more numbers or parameters to pass in?\n",
    "\n",
    "# The function variables, a and b, are examples of positional arguments.\n",
    "# When you want to work with multiple positional arguments in the sum() function,\n",
    "# you have to pass them in as a tuple."
   ]
  },
  {
   "cell_type": "code",
   "execution_count": null,
   "id": "aef513a7",
   "metadata": {},
   "outputs": [],
   "source": [
    "# You could handle this by adding more positional arguments and giving some a default value.\n",
    "\n",
    "def myfunc(a,b,c=0,d=0,e=0):\n",
    "    # This function can take in 2 or 3 variables, because one has a default value.\n",
    "    return sum((a,b,c,d,e)) * 0.05"
   ]
  },
  {
   "cell_type": "code",
   "execution_count": null,
   "id": "b65552f4",
   "metadata": {},
   "outputs": [],
   "source": [
    "myfunc(40,60)"
   ]
  },
  {
   "cell_type": "code",
   "execution_count": null,
   "id": "fd750248",
   "metadata": {},
   "outputs": [],
   "source": [
    "myfunc(40,60,1,2)"
   ]
  },
  {
   "cell_type": "code",
   "execution_count": null,
   "id": "1d09b2c7",
   "metadata": {},
   "outputs": [],
   "source": [
    "# But if there's still more arguments passed in than there are positions to take them, it gives an error.\n",
    "\n",
    "def myfunc(a,b,c=0,d=0,e=0):\n",
    "    # This function can take in 2 or 3 variables, because one has a default value.\n",
    "    return sum((a,b,c,d,e)) * 0.05"
   ]
  },
  {
   "cell_type": "code",
   "execution_count": null,
   "id": "ffaee65e",
   "metadata": {},
   "outputs": [],
   "source": [
    "myfunc(1,2,3,4,5,6)"
   ]
  },
  {
   "cell_type": "code",
   "execution_count": null,
   "id": "8e90518a",
   "metadata": {},
   "outputs": [],
   "source": [
    "# use *args to do it\n",
    "# *args will treat it as a tuple of parameters coming in.\n",
    "\n",
    "def myfunc(*args):\n",
    "    print(args)\n",
    "    return sum(args) * 0.05"
   ]
  },
  {
   "cell_type": "code",
   "execution_count": null,
   "id": "3b109dc4",
   "metadata": {},
   "outputs": [],
   "source": [
    "myfunc(100,200,300)"
   ]
  },
  {
   "cell_type": "code",
   "execution_count": null,
   "id": "80e135fc",
   "metadata": {},
   "outputs": [],
   "source": [
    "myfunc(100,200,300,400,500,600)"
   ]
  },
  {
   "cell_type": "code",
   "execution_count": null,
   "id": "531bf436",
   "metadata": {},
   "outputs": [],
   "source": [
    "# Actually, the syntax for *args is:\n",
    "# *and_then_any_name_you_want\n",
    "# the \"args\" part is just arbitrary.\n",
    "# HOWEVER, if someone else is reading your code, they will not know what it is.\n",
    "# so use *args by convention to help the next guy."
   ]
  },
  {
   "cell_type": "code",
   "execution_count": null,
   "id": "0d9df40c",
   "metadata": {},
   "outputs": [],
   "source": [
    "def myfunc(*args):\n",
    "    for item in args:\n",
    "        print(item)"
   ]
  },
  {
   "cell_type": "code",
   "execution_count": null,
   "id": "1415297f",
   "metadata": {},
   "outputs": [],
   "source": [
    "myfunc(1,2,3,4,5,6)"
   ]
  },
  {
   "cell_type": "code",
   "execution_count": null,
   "id": "b6440d21",
   "metadata": {},
   "outputs": [],
   "source": [
    "# so *args builds a tuple of values\n",
    "\n",
    "# **kwargs builds a dictionary of key:value pairs"
   ]
  },
  {
   "cell_type": "code",
   "execution_count": null,
   "id": "3e139fe9",
   "metadata": {},
   "outputs": [],
   "source": [
    "def myfunc(**kwargs):\n",
    "    print(kwargs)\n",
    "    if 'fruit' in kwargs:\n",
    "        print('My fruit of choice is {}'.format(kwargs['fruit']))\n",
    "    else:\n",
    "        print('I did not find any fruit here')"
   ]
  },
  {
   "cell_type": "code",
   "execution_count": null,
   "id": "a5d3061e",
   "metadata": {},
   "outputs": [],
   "source": [
    "myfunc(fruit='apple')"
   ]
  },
  {
   "cell_type": "code",
   "execution_count": null,
   "id": "0806a5eb",
   "metadata": {},
   "outputs": [],
   "source": [
    "myfunc(fruit='apple',veggie = 'kale')"
   ]
  },
  {
   "cell_type": "code",
   "execution_count": null,
   "id": "ee2cdfa4",
   "metadata": {},
   "outputs": [],
   "source": [
    "mydict = {fruit:'banana',veggie:'kale',nut:'acorn'}"
   ]
  },
  {
   "cell_type": "code",
   "execution_count": null,
   "id": "516e87e4",
   "metadata": {},
   "outputs": [],
   "source": [
    "myfunc(fruit='banana',veggie='kale',nut='acorn')"
   ]
  },
  {
   "cell_type": "code",
   "execution_count": null,
   "id": "cd9a15c7",
   "metadata": {},
   "outputs": [],
   "source": [
    "test = \"fruit = 'banana'\""
   ]
  },
  {
   "cell_type": "code",
   "execution_count": null,
   "id": "77560ea6",
   "metadata": {},
   "outputs": [],
   "source": [
    "myfunc(test)"
   ]
  },
  {
   "cell_type": "code",
   "execution_count": null,
   "id": "3c6831fb",
   "metadata": {},
   "outputs": [],
   "source": [
    "# so looks like you can't pass a predefined dictionary into a **kwargs function"
   ]
  },
  {
   "cell_type": "code",
   "execution_count": null,
   "id": "17b8215f",
   "metadata": {},
   "outputs": [],
   "source": [
    "test"
   ]
  },
  {
   "cell_type": "code",
   "execution_count": null,
   "id": "cb30c1a4",
   "metadata": {},
   "outputs": [],
   "source": [
    "test = \"banana\""
   ]
  },
  {
   "cell_type": "code",
   "execution_count": null,
   "id": "fc5df378",
   "metadata": {},
   "outputs": [],
   "source": [
    "myfunc(fruit = test)"
   ]
  },
  {
   "cell_type": "code",
   "execution_count": null,
   "id": "2578ec7d",
   "metadata": {},
   "outputs": [],
   "source": [
    "# Using *args and **kwargs in combination.\n",
    "\n",
    "def myfunc(*args,**kwargs):\n",
    "    print(args)\n",
    "    print(kwargs)\n",
    "    print('I would like {} {}'.format(args[0],kwargs['food']))"
   ]
  },
  {
   "cell_type": "code",
   "execution_count": null,
   "id": "c31a9ca2",
   "metadata": {},
   "outputs": [],
   "source": [
    "# Now when you call the function:\n",
    "# - you can pass in as many numbers as you want, and Python will make them into a tuple\n",
    "# - then you can pass in as many keyword arguments as you want, and Python will make them into a dictionary."
   ]
  },
  {
   "cell_type": "code",
   "execution_count": null,
   "id": "c655fee5",
   "metadata": {},
   "outputs": [],
   "source": [
    "myfunc(10,20,30,fruit='orange',food='eggs',drink='coffee')"
   ]
  },
  {
   "cell_type": "code",
   "execution_count": null,
   "id": "d12bf932",
   "metadata": {},
   "outputs": [],
   "source": [
    "letter = 'a'"
   ]
  },
  {
   "cell_type": "code",
   "execution_count": null,
   "id": "5b9567cb",
   "metadata": {},
   "outputs": [],
   "source": [
    "letter.lower()"
   ]
  },
  {
   "cell_type": "code",
   "execution_count": null,
   "id": "4cccef51",
   "metadata": {},
   "outputs": [],
   "source": [
    "letter.upper()"
   ]
  },
  {
   "cell_type": "code",
   "execution_count": null,
   "id": "389fc5dc",
   "metadata": {},
   "outputs": [],
   "source": [
    "def myfunc(yourstring):\n",
    "    a = 0\n",
    "    mystring = ''\n",
    "    for letter in yourstring:\n",
    "        if a==0:\n",
    "            mystring = mystring + letter.lower()\n",
    "            a=1 \n",
    "        else:\n",
    "            mystring = mystring + letter.upper()\n",
    "            a=0\n",
    "    return mystring"
   ]
  },
  {
   "cell_type": "code",
   "execution_count": null,
   "id": "48f69779",
   "metadata": {},
   "outputs": [],
   "source": [
    "myfunc('hellOWorld')"
   ]
  },
  {
   "cell_type": "code",
   "execution_count": null,
   "id": "376a5da3",
   "metadata": {},
   "outputs": [],
   "source": [
    "myfunc('aaaaaaaaaaaaa')"
   ]
  },
  {
   "cell_type": "markdown",
   "id": "50d28ec7",
   "metadata": {},
   "source": [
    "<strong>50 - Function Practice Exercises Overview</strong>"
   ]
  },
  {
   "cell_type": "code",
   "execution_count": null,
   "id": "eaf22347",
   "metadata": {},
   "outputs": [],
   "source": [
    "# Work through the instructor's notebook called \"03-Function Practice Exercises\""
   ]
  },
  {
   "cell_type": "markdown",
   "id": "e2261cf2",
   "metadata": {},
   "source": [
    "<strong>55 - Lambda Expressions, Map, and Filter Functions</strong>"
   ]
  },
  {
   "cell_type": "code",
   "execution_count": null,
   "id": "4ff24c8b",
   "metadata": {},
   "outputs": [],
   "source": [
    "# Lambda functions are essentially one-time-use functions.\n",
    "# You don't even really name them.\n",
    "# Use them one time and never reference them again.\n",
    "# But isn't that the point of a function?  Why use a lambda expression?"
   ]
  },
  {
   "cell_type": "code",
   "execution_count": null,
   "id": "442e68c2",
   "metadata": {},
   "outputs": [],
   "source": [
    "# Instructor says the map() function and filter() functions will help explain lambda"
   ]
  },
  {
   "cell_type": "code",
   "execution_count": null,
   "id": "33094aa3",
   "metadata": {},
   "outputs": [],
   "source": [
    "# map() function\n",
    "# Remember in a Jupyter notebook you can type \"map\" and hit the \"shift-tab\" keys to explore the function\n",
    "# Click on the down arrow to expand the info in the pop-up even more"
   ]
  },
  {
   "cell_type": "code",
   "execution_count": null,
   "id": "310149d3",
   "metadata": {},
   "outputs": [],
   "source": [
    "# a simple function to take in a number and return it's square\n",
    "\n",
    "def square(num):\n",
    "    return num**2"
   ]
  },
  {
   "cell_type": "code",
   "execution_count": null,
   "id": "7c40aad3",
   "metadata": {},
   "outputs": [],
   "source": [
    "square(2)"
   ]
  },
  {
   "cell_type": "code",
   "execution_count": null,
   "id": "39229c0a",
   "metadata": {},
   "outputs": [],
   "source": [
    "square(12)"
   ]
  },
  {
   "cell_type": "code",
   "execution_count": null,
   "id": "5b88621f",
   "metadata": {},
   "outputs": [],
   "source": [
    "my_nums = [1,2,3,4,5]"
   ]
  },
  {
   "cell_type": "code",
   "execution_count": null,
   "id": "975b52e0",
   "metadata": {},
   "outputs": [],
   "source": [
    "square(my_nums)"
   ]
  },
  {
   "cell_type": "code",
   "execution_count": null,
   "id": "7aad9ef2",
   "metadata": {},
   "outputs": [],
   "source": [
    "# That didn't work.\n",
    "# But I want to apply the square function to every number in my_nums list\n",
    "# You could use a for-loop, but that's a lot of code.\n",
    "# Instead, use the map() function."
   ]
  },
  {
   "cell_type": "code",
   "execution_count": null,
   "id": "e87ffa07",
   "metadata": {},
   "outputs": [],
   "source": [
    "map(square,my_nums)"
   ]
  },
  {
   "cell_type": "code",
   "execution_count": null,
   "id": "adb70544",
   "metadata": {},
   "outputs": [],
   "source": [
    "# So what does that mean?\n",
    "# It's storing something at that memory location.\n",
    "# But try iterating through it like this:\n",
    "\n",
    "for item in map(square,my_nums):\n",
    "    print(item)"
   ]
  },
  {
   "cell_type": "code",
   "execution_count": null,
   "id": "eb8f3d13",
   "metadata": {},
   "outputs": [],
   "source": [
    "# That applies the square() function to every item in the my_nums[] list"
   ]
  },
  {
   "cell_type": "code",
   "execution_count": null,
   "id": "5b126996",
   "metadata": {},
   "outputs": [],
   "source": [
    "# Maybe you want the result returned in the form of a list.\n",
    "\n",
    "list(map(square,my_nums))"
   ]
  },
  {
   "cell_type": "code",
   "execution_count": null,
   "id": "9790a0c0",
   "metadata": {},
   "outputs": [],
   "source": [
    "result = list(map(square,my_nums))"
   ]
  },
  {
   "cell_type": "code",
   "execution_count": null,
   "id": "158cbb06",
   "metadata": {},
   "outputs": [],
   "source": [
    "result"
   ]
  },
  {
   "cell_type": "code",
   "execution_count": null,
   "id": "3d644406",
   "metadata": {},
   "outputs": [],
   "source": [
    "# Another example:\n",
    "\n",
    "def splicer(mystring):\n",
    "    if len(mystring)%2 == 0:\n",
    "        return 'EVEN'\n",
    "    else:\n",
    "        return mystring[0]\n",
    "    "
   ]
  },
  {
   "cell_type": "code",
   "execution_count": null,
   "id": "22249236",
   "metadata": {},
   "outputs": [],
   "source": [
    "names = ['Andy','Eve','Sally']"
   ]
  },
  {
   "cell_type": "code",
   "execution_count": null,
   "id": "c117fa45",
   "metadata": {},
   "outputs": [],
   "source": [
    "list(map(splicer,names))"
   ]
  },
  {
   "cell_type": "code",
   "execution_count": null,
   "id": "362c1787",
   "metadata": {},
   "outputs": [],
   "source": [
    "# Remember in the map() function, don't try to call the other function like splicer() or square().\n",
    "# Just provide the name of the function you want to use."
   ]
  },
  {
   "cell_type": "code",
   "execution_count": null,
   "id": "ea0909d6",
   "metadata": {},
   "outputs": [],
   "source": [
    "# The filter() function.\n",
    "# Creates a function that's either True or False"
   ]
  },
  {
   "cell_type": "code",
   "execution_count": null,
   "id": "d159fc1c",
   "metadata": {},
   "outputs": [],
   "source": [
    "def check_even(num):\n",
    "    return num%2 == 0"
   ]
  },
  {
   "cell_type": "code",
   "execution_count": null,
   "id": "9554ae8f",
   "metadata": {},
   "outputs": [],
   "source": [
    "mynums = [1,2,3,4,5,6]"
   ]
  },
  {
   "cell_type": "code",
   "execution_count": null,
   "id": "fb29505f",
   "metadata": {},
   "outputs": [],
   "source": [
    "# Just grab the even numbers in the mynums[] list\n",
    "# So filter() will iterate the list through the function and it will filter based of the condition."
   ]
  },
  {
   "cell_type": "code",
   "execution_count": null,
   "id": "46505c83",
   "metadata": {},
   "outputs": [],
   "source": [
    "filter(check_even,mynums)"
   ]
  },
  {
   "cell_type": "code",
   "execution_count": null,
   "id": "98dc29c7",
   "metadata": {},
   "outputs": [],
   "source": [
    "# You have a filter object at that point in memory.\n",
    "\n",
    "list(filter(check_even,mynums))"
   ]
  },
  {
   "cell_type": "code",
   "execution_count": null,
   "id": "67d61c21",
   "metadata": {},
   "outputs": [],
   "source": [
    "for n in filter(check_even,mynums):\n",
    "    print(n)"
   ]
  },
  {
   "cell_type": "code",
   "execution_count": null,
   "id": "87268784",
   "metadata": {},
   "outputs": [],
   "source": [
    "# lambda expressions\n",
    "\n",
    "# convert a function into a lambda expressions..."
   ]
  },
  {
   "cell_type": "code",
   "execution_count": null,
   "id": "f6e6b7e4",
   "metadata": {},
   "outputs": [],
   "source": [
    "def square(num):\n",
    "    result = num ** 2\n",
    "    return result"
   ]
  },
  {
   "cell_type": "code",
   "execution_count": null,
   "id": "76b9987d",
   "metadata": {},
   "outputs": [],
   "source": [
    "square(6)"
   ]
  },
  {
   "cell_type": "code",
   "execution_count": null,
   "id": "b3b9c161",
   "metadata": {},
   "outputs": [],
   "source": [
    "# First, simplify the expression\n",
    "\n",
    "def square(num):\n",
    "    return num **2"
   ]
  },
  {
   "cell_type": "code",
   "execution_count": null,
   "id": "fc906bdc",
   "metadata": {},
   "outputs": [],
   "source": [
    "square(6)"
   ]
  },
  {
   "cell_type": "code",
   "execution_count": null,
   "id": "ce8febd0",
   "metadata": {},
   "outputs": [],
   "source": [
    "# Next, put it all on one line.\n",
    "# Not normally done, because it's bad form, and it's against convention.\n",
    "\n",
    "def square(num): return num ** 2"
   ]
  },
  {
   "cell_type": "code",
   "execution_count": null,
   "id": "8b779024",
   "metadata": {},
   "outputs": [],
   "source": [
    "square(6)"
   ]
  },
  {
   "cell_type": "code",
   "execution_count": null,
   "id": "99646582",
   "metadata": {},
   "outputs": [],
   "source": [
    "# Finally, convert the remainder of the function into a lambda expression, a.k.a. an anonymous function.\n",
    "# Take out the def keywork.\n",
    "# Take out the function name and parenthesis.\n",
    "# Take out the return keyword, because it's assumed that it will return whatever is on the other side of the colon.\n",
    "\n",
    "square = lambda num: num ** 2"
   ]
  },
  {
   "cell_type": "code",
   "execution_count": null,
   "id": "421dee58",
   "metadata": {},
   "outputs": [],
   "source": [
    "square(6)"
   ]
  },
  {
   "cell_type": "code",
   "execution_count": null,
   "id": "a7119c62",
   "metadata": {},
   "outputs": [],
   "source": [
    "square(3)"
   ]
  },
  {
   "cell_type": "code",
   "execution_count": null,
   "id": "7edf72f1",
   "metadata": {},
   "outputs": [],
   "source": [
    "# But in normal use, you're not going to use lambda like that.\n",
    "# You'll use it in conjunction with map() and filter()\n",
    "# Here's it with a map() function"
   ]
  },
  {
   "cell_type": "code",
   "execution_count": null,
   "id": "398d9c3d",
   "metadata": {},
   "outputs": [],
   "source": [
    "list(map(lambda num:num**2,mynums))"
   ]
  },
  {
   "cell_type": "code",
   "execution_count": null,
   "id": "dec7ffab",
   "metadata": {},
   "outputs": [],
   "source": [
    "# Here it is with filter() function"
   ]
  },
  {
   "cell_type": "code",
   "execution_count": null,
   "id": "966a01d3",
   "metadata": {},
   "outputs": [],
   "source": [
    "def check_even(num):\n",
    "    return num%2 == 0"
   ]
  },
  {
   "cell_type": "code",
   "execution_count": null,
   "id": "9277c1fb",
   "metadata": {},
   "outputs": [],
   "source": [
    "# Convert that to a lambda expression\n",
    "\n",
    "# lambda num:num%2 == 0,mynums\n",
    "\n",
    "# Now pass that onto a filter() function\n",
    "\n",
    "# filter(lambda num:num%2 == 0,mynums)\n",
    "\n",
    "# Now pass that into a list\n",
    "\n",
    "list(filter(lambda num:num%2 == 0,mynums))"
   ]
  },
  {
   "cell_type": "code",
   "execution_count": null,
   "id": "cc705297",
   "metadata": {},
   "outputs": [],
   "source": [
    "names"
   ]
  },
  {
   "cell_type": "code",
   "execution_count": null,
   "id": "0c3d79e0",
   "metadata": {},
   "outputs": [],
   "source": [
    "# Grab the first character of the names list\n",
    "\n",
    "def first_char(names):\n",
    "    for item in names:\n",
    "        print(item[0])"
   ]
  },
  {
   "cell_type": "code",
   "execution_count": null,
   "id": "fe295513",
   "metadata": {},
   "outputs": [],
   "source": [
    "first_char(names)"
   ]
  },
  {
   "cell_type": "code",
   "execution_count": null,
   "id": "c0350fb5",
   "metadata": {},
   "outputs": [],
   "source": [
    "# map the incoming name, and only return back the letter in index position 0\n",
    "list(map(lambda item:item[0],names))"
   ]
  },
  {
   "cell_type": "code",
   "execution_count": null,
   "id": "cc03caed",
   "metadata": {},
   "outputs": [],
   "source": [
    "# reverse the actual name\n",
    "list(map(lambda item:item[::-1],names))"
   ]
  },
  {
   "cell_type": "code",
   "execution_count": null,
   "id": "af9e4cd9",
   "metadata": {},
   "outputs": [],
   "source": [
    "# Not every complex function can be translated to a lambda expression.\n",
    "# It's still really important the code is easily readable."
   ]
  },
  {
   "cell_type": "markdown",
   "id": "f0bc00a5",
   "metadata": {},
   "source": [
    "<strong>56 - Nested Statements and Scope</strong>"
   ]
  },
  {
   "cell_type": "code",
   "execution_count": null,
   "id": "f43feff7",
   "metadata": {},
   "outputs": [],
   "source": [
    "# Let's see what this does...\n",
    "\n",
    "x = 25\n",
    "\n",
    "def printer():\n",
    "    x = 50\n",
    "    return x"
   ]
  },
  {
   "cell_type": "code",
   "execution_count": null,
   "id": "ccba9cb4",
   "metadata": {},
   "outputs": [],
   "source": [
    "printer()"
   ]
  },
  {
   "cell_type": "code",
   "execution_count": null,
   "id": "f33cce25",
   "metadata": {},
   "outputs": [],
   "source": [
    "# Python stores variable names in the \"name space\"\n",
    "# Variable names have a \"scope\"\n",
    "# The scope of a variable name determines its visibility to other parts of the code\n",
    "# This is why you get an error of \"this variable is not defined\""
   ]
  },
  {
   "cell_type": "code",
   "execution_count": null,
   "id": "455808ed",
   "metadata": {},
   "outputs": [],
   "source": [
    "print(x)"
   ]
  },
  {
   "cell_type": "code",
   "execution_count": null,
   "id": "8aee82e2",
   "metadata": {},
   "outputs": [],
   "source": [
    "print(printer())"
   ]
  },
  {
   "cell_type": "code",
   "execution_count": null,
   "id": "fdfd8f09",
   "metadata": {},
   "outputs": [],
   "source": [
    "# How does python know which x you are referring to in the code?\n",
    "# Why doesn't the reassignment of x in the function affect the original assignment of x?"
   ]
  },
  {
   "cell_type": "code",
   "execution_count": null,
   "id": "20e38f56",
   "metadata": {},
   "outputs": [],
   "source": [
    "# Python uses its rules of scope to figure out which one you're referring to"
   ]
  },
  {
   "cell_type": "code",
   "execution_count": null,
   "id": "ddb18a73",
   "metadata": {},
   "outputs": [],
   "source": [
    "# These rules are in L E G B format.\n",
    "# This is the order that Python looks for variables.\n",
    "\n",
    "# L = Local - Names assigned in any way within a function (def or lambda) and not declared global in that function.\n",
    "\n",
    "# E = Enclosing function - Names in the local scope of any and all enclosing functions (def or lambda), from inner to outer.\n",
    "\n",
    "# G = Global - Names assigned at the top-level of a module file, or declared global in a def within the file.\n",
    "\n",
    "# B = Built-in - Names preassigned in the built-in names module: open, range, SyntaxError,..."
   ]
  },
  {
   "cell_type": "code",
   "execution_count": null,
   "id": "0a5d8c17",
   "metadata": {},
   "outputs": [],
   "source": [
    "# Local\n",
    "\n",
    "square = lambda num:num**2  # num is local to the lambda expression\n",
    "square(9)"
   ]
  },
  {
   "cell_type": "code",
   "execution_count": null,
   "id": "983ca9af",
   "metadata": {},
   "outputs": [],
   "source": [
    "# Enclosing function locals\n",
    "# Create the example by making a function and putting a function inside of it.\n",
    "\n",
    "# Global\n",
    "name = 'THIS IS A GLOBAL STRING'\n",
    "\n",
    "def greet():\n",
    "    \n",
    "    # Enclosing\n",
    "    #name = 'Sammy' # You're overriding the name variable here\n",
    "    \n",
    "    # Now create another function inside of it.\n",
    "    def hello():\n",
    "        \n",
    "        # Local\n",
    "        name = 'IM A LOCAL'\n",
    "        print('Hello '+name)\n",
    "        \n",
    "    # The hello() function is created.\n",
    "    # Now call hello()\n",
    "    hello()\n",
    "    \n",
    "# Call the greet() function\n",
    "greet()\n",
    "\n"
   ]
  },
  {
   "cell_type": "code",
   "execution_count": null,
   "id": "b6c0ce62",
   "metadata": {},
   "outputs": [],
   "source": [
    "greet()"
   ]
  },
  {
   "cell_type": "code",
   "execution_count": null,
   "id": "fcbdb4bb",
   "metadata": {},
   "outputs": [],
   "source": [
    "# So using LEGB...\n",
    "# Inside the hello() function, you tell it to print the variable \"name\".\n",
    "# L - first it checks local variables\n",
    "#   - There's no \"name\" variable defined inside the hello() function, so it goes to the next step.\n",
    "# E - Enclosing function.  hello() is inside of the greet() function, so it looks for 'name' in there.\n",
    "#   - It finds that 'name' is defined, so it uses that value.\n",
    "#   - 'name' is \"Sammy\"\n"
   ]
  },
  {
   "cell_type": "code",
   "execution_count": null,
   "id": "2d5736c4",
   "metadata": {},
   "outputs": [],
   "source": [
    "# However, if you comment out the line with the 'name' variable in the greet() function, it continues...\n",
    "# G - It looks for a global variable and finds that 'name' is defined, so it uses that value.\n",
    "#   - You know it's global because there are no indentations.\n",
    "#   - 'name' is 'THIS IS A GLOBAL STRING'"
   ]
  },
  {
   "cell_type": "code",
   "execution_count": null,
   "id": "b59eeb9a",
   "metadata": {},
   "outputs": [],
   "source": [
    "# Remember not to overwrite Built-in names.\n",
    "# If you can call help() on it, don't use it.\n",
    "help(list)"
   ]
  },
  {
   "cell_type": "code",
   "execution_count": null,
   "id": "baf5e2fc",
   "metadata": {},
   "outputs": [],
   "source": [
    "x = 50\n",
    "\n",
    "def func(x):\n",
    "    print(f'X is {x}')\n",
    "    \n",
    "    # LOCAL REASSIGNMENT!\n",
    "    x = 200\n",
    "    print(f'I JUST LOCALLY CHANGED X TO {x}')"
   ]
  },
  {
   "cell_type": "code",
   "execution_count": null,
   "id": "58425449",
   "metadata": {},
   "outputs": [],
   "source": [
    "print(x)"
   ]
  },
  {
   "cell_type": "code",
   "execution_count": null,
   "id": "df21c280",
   "metadata": {},
   "outputs": [],
   "source": [
    "func(x)"
   ]
  },
  {
   "cell_type": "code",
   "execution_count": null,
   "id": "6dba53bf",
   "metadata": {},
   "outputs": [],
   "source": [
    "print(x)"
   ]
  },
  {
   "cell_type": "code",
   "execution_count": null,
   "id": "44b9108f",
   "metadata": {},
   "outputs": [],
   "source": [
    "# x is only reassigned to 200 inside the function"
   ]
  },
  {
   "cell_type": "code",
   "execution_count": null,
   "id": "5ffef8c2",
   "metadata": {},
   "outputs": [],
   "source": [
    "# What if you want to grab the global variable from inside a function and reassign it to be 200?\n",
    "\n",
    "x = 50\n",
    "\n",
    "def func():\n",
    "    global x\n",
    "    print(f'X is {x}')\n",
    "    \n",
    "    # Now, anything that happens to x inside this function will affect the global variable x\n",
    "    \n",
    "    # LOCAL REASSIGNMENT ON A GLOBAL VARIABLE!\n",
    "    x = 'NEW VALUE'\n",
    "    print(f'I JUST LOCALLY CHANGED GLOBAL X TO {x}')"
   ]
  },
  {
   "cell_type": "code",
   "execution_count": null,
   "id": "03eb36e0",
   "metadata": {},
   "outputs": [],
   "source": [
    "print(x)"
   ]
  },
  {
   "cell_type": "code",
   "execution_count": null,
   "id": "795acc34",
   "metadata": {},
   "outputs": [],
   "source": [
    "func()"
   ]
  },
  {
   "cell_type": "code",
   "execution_count": null,
   "id": "5ed6540e",
   "metadata": {},
   "outputs": [],
   "source": [
    "print(x)"
   ]
  },
  {
   "cell_type": "code",
   "execution_count": null,
   "id": "88ac6e74",
   "metadata": {},
   "outputs": [],
   "source": [
    "# In general, AVOID USING THE GLOBAL KEYWORD UNLESS ABSOLUTELY NECESSARY!\n",
    "# If you need to make changes to a Global variable inside a function, call it and return it as an object, like this..."
   ]
  },
  {
   "cell_type": "code",
   "execution_count": null,
   "id": "714e4eb7",
   "metadata": {},
   "outputs": [],
   "source": [
    "x = 50\n",
    "\n",
    "def func(x):\n",
    "    \n",
    "    print(f'X is {x}')\n",
    "        \n",
    "    # LOCAL REASSIGNMENT ON A GLOBAL VARIABLE!\n",
    "    x = 'NEW VALUE'\n",
    "    print(f'I JUST LOCALLY CHANGED GLOBAL X TO {x}')\n",
    "    \n",
    "    return x"
   ]
  },
  {
   "cell_type": "code",
   "execution_count": null,
   "id": "10a4ad32",
   "metadata": {},
   "outputs": [],
   "source": [
    "print(x)"
   ]
  },
  {
   "cell_type": "code",
   "execution_count": null,
   "id": "54bbf412",
   "metadata": {},
   "outputs": [],
   "source": [
    "x = func(x)"
   ]
  },
  {
   "cell_type": "code",
   "execution_count": null,
   "id": "9bf97be9",
   "metadata": {},
   "outputs": [],
   "source": [
    "print(x)"
   ]
  },
  {
   "cell_type": "code",
   "execution_count": null,
   "id": "3239c573",
   "metadata": {},
   "outputs": [],
   "source": [
    "# In general, that is a much better path to take instead of using the 'global' keyword.\n",
    "# It's much cleaner and safer.\n",
    "# This is easier to debug because there's a clear reassignment happening."
   ]
  },
  {
   "cell_type": "code",
   "execution_count": null,
   "id": "d41f550e",
   "metadata": {},
   "outputs": [],
   "source": [
    "# Section 6 wraps up with the notebook, 08-Functions and Methods Homework\n",
    "# See that notebook for details"
   ]
  },
  {
   "cell_type": "code",
   "execution_count": null,
   "id": "1da0fd99",
   "metadata": {},
   "outputs": [],
   "source": []
  }
 ],
 "metadata": {
  "kernelspec": {
   "display_name": "Python 3 (ipykernel)",
   "language": "python",
   "name": "python3"
  },
  "language_info": {
   "codemirror_mode": {
    "name": "ipython",
    "version": 3
   },
   "file_extension": ".py",
   "mimetype": "text/x-python",
   "name": "python",
   "nbconvert_exporter": "python",
   "pygments_lexer": "ipython3",
   "version": "3.9.13"
  }
 },
 "nbformat": 4,
 "nbformat_minor": 5
}
