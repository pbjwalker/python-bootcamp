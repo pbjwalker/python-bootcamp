{
 "cells": [
  {
   "cell_type": "code",
   "execution_count": null,
   "id": "fcf90ae8",
   "metadata": {},
   "outputs": [],
   "source": [
    "st = 'Print only the words that start with s in this sentence'"
   ]
  },
  {
   "cell_type": "code",
   "execution_count": null,
   "id": "455b6b55",
   "metadata": {},
   "outputs": [],
   "source": [
    "st"
   ]
  },
  {
   "cell_type": "code",
   "execution_count": null,
   "id": "705c6338",
   "metadata": {},
   "outputs": [],
   "source": [
    "# Use for, .split(), and if to create a Statement that will print out words that start with 's'"
   ]
  },
  {
   "cell_type": "code",
   "execution_count": null,
   "id": "0fa3d0bc",
   "metadata": {},
   "outputs": [],
   "source": [
    "for word in st.split():\n",
    "    if word[0] == 's':\n",
    "        print(word)"
   ]
  },
  {
   "cell_type": "code",
   "execution_count": null,
   "id": "3ab329ff",
   "metadata": {},
   "outputs": [],
   "source": [
    "# Use range() to print all the even numbers from 0 to 10."
   ]
  },
  {
   "cell_type": "code",
   "execution_count": null,
   "id": "22471f76",
   "metadata": {},
   "outputs": [],
   "source": [
    "print(range(0,11))"
   ]
  },
  {
   "cell_type": "code",
   "execution_count": null,
   "id": "9e1553e6",
   "metadata": {},
   "outputs": [],
   "source": [
    "range(0,11)"
   ]
  },
  {
   "cell_type": "code",
   "execution_count": null,
   "id": "b7bd89a3",
   "metadata": {},
   "outputs": [],
   "source": [
    "evens = range(0,11)"
   ]
  },
  {
   "cell_type": "code",
   "execution_count": null,
   "id": "fe26c0ee",
   "metadata": {},
   "outputs": [],
   "source": [
    "evens"
   ]
  },
  {
   "cell_type": "code",
   "execution_count": null,
   "id": "68556d80",
   "metadata": {},
   "outputs": [],
   "source": [
    "evens = []"
   ]
  },
  {
   "cell_type": "code",
   "execution_count": null,
   "id": "a6b44f56",
   "metadata": {},
   "outputs": [],
   "source": [
    "evens = [num for num in range(0,11) if num%2==0]"
   ]
  },
  {
   "cell_type": "code",
   "execution_count": null,
   "id": "f5359f82",
   "metadata": {},
   "outputs": [],
   "source": [
    "evens"
   ]
  },
  {
   "cell_type": "code",
   "execution_count": null,
   "id": "697a426e",
   "metadata": {},
   "outputs": [],
   "source": [
    "st = 'Print every word in this sentence that has an even number of letters'"
   ]
  },
  {
   "cell_type": "code",
   "execution_count": null,
   "id": "ba7bd672",
   "metadata": {},
   "outputs": [],
   "source": [
    "for word in st.split():\n",
    "    if len(word)%2==0:\n",
    "        print(word)"
   ]
  },
  {
   "cell_type": "markdown",
   "id": "a17e1819",
   "metadata": {},
   "source": [
    "\n",
    "\n",
    "Write a program that prints the integers from 1 to 100. But for multiples of three print \"Fizz\" instead of the number, and for the multiples of five print \"Buzz\". For numbers which are multiples of both three and five print \"FizzBuzz\".\n"
   ]
  },
  {
   "cell_type": "code",
   "execution_count": null,
   "id": "66d3b0b2",
   "metadata": {},
   "outputs": [],
   "source": [
    "for num in range(1,101):\n",
    "    if num%3==0:\n",
    "        if num%5==0:\n",
    "            print(\"FizzBuzz\")\n",
    "        else:\n",
    "            print(\"Fizz\")\n",
    "    elif num%5==0:\n",
    "        print(\"Buzz\")\n",
    "    else:\n",
    "        print(num)"
   ]
  },
  {
   "cell_type": "code",
   "execution_count": null,
   "id": "a851402a",
   "metadata": {},
   "outputs": [],
   "source": [
    "st = 'Create a list of the first letters of every word in this string'"
   ]
  },
  {
   "cell_type": "code",
   "execution_count": null,
   "id": "267b0900",
   "metadata": {},
   "outputs": [],
   "source": [
    "newlist = []"
   ]
  },
  {
   "cell_type": "code",
   "execution_count": null,
   "id": "c3308b60",
   "metadata": {},
   "outputs": [],
   "source": [
    "newlist = [letter[0] for letter in st.split()]"
   ]
  },
  {
   "cell_type": "code",
   "execution_count": null,
   "id": "5068ffc2",
   "metadata": {},
   "outputs": [],
   "source": [
    "newlist"
   ]
  },
  {
   "cell_type": "code",
   "execution_count": null,
   "id": "cee4f459",
   "metadata": {},
   "outputs": [],
   "source": [
    "################################################"
   ]
  },
  {
   "cell_type": "code",
   "execution_count": null,
   "id": "8edc8ab8",
   "metadata": {},
   "outputs": [],
   "source": [
    "def cigar_party(cigars, is_weekend):\n",
    "    if is_weekend and cigars>=40:\n",
    "        return True\n",
    "    elif cigars>=40 and cigars<=60:\n",
    "        return True\n",
    "    else:\n",
    "        return False\n"
   ]
  },
  {
   "cell_type": "code",
   "execution_count": null,
   "id": "4087b1d1",
   "metadata": {},
   "outputs": [],
   "source": [
    "cigar_party(70, True)"
   ]
  },
  {
   "cell_type": "code",
   "execution_count": null,
   "id": "718829b8",
   "metadata": {},
   "outputs": [],
   "source": [
    "################################################"
   ]
  },
  {
   "cell_type": "code",
   "execution_count": null,
   "id": "6418bd91",
   "metadata": {},
   "outputs": [],
   "source": [
    "def animal_crackers(text):\n",
    "    words = text.split()\n",
    "    return (words[0][0] == words[1][0])\n",
    "    "
   ]
  },
  {
   "cell_type": "code",
   "execution_count": null,
   "id": "67d41420",
   "metadata": {},
   "outputs": [],
   "source": [
    "animal_crackers('hello harry')"
   ]
  },
  {
   "cell_type": "code",
   "execution_count": null,
   "id": "7f827d41",
   "metadata": {},
   "outputs": [],
   "source": [
    "type(animal_crackers('hello world'))"
   ]
  },
  {
   "cell_type": "code",
   "execution_count": null,
   "id": "7fad6c8b",
   "metadata": {},
   "outputs": [],
   "source": [
    "def makes_twenty(*args):\n",
    "    return (sum(args))"
   ]
  },
  {
   "cell_type": "code",
   "execution_count": null,
   "id": "b155427c",
   "metadata": {},
   "outputs": [],
   "source": [
    "makes_twenty(1,2,3,4,5)"
   ]
  },
  {
   "cell_type": "code",
   "execution_count": null,
   "id": "0bb743cf",
   "metadata": {},
   "outputs": [],
   "source": [
    "def makes_twenty(*args):\n",
    "    return ((sum(args)==20) or (20 in args))"
   ]
  },
  {
   "cell_type": "code",
   "execution_count": null,
   "id": "dab6d509",
   "metadata": {},
   "outputs": [],
   "source": [
    "makes_twenty(10,10)"
   ]
  },
  {
   "cell_type": "code",
   "execution_count": null,
   "id": "4a39a765",
   "metadata": {},
   "outputs": [],
   "source": [
    "def old_macdonald(name):\n",
    "    new_name = ''\n",
    "    new_name = new_name + name[0].upper()\n",
    "    new_name = new_name + name[1:3]\n",
    "    new_name = new_name + name[3].upper()\n",
    "    new_name = new_name + name[4:]\n",
    "    return new_name"
   ]
  },
  {
   "cell_type": "code",
   "execution_count": null,
   "id": "c72618df",
   "metadata": {},
   "outputs": [],
   "source": [
    "old_macdonald('macdonald')"
   ]
  },
  {
   "cell_type": "code",
   "execution_count": null,
   "id": "a8c5dc1e",
   "metadata": {},
   "outputs": [],
   "source": [
    "def master_yoda(text):\n",
    "    old_phrase = text.split()\n",
    "    new_phrase = \" \".join([old_phrase[2],old_phrase[1],old_phrase[0]])\n",
    "    return new_phrase"
   ]
  },
  {
   "cell_type": "code",
   "execution_count": null,
   "id": "643c4e35",
   "metadata": {},
   "outputs": [],
   "source": [
    "master_yoda('I am home')"
   ]
  },
  {
   "cell_type": "code",
   "execution_count": null,
   "id": "67423445",
   "metadata": {},
   "outputs": [],
   "source": [
    "def master_yoda(text):\n",
    "    phrase = text.split()\n",
    "    return phrase[1] + phrase[0]"
   ]
  },
  {
   "cell_type": "code",
   "execution_count": null,
   "id": "5736d298",
   "metadata": {},
   "outputs": [],
   "source": [
    "master_yoda('hello there')"
   ]
  },
  {
   "cell_type": "code",
   "execution_count": null,
   "id": "fab54678",
   "metadata": {},
   "outputs": [],
   "source": [
    "def almost_there(n):\n",
    "    return (((n>=90) or (n>=190)) and ((n<=110) or n<=210))"
   ]
  },
  {
   "cell_type": "code",
   "execution_count": null,
   "id": "50a1b2e5",
   "metadata": {},
   "outputs": [],
   "source": [
    "almost_there(104)"
   ]
  },
  {
   "cell_type": "code",
   "execution_count": null,
   "id": "8578c2d5",
   "metadata": {},
   "outputs": [],
   "source": [
    "def has_33(nums):\n",
    "    check1 = False\n",
    "    check2 = False # if this is true, there are 2 3's next to each other\n",
    "    \n",
    "    for num in nums:\n",
    "        if check1 == True:\n",
    "            if num == 3:\n",
    "                check2 = True\n",
    "            else:\n",
    "                check1 = False\n",
    "        elif num == 3:\n",
    "            check1 = True\n",
    "        \n",
    "    return check2"
   ]
  },
  {
   "cell_type": "code",
   "execution_count": null,
   "id": "5b06ea88",
   "metadata": {},
   "outputs": [],
   "source": [
    "has_33([3, 3, 3])"
   ]
  },
  {
   "cell_type": "code",
   "execution_count": null,
   "id": "39156eab",
   "metadata": {},
   "outputs": [],
   "source": [
    "def paper_doll(text):\n",
    "    new_string = ''\n",
    "    for letter in text:\n",
    "        new_string = new_string + (letter * 3)\n",
    "    return new_string"
   ]
  },
  {
   "cell_type": "code",
   "execution_count": null,
   "id": "950c9298",
   "metadata": {},
   "outputs": [],
   "source": [
    "paper_doll('hello')"
   ]
  },
  {
   "cell_type": "code",
   "execution_count": null,
   "id": "654dfbf3",
   "metadata": {},
   "outputs": [],
   "source": [
    "def blackjack(a,b,c):\n",
    "    if sum([a,b,c]) <=21:\n",
    "        return sum([a,b,c])\n",
    "    else:\n",
    "        if 11 in ([a,b,c]):\n",
    "            return sum([a,b,c]) - 11\n",
    "        else:\n",
    "            return 'BUST'"
   ]
  },
  {
   "cell_type": "code",
   "execution_count": null,
   "id": "2f9026d1",
   "metadata": {},
   "outputs": [],
   "source": [
    "blackjack(7,11,7)"
   ]
  },
  {
   "cell_type": "code",
   "execution_count": 35,
   "id": "7268a6f8",
   "metadata": {},
   "outputs": [],
   "source": [
    "def summer_69(arr):\n",
    "    new_list = []\n",
    "    count = True\n",
    "    \n",
    "    for num in arr:\n",
    "        if num == 6:\n",
    "            count = False\n",
    "        elif num == 9:\n",
    "            count = True\n",
    "        else:\n",
    "            pass\n",
    "        \n",
    "        if count and num != 9:\n",
    "            new_list.append(num)\n",
    "        else:\n",
    "            pass\n",
    "    return sum(new_list)"
   ]
  },
  {
   "cell_type": "code",
   "execution_count": 36,
   "id": "fd834bc3",
   "metadata": {},
   "outputs": [
    {
     "data": {
      "text/plain": [
       "9"
      ]
     },
     "execution_count": 36,
     "metadata": {},
     "output_type": "execute_result"
    }
   ],
   "source": [
    "summer_69([4, 5, 6, 7, 8, 9])"
   ]
  },
  {
   "cell_type": "code",
   "execution_count": 15,
   "id": "b71fe4d8",
   "metadata": {},
   "outputs": [
    {
     "data": {
      "text/plain": [
       "9"
      ]
     },
     "execution_count": 15,
     "metadata": {},
     "output_type": "execute_result"
    }
   ],
   "source": [
    "summer_69([1, 3, 5])"
   ]
  },
  {
   "cell_type": "code",
   "execution_count": 39,
   "id": "758614ae",
   "metadata": {},
   "outputs": [],
   "source": [
    "def spy_game(nums):\n",
    "    index = 0\n",
    "    \n",
    "    for num in nums:\n",
    "        if index+2 <= len(nums):\n",
    "            if nums[index] == 0:\n",
    "                if nums[index+1] == 0:\n",
    "                    if nums[index+2] == 7:\n",
    "                        return True\n",
    "                    else:\n",
    "                        pass\n",
    "                else:\n",
    "                    pass\n",
    "            else:\n",
    "                index += 1\n",
    "        else:\n",
    "            pass\n",
    "    return False"
   ]
  },
  {
   "cell_type": "code",
   "execution_count": 40,
   "id": "51b8c79e",
   "metadata": {},
   "outputs": [
    {
     "data": {
      "text/plain": [
       "True"
      ]
     },
     "execution_count": 40,
     "metadata": {},
     "output_type": "execute_result"
    }
   ],
   "source": [
    "spy_game([1,2,4,0,0,7,5])"
   ]
  },
  {
   "cell_type": "code",
   "execution_count": 86,
   "id": "722751cb",
   "metadata": {},
   "outputs": [],
   "source": [
    "def count_primes(num):\n",
    "    is_prime = False\n",
    "    number_of_primes = 1 # start at 1 to include 2 in the count of prime numbers\n",
    "    print(2)\n",
    "    \n",
    "    for x in range(2,num):\n",
    "        for y in range(2,x):\n",
    "            if x%y==0:\n",
    "                is_prime = False\n",
    "                break\n",
    "            else:\n",
    "                is_prime = True\n",
    "        if is_prime:\n",
    "            number_of_primes += 1\n",
    "            print(x)\n",
    "            \n",
    "    print(number_of_primes)\n",
    "        \n",
    "            "
   ]
  },
  {
   "cell_type": "code",
   "execution_count": 87,
   "id": "d4363dca",
   "metadata": {},
   "outputs": [
    {
     "name": "stdout",
     "output_type": "stream",
     "text": [
      "2\n",
      "3\n",
      "5\n",
      "7\n",
      "11\n",
      "13\n",
      "6\n"
     ]
    }
   ],
   "source": [
    "count_primes(15)"
   ]
  },
  {
   "cell_type": "code",
   "execution_count": 166,
   "id": "c4d1af5b",
   "metadata": {},
   "outputs": [],
   "source": [
    "letters = {'a':'\\n  * \\n*   * \\n*****\\n*   *\\n','b':'\\n***\\n*  *\\n***\\n*  *\\n****\\n','c':'\\n ***\\n*   *\\n*\\n*   *\\n ***\\n','d':'\\n****\\n*   *\\n*   *\\n****\\n','e':'\\n****\\n*\\n**\\n*\\n****\\n'}"
   ]
  },
  {
   "cell_type": "code",
   "execution_count": 167,
   "id": "de2d4ffe",
   "metadata": {},
   "outputs": [
    {
     "name": "stdout",
     "output_type": "stream",
     "text": [
      "\n",
      "  * \n",
      "*   * \n",
      "*****\n",
      "*   *\n",
      " \n",
      "***\n",
      "*  *\n",
      "***\n",
      "*  *\n",
      "****\n",
      " \n",
      " ***\n",
      "*   *\n",
      "*\n",
      "*   *\n",
      " ***\n",
      " \n",
      "****\n",
      "*   *\n",
      "*   *\n",
      "****\n",
      " \n",
      "****\n",
      "*\n",
      "**\n",
      "*\n",
      "****\n",
      "\n"
     ]
    }
   ],
   "source": [
    "print(letters['a'],letters['b'],letters['c'],letters['d'],letters['e'])"
   ]
  },
  {
   "cell_type": "code",
   "execution_count": 158,
   "id": "2a15b733",
   "metadata": {},
   "outputs": [],
   "source": [
    "mydict = {'fruit':'banana','veggie':'kale','nut':'acorn'}"
   ]
  },
  {
   "cell_type": "code",
   "execution_count": 95,
   "id": "e647db89",
   "metadata": {},
   "outputs": [
    {
     "data": {
      "text/plain": [
       "'banana'"
      ]
     },
     "execution_count": 95,
     "metadata": {},
     "output_type": "execute_result"
    }
   ],
   "source": [
    "mydict['fruit']"
   ]
  },
  {
   "cell_type": "code",
   "execution_count": null,
   "id": "65c8b6e0",
   "metadata": {},
   "outputs": [],
   "source": []
  }
 ],
 "metadata": {
  "kernelspec": {
   "display_name": "Python 3 (ipykernel)",
   "language": "python",
   "name": "python3"
  },
  "language_info": {
   "codemirror_mode": {
    "name": "ipython",
    "version": 3
   },
   "file_extension": ".py",
   "mimetype": "text/x-python",
   "name": "python",
   "nbconvert_exporter": "python",
   "pygments_lexer": "ipython3",
   "version": "3.9.13"
  }
 },
 "nbformat": 4,
 "nbformat_minor": 5
}
